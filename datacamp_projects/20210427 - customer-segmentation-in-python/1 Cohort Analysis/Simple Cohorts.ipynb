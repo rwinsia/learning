{
 "cells": [
  {
   "cell_type": "code",
   "execution_count": 1,
   "metadata": {},
   "outputs": [],
   "source": [
    "import pandas as pd"
   ]
  },
  {
   "cell_type": "code",
   "execution_count": 2,
   "metadata": {},
   "outputs": [],
   "source": [
    "df=pd.read_excel('Test.xlsx')"
   ]
  },
  {
   "cell_type": "code",
   "execution_count": 3,
   "metadata": {
    "scrolled": true
   },
   "outputs": [
    {
     "data": {
      "text/html": [
       "<div>\n",
       "<style scoped>\n",
       "    .dataframe tbody tr th:only-of-type {\n",
       "        vertical-align: middle;\n",
       "    }\n",
       "\n",
       "    .dataframe tbody tr th {\n",
       "        vertical-align: top;\n",
       "    }\n",
       "\n",
       "    .dataframe thead th {\n",
       "        text-align: right;\n",
       "    }\n",
       "</style>\n",
       "<table border=\"1\" class=\"dataframe\">\n",
       "  <thead>\n",
       "    <tr style=\"text-align: right;\">\n",
       "      <th></th>\n",
       "      <th>userid</th>\n",
       "      <th>date</th>\n",
       "      <th>price</th>\n",
       "    </tr>\n",
       "  </thead>\n",
       "  <tbody>\n",
       "    <tr>\n",
       "      <th>0</th>\n",
       "      <td>1</td>\n",
       "      <td>2021-01-04</td>\n",
       "      <td>2701562</td>\n",
       "    </tr>\n",
       "    <tr>\n",
       "      <th>1</th>\n",
       "      <td>2</td>\n",
       "      <td>2021-06-04</td>\n",
       "      <td>3973551</td>\n",
       "    </tr>\n",
       "    <tr>\n",
       "      <th>2</th>\n",
       "      <td>3</td>\n",
       "      <td>2021-09-09</td>\n",
       "      <td>1018105</td>\n",
       "    </tr>\n",
       "    <tr>\n",
       "      <th>3</th>\n",
       "      <td>4</td>\n",
       "      <td>2021-03-31</td>\n",
       "      <td>1844170</td>\n",
       "    </tr>\n",
       "    <tr>\n",
       "      <th>4</th>\n",
       "      <td>1</td>\n",
       "      <td>2021-05-05</td>\n",
       "      <td>4334599</td>\n",
       "    </tr>\n",
       "  </tbody>\n",
       "</table>\n",
       "</div>"
      ],
      "text/plain": [
       "   userid       date    price\n",
       "0       1 2021-01-04  2701562\n",
       "1       2 2021-06-04  3973551\n",
       "2       3 2021-09-09  1018105\n",
       "3       4 2021-03-31  1844170\n",
       "4       1 2021-05-05  4334599"
      ]
     },
     "execution_count": 3,
     "metadata": {},
     "output_type": "execute_result"
    }
   ],
   "source": [
    "df.head()"
   ]
  },
  {
   "cell_type": "code",
   "execution_count": 4,
   "metadata": {},
   "outputs": [],
   "source": [
    "# function to trunc date (month)\n",
    "def get_month(x): return dt.datetime(x.year,x.month,1)"
   ]
  },
  {
   "cell_type": "code",
   "execution_count": 5,
   "metadata": {},
   "outputs": [],
   "source": [
    "import datetime as dt\n",
    "# add 1 column to df, value : trunced date\n",
    "df['date_trunced']=df['date'].apply(get_month)"
   ]
  },
  {
   "cell_type": "code",
   "execution_count": 6,
   "metadata": {
    "scrolled": false
   },
   "outputs": [
    {
     "data": {
      "text/html": [
       "<div>\n",
       "<style scoped>\n",
       "    .dataframe tbody tr th:only-of-type {\n",
       "        vertical-align: middle;\n",
       "    }\n",
       "\n",
       "    .dataframe tbody tr th {\n",
       "        vertical-align: top;\n",
       "    }\n",
       "\n",
       "    .dataframe thead th {\n",
       "        text-align: right;\n",
       "    }\n",
       "</style>\n",
       "<table border=\"1\" class=\"dataframe\">\n",
       "  <thead>\n",
       "    <tr style=\"text-align: right;\">\n",
       "      <th></th>\n",
       "      <th>userid</th>\n",
       "      <th>date</th>\n",
       "      <th>price</th>\n",
       "      <th>date_trunced</th>\n",
       "    </tr>\n",
       "  </thead>\n",
       "  <tbody>\n",
       "    <tr>\n",
       "      <th>0</th>\n",
       "      <td>1</td>\n",
       "      <td>2021-01-04</td>\n",
       "      <td>2701562</td>\n",
       "      <td>2021-01-01</td>\n",
       "    </tr>\n",
       "    <tr>\n",
       "      <th>1</th>\n",
       "      <td>2</td>\n",
       "      <td>2021-06-04</td>\n",
       "      <td>3973551</td>\n",
       "      <td>2021-06-01</td>\n",
       "    </tr>\n",
       "    <tr>\n",
       "      <th>2</th>\n",
       "      <td>3</td>\n",
       "      <td>2021-09-09</td>\n",
       "      <td>1018105</td>\n",
       "      <td>2021-09-01</td>\n",
       "    </tr>\n",
       "    <tr>\n",
       "      <th>3</th>\n",
       "      <td>4</td>\n",
       "      <td>2021-03-31</td>\n",
       "      <td>1844170</td>\n",
       "      <td>2021-03-01</td>\n",
       "    </tr>\n",
       "    <tr>\n",
       "      <th>4</th>\n",
       "      <td>1</td>\n",
       "      <td>2021-05-05</td>\n",
       "      <td>4334599</td>\n",
       "      <td>2021-05-01</td>\n",
       "    </tr>\n",
       "  </tbody>\n",
       "</table>\n",
       "</div>"
      ],
      "text/plain": [
       "   userid       date    price date_trunced\n",
       "0       1 2021-01-04  2701562   2021-01-01\n",
       "1       2 2021-06-04  3973551   2021-06-01\n",
       "2       3 2021-09-09  1018105   2021-09-01\n",
       "3       4 2021-03-31  1844170   2021-03-01\n",
       "4       1 2021-05-05  4334599   2021-05-01"
      ]
     },
     "execution_count": 6,
     "metadata": {},
     "output_type": "execute_result"
    }
   ],
   "source": [
    "df.head()"
   ]
  },
  {
   "cell_type": "code",
   "execution_count": 7,
   "metadata": {},
   "outputs": [
    {
     "name": "stdout",
     "output_type": "stream",
     "text": [
      "<pandas.core.groupby.generic.SeriesGroupBy object at 0x00000168A20499D0>\n",
      "----\n",
      "0   2021-01-01\n",
      "4   2021-05-01\n",
      "8   2021-03-01\n",
      "Name: date_trunced, dtype: datetime64[ns]\n",
      "1   2021-06-01\n",
      "5   2021-02-01\n",
      "9   2021-01-01\n",
      "Name: date_trunced, dtype: datetime64[ns]\n",
      "2    2021-09-01\n",
      "6    2021-02-01\n",
      "10   2021-03-01\n",
      "Name: date_trunced, dtype: datetime64[ns]\n",
      "3   2021-03-01\n",
      "7   2021-04-01\n",
      "Name: date_trunced, dtype: datetime64[ns]\n"
     ]
    }
   ],
   "source": [
    "# Code ini sepertinya create series by userId\n",
    "# group by userid then select date_trunced\n",
    "grouping = df.groupby('userid')['date_trunced']\n",
    "print(grouping)\n",
    "print('----')\n",
    "for key, item in grouping:\n",
    "    print(grouping.get_group(key))\n"
   ]
  },
  {
   "cell_type": "code",
   "execution_count": 8,
   "metadata": {},
   "outputs": [
    {
     "data": {
      "text/html": [
       "<div>\n",
       "<style scoped>\n",
       "    .dataframe tbody tr th:only-of-type {\n",
       "        vertical-align: middle;\n",
       "    }\n",
       "\n",
       "    .dataframe tbody tr th {\n",
       "        vertical-align: top;\n",
       "    }\n",
       "\n",
       "    .dataframe thead th {\n",
       "        text-align: right;\n",
       "    }\n",
       "</style>\n",
       "<table border=\"1\" class=\"dataframe\">\n",
       "  <thead>\n",
       "    <tr style=\"text-align: right;\">\n",
       "      <th></th>\n",
       "      <th>userid</th>\n",
       "      <th>date</th>\n",
       "      <th>price</th>\n",
       "      <th>date_trunced</th>\n",
       "      <th>CohortMonth</th>\n",
       "    </tr>\n",
       "  </thead>\n",
       "  <tbody>\n",
       "    <tr>\n",
       "      <th>0</th>\n",
       "      <td>1</td>\n",
       "      <td>2021-01-04</td>\n",
       "      <td>2701562</td>\n",
       "      <td>2021-01-01</td>\n",
       "      <td>2021-01-01</td>\n",
       "    </tr>\n",
       "    <tr>\n",
       "      <th>1</th>\n",
       "      <td>2</td>\n",
       "      <td>2021-06-04</td>\n",
       "      <td>3973551</td>\n",
       "      <td>2021-06-01</td>\n",
       "      <td>2021-01-01</td>\n",
       "    </tr>\n",
       "    <tr>\n",
       "      <th>2</th>\n",
       "      <td>3</td>\n",
       "      <td>2021-09-09</td>\n",
       "      <td>1018105</td>\n",
       "      <td>2021-09-01</td>\n",
       "      <td>2021-02-01</td>\n",
       "    </tr>\n",
       "    <tr>\n",
       "      <th>3</th>\n",
       "      <td>4</td>\n",
       "      <td>2021-03-31</td>\n",
       "      <td>1844170</td>\n",
       "      <td>2021-03-01</td>\n",
       "      <td>2021-03-01</td>\n",
       "    </tr>\n",
       "    <tr>\n",
       "      <th>4</th>\n",
       "      <td>1</td>\n",
       "      <td>2021-05-05</td>\n",
       "      <td>4334599</td>\n",
       "      <td>2021-05-01</td>\n",
       "      <td>2021-01-01</td>\n",
       "    </tr>\n",
       "    <tr>\n",
       "      <th>5</th>\n",
       "      <td>2</td>\n",
       "      <td>2021-02-02</td>\n",
       "      <td>4677504</td>\n",
       "      <td>2021-02-01</td>\n",
       "      <td>2021-01-01</td>\n",
       "    </tr>\n",
       "    <tr>\n",
       "      <th>6</th>\n",
       "      <td>3</td>\n",
       "      <td>2021-02-04</td>\n",
       "      <td>3154982</td>\n",
       "      <td>2021-02-01</td>\n",
       "      <td>2021-02-01</td>\n",
       "    </tr>\n",
       "    <tr>\n",
       "      <th>7</th>\n",
       "      <td>4</td>\n",
       "      <td>2021-04-27</td>\n",
       "      <td>2650057</td>\n",
       "      <td>2021-04-01</td>\n",
       "      <td>2021-03-01</td>\n",
       "    </tr>\n",
       "    <tr>\n",
       "      <th>8</th>\n",
       "      <td>1</td>\n",
       "      <td>2021-03-28</td>\n",
       "      <td>4388127</td>\n",
       "      <td>2021-03-01</td>\n",
       "      <td>2021-01-01</td>\n",
       "    </tr>\n",
       "    <tr>\n",
       "      <th>9</th>\n",
       "      <td>2</td>\n",
       "      <td>2021-01-30</td>\n",
       "      <td>3583194</td>\n",
       "      <td>2021-01-01</td>\n",
       "      <td>2021-01-01</td>\n",
       "    </tr>\n",
       "    <tr>\n",
       "      <th>10</th>\n",
       "      <td>3</td>\n",
       "      <td>2021-03-24</td>\n",
       "      <td>2548684</td>\n",
       "      <td>2021-03-01</td>\n",
       "      <td>2021-02-01</td>\n",
       "    </tr>\n",
       "  </tbody>\n",
       "</table>\n",
       "</div>"
      ],
      "text/plain": [
       "    userid       date    price date_trunced CohortMonth\n",
       "0        1 2021-01-04  2701562   2021-01-01  2021-01-01\n",
       "1        2 2021-06-04  3973551   2021-06-01  2021-01-01\n",
       "2        3 2021-09-09  1018105   2021-09-01  2021-02-01\n",
       "3        4 2021-03-31  1844170   2021-03-01  2021-03-01\n",
       "4        1 2021-05-05  4334599   2021-05-01  2021-01-01\n",
       "5        2 2021-02-02  4677504   2021-02-01  2021-01-01\n",
       "6        3 2021-02-04  3154982   2021-02-01  2021-02-01\n",
       "7        4 2021-04-27  2650057   2021-04-01  2021-03-01\n",
       "8        1 2021-03-28  4388127   2021-03-01  2021-01-01\n",
       "9        2 2021-01-30  3583194   2021-01-01  2021-01-01\n",
       "10       3 2021-03-24  2548684   2021-03-01  2021-02-01"
      ]
     },
     "execution_count": 8,
     "metadata": {},
     "output_type": "execute_result"
    }
   ],
   "source": [
    "# Code ini sepertinya take min value from previous created series\n",
    "df['CohortMonth']=grouping.transform('min')\n",
    "df"
   ]
  },
  {
   "cell_type": "code",
   "execution_count": 9,
   "metadata": {
    "scrolled": true
   },
   "outputs": [],
   "source": [
    "# Function to get year,month,day\n",
    "def get_date_int(df,column) : \n",
    "\tyear=df[column].dt.year\n",
    "\tmonth=df[column].dt.month\n",
    "\tday=df[column].dt.day\n",
    "\treturn year,month,day\n",
    "\n",
    "# bisa gini juga\n",
    "# def get_day(x): return dt.datetime(x.year, x.month, x.day)"
   ]
  },
  {
   "cell_type": "code",
   "execution_count": 10,
   "metadata": {},
   "outputs": [
    {
     "name": "stdout",
     "output_type": "stream",
     "text": [
      "    userid       date    price date_trunced CohortMonth  CohortIndex\n",
      "0        1 2021-01-04  2701562   2021-01-01  2021-01-01            1\n",
      "1        2 2021-06-04  3973551   2021-06-01  2021-01-01            6\n",
      "2        3 2021-09-09  1018105   2021-09-01  2021-02-01            8\n",
      "3        4 2021-03-31  1844170   2021-03-01  2021-03-01            1\n",
      "4        1 2021-05-05  4334599   2021-05-01  2021-01-01            5\n",
      "5        2 2021-02-02  4677504   2021-02-01  2021-01-01            2\n",
      "6        3 2021-02-04  3154982   2021-02-01  2021-02-01            1\n",
      "7        4 2021-04-27  2650057   2021-04-01  2021-03-01            2\n",
      "8        1 2021-03-28  4388127   2021-03-01  2021-01-01            3\n",
      "9        2 2021-01-30  3583194   2021-01-01  2021-01-01            1\n",
      "10       3 2021-03-24  2548684   2021-03-01  2021-02-01            2\n"
     ]
    }
   ],
   "source": [
    "dt_year,dt_month, _ = get_date_int(df,'date')\n",
    "cohort_year,cohort_month, _ = get_date_int(df,'CohortMonth')\n",
    "\n",
    "years_diff=dt_year - cohort_year\n",
    "month_diff=dt_month - cohort_month\n",
    "\n",
    "df['CohortIndex'] = years_diff * 12 + month_diff  + 1\n",
    "print(df)"
   ]
  },
  {
   "cell_type": "code",
   "execution_count": 11,
   "metadata": {},
   "outputs": [
    {
     "name": "stdout",
     "output_type": "stream",
     "text": [
      "<pandas.core.groupby.generic.DataFrameGroupBy object at 0x00000168A20491F0>\n",
      "----\n",
      "   userid       date    price date_trunced CohortMonth  CohortIndex\n",
      "0       1 2021-01-04  2701562   2021-01-01  2021-01-01            1\n",
      "9       2 2021-01-30  3583194   2021-01-01  2021-01-01            1\n",
      "   userid       date    price date_trunced CohortMonth  CohortIndex\n",
      "5       2 2021-02-02  4677504   2021-02-01  2021-01-01            2\n",
      "   userid       date    price date_trunced CohortMonth  CohortIndex\n",
      "8       1 2021-03-28  4388127   2021-03-01  2021-01-01            3\n",
      "   userid       date    price date_trunced CohortMonth  CohortIndex\n",
      "4       1 2021-05-05  4334599   2021-05-01  2021-01-01            5\n",
      "   userid       date    price date_trunced CohortMonth  CohortIndex\n",
      "1       2 2021-06-04  3973551   2021-06-01  2021-01-01            6\n",
      "   userid       date    price date_trunced CohortMonth  CohortIndex\n",
      "6       3 2021-02-04  3154982   2021-02-01  2021-02-01            1\n",
      "    userid       date    price date_trunced CohortMonth  CohortIndex\n",
      "10       3 2021-03-24  2548684   2021-03-01  2021-02-01            2\n",
      "   userid       date    price date_trunced CohortMonth  CohortIndex\n",
      "2       3 2021-09-09  1018105   2021-09-01  2021-02-01            8\n",
      "   userid       date    price date_trunced CohortMonth  CohortIndex\n",
      "3       4 2021-03-31  1844170   2021-03-01  2021-03-01            1\n",
      "   userid       date    price date_trunced CohortMonth  CohortIndex\n",
      "7       4 2021-04-27  2650057   2021-04-01  2021-03-01            2\n"
     ]
    }
   ],
   "source": [
    "grouping2 = df.groupby(['CohortMonth','CohortIndex'])\n",
    "\n",
    "print(grouping2)\n",
    "print('----')\n",
    "for key, item in grouping2:\n",
    "    print(grouping2.get_group(key))\n"
   ]
  },
  {
   "cell_type": "code",
   "execution_count": 12,
   "metadata": {},
   "outputs": [
    {
     "name": "stdout",
     "output_type": "stream",
     "text": [
      "<pandas.core.groupby.generic.SeriesGroupBy object at 0x00000168A2049490>\n",
      "----\n",
      "0    1\n",
      "9    2\n",
      "Name: userid, dtype: int64\n",
      "5    2\n",
      "Name: userid, dtype: int64\n",
      "8    1\n",
      "Name: userid, dtype: int64\n",
      "4    1\n",
      "Name: userid, dtype: int64\n",
      "1    2\n",
      "Name: userid, dtype: int64\n",
      "6    3\n",
      "Name: userid, dtype: int64\n",
      "10    3\n",
      "Name: userid, dtype: int64\n",
      "2    3\n",
      "Name: userid, dtype: int64\n",
      "3    4\n",
      "Name: userid, dtype: int64\n",
      "7    4\n",
      "Name: userid, dtype: int64\n"
     ]
    }
   ],
   "source": [
    "print(grouping2['userid'])\n",
    "print('----')\n",
    "for key, item in grouping2['userid']:\n",
    "    print(grouping2['userid'].get_group(key))"
   ]
  },
  {
   "cell_type": "code",
   "execution_count": 13,
   "metadata": {},
   "outputs": [
    {
     "data": {
      "text/plain": [
       "CohortMonth  CohortIndex\n",
       "2021-01-01   1              2\n",
       "             2              1\n",
       "             3              1\n",
       "             5              1\n",
       "             6              1\n",
       "2021-02-01   1              1\n",
       "             2              1\n",
       "             8              1\n",
       "2021-03-01   1              1\n",
       "             2              1\n",
       "Name: userid, dtype: int64"
      ]
     },
     "execution_count": 13,
     "metadata": {},
     "output_type": "execute_result"
    }
   ],
   "source": [
    "# count userid?\n",
    "cohort_data = grouping2['userid'].apply(pd.Series.nunique)\n",
    "cohort_data"
   ]
  },
  {
   "cell_type": "code",
   "execution_count": 14,
   "metadata": {},
   "outputs": [
    {
     "data": {
      "text/html": [
       "<div>\n",
       "<style scoped>\n",
       "    .dataframe tbody tr th:only-of-type {\n",
       "        vertical-align: middle;\n",
       "    }\n",
       "\n",
       "    .dataframe tbody tr th {\n",
       "        vertical-align: top;\n",
       "    }\n",
       "\n",
       "    .dataframe thead th {\n",
       "        text-align: right;\n",
       "    }\n",
       "</style>\n",
       "<table border=\"1\" class=\"dataframe\">\n",
       "  <thead>\n",
       "    <tr style=\"text-align: right;\">\n",
       "      <th></th>\n",
       "      <th>CohortMonth</th>\n",
       "      <th>CohortIndex</th>\n",
       "      <th>userid</th>\n",
       "    </tr>\n",
       "  </thead>\n",
       "  <tbody>\n",
       "    <tr>\n",
       "      <th>0</th>\n",
       "      <td>2021-01-01</td>\n",
       "      <td>1</td>\n",
       "      <td>2</td>\n",
       "    </tr>\n",
       "    <tr>\n",
       "      <th>1</th>\n",
       "      <td>2021-01-01</td>\n",
       "      <td>2</td>\n",
       "      <td>1</td>\n",
       "    </tr>\n",
       "    <tr>\n",
       "      <th>2</th>\n",
       "      <td>2021-01-01</td>\n",
       "      <td>3</td>\n",
       "      <td>1</td>\n",
       "    </tr>\n",
       "    <tr>\n",
       "      <th>3</th>\n",
       "      <td>2021-01-01</td>\n",
       "      <td>5</td>\n",
       "      <td>1</td>\n",
       "    </tr>\n",
       "    <tr>\n",
       "      <th>4</th>\n",
       "      <td>2021-01-01</td>\n",
       "      <td>6</td>\n",
       "      <td>1</td>\n",
       "    </tr>\n",
       "    <tr>\n",
       "      <th>5</th>\n",
       "      <td>2021-02-01</td>\n",
       "      <td>1</td>\n",
       "      <td>1</td>\n",
       "    </tr>\n",
       "    <tr>\n",
       "      <th>6</th>\n",
       "      <td>2021-02-01</td>\n",
       "      <td>2</td>\n",
       "      <td>1</td>\n",
       "    </tr>\n",
       "    <tr>\n",
       "      <th>7</th>\n",
       "      <td>2021-02-01</td>\n",
       "      <td>8</td>\n",
       "      <td>1</td>\n",
       "    </tr>\n",
       "    <tr>\n",
       "      <th>8</th>\n",
       "      <td>2021-03-01</td>\n",
       "      <td>1</td>\n",
       "      <td>1</td>\n",
       "    </tr>\n",
       "    <tr>\n",
       "      <th>9</th>\n",
       "      <td>2021-03-01</td>\n",
       "      <td>2</td>\n",
       "      <td>1</td>\n",
       "    </tr>\n",
       "  </tbody>\n",
       "</table>\n",
       "</div>"
      ],
      "text/plain": [
       "  CohortMonth  CohortIndex  userid\n",
       "0  2021-01-01            1       2\n",
       "1  2021-01-01            2       1\n",
       "2  2021-01-01            3       1\n",
       "3  2021-01-01            5       1\n",
       "4  2021-01-01            6       1\n",
       "5  2021-02-01            1       1\n",
       "6  2021-02-01            2       1\n",
       "7  2021-02-01            8       1\n",
       "8  2021-03-01            1       1\n",
       "9  2021-03-01            2       1"
      ]
     },
     "execution_count": 14,
     "metadata": {},
     "output_type": "execute_result"
    }
   ],
   "source": [
    "cohort_data = cohort_data.reset_index()\n",
    "cohort_data"
   ]
  },
  {
   "cell_type": "code",
   "execution_count": 15,
   "metadata": {},
   "outputs": [
    {
     "name": "stdout",
     "output_type": "stream",
     "text": [
      "CohortIndex    1    2    3    5    6    8\n",
      "CohortMonth                              \n",
      "2021-01-01   2.0  1.0  1.0  1.0  1.0  NaN\n",
      "2021-02-01   1.0  1.0  NaN  NaN  NaN  1.0\n",
      "2021-03-01   1.0  1.0  NaN  NaN  NaN  NaN\n"
     ]
    }
   ],
   "source": [
    "# pivot function return table \n",
    "# or Return reshaped DataFrame organized by given index / column values.\n",
    "cohort_counts = cohort_data.pivot(index='CohortMonth'\n",
    "                                  , columns='CohortIndex'\n",
    "                                  ,values='userid')\n",
    "print(cohort_counts)"
   ]
  },
  {
   "cell_type": "markdown",
   "metadata": {},
   "source": [
    "<h2>Cohort Analysis</h2>"
   ]
  },
  {
   "cell_type": "code",
   "execution_count": 20,
   "metadata": {},
   "outputs": [
    {
     "name": "stdout",
     "output_type": "stream",
     "text": [
      "CohortMonth\n",
      "2021-01-01    2.0\n",
      "2021-02-01    1.0\n",
      "2021-03-01    1.0\n",
      "Name: 1, dtype: float64\n"
     ]
    }
   ],
   "source": [
    "# Take all rows in 1st column\n",
    "cohort_sizes = cohort_counts.iloc[:,0]\n",
    "print(cohort_sizes)"
   ]
  },
  {
   "cell_type": "code",
   "execution_count": 19,
   "metadata": {},
   "outputs": [
    {
     "name": "stdout",
     "output_type": "stream",
     "text": [
      "CohortIndex    1    2    3    5    6    8\n",
      "CohortMonth                              \n",
      "2021-01-01   1.0  0.5  0.5  0.5  0.5  NaN\n",
      "2021-02-01   1.0  1.0  NaN  NaN  NaN  1.0\n",
      "2021-03-01   1.0  1.0  NaN  NaN  NaN  NaN\n",
      "             2021-01-01 00:00:00  2021-02-01 00:00:00  2021-03-01 00:00:00  \\\n",
      "CohortMonth                                                                  \n",
      "2021-01-01                   NaN                  NaN                  NaN   \n",
      "2021-02-01                   NaN                  NaN                  NaN   \n",
      "2021-03-01                   NaN                  NaN                  NaN   \n",
      "\n",
      "              1   2   3   5   6   8  \n",
      "CohortMonth                          \n",
      "2021-01-01  NaN NaN NaN NaN NaN NaN  \n",
      "2021-02-01  NaN NaN NaN NaN NaN NaN  \n",
      "2021-03-01  NaN NaN NaN NaN NaN NaN  \n"
     ]
    }
   ],
   "source": [
    "# divide all rows with cohort_sizes\n",
    "# axis 0 -> pembagi adalah 1 column set of data, so data in 1 rows divided by same number\n",
    "# axis 1 / 'columns' -> pembagi adalah 1 rows set of data, so data in 1 columns divided by same number\n",
    "retention = cohort_counts.divide(cohort_sizes, axis=0)\n",
    "retention_1 = cohort_counts.divide(cohort_sizes, axis=1)\n",
    "print(retention)\n",
    "print(retention_1)"
   ]
  },
  {
   "cell_type": "code",
   "execution_count": 23,
   "metadata": {},
   "outputs": [
    {
     "name": "stdout",
     "output_type": "stream",
     "text": [
      "CohortIndex      1      2     3     5     6      8\n",
      "CohortMonth                                       \n",
      "2021-01-01   100.0   50.0  50.0  50.0  50.0    NaN\n",
      "2021-02-01   100.0  100.0   NaN   NaN   NaN  100.0\n",
      "2021-03-01   100.0  100.0   NaN   NaN   NaN    NaN\n"
     ]
    }
   ],
   "source": [
    "retention = retention.round(3)*100\n",
    "print(retention)"
   ]
  },
  {
   "cell_type": "code",
   "execution_count": 29,
   "metadata": {},
   "outputs": [
    {
     "name": "stdout",
     "output_type": "stream",
     "text": [
      "   userid       date    price date_trunced CohortMonth  CohortIndex\n",
      "0       1 2021-01-04  2701562   2021-01-01  2021-01-01            1\n",
      "9       2 2021-01-30  3583194   2021-01-01  2021-01-01            1\n",
      "   userid       date    price date_trunced CohortMonth  CohortIndex\n",
      "5       2 2021-02-02  4677504   2021-02-01  2021-01-01            2\n",
      "   userid       date    price date_trunced CohortMonth  CohortIndex\n",
      "8       1 2021-03-28  4388127   2021-03-01  2021-01-01            3\n",
      "   userid       date    price date_trunced CohortMonth  CohortIndex\n",
      "4       1 2021-05-05  4334599   2021-05-01  2021-01-01            5\n",
      "   userid       date    price date_trunced CohortMonth  CohortIndex\n",
      "1       2 2021-06-04  3973551   2021-06-01  2021-01-01            6\n",
      "   userid       date    price date_trunced CohortMonth  CohortIndex\n",
      "6       3 2021-02-04  3154982   2021-02-01  2021-02-01            1\n",
      "    userid       date    price date_trunced CohortMonth  CohortIndex\n",
      "10       3 2021-03-24  2548684   2021-03-01  2021-02-01            2\n",
      "   userid       date    price date_trunced CohortMonth  CohortIndex\n",
      "2       3 2021-09-09  1018105   2021-09-01  2021-02-01            8\n",
      "   userid       date    price date_trunced CohortMonth  CohortIndex\n",
      "3       4 2021-03-31  1844170   2021-03-01  2021-03-01            1\n",
      "   userid       date    price date_trunced CohortMonth  CohortIndex\n",
      "7       4 2021-04-27  2650057   2021-04-01  2021-03-01            2\n"
     ]
    }
   ],
   "source": [
    "grouping_3 = df.groupby(['CohortMonth','CohortIndex'])\n",
    "for key, item in grouping_3:\n",
    "    print(grouping_3.get_group(key))"
   ]
  },
  {
   "cell_type": "code",
   "execution_count": 26,
   "metadata": {},
   "outputs": [
    {
     "name": "stdout",
     "output_type": "stream",
     "text": [
      "CohortMonth  CohortIndex\n",
      "2021-01-01   1              3142378\n",
      "             2              4677504\n",
      "             3              4388127\n",
      "             5              4334599\n",
      "             6              3973551\n",
      "2021-02-01   1              3154982\n",
      "             2              2548684\n",
      "             8              1018105\n",
      "2021-03-01   1              1844170\n",
      "             2              2650057\n",
      "Name: price, dtype: int64\n"
     ]
    }
   ],
   "source": [
    "cohort_data_avg = grouping_3['price'].mean()\n",
    "print(cohort_data_avg)"
   ]
  },
  {
   "cell_type": "code",
   "execution_count": 27,
   "metadata": {},
   "outputs": [
    {
     "name": "stdout",
     "output_type": "stream",
     "text": [
      "  CohortMonth  CohortIndex    price\n",
      "0  2021-01-01            1  3142378\n",
      "1  2021-01-01            2  4677504\n",
      "2  2021-01-01            3  4388127\n",
      "3  2021-01-01            5  4334599\n",
      "4  2021-01-01            6  3973551\n",
      "5  2021-02-01            1  3154982\n",
      "6  2021-02-01            2  2548684\n",
      "7  2021-02-01            8  1018105\n",
      "8  2021-03-01            1  1844170\n",
      "9  2021-03-01            2  2650057\n"
     ]
    }
   ],
   "source": [
    "cohort_data_avg=cohort_data_avg.reset_index()\n",
    "print(cohort_data_avg)"
   ]
  },
  {
   "cell_type": "code",
   "execution_count": 28,
   "metadata": {},
   "outputs": [
    {
     "data": {
      "text/html": [
       "<div>\n",
       "<style scoped>\n",
       "    .dataframe tbody tr th:only-of-type {\n",
       "        vertical-align: middle;\n",
       "    }\n",
       "\n",
       "    .dataframe tbody tr th {\n",
       "        vertical-align: top;\n",
       "    }\n",
       "\n",
       "    .dataframe thead th {\n",
       "        text-align: right;\n",
       "    }\n",
       "</style>\n",
       "<table border=\"1\" class=\"dataframe\">\n",
       "  <thead>\n",
       "    <tr style=\"text-align: right;\">\n",
       "      <th>CohortIndex</th>\n",
       "      <th>1</th>\n",
       "      <th>2</th>\n",
       "      <th>3</th>\n",
       "      <th>5</th>\n",
       "      <th>6</th>\n",
       "      <th>8</th>\n",
       "    </tr>\n",
       "    <tr>\n",
       "      <th>CohortMonth</th>\n",
       "      <th></th>\n",
       "      <th></th>\n",
       "      <th></th>\n",
       "      <th></th>\n",
       "      <th></th>\n",
       "      <th></th>\n",
       "    </tr>\n",
       "  </thead>\n",
       "  <tbody>\n",
       "    <tr>\n",
       "      <th>2021-01-01</th>\n",
       "      <td>3142378.0</td>\n",
       "      <td>4677504.0</td>\n",
       "      <td>4388127.0</td>\n",
       "      <td>4334599.0</td>\n",
       "      <td>3973551.0</td>\n",
       "      <td>NaN</td>\n",
       "    </tr>\n",
       "    <tr>\n",
       "      <th>2021-02-01</th>\n",
       "      <td>3154982.0</td>\n",
       "      <td>2548684.0</td>\n",
       "      <td>NaN</td>\n",
       "      <td>NaN</td>\n",
       "      <td>NaN</td>\n",
       "      <td>1018105.0</td>\n",
       "    </tr>\n",
       "    <tr>\n",
       "      <th>2021-03-01</th>\n",
       "      <td>1844170.0</td>\n",
       "      <td>2650057.0</td>\n",
       "      <td>NaN</td>\n",
       "      <td>NaN</td>\n",
       "      <td>NaN</td>\n",
       "      <td>NaN</td>\n",
       "    </tr>\n",
       "  </tbody>\n",
       "</table>\n",
       "</div>"
      ],
      "text/plain": [
       "CohortIndex          1          2          3          5          6          8\n",
       "CohortMonth                                                                  \n",
       "2021-01-01   3142378.0  4677504.0  4388127.0  4334599.0  3973551.0        NaN\n",
       "2021-02-01   3154982.0  2548684.0        NaN        NaN        NaN  1018105.0\n",
       "2021-03-01   1844170.0  2650057.0        NaN        NaN        NaN        NaN"
      ]
     },
     "execution_count": 28,
     "metadata": {},
     "output_type": "execute_result"
    }
   ],
   "source": [
    "avg_price = cohort_data_avg.pivot(index='CohortMonth',\n",
    "                                 columns='CohortIndex',\n",
    "                                  values='price')\n",
    "avg_price.round(1)"
   ]
  },
  {
   "cell_type": "markdown",
   "metadata": {},
   "source": [
    "<h2>Visualizing Cohort with heatmap (use seaborn)</h2>"
   ]
  },
  {
   "cell_type": "code",
   "execution_count": 30,
   "metadata": {},
   "outputs": [
    {
     "data": {
      "image/png": "[encoded data removed]",
      "text/plain": [
       "<Figure size 720x576 with 2 Axes>"
      ]
     },
     "metadata": {
      "needs_background": "light"
     },
     "output_type": "display_data"
    }
   ],
   "source": [
    "import seaborn as sns\n",
    "import matplotlib.pyplot as plt\n",
    "plt.figure(figsize=(10,8)) # define width height in inch\n",
    "plt.title('Retention Rates')\n",
    "sns.heatmap(data = retention, \n",
    "           annot = True, # annotation\n",
    "           fmt = '.0%', # define format as (%) with 1 decimal value\n",
    "           vmin = 0.0, # used to anchor the colormap \n",
    "           vmax=0.5, # and make sure the outliers don't impact the visualization\n",
    "           cmap='BuGn' # set color green\n",
    "           )\n",
    "plt.show()"
   ]
  }
 ],
 "metadata": {
  "kernelspec": {
   "display_name": "Python 3",
   "language": "python",
   "name": "python3"
  },
  "language_info": {
   "codemirror_mode": {
    "name": "ipython",
    "version": 3
   },
   "file_extension": ".py",
   "mimetype": "text/x-python",
   "name": "python",
   "nbconvert_exporter": "python",
   "pygments_lexer": "ipython3",
   "version": "3.8.3"
  }
 },
 "nbformat": 4,
 "nbformat_minor": 4
}
