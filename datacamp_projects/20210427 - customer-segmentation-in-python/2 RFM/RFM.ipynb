{
 "cells": [
  {
   "cell_type": "code",
   "execution_count": null,
   "metadata": {},
   "outputs": [],
   "source": [
    "import pandas as pd"
   ]
  },
  {
   "cell_type": "code",
   "execution_count": null,
   "metadata": {
    "scrolled": true
   },
   "outputs": [],
   "source": [
    "df = pd.read_csv('Property_Sales.csv')\n",
    "df.head()"
   ]
  },
  {
   "cell_type": "code",
   "execution_count": null,
   "metadata": {
    "scrolled": true
   },
   "outputs": [],
   "source": [
    "df.dtypes"
   ]
  },
  {
   "cell_type": "code",
   "execution_count": null,
   "metadata": {
    "scrolled": true
   },
   "outputs": [],
   "source": [
    "df.describe()"
   ]
  },
  {
   "cell_type": "markdown",
   "metadata": {},
   "source": [
    "recency : sale_date\n",
    "frequency : \n",
    "monetization : sale_price"
   ]
  },
  {
   "cell_type": "code",
   "execution_count": null,
   "metadata": {
    "scrolled": true
   },
   "outputs": [],
   "source": [
    "# Get data for 2020\n",
    "df_2020 = df[(df['sale_date']>='2020/01/01') & (df['sale_date']<='2020/12/31')].copy()\n",
    "# Add column sale_datetime -> convert column sale_date to datetime type\n",
    "df_2020['sale_datetime'] = pd.to_datetime(df_2020['sale_date'].str[:10], format='%Y/%m/%d')\n",
    "# 2011/02/03 00:00:00+00"
   ]
  },
  {
   "cell_type": "code",
   "execution_count": null,
   "metadata": {},
   "outputs": [],
   "source": [
    "df_2020.head()"
   ]
  },
  {
   "cell_type": "code",
   "execution_count": null,
   "metadata": {},
   "outputs": [],
   "source": [
    "print('Min:{}; Max:{}'.format(min(df_2020.sale_datetime),\n",
    "                            max(df_2020.sale_datetime)))"
   ]
  },
  {
   "cell_type": "code",
   "execution_count": null,
   "metadata": {},
   "outputs": [],
   "source": [
    "import datetime as dt\n",
    "snapshot_date = max(df_2020.sale_datetime) + dt.timedelta(days=1)\n",
    "print(snapshot_date)"
   ]
  },
  {
   "cell_type": "code",
   "execution_count": null,
   "metadata": {},
   "outputs": [],
   "source": [
    "# aggregate data on address level\n",
    "# datamart = df_2020.groupby(['address']).count()\n",
    "datamart = df_2020.groupby(['address']).agg({\n",
    "    'sale_datetime': lambda x: (snapshot_date - x.max()).days,\n",
    "    'sale_price' : 'sum',\n",
    "    'object_id' : 'count'\n",
    "})\n",
    "datamart.rename(columns = {\n",
    "    'sale_datetime' : 'recency',\n",
    "    'object_id' : 'frequency',\n",
    "    'sale_price' : 'monetary_value'\n",
    "}, inplace=True)\n",
    "datamart.head()"
   ]
  },
  {
   "cell_type": "code",
   "execution_count": null,
   "metadata": {},
   "outputs": [],
   "source": [
    "r_labels = range(4,0,-1)\n",
    "r_quartiles = pd.qcut(datamart['recency'],4,labels=r_labels)\n",
    "datamart = datamart.assign(r=r_quartiles)\n",
    "datamart.head()"
   ]
  },
  {
   "cell_type": "code",
   "execution_count": null,
   "metadata": {},
   "outputs": [],
   "source": [
    "m_quartiles = pd.qcut(datamart['monetary_value'],4,labels=range(1,5))\n",
    "datamart = datamart.assign(m=m_quartiles)\n",
    "datamart.head()"
   ]
  },
  {
   "cell_type": "code",
   "execution_count": null,
   "metadata": {
    "scrolled": true
   },
   "outputs": [],
   "source": [
    "f_quartiles = pd.qcut(datamart['frequency'],4,labels=range(1,5))\n",
    "# datamart = datamart.assign(f=f_quartiles)\n",
    "# datamart.head()"
   ]
  },
  {
   "cell_type": "code",
   "execution_count": null,
   "metadata": {},
   "outputs": [],
   "source": [
    "def join_rfm(x) : return str(x['r']) + str(x['m'])\n",
    "datamart['segment'] = datamart.apply(join_rfm, axis=1)\n",
    "datamart['score'] = datamart[['r','m']].sum(axis=1)\n",
    "datamart.head()"
   ]
  },
  {
   "cell_type": "code",
   "execution_count": null,
   "metadata": {},
   "outputs": [],
   "source": [
    "# Check Biggest Size / count of each segment\n",
    "datamart.groupby('segment').size().sort_values(ascending=False)[:10]"
   ]
  },
  {
   "cell_type": "code",
   "execution_count": null,
   "metadata": {},
   "outputs": [],
   "source": [
    "datamart[datamart['segment']=='11'][:5]"
   ]
  },
  {
   "cell_type": "code",
   "execution_count": null,
   "metadata": {},
   "outputs": [],
   "source": [
    "datamart.groupby('score').agg({\n",
    "    'recency' : 'mean',\n",
    "    'monetary_value' : ['mean','count']\n",
    "}).round(1)"
   ]
  },
  {
   "cell_type": "code",
   "execution_count": null,
   "metadata": {},
   "outputs": [],
   "source": [
    "def segment_cat(df):\n",
    "    if df['score']>= 7:\n",
    "        return 'Premium'\n",
    "    elif (df['score']>=4):\n",
    "        return 'Normal'\n",
    "    else :\n",
    "        return 'Bad'\n",
    "    \n",
    "datamart['segment_category']=datamart.apply(segment_cat,axis=1)\n",
    "datamart.groupby('segment_category').agg({\n",
    "    'recency' : 'mean',\n",
    "    'monetary_value' : ['mean','count']\n",
    "}).round(1)"
   ]
  },
  {
   "cell_type": "code",
   "execution_count": null,
   "metadata": {},
   "outputs": [],
   "source": []
  }
 ],
 "metadata": {
  "kernelspec": {
   "display_name": "Python 3",
   "language": "python",
   "name": "python3"
  },
  "language_info": {
   "codemirror_mode": {
    "name": "ipython",
    "version": 3
   },
   "file_extension": ".py",
   "mimetype": "text/x-python",
   "name": "python",
   "nbconvert_exporter": "python",
   "pygments_lexer": "ipython3",
   "version": "3.8.3"
  }
 },
 "nbformat": 4,
 "nbformat_minor": 4
}
