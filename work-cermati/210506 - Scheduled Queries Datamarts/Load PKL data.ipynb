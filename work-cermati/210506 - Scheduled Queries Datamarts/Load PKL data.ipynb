{
 "cells": [
  {
   "cell_type": "code",
   "execution_count": 4,
   "id": "surprised-minutes",
   "metadata": {},
   "outputs": [],
   "source": [
    "import pandas as pd\n",
    "df = pd.read_pickle(\"original/data.pkl\")"
   ]
  },
  {
   "cell_type": "code",
   "execution_count": 5,
   "id": "pressed-officer",
   "metadata": {},
   "outputs": [
    {
     "data": {
      "text/plain": [
       "(156, 14)"
      ]
     },
     "execution_count": 5,
     "metadata": {},
     "output_type": "execute_result"
    }
   ],
   "source": [
    "df.shape"
   ]
  },
  {
   "cell_type": "code",
   "execution_count": 7,
   "id": "political-lightning",
   "metadata": {
    "scrolled": true
   },
   "outputs": [
    {
     "data": {
      "text/html": [
       "<div>\n",
       "<style scoped>\n",
       "    .dataframe tbody tr th:only-of-type {\n",
       "        vertical-align: middle;\n",
       "    }\n",
       "\n",
       "    .dataframe tbody tr th {\n",
       "        vertical-align: top;\n",
       "    }\n",
       "\n",
       "    .dataframe thead th {\n",
       "        text-align: right;\n",
       "    }\n",
       "</style>\n",
       "<table border=\"1\" class=\"dataframe\">\n",
       "  <thead>\n",
       "    <tr style=\"text-align: right;\">\n",
       "      <th></th>\n",
       "      <th>name</th>\n",
       "      <th>destinationDatasetId</th>\n",
       "      <th>displayName</th>\n",
       "      <th>updateTime</th>\n",
       "      <th>dataSourceId</th>\n",
       "      <th>schedule</th>\n",
       "      <th>nextRunTime</th>\n",
       "      <th>query</th>\n",
       "      <th>state</th>\n",
       "      <th>userId</th>\n",
       "      <th>datasetRegion</th>\n",
       "      <th>enableFailureEmail</th>\n",
       "      <th>startTime</th>\n",
       "      <th>disabled</th>\n",
       "    </tr>\n",
       "  </thead>\n",
       "  <tbody>\n",
       "    <tr>\n",
       "      <th>0</th>\n",
       "      <td>projects/735081149669/locations/asia-southeast...</td>\n",
       "      <td></td>\n",
       "      <td>Indodana Facebook Ads Transfer</td>\n",
       "      <td>2020-08-25</td>\n",
       "      <td>scheduled_query</td>\n",
       "      <td>every day 02:30</td>\n",
       "      <td>NaT</td>\n",
       "      <td>INSERT INTO `data-platform-indodana.vayu.indod...</td>\n",
       "      <td>FAILED</td>\n",
       "      <td>None</td>\n",
       "      <td>asia-southeast1</td>\n",
       "      <td>None</td>\n",
       "      <td>NaT</td>\n",
       "      <td>True</td>\n",
       "    </tr>\n",
       "    <tr>\n",
       "      <th>1</th>\n",
       "      <td>projects/735081149669/locations/asia-southeast...</td>\n",
       "      <td></td>\n",
       "      <td>sammith test query</td>\n",
       "      <td>2020-12-15</td>\n",
       "      <td>scheduled_query</td>\n",
       "      <td>every 24 hours</td>\n",
       "      <td>NaT</td>\n",
       "      <td>check</td>\n",
       "      <td>FAILED</td>\n",
       "      <td>-7441248588662392264</td>\n",
       "      <td>asia-southeast1</td>\n",
       "      <td>None</td>\n",
       "      <td>NaT</td>\n",
       "      <td>True</td>\n",
       "    </tr>\n",
       "    <tr>\n",
       "      <th>2</th>\n",
       "      <td>projects/735081149669/locations/asia-southeast...</td>\n",
       "      <td>vayu_dev</td>\n",
       "      <td>test_query_for_sammith</td>\n",
       "      <td>2020-12-15</td>\n",
       "      <td>scheduled_query</td>\n",
       "      <td>every day 14:43</td>\n",
       "      <td>NaT</td>\n",
       "      <td>check</td>\n",
       "      <td>FAILED</td>\n",
       "      <td>1720361299785897614</td>\n",
       "      <td>asia-southeast1</td>\n",
       "      <td>None</td>\n",
       "      <td>NaT</td>\n",
       "      <td>True</td>\n",
       "    </tr>\n",
       "    <tr>\n",
       "      <th>3</th>\n",
       "      <td>projects/735081149669/locations/asia-southeast...</td>\n",
       "      <td>vayu_dev</td>\n",
       "      <td>marketing_indodana_ops_field_collections_datam...</td>\n",
       "      <td>2021-04-06</td>\n",
       "      <td>scheduled_query</td>\n",
       "      <td>every 7 hours from 00:05 to 07:30</td>\n",
       "      <td>NaT</td>\n",
       "      <td>DELETE FROM `athena-179008.vayu_external.marke...</td>\n",
       "      <td>FAILED</td>\n",
       "      <td>-210127836553099370</td>\n",
       "      <td>asia-southeast1</td>\n",
       "      <td>None</td>\n",
       "      <td>NaT</td>\n",
       "      <td>True</td>\n",
       "    </tr>\n",
       "    <tr>\n",
       "      <th>4</th>\n",
       "      <td>projects/735081149669/locations/asia-southeast...</td>\n",
       "      <td></td>\n",
       "      <td>marketing_indodana_telesales_performance_sheet...</td>\n",
       "      <td>2021-05-06</td>\n",
       "      <td>scheduled_query</td>\n",
       "      <td>every day 02:00</td>\n",
       "      <td>2021-05-07</td>\n",
       "      <td>-- 2019/10 ATH\\nDELETE\\nFROM\\n  `athena-1790...</td>\n",
       "      <td>SUCCEEDED</td>\n",
       "      <td>-210127836553099370</td>\n",
       "      <td>asia-southeast1</td>\n",
       "      <td>None</td>\n",
       "      <td>NaT</td>\n",
       "      <td>None</td>\n",
       "    </tr>\n",
       "  </tbody>\n",
       "</table>\n",
       "</div>"
      ],
      "text/plain": [
       "                                                name destinationDatasetId  \\\n",
       "0  projects/735081149669/locations/asia-southeast...                        \n",
       "1  projects/735081149669/locations/asia-southeast...                        \n",
       "2  projects/735081149669/locations/asia-southeast...             vayu_dev   \n",
       "3  projects/735081149669/locations/asia-southeast...             vayu_dev   \n",
       "4  projects/735081149669/locations/asia-southeast...                        \n",
       "\n",
       "                                         displayName  updateTime  \\\n",
       "0                     Indodana Facebook Ads Transfer  2020-08-25   \n",
       "1                                 sammith test query  2020-12-15   \n",
       "2                             test_query_for_sammith  2020-12-15   \n",
       "3  marketing_indodana_ops_field_collections_datam...  2021-04-06   \n",
       "4  marketing_indodana_telesales_performance_sheet...  2021-05-06   \n",
       "\n",
       "      dataSourceId                           schedule nextRunTime  \\\n",
       "0  scheduled_query                    every day 02:30         NaT   \n",
       "1  scheduled_query                     every 24 hours         NaT   \n",
       "2  scheduled_query                    every day 14:43         NaT   \n",
       "3  scheduled_query  every 7 hours from 00:05 to 07:30         NaT   \n",
       "4  scheduled_query                    every day 02:00  2021-05-07   \n",
       "\n",
       "                                               query      state  \\\n",
       "0  INSERT INTO `data-platform-indodana.vayu.indod...     FAILED   \n",
       "1                                              check     FAILED   \n",
       "2                                              check     FAILED   \n",
       "3  DELETE FROM `athena-179008.vayu_external.marke...     FAILED   \n",
       "4    -- 2019/10 ATH\\nDELETE\\nFROM\\n  `athena-1790...  SUCCEEDED   \n",
       "\n",
       "                 userId    datasetRegion enableFailureEmail startTime disabled  \n",
       "0                  None  asia-southeast1               None       NaT     True  \n",
       "1  -7441248588662392264  asia-southeast1               None       NaT     True  \n",
       "2   1720361299785897614  asia-southeast1               None       NaT     True  \n",
       "3   -210127836553099370  asia-southeast1               None       NaT     True  \n",
       "4   -210127836553099370  asia-southeast1               None       NaT     None  "
      ]
     },
     "execution_count": 7,
     "metadata": {},
     "output_type": "execute_result"
    }
   ],
   "source": [
    "df['updateTime'] = df['updateTime'].astype(str).str[0:10]\n",
    "df['startTime'] = df['startTime'].astype(str).str[0:10]\n",
    "df['nextRunTime'] = df['nextRunTime'].astype(str).str[0:10]\n",
    "df.head()"
   ]
  },
  {
   "cell_type": "code",
   "execution_count": 57,
   "id": "civil-server",
   "metadata": {
    "scrolled": false
   },
   "outputs": [],
   "source": [
    "df_test = df[['displayName','query']]##.head()"
   ]
  },
  {
   "cell_type": "code",
   "execution_count": 58,
   "id": "promotional-orange",
   "metadata": {},
   "outputs": [],
   "source": [
    "import pandas as pd\n",
    "for index, row in df_test.iterrows():\n",
    "    # Set filename\n",
    "    filename = 'Test1/' + str(row['displayName']) + '.sql'\n",
    "    # Creating Datamart\n",
    "    temp = {'index': '0','value': str(row['query'])}\n",
    "    data = pd.DataFrame(temp, columns = ['value'],index=['index'])\n",
    "    # Export file\n",
    "    import csv\n",
    "    data.to_csv(filename, index=False, header=False, quoting=csv.QUOTE_NONE, escapechar=' ')"
   ]
  },
  {
   "cell_type": "code",
   "execution_count": null,
   "id": "overhead-clock",
   "metadata": {},
   "outputs": [],
   "source": []
  },
  {
   "cell_type": "code",
   "execution_count": null,
   "id": "neutral-publicity",
   "metadata": {},
   "outputs": [],
   "source": []
  }
 ],
 "metadata": {
  "kernelspec": {
   "display_name": "Python 3",
   "language": "python",
   "name": "python3"
  },
  "language_info": {
   "codemirror_mode": {
    "name": "ipython",
    "version": 3
   },
   "file_extension": ".py",
   "mimetype": "text/x-python",
   "name": "python",
   "nbconvert_exporter": "python",
   "pygments_lexer": "ipython3",
   "version": "3.7.3"
  }
 },
 "nbformat": 4,
 "nbformat_minor": 5
}
