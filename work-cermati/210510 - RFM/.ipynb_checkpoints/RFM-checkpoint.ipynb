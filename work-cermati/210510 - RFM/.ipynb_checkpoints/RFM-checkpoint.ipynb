{
 "cells": [
  {
   "cell_type": "markdown",
   "id": "stuck-journal",
   "metadata": {},
   "source": [
    "Import Library"
   ]
  },
  {
   "cell_type": "code",
   "execution_count": 2,
   "id": "integral-cholesterol",
   "metadata": {},
   "outputs": [],
   "source": [
    "# Import Pandas\n",
    "import pandas as pd\n",
    "pd.set_option('float_format', '{:f}'.format)\n",
    "import numpy as np\n",
    "# Import plot\n",
    "from matplotlib import pyplot as plt\n",
    "%matplotlib inline\n",
    "plt.style.use('seaborn')\n",
    "\n",
    "import seaborn as sns\n",
    "\n",
    "import Class_RFM_Queries as crfmq\n",
    "rfm_q = crfmq.RFM_Queries()"
   ]
  },
  {
   "cell_type": "markdown",
   "id": "floppy-cookie",
   "metadata": {},
   "source": [
    "Establish connection"
   ]
  },
  {
   "cell_type": "code",
   "execution_count": 3,
   "id": "minimal-result",
   "metadata": {},
   "outputs": [
    {
     "name": "stdout",
     "output_type": "stream",
     "text": [
      "C:\\Users\\Cermati\\AppData\\Roaming\\gcloud\\application_default_credentials.json\n"
     ]
    }
   ],
   "source": [
    "%reload_ext google.cloud.bigquery\n",
    "import os\n",
    "os.environ[\"GOOGLE_APPLICATION_CREDENTIALS\"]=\"C:\\\\Users\\\\Cermati\\\\AppData\\\\Roaming\\\\gcloud\\\\application_default_credentials.json\"\n",
    "print(os.environ[\"GOOGLE_APPLICATION_CREDENTIALS\"])"
   ]
  },
  {
   "cell_type": "markdown",
   "id": "deluxe-filter",
   "metadata": {},
   "source": [
    "Get Data"
   ]
  },
  {
   "cell_type": "code",
   "execution_count": 23,
   "id": "union-album",
   "metadata": {},
   "outputs": [
    {
     "name": "stderr",
     "output_type": "stream",
     "text": [
      "C:\\Users\\Cermati\\Anaconda3\\lib\\site-packages\\google\\auth\\_default.py:69: UserWarning: Your application has authenticated using end user credentials from Google Cloud SDK without a quota project. You might receive a \"quota exceeded\" or \"API not enabled\" error. We recommend you rerun `gcloud auth application-default login` and make sure a quota project is added. Or you can use service accounts instead. For more information about service accounts, see https://cloud.google.com/docs/authentication/\n",
      "  warnings.warn(_CLOUD_SDK_CREDENTIALS_WARNING)\n"
     ]
    }
   ],
   "source": [
    "_data = rfm_q.get_raw_data_user_segmentation_CLI()"
   ]
  },
  {
   "cell_type": "code",
   "execution_count": 69,
   "id": "blocked-exemption",
   "metadata": {
    "scrolled": true
   },
   "outputs": [
    {
     "name": "stdout",
     "output_type": "stream",
     "text": [
      "applicantIdNumber                        object\n",
      "first_score                              object\n",
      "last_score                               object\n",
      "firstAppChannel                          object\n",
      "firstPartner                             object\n",
      "firstproductType                         object\n",
      "age_grouping                             object\n",
      "applicantlasteducationlevel_grouping     object\n",
      "type_of_jobs_grouping                    object\n",
      "income_grouping                          object\n",
      "spending_grouping                        object\n",
      "income_minus_spending_grouping           object\n",
      "partner_category                         object\n",
      "users                                     int64\n",
      "partner_count                             int64\n",
      "cli_limit                                object\n",
      "max_limit                                 int64\n",
      "min_limit                                 int64\n",
      "merchant_count                          float64\n",
      "merchant_list                            object\n",
      "top_merchant                             object\n",
      "top_merchant_trx                        float64\n",
      "top_merchant_category                    object\n",
      "top_merchant_category_trx               float64\n",
      "top_item_category                        object\n",
      "top_item_category_trx                   float64\n",
      "contracts                                 int64\n",
      "coupon_used                               int64\n",
      "payments                                  int64\n",
      "loan_amount                             float64\n",
      "realised_loan_amount                    float64\n",
      "paid_amount                             float64\n",
      "revenue                                 float64\n",
      "contracts_not_due_active                  int64\n",
      "contracts_not_due_finished                int64\n",
      "contracts_due_active                      int64\n",
      "contracts_due_finished                    int64\n",
      "max_dpd                                 float64\n",
      "ever_late                                object\n",
      "ever_late_7d                             object\n",
      "ever_late_15d                            object\n",
      "ever_late_30d                            object\n",
      "avg_tenure                              float64\n",
      "has_active_contracts                       bool\n",
      "first_approved_date                      object\n",
      "last_approved_date                       object\n",
      "first_payment_date                       object\n",
      "day_since_first_approved                  int64\n",
      "day_since_last_approved                   int64\n",
      "recency                                   int64\n",
      "frequency                                 int64\n",
      "monetization                              int64\n",
      "last_appsflyerId                         object\n",
      "category                                 object\n",
      "has_appsflyerID                          object\n",
      "Seeding_category                         object\n",
      "recency_class                             int64\n",
      "frequency_class                           int64\n",
      "monetization_class                        int64\n",
      "dtype: object\n"
     ]
    }
   ],
   "source": [
    "# print(_data.head())\n",
    "pd.set_option('display.max_rows', 60)\n",
    "print(_data.dtypes)"
   ]
  },
  {
   "cell_type": "markdown",
   "id": "burning-ecuador",
   "metadata": {},
   "source": [
    "See Distribution"
   ]
  },
  {
   "cell_type": "code",
   "execution_count": 61,
   "id": "streaming-jacob",
   "metadata": {},
   "outputs": [
    {
     "name": "stderr",
     "output_type": "stream",
     "text": [
      "C:\\Users\\Cermati\\Anaconda3\\lib\\site-packages\\seaborn\\distributions.py:2557: FutureWarning: `distplot` is a deprecated function and will be removed in a future version. Please adapt your code to use either `displot` (a figure-level function with similar flexibility) or `histplot` (an axes-level function for histograms).\n",
      "  warnings.warn(msg, FutureWarning)\n",
      "C:\\Users\\Cermati\\Anaconda3\\lib\\site-packages\\seaborn\\distributions.py:2557: FutureWarning: `distplot` is a deprecated function and will be removed in a future version. Please adapt your code to use either `displot` (a figure-level function with similar flexibility) or `histplot` (an axes-level function for histograms).\n",
      "  warnings.warn(msg, FutureWarning)\n",
      "C:\\Users\\Cermati\\Anaconda3\\lib\\site-packages\\seaborn\\distributions.py:2557: FutureWarning: `distplot` is a deprecated function and will be removed in a future version. Please adapt your code to use either `displot` (a figure-level function with similar flexibility) or `histplot` (an axes-level function for histograms).\n",
      "  warnings.warn(msg, FutureWarning)\n"
     ]
    },
    {
     "data": {
      "image/png": "[encoded data removed]",
      "text/plain": [
       "<Figure size 576x396 with 3 Axes>"
      ]
     },
     "metadata": {},
     "output_type": "display_data"
    }
   ],
   "source": [
    "import seaborn as sns\n",
    "from matplotlib import pyplot as plt\n",
    "plt.subplot(3,1,1)\n",
    "sns.distplot(_data['day_since_last_approved'])\n",
    "plt.subplot(3,1,2)\n",
    "sns.distplot(_data['contracts'])\n",
    "plt.subplot(3,1,3)\n",
    "sns.distplot(_data['revenue'])\n",
    "plt.show()"
   ]
  },
  {
   "cell_type": "markdown",
   "id": "painful-knock",
   "metadata": {},
   "source": [
    "Pivot RFM"
   ]
  },
  {
   "cell_type": "code",
   "execution_count": 7,
   "id": "boring-hudson",
   "metadata": {},
   "outputs": [],
   "source": [
    "# Group by range of values\n",
    "# _data.groupby(pd.cut(_data[\"day_since_last_approved\"], np.arange(0, 600, 30))).users.sum()\n",
    "\n",
    "# Group by range of values but with end point\n",
    "# group_series = np.arange(0, 600, 30)\n",
    "# group_series = np.append(group_series,[10000])\n",
    "# _data.groupby(pd.cut(_data[\"day_since_last_approved\"], group_series))['applicantIdNumber'].count()"
   ]
  },
  {
   "cell_type": "code",
   "execution_count": 56,
   "id": "anonymous-compilation",
   "metadata": {},
   "outputs": [],
   "source": [
    "# GROUP BY RECENCY\n",
    "_data_groupby_recency = _data.groupby('day_since_last_approved').agg({'applicantIdNumber':'count'})#.sort_values(ascending=False)\n",
    "# GROUP BY FREQUENCY\n",
    "_data_groupby_frequency = _data.groupby('contracts').agg({'applicantIdNumber':'count'})#.sort_values(ascending=False)\n",
    "# GROUP BY MONETIZATION\n",
    "group_series = np.arange(100000, 20000000, 100000)\n",
    "group_series = np.insert(group_series, 0, -50000000)\n",
    "# Add 1st negative value of revenue\n",
    "group_series = np.insert(group_series, 1, _data[\"revenue\"][_data[\"revenue\"]<0].max())\n",
    "_data_groupby_monetization = _data.groupby(pd.cut(_data[\"revenue\"], group_series)).agg({'applicantIdNumber':'count'})\n",
    "\n",
    "# ADD RATE\n",
    "_data_groupby_recency['rate'] = (100*_data_groupby_recency['applicantIdNumber']/ _data_groupby_recency['applicantIdNumber'].sum())\n",
    "_data_groupby_recency['rate'] = _data_groupby_recency['rate'].round(2)\n",
    "\n",
    "_data_groupby_frequency['rate'] = (100*_data_groupby_frequency['applicantIdNumber']/ _data_groupby_frequency['applicantIdNumber'].sum())\n",
    "_data_groupby_frequency['rate'] = _data_groupby_frequency['rate'].round(2)\n",
    "\n",
    "_data_groupby_monetization['rate'] = (100*_data_groupby_monetization['applicantIdNumber']/ _data_groupby_monetization['applicantIdNumber'].sum())\n",
    "_data_groupby_monetization['rate'] = _data_groupby_monetization['rate'].round(2)"
   ]
  },
  {
   "cell_type": "code",
   "execution_count": 57,
   "id": "fabulous-preview",
   "metadata": {
    "scrolled": false
   },
   "outputs": [
    {
     "name": "stdout",
     "output_type": "stream",
     "text": [
      "                      applicantIdNumber  rate\n",
      "revenue                                      \n",
      "(-50000000, -41]                  11468  7.59\n",
      "(-41, 100000]                    105418 69.78\n",
      "(100000, 200000]                   9639  6.38\n",
      "(200000, 300000]                   6011  3.98\n",
      "(300000, 400000]                   4061  2.69\n",
      "...                                 ...   ...\n",
      "(19400000, 19500000]                  0  0.00\n",
      "(19500000, 19600000]                  0  0.00\n",
      "(19600000, 19700000]                  0  0.00\n",
      "(19700000, 19800000]                  0  0.00\n",
      "(19800000, 19900000]                  0  0.00\n",
      "\n",
      "[200 rows x 2 columns]\n"
     ]
    }
   ],
   "source": [
    "pd.options.display.float_format = '{:,.2f}'.format\n",
    "pd.set_option('display.max_rows', 10)\n",
    "# print(_data_groupby_recency)\n",
    "# print(_data_groupby_frequency)\n",
    "print(_data_groupby_monetization)"
   ]
  },
  {
   "cell_type": "markdown",
   "id": "political-payday",
   "metadata": {},
   "source": [
    "Function to set RFM class"
   ]
  },
  {
   "cell_type": "code",
   "execution_count": 70,
   "id": "falling-trail",
   "metadata": {},
   "outputs": [],
   "source": [
    "def set_class(x) :\n",
    "    recency_class = 0\n",
    "    frequency_class = 0\n",
    "    monetization_class = 0\n",
    "    if x['day_since_last_approved'] < 10 :\n",
    "        recency_class=3\n",
    "    elif x['day_since_last_approved'] <= 31 :\n",
    "        recency_class=2\n",
    "    else :\n",
    "        recency_class=1\n",
    "        \n",
    "    if x['contracts'] <= 3 :\n",
    "        frequency_class=1\n",
    "    elif x['contracts'] <= 10 :\n",
    "        frequency_class=2\n",
    "    else :\n",
    "        frequency_class=3\n",
    "    \n",
    "    if x['revenue'] <= 200000 :\n",
    "        monetization_class=1\n",
    "    elif x['revenue'] <= 700000 :\n",
    "        monetization_class=2\n",
    "    else :\n",
    "        monetization_class=3\n",
    "        \n",
    "    x['recency_class']=recency_class\n",
    "    x['frequency_class']=frequency_class\n",
    "    x['monetization_class']=monetization_class\n",
    "    return x"
   ]
  },
  {
   "cell_type": "code",
   "execution_count": 71,
   "id": "gentle-robinson",
   "metadata": {},
   "outputs": [],
   "source": [
    "_data = _data.apply(set_class,axis=1)"
   ]
  },
  {
   "cell_type": "markdown",
   "id": "short-indiana",
   "metadata": {},
   "source": [
    "Scatter Plot"
   ]
  },
  {
   "cell_type": "code",
   "execution_count": 76,
   "id": "permanent-thing",
   "metadata": {},
   "outputs": [
    {
     "data": {
      "text/plain": [
       "pandas.core.frame.DataFrame"
      ]
     },
     "execution_count": 76,
     "metadata": {},
     "output_type": "execute_result"
    }
   ],
   "source": [
    "_data_test_scatter = _data.groupby(['recency_class','frequency_class','monetization_class']).agg({'applicantIdNumber':'count'})\n",
    "# _data_test_scatter.reset_index()\n",
    "# _data_test_scatter"
   ]
  },
  {
   "cell_type": "code",
   "execution_count": 77,
   "id": "southeast-object",
   "metadata": {},
   "outputs": [
    {
     "data": {
      "text/html": [
       "<div>\n",
       "<style scoped>\n",
       "    .dataframe tbody tr th:only-of-type {\n",
       "        vertical-align: middle;\n",
       "    }\n",
       "\n",
       "    .dataframe tbody tr th {\n",
       "        vertical-align: top;\n",
       "    }\n",
       "\n",
       "    .dataframe thead th {\n",
       "        text-align: right;\n",
       "    }\n",
       "</style>\n",
       "<table border=\"1\" class=\"dataframe\">\n",
       "  <thead>\n",
       "    <tr style=\"text-align: right;\">\n",
       "      <th></th>\n",
       "      <th></th>\n",
       "      <th></th>\n",
       "      <th>applicantIdNumber</th>\n",
       "    </tr>\n",
       "    <tr>\n",
       "      <th>recency_class</th>\n",
       "      <th>frequency_class</th>\n",
       "      <th>monetization_class</th>\n",
       "      <th></th>\n",
       "    </tr>\n",
       "  </thead>\n",
       "  <tbody>\n",
       "    <tr>\n",
       "      <th rowspan=\"5\" valign=\"top\">1</th>\n",
       "      <th rowspan=\"3\" valign=\"top\">1</th>\n",
       "      <th>1</th>\n",
       "      <td>79746</td>\n",
       "    </tr>\n",
       "    <tr>\n",
       "      <th>2</th>\n",
       "      <td>3575</td>\n",
       "    </tr>\n",
       "    <tr>\n",
       "      <th>3</th>\n",
       "      <td>988</td>\n",
       "    </tr>\n",
       "    <tr>\n",
       "      <th rowspan=\"2\" valign=\"top\">2</th>\n",
       "      <th>1</th>\n",
       "      <td>7851</td>\n",
       "    </tr>\n",
       "    <tr>\n",
       "      <th>2</th>\n",
       "      <td>1421</td>\n",
       "    </tr>\n",
       "  </tbody>\n",
       "</table>\n",
       "</div>"
      ],
      "text/plain": [
       "                                                  applicantIdNumber\n",
       "recency_class frequency_class monetization_class                   \n",
       "1             1               1                               79746\n",
       "                              2                                3575\n",
       "                              3                                 988\n",
       "              2               1                                7851\n",
       "                              2                                1421"
      ]
     },
     "execution_count": 77,
     "metadata": {},
     "output_type": "execute_result"
    }
   ],
   "source": [
    "_data_test_scatter.head()"
   ]
  },
  {
   "cell_type": "code",
   "execution_count": 86,
   "id": "floppy-richmond",
   "metadata": {},
   "outputs": [
    {
     "data": {
      "image/png": "[encoded data removed]",
      "text/plain": [
       "<Figure size 452.125x360 with 1 Axes>"
      ]
     },
     "metadata": {},
     "output_type": "display_data"
    }
   ],
   "source": [
    "sns.relplot(x=\"monetization_class\", y=\"frequency_class\",size='applicantIdNumber', data=_data_test_scatter\n",
    "           );"
   ]
  },
  {
   "cell_type": "code",
   "execution_count": null,
   "id": "confidential-athens",
   "metadata": {},
   "outputs": [],
   "source": []
  }
 ],
 "metadata": {
  "kernelspec": {
   "display_name": "Python 3",
   "language": "python",
   "name": "python3"
  },
  "language_info": {
   "codemirror_mode": {
    "name": "ipython",
    "version": 3
   },
   "file_extension": ".py",
   "mimetype": "text/x-python",
   "name": "python",
   "nbconvert_exporter": "python",
   "pygments_lexer": "ipython3",
   "version": "3.7.3"
  }
 },
 "nbformat": 4,
 "nbformat_minor": 5
}
