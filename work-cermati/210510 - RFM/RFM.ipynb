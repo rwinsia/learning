{
 "cells": [
  {
   "cell_type": "markdown",
   "source": [
    "Import Library"
   ],
   "metadata": {}
  },
  {
   "cell_type": "code",
   "execution_count": 1,
   "source": [
    "# Import Pandas\r\n",
    "import pandas as pd\r\n",
    "pd.set_option('float_format', '{:f}'.format)\r\n",
    "import numpy as np\r\n",
    "# Import plot\r\n",
    "from matplotlib import pyplot as plt\r\n",
    "%matplotlib inline\r\n",
    "plt.style.use('seaborn')\r\n",
    "\r\n",
    "import seaborn as sns\r\n",
    "\r\n",
    "import Class_RFM_Queries as crfmq\r\n",
    "rfm_q = crfmq.RFM_Queries()"
   ],
   "outputs": [],
   "metadata": {}
  },
  {
   "cell_type": "markdown",
   "source": [
    "Establish connection"
   ],
   "metadata": {}
  },
  {
   "cell_type": "code",
   "execution_count": 2,
   "source": [
    "%reload_ext google.cloud.bigquery\r\n",
    "import os\r\n",
    "os.environ[\"GOOGLE_APPLICATION_CREDENTIALS\"]=\"C:\\\\Users\\\\Cermati\\\\AppData\\\\Roaming\\\\gcloud\\\\application_default_credentials.json\"\r\n",
    "print(os.environ[\"GOOGLE_APPLICATION_CREDENTIALS\"])"
   ],
   "outputs": [
    {
     "output_type": "stream",
     "name": "stdout",
     "text": [
      "C:\\Users\\Cermati\\AppData\\Roaming\\gcloud\\application_default_credentials.json\n"
     ]
    }
   ],
   "metadata": {}
  },
  {
   "cell_type": "markdown",
   "source": [
    "Get Data"
   ],
   "metadata": {}
  },
  {
   "cell_type": "code",
   "execution_count": 3,
   "source": [
    "_data = rfm_q.get_raw_data_user_segmentation_CLI()"
   ],
   "outputs": [
    {
     "output_type": "stream",
     "name": "stderr",
     "text": [
      "C:\\Users\\Cermati\\Anaconda3\\lib\\site-packages\\google\\auth\\_default.py:69: UserWarning: Your application has authenticated using end user credentials from Google Cloud SDK without a quota project. You might receive a \"quota exceeded\" or \"API not enabled\" error. We recommend you rerun `gcloud auth application-default login` and make sure a quota project is added. Or you can use service accounts instead. For more information about service accounts, see https://cloud.google.com/docs/authentication/\n",
      "  warnings.warn(_CLOUD_SDK_CREDENTIALS_WARNING)\n"
     ]
    }
   ],
   "metadata": {}
  },
  {
   "cell_type": "code",
   "execution_count": 4,
   "source": [
    "# print(_data.head())\r\n",
    "pd.set_option('display.max_rows', 60)\r\n",
    "print(_data.dtypes)"
   ],
   "outputs": [
    {
     "output_type": "stream",
     "name": "stdout",
     "text": [
      "applicantIdNumber                        object\n",
      "first_score                              object\n",
      "last_score                               object\n",
      "firstAppChannel                          object\n",
      "firstPartner                             object\n",
      "firstproductType                         object\n",
      "age_grouping                             object\n",
      "applicantlasteducationlevel_grouping     object\n",
      "type_of_jobs_grouping                    object\n",
      "income_grouping                          object\n",
      "spending_grouping                        object\n",
      "income_minus_spending_grouping           object\n",
      "partner_category                         object\n",
      "users                                     int64\n",
      "partner_count                             int64\n",
      "cli_limit                                object\n",
      "max_limit                                 int64\n",
      "min_limit                                 int64\n",
      "merchant_count                           object\n",
      "merchant_list                            object\n",
      "top_merchant                             object\n",
      "top_merchant_trx                         object\n",
      "top_merchant_category                    object\n",
      "top_merchant_category_trx                object\n",
      "top_item_category                        object\n",
      "top_item_category_trx                    object\n",
      "contracts                                 int64\n",
      "coupon_used                               int64\n",
      "payments                                  int64\n",
      "loan_amount                             float64\n",
      "realised_loan_amount                    float64\n",
      "paid_amount                             float64\n",
      "revenue                                 float64\n",
      "contracts_not_due_active                  int64\n",
      "contracts_not_due_finished                int64\n",
      "contracts_due_active                      int64\n",
      "contracts_due_finished                    int64\n",
      "max_dpd                                  object\n",
      "ever_late                                object\n",
      "ever_late_7d                             object\n",
      "ever_late_15d                            object\n",
      "ever_late_30d                            object\n",
      "avg_tenure                               object\n",
      "has_active_contracts                       bool\n",
      "first_approved_date                      object\n",
      "last_approved_date                       object\n",
      "first_payment_date                       object\n",
      "day_since_first_approved                  int64\n",
      "day_since_last_approved                   int64\n",
      "recency                                   int64\n",
      "frequency                                 int64\n",
      "monetization                              int64\n",
      "last_appsflyerId                         object\n",
      "category                                 object\n",
      "has_appsflyerID                          object\n",
      "Seeding_category                         object\n",
      "dtype: object\n"
     ]
    }
   ],
   "metadata": {
    "scrolled": true
   }
  },
  {
   "cell_type": "markdown",
   "source": [
    "See Distribution"
   ],
   "metadata": {}
  },
  {
   "cell_type": "code",
   "execution_count": 5,
   "source": [
    "import seaborn as sns\r\n",
    "from matplotlib import pyplot as plt\r\n",
    "plt.subplot(3,1,1)\r\n",
    "sns.distplot(_data['day_since_last_approved'])\r\n",
    "plt.subplot(3,1,2)\r\n",
    "sns.distplot(_data['contracts'])\r\n",
    "plt.subplot(3,1,3)\r\n",
    "sns.distplot(_data['revenue'])\r\n",
    "plt.show()"
   ],
   "outputs": [
    {
     "output_type": "stream",
     "name": "stderr",
     "text": [
      "C:\\Users\\Cermati\\Anaconda3\\lib\\site-packages\\seaborn\\distributions.py:2557: FutureWarning: `distplot` is a deprecated function and will be removed in a future version. Please adapt your code to use either `displot` (a figure-level function with similar flexibility) or `histplot` (an axes-level function for histograms).\n",
      "  warnings.warn(msg, FutureWarning)\n",
      "C:\\Users\\Cermati\\Anaconda3\\lib\\site-packages\\seaborn\\distributions.py:2557: FutureWarning: `distplot` is a deprecated function and will be removed in a future version. Please adapt your code to use either `displot` (a figure-level function with similar flexibility) or `histplot` (an axes-level function for histograms).\n",
      "  warnings.warn(msg, FutureWarning)\n",
      "C:\\Users\\Cermati\\Anaconda3\\lib\\site-packages\\seaborn\\distributions.py:2557: FutureWarning: `distplot` is a deprecated function and will be removed in a future version. Please adapt your code to use either `displot` (a figure-level function with similar flexibility) or `histplot` (an axes-level function for histograms).\n",
      "  warnings.warn(msg, FutureWarning)\n"
     ]
    },
    {
     "output_type": "display_data",
     "data": {
      "image/png": "[encoded data removed]",
      "text/plain": [
       "<Figure size 576x396 with 3 Axes>"
      ]
     },
     "metadata": {}
    }
   ],
   "metadata": {}
  },
  {
   "cell_type": "markdown",
   "source": [
    "Pivot RFM"
   ],
   "metadata": {}
  },
  {
   "cell_type": "code",
   "execution_count": 7,
   "source": [
    "# Group by range of values\r\n",
    "# _data.groupby(pd.cut(_data[\"day_since_last_approved\"], np.arange(0, 600, 30))).users.sum()\r\n",
    "\r\n",
    "# Group by range of values but with end point\r\n",
    "# group_series = np.arange(0, 600, 30)\r\n",
    "# group_series = np.append(group_series,[10000])\r\n",
    "# _data.groupby(pd.cut(_data[\"day_since_last_approved\"], group_series))['applicantIdNumber'].count()"
   ],
   "outputs": [],
   "metadata": {}
  },
  {
   "cell_type": "code",
   "execution_count": 6,
   "source": [
    "# GROUP BY RECENCY\r\n",
    "_data_groupby_recency = _data.groupby('day_since_last_approved').agg({'applicantIdNumber':'count'})#.sort_values(ascending=False)\r\n",
    "# GROUP BY FREQUENCY\r\n",
    "_data_groupby_frequency = _data.groupby('contracts').agg({'applicantIdNumber':'count'})#.sort_values(ascending=False)\r\n",
    "# GROUP BY MONETIZATION\r\n",
    "group_series = np.arange(100000, 20000000, 100000)\r\n",
    "group_series = np.insert(group_series, 0, -50000000)\r\n",
    "# Add 1st negative value of revenue\r\n",
    "group_series = np.insert(group_series, 1, _data[\"revenue\"][_data[\"revenue\"]<0].max())\r\n",
    "_data_groupby_monetization = _data.groupby(pd.cut(_data[\"revenue\"], group_series)).agg({'applicantIdNumber':'count'})\r\n",
    "\r\n",
    "# ADD RATE\r\n",
    "_data_groupby_recency['rate'] = (100*_data_groupby_recency['applicantIdNumber']/ _data_groupby_recency['applicantIdNumber'].sum())\r\n",
    "_data_groupby_recency['rate'] = _data_groupby_recency['rate'].round(2)\r\n",
    "\r\n",
    "_data_groupby_frequency['rate'] = (100*_data_groupby_frequency['applicantIdNumber']/ _data_groupby_frequency['applicantIdNumber'].sum())\r\n",
    "_data_groupby_frequency['rate'] = _data_groupby_frequency['rate'].round(2)\r\n",
    "\r\n",
    "_data_groupby_monetization['rate'] = (100*_data_groupby_monetization['applicantIdNumber']/ _data_groupby_monetization['applicantIdNumber'].sum())\r\n",
    "_data_groupby_monetization['rate'] = _data_groupby_monetization['rate'].round(2)"
   ],
   "outputs": [],
   "metadata": {}
  },
  {
   "cell_type": "code",
   "execution_count": 7,
   "source": [
    "pd.options.display.float_format = '{:,.2f}'.format\r\n",
    "pd.set_option('display.max_rows', 10)\r\n",
    "# print(_data_groupby_recency)\r\n",
    "# print(_data_groupby_frequency)\r\n",
    "print(_data_groupby_monetization)"
   ],
   "outputs": [
    {
     "output_type": "stream",
     "name": "stdout",
     "text": [
      "                      applicantIdNumber  rate\n",
      "revenue                                      \n",
      "(-50000000, -8]                   27219 10.03\n",
      "(-8, 100000]                     179881 66.29\n",
      "(100000, 200000]                  17388  6.41\n",
      "(200000, 300000]                  11127  4.10\n",
      "(300000, 400000]                   7599  2.80\n",
      "...                                 ...   ...\n",
      "(19400000, 19500000]                  0  0.00\n",
      "(19500000, 19600000]                  0  0.00\n",
      "(19600000, 19700000]                  0  0.00\n",
      "(19700000, 19800000]                  0  0.00\n",
      "(19800000, 19900000]                  0  0.00\n",
      "\n",
      "[200 rows x 2 columns]\n"
     ]
    }
   ],
   "metadata": {
    "scrolled": false
   }
  },
  {
   "cell_type": "markdown",
   "source": [
    "Function to set RFM class"
   ],
   "metadata": {}
  },
  {
   "cell_type": "code",
   "execution_count": 8,
   "source": [
    "def set_class(x) :\r\n",
    "    recency_class = 0\r\n",
    "    frequency_class = 0\r\n",
    "    monetization_class = 0\r\n",
    "    if x['day_since_last_approved'] < 10 :\r\n",
    "        recency_class=3\r\n",
    "    elif x['day_since_last_approved'] <= 31 :\r\n",
    "        recency_class=2\r\n",
    "    else :\r\n",
    "        recency_class=1\r\n",
    "        \r\n",
    "    if x['contracts'] <= 3 :\r\n",
    "        frequency_class=1\r\n",
    "    elif x['contracts'] <= 10 :\r\n",
    "        frequency_class=2\r\n",
    "    else :\r\n",
    "        frequency_class=3\r\n",
    "    \r\n",
    "    if x['revenue'] <= 200000 :\r\n",
    "        monetization_class=1\r\n",
    "    elif x['revenue'] <= 700000 :\r\n",
    "        monetization_class=2\r\n",
    "    else :\r\n",
    "        monetization_class=3\r\n",
    "        \r\n",
    "    x['recency_class']=recency_class\r\n",
    "    x['frequency_class']=frequency_class\r\n",
    "    x['monetization_class']=monetization_class\r\n",
    "    return x"
   ],
   "outputs": [],
   "metadata": {}
  },
  {
   "cell_type": "code",
   "execution_count": 9,
   "source": [
    "_data = _data.apply(set_class,axis=1)"
   ],
   "outputs": [],
   "metadata": {}
  },
  {
   "cell_type": "markdown",
   "source": [
    "Scatter Plot"
   ],
   "metadata": {}
  },
  {
   "cell_type": "code",
   "execution_count": 10,
   "source": [
    "_data_test_scatter = _data.groupby(['recency_class','frequency_class','monetization_class']).agg({'applicantIdNumber':'count'})\r\n",
    "# _data_test_scatter.reset_index()\r\n",
    "# _data_test_scatter"
   ],
   "outputs": [],
   "metadata": {}
  },
  {
   "cell_type": "code",
   "execution_count": 11,
   "source": [
    "_data_test_scatter.head()"
   ],
   "outputs": [
    {
     "output_type": "execute_result",
     "data": {
      "text/html": [
       "<div>\n",
       "<style scoped>\n",
       "    .dataframe tbody tr th:only-of-type {\n",
       "        vertical-align: middle;\n",
       "    }\n",
       "\n",
       "    .dataframe tbody tr th {\n",
       "        vertical-align: top;\n",
       "    }\n",
       "\n",
       "    .dataframe thead th {\n",
       "        text-align: right;\n",
       "    }\n",
       "</style>\n",
       "<table border=\"1\" class=\"dataframe\">\n",
       "  <thead>\n",
       "    <tr style=\"text-align: right;\">\n",
       "      <th></th>\n",
       "      <th></th>\n",
       "      <th></th>\n",
       "      <th>applicantIdNumber</th>\n",
       "    </tr>\n",
       "    <tr>\n",
       "      <th>recency_class</th>\n",
       "      <th>frequency_class</th>\n",
       "      <th>monetization_class</th>\n",
       "      <th></th>\n",
       "    </tr>\n",
       "  </thead>\n",
       "  <tbody>\n",
       "    <tr>\n",
       "      <th rowspan=\"5\" valign=\"top\">1</th>\n",
       "      <th rowspan=\"3\" valign=\"top\">1</th>\n",
       "      <th>1</th>\n",
       "      <td>147091</td>\n",
       "    </tr>\n",
       "    <tr>\n",
       "      <th>2</th>\n",
       "      <td>6564</td>\n",
       "    </tr>\n",
       "    <tr>\n",
       "      <th>3</th>\n",
       "      <td>1589</td>\n",
       "    </tr>\n",
       "    <tr>\n",
       "      <th rowspan=\"2\" valign=\"top\">2</th>\n",
       "      <th>1</th>\n",
       "      <td>17633</td>\n",
       "    </tr>\n",
       "    <tr>\n",
       "      <th>2</th>\n",
       "      <td>4048</td>\n",
       "    </tr>\n",
       "  </tbody>\n",
       "</table>\n",
       "</div>"
      ],
      "text/plain": [
       "                                                  applicantIdNumber\n",
       "recency_class frequency_class monetization_class                   \n",
       "1             1               1                              147091\n",
       "                              2                                6564\n",
       "                              3                                1589\n",
       "              2               1                               17633\n",
       "                              2                                4048"
      ]
     },
     "metadata": {},
     "execution_count": 11
    }
   ],
   "metadata": {}
  },
  {
   "cell_type": "code",
   "execution_count": 12,
   "source": [
    "sns.relplot(x=\"monetization_class\", y=\"frequency_class\",size='applicantIdNumber', data=_data_test_scatter\r\n",
    "           );"
   ],
   "outputs": [
    {
     "output_type": "display_data",
     "data": {
      "image/png": "[encoded data removed]",
      "text/plain": [
       "<Figure size 452.125x360 with 1 Axes>"
      ]
     },
     "metadata": {}
    }
   ],
   "metadata": {}
  },
  {
   "cell_type": "code",
   "execution_count": null,
   "source": [],
   "outputs": [],
   "metadata": {}
  }
 ],
 "metadata": {
  "kernelspec": {
   "name": "python3",
   "display_name": "Python 3.7.3 64-bit ('base': conda)"
  },
  "language_info": {
   "codemirror_mode": {
    "name": "ipython",
    "version": 3
   },
   "file_extension": ".py",
   "mimetype": "text/x-python",
   "name": "python",
   "nbconvert_exporter": "python",
   "pygments_lexer": "ipython3",
   "version": "3.7.3"
  },
  "interpreter": {
   "hash": "27679aafd65809363b47379bcf99833ffce10baabfc9c7a1472446aa12af4c30"
  }
 },
 "nbformat": 4,
 "nbformat_minor": 5
}