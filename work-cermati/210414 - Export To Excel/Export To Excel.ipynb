{
 "cells": [
  {
   "cell_type": "markdown",
   "metadata": {},
   "source": [
    "Establish connection"
   ]
  },
  {
   "cell_type": "code",
   "execution_count": 1,
   "metadata": {},
   "outputs": [
    {
     "name": "stdout",
     "output_type": "stream",
     "text": [
      "C:\\Users\\Cermati\\AppData\\Roaming\\gcloud\\application_default_credentials.json\n"
     ]
    }
   ],
   "source": [
    "%reload_ext google.cloud.bigquery\n",
    "import os\n",
    "os.environ[\"GOOGLE_APPLICATION_CREDENTIALS\"]=\"C:\\\\Users\\\\Cermati\\\\AppData\\\\Roaming\\\\gcloud\\\\application_default_credentials.json\"\n",
    "print(os.environ[\"GOOGLE_APPLICATION_CREDENTIALS\"])"
   ]
  },
  {
   "cell_type": "markdown",
   "metadata": {},
   "source": [
    "Insert query here"
   ]
  },
  {
   "cell_type": "code",
   "execution_count": 2,
   "metadata": {},
   "outputs": [],
   "source": [
    "%%bigquery param1 --project athena-179008\n",
    "SELECT \n",
    "\ta.orderId\n",
    "\t, a.partner\n",
    "\t, CASE WHEN a.status<>'Approved' then 'Not Approved' else a.status end as application_status\n",
    "\t, a.cli_status as paylater_status\n",
    "\t, CASE COALESCE((active_trx+finished_trx),0) WHEN 0 THEN 'Never Use Paylater' ELSE 'Ever Use Paylater' END paylater_use_status\n",
    "\t, COALESCE((active_trx+finished_trx),0) as total_trx\n",
    "\t, app.applicantPersonalEmail as email\n",
    "    , app.applicantMobilePhoneNumber1 as phone_number\n",
    "    , upper(app.applicantName) as name\n",
    "    , SUBSTR(app.applicantGender,1,1) as gender\n",
    "    , app.currentCompanyAddressCity as company_address_city\n",
    "    , app.currentCompanyAddressProvince as company_address_province\n",
    "    , app.currentCompanyAddressPostalCode as company_address_zipcode\n",
    "    , 'ID' as company_address_country\n",
    "    , app.applicantCurrentResidenceCity as address_city\n",
    "    , app.applicantCurrentResidenceProvince as address_province\n",
    "    , app.applicantCurrentResidencePostalCode as address_zipcode\n",
    "    , 'ID' as address_country\n",
    "    , date(app.applicantDateOfBirth) as date_of_birth\n",
    "    , extract(year from app.applicantDateOfBirth) as year_of_birth\n",
    "    , DATE_DIFF(current_date,date(app.applicantDateOfBirth), YEAR) - IF(EXTRACT(MONTH FROM date(app.applicantDateOfBirth))*100 + EXTRACT(DAY FROM date(app.applicantDateOfBirth)) > EXTRACT(MONTH FROM current_date)*100 + EXTRACT(DAY FROM current_date),1,0)  as age\n",
    "FROM athena-179008.vayu_data_mart.indodanamarketing_cli_application a \n",
    "INNER JOIN data-platform-indodana.vayu.indodana_athena_applications app ON app.orderId=a.orderId\n",
    "LEFT JOIN athena-179008.vayu_data_mart.view_cli_contracts c \n",
    "\tON a.orderId=c.orderId \n",
    "\tAND (active_trx+finished_trx)>0\n",
    "WHERE a.partner IN ('BLIBLI','TIKET')"
   ]
  },
  {
   "cell_type": "markdown",
   "metadata": {},
   "source": [
    "Sample 5 rows to check"
   ]
  },
  {
   "cell_type": "code",
   "execution_count": 4,
   "metadata": {},
   "outputs": [
    {
     "data": {
      "text/plain": [
       "(975016, 21)"
      ]
     },
     "execution_count": 4,
     "metadata": {},
     "output_type": "execute_result"
    }
   ],
   "source": [
    "param1.shape\n",
    "# param1.dtypes"
   ]
  },
  {
   "cell_type": "code",
   "execution_count": 5,
   "metadata": {
    "scrolled": true
   },
   "outputs": [
    {
     "data": {
      "text/html": [
       "<div>\n",
       "<style scoped>\n",
       "    .dataframe tbody tr th:only-of-type {\n",
       "        vertical-align: middle;\n",
       "    }\n",
       "\n",
       "    .dataframe tbody tr th {\n",
       "        vertical-align: top;\n",
       "    }\n",
       "\n",
       "    .dataframe thead th {\n",
       "        text-align: right;\n",
       "    }\n",
       "</style>\n",
       "<table border=\"1\" class=\"dataframe\">\n",
       "  <thead>\n",
       "    <tr style=\"text-align: right;\">\n",
       "      <th></th>\n",
       "      <th>orderId</th>\n",
       "      <th>partner</th>\n",
       "      <th>application_status</th>\n",
       "      <th>paylater_status</th>\n",
       "      <th>paylater_use_status</th>\n",
       "      <th>total_trx</th>\n",
       "      <th>email</th>\n",
       "      <th>phone_number</th>\n",
       "      <th>name</th>\n",
       "      <th>gender</th>\n",
       "      <th>...</th>\n",
       "      <th>company_address_province</th>\n",
       "      <th>company_address_zipcode</th>\n",
       "      <th>company_address_country</th>\n",
       "      <th>address_city</th>\n",
       "      <th>address_province</th>\n",
       "      <th>address_zipcode</th>\n",
       "      <th>address_country</th>\n",
       "      <th>date_of_birth</th>\n",
       "      <th>year_of_birth</th>\n",
       "      <th>age</th>\n",
       "    </tr>\n",
       "  </thead>\n",
       "  <tbody>\n",
       "    <tr>\n",
       "      <th>0</th>\n",
       "      <td>CLI-QTSWGHRK</td>\n",
       "      <td>TIKET</td>\n",
       "      <td>Approved</td>\n",
       "      <td>ACTIVE</td>\n",
       "      <td>Ever Use Paylater</td>\n",
       "      <td>1</td>\n",
       "      <td>ihsan71nisa81@gmail.com</td>\n",
       "      <td>+6285277972196</td>\n",
       "      <td>KHAIRUNNISA</td>\n",
       "      <td>F</td>\n",
       "      <td>...</td>\n",
       "      <td>KEPULAUAN RIAU</td>\n",
       "      <td>None</td>\n",
       "      <td>ID</td>\n",
       "      <td>KOTA BATAM</td>\n",
       "      <td>KEPULAUAN RIAU</td>\n",
       "      <td>29426</td>\n",
       "      <td>ID</td>\n",
       "      <td>1995-05-18</td>\n",
       "      <td>1995.0</td>\n",
       "      <td>26.0</td>\n",
       "    </tr>\n",
       "    <tr>\n",
       "      <th>1</th>\n",
       "      <td>CLI-8T519N5M</td>\n",
       "      <td>TIKET</td>\n",
       "      <td>Not Approved</td>\n",
       "      <td>None</td>\n",
       "      <td>Never Use Paylater</td>\n",
       "      <td>0</td>\n",
       "      <td>shofiafawaid@gmail.com</td>\n",
       "      <td>+6287785658141</td>\n",
       "      <td>SHOFIYAH FAUZI</td>\n",
       "      <td>F</td>\n",
       "      <td>...</td>\n",
       "      <td>JAWA TIMUR</td>\n",
       "      <td>None</td>\n",
       "      <td>ID</td>\n",
       "      <td>KABUPATEN BANGKALAN</td>\n",
       "      <td>JAWA TIMUR</td>\n",
       "      <td>69162</td>\n",
       "      <td>ID</td>\n",
       "      <td>1999-03-25</td>\n",
       "      <td>1999.0</td>\n",
       "      <td>22.0</td>\n",
       "    </tr>\n",
       "    <tr>\n",
       "      <th>2</th>\n",
       "      <td>CLI-D5AUPNV4</td>\n",
       "      <td>BLIBLI</td>\n",
       "      <td>Not Approved</td>\n",
       "      <td>None</td>\n",
       "      <td>Never Use Paylater</td>\n",
       "      <td>0</td>\n",
       "      <td>grestaphillea@yahoo.co.id</td>\n",
       "      <td>+6282228831989</td>\n",
       "      <td>GRESTA PHILLEA HANDONO</td>\n",
       "      <td>None</td>\n",
       "      <td>...</td>\n",
       "      <td>JAWA TENGAH</td>\n",
       "      <td>59333</td>\n",
       "      <td>ID</td>\n",
       "      <td>KABUPATEN KUDUS</td>\n",
       "      <td>JAWA TENGAH</td>\n",
       "      <td>59314</td>\n",
       "      <td>ID</td>\n",
       "      <td>None</td>\n",
       "      <td>NaN</td>\n",
       "      <td>NaN</td>\n",
       "    </tr>\n",
       "    <tr>\n",
       "      <th>3</th>\n",
       "      <td>CLI-ZZVTCRYG</td>\n",
       "      <td>BLIBLI</td>\n",
       "      <td>Not Approved</td>\n",
       "      <td>None</td>\n",
       "      <td>Never Use Paylater</td>\n",
       "      <td>0</td>\n",
       "      <td>ahraidaa@gmail.com</td>\n",
       "      <td>+6281318164500</td>\n",
       "      <td>AHRAIDA AFRIANTI</td>\n",
       "      <td>F</td>\n",
       "      <td>...</td>\n",
       "      <td>BANTEN</td>\n",
       "      <td>15325</td>\n",
       "      <td>ID</td>\n",
       "      <td>KOTA JAKARTA SELATAN</td>\n",
       "      <td>DKI JAKARTA</td>\n",
       "      <td>12330</td>\n",
       "      <td>ID</td>\n",
       "      <td>1988-04-09</td>\n",
       "      <td>1988.0</td>\n",
       "      <td>33.0</td>\n",
       "    </tr>\n",
       "    <tr>\n",
       "      <th>4</th>\n",
       "      <td>CLI-E3TPM1XZ</td>\n",
       "      <td>TIKET</td>\n",
       "      <td>Not Approved</td>\n",
       "      <td>None</td>\n",
       "      <td>Never Use Paylater</td>\n",
       "      <td>0</td>\n",
       "      <td>ambarwatishb@gmail.com</td>\n",
       "      <td>+6282130110011</td>\n",
       "      <td>AMBAR WATI</td>\n",
       "      <td>F</td>\n",
       "      <td>...</td>\n",
       "      <td>DKI JAKARTA</td>\n",
       "      <td>10110</td>\n",
       "      <td>ID</td>\n",
       "      <td>KOTA JAKARTA TIMUR</td>\n",
       "      <td>DKI JAKARTA</td>\n",
       "      <td>13790</td>\n",
       "      <td>ID</td>\n",
       "      <td>1996-04-11</td>\n",
       "      <td>1996.0</td>\n",
       "      <td>25.0</td>\n",
       "    </tr>\n",
       "  </tbody>\n",
       "</table>\n",
       "<p>5 rows × 21 columns</p>\n",
       "</div>"
      ],
      "text/plain": [
       "        orderId partner application_status paylater_status  \\\n",
       "0  CLI-QTSWGHRK   TIKET           Approved          ACTIVE   \n",
       "1  CLI-8T519N5M   TIKET       Not Approved            None   \n",
       "2  CLI-D5AUPNV4  BLIBLI       Not Approved            None   \n",
       "3  CLI-ZZVTCRYG  BLIBLI       Not Approved            None   \n",
       "4  CLI-E3TPM1XZ   TIKET       Not Approved            None   \n",
       "\n",
       "  paylater_use_status  total_trx                      email    phone_number  \\\n",
       "0   Ever Use Paylater          1    ihsan71nisa81@gmail.com  +6285277972196   \n",
       "1  Never Use Paylater          0     shofiafawaid@gmail.com  +6287785658141   \n",
       "2  Never Use Paylater          0  grestaphillea@yahoo.co.id  +6282228831989   \n",
       "3  Never Use Paylater          0         ahraidaa@gmail.com  +6281318164500   \n",
       "4  Never Use Paylater          0     ambarwatishb@gmail.com  +6282130110011   \n",
       "\n",
       "                     name gender  ... company_address_province  \\\n",
       "0             KHAIRUNNISA      F  ...           KEPULAUAN RIAU   \n",
       "1          SHOFIYAH FAUZI      F  ...               JAWA TIMUR   \n",
       "2  GRESTA PHILLEA HANDONO   None  ...              JAWA TENGAH   \n",
       "3        AHRAIDA AFRIANTI      F  ...                   BANTEN   \n",
       "4              AMBAR WATI      F  ...              DKI JAKARTA   \n",
       "\n",
       "  company_address_zipcode company_address_country          address_city  \\\n",
       "0                    None                      ID            KOTA BATAM   \n",
       "1                    None                      ID   KABUPATEN BANGKALAN   \n",
       "2                   59333                      ID       KABUPATEN KUDUS   \n",
       "3                   15325                      ID  KOTA JAKARTA SELATAN   \n",
       "4                   10110                      ID    KOTA JAKARTA TIMUR   \n",
       "\n",
       "  address_province address_zipcode address_country date_of_birth  \\\n",
       "0   KEPULAUAN RIAU           29426              ID    1995-05-18   \n",
       "1       JAWA TIMUR           69162              ID    1999-03-25   \n",
       "2      JAWA TENGAH           59314              ID          None   \n",
       "3      DKI JAKARTA           12330              ID    1988-04-09   \n",
       "4      DKI JAKARTA           13790              ID    1996-04-11   \n",
       "\n",
       "  year_of_birth   age  \n",
       "0        1995.0  26.0  \n",
       "1        1999.0  22.0  \n",
       "2           NaN   NaN  \n",
       "3        1988.0  33.0  \n",
       "4        1996.0  25.0  \n",
       "\n",
       "[5 rows x 21 columns]"
      ]
     },
     "execution_count": 5,
     "metadata": {},
     "output_type": "execute_result"
    }
   ],
   "source": [
    "param1.head()"
   ]
  },
  {
   "cell_type": "markdown",
   "metadata": {},
   "source": [
    "Export to excel/csv"
   ]
  },
  {
   "cell_type": "code",
   "execution_count": 6,
   "metadata": {},
   "outputs": [
    {
     "name": "stdout",
     "output_type": "stream",
     "text": [
      "Marketing_Audience_Tiket_Blibli_20210901.xlsx\n"
     ]
    }
   ],
   "source": [
    "from datetime import date\n",
    "# print(date.today())\n",
    "today_str = str(date.today()).replace('-','')\n",
    "filename = 'Marketing_Audience_Tiket_Blibli_' + today_str + '.xlsx'\n",
    "print(filename)"
   ]
  },
  {
   "cell_type": "code",
   "execution_count": null,
   "metadata": {},
   "outputs": [],
   "source": [
    "param1.to_excel(filename,index=False)"
   ]
  },
  {
   "cell_type": "code",
   "execution_count": null,
   "metadata": {},
   "outputs": [],
   "source": []
  }
 ],
 "metadata": {
  "kernelspec": {
   "display_name": "Python 3",
   "language": "python",
   "name": "python3"
  },
  "language_info": {
   "codemirror_mode": {
    "name": "ipython",
    "version": 3
   },
   "file_extension": ".py",
   "mimetype": "text/x-python",
   "name": "python",
   "nbconvert_exporter": "python",
   "pygments_lexer": "ipython3",
   "version": "3.7.3"
  }
 },
 "nbformat": 4,
 "nbformat_minor": 2
}
