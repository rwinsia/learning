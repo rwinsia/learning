{
 "cells": [
  {
   "cell_type": "markdown",
   "metadata": {},
   "source": [
    "Establish connection"
   ]
  },
  {
   "cell_type": "code",
   "execution_count": 1,
   "metadata": {},
   "outputs": [
    {
     "name": "stdout",
     "output_type": "stream",
     "text": [
      "C:\\Users\\Cermati\\AppData\\Roaming\\gcloud\\application_default_credentials.json\n"
     ]
    }
   ],
   "source": [
    "%reload_ext google.cloud.bigquery\n",
    "import os\n",
    "os.environ[\"GOOGLE_APPLICATION_CREDENTIALS\"]=\"C:\\\\Users\\\\Cermati\\\\AppData\\\\Roaming\\\\gcloud\\\\application_default_credentials.json\"\n",
    "print(os.environ[\"GOOGLE_APPLICATION_CREDENTIALS\"])"
   ]
  },
  {
   "cell_type": "markdown",
   "metadata": {},
   "source": [
    "Insert query here"
   ]
  },
  {
   "cell_type": "code",
   "execution_count": 79,
   "metadata": {},
   "outputs": [],
   "source": [
    "%%bigquery param1 --project athena-179008\n",
    "\n",
    "WITH contracts as (\n",
    "    SELECT \n",
    "        CASE WHEN SUBSTR(orderId,1,3)='INS' THEN 'PAYLATER' ELSE 'CASH_LOAN' END as product\n",
    "        , borrower_id as userId\n",
    "        , orderId\n",
    "        , entity_id\n",
    "        , dpd\n",
    "        , loan_amount/principal*balance_principal as balance_loan_amount\n",
    "    FROM athena-179008.vayu_data_mart.view_ath_contracts\n",
    "    WHERE status='ACTIVE'\n",
    "    UNION ALL\n",
    "    SELECT \n",
    "        'PAYLATER' as product\n",
    "        , borrower_id as userId\n",
    "        , orderId\n",
    "        , entity_id\n",
    "        , dpd\n",
    "        , loan_amount/principal*balance_principal as balance_loan_amount\n",
    "    FROM athena-179008.vayu_data_mart.view_trx_contracts\n",
    "    WHERE status='ACTIVE'\n",
    ")\n",
    ", combined_data as (\n",
    "    SELECT \n",
    "        c.*\n",
    "        , CASE\n",
    "            WHEN ra.latest_model_score_norescore < 360 THEN '1. <360'\n",
    "            WHEN ra.latest_model_score_norescore <= 440 THEN '2. 360-440'\n",
    "            WHEN ra.latest_model_score_norescore > 440 THEN '3. >440'\n",
    "            ELSE '3. >440'\n",
    "        END as score\n",
    "        , CASE trim(upper(coalesce(a.currentCompanyAddressProvince,a.applicantCurrentResidenceProvince,a.applicantResidenceProvince)))\n",
    "            WHEN 'NANGGROE ACEH DARUSSALAM' THEN 'ACEH'\n",
    "            WHEN 'KEPULA TAN RIAU' THEN 'KEPULAUAN RIAU'\n",
    "            WHEN 'JAWA TIMUR\\nKOTA SURABAYA\\n3576396206810002\\nWW.A\\nA ASTA\\n PROVINSI JAWA TIMUR' THEN 'JAWA TIMUR'\n",
    "            WHEN 'IMUR' THEN 'JAWA TIMUR'\n",
    "            WHEN 'JAWA IINUI' THEN 'JAWA TIMUR'\n",
    "            WHEN 'JAWA TARAT' THEN 'JAWA BARAT'\n",
    "            WHEN '1 AA' THEN 'JAWA BARAT'\n",
    "            WHEN 'DAERAH ISTIMEWA YOGYAKARTA' THEN 'DI YOGYAKARTA'\n",
    "            WHEN 'BANTEN\\nKOTA TANGERANG\\n*3172016 1143000\\nNIK\\n PROVINS BANTEN' THEN 'BANTEN'\n",
    "            WHEN 'NUSA TENGGARAT' THEN 'NUSA TENGGARA TIMUR'\n",
    "            ELSE trim(upper(coalesce(a.currentCompanyAddressProvince,a.applicantCurrentResidenceProvince,a.applicantResidenceProvince)))\n",
    "        END as province\n",
    "        , COALESCE(a.applicantGender,'MALE') as sex\n",
    "        , CASE \n",
    "            WHEN a.typeOfJobs IS NULL THEN 'Pegawai Swasta'\n",
    "            ELSE a.typeOfJobs\n",
    "        END as job_type\n",
    "        , CASE a.currentCompanyIndustry\n",
    "            WHEN 'Asuransi/Forex' THEN 'Financial Services' \n",
    "            WHEN 'Biro Jasa' THEN 'Services' \n",
    "            WHEN 'General & Wholesale Trading' THEN 'Trading/Warehouse' \n",
    "            WHEN 'Hukum dan Perpajakan' THEN 'Law and Taxation' \n",
    "            WHEN 'Industri/Pabrik' THEN 'Industrial/Factory' \n",
    "            WHEN 'Jasa/Pelayanan' THEN 'Services' \n",
    "            WHEN 'Kesehatan/Klinik' THEN 'Health Services' \n",
    "            WHEN 'Keuangan' THEN 'Financial Services' \n",
    "            WHEN 'Keuangan/Bank' THEN 'Financial Services' \n",
    "            WHEN 'Konsultan' THEN 'Consultancy ' \n",
    "            WHEN 'Kontraktor/Properti' THEN 'Contractor/Real Estate' \n",
    "            WHEN 'Medis' THEN 'Health Services' \n",
    "            WHEN 'Pariwisata' THEN 'Leisure' \n",
    "            WHEN 'Pemerintahan' THEN 'Government Sector' \n",
    "            WHEN 'Perdagangan' THEN 'Trading/Warehouse' \n",
    "            WHEN 'Pergudangan' THEN 'Trading/Warehouse' \n",
    "            WHEN 'Perkebunan' THEN 'Agriculture' \n",
    "            WHEN 'Pertambangan' THEN 'Mining' \n",
    "            WHEN 'Properti' THEN 'Contractor/Real Estate' \n",
    "            WHEN 'Restoran/Bar/Cafe' THEN 'Hospitality' \n",
    "            WHEN 'Retail' THEN 'Retail' \n",
    "            WHEN 'Spesialis' THEN 'Professional' \n",
    "            WHEN 'Telekomunikasi' THEN 'Telecommunication' \n",
    "            WHEN 'Transportasi' THEN 'Transportation' \n",
    "            WHEN 'perdagangan' THEN 'Trading/Warehouse' \n",
    "            WHEN 'service' THEN 'Services' \n",
    "            ELSE 'Others' \n",
    "        END as company_industry\n",
    "        , CASE \n",
    "            WHEN u.age <17 THEN '<17'\n",
    "            WHEN u.age <=22 THEN '17-22'\n",
    "            WHEN u.age <=30 THEN '23-30'\n",
    "            WHEN u.age <=40 THEN '31-40'\n",
    "            WHEN u.age >40 THEN '>40'\n",
    "            WHEN u.age is null THEN '31-40'\n",
    "        END as age\n",
    "        , CASE WHEN dpd BETWEEN 31 AND 120 THEN balance_loan_amount ELSE 0 END as outstanding_30plus\n",
    "        , CASE WHEN dpd BETWEEN 61 AND 120 THEN balance_loan_amount ELSE 0 END as outstanding_60plus\n",
    "        , CASE WHEN dpd <= 120 THEN balance_loan_amount ELSE 0 END as outstanding\n",
    "    FROM contracts c \n",
    "    INNER JOIN data-platform-indodana.vayu.indodana_athena_applications a ON a.orderId=c.orderId\n",
    "    LEFT JOIN athena-179008.vayu_data_mart.dm_application_risk_analytics ra ON ra.orderId=a.orderId\n",
    "    LEFT JOIN `athena-179008.vayu_data_mart.indodanamarketing_user_segmentation` u ON u.userId=c.userId\n",
    "    WHERE dpd<=120\n",
    ")\n",
    "\n",
    "SELECT\n",
    "    *\n",
    "#     age\n",
    "#     , sex\n",
    "#     , job_type\n",
    "#     , company_industry\n",
    "#     , score\n",
    "#     , province\n",
    "#     , CAST(SUM(outstanding) AS INT64) as outstanding\n",
    "#     , CAST(SUM(outstanding_30plus) AS INT64) as outstanding_30plus\n",
    "#     , CAST(SUM(outstanding_60plus) AS INT64) as outstanding_60plus\n",
    "FROM combined_data\n",
    "# GROUP BY 1,2,3,4,5,6"
   ]
  },
  {
   "cell_type": "markdown",
   "metadata": {},
   "source": [
    "Sample 5 rows to check"
   ]
  },
  {
   "cell_type": "code",
   "execution_count": 80,
   "metadata": {},
   "outputs": [
    {
     "data": {
      "text/plain": [
       "(268009, 15)"
      ]
     },
     "execution_count": 80,
     "metadata": {},
     "output_type": "execute_result"
    }
   ],
   "source": [
    "param1.shape\n",
    "# param1.dtypes"
   ]
  },
  {
   "cell_type": "code",
   "execution_count": 81,
   "metadata": {
    "scrolled": false
   },
   "outputs": [
    {
     "data": {
      "text/html": [
       "<div>\n",
       "<style scoped>\n",
       "    .dataframe tbody tr th:only-of-type {\n",
       "        vertical-align: middle;\n",
       "    }\n",
       "\n",
       "    .dataframe tbody tr th {\n",
       "        vertical-align: top;\n",
       "    }\n",
       "\n",
       "    .dataframe thead th {\n",
       "        text-align: right;\n",
       "    }\n",
       "</style>\n",
       "<table border=\"1\" class=\"dataframe\">\n",
       "  <thead>\n",
       "    <tr style=\"text-align: right;\">\n",
       "      <th></th>\n",
       "      <th>product</th>\n",
       "      <th>userId</th>\n",
       "      <th>orderId</th>\n",
       "      <th>entity_id</th>\n",
       "      <th>dpd</th>\n",
       "      <th>balance_loan_amount</th>\n",
       "      <th>score</th>\n",
       "      <th>province</th>\n",
       "      <th>sex</th>\n",
       "      <th>job_type</th>\n",
       "      <th>company_industry</th>\n",
       "      <th>age</th>\n",
       "      <th>outstanding_30plus</th>\n",
       "      <th>outstanding_60plus</th>\n",
       "      <th>outstanding</th>\n",
       "    </tr>\n",
       "  </thead>\n",
       "  <tbody>\n",
       "    <tr>\n",
       "      <th>0</th>\n",
       "      <td>PAYLATER</td>\n",
       "      <td>30ead2bd-be6b-4c23-9739-7767e31bca58</td>\n",
       "      <td>CLI-7TM4EGTN</td>\n",
       "      <td>TRX-U323NN</td>\n",
       "      <td>-7</td>\n",
       "      <td>1.764908e+06</td>\n",
       "      <td>2. 360-440</td>\n",
       "      <td>JAWA BARAT</td>\n",
       "      <td>MALE</td>\n",
       "      <td>Pegawai Swasta</td>\n",
       "      <td>Industrial/Factory</td>\n",
       "      <td>31-40</td>\n",
       "      <td>0.0</td>\n",
       "      <td>0.0</td>\n",
       "      <td>1.764908e+06</td>\n",
       "    </tr>\n",
       "    <tr>\n",
       "      <th>1</th>\n",
       "      <td>PAYLATER</td>\n",
       "      <td>30ead2bd-be6b-4c23-9739-7767e31bca58</td>\n",
       "      <td>CLI-7TM4EGTN</td>\n",
       "      <td>TRX-LEN18T</td>\n",
       "      <td>-9</td>\n",
       "      <td>1.069950e+06</td>\n",
       "      <td>2. 360-440</td>\n",
       "      <td>JAWA BARAT</td>\n",
       "      <td>MALE</td>\n",
       "      <td>Pegawai Swasta</td>\n",
       "      <td>Industrial/Factory</td>\n",
       "      <td>31-40</td>\n",
       "      <td>0.0</td>\n",
       "      <td>0.0</td>\n",
       "      <td>1.069950e+06</td>\n",
       "    </tr>\n",
       "    <tr>\n",
       "      <th>2</th>\n",
       "      <td>PAYLATER</td>\n",
       "      <td>30ead2bd-be6b-4c23-9739-7767e31bca58</td>\n",
       "      <td>CLI-7TM4EGTN</td>\n",
       "      <td>TRX-LMHVO3</td>\n",
       "      <td>-12</td>\n",
       "      <td>5.616667e+05</td>\n",
       "      <td>2. 360-440</td>\n",
       "      <td>JAWA BARAT</td>\n",
       "      <td>MALE</td>\n",
       "      <td>Pegawai Swasta</td>\n",
       "      <td>Industrial/Factory</td>\n",
       "      <td>31-40</td>\n",
       "      <td>0.0</td>\n",
       "      <td>0.0</td>\n",
       "      <td>5.616667e+05</td>\n",
       "    </tr>\n",
       "    <tr>\n",
       "      <th>3</th>\n",
       "      <td>PAYLATER</td>\n",
       "      <td>37cd5d8d-848a-4d29-8225-0cf7e01ec776</td>\n",
       "      <td>CLI-P11C2Y6L</td>\n",
       "      <td>TRX-A608AM</td>\n",
       "      <td>-12</td>\n",
       "      <td>3.340660e+05</td>\n",
       "      <td>2. 360-440</td>\n",
       "      <td>JAWA BARAT</td>\n",
       "      <td>MALE</td>\n",
       "      <td>Wiraswasta</td>\n",
       "      <td>Trading/Warehouse</td>\n",
       "      <td>23-30</td>\n",
       "      <td>0.0</td>\n",
       "      <td>0.0</td>\n",
       "      <td>3.340660e+05</td>\n",
       "    </tr>\n",
       "    <tr>\n",
       "      <th>4</th>\n",
       "      <td>PAYLATER</td>\n",
       "      <td>37cd5d8d-848a-4d29-8225-0cf7e01ec776</td>\n",
       "      <td>CLI-P11C2Y6L</td>\n",
       "      <td>TRX-6HT1UO</td>\n",
       "      <td>-3</td>\n",
       "      <td>1.839920e+05</td>\n",
       "      <td>2. 360-440</td>\n",
       "      <td>JAWA BARAT</td>\n",
       "      <td>MALE</td>\n",
       "      <td>Wiraswasta</td>\n",
       "      <td>Trading/Warehouse</td>\n",
       "      <td>23-30</td>\n",
       "      <td>0.0</td>\n",
       "      <td>0.0</td>\n",
       "      <td>1.839920e+05</td>\n",
       "    </tr>\n",
       "  </tbody>\n",
       "</table>\n",
       "</div>"
      ],
      "text/plain": [
       "    product                                userId       orderId   entity_id  \\\n",
       "0  PAYLATER  30ead2bd-be6b-4c23-9739-7767e31bca58  CLI-7TM4EGTN  TRX-U323NN   \n",
       "1  PAYLATER  30ead2bd-be6b-4c23-9739-7767e31bca58  CLI-7TM4EGTN  TRX-LEN18T   \n",
       "2  PAYLATER  30ead2bd-be6b-4c23-9739-7767e31bca58  CLI-7TM4EGTN  TRX-LMHVO3   \n",
       "3  PAYLATER  37cd5d8d-848a-4d29-8225-0cf7e01ec776  CLI-P11C2Y6L  TRX-A608AM   \n",
       "4  PAYLATER  37cd5d8d-848a-4d29-8225-0cf7e01ec776  CLI-P11C2Y6L  TRX-6HT1UO   \n",
       "\n",
       "   dpd  balance_loan_amount       score    province   sex        job_type  \\\n",
       "0   -7         1.764908e+06  2. 360-440  JAWA BARAT  MALE  Pegawai Swasta   \n",
       "1   -9         1.069950e+06  2. 360-440  JAWA BARAT  MALE  Pegawai Swasta   \n",
       "2  -12         5.616667e+05  2. 360-440  JAWA BARAT  MALE  Pegawai Swasta   \n",
       "3  -12         3.340660e+05  2. 360-440  JAWA BARAT  MALE      Wiraswasta   \n",
       "4   -3         1.839920e+05  2. 360-440  JAWA BARAT  MALE      Wiraswasta   \n",
       "\n",
       "     company_industry    age  outstanding_30plus  outstanding_60plus  \\\n",
       "0  Industrial/Factory  31-40                 0.0                 0.0   \n",
       "1  Industrial/Factory  31-40                 0.0                 0.0   \n",
       "2  Industrial/Factory  31-40                 0.0                 0.0   \n",
       "3   Trading/Warehouse  23-30                 0.0                 0.0   \n",
       "4   Trading/Warehouse  23-30                 0.0                 0.0   \n",
       "\n",
       "    outstanding  \n",
       "0  1.764908e+06  \n",
       "1  1.069950e+06  \n",
       "2  5.616667e+05  \n",
       "3  3.340660e+05  \n",
       "4  1.839920e+05  "
      ]
     },
     "execution_count": 81,
     "metadata": {},
     "output_type": "execute_result"
    }
   ],
   "source": [
    "param1.head()"
   ]
  },
  {
   "cell_type": "code",
   "execution_count": 82,
   "metadata": {},
   "outputs": [
    {
     "data": {
      "text/plain": [
       "age\n",
       "17-22     10057\n",
       "23-30     98743\n",
       "31-40    111843\n",
       ">40       47366\n",
       "Name: entity_id, dtype: int64"
      ]
     },
     "execution_count": 82,
     "metadata": {},
     "output_type": "execute_result"
    }
   ],
   "source": [
    "param1.groupby('age',dropna=False)['entity_id'].count()"
   ]
  },
  {
   "cell_type": "code",
   "execution_count": 83,
   "metadata": {
    "scrolled": true
   },
   "outputs": [
    {
     "data": {
      "text/plain": [
       "sex\n",
       "FEMALE    134879\n",
       "MALE      133130\n",
       "Name: entity_id, dtype: int64"
      ]
     },
     "execution_count": 83,
     "metadata": {},
     "output_type": "execute_result"
    }
   ],
   "source": [
    "param1.groupby('sex',dropna=False)['entity_id'].count()"
   ]
  },
  {
   "cell_type": "code",
   "execution_count": 85,
   "metadata": {
    "scrolled": true
   },
   "outputs": [
    {
     "data": {
      "text/plain": [
       "company_industry\n",
       "Agriculture                1027\n",
       "Consultancy                5210\n",
       "Contractor/Real Estate    12307\n",
       "Financial Services        17316\n",
       "Government Sector          7480\n",
       "Health Services            8510\n",
       "Hospitality                7793\n",
       "Industrial/Factory        21723\n",
       "Law and Taxation            931\n",
       "Leisure                    4138\n",
       "Mining                     2929\n",
       "Others                    10665\n",
       "Professional               1635\n",
       "Retail                    66639\n",
       "Services                  45215\n",
       "Telecommunication          8284\n",
       "Trading/Warehouse         40721\n",
       "Transportation             5486\n",
       "Name: entity_id, dtype: int64"
      ]
     },
     "execution_count": 85,
     "metadata": {},
     "output_type": "execute_result"
    }
   ],
   "source": [
    "param1.groupby('company_industry',dropna=False)['entity_id'].count()"
   ]
  },
  {
   "cell_type": "code",
   "execution_count": 86,
   "metadata": {},
   "outputs": [
    {
     "data": {
      "text/plain": [
       "job_type\n",
       "Driver Online            6\n",
       "Freelance               56\n",
       "Ibu Rumah Tangga     10681\n",
       "Karyawan                 1\n",
       "Pegawai BUMN          7156\n",
       "Pegawai Negeri        7118\n",
       "Pegawai Swasta      151824\n",
       "Pelajar                  2\n",
       "Profesional           3932\n",
       "Tidak Bekerja            9\n",
       "Wiraswasta           87224\n",
       "Name: entity_id, dtype: int64"
      ]
     },
     "execution_count": 86,
     "metadata": {},
     "output_type": "execute_result"
    }
   ],
   "source": [
    "param1.groupby('job_type',dropna=False)['entity_id'].count()"
   ]
  },
  {
   "cell_type": "code",
   "execution_count": null,
   "metadata": {},
   "outputs": [],
   "source": [
    "# profession = param1.groupby('profession',dropna=False)['entity_id'].count().to_frame()\n",
    "# profession.reset_index(inplace=True)\n",
    "# profession.dtypes\n",
    "# profession.to_excel('Testttt.xlsx',index=False)"
   ]
  },
  {
   "cell_type": "code",
   "execution_count": 87,
   "metadata": {},
   "outputs": [
    {
     "data": {
      "text/plain": [
       "province\n",
       "ACEH                            291\n",
       "BALI                           3131\n",
       "BANTEN                        28511\n",
       "BENGKULU                         77\n",
       "DI YOGYAKARTA                  3019\n",
       "DKI JAKARTA                  108143\n",
       "GORONTALO                        56\n",
       "JAMBI                           422\n",
       "JAWA BARAT                    70313\n",
       "JAWA TENGAH                    8293\n",
       "JAWA TIMUR                    24873\n",
       "KALIMANTAN BARAT                713\n",
       "KALIMANTAN SELATAN              497\n",
       "KALIMANTAN TENGAH               191\n",
       "KALIMANTAN TIMUR                963\n",
       "KALIMANTAN UTARA                 44\n",
       "KEPULAUAN BANGKA BELITUNG        53\n",
       "KEPULAUAN RIAU                 2417\n",
       "LAMPUNG                         830\n",
       "MALUKU                           41\n",
       "MALUKU UTARA                     65\n",
       "NUSA TENGGARA BARAT             250\n",
       "NUSA TENGGARA TIMUR             248\n",
       "PAPUA                            10\n",
       "RIAU                           1097\n",
       "SULAWESI BARAT                   64\n",
       "SULAWESI SELATAN               3008\n",
       "SULAWESI TENGAH                  75\n",
       "SULAWESI TENGGARA               100\n",
       "SULAWESI UTARA                  334\n",
       "SUMATERA BARAT                  665\n",
       "SUMATERA SELATAN               4063\n",
       "SUMATERA UTARA                 5152\n",
       "Name: entity_id, dtype: int64"
      ]
     },
     "execution_count": 87,
     "metadata": {},
     "output_type": "execute_result"
    }
   ],
   "source": [
    "param1.groupby('province',dropna=False)['entity_id'].count()"
   ]
  },
  {
   "cell_type": "code",
   "execution_count": 88,
   "metadata": {},
   "outputs": [
    {
     "data": {
      "text/html": [
       "<div>\n",
       "<style scoped>\n",
       "    .dataframe tbody tr th:only-of-type {\n",
       "        vertical-align: middle;\n",
       "    }\n",
       "\n",
       "    .dataframe tbody tr th {\n",
       "        vertical-align: top;\n",
       "    }\n",
       "\n",
       "    .dataframe thead th {\n",
       "        text-align: right;\n",
       "    }\n",
       "</style>\n",
       "<table border=\"1\" class=\"dataframe\">\n",
       "  <thead>\n",
       "    <tr style=\"text-align: right;\">\n",
       "      <th></th>\n",
       "      <th>product</th>\n",
       "      <th>userId</th>\n",
       "      <th>orderId</th>\n",
       "      <th>entity_id</th>\n",
       "      <th>dpd</th>\n",
       "      <th>balance_loan_amount</th>\n",
       "      <th>score</th>\n",
       "      <th>province</th>\n",
       "      <th>sex</th>\n",
       "      <th>job_type</th>\n",
       "      <th>company_industry</th>\n",
       "      <th>age</th>\n",
       "      <th>outstanding_30plus</th>\n",
       "      <th>outstanding_60plus</th>\n",
       "      <th>outstanding</th>\n",
       "    </tr>\n",
       "  </thead>\n",
       "  <tbody>\n",
       "  </tbody>\n",
       "</table>\n",
       "</div>"
      ],
      "text/plain": [
       "Empty DataFrame\n",
       "Columns: [product, userId, orderId, entity_id, dpd, balance_loan_amount, score, province, sex, job_type, company_industry, age, outstanding_30plus, outstanding_60plus, outstanding]\n",
       "Index: []"
      ]
     },
     "execution_count": 88,
     "metadata": {},
     "output_type": "execute_result"
    }
   ],
   "source": [
    "param1[(param1['province'].isna())]"
   ]
  },
  {
   "cell_type": "code",
   "execution_count": 89,
   "metadata": {},
   "outputs": [
    {
     "name": "stdout",
     "output_type": "stream",
     "text": [
      "                 dpd  balance_loan_amount  outstanding_30plus  \\\n",
      "count  268009.000000         2.680090e+05        2.680090e+05   \n",
      "mean       -9.253909         7.454021e+05        6.468306e+04   \n",
      "std        26.285414         1.199086e+06        3.935110e+05   \n",
      "min      -348.000000         0.000000e+00        0.000000e+00   \n",
      "25%       -24.000000         7.437600e+04        0.000000e+00   \n",
      "50%       -12.000000         2.595000e+05        0.000000e+00   \n",
      "75%        -7.000000         9.687040e+05        0.000000e+00   \n",
      "max       120.000000         1.104425e+07        1.104425e+07   \n",
      "\n",
      "       outstanding_60plus   outstanding  \n",
      "count        2.680090e+05  2.680090e+05  \n",
      "mean         4.000115e+04  7.454021e+05  \n",
      "std          3.082001e+05  1.199086e+06  \n",
      "min          0.000000e+00  0.000000e+00  \n",
      "25%          0.000000e+00  7.437600e+04  \n",
      "50%          0.000000e+00  2.595000e+05  \n",
      "75%          0.000000e+00  9.687040e+05  \n",
      "max          1.104425e+07  1.104425e+07  \n",
      "product                False\n",
      "userId                 False\n",
      "orderId                False\n",
      "entity_id              False\n",
      "dpd                    False\n",
      "balance_loan_amount    False\n",
      "score                  False\n",
      "province               False\n",
      "sex                    False\n",
      "job_type               False\n",
      "company_industry       False\n",
      "age                    False\n",
      "outstanding_30plus     False\n",
      "outstanding_60plus     False\n",
      "outstanding            False\n",
      "dtype: bool\n",
      "product                0\n",
      "userId                 0\n",
      "orderId                0\n",
      "entity_id              0\n",
      "dpd                    0\n",
      "balance_loan_amount    0\n",
      "score                  0\n",
      "province               0\n",
      "sex                    0\n",
      "job_type               0\n",
      "company_industry       0\n",
      "age                    0\n",
      "outstanding_30plus     0\n",
      "outstanding_60plus     0\n",
      "outstanding            0\n",
      "dtype: int64\n"
     ]
    }
   ],
   "source": [
    "print(param1.describe())\n",
    "print(param1.isna().any())\n",
    "print(param1.isnull().sum())"
   ]
  },
  {
   "cell_type": "code",
   "execution_count": null,
   "metadata": {},
   "outputs": [],
   "source": []
  }
 ],
 "metadata": {
  "kernelspec": {
   "display_name": "Python 3",
   "language": "python",
   "name": "python3"
  },
  "language_info": {
   "codemirror_mode": {
    "name": "ipython",
    "version": 3
   },
   "file_extension": ".py",
   "mimetype": "text/x-python",
   "name": "python",
   "nbconvert_exporter": "python",
   "pygments_lexer": "ipython3",
   "version": "3.7.3"
  }
 },
 "nbformat": 4,
 "nbformat_minor": 2
}
