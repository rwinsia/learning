{
 "cells": [
  {
   "cell_type": "markdown",
   "metadata": {},
   "source": [
    "https://p.cermati.com/T45804"
   ]
  },
  {
   "cell_type": "markdown",
   "metadata": {},
   "source": [
    "Establish connection"
   ]
  },
  {
   "cell_type": "code",
   "execution_count": 1,
   "metadata": {},
   "outputs": [
    {
     "name": "stdout",
     "output_type": "stream",
     "text": [
      "C:\\Users\\Cermati\\AppData\\Roaming\\gcloud\\application_default_credentials.json\n"
     ]
    }
   ],
   "source": [
    "%reload_ext google.cloud.bigquery\n",
    "import os\n",
    "os.environ[\"GOOGLE_APPLICATION_CREDENTIALS\"]=\"C:\\\\Users\\\\Cermati\\\\AppData\\\\Roaming\\\\gcloud\\\\application_default_credentials.json\"\n",
    "print(os.environ[\"GOOGLE_APPLICATION_CREDENTIALS\"])"
   ]
  },
  {
   "cell_type": "markdown",
   "metadata": {},
   "source": [
    "Insert query here"
   ]
  },
  {
   "cell_type": "code",
   "execution_count": 2,
   "metadata": {},
   "outputs": [],
   "source": [
    "%%bigquery param1 --project athena-179008\n",
    "\n",
    "WITH data as (\n",
    "    SELECT\n",
    "        replace(a.applicantMobilePhoneNumber1,'+','') as mobile\n",
    "        , MAX(CASE WHEN a.productType='CASH_LOAN' THEN date(a.createdAt,\"Asia/Jakarta\") END) as apply_date_cashloan\n",
    "        , CASE WHEN MAX(CASE WHEN a.productType='CASH_LOAN' THEN date(a.createdAt,\"Asia/Jakarta\") END) IS NOT NULL THEN 'YES' ELSE 'NO' END as has_apply_cashloan\n",
    "        , MAX(CASE WHEN a.productType='CASH_LOAN' THEN date(a.submitDate,\"Asia/Jakarta\") END) as complete_date_cashloan\n",
    "        , CASE WHEN MAX(CASE WHEN a.productType='CASH_LOAN' THEN date(a.submitDate,\"Asia/Jakarta\") END) IS NOT NULL THEN 'YES' ELSE 'NO' END as has_complete_cashloan\n",
    "        , CASE WHEN MAX(CASE WHEN a.productType='CASH_LOAN' AND a.status='Approved' THEN 1 END) IS NOT NULL THEN 'YES' ELSE 'NO' END as has_approve_cashloan\n",
    "        \n",
    "        , MAX(CASE WHEN a.productType='CREDIT_LIMIT' THEN date(a.createdAt,\"Asia/Jakarta\") END) as apply_date_paylater\n",
    "        , CASE WHEN MAX(CASE WHEN a.productType='CREDIT_LIMIT' THEN date(a.createdAt,\"Asia/Jakarta\") END) IS NOT NULL THEN 'YES' ELSE 'NO' END as has_apply_paylater\n",
    "        , MAX(CASE WHEN a.productType='CREDIT_LIMIT' THEN date(a.submitDate,\"Asia/Jakarta\") END) as complete_date_paylater\n",
    "        , CASE WHEN MAX(CASE WHEN a.productType='CREDIT_LIMIT' THEN date(a.submitDate,\"Asia/Jakarta\") END) IS NOT NULL THEN 'YES' ELSE 'NO' END as has_complete_paylater\n",
    "        , CASE WHEN MAX(CASE WHEN a.productType='CREDIT_LIMIT' AND a.status='Approved' THEN 1 END) IS NOT NULL THEN 'YES' ELSE 'NO' END as has_approve_paylater\n",
    "        , CASE WHEN MAX(CASE WHEN a.productType='CREDIT_LIMIT' AND c.orderId is not null THEN 1 END) IS NOT NULL THEN 'YES' ELSE 'NO' END as has_used_paylater\n",
    "    FROM data-platform-indodana.vayu.indodana_athena_applications a \n",
    "    LEFT JOIN athena-179008.vayu_data_mart.view_cli_contracts c ON c.orderId=a.orderId AND (c.active_trx+c.finished_trx)>0\n",
    "    WHERE a.productType in ('CASH_LOAN','CREDIT_LIMIT')\n",
    "    AND a.partner IS NULL\n",
    "    GROUP BY 1\n",
    ")\n",
    "SELECT * FROM data"
   ]
  },
  {
   "cell_type": "markdown",
   "metadata": {},
   "source": [
    "Sample 5 rows to check"
   ]
  },
  {
   "cell_type": "code",
   "execution_count": 3,
   "metadata": {},
   "outputs": [
    {
     "data": {
      "text/plain": [
       "(4121698, 12)"
      ]
     },
     "execution_count": 3,
     "metadata": {},
     "output_type": "execute_result"
    }
   ],
   "source": [
    "param1.shape\n",
    "# param1.dtypes"
   ]
  },
  {
   "cell_type": "code",
   "execution_count": 4,
   "metadata": {
    "scrolled": true
   },
   "outputs": [
    {
     "data": {
      "text/html": [
       "<div>\n",
       "<style scoped>\n",
       "    .dataframe tbody tr th:only-of-type {\n",
       "        vertical-align: middle;\n",
       "    }\n",
       "\n",
       "    .dataframe tbody tr th {\n",
       "        vertical-align: top;\n",
       "    }\n",
       "\n",
       "    .dataframe thead th {\n",
       "        text-align: right;\n",
       "    }\n",
       "</style>\n",
       "<table border=\"1\" class=\"dataframe\">\n",
       "  <thead>\n",
       "    <tr style=\"text-align: right;\">\n",
       "      <th></th>\n",
       "      <th>mobile</th>\n",
       "      <th>apply_date_cashloan</th>\n",
       "      <th>has_apply_cashloan</th>\n",
       "      <th>complete_date_cashloan</th>\n",
       "      <th>has_complete_cashloan</th>\n",
       "      <th>has_approve_cashloan</th>\n",
       "      <th>apply_date_paylater</th>\n",
       "      <th>has_apply_paylater</th>\n",
       "      <th>complete_date_paylater</th>\n",
       "      <th>has_complete_paylater</th>\n",
       "      <th>has_approve_paylater</th>\n",
       "      <th>has_used_paylater</th>\n",
       "    </tr>\n",
       "  </thead>\n",
       "  <tbody>\n",
       "    <tr>\n",
       "      <th>0</th>\n",
       "      <td>6281288328161</td>\n",
       "      <td>2018-06-16</td>\n",
       "      <td>YES</td>\n",
       "      <td>None</td>\n",
       "      <td>NO</td>\n",
       "      <td>NO</td>\n",
       "      <td>None</td>\n",
       "      <td>NO</td>\n",
       "      <td>None</td>\n",
       "      <td>NO</td>\n",
       "      <td>NO</td>\n",
       "      <td>NO</td>\n",
       "    </tr>\n",
       "    <tr>\n",
       "      <th>1</th>\n",
       "      <td>6281908476718</td>\n",
       "      <td>2019-04-09</td>\n",
       "      <td>YES</td>\n",
       "      <td>2019-04-09</td>\n",
       "      <td>YES</td>\n",
       "      <td>YES</td>\n",
       "      <td>None</td>\n",
       "      <td>NO</td>\n",
       "      <td>None</td>\n",
       "      <td>NO</td>\n",
       "      <td>NO</td>\n",
       "      <td>NO</td>\n",
       "    </tr>\n",
       "    <tr>\n",
       "      <th>2</th>\n",
       "      <td>6281233243550</td>\n",
       "      <td>2018-01-15</td>\n",
       "      <td>YES</td>\n",
       "      <td>None</td>\n",
       "      <td>NO</td>\n",
       "      <td>NO</td>\n",
       "      <td>None</td>\n",
       "      <td>NO</td>\n",
       "      <td>None</td>\n",
       "      <td>NO</td>\n",
       "      <td>NO</td>\n",
       "      <td>NO</td>\n",
       "    </tr>\n",
       "    <tr>\n",
       "      <th>3</th>\n",
       "      <td>6282214949480</td>\n",
       "      <td>2018-02-25</td>\n",
       "      <td>YES</td>\n",
       "      <td>None</td>\n",
       "      <td>NO</td>\n",
       "      <td>NO</td>\n",
       "      <td>2020-09-11</td>\n",
       "      <td>YES</td>\n",
       "      <td>None</td>\n",
       "      <td>NO</td>\n",
       "      <td>NO</td>\n",
       "      <td>NO</td>\n",
       "    </tr>\n",
       "    <tr>\n",
       "      <th>4</th>\n",
       "      <td>6285891711539</td>\n",
       "      <td>2020-10-31</td>\n",
       "      <td>YES</td>\n",
       "      <td>None</td>\n",
       "      <td>NO</td>\n",
       "      <td>NO</td>\n",
       "      <td>2020-12-04</td>\n",
       "      <td>YES</td>\n",
       "      <td>None</td>\n",
       "      <td>NO</td>\n",
       "      <td>NO</td>\n",
       "      <td>NO</td>\n",
       "    </tr>\n",
       "  </tbody>\n",
       "</table>\n",
       "</div>"
      ],
      "text/plain": [
       "          mobile apply_date_cashloan has_apply_cashloan  \\\n",
       "0  6281288328161          2018-06-16                YES   \n",
       "1  6281908476718          2019-04-09                YES   \n",
       "2  6281233243550          2018-01-15                YES   \n",
       "3  6282214949480          2018-02-25                YES   \n",
       "4  6285891711539          2020-10-31                YES   \n",
       "\n",
       "  complete_date_cashloan has_complete_cashloan has_approve_cashloan  \\\n",
       "0                   None                    NO                   NO   \n",
       "1             2019-04-09                   YES                  YES   \n",
       "2                   None                    NO                   NO   \n",
       "3                   None                    NO                   NO   \n",
       "4                   None                    NO                   NO   \n",
       "\n",
       "  apply_date_paylater has_apply_paylater complete_date_paylater  \\\n",
       "0                None                 NO                   None   \n",
       "1                None                 NO                   None   \n",
       "2                None                 NO                   None   \n",
       "3          2020-09-11                YES                   None   \n",
       "4          2020-12-04                YES                   None   \n",
       "\n",
       "  has_complete_paylater has_approve_paylater has_used_paylater  \n",
       "0                    NO                   NO                NO  \n",
       "1                    NO                   NO                NO  \n",
       "2                    NO                   NO                NO  \n",
       "3                    NO                   NO                NO  \n",
       "4                    NO                   NO                NO  "
      ]
     },
     "execution_count": 4,
     "metadata": {},
     "output_type": "execute_result"
    }
   ],
   "source": [
    "param1.head()"
   ]
  },
  {
   "cell_type": "markdown",
   "metadata": {},
   "source": [
    "Import file "
   ]
  },
  {
   "cell_type": "code",
   "execution_count": 5,
   "metadata": {},
   "outputs": [],
   "source": [
    "import pandas as pd\n",
    "df = pd.read_csv('995173.csv')"
   ]
  },
  {
   "cell_type": "code",
   "execution_count": 9,
   "metadata": {},
   "outputs": [
    {
     "data": {
      "text/plain": [
       "email     object\n",
       "mobile    object\n",
       "dtype: object"
      ]
     },
     "execution_count": 9,
     "metadata": {},
     "output_type": "execute_result"
    }
   ],
   "source": [
    "df.shape\n",
    "df['mobile']=df['mobile'].astype(str)\n",
    "df.dtypes"
   ]
  },
  {
   "cell_type": "code",
   "execution_count": 7,
   "metadata": {},
   "outputs": [
    {
     "data": {
      "text/html": [
       "<div>\n",
       "<style scoped>\n",
       "    .dataframe tbody tr th:only-of-type {\n",
       "        vertical-align: middle;\n",
       "    }\n",
       "\n",
       "    .dataframe tbody tr th {\n",
       "        vertical-align: top;\n",
       "    }\n",
       "\n",
       "    .dataframe thead th {\n",
       "        text-align: right;\n",
       "    }\n",
       "</style>\n",
       "<table border=\"1\" class=\"dataframe\">\n",
       "  <thead>\n",
       "    <tr style=\"text-align: right;\">\n",
       "      <th></th>\n",
       "      <th>email</th>\n",
       "      <th>mobile</th>\n",
       "    </tr>\n",
       "  </thead>\n",
       "  <tbody>\n",
       "    <tr>\n",
       "      <th>0</th>\n",
       "      <td>faraniandreawan12@gmail.com</td>\n",
       "      <td>6281357505253</td>\n",
       "    </tr>\n",
       "    <tr>\n",
       "      <th>1</th>\n",
       "      <td>aghanugraha162@gmail.com</td>\n",
       "      <td>6282217465122</td>\n",
       "    </tr>\n",
       "    <tr>\n",
       "      <th>2</th>\n",
       "      <td>syauqyrachman@gmail.com</td>\n",
       "      <td>6281511470181</td>\n",
       "    </tr>\n",
       "    <tr>\n",
       "      <th>3</th>\n",
       "      <td>astymp@gmail.com</td>\n",
       "      <td>6281319705902</td>\n",
       "    </tr>\n",
       "    <tr>\n",
       "      <th>4</th>\n",
       "      <td>indaezra136@gmail.com</td>\n",
       "      <td>6282299062249</td>\n",
       "    </tr>\n",
       "  </tbody>\n",
       "</table>\n",
       "</div>"
      ],
      "text/plain": [
       "                         email         mobile\n",
       "0  faraniandreawan12@gmail.com  6281357505253\n",
       "1     aghanugraha162@gmail.com  6282217465122\n",
       "2      syauqyrachman@gmail.com  6281511470181\n",
       "3             astymp@gmail.com  6281319705902\n",
       "4        indaezra136@gmail.com  6282299062249"
      ]
     },
     "execution_count": 7,
     "metadata": {},
     "output_type": "execute_result"
    }
   ],
   "source": [
    "df.columns = ['email', 'mobile']\n",
    "df.head()"
   ]
  },
  {
   "cell_type": "markdown",
   "metadata": {},
   "source": [
    "Try to inner join "
   ]
  },
  {
   "cell_type": "code",
   "execution_count": 10,
   "metadata": {},
   "outputs": [],
   "source": [
    "result = pd.merge(df, param1, how=\"left\", on=[\"mobile\"])"
   ]
  },
  {
   "cell_type": "code",
   "execution_count": 11,
   "metadata": {
    "scrolled": true
   },
   "outputs": [
    {
     "data": {
      "text/plain": [
       "(632427, 13)"
      ]
     },
     "execution_count": 11,
     "metadata": {},
     "output_type": "execute_result"
    }
   ],
   "source": [
    "result.shape"
   ]
  },
  {
   "cell_type": "code",
   "execution_count": 12,
   "metadata": {},
   "outputs": [
    {
     "data": {
      "text/html": [
       "<div>\n",
       "<style scoped>\n",
       "    .dataframe tbody tr th:only-of-type {\n",
       "        vertical-align: middle;\n",
       "    }\n",
       "\n",
       "    .dataframe tbody tr th {\n",
       "        vertical-align: top;\n",
       "    }\n",
       "\n",
       "    .dataframe thead th {\n",
       "        text-align: right;\n",
       "    }\n",
       "</style>\n",
       "<table border=\"1\" class=\"dataframe\">\n",
       "  <thead>\n",
       "    <tr style=\"text-align: right;\">\n",
       "      <th></th>\n",
       "      <th>email</th>\n",
       "      <th>mobile</th>\n",
       "      <th>apply_date_cashloan</th>\n",
       "      <th>has_apply_cashloan</th>\n",
       "      <th>complete_date_cashloan</th>\n",
       "      <th>has_complete_cashloan</th>\n",
       "      <th>has_approve_cashloan</th>\n",
       "      <th>apply_date_paylater</th>\n",
       "      <th>has_apply_paylater</th>\n",
       "      <th>complete_date_paylater</th>\n",
       "      <th>has_complete_paylater</th>\n",
       "      <th>has_approve_paylater</th>\n",
       "      <th>has_used_paylater</th>\n",
       "    </tr>\n",
       "  </thead>\n",
       "  <tbody>\n",
       "    <tr>\n",
       "      <th>0</th>\n",
       "      <td>faraniandreawan12@gmail.com</td>\n",
       "      <td>6281357505253</td>\n",
       "      <td>2021-05-06</td>\n",
       "      <td>YES</td>\n",
       "      <td>2021-05-21</td>\n",
       "      <td>YES</td>\n",
       "      <td>NO</td>\n",
       "      <td>2020-10-13</td>\n",
       "      <td>YES</td>\n",
       "      <td>2021-05-21</td>\n",
       "      <td>YES</td>\n",
       "      <td>NO</td>\n",
       "      <td>NO</td>\n",
       "    </tr>\n",
       "    <tr>\n",
       "      <th>1</th>\n",
       "      <td>aghanugraha162@gmail.com</td>\n",
       "      <td>6282217465122</td>\n",
       "      <td>2019-08-21</td>\n",
       "      <td>YES</td>\n",
       "      <td>2019-08-21</td>\n",
       "      <td>YES</td>\n",
       "      <td>YES</td>\n",
       "      <td>2019-09-07</td>\n",
       "      <td>YES</td>\n",
       "      <td>2019-09-07</td>\n",
       "      <td>YES</td>\n",
       "      <td>NO</td>\n",
       "      <td>NO</td>\n",
       "    </tr>\n",
       "    <tr>\n",
       "      <th>2</th>\n",
       "      <td>syauqyrachman@gmail.com</td>\n",
       "      <td>6281511470181</td>\n",
       "      <td>2019-03-03</td>\n",
       "      <td>YES</td>\n",
       "      <td>2020-08-18</td>\n",
       "      <td>YES</td>\n",
       "      <td>NO</td>\n",
       "      <td>2021-05-06</td>\n",
       "      <td>YES</td>\n",
       "      <td>2021-05-06</td>\n",
       "      <td>YES</td>\n",
       "      <td>YES</td>\n",
       "      <td>NO</td>\n",
       "    </tr>\n",
       "    <tr>\n",
       "      <th>3</th>\n",
       "      <td>astymp@gmail.com</td>\n",
       "      <td>6281319705902</td>\n",
       "      <td>2021-03-01</td>\n",
       "      <td>YES</td>\n",
       "      <td>2021-03-01</td>\n",
       "      <td>YES</td>\n",
       "      <td>YES</td>\n",
       "      <td>2019-08-06</td>\n",
       "      <td>YES</td>\n",
       "      <td>2019-08-06</td>\n",
       "      <td>YES</td>\n",
       "      <td>YES</td>\n",
       "      <td>YES</td>\n",
       "    </tr>\n",
       "    <tr>\n",
       "      <th>4</th>\n",
       "      <td>indaezra136@gmail.com</td>\n",
       "      <td>6282299062249</td>\n",
       "      <td>2021-01-16</td>\n",
       "      <td>YES</td>\n",
       "      <td>2021-01-16</td>\n",
       "      <td>YES</td>\n",
       "      <td>YES</td>\n",
       "      <td>2020-02-11</td>\n",
       "      <td>YES</td>\n",
       "      <td>2020-02-11</td>\n",
       "      <td>YES</td>\n",
       "      <td>YES</td>\n",
       "      <td>NO</td>\n",
       "    </tr>\n",
       "  </tbody>\n",
       "</table>\n",
       "</div>"
      ],
      "text/plain": [
       "                         email         mobile apply_date_cashloan  \\\n",
       "0  faraniandreawan12@gmail.com  6281357505253          2021-05-06   \n",
       "1     aghanugraha162@gmail.com  6282217465122          2019-08-21   \n",
       "2      syauqyrachman@gmail.com  6281511470181          2019-03-03   \n",
       "3             astymp@gmail.com  6281319705902          2021-03-01   \n",
       "4        indaezra136@gmail.com  6282299062249          2021-01-16   \n",
       "\n",
       "  has_apply_cashloan complete_date_cashloan has_complete_cashloan  \\\n",
       "0                YES             2021-05-21                   YES   \n",
       "1                YES             2019-08-21                   YES   \n",
       "2                YES             2020-08-18                   YES   \n",
       "3                YES             2021-03-01                   YES   \n",
       "4                YES             2021-01-16                   YES   \n",
       "\n",
       "  has_approve_cashloan apply_date_paylater has_apply_paylater  \\\n",
       "0                   NO          2020-10-13                YES   \n",
       "1                  YES          2019-09-07                YES   \n",
       "2                   NO          2021-05-06                YES   \n",
       "3                  YES          2019-08-06                YES   \n",
       "4                  YES          2020-02-11                YES   \n",
       "\n",
       "  complete_date_paylater has_complete_paylater has_approve_paylater  \\\n",
       "0             2021-05-21                   YES                   NO   \n",
       "1             2019-09-07                   YES                   NO   \n",
       "2             2021-05-06                   YES                  YES   \n",
       "3             2019-08-06                   YES                  YES   \n",
       "4             2020-02-11                   YES                  YES   \n",
       "\n",
       "  has_used_paylater  \n",
       "0                NO  \n",
       "1                NO  \n",
       "2                NO  \n",
       "3               YES  \n",
       "4                NO  "
      ]
     },
     "execution_count": 12,
     "metadata": {},
     "output_type": "execute_result"
    }
   ],
   "source": [
    "result.head()"
   ]
  },
  {
   "cell_type": "code",
   "execution_count": 16,
   "metadata": {},
   "outputs": [
    {
     "data": {
      "text/html": [
       "<div>\n",
       "<style scoped>\n",
       "    .dataframe tbody tr th:only-of-type {\n",
       "        vertical-align: middle;\n",
       "    }\n",
       "\n",
       "    .dataframe tbody tr th {\n",
       "        vertical-align: top;\n",
       "    }\n",
       "\n",
       "    .dataframe thead th {\n",
       "        text-align: right;\n",
       "    }\n",
       "</style>\n",
       "<table border=\"1\" class=\"dataframe\">\n",
       "  <thead>\n",
       "    <tr style=\"text-align: right;\">\n",
       "      <th></th>\n",
       "      <th>email</th>\n",
       "      <th>mobile</th>\n",
       "      <th>apply_date_cashloan</th>\n",
       "      <th>has_apply_cashloan</th>\n",
       "      <th>complete_date_cashloan</th>\n",
       "      <th>has_complete_cashloan</th>\n",
       "      <th>has_approve_cashloan</th>\n",
       "      <th>apply_date_paylater</th>\n",
       "      <th>has_apply_paylater</th>\n",
       "      <th>complete_date_paylater</th>\n",
       "      <th>has_complete_paylater</th>\n",
       "      <th>has_approve_paylater</th>\n",
       "      <th>has_used_paylater</th>\n",
       "    </tr>\n",
       "  </thead>\n",
       "  <tbody>\n",
       "    <tr>\n",
       "      <th>count</th>\n",
       "      <td>510945</td>\n",
       "      <td>632427</td>\n",
       "      <td>436511</td>\n",
       "      <td>587816</td>\n",
       "      <td>246705</td>\n",
       "      <td>587816</td>\n",
       "      <td>587816</td>\n",
       "      <td>478706</td>\n",
       "      <td>587816</td>\n",
       "      <td>273047</td>\n",
       "      <td>587816</td>\n",
       "      <td>587816</td>\n",
       "      <td>587816</td>\n",
       "    </tr>\n",
       "    <tr>\n",
       "      <th>unique</th>\n",
       "      <td>498134</td>\n",
       "      <td>632427</td>\n",
       "      <td>1294</td>\n",
       "      <td>2</td>\n",
       "      <td>1179</td>\n",
       "      <td>2</td>\n",
       "      <td>2</td>\n",
       "      <td>684</td>\n",
       "      <td>2</td>\n",
       "      <td>682</td>\n",
       "      <td>2</td>\n",
       "      <td>2</td>\n",
       "      <td>2</td>\n",
       "    </tr>\n",
       "    <tr>\n",
       "      <th>top</th>\n",
       "      <td>jchow@cermati.com</td>\n",
       "      <td>6281281036679</td>\n",
       "      <td>2021-03-04</td>\n",
       "      <td>YES</td>\n",
       "      <td>2021-05-10</td>\n",
       "      <td>NO</td>\n",
       "      <td>NO</td>\n",
       "      <td>2021-03-04</td>\n",
       "      <td>YES</td>\n",
       "      <td>2021-04-30</td>\n",
       "      <td>NO</td>\n",
       "      <td>NO</td>\n",
       "      <td>NO</td>\n",
       "    </tr>\n",
       "    <tr>\n",
       "      <th>freq</th>\n",
       "      <td>6</td>\n",
       "      <td>1</td>\n",
       "      <td>5097</td>\n",
       "      <td>436511</td>\n",
       "      <td>3320</td>\n",
       "      <td>341111</td>\n",
       "      <td>532481</td>\n",
       "      <td>5496</td>\n",
       "      <td>478706</td>\n",
       "      <td>3513</td>\n",
       "      <td>314769</td>\n",
       "      <td>552508</td>\n",
       "      <td>580164</td>\n",
       "    </tr>\n",
       "  </tbody>\n",
       "</table>\n",
       "</div>"
      ],
      "text/plain": [
       "                    email         mobile apply_date_cashloan  \\\n",
       "count              510945         632427              436511   \n",
       "unique             498134         632427                1294   \n",
       "top     jchow@cermati.com  6281281036679          2021-03-04   \n",
       "freq                    6              1                5097   \n",
       "\n",
       "       has_apply_cashloan complete_date_cashloan has_complete_cashloan  \\\n",
       "count              587816                 246705                587816   \n",
       "unique                  2                   1179                     2   \n",
       "top                   YES             2021-05-10                    NO   \n",
       "freq               436511                   3320                341111   \n",
       "\n",
       "       has_approve_cashloan apply_date_paylater has_apply_paylater  \\\n",
       "count                587816              478706             587816   \n",
       "unique                    2                 684                  2   \n",
       "top                      NO          2021-03-04                YES   \n",
       "freq                 532481                5496             478706   \n",
       "\n",
       "       complete_date_paylater has_complete_paylater has_approve_paylater  \\\n",
       "count                  273047                587816               587816   \n",
       "unique                    682                     2                    2   \n",
       "top                2021-04-30                    NO                   NO   \n",
       "freq                     3513                314769               552508   \n",
       "\n",
       "       has_used_paylater  \n",
       "count             587816  \n",
       "unique                 2  \n",
       "top                   NO  \n",
       "freq              580164  "
      ]
     },
     "execution_count": 16,
     "metadata": {},
     "output_type": "execute_result"
    }
   ],
   "source": [
    "result.describe()"
   ]
  },
  {
   "cell_type": "code",
   "execution_count": 14,
   "metadata": {},
   "outputs": [
    {
     "data": {
      "text/plain": [
       "email                      True\n",
       "mobile                    False\n",
       "apply_date_cashloan        True\n",
       "has_apply_cashloan         True\n",
       "complete_date_cashloan     True\n",
       "has_complete_cashloan      True\n",
       "has_approve_cashloan       True\n",
       "apply_date_paylater        True\n",
       "has_apply_paylater         True\n",
       "complete_date_paylater     True\n",
       "has_complete_paylater      True\n",
       "has_approve_paylater       True\n",
       "has_used_paylater          True\n",
       "dtype: bool"
      ]
     },
     "execution_count": 14,
     "metadata": {},
     "output_type": "execute_result"
    }
   ],
   "source": [
    "result.isna().any()"
   ]
  },
  {
   "cell_type": "code",
   "execution_count": 15,
   "metadata": {},
   "outputs": [
    {
     "data": {
      "text/plain": [
       "email                     121482\n",
       "mobile                         0\n",
       "apply_date_cashloan       195916\n",
       "has_apply_cashloan         44611\n",
       "complete_date_cashloan    385722\n",
       "has_complete_cashloan      44611\n",
       "has_approve_cashloan       44611\n",
       "apply_date_paylater       153721\n",
       "has_apply_paylater         44611\n",
       "complete_date_paylater    359380\n",
       "has_complete_paylater      44611\n",
       "has_approve_paylater       44611\n",
       "has_used_paylater          44611\n",
       "dtype: int64"
      ]
     },
     "execution_count": 15,
     "metadata": {},
     "output_type": "execute_result"
    }
   ],
   "source": [
    "result.isnull().sum()"
   ]
  },
  {
   "cell_type": "code",
   "execution_count": 36,
   "metadata": {},
   "outputs": [
    {
     "data": {
      "text/plain": [
       "email                     121482\n",
       "mobile                         0\n",
       "apply_date_cashloan       196018\n",
       "has_apply_cashloan             0\n",
       "complete_date_cashloan    385919\n",
       "has_complete_cashloan      44650\n",
       "has_approve_cashloan       44650\n",
       "apply_date_paylater       153872\n",
       "has_apply_paylater             0\n",
       "complete_date_paylater    359607\n",
       "has_complete_paylater      44650\n",
       "has_approve_paylater       44650\n",
       "has_used_paylater          44650\n",
       "dtype: int64"
      ]
     },
     "execution_count": 36,
     "metadata": {},
     "output_type": "execute_result"
    }
   ],
   "source": [
    "result['has_apply_cashloan']=result['has_apply_cashloan'].fillna('NO')\n",
    "result['has_apply_paylater']=result['has_apply_paylater'].fillna('NO')\n",
    "result.isnull().sum()"
   ]
  },
  {
   "cell_type": "code",
   "execution_count": 17,
   "metadata": {},
   "outputs": [
    {
     "name": "stdout",
     "output_type": "stream",
     "text": [
      "Data_User_Uninstall_Last3month_20210525.xlsx\n"
     ]
    }
   ],
   "source": [
    "from datetime import date\n",
    "# print(date.today())\n",
    "today_str = str(date.today()).replace('-','')\n",
    "filename = 'Data_User_Uninstall_Last3month_' + today_str + '.xlsx'\n",
    "print(filename)\n",
    "# result.to_excel(filename,index=False)"
   ]
  },
  {
   "cell_type": "code",
   "execution_count": null,
   "metadata": {},
   "outputs": [],
   "source": []
  }
 ],
 "metadata": {
  "kernelspec": {
   "display_name": "Python 3",
   "language": "python",
   "name": "python3"
  },
  "language_info": {
   "codemirror_mode": {
    "name": "ipython",
    "version": 3
   },
   "file_extension": ".py",
   "mimetype": "text/x-python",
   "name": "python",
   "nbconvert_exporter": "python",
   "pygments_lexer": "ipython3",
   "version": "3.7.3"
  }
 },
 "nbformat": 4,
 "nbformat_minor": 2
}
