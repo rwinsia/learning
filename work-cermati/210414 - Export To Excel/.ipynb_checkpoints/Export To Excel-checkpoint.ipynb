{
 "cells": [
  {
   "cell_type": "markdown",
   "metadata": {},
   "source": [
    "Establish connection"
   ]
  },
  {
   "cell_type": "code",
   "execution_count": 1,
   "metadata": {},
   "outputs": [
    {
     "name": "stdout",
     "output_type": "stream",
     "text": [
      "C:\\Users\\Cermati\\AppData\\Roaming\\gcloud\\application_default_credentials.json\n"
     ]
    }
   ],
   "source": [
    "%reload_ext google.cloud.bigquery\n",
    "import os\n",
    "os.environ[\"GOOGLE_APPLICATION_CREDENTIALS\"]=\"C:\\\\Users\\\\Cermati\\\\AppData\\\\Roaming\\\\gcloud\\\\application_default_credentials.json\"\n",
    "print(os.environ[\"GOOGLE_APPLICATION_CREDENTIALS\"])"
   ]
  },
  {
   "cell_type": "markdown",
   "metadata": {},
   "source": [
    "Insert query here"
   ]
  },
  {
   "cell_type": "code",
   "execution_count": 4,
   "metadata": {},
   "outputs": [],
   "source": [
    "%%bigquery param1 --project athena-179008\n",
    "\n",
    "WITH data as (\n",
    "    SELECT\n",
    "        replace(a.applicantMobilePhoneNumber1,'+','') as mobile\n",
    "        , MAX(CASE WHEN a.productType='CASH_LOAN' THEN date(a.createdAt,\"Asia/Jakarta\") END) as apply_date_cashloan\n",
    "        , CASE WHEN MAX(CASE WHEN a.productType='CASH_LOAN' THEN date(a.createdAt,\"Asia/Jakarta\") END) IS NOT NULL THEN 'YES' ELSE 'NO' END as has_apply_cashloan\n",
    "        , MAX(CASE WHEN a.productType='CASH_LOAN' THEN date(a.submitDate,\"Asia/Jakarta\") END) as complete_date_cashloan\n",
    "        , CASE WHEN MAX(CASE WHEN a.productType='CASH_LOAN' THEN date(a.submitDate,\"Asia/Jakarta\") END) IS NOT NULL THEN 'YES' ELSE 'NO' END as has_complete_cashloan\n",
    "        , CASE WHEN MAX(CASE WHEN a.productType='CASH_LOAN' AND a.status='Approved' THEN 1 END) IS NOT NULL THEN 'YES' ELSE 'NO' END as has_approve_cashloan\n",
    "        \n",
    "        , MAX(CASE WHEN a.productType='CREDIT_LIMIT' THEN date(a.createdAt,\"Asia/Jakarta\") END) as apply_date_paylater\n",
    "        , CASE WHEN MAX(CASE WHEN a.productType='CREDIT_LIMIT' THEN date(a.createdAt,\"Asia/Jakarta\") END) IS NOT NULL THEN 'YES' ELSE 'NO' END as has_apply_paylater\n",
    "        , MAX(CASE WHEN a.productType='CREDIT_LIMIT' THEN date(a.submitDate,\"Asia/Jakarta\") END) as complete_date_paylater\n",
    "        , CASE WHEN MAX(CASE WHEN a.productType='CREDIT_LIMIT' THEN date(a.submitDate,\"Asia/Jakarta\") END) IS NOT NULL THEN 'YES' ELSE 'NO' END as has_complete_paylater\n",
    "        , CASE WHEN MAX(CASE WHEN a.productType='CREDIT_LIMIT' AND a.status='Approved' THEN 1 END) IS NOT NULL THEN 'YES' ELSE 'NO' END as has_approve_paylater\n",
    "        , CASE WHEN MAX(CASE WHEN a.productType='CREDIT_LIMIT' AND c.orderId is not null THEN 1 END) IS NOT NULL THEN 'YES' ELSE 'NO' END as has_used_paylater\n",
    "    FROM data-platform-indodana.vayu.indodana_athena_applications a \n",
    "    LEFT JOIN athena-179008.vayu_data_mart.view_cli_contracts c ON c.orderId=a.orderId AND (c.active_trx+c.finished_trx)>0\n",
    "    WHERE a.productType in ('CASH_LOAN','CREDIT_LIMIT')\n",
    "    AND a.partner IS NULL\n",
    "    GROUP BY 1\n",
    ")\n",
    "SELECT * FROM data"
   ]
  },
  {
   "cell_type": "markdown",
   "metadata": {},
   "source": [
    "Sample 5 rows to check"
   ]
  },
  {
   "cell_type": "code",
   "execution_count": 23,
   "metadata": {},
   "outputs": [
    {
     "data": {
      "text/plain": [
       "mobile                    object\n",
       "apply_date_cashloan       object\n",
       "has_apply_cashloan        object\n",
       "complete_date_cashloan    object\n",
       "has_complete_cashloan     object\n",
       "has_approve_cashloan      object\n",
       "apply_date_paylater       object\n",
       "has_apply_paylater        object\n",
       "complete_date_paylater    object\n",
       "has_complete_paylater     object\n",
       "has_approve_paylater      object\n",
       "has_used_paylater         object\n",
       "dtype: object"
      ]
     },
     "execution_count": 23,
     "metadata": {},
     "output_type": "execute_result"
    }
   ],
   "source": [
    "param1.shape\n",
    "# param1.dtypes"
   ]
  },
  {
   "cell_type": "code",
   "execution_count": 6,
   "metadata": {
    "scrolled": true
   },
   "outputs": [
    {
     "data": {
      "text/html": [
       "<div>\n",
       "<style scoped>\n",
       "    .dataframe tbody tr th:only-of-type {\n",
       "        vertical-align: middle;\n",
       "    }\n",
       "\n",
       "    .dataframe tbody tr th {\n",
       "        vertical-align: top;\n",
       "    }\n",
       "\n",
       "    .dataframe thead th {\n",
       "        text-align: right;\n",
       "    }\n",
       "</style>\n",
       "<table border=\"1\" class=\"dataframe\">\n",
       "  <thead>\n",
       "    <tr style=\"text-align: right;\">\n",
       "      <th></th>\n",
       "      <th>mobile</th>\n",
       "      <th>apply_date_cashloan</th>\n",
       "      <th>has_apply_cashloan</th>\n",
       "      <th>complete_date_cashloan</th>\n",
       "      <th>has_complete_cashloan</th>\n",
       "      <th>has_approve_cashloan</th>\n",
       "      <th>apply_date_paylater</th>\n",
       "      <th>has_apply_paylater</th>\n",
       "      <th>complete_date_paylater</th>\n",
       "      <th>has_complete_paylater</th>\n",
       "      <th>has_approve_paylater</th>\n",
       "      <th>has_used_paylater</th>\n",
       "    </tr>\n",
       "  </thead>\n",
       "  <tbody>\n",
       "    <tr>\n",
       "      <th>0</th>\n",
       "      <td>6285218506223</td>\n",
       "      <td>2021-02-15</td>\n",
       "      <td>YES</td>\n",
       "      <td>2021-02-15</td>\n",
       "      <td>YES</td>\n",
       "      <td>NO</td>\n",
       "      <td>2020-08-21</td>\n",
       "      <td>YES</td>\n",
       "      <td>2021-02-15</td>\n",
       "      <td>YES</td>\n",
       "      <td>NO</td>\n",
       "      <td>NO</td>\n",
       "    </tr>\n",
       "    <tr>\n",
       "      <th>1</th>\n",
       "      <td>6289666221989</td>\n",
       "      <td>2019-06-28</td>\n",
       "      <td>YES</td>\n",
       "      <td>2019-06-28</td>\n",
       "      <td>YES</td>\n",
       "      <td>NO</td>\n",
       "      <td>None</td>\n",
       "      <td>NO</td>\n",
       "      <td>None</td>\n",
       "      <td>NO</td>\n",
       "      <td>NO</td>\n",
       "      <td>NO</td>\n",
       "    </tr>\n",
       "    <tr>\n",
       "      <th>2</th>\n",
       "      <td>6285794911709</td>\n",
       "      <td>2020-06-16</td>\n",
       "      <td>YES</td>\n",
       "      <td>2020-06-16</td>\n",
       "      <td>YES</td>\n",
       "      <td>NO</td>\n",
       "      <td>2021-04-08</td>\n",
       "      <td>YES</td>\n",
       "      <td>2021-04-08</td>\n",
       "      <td>YES</td>\n",
       "      <td>NO</td>\n",
       "      <td>NO</td>\n",
       "    </tr>\n",
       "    <tr>\n",
       "      <th>3</th>\n",
       "      <td>62895325895546</td>\n",
       "      <td>2018-06-30</td>\n",
       "      <td>YES</td>\n",
       "      <td>None</td>\n",
       "      <td>NO</td>\n",
       "      <td>NO</td>\n",
       "      <td>None</td>\n",
       "      <td>NO</td>\n",
       "      <td>None</td>\n",
       "      <td>NO</td>\n",
       "      <td>NO</td>\n",
       "      <td>NO</td>\n",
       "    </tr>\n",
       "    <tr>\n",
       "      <th>4</th>\n",
       "      <td>6282110939757</td>\n",
       "      <td>2018-06-30</td>\n",
       "      <td>YES</td>\n",
       "      <td>None</td>\n",
       "      <td>NO</td>\n",
       "      <td>NO</td>\n",
       "      <td>None</td>\n",
       "      <td>NO</td>\n",
       "      <td>None</td>\n",
       "      <td>NO</td>\n",
       "      <td>NO</td>\n",
       "      <td>NO</td>\n",
       "    </tr>\n",
       "  </tbody>\n",
       "</table>\n",
       "</div>"
      ],
      "text/plain": [
       "           mobile apply_date_cashloan has_apply_cashloan  \\\n",
       "0   6285218506223          2021-02-15                YES   \n",
       "1   6289666221989          2019-06-28                YES   \n",
       "2   6285794911709          2020-06-16                YES   \n",
       "3  62895325895546          2018-06-30                YES   \n",
       "4   6282110939757          2018-06-30                YES   \n",
       "\n",
       "  complete_date_cashloan has_complete_cashloan has_approve_cashloan  \\\n",
       "0             2021-02-15                   YES                   NO   \n",
       "1             2019-06-28                   YES                   NO   \n",
       "2             2020-06-16                   YES                   NO   \n",
       "3                   None                    NO                   NO   \n",
       "4                   None                    NO                   NO   \n",
       "\n",
       "  apply_date_paylater has_apply_paylater complete_date_paylater  \\\n",
       "0          2020-08-21                YES             2021-02-15   \n",
       "1                None                 NO                   None   \n",
       "2          2021-04-08                YES             2021-04-08   \n",
       "3                None                 NO                   None   \n",
       "4                None                 NO                   None   \n",
       "\n",
       "  has_complete_paylater has_approve_paylater has_used_paylater  \n",
       "0                   YES                   NO                NO  \n",
       "1                    NO                   NO                NO  \n",
       "2                   YES                   NO                NO  \n",
       "3                    NO                   NO                NO  \n",
       "4                    NO                   NO                NO  "
      ]
     },
     "execution_count": 6,
     "metadata": {},
     "output_type": "execute_result"
    }
   ],
   "source": [
    "param1.head()"
   ]
  },
  {
   "cell_type": "markdown",
   "metadata": {},
   "source": [
    "Export to excel/csv"
   ]
  },
  {
   "cell_type": "code",
   "execution_count": 5,
   "metadata": {},
   "outputs": [
    {
     "name": "stdout",
     "output_type": "stream",
     "text": [
      "Paylater_Trx_Sample_20210524.xlsx\n"
     ]
    }
   ],
   "source": [
    "from datetime import date\n",
    "# print(date.today())\n",
    "today_str = str(date.today()).replace('-','')\n",
    "filename = 'Paylater_Trx_Sample_' + today_str + '.xlsx'\n",
    "print(filename)"
   ]
  },
  {
   "cell_type": "code",
   "execution_count": 6,
   "metadata": {},
   "outputs": [],
   "source": [
    "param1.to_excel(filename,index=False)"
   ]
  },
  {
   "cell_type": "code",
   "execution_count": null,
   "metadata": {},
   "outputs": [],
   "source": []
  }
 ],
 "metadata": {
  "kernelspec": {
   "display_name": "Python 3",
   "language": "python",
   "name": "python3"
  },
  "language_info": {
   "codemirror_mode": {
    "name": "ipython",
    "version": 3
   },
   "file_extension": ".py",
   "mimetype": "text/x-python",
   "name": "python",
   "nbconvert_exporter": "python",
   "pygments_lexer": "ipython3",
   "version": "3.7.3"
  }
 },
 "nbformat": 4,
 "nbformat_minor": 2
}
