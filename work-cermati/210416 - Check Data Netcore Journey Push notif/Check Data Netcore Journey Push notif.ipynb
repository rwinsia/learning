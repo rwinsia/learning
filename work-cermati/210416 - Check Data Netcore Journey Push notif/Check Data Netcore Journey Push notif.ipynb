{
 "cells": [
  {
   "cell_type": "code",
   "execution_count": 1,
   "id": "restricted-spanking",
   "metadata": {},
   "outputs": [],
   "source": [
    "import pandas as pd "
   ]
  },
  {
   "cell_type": "markdown",
   "id": "australian-smooth",
   "metadata": {},
   "source": [
    "Read CSV files"
   ]
  },
  {
   "cell_type": "markdown",
   "id": "hungarian-paragraph",
   "metadata": {},
   "source": [
    "0327 | 0330 | 0401 | 0403 | 0406 | 0408 | 0410 | 0413 | 0415"
   ]
  },
  {
   "cell_type": "code",
   "execution_count": 2,
   "id": "healthy-bacon",
   "metadata": {},
   "outputs": [],
   "source": [
    "data0327_26 = pd.read_csv(r'raw data netcore from server\\II\\0327\\auto_data_apn_26_00.csv')\n",
    "data0327_27 = pd.read_csv(r'raw data netcore from server\\II\\0327\\auto_data_apn_27_00.csv')\n",
    "\n",
    "data0330_26 = pd.read_csv(r'raw data netcore from server\\II\\0330\\auto_data_apn_26_00.csv')\n",
    "data0330_27 = pd.read_csv(r'raw data netcore from server\\II\\0330\\auto_data_apn_27_00.csv')\n",
    "\n",
    "data0401_26 = pd.read_csv(r'raw data netcore from server\\II\\0401\\auto_data_apn_26_00.csv')\n",
    "data0401_27 = pd.read_csv(r'raw data netcore from server\\II\\0401\\auto_data_apn_27_00.csv')\n",
    "\n",
    "data0403_26 = pd.read_csv(r'raw data netcore from server\\II\\0403\\auto_data_apn_26_00.csv')\n",
    "data0403_27 = pd.read_csv(r'raw data netcore from server\\II\\0403\\auto_data_apn_27_00.csv')\n",
    "\n",
    "data0406_26 = pd.read_csv(r'raw data netcore from server\\II\\0406\\auto_data_apn_26_00.csv')\n",
    "data0406_27 = pd.read_csv(r'raw data netcore from server\\II\\0406\\auto_data_apn_27_00.csv')\n",
    "\n",
    "data0408_26 = pd.read_csv(r'raw data netcore from server\\II\\0408\\auto_data_apn_26_00.csv')\n",
    "data0408_27 = pd.read_csv(r'raw data netcore from server\\II\\0408\\auto_data_apn_27_00.csv')\n",
    "\n",
    "data0410_26 = pd.read_csv(r'raw data netcore from server\\II\\0410\\auto_data_apn_26_00.csv')\n",
    "data0410_27 = pd.read_csv(r'raw data netcore from server\\II\\0410\\auto_data_apn_27_00.csv')\n",
    "\n",
    "data0413_26 = pd.read_csv(r'raw data netcore from server\\II\\0413\\auto_data_apn_26_00.csv')\n",
    "data0413_27 = pd.read_csv(r'raw data netcore from server\\II\\0413\\auto_data_apn_27_00.csv')\n",
    "\n",
    "data0415_26 = pd.read_csv(r'raw data netcore from server\\II\\0415\\auto_data_apn_26_00.csv')\n",
    "data0415_27 = pd.read_csv(r'raw data netcore from server\\II\\0415\\auto_data_apn_27_00.csv')"
   ]
  },
  {
   "cell_type": "code",
   "execution_count": 3,
   "id": "civil-monroe",
   "metadata": {},
   "outputs": [],
   "source": [
    "data = pd.concat([\n",
    "    data0327_26, data0327_27,\n",
    "    data0330_26, data0330_27,\n",
    "    data0401_26, data0401_27,\n",
    "    data0403_26, data0403_27,\n",
    "    data0406_26, data0406_27,\n",
    "    data0408_26, data0408_27,\n",
    "    data0410_26, data0410_27,\n",
    "    data0413_26, data0413_27,\n",
    "    data0415_26, data0415_27\n",
    "])"
   ]
  },
  {
   "cell_type": "markdown",
   "id": "royal-bookmark",
   "metadata": {},
   "source": [
    "Convert field Delivered_Date from object to datetime"
   ]
  },
  {
   "cell_type": "code",
   "execution_count": 4,
   "id": "physical-omega",
   "metadata": {},
   "outputs": [],
   "source": [
    "data['Delivered_Date'] =  pd.to_datetime(data['Delivered_Date'], format='%Y-%m-%d %H:%M:%S')"
   ]
  },
  {
   "cell_type": "code",
   "execution_count": 5,
   "id": "median-invitation",
   "metadata": {
    "scrolled": false
   },
   "outputs": [
    {
     "data": {
      "text/plain": [
       "Automation_ID                    int64\n",
       "Automation_Name                 object\n",
       "Subject_Name                    object\n",
       "MOBILE (Primary Key)             int64\n",
       "EMAIL                           object\n",
       "Status                          object\n",
       "Reason                         float64\n",
       "Delivered_Date          datetime64[ns]\n",
       "Clicked_Date                    object\n",
       "Platform                        object\n",
       "OS                              object\n",
       "NAME                            object\n",
       "First Conversion               float64\n",
       "Last Conversion                float64\n",
       "Total Conversion                 int64\n",
       "Total Revenue                    int64\n",
       "dtype: object"
      ]
     },
     "execution_count": 5,
     "metadata": {},
     "output_type": "execute_result"
    }
   ],
   "source": [
    "data.dtypes"
   ]
  },
  {
   "cell_type": "code",
   "execution_count": 9,
   "id": "looking-anderson",
   "metadata": {},
   "outputs": [
    {
     "data": {
      "text/html": [
       "<div>\n",
       "<style scoped>\n",
       "    .dataframe tbody tr th:only-of-type {\n",
       "        vertical-align: middle;\n",
       "    }\n",
       "\n",
       "    .dataframe tbody tr th {\n",
       "        vertical-align: top;\n",
       "    }\n",
       "\n",
       "    .dataframe thead th {\n",
       "        text-align: right;\n",
       "    }\n",
       "</style>\n",
       "<table border=\"1\" class=\"dataframe\">\n",
       "  <thead>\n",
       "    <tr style=\"text-align: right;\">\n",
       "      <th></th>\n",
       "      <th>Automation_ID</th>\n",
       "      <th>Subject_Name</th>\n",
       "      <th>MOBILE (Primary Key)</th>\n",
       "      <th>EMAIL</th>\n",
       "      <th>Status</th>\n",
       "      <th>Reason</th>\n",
       "      <th>Delivered_Date</th>\n",
       "      <th>Clicked_Date</th>\n",
       "      <th>Platform</th>\n",
       "      <th>OS</th>\n",
       "      <th>NAME</th>\n",
       "      <th>First Conversion</th>\n",
       "      <th>Last Conversion</th>\n",
       "      <th>Total Conversion</th>\n",
       "      <th>Total Revenue</th>\n",
       "    </tr>\n",
       "    <tr>\n",
       "      <th>Automation_Name</th>\n",
       "      <th></th>\n",
       "      <th></th>\n",
       "      <th></th>\n",
       "      <th></th>\n",
       "      <th></th>\n",
       "      <th></th>\n",
       "      <th></th>\n",
       "      <th></th>\n",
       "      <th></th>\n",
       "      <th></th>\n",
       "      <th></th>\n",
       "      <th></th>\n",
       "      <th></th>\n",
       "      <th></th>\n",
       "      <th></th>\n",
       "    </tr>\n",
       "  </thead>\n",
       "  <tbody>\n",
       "    <tr>\n",
       "      <th>CLI - Active user without first transaction</th>\n",
       "      <td>118464</td>\n",
       "      <td>118464</td>\n",
       "      <td>118464</td>\n",
       "      <td>118464</td>\n",
       "      <td>118464</td>\n",
       "      <td>0</td>\n",
       "      <td>60339</td>\n",
       "      <td>2270</td>\n",
       "      <td>60379</td>\n",
       "      <td>60379</td>\n",
       "      <td>118464</td>\n",
       "      <td>0</td>\n",
       "      <td>0</td>\n",
       "      <td>118464</td>\n",
       "      <td>118464</td>\n",
       "    </tr>\n",
       "    <tr>\n",
       "      <th>CLI - Active user without unfinished PayLater transaction</th>\n",
       "      <td>23032</td>\n",
       "      <td>23032</td>\n",
       "      <td>23032</td>\n",
       "      <td>23032</td>\n",
       "      <td>23032</td>\n",
       "      <td>0</td>\n",
       "      <td>11755</td>\n",
       "      <td>320</td>\n",
       "      <td>11761</td>\n",
       "      <td>11761</td>\n",
       "      <td>23032</td>\n",
       "      <td>0</td>\n",
       "      <td>0</td>\n",
       "      <td>23032</td>\n",
       "      <td>23032</td>\n",
       "    </tr>\n",
       "  </tbody>\n",
       "</table>\n",
       "</div>"
      ],
      "text/plain": [
       "                                                    Automation_ID  \\\n",
       "Automation_Name                                                     \n",
       "CLI - Active user without first transaction                118464   \n",
       "CLI - Active user without unfinished PayLater t...          23032   \n",
       "\n",
       "                                                    Subject_Name  \\\n",
       "Automation_Name                                                    \n",
       "CLI - Active user without first transaction               118464   \n",
       "CLI - Active user without unfinished PayLater t...         23032   \n",
       "\n",
       "                                                    MOBILE (Primary Key)  \\\n",
       "Automation_Name                                                            \n",
       "CLI - Active user without first transaction                       118464   \n",
       "CLI - Active user without unfinished PayLater t...                 23032   \n",
       "\n",
       "                                                     EMAIL  Status  Reason  \\\n",
       "Automation_Name                                                              \n",
       "CLI - Active user without first transaction         118464  118464       0   \n",
       "CLI - Active user without unfinished PayLater t...   23032   23032       0   \n",
       "\n",
       "                                                    Delivered_Date  \\\n",
       "Automation_Name                                                      \n",
       "CLI - Active user without first transaction                  60339   \n",
       "CLI - Active user without unfinished PayLater t...           11755   \n",
       "\n",
       "                                                    Clicked_Date  Platform  \\\n",
       "Automation_Name                                                              \n",
       "CLI - Active user without first transaction                 2270     60379   \n",
       "CLI - Active user without unfinished PayLater t...           320     11761   \n",
       "\n",
       "                                                       OS    NAME  \\\n",
       "Automation_Name                                                     \n",
       "CLI - Active user without first transaction         60379  118464   \n",
       "CLI - Active user without unfinished PayLater t...  11761   23032   \n",
       "\n",
       "                                                    First Conversion  \\\n",
       "Automation_Name                                                        \n",
       "CLI - Active user without first transaction                        0   \n",
       "CLI - Active user without unfinished PayLater t...                 0   \n",
       "\n",
       "                                                    Last Conversion  \\\n",
       "Automation_Name                                                       \n",
       "CLI - Active user without first transaction                       0   \n",
       "CLI - Active user without unfinished PayLater t...                0   \n",
       "\n",
       "                                                    Total Conversion  \\\n",
       "Automation_Name                                                        \n",
       "CLI - Active user without first transaction                   118464   \n",
       "CLI - Active user without unfinished PayLater t...             23032   \n",
       "\n",
       "                                                    Total Revenue  \n",
       "Automation_Name                                                    \n",
       "CLI - Active user without first transaction                118464  \n",
       "CLI - Active user without unfinished PayLater t...          23032  "
      ]
     },
     "execution_count": 9,
     "metadata": {},
     "output_type": "execute_result"
    }
   ],
   "source": [
    "data.groupby('Automation_Name').count()"
   ]
  },
  {
   "cell_type": "markdown",
   "id": "constitutional-courtesy",
   "metadata": {},
   "source": [
    "\"CLI - Active user without first transaction\""
   ]
  },
  {
   "cell_type": "code",
   "execution_count": 10,
   "id": "specific-monday",
   "metadata": {},
   "outputs": [
    {
     "data": {
      "text/plain": [
       "Subject_Name                                                         Delivered_Date\n",
       "Invite active PayLater user for first transaction App Push - part 1  2021-03-26        6942\n",
       "                                                                     2021-03-27         217\n",
       "                                                                     2021-03-28         301\n",
       "                                                                     2021-03-29          19\n",
       "                                                                     2021-03-30           1\n",
       "                                                                     2021-04-02        5433\n",
       "                                                                     2021-04-03         486\n",
       "                                                                     2021-04-04          71\n",
       "                                                                     2021-04-05          41\n",
       "                                                                     2021-04-09        6543\n",
       "                                                                     2021-04-10         288\n",
       "                                                                     2021-04-11          95\n",
       "                                                                     2021-04-12          85\n",
       "                                                                     2021-04-13           1\n",
       "Invite active PayLater user for first transaction App Push - part 2  2021-03-28        6742\n",
       "                                                                     2021-03-29         177\n",
       "                                                                     2021-03-30         191\n",
       "                                                                     2021-03-31          14\n",
       "                                                                     2021-04-04        5474\n",
       "                                                                     2021-04-05         186\n",
       "                                                                     2021-04-06          55\n",
       "                                                                     2021-04-07          30\n",
       "                                                                     2021-04-11        6443\n",
       "                                                                     2021-04-12         277\n",
       "                                                                     2021-04-13          77\n",
       "                                                                     2021-04-14          90\n",
       "                                                                     2021-04-15           1\n",
       "Invite active PayLater user for first transaction App Push - part 3  2021-03-23        6413\n",
       "                                                                     2021-03-24         362\n",
       "                                                                     2021-03-25          42\n",
       "                                                                     2021-03-26          15\n",
       "                                                                     2021-03-27           1\n",
       "                                                                     2021-03-30        6785\n",
       "                                                                     2021-03-31         150\n",
       "                                                                     2021-04-01         184\n",
       "                                                                     2021-04-02          15\n",
       "                                                                     2021-04-06        5755\n",
       "                                                                     2021-04-07         239\n",
       "                                                                     2021-04-08          41\n",
       "                                                                     2021-04-09          56\n",
       "                                                                     2021-04-10           1\n",
       "Name: MOBILE (Primary Key), dtype: int64"
      ]
     },
     "execution_count": 10,
     "metadata": {},
     "output_type": "execute_result"
    }
   ],
   "source": [
    "data[data['Automation_Name']=='CLI - Active user without first transaction'].groupby(['Subject_Name',pd.Grouper(key='Delivered_Date',freq='1D')])[\"MOBILE (Primary Key)\"].count()\n"
   ]
  },
  {
   "cell_type": "markdown",
   "id": "ethical-replication",
   "metadata": {},
   "source": [
    "\"CLI - Active user without unfinished PayLater transaction\""
   ]
  },
  {
   "cell_type": "code",
   "execution_count": 11,
   "id": "administrative-virginia",
   "metadata": {},
   "outputs": [
    {
     "data": {
      "text/plain": [
       "Subject_Name                                                                     Delivered_Date\n",
       "Retarget active PayLater user without unfinished transactions App Push - part 1  2021-03-26        1422\n",
       "                                                                                 2021-03-27          40\n",
       "                                                                                 2021-03-28          49\n",
       "                                                                                 2021-03-29           5\n",
       "                                                                                 2021-04-02        1085\n",
       "                                                                                 2021-04-03         106\n",
       "                                                                                 2021-04-04           9\n",
       "                                                                                 2021-04-05           9\n",
       "                                                                                 2021-04-09        1286\n",
       "                                                                                 2021-04-10          70\n",
       "                                                                                 2021-04-11          20\n",
       "                                                                                 2021-04-12          14\n",
       "Retarget active PayLater user without unfinished transactions App Push - part 2  2021-03-28        1314\n",
       "                                                                                 2021-03-29          37\n",
       "                                                                                 2021-03-30          44\n",
       "                                                                                 2021-03-31           3\n",
       "                                                                                 2021-04-04        1041\n",
       "                                                                                 2021-04-05          49\n",
       "                                                                                 2021-04-06          13\n",
       "                                                                                 2021-04-07           7\n",
       "                                                                                 2021-04-11        1240\n",
       "                                                                                 2021-04-12          63\n",
       "                                                                                 2021-04-13          11\n",
       "                                                                                 2021-04-14          14\n",
       "Retarget active PayLater user without unfinished transactions App Push - part 3  2021-03-23        1241\n",
       "                                                                                 2021-03-24          61\n",
       "                                                                                 2021-03-25          11\n",
       "                                                                                 2021-03-26           1\n",
       "                                                                                 2021-03-30        1283\n",
       "                                                                                 2021-03-31          31\n",
       "                                                                                 2021-04-01          37\n",
       "                                                                                 2021-04-02           4\n",
       "                                                                                 2021-04-06        1067\n",
       "                                                                                 2021-04-07          43\n",
       "                                                                                 2021-04-08          14\n",
       "                                                                                 2021-04-09          10\n",
       "                                                                                 2021-04-10           1\n",
       "Name: MOBILE (Primary Key), dtype: int64"
      ]
     },
     "execution_count": 11,
     "metadata": {},
     "output_type": "execute_result"
    }
   ],
   "source": [
    "data[data['Automation_Name']=='CLI - Active user without unfinished PayLater transaction'].groupby(['Subject_Name',pd.Grouper(key='Delivered_Date',freq='1D')])[\"MOBILE (Primary Key)\"].count()"
   ]
  },
  {
   "cell_type": "code",
   "execution_count": 7,
   "id": "restricted-julian",
   "metadata": {},
   "outputs": [
    {
     "data": {
      "text/plain": [
       "Series([], Name: MOBILE (Primary Key), dtype: int64)"
      ]
     },
     "execution_count": 7,
     "metadata": {},
     "output_type": "execute_result"
    }
   ],
   "source": [
    "data[data['Automation_Name']=='CLI - Incomplete Application Reminder'].groupby(['Subject_Name',pd.Grouper(key='Delivered_Date',freq='1D')])[\"MOBILE (Primary Key)\"].count()"
   ]
  },
  {
   "cell_type": "code",
   "execution_count": null,
   "id": "leading-portuguese",
   "metadata": {},
   "outputs": [],
   "source": []
  },
  {
   "cell_type": "code",
   "execution_count": null,
   "id": "increased-prototype",
   "metadata": {},
   "outputs": [],
   "source": []
  }
 ],
 "metadata": {
  "kernelspec": {
   "display_name": "Python 3",
   "language": "python",
   "name": "python3"
  },
  "language_info": {
   "codemirror_mode": {
    "name": "ipython",
    "version": 3
   },
   "file_extension": ".py",
   "mimetype": "text/x-python",
   "name": "python",
   "nbconvert_exporter": "python",
   "pygments_lexer": "ipython3",
   "version": "3.7.3"
  }
 },
 "nbformat": 4,
 "nbformat_minor": 5
}
