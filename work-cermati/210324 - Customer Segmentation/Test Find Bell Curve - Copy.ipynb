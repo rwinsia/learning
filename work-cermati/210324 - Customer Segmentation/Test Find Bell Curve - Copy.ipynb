{
 "cells": [
  {
   "cell_type": "markdown",
   "metadata": {},
   "source": [
    "Import Library"
   ]
  },
  {
   "cell_type": "code",
   "execution_count": 108,
   "metadata": {},
   "outputs": [],
   "source": [
    "# Import Pandas\n",
    "import pandas as pd\n",
    "pd.set_option('float_format', '{:f}'.format)\n",
    "# Import plot\n",
    "from matplotlib import pyplot as plt\n",
    "%matplotlib inline\n",
    "plt.style.use('seaborn')\n",
    "\n",
    "import seaborn as sns"
   ]
  },
  {
   "cell_type": "markdown",
   "metadata": {},
   "source": [
    "Establish connection"
   ]
  },
  {
   "cell_type": "code",
   "execution_count": 109,
   "metadata": {},
   "outputs": [
    {
     "name": "stdout",
     "output_type": "stream",
     "text": [
      "C:\\Users\\Cermati\\AppData\\Roaming\\gcloud\\application_default_credentials.json\n"
     ]
    }
   ],
   "source": [
    "%reload_ext google.cloud.bigquery\n",
    "import os\n",
    "os.environ[\"GOOGLE_APPLICATION_CREDENTIALS\"]=\"C:\\\\Users\\\\Cermati\\\\AppData\\\\Roaming\\\\gcloud\\\\application_default_credentials.json\"\n",
    "print(os.environ[\"GOOGLE_APPLICATION_CREDENTIALS\"])"
   ]
  },
  {
   "cell_type": "markdown",
   "metadata": {},
   "source": [
    "Insert query here - Get Raw Data From Query"
   ]
  },
  {
   "cell_type": "code",
   "execution_count": 110,
   "metadata": {},
   "outputs": [],
   "source": [
    "%%bigquery raw_data --project athena-179008\n",
    "## Notes : For Contracts calculation, exclude Restructure & SUBSCRIPTION_FEE. For payments calculation include Restructure & SUBSCRIPTION_FEE.\n",
    "with _raw_summary as (\n",
    "    select\n",
    "        COALESCE(applicantIdNumber,userId) as applicantIdNumber\n",
    "        , CASE WHEN applicantIdNumber IS NULL THEN userId ELSE last_userId END as last_userId\n",
    "        \n",
    "        ## data paylater account\n",
    "        , COUNT(distinct partner) as partner_count\n",
    "        , LOGICAL_OR(from_whitelabel) as has_whitelabel_app\n",
    "        , LOGICAL_OR(NOT from_whitelabel) as has_indodana_app\n",
    "        , STRING_AGG(DISTINCT CONCAT(partner,' ',FORMAT(\"%'d\",CAST(cli_limit AS INT64))),'; ') as cli_limit\n",
    "        , CAST(MAX(cli_limit) AS INT64) as max_limit\n",
    "        , CAST(MIN(cli_limit) AS INT64) as min_limit\n",
    "        \n",
    "        -- data merchant\n",
    "        , COUNT(DISTINCT merchant_name) as merchant_count\n",
    "        , STRING_AGG(DISTINCT merchant_name,';') as merchant_list\n",
    "        , APPROX_TOP_COUNT(merchant_name,1)[OFFSET(0)].value as top_merchant\n",
    "        , APPROX_TOP_COUNT(merchant_name,1)[OFFSET(0)].count as top_merchant_trx\n",
    "        , APPROX_TOP_COUNT(merchant_category,1)[OFFSET(0)].value as top_merchant_category\n",
    "        , APPROX_TOP_COUNT(merchant_category,1)[OFFSET(0)].count as top_merchant_category_trx\n",
    "        , APPROX_TOP_COUNT(item_category,1)[OFFSET(0)].value as top_item_category\n",
    "        , APPROX_TOP_COUNT(item_category,1)[OFFSET(0)].count as top_item_category_trx\n",
    "        \n",
    "        -- data contracts & payments\n",
    "        , sum(case when contract_type not in ('RESTRUCTURE_LOAN_CONTRACT','SUBSCRIPTION_FEE') then 1 else 0 end) as contracts\n",
    "        , sum(case when contract_type not in ('RESTRUCTURE_LOAN_CONTRACT','SUBSCRIPTION_FEE') and coupon_used then 1 else 0 end) as coupon_used\n",
    "        , sum(coalesce(numberOfPayment,0)) as payments\n",
    "        , cast(sum(case when contract_type not in ('RESTRUCTURE_LOAN_CONTRACT','SUBSCRIPTION_FEE') then purchase_amount else 0 end) as float64) as loan_amount\n",
    "        , cast(sum(case when contract_type not in ('RESTRUCTURE_LOAN_CONTRACT','SUBSCRIPTION_FEE') then realised_purchase_amount else 0 end) as float64) as realised_loan_amount\n",
    "        , cast(sum(coalesce(totalAmountPayment,0)) as float64) as paid_amount\n",
    "        -- , cast(sum(coalesce(totalPrincipalPayment,0)+coalesce(totalInterestPayment,0)) as float64) as paid_principal_interest_amount\n",
    "        -- , cast(sum(coalesce(totalPrincipalPayment,0)) as float64) as paid_principal_amount\n",
    "        , cast(sum(coalesce(totalAmountPayment,0)) - sum(case when contract_type not in ('RESTRUCTURE_LOAN_CONTRACT','SUBSCRIPTION_FEE') then realised_purchase_amount else 0 end) as float64) as revenue\n",
    "        , sum(case when last_due_date>current_datetime and contractStatus ='ACTIVE' then 1 else 0 end) as contracts_not_due_active\n",
    "        , sum(case when last_due_date>current_datetime and contractStatus ='FINISHED' then 1 else 0 end) as contracts_not_due_finished\n",
    "        , sum(case when last_due_date<=current_datetime and contractStatus ='ACTIVE' then 1 else 0 end) as contracts_due_active\n",
    "        , sum(case when last_due_date<=current_datetime and contractStatus ='FINISHED' then 1 else 0 end) as contracts_due_finished\n",
    "        , max(maxDayPastDue) as max_dpd\n",
    "        , sum(count_late_payment) as count_late_payment\n",
    "        , CASE \n",
    "            WHEN sum(count_late_payment)>1 OR max(maxDayPastDue)>0 THEN 'Ever Late' \n",
    "            WHEN sum(case when contractStatus ='ACTIVE' AND next_due_date>current_timestamp THEN 1 ELSE 0 END)>0 THEN 'Active Contracts Not Due Yet'\n",
    "            ELSE 'Never Late' \n",
    "        END as ever_late\n",
    "        -- data date\n",
    "        , case when sum(case when contractStatus = 'ACTIVE' then 1 else 0 end)>0 then true else false end as has_active_contracts\n",
    "        , date(min(approvedDate),'Asia/Jakarta') as first_approved_date\n",
    "        , date(max(case when contract_type not in ('RESTRUCTURE_LOAN_CONTRACT','SUBSCRIPTION_FEE') then approvedDate end),'Asia/Jakarta') as last_approved_date\n",
    "        , date(min(firstPayment),'Asia/Jakarta') as first_payment_date\n",
    "        -- , date(min(lastPayment),'Asia/Jakarta') as last_payment_date\n",
    "        \n",
    "        , date_diff(current_date,date(min(approvedDate),'Asia/Jakarta'),day) as day_since_first_approved\n",
    "        , date_diff(current_date,date(max(case when contract_type not in ('RESTRUCTURE_LOAN_CONTRACT','SUBSCRIPTION_FEE') then approvedDate end),'Asia/Jakarta'),day) as day_since_last_approved\n",
    "        -- , date_diff(current_date,date(max(lastPayment),'Asia/Jakarta'),day) as day_since_last_paid\n",
    "        , count(distinct userId) as users\n",
    "        -- , FORMAT(\"%T\", ARRAY_AGG(day_beetween_trx IGNORE NULLS ORDER BY approvedDate)) as array_day_beetween_trx\n",
    "        -- , APPROX_QUANTILES(day_beetween_trx,100 IGNORE NULLS)[OFFSET(50)] AS Median_day_beetween_trx\n",
    "        -- , APPROX_TOP_COUNT(day_beetween_trx,1)[OFFSET(0)].value as modus_day_beetween_trx\n",
    "        -- , AVG(day_beetween_trx) as mean_day_between_trx\n",
    "    from athena-179008.vayu_data_mart.indodanamarketing_users_transaction\n",
    "    where data_type<>'CASH_LOAN'\n",
    "    group by 1,2\n",
    ")\n",
    ", data_score as (\n",
    "    SELECT DISTINCT\n",
    "        userId\n",
    "        , FIRST_VALUE(latest_model_score_norescore) over(PARTITION BY userId ORDER BY application_createdat ROWS BETWEEN UNBOUNDED PRECEDING AND UNBOUNDED FOLLOWING) as first_score\n",
    "        , LAST_VALUE(latest_model_score_norescore) over(PARTITION BY userId ORDER BY application_createdat ROWS BETWEEN UNBOUNDED PRECEDING AND UNBOUNDED FOLLOWING) as last_score\n",
    "    FROM athena-179008.vayu_data_mart.dm_application_risk_analytics\n",
    "    WHERE latest_model_score_norescore IS NOT NULL\n",
    ")\n",
    ", aggregated_summary as (\n",
    "    select \n",
    "        APPROX_QUANTILES(contracts,100 IGNORE NULLS)[OFFSET(25)] AS pct25_contracts\n",
    "        , APPROX_QUANTILES(contracts,100 IGNORE NULLS)[OFFSET(50)] AS Median_contracts\n",
    "        , APPROX_QUANTILES(contracts,100 IGNORE NULLS)[OFFSET(75)] AS pct75_contracts\n",
    "        , APPROX_QUANTILES(contracts,100 IGNORE NULLS)[OFFSET(90)] AS pct90_contracts\n",
    "        , AVG(contracts) as avg_contracts\n",
    "\n",
    "        , APPROX_QUANTILES(day_since_last_approved,100 IGNORE NULLS)[OFFSET(25)] AS pct25_day_since_last_approved\n",
    "        , APPROX_QUANTILES(day_since_last_approved,100 IGNORE NULLS)[OFFSET(50)] AS Median_day_since_last_approved\n",
    "        , APPROX_QUANTILES(day_since_last_approved,100 IGNORE NULLS)[OFFSET(75)] AS pct75_day_since_last_approved\n",
    "        , APPROX_QUANTILES(day_since_last_approved,100 IGNORE NULLS)[OFFSET(90)] AS pct90_day_since_last_approved\n",
    "        , AVG(day_since_last_approved) as avg_day_since_last_approved\n",
    "        \n",
    "        , APPROX_QUANTILES(CASE WHEN revenue>0 THEN revenue END,100 IGNORE NULLS)[OFFSET(25)] AS pct25_revenue\n",
    "        , APPROX_QUANTILES(CASE WHEN revenue>0 THEN revenue END,100 IGNORE NULLS)[OFFSET(50)] AS Median_revenue\n",
    "        , APPROX_QUANTILES(CASE WHEN revenue>0 THEN revenue END,100 IGNORE NULLS)[OFFSET(75)] AS pct75_revenue\n",
    "        , APPROX_QUANTILES(CASE WHEN revenue>0 THEN revenue END,100 IGNORE NULLS)[OFFSET(90)] AS pct90_revenue\n",
    "        , AVG(CASE WHEN revenue>0 THEN revenue END) as avg_revenue\n",
    "    from _raw_summary\n",
    ")\n",
    "\n",
    "select \n",
    "    a.applicantIdNumber\n",
    "    , ds.first_score\n",
    "    , ds.last_score\n",
    "    -- User Demography\n",
    "    , u.firstAppChannel\n",
    "    , u.firstPartner\n",
    "    , u.firstproductType\n",
    "    , u.age_grouping\n",
    "    , u.applicantlasteducationlevel_grouping\n",
    "    , u.type_of_jobs_grouping\n",
    "    , u.income_grouping\n",
    "    , u.spending_grouping\n",
    "    , u.income_minus_spending_grouping\n",
    "    , CASE \n",
    "        WHEN has_indodana_app AND has_whitelabel_app THEN '1. Has Both Indodana & Whitelabel App'\n",
    "        WHEN has_indodana_app THEN '2. Has Only Indodana App'\n",
    "        WHEN has_whitelabel_app THEN '3. Has Only Whitelabel App'\n",
    "    END as partner_category\n",
    "    , a.* EXCEPT(applicantIdNumber,last_userId,has_indodana_app,has_whitelabel_app,count_late_payment)\n",
    "    \n",
    "    -- , loan_amount*1.00/contracts as loan_amount_per_trx\n",
    "    -- , paid_amount*1.00/contracts as payment_per_trx\n",
    "    -- , revenue*1.00/contracts as revenue_per_trx\n",
    "    -- , day_since_first_approved*1.00/contracts as days_per_trx\n",
    "    \n",
    "    -- Aggregated Summary\n",
    "    , a_s.*\n",
    "    \n",
    "    -- classification\n",
    "    , case \n",
    "        -- when a.day_since_last_approved<=pct25_day_since_last_approved THEN '1. 25th percentile'\n",
    "        when a.day_since_last_approved<=Median_day_since_last_approved THEN '2. 50th percentile'\n",
    "        -- when a.day_since_last_approved<=pct75_day_since_last_approved THEN '3. 75th percentile'\n",
    "        -- when a.day_since_last_approved<=pct90_day_since_last_approved THEN '4. 90th percentile'\n",
    "        else '5. 100th percentile'\n",
    "    END as recency\n",
    "    , case \n",
    "        -- when a.contracts<=pct25_contracts THEN '1. 25th percentile'\n",
    "        when a.contracts<=Median_contracts THEN '2. 50th percentile'\n",
    "        -- when a.contracts<=pct75_contracts THEN '3. 75th percentile'\n",
    "        -- when a.contracts<=pct90_contracts THEN '4. 90th percentile'\n",
    "        else '5. 100th percentile'\n",
    "    END as frequency\n",
    "    , case \n",
    "        when a.revenue < 0 THEN '0. Revenue Negative'\n",
    "        -- when a.revenue<=pct25_revenue THEN '1. 25th percentile'\n",
    "        when a.revenue<=Median_revenue THEN '2. 50th percentile'\n",
    "        -- when a.revenue<=pct75_revenue THEN '3. 75th percentile'\n",
    "        -- when a.revenue<=pct90_revenue THEN '4. 90th percentile'\n",
    "        else '5. 100th percentile'\n",
    "    END as monetization\n",
    "from _raw_summary a \n",
    "-- left join data_submission s on a.applicantIdNumber=s.applicantIdNumber\n",
    "LEFT JOIN athena-179008.vayu_data_mart.indodanamarketing_user_segmentation u ON u.userId=a.last_userId\n",
    "LEFT JOIN data_score ds ON ds.userid=a.last_userId\n",
    ", aggregated_summary a_s\n",
    "\n"
   ]
  },
  {
   "cell_type": "markdown",
   "metadata": {},
   "source": [
    "Get Raw Data From Excel"
   ]
  },
  {
   "cell_type": "code",
   "execution_count": 111,
   "metadata": {},
   "outputs": [],
   "source": [
    "# raw_data = pd.read_excel(r'C:\\Users\\Cermati\\Documents\\Jupyter Notebook\\Test1\\Marketing_Users_Summary_CLI_Used_2021_03_17 (1).xlsx')"
   ]
  },
  {
   "cell_type": "markdown",
   "metadata": {},
   "source": [
    "Select Column RFM ,Rename it, Calculate Ticket Size"
   ]
  },
  {
   "cell_type": "code",
   "execution_count": 112,
   "metadata": {},
   "outputs": [
    {
     "data": {
      "text/html": [
       "<div>\n",
       "<style scoped>\n",
       "    .dataframe tbody tr th:only-of-type {\n",
       "        vertical-align: middle;\n",
       "    }\n",
       "\n",
       "    .dataframe tbody tr th {\n",
       "        vertical-align: top;\n",
       "    }\n",
       "\n",
       "    .dataframe thead th {\n",
       "        text-align: right;\n",
       "    }\n",
       "</style>\n",
       "<table border=\"1\" class=\"dataframe\">\n",
       "  <thead>\n",
       "    <tr style=\"text-align: right;\">\n",
       "      <th></th>\n",
       "      <th>applicantIdNumber</th>\n",
       "      <th>monetary_value</th>\n",
       "      <th>frequency</th>\n",
       "      <th>recency</th>\n",
       "      <th>realised_loan_amount</th>\n",
       "      <th>TicketSize</th>\n",
       "    </tr>\n",
       "  </thead>\n",
       "  <tbody>\n",
       "    <tr>\n",
       "      <th>0</th>\n",
       "      <td>3374061306930005</td>\n",
       "      <td>127758.503333</td>\n",
       "      <td>4</td>\n",
       "      <td>17</td>\n",
       "      <td>1253741.496667</td>\n",
       "      <td>313435.374167</td>\n",
       "    </tr>\n",
       "    <tr>\n",
       "      <th>1</th>\n",
       "      <td>3172026304780004</td>\n",
       "      <td>118100.000000</td>\n",
       "      <td>2</td>\n",
       "      <td>19</td>\n",
       "      <td>52400.000000</td>\n",
       "      <td>26200.000000</td>\n",
       "    </tr>\n",
       "    <tr>\n",
       "      <th>2</th>\n",
       "      <td>3175036707840001</td>\n",
       "      <td>458337.666667</td>\n",
       "      <td>58</td>\n",
       "      <td>3</td>\n",
       "      <td>13654662.333333</td>\n",
       "      <td>235425.212644</td>\n",
       "    </tr>\n",
       "    <tr>\n",
       "      <th>3</th>\n",
       "      <td>3206245003950002</td>\n",
       "      <td>170268.000000</td>\n",
       "      <td>9</td>\n",
       "      <td>2</td>\n",
       "      <td>2893732.000000</td>\n",
       "      <td>321525.777778</td>\n",
       "    </tr>\n",
       "    <tr>\n",
       "      <th>4</th>\n",
       "      <td>3172035509790017</td>\n",
       "      <td>-331287.000000</td>\n",
       "      <td>5</td>\n",
       "      <td>17</td>\n",
       "      <td>2771787.000000</td>\n",
       "      <td>554357.400000</td>\n",
       "    </tr>\n",
       "  </tbody>\n",
       "</table>\n",
       "</div>"
      ],
      "text/plain": [
       "  applicantIdNumber  monetary_value  frequency  recency  realised_loan_amount  \\\n",
       "0  3374061306930005   127758.503333          4       17        1253741.496667   \n",
       "1  3172026304780004   118100.000000          2       19          52400.000000   \n",
       "2  3175036707840001   458337.666667         58        3       13654662.333333   \n",
       "3  3206245003950002   170268.000000          9        2        2893732.000000   \n",
       "4  3172035509790017  -331287.000000          5       17        2771787.000000   \n",
       "\n",
       "     TicketSize  \n",
       "0 313435.374167  \n",
       "1  26200.000000  \n",
       "2 235425.212644  \n",
       "3 321525.777778  \n",
       "4 554357.400000  "
      ]
     },
     "execution_count": 112,
     "metadata": {},
     "output_type": "execute_result"
    }
   ],
   "source": [
    "# data = raw_data[[\"applicantIdNumber\",\"revenue\",\"contracts\",\"day_since_last_approved\"]]\n",
    "data = raw_data.copy()\n",
    "# data = data.iloc[:,[0,25,31,43,29]]\n",
    "data = data[['applicantIdNumber','revenue','contracts','day_since_last_approved','realised_loan_amount']]\n",
    "data.rename(columns={'day_since_last_approved': 'recency', \n",
    "                         'contracts': 'frequency', \n",
    "                         'revenue': 'monetary_value'\n",
    "                    }, inplace=True)\n",
    "data['TicketSize']=data.realised_loan_amount/data.frequency\n",
    "data.head()"
   ]
  },
  {
   "cell_type": "markdown",
   "metadata": {},
   "source": [
    "Stats of Data"
   ]
  },
  {
   "cell_type": "code",
   "execution_count": 113,
   "metadata": {},
   "outputs": [
    {
     "data": {
      "text/html": [
       "<div>\n",
       "<style scoped>\n",
       "    .dataframe tbody tr th:only-of-type {\n",
       "        vertical-align: middle;\n",
       "    }\n",
       "\n",
       "    .dataframe tbody tr th {\n",
       "        vertical-align: top;\n",
       "    }\n",
       "\n",
       "    .dataframe thead th {\n",
       "        text-align: right;\n",
       "    }\n",
       "</style>\n",
       "<table border=\"1\" class=\"dataframe\">\n",
       "  <thead>\n",
       "    <tr style=\"text-align: right;\">\n",
       "      <th></th>\n",
       "      <th>monetary_value</th>\n",
       "      <th>frequency</th>\n",
       "      <th>recency</th>\n",
       "      <th>realised_loan_amount</th>\n",
       "      <th>TicketSize</th>\n",
       "    </tr>\n",
       "  </thead>\n",
       "  <tbody>\n",
       "    <tr>\n",
       "      <th>count</th>\n",
       "      <td>70061.000000</td>\n",
       "      <td>70061.000000</td>\n",
       "      <td>70061.000000</td>\n",
       "      <td>70061.000000</td>\n",
       "      <td>70061.000000</td>\n",
       "    </tr>\n",
       "    <tr>\n",
       "      <th>mean</th>\n",
       "      <td>56854.235710</td>\n",
       "      <td>9.387191</td>\n",
       "      <td>67.226388</td>\n",
       "      <td>1558343.783245</td>\n",
       "      <td>365341.578967</td>\n",
       "    </tr>\n",
       "    <tr>\n",
       "      <th>std</th>\n",
       "      <td>559764.443427</td>\n",
       "      <td>21.537546</td>\n",
       "      <td>110.234894</td>\n",
       "      <td>2335964.674962</td>\n",
       "      <td>530056.142959</td>\n",
       "    </tr>\n",
       "    <tr>\n",
       "      <th>min</th>\n",
       "      <td>-6548163.270000</td>\n",
       "      <td>1.000000</td>\n",
       "      <td>0.000000</td>\n",
       "      <td>0.000000</td>\n",
       "      <td>0.000000</td>\n",
       "    </tr>\n",
       "    <tr>\n",
       "      <th>25%</th>\n",
       "      <td>0.000000</td>\n",
       "      <td>1.000000</td>\n",
       "      <td>8.000000</td>\n",
       "      <td>216600.000000</td>\n",
       "      <td>63066.000000</td>\n",
       "    </tr>\n",
       "    <tr>\n",
       "      <th>50%</th>\n",
       "      <td>25000.000000</td>\n",
       "      <td>3.000000</td>\n",
       "      <td>24.000000</td>\n",
       "      <td>843452.000000</td>\n",
       "      <td>184673.086458</td>\n",
       "    </tr>\n",
       "    <tr>\n",
       "      <th>75%</th>\n",
       "      <td>140744.333333</td>\n",
       "      <td>8.000000</td>\n",
       "      <td>82.000000</td>\n",
       "      <td>1924050.000000</td>\n",
       "      <td>418975.413793</td>\n",
       "    </tr>\n",
       "    <tr>\n",
       "      <th>max</th>\n",
       "      <td>12145788.000000</td>\n",
       "      <td>580.000000</td>\n",
       "      <td>610.000000</td>\n",
       "      <td>66443654.000000</td>\n",
       "      <td>4634880.000000</td>\n",
       "    </tr>\n",
       "  </tbody>\n",
       "</table>\n",
       "</div>"
      ],
      "text/plain": [
       "       monetary_value    frequency      recency  realised_loan_amount  \\\n",
       "count    70061.000000 70061.000000 70061.000000          70061.000000   \n",
       "mean     56854.235710     9.387191    67.226388        1558343.783245   \n",
       "std     559764.443427    21.537546   110.234894        2335964.674962   \n",
       "min   -6548163.270000     1.000000     0.000000              0.000000   \n",
       "25%          0.000000     1.000000     8.000000         216600.000000   \n",
       "50%      25000.000000     3.000000    24.000000         843452.000000   \n",
       "75%     140744.333333     8.000000    82.000000        1924050.000000   \n",
       "max   12145788.000000   580.000000   610.000000       66443654.000000   \n",
       "\n",
       "          TicketSize  \n",
       "count   70061.000000  \n",
       "mean   365341.578967  \n",
       "std    530056.142959  \n",
       "min         0.000000  \n",
       "25%     63066.000000  \n",
       "50%    184673.086458  \n",
       "75%    418975.413793  \n",
       "max   4634880.000000  "
      ]
     },
     "execution_count": 113,
     "metadata": {},
     "output_type": "execute_result"
    }
   ],
   "source": [
    "data.describe()"
   ]
  },
  {
   "cell_type": "markdown",
   "metadata": {},
   "source": [
    "Stats of Data (Revenue>0)"
   ]
  },
  {
   "cell_type": "code",
   "execution_count": 114,
   "metadata": {},
   "outputs": [
    {
     "data": {
      "text/html": [
       "<div>\n",
       "<style scoped>\n",
       "    .dataframe tbody tr th:only-of-type {\n",
       "        vertical-align: middle;\n",
       "    }\n",
       "\n",
       "    .dataframe tbody tr th {\n",
       "        vertical-align: top;\n",
       "    }\n",
       "\n",
       "    .dataframe thead th {\n",
       "        text-align: right;\n",
       "    }\n",
       "</style>\n",
       "<table border=\"1\" class=\"dataframe\">\n",
       "  <thead>\n",
       "    <tr style=\"text-align: right;\">\n",
       "      <th></th>\n",
       "      <th>monetary_value</th>\n",
       "      <th>frequency</th>\n",
       "      <th>recency</th>\n",
       "      <th>realised_loan_amount</th>\n",
       "      <th>TicketSize</th>\n",
       "    </tr>\n",
       "  </thead>\n",
       "  <tbody>\n",
       "    <tr>\n",
       "      <th>count</th>\n",
       "      <td>52185.000000</td>\n",
       "      <td>52185.000000</td>\n",
       "      <td>52185.000000</td>\n",
       "      <td>52185.000000</td>\n",
       "      <td>52185.000000</td>\n",
       "    </tr>\n",
       "    <tr>\n",
       "      <th>mean</th>\n",
       "      <td>208390.069112</td>\n",
       "      <td>10.734675</td>\n",
       "      <td>64.215713</td>\n",
       "      <td>1742048.393013</td>\n",
       "      <td>372997.413046</td>\n",
       "    </tr>\n",
       "    <tr>\n",
       "      <th>std</th>\n",
       "      <td>415343.862479</td>\n",
       "      <td>23.921140</td>\n",
       "      <td>97.147808</td>\n",
       "      <td>2460298.986964</td>\n",
       "      <td>488241.369035</td>\n",
       "    </tr>\n",
       "    <tr>\n",
       "      <th>min</th>\n",
       "      <td>138.000000</td>\n",
       "      <td>1.000000</td>\n",
       "      <td>0.000000</td>\n",
       "      <td>0.000000</td>\n",
       "      <td>0.000000</td>\n",
       "    </tr>\n",
       "    <tr>\n",
       "      <th>25%</th>\n",
       "      <td>15500.000000</td>\n",
       "      <td>1.000000</td>\n",
       "      <td>8.000000</td>\n",
       "      <td>368000.000000</td>\n",
       "      <td>103075.000000</td>\n",
       "    </tr>\n",
       "    <tr>\n",
       "      <th>50%</th>\n",
       "      <td>62927.000000</td>\n",
       "      <td>4.000000</td>\n",
       "      <td>28.000000</td>\n",
       "      <td>970010.000000</td>\n",
       "      <td>209483.717391</td>\n",
       "    </tr>\n",
       "    <tr>\n",
       "      <th>75%</th>\n",
       "      <td>220589.833333</td>\n",
       "      <td>9.000000</td>\n",
       "      <td>85.000000</td>\n",
       "      <td>2082730.666667</td>\n",
       "      <td>429767.232778</td>\n",
       "    </tr>\n",
       "    <tr>\n",
       "      <th>max</th>\n",
       "      <td>12145788.000000</td>\n",
       "      <td>580.000000</td>\n",
       "      <td>610.000000</td>\n",
       "      <td>66443654.000000</td>\n",
       "      <td>4634880.000000</td>\n",
       "    </tr>\n",
       "  </tbody>\n",
       "</table>\n",
       "</div>"
      ],
      "text/plain": [
       "       monetary_value    frequency      recency  realised_loan_amount  \\\n",
       "count    52185.000000 52185.000000 52185.000000          52185.000000   \n",
       "mean    208390.069112    10.734675    64.215713        1742048.393013   \n",
       "std     415343.862479    23.921140    97.147808        2460298.986964   \n",
       "min        138.000000     1.000000     0.000000              0.000000   \n",
       "25%      15500.000000     1.000000     8.000000         368000.000000   \n",
       "50%      62927.000000     4.000000    28.000000         970010.000000   \n",
       "75%     220589.833333     9.000000    85.000000        2082730.666667   \n",
       "max   12145788.000000   580.000000   610.000000       66443654.000000   \n",
       "\n",
       "          TicketSize  \n",
       "count   52185.000000  \n",
       "mean   372997.413046  \n",
       "std    488241.369035  \n",
       "min         0.000000  \n",
       "25%    103075.000000  \n",
       "50%    209483.717391  \n",
       "75%    429767.232778  \n",
       "max   4634880.000000  "
      ]
     },
     "execution_count": 114,
     "metadata": {},
     "output_type": "execute_result"
    }
   ],
   "source": [
    "data_revenue_plus = data.copy()\n",
    "data_revenue_plus = data_revenue_plus[(data_revenue_plus['monetary_value']>0)]\n",
    "data_revenue_plus.describe()"
   ]
  },
  {
   "cell_type": "markdown",
   "metadata": {},
   "source": [
    "Stats of Data (Revenue<0)"
   ]
  },
  {
   "cell_type": "code",
   "execution_count": 115,
   "metadata": {},
   "outputs": [
    {
     "data": {
      "text/html": [
       "<div>\n",
       "<style scoped>\n",
       "    .dataframe tbody tr th:only-of-type {\n",
       "        vertical-align: middle;\n",
       "    }\n",
       "\n",
       "    .dataframe tbody tr th {\n",
       "        vertical-align: top;\n",
       "    }\n",
       "\n",
       "    .dataframe thead th {\n",
       "        text-align: right;\n",
       "    }\n",
       "</style>\n",
       "<table border=\"1\" class=\"dataframe\">\n",
       "  <thead>\n",
       "    <tr style=\"text-align: right;\">\n",
       "      <th></th>\n",
       "      <th>monetary_value</th>\n",
       "      <th>frequency</th>\n",
       "      <th>recency</th>\n",
       "      <th>realised_loan_amount</th>\n",
       "      <th>TicketSize</th>\n",
       "    </tr>\n",
       "  </thead>\n",
       "  <tbody>\n",
       "    <tr>\n",
       "      <th>count</th>\n",
       "      <td>8142.000000</td>\n",
       "      <td>8142.000000</td>\n",
       "      <td>8142.000000</td>\n",
       "      <td>8142.000000</td>\n",
       "      <td>8142.000000</td>\n",
       "    </tr>\n",
       "    <tr>\n",
       "      <th>mean</th>\n",
       "      <td>-846422.396036</td>\n",
       "      <td>7.953206</td>\n",
       "      <td>147.509089</td>\n",
       "      <td>2188692.801710</td>\n",
       "      <td>734296.966949</td>\n",
       "    </tr>\n",
       "    <tr>\n",
       "      <th>std</th>\n",
       "      <td>789714.369288</td>\n",
       "      <td>14.555938</td>\n",
       "      <td>183.001697</td>\n",
       "      <td>2188367.783871</td>\n",
       "      <td>775894.680610</td>\n",
       "    </tr>\n",
       "    <tr>\n",
       "      <th>min</th>\n",
       "      <td>-6548163.270000</td>\n",
       "      <td>1.000000</td>\n",
       "      <td>0.000000</td>\n",
       "      <td>6300.000000</td>\n",
       "      <td>5691.666667</td>\n",
       "    </tr>\n",
       "    <tr>\n",
       "      <th>25%</th>\n",
       "      <td>-1263931.000000</td>\n",
       "      <td>1.000000</td>\n",
       "      <td>26.000000</td>\n",
       "      <td>975039.750000</td>\n",
       "      <td>191274.600000</td>\n",
       "    </tr>\n",
       "    <tr>\n",
       "      <th>50%</th>\n",
       "      <td>-641988.333333</td>\n",
       "      <td>3.000000</td>\n",
       "      <td>72.000000</td>\n",
       "      <td>1624600.500000</td>\n",
       "      <td>406175.976190</td>\n",
       "    </tr>\n",
       "    <tr>\n",
       "      <th>75%</th>\n",
       "      <td>-211033.333333</td>\n",
       "      <td>9.000000</td>\n",
       "      <td>144.000000</td>\n",
       "      <td>2632845.628333</td>\n",
       "      <td>1070150.000000</td>\n",
       "    </tr>\n",
       "    <tr>\n",
       "      <th>max</th>\n",
       "      <td>-324.000000</td>\n",
       "      <td>413.000000</td>\n",
       "      <td>610.000000</td>\n",
       "      <td>32173087.000000</td>\n",
       "      <td>3909000.000000</td>\n",
       "    </tr>\n",
       "  </tbody>\n",
       "</table>\n",
       "</div>"
      ],
      "text/plain": [
       "       monetary_value   frequency     recency  realised_loan_amount  \\\n",
       "count     8142.000000 8142.000000 8142.000000           8142.000000   \n",
       "mean   -846422.396036    7.953206  147.509089        2188692.801710   \n",
       "std     789714.369288   14.555938  183.001697        2188367.783871   \n",
       "min   -6548163.270000    1.000000    0.000000           6300.000000   \n",
       "25%   -1263931.000000    1.000000   26.000000         975039.750000   \n",
       "50%    -641988.333333    3.000000   72.000000        1624600.500000   \n",
       "75%    -211033.333333    9.000000  144.000000        2632845.628333   \n",
       "max       -324.000000  413.000000  610.000000       32173087.000000   \n",
       "\n",
       "          TicketSize  \n",
       "count    8142.000000  \n",
       "mean   734296.966949  \n",
       "std    775894.680610  \n",
       "min      5691.666667  \n",
       "25%    191274.600000  \n",
       "50%    406175.976190  \n",
       "75%   1070150.000000  \n",
       "max   3909000.000000  "
      ]
     },
     "execution_count": 115,
     "metadata": {},
     "output_type": "execute_result"
    }
   ],
   "source": [
    "data_revenue_minus = data.copy()\n",
    "data_revenue_minus = data_revenue_minus[(data_revenue_minus['monetary_value']<0)]\n",
    "data_revenue_minus.describe()"
   ]
  },
  {
   "cell_type": "markdown",
   "metadata": {},
   "source": [
    "Stats of Data (Revenue=0)"
   ]
  },
  {
   "cell_type": "code",
   "execution_count": 116,
   "metadata": {},
   "outputs": [
    {
     "data": {
      "text/html": [
       "<div>\n",
       "<style scoped>\n",
       "    .dataframe tbody tr th:only-of-type {\n",
       "        vertical-align: middle;\n",
       "    }\n",
       "\n",
       "    .dataframe tbody tr th {\n",
       "        vertical-align: top;\n",
       "    }\n",
       "\n",
       "    .dataframe thead th {\n",
       "        text-align: right;\n",
       "    }\n",
       "</style>\n",
       "<table border=\"1\" class=\"dataframe\">\n",
       "  <thead>\n",
       "    <tr style=\"text-align: right;\">\n",
       "      <th></th>\n",
       "      <th>monetary_value</th>\n",
       "      <th>frequency</th>\n",
       "      <th>recency</th>\n",
       "      <th>realised_loan_amount</th>\n",
       "      <th>TicketSize</th>\n",
       "    </tr>\n",
       "  </thead>\n",
       "  <tbody>\n",
       "    <tr>\n",
       "      <th>count</th>\n",
       "      <td>9734.000000</td>\n",
       "      <td>9734.000000</td>\n",
       "      <td>9734.000000</td>\n",
       "      <td>9734.000000</td>\n",
       "      <td>9734.000000</td>\n",
       "    </tr>\n",
       "    <tr>\n",
       "      <th>mean</th>\n",
       "      <td>0.000000</td>\n",
       "      <td>3.362646</td>\n",
       "      <td>16.214506</td>\n",
       "      <td>46228.849086</td>\n",
       "      <td>15685.274222</td>\n",
       "    </tr>\n",
       "    <tr>\n",
       "      <th>std</th>\n",
       "      <td>0.000000</td>\n",
       "      <td>6.784449</td>\n",
       "      <td>28.550902</td>\n",
       "      <td>137972.071119</td>\n",
       "      <td>65650.248101</td>\n",
       "    </tr>\n",
       "    <tr>\n",
       "      <th>min</th>\n",
       "      <td>0.000000</td>\n",
       "      <td>1.000000</td>\n",
       "      <td>0.000000</td>\n",
       "      <td>0.000000</td>\n",
       "      <td>0.000000</td>\n",
       "    </tr>\n",
       "    <tr>\n",
       "      <th>25%</th>\n",
       "      <td>0.000000</td>\n",
       "      <td>1.000000</td>\n",
       "      <td>4.000000</td>\n",
       "      <td>0.000000</td>\n",
       "      <td>0.000000</td>\n",
       "    </tr>\n",
       "    <tr>\n",
       "      <th>50%</th>\n",
       "      <td>0.000000</td>\n",
       "      <td>1.000000</td>\n",
       "      <td>9.000000</td>\n",
       "      <td>0.000000</td>\n",
       "      <td>0.000000</td>\n",
       "    </tr>\n",
       "    <tr>\n",
       "      <th>75%</th>\n",
       "      <td>0.000000</td>\n",
       "      <td>3.000000</td>\n",
       "      <td>17.000000</td>\n",
       "      <td>0.000000</td>\n",
       "      <td>0.000000</td>\n",
       "    </tr>\n",
       "    <tr>\n",
       "      <th>max</th>\n",
       "      <td>0.000000</td>\n",
       "      <td>111.000000</td>\n",
       "      <td>595.000000</td>\n",
       "      <td>2658216.000000</td>\n",
       "      <td>2549150.000000</td>\n",
       "    </tr>\n",
       "  </tbody>\n",
       "</table>\n",
       "</div>"
      ],
      "text/plain": [
       "       monetary_value   frequency     recency  realised_loan_amount  \\\n",
       "count     9734.000000 9734.000000 9734.000000           9734.000000   \n",
       "mean         0.000000    3.362646   16.214506          46228.849086   \n",
       "std          0.000000    6.784449   28.550902         137972.071119   \n",
       "min          0.000000    1.000000    0.000000              0.000000   \n",
       "25%          0.000000    1.000000    4.000000              0.000000   \n",
       "50%          0.000000    1.000000    9.000000              0.000000   \n",
       "75%          0.000000    3.000000   17.000000              0.000000   \n",
       "max          0.000000  111.000000  595.000000        2658216.000000   \n",
       "\n",
       "          TicketSize  \n",
       "count    9734.000000  \n",
       "mean    15685.274222  \n",
       "std     65650.248101  \n",
       "min         0.000000  \n",
       "25%         0.000000  \n",
       "50%         0.000000  \n",
       "75%         0.000000  \n",
       "max   2549150.000000  "
      ]
     },
     "execution_count": 116,
     "metadata": {},
     "output_type": "execute_result"
    }
   ],
   "source": [
    "data_revenue_0 = data.copy()\n",
    "data_revenue_0 = data_revenue_0[(data_revenue_0['monetary_value']==0)]\n",
    "data_revenue_0.describe()"
   ]
  },
  {
   "cell_type": "code",
   "execution_count": 117,
   "metadata": {},
   "outputs": [
    {
     "data": {
      "text/html": [
       "<div>\n",
       "<style scoped>\n",
       "    .dataframe tbody tr th:only-of-type {\n",
       "        vertical-align: middle;\n",
       "    }\n",
       "\n",
       "    .dataframe tbody tr th {\n",
       "        vertical-align: top;\n",
       "    }\n",
       "\n",
       "    .dataframe thead th {\n",
       "        text-align: right;\n",
       "    }\n",
       "</style>\n",
       "<table border=\"1\" class=\"dataframe\">\n",
       "  <thead>\n",
       "    <tr style=\"text-align: right;\">\n",
       "      <th></th>\n",
       "      <th>applicantIdNumber</th>\n",
       "      <th>monetary_value</th>\n",
       "      <th>frequency</th>\n",
       "      <th>recency</th>\n",
       "      <th>realised_loan_amount</th>\n",
       "      <th>TicketSize</th>\n",
       "    </tr>\n",
       "  </thead>\n",
       "  <tbody>\n",
       "    <tr>\n",
       "      <th>54014</th>\n",
       "      <td>6303035601810002</td>\n",
       "      <td>0.000000</td>\n",
       "      <td>111</td>\n",
       "      <td>16</td>\n",
       "      <td>2658216.000000</td>\n",
       "      <td>23947.891892</td>\n",
       "    </tr>\n",
       "  </tbody>\n",
       "</table>\n",
       "</div>"
      ],
      "text/plain": [
       "      applicantIdNumber  monetary_value  frequency  recency  \\\n",
       "54014  6303035601810002        0.000000        111       16   \n",
       "\n",
       "       realised_loan_amount   TicketSize  \n",
       "54014        2658216.000000 23947.891892  "
      ]
     },
     "execution_count": 117,
     "metadata": {},
     "output_type": "execute_result"
    }
   ],
   "source": [
    "data_revenue_0[(data_revenue_0['frequency']==111)]\n",
    "# data_revenue_minus[(data_revenue_minus['frequency']==413)]"
   ]
  },
  {
   "cell_type": "markdown",
   "metadata": {},
   "source": [
    "Seaborn Scatter"
   ]
  },
  {
   "cell_type": "code",
   "execution_count": 126,
   "metadata": {
    "scrolled": true
   },
   "outputs": [
    {
     "data": {
      "text/plain": [
       "[Text(0, 0, '-7.50M'),\n",
       " Text(0, 0, '-5.00M'),\n",
       " Text(0, 0, '-2.50M'),\n",
       " Text(0, 0, '0.00M'),\n",
       " Text(0, 0, '2.50M'),\n",
       " Text(0, 0, '5.00M'),\n",
       " Text(0, 0, '7.50M'),\n",
       " Text(0, 0, '10.00M'),\n",
       " Text(0, 0, '12.50M'),\n",
       " Text(0, 0, '15.00M')]"
      ]
     },
     "execution_count": 126,
     "metadata": {},
     "output_type": "execute_result"
    },
    {
     "data": {
      "image/png": "[encoded data removed]",
      "text/plain": [
       "<Figure size 576x396 with 1 Axes>"
      ]
     },
     "metadata": {},
     "output_type": "display_data"
    }
   ],
   "source": [
    "# Method 1 : \n",
    "# plt.scatter(x=data['monetary_value'],y=data['frequency'])\n",
    "# plt.show()\n",
    "\n",
    "# # Method 2 :\n",
    "g = sns.regplot(x='monetary_value', y='frequency' ,data=data, scatter=True)\n",
    "g.set_xticklabels(['{:,.2f}'.format(x) + 'M' for x in g.get_xticks()/1000000])"
   ]
  },
  {
   "cell_type": "markdown",
   "metadata": {},
   "source": [
    "Histogram Revenue"
   ]
  },
  {
   "cell_type": "code",
   "execution_count": 139,
   "metadata": {},
   "outputs": [
    {
     "ename": "AttributeError",
     "evalue": "module 'seaborn' has no attribute 'displot'",
     "output_type": "error",
     "traceback": [
      "\u001b[1;31m---------------------------------------------------------------------------\u001b[0m",
      "\u001b[1;31mAttributeError\u001b[0m                            Traceback (most recent call last)",
      "\u001b[1;32m<ipython-input-139-7db2127f57f0>\u001b[0m in \u001b[0;36m<module>\u001b[1;34m\u001b[0m\n\u001b[0;32m      8\u001b[0m \u001b[1;33m\u001b[0m\u001b[0m\n\u001b[0;32m      9\u001b[0m \u001b[1;31m# sns.histplot(data=data, x=\"monetary_value\")\u001b[0m\u001b[1;33m\u001b[0m\u001b[1;33m\u001b[0m\u001b[1;33m\u001b[0m\u001b[0m\n\u001b[1;32m---> 10\u001b[1;33m \u001b[0msns\u001b[0m\u001b[1;33m.\u001b[0m\u001b[0mdisplot\u001b[0m\u001b[1;33m(\u001b[0m\u001b[0mdata\u001b[0m\u001b[1;33m[\u001b[0m\u001b[1;34m'monetary_value'\u001b[0m\u001b[1;33m]\u001b[0m\u001b[1;33m,\u001b[0m \u001b[0mdiscrete\u001b[0m \u001b[1;33m=\u001b[0m \u001b[1;32mTrue\u001b[0m\u001b[1;33m,\u001b[0m \u001b[0mkde\u001b[0m \u001b[1;33m=\u001b[0m \u001b[1;32mTrue\u001b[0m\u001b[1;33m)\u001b[0m\u001b[1;33m\u001b[0m\u001b[1;33m\u001b[0m\u001b[0m\n\u001b[0m",
      "\u001b[1;31mAttributeError\u001b[0m: module 'seaborn' has no attribute 'displot'"
     ]
    }
   ],
   "source": [
    "# range_x = pd.Series(range(1,6))*2500000\n",
    "# plt.hist(data['monetary_value'],bins=50)\n",
    "# plt.xlabel('monetary_value')\n",
    "# plt.ylabel('Y')\n",
    "# # plt.range=pd.Series(range(1,30))*500000\n",
    "# plt.show()\n",
    "\n",
    "\n",
    "# sns.histplot(data=data, x=\"monetary_value\")\n",
    "sns.displot(data['monetary_value'], discrete = True, kde = True)\n"
   ]
  },
  {
   "cell_type": "markdown",
   "metadata": {},
   "source": [
    "Histogram Revenue>0"
   ]
  },
  {
   "cell_type": "code",
   "execution_count": 120,
   "metadata": {},
   "outputs": [
    {
     "data": {
      "image/png": "[encoded data removed]",
      "text/plain": [
       "<Figure size 576x396 with 1 Axes>"
      ]
     },
     "metadata": {},
     "output_type": "display_data"
    }
   ],
   "source": [
    "plt.hist(data_revenue_plus['monetary_value'],bins=50)\n",
    "plt.xlabel('monetary_value')\n",
    "plt.ylabel('Y')\n",
    "plt.show()"
   ]
  },
  {
   "cell_type": "markdown",
   "metadata": {},
   "source": [
    "Histogram Revenue<0"
   ]
  },
  {
   "cell_type": "code",
   "execution_count": 121,
   "metadata": {},
   "outputs": [
    {
     "data": {
      "image/png": "[encoded data removed]",
      "text/plain": [
       "<Figure size 576x396 with 1 Axes>"
      ]
     },
     "metadata": {},
     "output_type": "display_data"
    }
   ],
   "source": [
    "plt.hist(data_revenue_minus['monetary_value'],bins=50)\n",
    "plt.xlabel('monetary_value')\n",
    "plt.ylabel('Y')\n",
    "plt.show()"
   ]
  },
  {
   "cell_type": "code",
   "execution_count": 122,
   "metadata": {},
   "outputs": [
    {
     "data": {
      "text/plain": [
       "<matplotlib.axes._subplots.AxesSubplot at 0x20e4f7fbb00>"
      ]
     },
     "execution_count": 122,
     "metadata": {},
     "output_type": "execute_result"
    },
    {
     "data": {
      "image/png": "[encoded data removed]",
      "text/plain": [
       "<Figure size 576x396 with 1 Axes>"
      ]
     },
     "metadata": {},
     "output_type": "display_data"
    }
   ],
   "source": [
    "sns.distplot(data['monetary_value'], hist=True, kde=True, \n",
    "             bins=50, color = 'darkblue', \n",
    "             hist_kws={'edgecolor':'black'},\n",
    "             kde_kws={'linewidth': 1})"
   ]
  },
  {
   "cell_type": "code",
   "execution_count": null,
   "metadata": {},
   "outputs": [],
   "source": []
  },
  {
   "cell_type": "markdown",
   "metadata": {},
   "source": [
    "Export to excel/csv"
   ]
  },
  {
   "cell_type": "code",
   "execution_count": null,
   "metadata": {},
   "outputs": [],
   "source": [
    "data_revenue_0.to_excel('Data Revenue 0.xlsx',index=False)"
   ]
  },
  {
   "cell_type": "code",
   "execution_count": null,
   "metadata": {},
   "outputs": [],
   "source": []
  },
  {
   "cell_type": "code",
   "execution_count": 132,
   "metadata": {},
   "outputs": [
    {
     "data": {
      "text/plain": [
       "0     500000\n",
       "1    1000000\n",
       "2    1500000\n",
       "3    2000000\n",
       "4    2500000\n",
       "dtype: int64"
      ]
     },
     "execution_count": 132,
     "metadata": {},
     "output_type": "execute_result"
    }
   ],
   "source": [
    "one_to_hundred = pd.Series(range(1,30))*500000\n",
    "one_to_hundred.head()"
   ]
  },
  {
   "cell_type": "code",
   "execution_count": null,
   "metadata": {},
   "outputs": [],
   "source": []
  }
 ],
 "metadata": {
  "kernelspec": {
   "display_name": "Python 3",
   "language": "python",
   "name": "python3"
  },
  "language_info": {
   "codemirror_mode": {
    "name": "ipython",
    "version": 3
   },
   "file_extension": ".py",
   "mimetype": "text/x-python",
   "name": "python",
   "nbconvert_exporter": "python",
   "pygments_lexer": "ipython3",
   "version": "3.7.3"
  }
 },
 "nbformat": 4,
 "nbformat_minor": 2
}
