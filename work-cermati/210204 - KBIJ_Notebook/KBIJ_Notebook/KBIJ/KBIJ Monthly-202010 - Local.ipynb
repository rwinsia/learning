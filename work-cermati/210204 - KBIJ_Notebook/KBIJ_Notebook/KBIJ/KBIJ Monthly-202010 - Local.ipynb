{
 "cells": [
  {
   "cell_type": "code",
   "execution_count": 1,
   "metadata": {},
   "outputs": [],
   "source": [
    "import pandas as pd\n",
    "import numpy as np\n",
    "import json\n",
    "from datetime import datetime, timedelta\n",
    "import re\n",
    "import os,sys\n",
    "\n",
    "import kbij_helper as kbijh\n",
    "kbij = kbijh.KBIJ()\n",
    "\n",
    "import warnings\n",
    "warnings.filterwarnings('ignore')\n",
    "autostats_lib = \"../autostats\"\n",
    "if autostats_lib not in sys.path:\n",
    "    sys.path.append(autostats_lib)\n",
    "\n",
    "from utilities.data_storage import DataStorage\n",
    "import time"
   ]
  },
  {
   "cell_type": "code",
   "execution_count": 2,
   "metadata": {},
   "outputs": [],
   "source": [
    "%load_ext google.cloud.bigquery\n",
    "from google.cloud import bigquery\n",
    "DataStorage(os.environ[\"GOOGLE_APPLICATION_CREDENTIALS\"])\n",
    "\n",
    "from IPython.display import clear_output"
   ]
  },
  {
   "cell_type": "code",
   "execution_count": 3,
   "metadata": {},
   "outputs": [],
   "source": [
    "def get_key(my_dict, val):\n",
    "    keys_list = []\n",
    "    for key, value in my_dict.items(): \n",
    "         if val == value: \n",
    "             keys_list.append(key)\n",
    "  \n",
    "    return keys_list"
   ]
  },
  {
   "cell_type": "code",
   "execution_count": 4,
   "metadata": {},
   "outputs": [],
   "source": [
    "date = \"2020-10-01\"\n",
    "prev_date = \"2020-09-01\""
   ]
  },
  {
   "cell_type": "code",
   "execution_count": null,
   "metadata": {},
   "outputs": [],
   "source": []
  },
  {
   "cell_type": "code",
   "execution_count": 5,
   "metadata": {},
   "outputs": [
    {
     "name": "stdout",
     "output_type": "stream",
     "text": [
      "202010\n"
     ]
    }
   ],
   "source": [
    "datem = pd.to_datetime(date)\n",
    "datem = datem.strftime(\"%Y%m\")\n",
    "print(datem)"
   ]
  },
  {
   "cell_type": "code",
   "execution_count": 6,
   "metadata": {},
   "outputs": [],
   "source": [
    "pathname = 'data'+datem\n",
    "dirname = './'+pathname"
   ]
  },
  {
   "cell_type": "code",
   "execution_count": 7,
   "metadata": {},
   "outputs": [],
   "source": [
    "raw_filename_F01 = dirname+'/F01'+datem+'.csv'\n",
    "raw_filename_D01 = dirname+'/D01'+datem+'.csv'"
   ]
  },
  {
   "cell_type": "code",
   "execution_count": 8,
   "metadata": {},
   "outputs": [],
   "source": [
    "filtered_filename_F01 = dirname+'/F01'+datem+'_new_filtered.csv'\n",
    "filtered_filename_D01 = dirname+'/D01'+datem+'_new_filtered.csv'"
   ]
  },
  {
   "cell_type": "code",
   "execution_count": null,
   "metadata": {},
   "outputs": [],
   "source": []
  },
  {
   "cell_type": "code",
   "execution_count": 9,
   "metadata": {},
   "outputs": [
    {
     "name": "stdout",
     "output_type": "stream",
     "text": [
      "202009\n"
     ]
    }
   ],
   "source": [
    "prev_datem = pd.to_datetime(prev_date)\n",
    "prev_datem = prev_datem.strftime(\"%Y%m\")\n",
    "print(prev_datem)"
   ]
  },
  {
   "cell_type": "code",
   "execution_count": 10,
   "metadata": {},
   "outputs": [],
   "source": [
    "prev_pathname = 'data'+prev_datem\n",
    "prev_dirname = './'+prev_pathname"
   ]
  },
  {
   "cell_type": "code",
   "execution_count": 11,
   "metadata": {},
   "outputs": [],
   "source": [
    "prev_filtered_filename_F01 = prev_dirname+'/F01'+prev_datem+'_new_filtered.csv'\n",
    "prev_filtered_filename_D01 = prev_dirname+'/D01'+prev_datem+'_new_filtered.csv'"
   ]
  },
  {
   "cell_type": "code",
   "execution_count": 12,
   "metadata": {},
   "outputs": [],
   "source": [
    "F01_dtype = {'Kode Jenis Pelapor': 'object',\n",
    " 'Kode Pelapor': 'object',\n",
    " 'Tahun Bulan Data': 'object',\n",
    " 'Kode Jenis Fasilitas': 'object',\n",
    " 'Nomor Rekening Fasilitas': 'object',\n",
    " 'Nomor Rekening Lama Fasilitas': 'object',\n",
    " 'Nomor CIF Debitur': 'object',\n",
    " 'Kode Sifat Kredit atau Pembiayaan': 'str',\n",
    " 'Kode Jenis Kredit atau Pembiayaan': 'str',\n",
    " 'Kode Akad Kredit atau Akad Pembiayaan': 'object',\n",
    " 'Nomor Akad Awal': 'object',\n",
    " 'Tanggal Akad Awal': 'object',\n",
    " 'Nomor Akad Akhir': 'object',\n",
    " 'Tanggal Akad Akhir': 'object',\n",
    " 'Frekuensi Perpanjangan Fasilitas Kredit atau Pembiayaan': 'int64',\n",
    " 'Tanggal Awal Kredit atau Pembiayaan': 'object',\n",
    " 'Tanggal Mulai': 'object',\n",
    " 'Tanggal Jatuh Tempo': 'object',\n",
    " 'Kode Kategori Debitur': 'object',\n",
    " 'Kode Jenis Penggunaan': 'str',\n",
    " 'Kode Orientasi Penggunaan': 'str',\n",
    " 'Kode Sektor Ekonomi': 'object',\n",
    " 'Kode Kabupaten atau Kota Lokasi Proyek atau Penggunaan Kredit atau Pembiayaan': 'object',\n",
    " 'Nilai Proyek': 'object',\n",
    " 'Kode Valuta': 'object',\n",
    " 'Suku Bunga atau Imbalan': 'float64',\n",
    " 'Jenis Suku Bunga atau Imbalan': 'int64',\n",
    " 'Kredit atau Pembiayaan Program Pemerintah': 'object',\n",
    " 'Plafon Awal': 'float64',\n",
    " 'Plafon': 'float64',\n",
    " 'Realisasi atau Pencairan Bulan Berjalan': 'float64',\n",
    " 'Denda': 'float64',\n",
    " 'Baki Debet': 'float64',\n",
    " 'Nilai dalam Mata Uang Asal': 'object',\n",
    " 'Kode Kualitas Kredit atau Pembiayaan': 'str',\n",
    " 'Tanggal Macet': 'object',\n",
    " 'Kode Sebab Macet': 'str',\n",
    " 'Tunggakan Pokok': 'int64',\n",
    " 'Tunggakan Bunga atau Imbalan': 'int64',\n",
    " 'Jumlah Hari Tunggakan': 'int64',\n",
    " 'Frekuensi Tunggakan': 'int64',\n",
    " 'Frekuensi Restrukturisasi': 'int64',\n",
    " 'Tanggal Restrukturisasi Awal': 'object',\n",
    " 'Tanggal Restrukturisasi Akhir': 'object',\n",
    " 'Kode Cara Restrukturisasi': 'object',\n",
    " 'Kode Kondisi': 'object',\n",
    " 'Tanggal Kondisi': 'object',\n",
    " 'Keterangan': 'object',\n",
    " 'Kode Kantor Cabang': 'object',\n",
    " 'Operasi Data': 'object',\n",
    " 'Status delete': 'object',\n",
    " 'Create Date': 'str',\n",
    " 'Update Date': 'str',\n",
    " 'Approved Date': 'str',\n",
    " 'userId': 'object',\n",
    " 'orderId': 'object',\n",
    " 'status': 'object'}\n",
    "\n",
    "D01_dtype = {'Kode Jenis Pelapor': 'object',\n",
    " 'Kode Pelapor': 'object',\n",
    " 'Tahun Bulan Data': 'object',\n",
    " 'Nomor CIF Lama Debitur': 'object',\n",
    " 'Nomor CIF Debitur': 'object',\n",
    " 'Jenis Identitas': 'int64',\n",
    " 'Nomor Identitas': 'object',\n",
    " 'Nama Sesuai Identitas': 'object',\n",
    " 'Nama Lengkap': 'object',\n",
    " 'Kode Status Pendidikan atau Gelar Debitur': 'object',\n",
    " 'Jenis Kelamin': 'object',\n",
    " 'Tempat Lahir': 'object',\n",
    " 'Tanggal Lahir': 'object',\n",
    " 'Nama Gadis Ibu Kandung': 'object',\n",
    " 'NPWP': 'object',\n",
    " 'Alamat': 'object',\n",
    " 'Kelurahan': 'object',\n",
    " 'Kecamatan': 'object',\n",
    " 'Kode Kabupaten atau Kota': 'object',\n",
    " 'Kode Pos': 'object',\n",
    " 'Nomor Telepon': 'object',\n",
    " 'Nomor Telepon Seluler': 'object',\n",
    " 'Alamat email': 'object',\n",
    " 'Kode Negara Domisili': 'object',\n",
    " 'Kode Pekerjaan': 'object',\n",
    " 'Tempat Bekerja': 'object',\n",
    " 'Kode Bidang Usaha Tempat Bekerja': 'object',\n",
    " 'Alamat Tempat Bekerja': 'object',\n",
    " 'Kode Golongan Debitur': 'object',\n",
    " 'Status Perkawinan Debitur': 'int64',\n",
    " 'Kode Kantor Cabang': 'object',\n",
    " 'Operasi Data': 'object',\n",
    " 'Status delete': 'object',\n",
    " 'Create Date': 'str',\n",
    " 'Update Date': 'str',\n",
    " 'Approved Date': 'str',\n",
    " 'userId': 'object',\n",
    " 'orderId': 'object',\n",
    " 'status': 'object'}"
   ]
  },
  {
   "cell_type": "markdown",
   "metadata": {},
   "source": [
    "# Query"
   ]
  },
  {
   "cell_type": "markdown",
   "metadata": {},
   "source": [
    "Get new F01 and D01 from redash"
   ]
  },
  {
   "cell_type": "markdown",
   "metadata": {},
   "source": [
    "## F01 Current Data"
   ]
  },
  {
   "cell_type": "code",
   "execution_count": 13,
   "metadata": {},
   "outputs": [
    {
     "name": "stdout",
     "output_type": "stream",
     "text": [
      "[get_F01_data] Query from BigQuery takes 70.17332673072815\n"
     ]
    }
   ],
   "source": [
    "F01new = kbij.get_F01_data('\"'+date+'\"')"
   ]
  },
  {
   "cell_type": "markdown",
   "metadata": {},
   "source": [
    "## D01 Current Data"
   ]
  },
  {
   "cell_type": "code",
   "execution_count": 14,
   "metadata": {},
   "outputs": [
    {
     "name": "stdout",
     "output_type": "stream",
     "text": [
      "[get_D01_data] Query from BigQuery takes 57.53852391242981\n"
     ]
    }
   ],
   "source": [
    "D01new = kbij.get_D01_data('\"'+date+'\"')"
   ]
  },
  {
   "cell_type": "markdown",
   "metadata": {},
   "source": [
    "# Data Preparation"
   ]
  },
  {
   "cell_type": "code",
   "execution_count": 15,
   "metadata": {},
   "outputs": [
    {
     "name": "stdout",
     "output_type": "stream",
     "text": [
      "(128105, 69)\n"
     ]
    }
   ],
   "source": [
    "print(F01new.shape)\n",
    "a=[]\n",
    "for i in F01new.columns:\n",
    "    a.append(i.replace('_',' '))\n",
    "F01new.columns = a"
   ]
  },
  {
   "cell_type": "code",
   "execution_count": 16,
   "metadata": {},
   "outputs": [
    {
     "name": "stdout",
     "output_type": "stream",
     "text": [
      "(115014, 40)\n"
     ]
    }
   ],
   "source": [
    "print(D01new.shape)\n",
    "a=[]\n",
    "for i in D01new.columns:\n",
    "    a.append(i.replace('_',' '))\n",
    "D01new.columns = a"
   ]
  },
  {
   "cell_type": "code",
   "execution_count": 17,
   "metadata": {},
   "outputs": [],
   "source": [
    "for col in get_key(F01_dtype, 'object'):\n",
    "    F01new[col] = F01new[col].str.strip()"
   ]
  },
  {
   "cell_type": "code",
   "execution_count": 18,
   "metadata": {},
   "outputs": [],
   "source": [
    "for col in get_key(D01_dtype, 'object'):\n",
    "    D01new[col] = D01new[col].str.strip()"
   ]
  },
  {
   "cell_type": "code",
   "execution_count": 19,
   "metadata": {},
   "outputs": [],
   "source": [
    "F01new = F01new.replace('\\n','', regex=True)\n",
    "D01new = D01new.replace('\\n','', regex=True)"
   ]
  },
  {
   "cell_type": "code",
   "execution_count": 20,
   "metadata": {},
   "outputs": [],
   "source": [
    "F01new = F01new.replace('\\t','', regex=True)\n",
    "D01new = D01new.replace('\\t','', regex=True)"
   ]
  },
  {
   "cell_type": "code",
   "execution_count": 21,
   "metadata": {},
   "outputs": [],
   "source": [
    "D01new.rename(columns={\"Alamat email\": \"Alamat e-mail\"}, inplace=True)"
   ]
  },
  {
   "cell_type": "markdown",
   "metadata": {},
   "source": [
    "Check If KTP ID has char O/o"
   ]
  },
  {
   "cell_type": "code",
   "execution_count": 22,
   "metadata": {},
   "outputs": [
    {
     "data": {
      "text/plain": [
       "Series([], Name: Nomor Identitas, dtype: object)"
      ]
     },
     "execution_count": 22,
     "metadata": {},
     "output_type": "execute_result"
    }
   ],
   "source": [
    "D01new['Nomor Identitas'][D01new['Nomor Identitas'].str.contains('O',case=False, regex=False)==True]"
   ]
  },
  {
   "cell_type": "markdown",
   "metadata": {},
   "source": [
    "Trim \"Alamat e-mail\" to 150 char, \"Alamat Tempat Bekerja\" to 300 char"
   ]
  },
  {
   "cell_type": "code",
   "execution_count": 23,
   "metadata": {},
   "outputs": [],
   "source": [
    "D01new['Alamat e-mail']=D01new['Alamat e-mail'].str[-149:]\n",
    "D01new['Alamat Tempat Bekerja']=D01new['Alamat Tempat Bekerja'].str[:299]"
   ]
  },
  {
   "cell_type": "markdown",
   "metadata": {},
   "source": [
    "Check if there is still \"Alamat e-mail\" and \"Alamat Tempat Bekerja\" with more than 150 and 300 char each"
   ]
  },
  {
   "cell_type": "code",
   "execution_count": 24,
   "metadata": {},
   "outputs": [
    {
     "data": {
      "text/plain": [
       "Series([], Name: Alamat e-mail, dtype: object)"
      ]
     },
     "execution_count": 24,
     "metadata": {},
     "output_type": "execute_result"
    }
   ],
   "source": [
    "D01new['Alamat e-mail'][D01new['Alamat e-mail'].str.len()>=150]"
   ]
  },
  {
   "cell_type": "code",
   "execution_count": 25,
   "metadata": {},
   "outputs": [
    {
     "data": {
      "text/plain": [
       "Series([], Name: Alamat Tempat Bekerja, dtype: object)"
      ]
     },
     "execution_count": 25,
     "metadata": {},
     "output_type": "execute_result"
    }
   ],
   "source": [
    "D01new['Alamat Tempat Bekerja'][D01new['Alamat Tempat Bekerja'].str.len()>=300]"
   ]
  },
  {
   "cell_type": "code",
   "execution_count": 26,
   "metadata": {},
   "outputs": [],
   "source": [
    "gelar_list = pd.read_csv('./data/gelar.csv')['index'].tolist()\n",
    "gelar_depan_list = pd.read_csv('./data/gelar_depan.csv')['index'].tolist()"
   ]
  },
  {
   "cell_type": "code",
   "execution_count": 27,
   "metadata": {},
   "outputs": [],
   "source": [
    "def remove_gelar(nama):\n",
    "    nama_list = nama.split()\n",
    "    clear_output()\n",
    "    print(nama_list)\n",
    "    if nama_list[-1].lower() in gelar_list:\n",
    "        del nama_list[-1]\n",
    "    if nama_list[0].lower() in gelar_depan_list:\n",
    "        del nama_list[0]    \n",
    "        \n",
    "    return ' '.join(nama_list)"
   ]
  },
  {
   "cell_type": "code",
   "execution_count": 28,
   "metadata": {},
   "outputs": [
    {
     "data": {
      "text/html": [
       "<div>\n",
       "<style scoped>\n",
       "    .dataframe tbody tr th:only-of-type {\n",
       "        vertical-align: middle;\n",
       "    }\n",
       "\n",
       "    .dataframe tbody tr th {\n",
       "        vertical-align: top;\n",
       "    }\n",
       "\n",
       "    .dataframe thead th {\n",
       "        text-align: right;\n",
       "    }\n",
       "</style>\n",
       "<table border=\"1\" class=\"dataframe\">\n",
       "  <thead>\n",
       "    <tr style=\"text-align: right;\">\n",
       "      <th></th>\n",
       "      <th>Kode Jenis Pelapor</th>\n",
       "      <th>Kode Pelapor</th>\n",
       "      <th>Tahun Bulan Data</th>\n",
       "      <th>Nomor CIF Lama Debitur</th>\n",
       "      <th>Nomor CIF Debitur</th>\n",
       "      <th>Jenis Identitas</th>\n",
       "      <th>Nomor Identitas</th>\n",
       "      <th>Nama Sesuai Identitas</th>\n",
       "      <th>Nama Lengkap</th>\n",
       "      <th>Kode Status Pendidikan atau Gelar Debitur</th>\n",
       "      <th>...</th>\n",
       "      <th>Kode Kantor Cabang</th>\n",
       "      <th>Operasi Data</th>\n",
       "      <th>Status delete</th>\n",
       "      <th>Create Date</th>\n",
       "      <th>Update Date</th>\n",
       "      <th>Approved Date</th>\n",
       "      <th>userId</th>\n",
       "      <th>orderId</th>\n",
       "      <th>paidoffDate</th>\n",
       "      <th>status</th>\n",
       "    </tr>\n",
       "  </thead>\n",
       "  <tbody>\n",
       "  </tbody>\n",
       "</table>\n",
       "<p>0 rows × 40 columns</p>\n",
       "</div>"
      ],
      "text/plain": [
       "Empty DataFrame\n",
       "Columns: [Kode Jenis Pelapor, Kode Pelapor, Tahun Bulan Data, Nomor CIF Lama Debitur, Nomor CIF Debitur, Jenis Identitas, Nomor Identitas, Nama Sesuai Identitas, Nama Lengkap, Kode Status Pendidikan atau Gelar Debitur, Jenis Kelamin, Tempat Lahir, Tanggal Lahir, Nama Gadis Ibu Kandung, NPWP, Alamat, Kelurahan, Kecamatan, Kode Kabupaten atau Kota, Kode Pos, Nomor Telepon, Nomor Telepon Seluler, Alamat e-mail, Kode Negara Domisili, Kode Pekerjaan, Tempat Bekerja, Kode Bidang Usaha Tempat Bekerja, Alamat Tempat Bekerja, Kode Golongan Debitur, Status Perkawinan Debitur, Kode Kantor Cabang, Operasi Data, Status delete, Create Date, Update Date, Approved Date, userId, orderId, paidoffDate, status]\n",
       "Index: []\n",
       "\n",
       "[0 rows x 40 columns]"
      ]
     },
     "execution_count": 28,
     "metadata": {},
     "output_type": "execute_result"
    }
   ],
   "source": [
    "D01new[D01new['Nama Sesuai Identitas'].isna()]"
   ]
  },
  {
   "cell_type": "code",
   "execution_count": 29,
   "metadata": {},
   "outputs": [
    {
     "name": "stdout",
     "output_type": "stream",
     "text": [
      "['IMRON', 'RABANI', 'ZAHRAWAN']\n"
     ]
    }
   ],
   "source": [
    "D01new['Nama Sesuai Identitas'] = D01new['Nama Sesuai Identitas'].apply(remove_gelar)"
   ]
  },
  {
   "cell_type": "code",
   "execution_count": 30,
   "metadata": {},
   "outputs": [
    {
     "name": "stdout",
     "output_type": "stream",
     "text": [
      "['HARYATI']"
     ]
    }
   ],
   "source": [
    "D01new['Nama Gadis Ibu Kandung'] = D01new['Nama Gadis Ibu Kandung'].apply(remove_gelar)"
   ]
  },
  {
   "cell_type": "code",
   "execution_count": 31,
   "metadata": {},
   "outputs": [],
   "source": [
    "F01new.to_csv(path_or_buf=raw_filename_F01, index=False)\n",
    "D01new.to_csv(path_or_buf=raw_filename_D01, index=False)"
   ]
  },
  {
   "cell_type": "code",
   "execution_count": 32,
   "metadata": {},
   "outputs": [
    {
     "name": "stdout",
     "output_type": "stream",
     "text": [
      "kbij/data202010 - f01202010.csv\n"
     ]
    }
   ],
   "source": [
    "print('kbij/'+pathname + ' - '+ 'f01'+datem+'.csv')"
   ]
  },
  {
   "cell_type": "markdown",
   "metadata": {},
   "source": [
    "# Load Data"
   ]
  },
  {
   "cell_type": "code",
   "execution_count": 33,
   "metadata": {},
   "outputs": [],
   "source": [
    "# F01new = pd.read_csv(raw_filename_F01, dtype=F01_dtype)\n",
    "# D01new = pd.read_csv(raw_filename_D01, dtype=D01_dtype)"
   ]
  },
  {
   "cell_type": "code",
   "execution_count": 34,
   "metadata": {},
   "outputs": [
    {
     "name": "stdout",
     "output_type": "stream",
     "text": [
      "./data202009/F01202009_new_filtered.csv\n",
      "kbij/data202009\n",
      "f01202009_new_filtered.csv\n"
     ]
    }
   ],
   "source": [
    "print(prev_filtered_filename_F01)\n",
    "print('kbij/'+prev_pathname)\n",
    "print('f01'+prev_datem+'_new_filtered.csv')"
   ]
  },
  {
   "cell_type": "code",
   "execution_count": 35,
   "metadata": {},
   "outputs": [],
   "source": [
    "F01_prev = pd.read_csv(prev_filtered_filename_F01, dtype=F01_dtype)\n",
    "D01_prev = pd.read_csv(prev_filtered_filename_D01, dtype=D01_dtype)"
   ]
  },
  {
   "cell_type": "code",
   "execution_count": 36,
   "metadata": {},
   "outputs": [
    {
     "name": "stdout",
     "output_type": "stream",
     "text": [
      "D01new: (115014, 40) F01new: (128105, 69)\n",
      "D01_prev: (109798, 40) F01_prev: (124369, 69)\n"
     ]
    }
   ],
   "source": [
    "print('D01new:',D01new.shape, 'F01new:',F01new.shape)\n",
    "print('D01_prev:',D01_prev.shape, 'F01_prev:',F01_prev.shape)"
   ]
  },
  {
   "cell_type": "markdown",
   "metadata": {
    "toc-hr-collapsed": false
   },
   "source": [
    "# Checking"
   ]
  },
  {
   "cell_type": "code",
   "execution_count": 37,
   "metadata": {},
   "outputs": [
    {
     "name": "stdout",
     "output_type": "stream",
     "text": [
      "================================================================================\n",
      "Check Previous Not Active Nomor Rekening Fasilitas But Exist in Current Data \n",
      "\n",
      "Found 18247 Nomor Rekening Fasilitas\n",
      "--> kbij.existing_previous_not_active_data\n",
      "Drop previous not active Nomor Rekening Fasilitas from current F01\n",
      "Drop not existing Nomor CIF Debitur in current F01 from current D01\n",
      "\n",
      "[DONE]\n",
      "================================================================================\n",
      "================================================================================\n",
      "Check Previous Active Nomor Rekening Fasilitas But Not Exist in Current Data \n",
      "\n",
      "[CLEAR]No Previous Active Nomor Rekening Fasilitas But Not Exist in Current Data\n",
      "\n",
      "[DONE]\n",
      "================================================================================\n",
      "================================================================================\n",
      "Check Nomor CIF Debitur in D01 and F01 \n",
      "\n",
      "[CLEAR]All Nomor CIF Debitur in D01 are exist in F01\n",
      "\n",
      "[DONE]\n",
      "================================================================================\n",
      "================================================================================\n",
      "Check Active Kode Kondisi but Baki Debet = 0 \n",
      "\n",
      "Found 178 Nomor Rekening Fasilitas\n",
      "--> kbij.active_but_has_no_balance\n",
      "Set Kode Kondisi to not active\n",
      "\n",
      "[DONE]\n",
      "================================================================================\n",
      "================================================================================\n",
      "Check Not Active Kode Kondisi but Baki Debet > 0 \n",
      "\n",
      "[CLEAR]No Not Active Kode Kondisi but Baki Debet > 0\n",
      "\n",
      "[DONE]\n",
      "================================================================================\n",
      "================================================================================\n",
      "Check Baki Debet > Plafon Awal \n",
      "\n",
      "[CLEAR]No Baki Debet greater than Plafon Awal\n",
      "\n",
      "[DONE]\n",
      "================================================================================\n",
      "================================================================================\n",
      "Check Kode Kualitas Kredit atau Pembiayaan Macet but has no Tanggal Macet \n",
      "\n",
      "[CLEAR]No Kode Kualitas Kredit atau Pembiayaan Macet but has no Tanggal Macet\n",
      "\n",
      "[DONE]\n",
      "================================================================================\n",
      "================================================================================\n",
      "Check Tahun Bulan Data \n",
      "\n",
      "F01: ['202010']\n",
      "D01: ['202010']\n",
      "\n",
      "[DONE]\n",
      "================================================================================\n"
     ]
    }
   ],
   "source": [
    "F01new, D01new = kbij.checking_data(F01new, D01new, date, F01_prev=F01_prev, D01_prev=D01_prev)"
   ]
  },
  {
   "cell_type": "markdown",
   "metadata": {},
   "source": [
    "## Check column"
   ]
  },
  {
   "cell_type": "code",
   "execution_count": 38,
   "metadata": {},
   "outputs": [
    {
     "data": {
      "text/html": [
       "<div>\n",
       "<style scoped>\n",
       "    .dataframe tbody tr th:only-of-type {\n",
       "        vertical-align: middle;\n",
       "    }\n",
       "\n",
       "    .dataframe tbody tr th {\n",
       "        vertical-align: top;\n",
       "    }\n",
       "\n",
       "    .dataframe thead th {\n",
       "        text-align: right;\n",
       "    }\n",
       "</style>\n",
       "<table border=\"1\" class=\"dataframe\">\n",
       "  <thead>\n",
       "    <tr style=\"text-align: right;\">\n",
       "      <th></th>\n",
       "      <th>orderId</th>\n",
       "      <th>Jumlah Hari Tunggakan</th>\n",
       "      <th>Frekuensi Tunggakan</th>\n",
       "      <th>Approved Date</th>\n",
       "      <th>status</th>\n",
       "    </tr>\n",
       "  </thead>\n",
       "  <tbody>\n",
       "  </tbody>\n",
       "</table>\n",
       "</div>"
      ],
      "text/plain": [
       "Empty DataFrame\n",
       "Columns: [orderId, Jumlah Hari Tunggakan, Frekuensi Tunggakan, Approved Date, status]\n",
       "Index: []"
      ]
     },
     "execution_count": 38,
     "metadata": {},
     "output_type": "execute_result"
    }
   ],
   "source": [
    "F01new[(F01new['Jumlah Hari Tunggakan']==0) & (F01new['Frekuensi Tunggakan']>0)][['orderId','Jumlah Hari Tunggakan','Frekuensi Tunggakan','Approved Date','status']]"
   ]
  },
  {
   "cell_type": "code",
   "execution_count": null,
   "metadata": {},
   "outputs": [],
   "source": []
  },
  {
   "cell_type": "code",
   "execution_count": 39,
   "metadata": {},
   "outputs": [
    {
     "data": {
      "text/html": [
       "<div>\n",
       "<style scoped>\n",
       "    .dataframe tbody tr th:only-of-type {\n",
       "        vertical-align: middle;\n",
       "    }\n",
       "\n",
       "    .dataframe tbody tr th {\n",
       "        vertical-align: top;\n",
       "    }\n",
       "\n",
       "    .dataframe thead th {\n",
       "        text-align: right;\n",
       "    }\n",
       "</style>\n",
       "<table border=\"1\" class=\"dataframe\">\n",
       "  <thead>\n",
       "    <tr style=\"text-align: right;\">\n",
       "      <th></th>\n",
       "      <th>orderId</th>\n",
       "      <th>Denda</th>\n",
       "      <th>Kode Kualitas Kredit atau Pembiayaan</th>\n",
       "      <th>Kode Kondisi</th>\n",
       "      <th>dayPastDue</th>\n",
       "    </tr>\n",
       "  </thead>\n",
       "  <tbody>\n",
       "  </tbody>\n",
       "</table>\n",
       "</div>"
      ],
      "text/plain": [
       "Empty DataFrame\n",
       "Columns: [orderId, Denda, Kode Kualitas Kredit atau Pembiayaan, Kode Kondisi, dayPastDue]\n",
       "Index: []"
      ]
     },
     "execution_count": 39,
     "metadata": {},
     "output_type": "execute_result"
    }
   ],
   "source": [
    "F01new[(F01new['Tunggakan Pokok']>0) & (F01new['Kode Kualitas Kredit atau Pembiayaan']=='1') & (F01new['Kode Kondisi']=='00')][['orderId','Denda','Kode Kualitas Kredit atau Pembiayaan','Kode Kondisi','dayPastDue']]"
   ]
  },
  {
   "cell_type": "code",
   "execution_count": 40,
   "metadata": {},
   "outputs": [
    {
     "data": {
      "text/html": [
       "<div>\n",
       "<style scoped>\n",
       "    .dataframe tbody tr th:only-of-type {\n",
       "        vertical-align: middle;\n",
       "    }\n",
       "\n",
       "    .dataframe tbody tr th {\n",
       "        vertical-align: top;\n",
       "    }\n",
       "\n",
       "    .dataframe thead th {\n",
       "        text-align: right;\n",
       "    }\n",
       "</style>\n",
       "<table border=\"1\" class=\"dataframe\">\n",
       "  <thead>\n",
       "    <tr style=\"text-align: right;\">\n",
       "      <th></th>\n",
       "      <th>orderId</th>\n",
       "      <th>Denda</th>\n",
       "      <th>Kode Kualitas Kredit atau Pembiayaan</th>\n",
       "      <th>Kode Kondisi</th>\n",
       "      <th>dayPastDue</th>\n",
       "    </tr>\n",
       "  </thead>\n",
       "  <tbody>\n",
       "    <tr>\n",
       "      <th>71</th>\n",
       "      <td>ATH-11LVAXDJ</td>\n",
       "      <td>0</td>\n",
       "      <td>3</td>\n",
       "      <td>00</td>\n",
       "      <td>108</td>\n",
       "    </tr>\n",
       "    <tr>\n",
       "      <th>141</th>\n",
       "      <td>ATH-129P6LAM</td>\n",
       "      <td>0</td>\n",
       "      <td>5</td>\n",
       "      <td>00</td>\n",
       "      <td>238</td>\n",
       "    </tr>\n",
       "    <tr>\n",
       "      <th>156</th>\n",
       "      <td>ATH-12CVGLCW</td>\n",
       "      <td>0</td>\n",
       "      <td>4</td>\n",
       "      <td>00</td>\n",
       "      <td>175</td>\n",
       "    </tr>\n",
       "    <tr>\n",
       "      <th>235</th>\n",
       "      <td>ATH-131VGPK9</td>\n",
       "      <td>0</td>\n",
       "      <td>5</td>\n",
       "      <td>00</td>\n",
       "      <td>219</td>\n",
       "    </tr>\n",
       "    <tr>\n",
       "      <th>300</th>\n",
       "      <td>ATH-13MHLGJM</td>\n",
       "      <td>0</td>\n",
       "      <td>4</td>\n",
       "      <td>00</td>\n",
       "      <td>166</td>\n",
       "    </tr>\n",
       "    <tr>\n",
       "      <th>318</th>\n",
       "      <td>ATH-13SVCYFQ</td>\n",
       "      <td>0</td>\n",
       "      <td>5</td>\n",
       "      <td>00</td>\n",
       "      <td>574</td>\n",
       "    </tr>\n",
       "    <tr>\n",
       "      <th>340</th>\n",
       "      <td>ATH-13Z27H2L</td>\n",
       "      <td>0</td>\n",
       "      <td>5</td>\n",
       "      <td>00</td>\n",
       "      <td>232</td>\n",
       "    </tr>\n",
       "    <tr>\n",
       "      <th>430</th>\n",
       "      <td>ATH-14T7HLXJ</td>\n",
       "      <td>0</td>\n",
       "      <td>5</td>\n",
       "      <td>00</td>\n",
       "      <td>473</td>\n",
       "    </tr>\n",
       "    <tr>\n",
       "      <th>470</th>\n",
       "      <td>ATH-155Y9Z66</td>\n",
       "      <td>0</td>\n",
       "      <td>5</td>\n",
       "      <td>00</td>\n",
       "      <td>190</td>\n",
       "    </tr>\n",
       "    <tr>\n",
       "      <th>524</th>\n",
       "      <td>ATH-15KDJSLQ</td>\n",
       "      <td>0</td>\n",
       "      <td>5</td>\n",
       "      <td>00</td>\n",
       "      <td>326</td>\n",
       "    </tr>\n",
       "    <tr>\n",
       "      <th>529</th>\n",
       "      <td>ATH-15LJUAP8</td>\n",
       "      <td>0</td>\n",
       "      <td>5</td>\n",
       "      <td>00</td>\n",
       "      <td>339</td>\n",
       "    </tr>\n",
       "    <tr>\n",
       "      <th>537</th>\n",
       "      <td>ATH-15PRH8ZH</td>\n",
       "      <td>0</td>\n",
       "      <td>5</td>\n",
       "      <td>00</td>\n",
       "      <td>668</td>\n",
       "    </tr>\n",
       "    <tr>\n",
       "      <th>545</th>\n",
       "      <td>ATH-15RBPCW3</td>\n",
       "      <td>0</td>\n",
       "      <td>5</td>\n",
       "      <td>00</td>\n",
       "      <td>195</td>\n",
       "    </tr>\n",
       "    <tr>\n",
       "      <th>594</th>\n",
       "      <td>ATH-168CD7PA</td>\n",
       "      <td>0</td>\n",
       "      <td>5</td>\n",
       "      <td>00</td>\n",
       "      <td>335</td>\n",
       "    </tr>\n",
       "    <tr>\n",
       "      <th>723</th>\n",
       "      <td>ATH-17LEK9BK</td>\n",
       "      <td>0</td>\n",
       "      <td>4</td>\n",
       "      <td>00</td>\n",
       "      <td>162</td>\n",
       "    </tr>\n",
       "    <tr>\n",
       "      <th>748</th>\n",
       "      <td>ATH-17SAHAF3</td>\n",
       "      <td>0</td>\n",
       "      <td>4</td>\n",
       "      <td>00</td>\n",
       "      <td>180</td>\n",
       "    </tr>\n",
       "    <tr>\n",
       "      <th>766</th>\n",
       "      <td>ATH-17WPWLQS</td>\n",
       "      <td>0</td>\n",
       "      <td>5</td>\n",
       "      <td>00</td>\n",
       "      <td>220</td>\n",
       "    </tr>\n",
       "    <tr>\n",
       "      <th>805</th>\n",
       "      <td>ATH-1883MD8Q</td>\n",
       "      <td>0</td>\n",
       "      <td>5</td>\n",
       "      <td>00</td>\n",
       "      <td>247</td>\n",
       "    </tr>\n",
       "    <tr>\n",
       "      <th>832</th>\n",
       "      <td>ATH-18J1TZ8J</td>\n",
       "      <td>0</td>\n",
       "      <td>5</td>\n",
       "      <td>00</td>\n",
       "      <td>466</td>\n",
       "    </tr>\n",
       "    <tr>\n",
       "      <th>846</th>\n",
       "      <td>ATH-18N1YSZX</td>\n",
       "      <td>0</td>\n",
       "      <td>5</td>\n",
       "      <td>00</td>\n",
       "      <td>729</td>\n",
       "    </tr>\n",
       "    <tr>\n",
       "      <th>873</th>\n",
       "      <td>ATH-18WV4LT1</td>\n",
       "      <td>0</td>\n",
       "      <td>5</td>\n",
       "      <td>00</td>\n",
       "      <td>511</td>\n",
       "    </tr>\n",
       "    <tr>\n",
       "      <th>885</th>\n",
       "      <td>ATH-192YG3V5</td>\n",
       "      <td>0</td>\n",
       "      <td>5</td>\n",
       "      <td>00</td>\n",
       "      <td>431</td>\n",
       "    </tr>\n",
       "    <tr>\n",
       "      <th>897</th>\n",
       "      <td>ATH-1962MKG4</td>\n",
       "      <td>0</td>\n",
       "      <td>5</td>\n",
       "      <td>00</td>\n",
       "      <td>572</td>\n",
       "    </tr>\n",
       "    <tr>\n",
       "      <th>907</th>\n",
       "      <td>ATH-19977LZ4</td>\n",
       "      <td>0</td>\n",
       "      <td>5</td>\n",
       "      <td>00</td>\n",
       "      <td>462</td>\n",
       "    </tr>\n",
       "    <tr>\n",
       "      <th>913</th>\n",
       "      <td>ATH-19AH5JJA</td>\n",
       "      <td>0</td>\n",
       "      <td>5</td>\n",
       "      <td>00</td>\n",
       "      <td>201</td>\n",
       "    </tr>\n",
       "    <tr>\n",
       "      <th>930</th>\n",
       "      <td>ATH-19FUM9PN</td>\n",
       "      <td>0</td>\n",
       "      <td>4</td>\n",
       "      <td>00</td>\n",
       "      <td>156</td>\n",
       "    </tr>\n",
       "    <tr>\n",
       "      <th>934</th>\n",
       "      <td>ATH-19H7SEJB</td>\n",
       "      <td>0</td>\n",
       "      <td>5</td>\n",
       "      <td>00</td>\n",
       "      <td>194</td>\n",
       "    </tr>\n",
       "    <tr>\n",
       "      <th>939</th>\n",
       "      <td>ATH-19KJVYS1</td>\n",
       "      <td>0</td>\n",
       "      <td>5</td>\n",
       "      <td>00</td>\n",
       "      <td>561</td>\n",
       "    </tr>\n",
       "    <tr>\n",
       "      <th>940</th>\n",
       "      <td>ATH-19KLBW5H</td>\n",
       "      <td>0</td>\n",
       "      <td>5</td>\n",
       "      <td>00</td>\n",
       "      <td>400</td>\n",
       "    </tr>\n",
       "    <tr>\n",
       "      <th>964</th>\n",
       "      <td>ATH-19T5GQB3</td>\n",
       "      <td>0</td>\n",
       "      <td>5</td>\n",
       "      <td>00</td>\n",
       "      <td>291</td>\n",
       "    </tr>\n",
       "    <tr>\n",
       "      <th>...</th>\n",
       "      <td>...</td>\n",
       "      <td>...</td>\n",
       "      <td>...</td>\n",
       "      <td>...</td>\n",
       "      <td>...</td>\n",
       "    </tr>\n",
       "    <tr>\n",
       "      <th>127090</th>\n",
       "      <td>EXT-XHKYJWR3</td>\n",
       "      <td>0</td>\n",
       "      <td>2</td>\n",
       "      <td>00</td>\n",
       "      <td>3</td>\n",
       "    </tr>\n",
       "    <tr>\n",
       "      <th>127143</th>\n",
       "      <td>EXT-XNWZG124</td>\n",
       "      <td>0</td>\n",
       "      <td>2</td>\n",
       "      <td>00</td>\n",
       "      <td>34</td>\n",
       "    </tr>\n",
       "    <tr>\n",
       "      <th>127168</th>\n",
       "      <td>EXT-XQV2WVRJ</td>\n",
       "      <td>0</td>\n",
       "      <td>2</td>\n",
       "      <td>00</td>\n",
       "      <td>3</td>\n",
       "    </tr>\n",
       "    <tr>\n",
       "      <th>127176</th>\n",
       "      <td>EXT-XRZKBCEU</td>\n",
       "      <td>0</td>\n",
       "      <td>2</td>\n",
       "      <td>00</td>\n",
       "      <td>3</td>\n",
       "    </tr>\n",
       "    <tr>\n",
       "      <th>127184</th>\n",
       "      <td>EXT-XST3KA96</td>\n",
       "      <td>0</td>\n",
       "      <td>2</td>\n",
       "      <td>00</td>\n",
       "      <td>3</td>\n",
       "    </tr>\n",
       "    <tr>\n",
       "      <th>127235</th>\n",
       "      <td>EXT-XZJD84LC</td>\n",
       "      <td>0</td>\n",
       "      <td>2</td>\n",
       "      <td>00</td>\n",
       "      <td>57</td>\n",
       "    </tr>\n",
       "    <tr>\n",
       "      <th>127338</th>\n",
       "      <td>EXT-YDBKGEJA</td>\n",
       "      <td>0</td>\n",
       "      <td>2</td>\n",
       "      <td>00</td>\n",
       "      <td>3</td>\n",
       "    </tr>\n",
       "    <tr>\n",
       "      <th>127357</th>\n",
       "      <td>EXT-YFEPWTZQ</td>\n",
       "      <td>0</td>\n",
       "      <td>2</td>\n",
       "      <td>00</td>\n",
       "      <td>3</td>\n",
       "    </tr>\n",
       "    <tr>\n",
       "      <th>127381</th>\n",
       "      <td>EXT-YHXLFRGA</td>\n",
       "      <td>0</td>\n",
       "      <td>2</td>\n",
       "      <td>00</td>\n",
       "      <td>3</td>\n",
       "    </tr>\n",
       "    <tr>\n",
       "      <th>127398</th>\n",
       "      <td>EXT-YKUAVK59</td>\n",
       "      <td>0</td>\n",
       "      <td>2</td>\n",
       "      <td>00</td>\n",
       "      <td>3</td>\n",
       "    </tr>\n",
       "    <tr>\n",
       "      <th>127435</th>\n",
       "      <td>EXT-YPH871AY</td>\n",
       "      <td>0</td>\n",
       "      <td>2</td>\n",
       "      <td>00</td>\n",
       "      <td>3</td>\n",
       "    </tr>\n",
       "    <tr>\n",
       "      <th>127464</th>\n",
       "      <td>EXT-YSBMNZRQ</td>\n",
       "      <td>0</td>\n",
       "      <td>2</td>\n",
       "      <td>00</td>\n",
       "      <td>3</td>\n",
       "    </tr>\n",
       "    <tr>\n",
       "      <th>127508</th>\n",
       "      <td>EXT-YVSZQQ88</td>\n",
       "      <td>0</td>\n",
       "      <td>2</td>\n",
       "      <td>00</td>\n",
       "      <td>3</td>\n",
       "    </tr>\n",
       "    <tr>\n",
       "      <th>127525</th>\n",
       "      <td>EXT-YY6GQ48M</td>\n",
       "      <td>0</td>\n",
       "      <td>2</td>\n",
       "      <td>00</td>\n",
       "      <td>3</td>\n",
       "    </tr>\n",
       "    <tr>\n",
       "      <th>127600</th>\n",
       "      <td>EXT-Z79TFEW7</td>\n",
       "      <td>0</td>\n",
       "      <td>2</td>\n",
       "      <td>00</td>\n",
       "      <td>3</td>\n",
       "    </tr>\n",
       "    <tr>\n",
       "      <th>127601</th>\n",
       "      <td>EXT-Z7BBTMHH</td>\n",
       "      <td>0</td>\n",
       "      <td>2</td>\n",
       "      <td>00</td>\n",
       "      <td>3</td>\n",
       "    </tr>\n",
       "    <tr>\n",
       "      <th>127616</th>\n",
       "      <td>EXT-Z8ZSK842</td>\n",
       "      <td>0</td>\n",
       "      <td>2</td>\n",
       "      <td>00</td>\n",
       "      <td>3</td>\n",
       "    </tr>\n",
       "    <tr>\n",
       "      <th>127621</th>\n",
       "      <td>EXT-Z98BUY4Y</td>\n",
       "      <td>0</td>\n",
       "      <td>2</td>\n",
       "      <td>00</td>\n",
       "      <td>3</td>\n",
       "    </tr>\n",
       "    <tr>\n",
       "      <th>127745</th>\n",
       "      <td>EXT-ZM7S4G8M</td>\n",
       "      <td>0</td>\n",
       "      <td>2</td>\n",
       "      <td>00</td>\n",
       "      <td>3</td>\n",
       "    </tr>\n",
       "    <tr>\n",
       "      <th>127778</th>\n",
       "      <td>EXT-ZQNY6GB5</td>\n",
       "      <td>0</td>\n",
       "      <td>2</td>\n",
       "      <td>00</td>\n",
       "      <td>3</td>\n",
       "    </tr>\n",
       "    <tr>\n",
       "      <th>127808</th>\n",
       "      <td>EXT-ZTSQRTLL</td>\n",
       "      <td>0</td>\n",
       "      <td>2</td>\n",
       "      <td>00</td>\n",
       "      <td>3</td>\n",
       "    </tr>\n",
       "    <tr>\n",
       "      <th>127834</th>\n",
       "      <td>EXT-ZWCM2C7D</td>\n",
       "      <td>0</td>\n",
       "      <td>2</td>\n",
       "      <td>00</td>\n",
       "      <td>3</td>\n",
       "    </tr>\n",
       "    <tr>\n",
       "      <th>127847</th>\n",
       "      <td>EXT-ZXFYKHRS</td>\n",
       "      <td>0</td>\n",
       "      <td>2</td>\n",
       "      <td>00</td>\n",
       "      <td>3</td>\n",
       "    </tr>\n",
       "    <tr>\n",
       "      <th>127849</th>\n",
       "      <td>EXT-ZXK8218U</td>\n",
       "      <td>0</td>\n",
       "      <td>2</td>\n",
       "      <td>00</td>\n",
       "      <td>3</td>\n",
       "    </tr>\n",
       "    <tr>\n",
       "      <th>127873</th>\n",
       "      <td>EXT-ZZ7FDWDV</td>\n",
       "      <td>0</td>\n",
       "      <td>2</td>\n",
       "      <td>00</td>\n",
       "      <td>3</td>\n",
       "    </tr>\n",
       "    <tr>\n",
       "      <th>127935</th>\n",
       "      <td>INS-7VYWHF8Z</td>\n",
       "      <td>0</td>\n",
       "      <td>5</td>\n",
       "      <td>00</td>\n",
       "      <td>324</td>\n",
       "    </tr>\n",
       "    <tr>\n",
       "      <th>127954</th>\n",
       "      <td>INS-BE3SE64Q</td>\n",
       "      <td>0</td>\n",
       "      <td>5</td>\n",
       "      <td>00</td>\n",
       "      <td>376</td>\n",
       "    </tr>\n",
       "    <tr>\n",
       "      <th>127982</th>\n",
       "      <td>INS-EJEW9S5N</td>\n",
       "      <td>0</td>\n",
       "      <td>5</td>\n",
       "      <td>00</td>\n",
       "      <td>325</td>\n",
       "    </tr>\n",
       "    <tr>\n",
       "      <th>128009</th>\n",
       "      <td>INS-J5QLTQ4R</td>\n",
       "      <td>0</td>\n",
       "      <td>5</td>\n",
       "      <td>00</td>\n",
       "      <td>417</td>\n",
       "    </tr>\n",
       "    <tr>\n",
       "      <th>128027</th>\n",
       "      <td>INS-N9EFNP24</td>\n",
       "      <td>0</td>\n",
       "      <td>5</td>\n",
       "      <td>00</td>\n",
       "      <td>372</td>\n",
       "    </tr>\n",
       "  </tbody>\n",
       "</table>\n",
       "<p>3434 rows × 5 columns</p>\n",
       "</div>"
      ],
      "text/plain": [
       "             orderId Denda Kode Kualitas Kredit atau Pembiayaan Kode Kondisi  \\\n",
       "71      ATH-11LVAXDJ     0                                    3           00   \n",
       "141     ATH-129P6LAM     0                                    5           00   \n",
       "156     ATH-12CVGLCW     0                                    4           00   \n",
       "235     ATH-131VGPK9     0                                    5           00   \n",
       "300     ATH-13MHLGJM     0                                    4           00   \n",
       "318     ATH-13SVCYFQ     0                                    5           00   \n",
       "340     ATH-13Z27H2L     0                                    5           00   \n",
       "430     ATH-14T7HLXJ     0                                    5           00   \n",
       "470     ATH-155Y9Z66     0                                    5           00   \n",
       "524     ATH-15KDJSLQ     0                                    5           00   \n",
       "529     ATH-15LJUAP8     0                                    5           00   \n",
       "537     ATH-15PRH8ZH     0                                    5           00   \n",
       "545     ATH-15RBPCW3     0                                    5           00   \n",
       "594     ATH-168CD7PA     0                                    5           00   \n",
       "723     ATH-17LEK9BK     0                                    4           00   \n",
       "748     ATH-17SAHAF3     0                                    4           00   \n",
       "766     ATH-17WPWLQS     0                                    5           00   \n",
       "805     ATH-1883MD8Q     0                                    5           00   \n",
       "832     ATH-18J1TZ8J     0                                    5           00   \n",
       "846     ATH-18N1YSZX     0                                    5           00   \n",
       "873     ATH-18WV4LT1     0                                    5           00   \n",
       "885     ATH-192YG3V5     0                                    5           00   \n",
       "897     ATH-1962MKG4     0                                    5           00   \n",
       "907     ATH-19977LZ4     0                                    5           00   \n",
       "913     ATH-19AH5JJA     0                                    5           00   \n",
       "930     ATH-19FUM9PN     0                                    4           00   \n",
       "934     ATH-19H7SEJB     0                                    5           00   \n",
       "939     ATH-19KJVYS1     0                                    5           00   \n",
       "940     ATH-19KLBW5H     0                                    5           00   \n",
       "964     ATH-19T5GQB3     0                                    5           00   \n",
       "...              ...   ...                                  ...          ...   \n",
       "127090  EXT-XHKYJWR3     0                                    2           00   \n",
       "127143  EXT-XNWZG124     0                                    2           00   \n",
       "127168  EXT-XQV2WVRJ     0                                    2           00   \n",
       "127176  EXT-XRZKBCEU     0                                    2           00   \n",
       "127184  EXT-XST3KA96     0                                    2           00   \n",
       "127235  EXT-XZJD84LC     0                                    2           00   \n",
       "127338  EXT-YDBKGEJA     0                                    2           00   \n",
       "127357  EXT-YFEPWTZQ     0                                    2           00   \n",
       "127381  EXT-YHXLFRGA     0                                    2           00   \n",
       "127398  EXT-YKUAVK59     0                                    2           00   \n",
       "127435  EXT-YPH871AY     0                                    2           00   \n",
       "127464  EXT-YSBMNZRQ     0                                    2           00   \n",
       "127508  EXT-YVSZQQ88     0                                    2           00   \n",
       "127525  EXT-YY6GQ48M     0                                    2           00   \n",
       "127600  EXT-Z79TFEW7     0                                    2           00   \n",
       "127601  EXT-Z7BBTMHH     0                                    2           00   \n",
       "127616  EXT-Z8ZSK842     0                                    2           00   \n",
       "127621  EXT-Z98BUY4Y     0                                    2           00   \n",
       "127745  EXT-ZM7S4G8M     0                                    2           00   \n",
       "127778  EXT-ZQNY6GB5     0                                    2           00   \n",
       "127808  EXT-ZTSQRTLL     0                                    2           00   \n",
       "127834  EXT-ZWCM2C7D     0                                    2           00   \n",
       "127847  EXT-ZXFYKHRS     0                                    2           00   \n",
       "127849  EXT-ZXK8218U     0                                    2           00   \n",
       "127873  EXT-ZZ7FDWDV     0                                    2           00   \n",
       "127935  INS-7VYWHF8Z     0                                    5           00   \n",
       "127954  INS-BE3SE64Q     0                                    5           00   \n",
       "127982  INS-EJEW9S5N     0                                    5           00   \n",
       "128009  INS-J5QLTQ4R     0                                    5           00   \n",
       "128027  INS-N9EFNP24     0                                    5           00   \n",
       "\n",
       "        dayPastDue  \n",
       "71             108  \n",
       "141            238  \n",
       "156            175  \n",
       "235            219  \n",
       "300            166  \n",
       "318            574  \n",
       "340            232  \n",
       "430            473  \n",
       "470            190  \n",
       "524            326  \n",
       "529            339  \n",
       "537            668  \n",
       "545            195  \n",
       "594            335  \n",
       "723            162  \n",
       "748            180  \n",
       "766            220  \n",
       "805            247  \n",
       "832            466  \n",
       "846            729  \n",
       "873            511  \n",
       "885            431  \n",
       "897            572  \n",
       "907            462  \n",
       "913            201  \n",
       "930            156  \n",
       "934            194  \n",
       "939            561  \n",
       "940            400  \n",
       "964            291  \n",
       "...            ...  \n",
       "127090           3  \n",
       "127143          34  \n",
       "127168           3  \n",
       "127176           3  \n",
       "127184           3  \n",
       "127235          57  \n",
       "127338           3  \n",
       "127357           3  \n",
       "127381           3  \n",
       "127398           3  \n",
       "127435           3  \n",
       "127464           3  \n",
       "127508           3  \n",
       "127525           3  \n",
       "127600           3  \n",
       "127601           3  \n",
       "127616           3  \n",
       "127621           3  \n",
       "127745           3  \n",
       "127778           3  \n",
       "127808           3  \n",
       "127834           3  \n",
       "127847           3  \n",
       "127849           3  \n",
       "127873           3  \n",
       "127935         324  \n",
       "127954         376  \n",
       "127982         325  \n",
       "128009         417  \n",
       "128027         372  \n",
       "\n",
       "[3434 rows x 5 columns]"
      ]
     },
     "execution_count": 40,
     "metadata": {},
     "output_type": "execute_result"
    }
   ],
   "source": [
    "F01new[(F01new['Denda']==0) & (F01new['Kode Kualitas Kredit atau Pembiayaan']!='1') & (F01new['Kode Kondisi']=='00')][['orderId','Denda','Kode Kualitas Kredit atau Pembiayaan','Kode Kondisi','dayPastDue']]"
   ]
  },
  {
   "cell_type": "code",
   "execution_count": 41,
   "metadata": {},
   "outputs": [
    {
     "data": {
      "text/html": [
       "<div>\n",
       "<style scoped>\n",
       "    .dataframe tbody tr th:only-of-type {\n",
       "        vertical-align: middle;\n",
       "    }\n",
       "\n",
       "    .dataframe tbody tr th {\n",
       "        vertical-align: top;\n",
       "    }\n",
       "\n",
       "    .dataframe thead th {\n",
       "        text-align: right;\n",
       "    }\n",
       "</style>\n",
       "<table border=\"1\" class=\"dataframe\">\n",
       "  <thead>\n",
       "    <tr style=\"text-align: right;\">\n",
       "      <th></th>\n",
       "      <th>orderId</th>\n",
       "      <th>Tunggakan Bunga atau Imbalan</th>\n",
       "      <th>Denda</th>\n",
       "      <th>Kode Kualitas Kredit atau Pembiayaan</th>\n",
       "      <th>Kode Kondisi</th>\n",
       "      <th>dayPastDue</th>\n",
       "    </tr>\n",
       "  </thead>\n",
       "  <tbody>\n",
       "    <tr>\n",
       "      <th>3828</th>\n",
       "      <td>ATH-23KAGWF3</td>\n",
       "      <td>0</td>\n",
       "      <td>486500</td>\n",
       "      <td>2</td>\n",
       "      <td>00</td>\n",
       "      <td>76</td>\n",
       "    </tr>\n",
       "    <tr>\n",
       "      <th>16169</th>\n",
       "      <td>ATH-5LEAQ3CS</td>\n",
       "      <td>0</td>\n",
       "      <td>661000</td>\n",
       "      <td>5</td>\n",
       "      <td>00</td>\n",
       "      <td>685</td>\n",
       "    </tr>\n",
       "    <tr>\n",
       "      <th>20749</th>\n",
       "      <td>ATH-6XQVT373</td>\n",
       "      <td>0</td>\n",
       "      <td>950000</td>\n",
       "      <td>5</td>\n",
       "      <td>00</td>\n",
       "      <td>362</td>\n",
       "    </tr>\n",
       "    <tr>\n",
       "      <th>21330</th>\n",
       "      <td>ATH-74BYYA6K</td>\n",
       "      <td>0</td>\n",
       "      <td>950000</td>\n",
       "      <td>5</td>\n",
       "      <td>00</td>\n",
       "      <td>308</td>\n",
       "    </tr>\n",
       "    <tr>\n",
       "      <th>23206</th>\n",
       "      <td>ATH-7MWFASZQ</td>\n",
       "      <td>0</td>\n",
       "      <td>420000</td>\n",
       "      <td>4</td>\n",
       "      <td>00</td>\n",
       "      <td>156</td>\n",
       "    </tr>\n",
       "    <tr>\n",
       "      <th>55643</th>\n",
       "      <td>ATH-GTBSMBMB</td>\n",
       "      <td>0</td>\n",
       "      <td>458000</td>\n",
       "      <td>5</td>\n",
       "      <td>00</td>\n",
       "      <td>495</td>\n",
       "    </tr>\n",
       "    <tr>\n",
       "      <th>60314</th>\n",
       "      <td>ATH-J56C6R33</td>\n",
       "      <td>0</td>\n",
       "      <td>123000</td>\n",
       "      <td>5</td>\n",
       "      <td>00</td>\n",
       "      <td>204</td>\n",
       "    </tr>\n",
       "    <tr>\n",
       "      <th>73743</th>\n",
       "      <td>ATH-MW7D4MYP</td>\n",
       "      <td>0</td>\n",
       "      <td>950000</td>\n",
       "      <td>5</td>\n",
       "      <td>00</td>\n",
       "      <td>863</td>\n",
       "    </tr>\n",
       "    <tr>\n",
       "      <th>96992</th>\n",
       "      <td>ATH-UCQBBQMV</td>\n",
       "      <td>0</td>\n",
       "      <td>661000</td>\n",
       "      <td>5</td>\n",
       "      <td>00</td>\n",
       "      <td>593</td>\n",
       "    </tr>\n",
       "    <tr>\n",
       "      <th>105015</th>\n",
       "      <td>ATH-WM6J3DM8</td>\n",
       "      <td>0</td>\n",
       "      <td>46500</td>\n",
       "      <td>2</td>\n",
       "      <td>00</td>\n",
       "      <td>79</td>\n",
       "    </tr>\n",
       "    <tr>\n",
       "      <th>105124</th>\n",
       "      <td>ATH-WMZPNWPX</td>\n",
       "      <td>0</td>\n",
       "      <td>661000</td>\n",
       "      <td>5</td>\n",
       "      <td>00</td>\n",
       "      <td>597</td>\n",
       "    </tr>\n",
       "    <tr>\n",
       "      <th>117247</th>\n",
       "      <td>EXT-11HVBH41</td>\n",
       "      <td>0</td>\n",
       "      <td>2285000</td>\n",
       "      <td>4</td>\n",
       "      <td>00</td>\n",
       "      <td>156</td>\n",
       "    </tr>\n",
       "    <tr>\n",
       "      <th>117251</th>\n",
       "      <td>EXT-11RS1L6B</td>\n",
       "      <td>0</td>\n",
       "      <td>45000</td>\n",
       "      <td>2</td>\n",
       "      <td>00</td>\n",
       "      <td>6</td>\n",
       "    </tr>\n",
       "    <tr>\n",
       "      <th>117252</th>\n",
       "      <td>EXT-11TSBKFL</td>\n",
       "      <td>0</td>\n",
       "      <td>574000</td>\n",
       "      <td>2</td>\n",
       "      <td>00</td>\n",
       "      <td>67</td>\n",
       "    </tr>\n",
       "    <tr>\n",
       "      <th>117254</th>\n",
       "      <td>EXT-12282BDA</td>\n",
       "      <td>0</td>\n",
       "      <td>350000</td>\n",
       "      <td>2</td>\n",
       "      <td>00</td>\n",
       "      <td>40</td>\n",
       "    </tr>\n",
       "    <tr>\n",
       "      <th>117256</th>\n",
       "      <td>EXT-125UP4LR</td>\n",
       "      <td>0</td>\n",
       "      <td>1567000</td>\n",
       "      <td>4</td>\n",
       "      <td>00</td>\n",
       "      <td>143</td>\n",
       "    </tr>\n",
       "    <tr>\n",
       "      <th>117257</th>\n",
       "      <td>EXT-126XPY4G</td>\n",
       "      <td>0</td>\n",
       "      <td>985000</td>\n",
       "      <td>2</td>\n",
       "      <td>00</td>\n",
       "      <td>67</td>\n",
       "    </tr>\n",
       "    <tr>\n",
       "      <th>117258</th>\n",
       "      <td>EXT-12EN2MA4</td>\n",
       "      <td>0</td>\n",
       "      <td>1249500</td>\n",
       "      <td>3</td>\n",
       "      <td>00</td>\n",
       "      <td>95</td>\n",
       "    </tr>\n",
       "    <tr>\n",
       "      <th>117259</th>\n",
       "      <td>EXT-12ESLH9M</td>\n",
       "      <td>0</td>\n",
       "      <td>539000</td>\n",
       "      <td>2</td>\n",
       "      <td>00</td>\n",
       "      <td>54</td>\n",
       "    </tr>\n",
       "    <tr>\n",
       "      <th>117260</th>\n",
       "      <td>EXT-12NG5A8Q</td>\n",
       "      <td>0</td>\n",
       "      <td>1700000</td>\n",
       "      <td>3</td>\n",
       "      <td>00</td>\n",
       "      <td>112</td>\n",
       "    </tr>\n",
       "    <tr>\n",
       "      <th>117261</th>\n",
       "      <td>EXT-12UTWJRQ</td>\n",
       "      <td>0</td>\n",
       "      <td>667000</td>\n",
       "      <td>2</td>\n",
       "      <td>00</td>\n",
       "      <td>58</td>\n",
       "    </tr>\n",
       "    <tr>\n",
       "      <th>117262</th>\n",
       "      <td>EXT-12ZBCRNX</td>\n",
       "      <td>0</td>\n",
       "      <td>1597500</td>\n",
       "      <td>3</td>\n",
       "      <td>00</td>\n",
       "      <td>117</td>\n",
       "    </tr>\n",
       "    <tr>\n",
       "      <th>117263</th>\n",
       "      <td>EXT-12ZKPC88</td>\n",
       "      <td>0</td>\n",
       "      <td>1378000</td>\n",
       "      <td>4</td>\n",
       "      <td>00</td>\n",
       "      <td>126</td>\n",
       "    </tr>\n",
       "    <tr>\n",
       "      <th>117264</th>\n",
       "      <td>EXT-131R1E9U</td>\n",
       "      <td>0</td>\n",
       "      <td>1470000</td>\n",
       "      <td>4</td>\n",
       "      <td>00</td>\n",
       "      <td>131</td>\n",
       "    </tr>\n",
       "    <tr>\n",
       "      <th>117265</th>\n",
       "      <td>EXT-133X3MPK</td>\n",
       "      <td>0</td>\n",
       "      <td>833500</td>\n",
       "      <td>3</td>\n",
       "      <td>00</td>\n",
       "      <td>96</td>\n",
       "    </tr>\n",
       "    <tr>\n",
       "      <th>117266</th>\n",
       "      <td>EXT-13JVUUEF</td>\n",
       "      <td>0</td>\n",
       "      <td>1900000</td>\n",
       "      <td>4</td>\n",
       "      <td>00</td>\n",
       "      <td>126</td>\n",
       "    </tr>\n",
       "    <tr>\n",
       "      <th>117268</th>\n",
       "      <td>EXT-13S3CR3A</td>\n",
       "      <td>0</td>\n",
       "      <td>689000</td>\n",
       "      <td>2</td>\n",
       "      <td>00</td>\n",
       "      <td>68</td>\n",
       "    </tr>\n",
       "    <tr>\n",
       "      <th>117269</th>\n",
       "      <td>EXT-141BE7QH</td>\n",
       "      <td>0</td>\n",
       "      <td>1985000</td>\n",
       "      <td>4</td>\n",
       "      <td>00</td>\n",
       "      <td>132</td>\n",
       "    </tr>\n",
       "    <tr>\n",
       "      <th>117271</th>\n",
       "      <td>EXT-14G7MYXA</td>\n",
       "      <td>0</td>\n",
       "      <td>114500</td>\n",
       "      <td>2</td>\n",
       "      <td>00</td>\n",
       "      <td>25</td>\n",
       "    </tr>\n",
       "    <tr>\n",
       "      <th>117274</th>\n",
       "      <td>EXT-15T9BFQK</td>\n",
       "      <td>0</td>\n",
       "      <td>160000</td>\n",
       "      <td>2</td>\n",
       "      <td>00</td>\n",
       "      <td>14</td>\n",
       "    </tr>\n",
       "    <tr>\n",
       "      <th>...</th>\n",
       "      <td>...</td>\n",
       "      <td>...</td>\n",
       "      <td>...</td>\n",
       "      <td>...</td>\n",
       "      <td>...</td>\n",
       "      <td>...</td>\n",
       "    </tr>\n",
       "    <tr>\n",
       "      <th>127840</th>\n",
       "      <td>EXT-ZWU96XJ6</td>\n",
       "      <td>0</td>\n",
       "      <td>1205000</td>\n",
       "      <td>2</td>\n",
       "      <td>00</td>\n",
       "      <td>81</td>\n",
       "    </tr>\n",
       "    <tr>\n",
       "      <th>127842</th>\n",
       "      <td>EXT-ZX43XHZS</td>\n",
       "      <td>0</td>\n",
       "      <td>130000</td>\n",
       "      <td>2</td>\n",
       "      <td>00</td>\n",
       "      <td>12</td>\n",
       "    </tr>\n",
       "    <tr>\n",
       "      <th>127843</th>\n",
       "      <td>EXT-ZX5CVENG</td>\n",
       "      <td>0</td>\n",
       "      <td>1023500</td>\n",
       "      <td>3</td>\n",
       "      <td>00</td>\n",
       "      <td>109</td>\n",
       "    </tr>\n",
       "    <tr>\n",
       "      <th>127844</th>\n",
       "      <td>EXT-ZX7D816H</td>\n",
       "      <td>0</td>\n",
       "      <td>1205000</td>\n",
       "      <td>2</td>\n",
       "      <td>00</td>\n",
       "      <td>81</td>\n",
       "    </tr>\n",
       "    <tr>\n",
       "      <th>127846</th>\n",
       "      <td>EXT-ZXF5U56G</td>\n",
       "      <td>0</td>\n",
       "      <td>145000</td>\n",
       "      <td>2</td>\n",
       "      <td>00</td>\n",
       "      <td>13</td>\n",
       "    </tr>\n",
       "    <tr>\n",
       "      <th>127847</th>\n",
       "      <td>EXT-ZXFYKHRS</td>\n",
       "      <td>0</td>\n",
       "      <td>0</td>\n",
       "      <td>2</td>\n",
       "      <td>00</td>\n",
       "      <td>3</td>\n",
       "    </tr>\n",
       "    <tr>\n",
       "      <th>127848</th>\n",
       "      <td>EXT-ZXGENWXF</td>\n",
       "      <td>0</td>\n",
       "      <td>1595000</td>\n",
       "      <td>3</td>\n",
       "      <td>00</td>\n",
       "      <td>109</td>\n",
       "    </tr>\n",
       "    <tr>\n",
       "      <th>127849</th>\n",
       "      <td>EXT-ZXK8218U</td>\n",
       "      <td>0</td>\n",
       "      <td>0</td>\n",
       "      <td>2</td>\n",
       "      <td>00</td>\n",
       "      <td>3</td>\n",
       "    </tr>\n",
       "    <tr>\n",
       "      <th>127850</th>\n",
       "      <td>EXT-ZXRAF8CL</td>\n",
       "      <td>0</td>\n",
       "      <td>811000</td>\n",
       "      <td>2</td>\n",
       "      <td>00</td>\n",
       "      <td>69</td>\n",
       "    </tr>\n",
       "    <tr>\n",
       "      <th>127851</th>\n",
       "      <td>EXT-ZXRN4WQ7</td>\n",
       "      <td>0</td>\n",
       "      <td>886000</td>\n",
       "      <td>4</td>\n",
       "      <td>00</td>\n",
       "      <td>126</td>\n",
       "    </tr>\n",
       "    <tr>\n",
       "      <th>127852</th>\n",
       "      <td>EXT-ZXTDLLPX</td>\n",
       "      <td>0</td>\n",
       "      <td>378000</td>\n",
       "      <td>2</td>\n",
       "      <td>00</td>\n",
       "      <td>38</td>\n",
       "    </tr>\n",
       "    <tr>\n",
       "      <th>127853</th>\n",
       "      <td>EXT-ZXV1RBUZ</td>\n",
       "      <td>0</td>\n",
       "      <td>1145000</td>\n",
       "      <td>2</td>\n",
       "      <td>00</td>\n",
       "      <td>78</td>\n",
       "    </tr>\n",
       "    <tr>\n",
       "      <th>127854</th>\n",
       "      <td>EXT-ZXXQBLVY</td>\n",
       "      <td>0</td>\n",
       "      <td>275000</td>\n",
       "      <td>2</td>\n",
       "      <td>00</td>\n",
       "      <td>20</td>\n",
       "    </tr>\n",
       "    <tr>\n",
       "      <th>127855</th>\n",
       "      <td>EXT-ZXZ8TZ64</td>\n",
       "      <td>0</td>\n",
       "      <td>205500</td>\n",
       "      <td>2</td>\n",
       "      <td>00</td>\n",
       "      <td>19</td>\n",
       "    </tr>\n",
       "    <tr>\n",
       "      <th>127856</th>\n",
       "      <td>EXT-ZY27D5RT</td>\n",
       "      <td>0</td>\n",
       "      <td>1080000</td>\n",
       "      <td>2</td>\n",
       "      <td>00</td>\n",
       "      <td>74</td>\n",
       "    </tr>\n",
       "    <tr>\n",
       "      <th>127858</th>\n",
       "      <td>EXT-ZY5EQXCG</td>\n",
       "      <td>0</td>\n",
       "      <td>1165000</td>\n",
       "      <td>2</td>\n",
       "      <td>00</td>\n",
       "      <td>79</td>\n",
       "    </tr>\n",
       "    <tr>\n",
       "      <th>127859</th>\n",
       "      <td>EXT-ZYDWP23C</td>\n",
       "      <td>0</td>\n",
       "      <td>1660000</td>\n",
       "      <td>3</td>\n",
       "      <td>00</td>\n",
       "      <td>110</td>\n",
       "    </tr>\n",
       "    <tr>\n",
       "      <th>127860</th>\n",
       "      <td>EXT-ZYEJURVM</td>\n",
       "      <td>0</td>\n",
       "      <td>80000</td>\n",
       "      <td>2</td>\n",
       "      <td>00</td>\n",
       "      <td>34</td>\n",
       "    </tr>\n",
       "    <tr>\n",
       "      <th>127862</th>\n",
       "      <td>EXT-ZYJA4E74</td>\n",
       "      <td>0</td>\n",
       "      <td>2850000</td>\n",
       "      <td>4</td>\n",
       "      <td>00</td>\n",
       "      <td>151</td>\n",
       "    </tr>\n",
       "    <tr>\n",
       "      <th>127863</th>\n",
       "      <td>EXT-ZYJS7DZR</td>\n",
       "      <td>0</td>\n",
       "      <td>1145000</td>\n",
       "      <td>2</td>\n",
       "      <td>00</td>\n",
       "      <td>78</td>\n",
       "    </tr>\n",
       "    <tr>\n",
       "      <th>127864</th>\n",
       "      <td>EXT-ZYK5RCHB</td>\n",
       "      <td>0</td>\n",
       "      <td>744000</td>\n",
       "      <td>3</td>\n",
       "      <td>00</td>\n",
       "      <td>119</td>\n",
       "    </tr>\n",
       "    <tr>\n",
       "      <th>127865</th>\n",
       "      <td>EXT-ZYKUTW1B</td>\n",
       "      <td>0</td>\n",
       "      <td>220000</td>\n",
       "      <td>2</td>\n",
       "      <td>00</td>\n",
       "      <td>65</td>\n",
       "    </tr>\n",
       "    <tr>\n",
       "      <th>127867</th>\n",
       "      <td>EXT-ZYPZNYTJ</td>\n",
       "      <td>0</td>\n",
       "      <td>3110000</td>\n",
       "      <td>3</td>\n",
       "      <td>00</td>\n",
       "      <td>104</td>\n",
       "    </tr>\n",
       "    <tr>\n",
       "      <th>127868</th>\n",
       "      <td>EXT-ZYQUKVRA</td>\n",
       "      <td>0</td>\n",
       "      <td>950000</td>\n",
       "      <td>2</td>\n",
       "      <td>00</td>\n",
       "      <td>61</td>\n",
       "    </tr>\n",
       "    <tr>\n",
       "      <th>127872</th>\n",
       "      <td>EXT-ZYX34BN1</td>\n",
       "      <td>0</td>\n",
       "      <td>580500</td>\n",
       "      <td>2</td>\n",
       "      <td>00</td>\n",
       "      <td>85</td>\n",
       "    </tr>\n",
       "    <tr>\n",
       "      <th>127873</th>\n",
       "      <td>EXT-ZZ7FDWDV</td>\n",
       "      <td>0</td>\n",
       "      <td>0</td>\n",
       "      <td>2</td>\n",
       "      <td>00</td>\n",
       "      <td>3</td>\n",
       "    </tr>\n",
       "    <tr>\n",
       "      <th>127874</th>\n",
       "      <td>EXT-ZZAMVDCX</td>\n",
       "      <td>0</td>\n",
       "      <td>1655000</td>\n",
       "      <td>4</td>\n",
       "      <td>00</td>\n",
       "      <td>130</td>\n",
       "    </tr>\n",
       "    <tr>\n",
       "      <th>127876</th>\n",
       "      <td>EXT-ZZE8Q7NL</td>\n",
       "      <td>0</td>\n",
       "      <td>950000</td>\n",
       "      <td>2</td>\n",
       "      <td>00</td>\n",
       "      <td>65</td>\n",
       "    </tr>\n",
       "    <tr>\n",
       "      <th>127882</th>\n",
       "      <td>EXT-ZZWVA6NM</td>\n",
       "      <td>0</td>\n",
       "      <td>1205000</td>\n",
       "      <td>2</td>\n",
       "      <td>00</td>\n",
       "      <td>81</td>\n",
       "    </tr>\n",
       "    <tr>\n",
       "      <th>127883</th>\n",
       "      <td>EXT-ZZYBKT3R</td>\n",
       "      <td>0</td>\n",
       "      <td>1381500</td>\n",
       "      <td>3</td>\n",
       "      <td>00</td>\n",
       "      <td>111</td>\n",
       "    </tr>\n",
       "  </tbody>\n",
       "</table>\n",
       "<p>6760 rows × 6 columns</p>\n",
       "</div>"
      ],
      "text/plain": [
       "             orderId  Tunggakan Bunga atau Imbalan    Denda  \\\n",
       "3828    ATH-23KAGWF3                             0   486500   \n",
       "16169   ATH-5LEAQ3CS                             0   661000   \n",
       "20749   ATH-6XQVT373                             0   950000   \n",
       "21330   ATH-74BYYA6K                             0   950000   \n",
       "23206   ATH-7MWFASZQ                             0   420000   \n",
       "55643   ATH-GTBSMBMB                             0   458000   \n",
       "60314   ATH-J56C6R33                             0   123000   \n",
       "73743   ATH-MW7D4MYP                             0   950000   \n",
       "96992   ATH-UCQBBQMV                             0   661000   \n",
       "105015  ATH-WM6J3DM8                             0    46500   \n",
       "105124  ATH-WMZPNWPX                             0   661000   \n",
       "117247  EXT-11HVBH41                             0  2285000   \n",
       "117251  EXT-11RS1L6B                             0    45000   \n",
       "117252  EXT-11TSBKFL                             0   574000   \n",
       "117254  EXT-12282BDA                             0   350000   \n",
       "117256  EXT-125UP4LR                             0  1567000   \n",
       "117257  EXT-126XPY4G                             0   985000   \n",
       "117258  EXT-12EN2MA4                             0  1249500   \n",
       "117259  EXT-12ESLH9M                             0   539000   \n",
       "117260  EXT-12NG5A8Q                             0  1700000   \n",
       "117261  EXT-12UTWJRQ                             0   667000   \n",
       "117262  EXT-12ZBCRNX                             0  1597500   \n",
       "117263  EXT-12ZKPC88                             0  1378000   \n",
       "117264  EXT-131R1E9U                             0  1470000   \n",
       "117265  EXT-133X3MPK                             0   833500   \n",
       "117266  EXT-13JVUUEF                             0  1900000   \n",
       "117268  EXT-13S3CR3A                             0   689000   \n",
       "117269  EXT-141BE7QH                             0  1985000   \n",
       "117271  EXT-14G7MYXA                             0   114500   \n",
       "117274  EXT-15T9BFQK                             0   160000   \n",
       "...              ...                           ...      ...   \n",
       "127840  EXT-ZWU96XJ6                             0  1205000   \n",
       "127842  EXT-ZX43XHZS                             0   130000   \n",
       "127843  EXT-ZX5CVENG                             0  1023500   \n",
       "127844  EXT-ZX7D816H                             0  1205000   \n",
       "127846  EXT-ZXF5U56G                             0   145000   \n",
       "127847  EXT-ZXFYKHRS                             0        0   \n",
       "127848  EXT-ZXGENWXF                             0  1595000   \n",
       "127849  EXT-ZXK8218U                             0        0   \n",
       "127850  EXT-ZXRAF8CL                             0   811000   \n",
       "127851  EXT-ZXRN4WQ7                             0   886000   \n",
       "127852  EXT-ZXTDLLPX                             0   378000   \n",
       "127853  EXT-ZXV1RBUZ                             0  1145000   \n",
       "127854  EXT-ZXXQBLVY                             0   275000   \n",
       "127855  EXT-ZXZ8TZ64                             0   205500   \n",
       "127856  EXT-ZY27D5RT                             0  1080000   \n",
       "127858  EXT-ZY5EQXCG                             0  1165000   \n",
       "127859  EXT-ZYDWP23C                             0  1660000   \n",
       "127860  EXT-ZYEJURVM                             0    80000   \n",
       "127862  EXT-ZYJA4E74                             0  2850000   \n",
       "127863  EXT-ZYJS7DZR                             0  1145000   \n",
       "127864  EXT-ZYK5RCHB                             0   744000   \n",
       "127865  EXT-ZYKUTW1B                             0   220000   \n",
       "127867  EXT-ZYPZNYTJ                             0  3110000   \n",
       "127868  EXT-ZYQUKVRA                             0   950000   \n",
       "127872  EXT-ZYX34BN1                             0   580500   \n",
       "127873  EXT-ZZ7FDWDV                             0        0   \n",
       "127874  EXT-ZZAMVDCX                             0  1655000   \n",
       "127876  EXT-ZZE8Q7NL                             0   950000   \n",
       "127882  EXT-ZZWVA6NM                             0  1205000   \n",
       "127883  EXT-ZZYBKT3R                             0  1381500   \n",
       "\n",
       "       Kode Kualitas Kredit atau Pembiayaan Kode Kondisi  dayPastDue  \n",
       "3828                                      2           00          76  \n",
       "16169                                     5           00         685  \n",
       "20749                                     5           00         362  \n",
       "21330                                     5           00         308  \n",
       "23206                                     4           00         156  \n",
       "55643                                     5           00         495  \n",
       "60314                                     5           00         204  \n",
       "73743                                     5           00         863  \n",
       "96992                                     5           00         593  \n",
       "105015                                    2           00          79  \n",
       "105124                                    5           00         597  \n",
       "117247                                    4           00         156  \n",
       "117251                                    2           00           6  \n",
       "117252                                    2           00          67  \n",
       "117254                                    2           00          40  \n",
       "117256                                    4           00         143  \n",
       "117257                                    2           00          67  \n",
       "117258                                    3           00          95  \n",
       "117259                                    2           00          54  \n",
       "117260                                    3           00         112  \n",
       "117261                                    2           00          58  \n",
       "117262                                    3           00         117  \n",
       "117263                                    4           00         126  \n",
       "117264                                    4           00         131  \n",
       "117265                                    3           00          96  \n",
       "117266                                    4           00         126  \n",
       "117268                                    2           00          68  \n",
       "117269                                    4           00         132  \n",
       "117271                                    2           00          25  \n",
       "117274                                    2           00          14  \n",
       "...                                     ...          ...         ...  \n",
       "127840                                    2           00          81  \n",
       "127842                                    2           00          12  \n",
       "127843                                    3           00         109  \n",
       "127844                                    2           00          81  \n",
       "127846                                    2           00          13  \n",
       "127847                                    2           00           3  \n",
       "127848                                    3           00         109  \n",
       "127849                                    2           00           3  \n",
       "127850                                    2           00          69  \n",
       "127851                                    4           00         126  \n",
       "127852                                    2           00          38  \n",
       "127853                                    2           00          78  \n",
       "127854                                    2           00          20  \n",
       "127855                                    2           00          19  \n",
       "127856                                    2           00          74  \n",
       "127858                                    2           00          79  \n",
       "127859                                    3           00         110  \n",
       "127860                                    2           00          34  \n",
       "127862                                    4           00         151  \n",
       "127863                                    2           00          78  \n",
       "127864                                    3           00         119  \n",
       "127865                                    2           00          65  \n",
       "127867                                    3           00         104  \n",
       "127868                                    2           00          61  \n",
       "127872                                    2           00          85  \n",
       "127873                                    2           00           3  \n",
       "127874                                    4           00         130  \n",
       "127876                                    2           00          65  \n",
       "127882                                    2           00          81  \n",
       "127883                                    3           00         111  \n",
       "\n",
       "[6760 rows x 6 columns]"
      ]
     },
     "execution_count": 41,
     "metadata": {},
     "output_type": "execute_result"
    }
   ],
   "source": [
    "F01new[(F01new['Tunggakan Bunga atau Imbalan']==0) & (F01new['Kode Kualitas Kredit atau Pembiayaan']!='1') & (F01new['Kode Kondisi']=='00')][['orderId','Tunggakan Bunga atau Imbalan','Denda','Kode Kualitas Kredit atau Pembiayaan','Kode Kondisi','dayPastDue']]"
   ]
  },
  {
   "cell_type": "code",
   "execution_count": 42,
   "metadata": {},
   "outputs": [
    {
     "data": {
      "text/html": [
       "<div>\n",
       "<style scoped>\n",
       "    .dataframe tbody tr th:only-of-type {\n",
       "        vertical-align: middle;\n",
       "    }\n",
       "\n",
       "    .dataframe tbody tr th {\n",
       "        vertical-align: top;\n",
       "    }\n",
       "\n",
       "    .dataframe thead th {\n",
       "        text-align: right;\n",
       "    }\n",
       "</style>\n",
       "<table border=\"1\" class=\"dataframe\">\n",
       "  <thead>\n",
       "    <tr style=\"text-align: right;\">\n",
       "      <th></th>\n",
       "      <th>orderId</th>\n",
       "      <th>Denda</th>\n",
       "      <th>Kode Kualitas Kredit atau Pembiayaan</th>\n",
       "      <th>Kode Kondisi</th>\n",
       "    </tr>\n",
       "  </thead>\n",
       "  <tbody>\n",
       "  </tbody>\n",
       "</table>\n",
       "</div>"
      ],
      "text/plain": [
       "Empty DataFrame\n",
       "Columns: [orderId, Denda, Kode Kualitas Kredit atau Pembiayaan, Kode Kondisi]\n",
       "Index: []"
      ]
     },
     "execution_count": 42,
     "metadata": {},
     "output_type": "execute_result"
    }
   ],
   "source": [
    "F01new[(F01new['Jumlah Hari Tunggakan']==0) & (F01new['Kode Kualitas Kredit atau Pembiayaan']=='2') & (F01new['Kode Kondisi']=='00')][['orderId','Denda','Kode Kualitas Kredit atau Pembiayaan','Kode Kondisi']]"
   ]
  },
  {
   "cell_type": "code",
   "execution_count": 43,
   "metadata": {},
   "outputs": [
    {
     "data": {
      "text/html": [
       "<div>\n",
       "<style scoped>\n",
       "    .dataframe tbody tr th:only-of-type {\n",
       "        vertical-align: middle;\n",
       "    }\n",
       "\n",
       "    .dataframe tbody tr th {\n",
       "        vertical-align: top;\n",
       "    }\n",
       "\n",
       "    .dataframe thead th {\n",
       "        text-align: right;\n",
       "    }\n",
       "</style>\n",
       "<table border=\"1\" class=\"dataframe\">\n",
       "  <thead>\n",
       "    <tr style=\"text-align: right;\">\n",
       "      <th></th>\n",
       "      <th>orderId</th>\n",
       "      <th>Denda</th>\n",
       "      <th>Kode Kualitas Kredit atau Pembiayaan</th>\n",
       "      <th>Kode Kondisi</th>\n",
       "    </tr>\n",
       "  </thead>\n",
       "  <tbody>\n",
       "  </tbody>\n",
       "</table>\n",
       "</div>"
      ],
      "text/plain": [
       "Empty DataFrame\n",
       "Columns: [orderId, Denda, Kode Kualitas Kredit atau Pembiayaan, Kode Kondisi]\n",
       "Index: []"
      ]
     },
     "execution_count": 43,
     "metadata": {},
     "output_type": "execute_result"
    }
   ],
   "source": [
    "F01new[(F01new['Frekuensi Tunggakan']==0) & (F01new['Kode Kualitas Kredit atau Pembiayaan']=='2') & (F01new['Kode Kondisi']=='00')][['orderId','Denda','Kode Kualitas Kredit atau Pembiayaan','Kode Kondisi']]"
   ]
  },
  {
   "cell_type": "code",
   "execution_count": null,
   "metadata": {},
   "outputs": [],
   "source": []
  },
  {
   "cell_type": "code",
   "execution_count": 44,
   "metadata": {},
   "outputs": [
    {
     "data": {
      "text/html": [
       "<div>\n",
       "<style scoped>\n",
       "    .dataframe tbody tr th:only-of-type {\n",
       "        vertical-align: middle;\n",
       "    }\n",
       "\n",
       "    .dataframe tbody tr th {\n",
       "        vertical-align: top;\n",
       "    }\n",
       "\n",
       "    .dataframe thead th {\n",
       "        text-align: right;\n",
       "    }\n",
       "</style>\n",
       "<table border=\"1\" class=\"dataframe\">\n",
       "  <thead>\n",
       "    <tr style=\"text-align: right;\">\n",
       "      <th></th>\n",
       "      <th>orderId</th>\n",
       "      <th>Denda</th>\n",
       "      <th>Kode Kualitas Kredit atau Pembiayaan</th>\n",
       "      <th>Kode Kondisi</th>\n",
       "    </tr>\n",
       "  </thead>\n",
       "  <tbody>\n",
       "  </tbody>\n",
       "</table>\n",
       "</div>"
      ],
      "text/plain": [
       "Empty DataFrame\n",
       "Columns: [orderId, Denda, Kode Kualitas Kredit atau Pembiayaan, Kode Kondisi]\n",
       "Index: []"
      ]
     },
     "execution_count": 44,
     "metadata": {},
     "output_type": "execute_result"
    }
   ],
   "source": [
    "F01new[(F01new['Denda']>0) & (F01new['Kode Kualitas Kredit atau Pembiayaan']!='1') & (F01new['Kode Kondisi']=='02')][['orderId','Denda','Kode Kualitas Kredit atau Pembiayaan','Kode Kondisi']]"
   ]
  },
  {
   "cell_type": "code",
   "execution_count": 45,
   "metadata": {},
   "outputs": [
    {
     "data": {
      "text/html": [
       "<div>\n",
       "<style scoped>\n",
       "    .dataframe tbody tr th:only-of-type {\n",
       "        vertical-align: middle;\n",
       "    }\n",
       "\n",
       "    .dataframe tbody tr th {\n",
       "        vertical-align: top;\n",
       "    }\n",
       "\n",
       "    .dataframe thead th {\n",
       "        text-align: right;\n",
       "    }\n",
       "</style>\n",
       "<table border=\"1\" class=\"dataframe\">\n",
       "  <thead>\n",
       "    <tr style=\"text-align: right;\">\n",
       "      <th></th>\n",
       "      <th>orderId</th>\n",
       "      <th>Denda</th>\n",
       "      <th>Kode Kualitas Kredit atau Pembiayaan</th>\n",
       "      <th>Kode Kondisi</th>\n",
       "    </tr>\n",
       "  </thead>\n",
       "  <tbody>\n",
       "  </tbody>\n",
       "</table>\n",
       "</div>"
      ],
      "text/plain": [
       "Empty DataFrame\n",
       "Columns: [orderId, Denda, Kode Kualitas Kredit atau Pembiayaan, Kode Kondisi]\n",
       "Index: []"
      ]
     },
     "execution_count": 45,
     "metadata": {},
     "output_type": "execute_result"
    }
   ],
   "source": [
    "F01new[(F01new['Tunggakan Bunga atau Imbalan']>0) & (F01new['Kode Kualitas Kredit atau Pembiayaan']!='1') & (F01new['Kode Kondisi']=='02')][['orderId','Denda','Kode Kualitas Kredit atau Pembiayaan','Kode Kondisi']]"
   ]
  },
  {
   "cell_type": "code",
   "execution_count": 46,
   "metadata": {},
   "outputs": [
    {
     "data": {
      "text/html": [
       "<div>\n",
       "<style scoped>\n",
       "    .dataframe tbody tr th:only-of-type {\n",
       "        vertical-align: middle;\n",
       "    }\n",
       "\n",
       "    .dataframe tbody tr th {\n",
       "        vertical-align: top;\n",
       "    }\n",
       "\n",
       "    .dataframe thead th {\n",
       "        text-align: right;\n",
       "    }\n",
       "</style>\n",
       "<table border=\"1\" class=\"dataframe\">\n",
       "  <thead>\n",
       "    <tr style=\"text-align: right;\">\n",
       "      <th></th>\n",
       "      <th>orderId</th>\n",
       "      <th>Kode Sebab Macet</th>\n",
       "      <th>Kode Kualitas Kredit atau Pembiayaan</th>\n",
       "    </tr>\n",
       "  </thead>\n",
       "  <tbody>\n",
       "  </tbody>\n",
       "</table>\n",
       "</div>"
      ],
      "text/plain": [
       "Empty DataFrame\n",
       "Columns: [orderId, Kode Sebab Macet, Kode Kualitas Kredit atau Pembiayaan]\n",
       "Index: []"
      ]
     },
     "execution_count": 46,
     "metadata": {},
     "output_type": "execute_result"
    }
   ],
   "source": [
    "F01new[(F01new['Kode Sebab Macet']=='99') & (F01new['Kode Kualitas Kredit atau Pembiayaan']=='1')][['orderId','Kode Sebab Macet','Kode Kualitas Kredit atau Pembiayaan']]"
   ]
  },
  {
   "cell_type": "code",
   "execution_count": 47,
   "metadata": {},
   "outputs": [
    {
     "data": {
      "text/html": [
       "<div>\n",
       "<style scoped>\n",
       "    .dataframe tbody tr th:only-of-type {\n",
       "        vertical-align: middle;\n",
       "    }\n",
       "\n",
       "    .dataframe tbody tr th {\n",
       "        vertical-align: top;\n",
       "    }\n",
       "\n",
       "    .dataframe thead th {\n",
       "        text-align: right;\n",
       "    }\n",
       "</style>\n",
       "<table border=\"1\" class=\"dataframe\">\n",
       "  <thead>\n",
       "    <tr style=\"text-align: right;\">\n",
       "      <th></th>\n",
       "      <th>orderId</th>\n",
       "      <th>Tanggal Macet</th>\n",
       "      <th>Kode Kualitas Kredit atau Pembiayaan</th>\n",
       "    </tr>\n",
       "  </thead>\n",
       "  <tbody>\n",
       "  </tbody>\n",
       "</table>\n",
       "</div>"
      ],
      "text/plain": [
       "Empty DataFrame\n",
       "Columns: [orderId, Tanggal Macet, Kode Kualitas Kredit atau Pembiayaan]\n",
       "Index: []"
      ]
     },
     "execution_count": 47,
     "metadata": {},
     "output_type": "execute_result"
    }
   ],
   "source": [
    "F01new[(~F01new['Tanggal Macet'].isnull()) & (F01new['Kode Kualitas Kredit atau Pembiayaan']=='1')][['orderId','Tanggal Macet','Kode Kualitas Kredit atau Pembiayaan']]"
   ]
  },
  {
   "cell_type": "markdown",
   "metadata": {},
   "source": [
    "# Final File to Send to KBIJ D01 and F01"
   ]
  },
  {
   "cell_type": "markdown",
   "metadata": {},
   "source": [
    "Null check for CIF and NIK"
   ]
  },
  {
   "cell_type": "code",
   "execution_count": 48,
   "metadata": {},
   "outputs": [
    {
     "data": {
      "text/html": [
       "<div>\n",
       "<style scoped>\n",
       "    .dataframe tbody tr th:only-of-type {\n",
       "        vertical-align: middle;\n",
       "    }\n",
       "\n",
       "    .dataframe tbody tr th {\n",
       "        vertical-align: top;\n",
       "    }\n",
       "\n",
       "    .dataframe thead th {\n",
       "        text-align: right;\n",
       "    }\n",
       "</style>\n",
       "<table border=\"1\" class=\"dataframe\">\n",
       "  <thead>\n",
       "    <tr style=\"text-align: right;\">\n",
       "      <th></th>\n",
       "      <th>Kode Jenis Pelapor</th>\n",
       "      <th>Kode Pelapor</th>\n",
       "      <th>Tahun Bulan Data</th>\n",
       "      <th>Nomor CIF Lama Debitur</th>\n",
       "      <th>Nomor CIF Debitur</th>\n",
       "      <th>Jenis Identitas</th>\n",
       "      <th>Nomor Identitas</th>\n",
       "      <th>Nama Sesuai Identitas</th>\n",
       "      <th>Nama Lengkap</th>\n",
       "      <th>Kode Status Pendidikan atau Gelar Debitur</th>\n",
       "      <th>...</th>\n",
       "      <th>Kode Kantor Cabang</th>\n",
       "      <th>Operasi Data</th>\n",
       "      <th>Status delete</th>\n",
       "      <th>Create Date</th>\n",
       "      <th>Update Date</th>\n",
       "      <th>Approved Date</th>\n",
       "      <th>userId</th>\n",
       "      <th>orderId</th>\n",
       "      <th>paidoffDate</th>\n",
       "      <th>status</th>\n",
       "    </tr>\n",
       "  </thead>\n",
       "  <tbody>\n",
       "  </tbody>\n",
       "</table>\n",
       "<p>0 rows × 40 columns</p>\n",
       "</div>"
      ],
      "text/plain": [
       "Empty DataFrame\n",
       "Columns: [Kode Jenis Pelapor, Kode Pelapor, Tahun Bulan Data, Nomor CIF Lama Debitur, Nomor CIF Debitur, Jenis Identitas, Nomor Identitas, Nama Sesuai Identitas, Nama Lengkap, Kode Status Pendidikan atau Gelar Debitur, Jenis Kelamin, Tempat Lahir, Tanggal Lahir, Nama Gadis Ibu Kandung, NPWP, Alamat, Kelurahan, Kecamatan, Kode Kabupaten atau Kota, Kode Pos, Nomor Telepon, Nomor Telepon Seluler, Alamat e-mail, Kode Negara Domisili, Kode Pekerjaan, Tempat Bekerja, Kode Bidang Usaha Tempat Bekerja, Alamat Tempat Bekerja, Kode Golongan Debitur, Status Perkawinan Debitur, Kode Kantor Cabang, Operasi Data, Status delete, Create Date, Update Date, Approved Date, userId, orderId, paidoffDate, status]\n",
       "Index: []\n",
       "\n",
       "[0 rows x 40 columns]"
      ]
     },
     "execution_count": 48,
     "metadata": {},
     "output_type": "execute_result"
    }
   ],
   "source": [
    "D01new.loc[(D01new['Nomor CIF Debitur'].isna())|(D01new['Nama Lengkap'].isna())|(D01new['Tanggal Lahir'].isna())|(D01new['Nomor Identitas'].isna())]"
   ]
  },
  {
   "cell_type": "code",
   "execution_count": 49,
   "metadata": {},
   "outputs": [],
   "source": [
    "D01new.drop(D01new.loc[(D01new['Nomor CIF Debitur'].isna())|(D01new['Nama Lengkap'].isna())|(D01new['Tanggal Lahir'].isna())|(D01new['Nomor Identitas'].isna())].index, inplace=True)"
   ]
  },
  {
   "cell_type": "code",
   "execution_count": 50,
   "metadata": {},
   "outputs": [
    {
     "data": {
      "text/html": [
       "<div>\n",
       "<style scoped>\n",
       "    .dataframe tbody tr th:only-of-type {\n",
       "        vertical-align: middle;\n",
       "    }\n",
       "\n",
       "    .dataframe tbody tr th {\n",
       "        vertical-align: top;\n",
       "    }\n",
       "\n",
       "    .dataframe thead th {\n",
       "        text-align: right;\n",
       "    }\n",
       "</style>\n",
       "<table border=\"1\" class=\"dataframe\">\n",
       "  <thead>\n",
       "    <tr style=\"text-align: right;\">\n",
       "      <th></th>\n",
       "      <th>Kode Jenis Pelapor</th>\n",
       "      <th>Kode Pelapor</th>\n",
       "      <th>Tahun Bulan Data</th>\n",
       "      <th>Kode Jenis Fasilitas</th>\n",
       "      <th>Nomor Rekening Fasilitas</th>\n",
       "      <th>Nomor Rekening Lama Fasilitas</th>\n",
       "      <th>Nomor CIF Debitur</th>\n",
       "      <th>Kode Sifat Kredit atau Pembiayaan</th>\n",
       "      <th>Kode Jenis Kredit atau Pembiayaan</th>\n",
       "      <th>Kode Akad Kredit atau Akad Pembiayaan</th>\n",
       "      <th>...</th>\n",
       "      <th>lateFee</th>\n",
       "      <th>balanceWithInterest</th>\n",
       "      <th>balance</th>\n",
       "      <th>dataDate</th>\n",
       "      <th>jumlah cicilan</th>\n",
       "      <th>current payment periode month</th>\n",
       "      <th>count payment</th>\n",
       "      <th>paidoffDate</th>\n",
       "      <th>status</th>\n",
       "      <th>Tunggakan Pokok</th>\n",
       "    </tr>\n",
       "  </thead>\n",
       "  <tbody>\n",
       "  </tbody>\n",
       "</table>\n",
       "<p>0 rows × 69 columns</p>\n",
       "</div>"
      ],
      "text/plain": [
       "Empty DataFrame\n",
       "Columns: [Kode Jenis Pelapor, Kode Pelapor, Tahun Bulan Data, Kode Jenis Fasilitas, Nomor Rekening Fasilitas, Nomor Rekening Lama Fasilitas, Nomor CIF Debitur, Kode Sifat Kredit atau Pembiayaan, Kode Jenis Kredit atau Pembiayaan, Kode Akad Kredit atau Akad Pembiayaan, Nomor Akad Awal, Tanggal Akad Awal, Nomor Akad Akhir, Tanggal Akad Akhir, Frekuensi Perpanjangan Fasilitas Kredit atau Pembiayaan, Tanggal Awal Kredit atau Pembiayaan, Tanggal Mulai, Tanggal Jatuh Tempo, Kode Kategori Debitur, Kode Jenis Penggunaan, Kode Orientasi Penggunaan, Kode Sektor Ekonomi, Kode Kabupaten atau Kota Lokasi Proyek atau Penggunaan Kredit atau Pembiayaan, Nilai Proyek, Kode Valuta, Suku Bunga atau Imbalan, Jenis Suku Bunga atau Imbalan, Kredit atau Pembiayaan Program Pemerintah, Plafon Awal, Plafon, Realisasi atau Pencairan Bulan Berjalan, Denda, Baki Debet, Nilai dalam Mata Uang Asal, Kode Kualitas Kredit atau Pembiayaan, Tanggal Macet, Kode Sebab Macet, Tunggakan Bunga atau Imbalan, Jumlah Hari Tunggakan, Frekuensi Tunggakan, Frekuensi Restrukturisasi, Tanggal Restrukturisasi Awal, Tanggal Restrukturisasi Akhir, Kode Cara Restrukturisasi, Kode Kondisi, Tanggal Kondisi, Keterangan, Kode Kantor Cabang, Operasi Data, Status delete, Create Date, Update Date, Approved Date, userId, orderId, dayPastDue, approvedLoanAmount, approvedLoanTenureInMonth, maxdayPastDue, lateFee, balanceWithInterest, balance, dataDate, jumlah cicilan, current payment periode month, count payment, paidoffDate, status, Tunggakan Pokok]\n",
       "Index: []\n",
       "\n",
       "[0 rows x 69 columns]"
      ]
     },
     "execution_count": 50,
     "metadata": {},
     "output_type": "execute_result"
    }
   ],
   "source": [
    "F01new.loc[F01new['Nomor CIF Debitur'].isna()]"
   ]
  },
  {
   "cell_type": "code",
   "execution_count": 51,
   "metadata": {},
   "outputs": [],
   "source": [
    "F01new.drop(F01new.loc[F01new['Nomor CIF Debitur'].isna()].index, inplace=True)"
   ]
  },
  {
   "cell_type": "markdown",
   "metadata": {},
   "source": [
    "## Export full data dump to csv to be used in the next iteration"
   ]
  },
  {
   "cell_type": "code",
   "execution_count": 52,
   "metadata": {},
   "outputs": [
    {
     "name": "stdout",
     "output_type": "stream",
     "text": [
      "./data202010/F01202010_new_filtered.csv\n"
     ]
    }
   ],
   "source": [
    "print(filtered_filename_F01)"
   ]
  },
  {
   "cell_type": "code",
   "execution_count": 53,
   "metadata": {},
   "outputs": [],
   "source": [
    "F01new.to_csv(path_or_buf=filtered_filename_F01, index=0)\n",
    "D01new.to_csv(path_or_buf=filtered_filename_D01, index=0)"
   ]
  },
  {
   "cell_type": "code",
   "execution_count": null,
   "metadata": {},
   "outputs": [],
   "source": []
  },
  {
   "cell_type": "markdown",
   "metadata": {},
   "source": [
    "Export Latest Data"
   ]
  },
  {
   "cell_type": "code",
   "execution_count": 54,
   "metadata": {},
   "outputs": [
    {
     "name": "stdout",
     "output_type": "stream",
     "text": [
      "./data202010/F01-202010[20201126-133939].txt ./data202010/D01-202010[20201126-133939].txt\n"
     ]
    }
   ],
   "source": [
    "timestr = time.strftime(\"%Y%m%d-%H%M%S\")\n",
    "F01name = dirname+'/F01'+'-'+datem+'['+timestr+']'+'.txt'\n",
    "D01name = dirname+'/D01'+'-'+datem+'['+timestr+']'+'.txt'\n",
    "print(F01name,D01name)"
   ]
  },
  {
   "cell_type": "code",
   "execution_count": 55,
   "metadata": {},
   "outputs": [],
   "source": [
    "F01new_sent=F01new[['Kode Jenis Pelapor', 'Kode Pelapor', 'Tahun Bulan Data',\n",
    "       'Kode Jenis Fasilitas', 'Nomor Rekening Fasilitas',\n",
    "       'Nomor Rekening Lama Fasilitas', 'Nomor CIF Debitur',\n",
    "       'Kode Sifat Kredit atau Pembiayaan',\n",
    "       'Kode Jenis Kredit atau Pembiayaan',\n",
    "       'Kode Akad Kredit atau Akad Pembiayaan', 'Nomor Akad Awal',\n",
    "       'Tanggal Akad Awal', 'Nomor Akad Akhir', 'Tanggal Akad Akhir',\n",
    "       'Frekuensi Perpanjangan Fasilitas Kredit atau Pembiayaan',\n",
    "       'Tanggal Awal Kredit atau Pembiayaan', 'Tanggal Mulai',\n",
    "       'Tanggal Jatuh Tempo', 'Kode Kategori Debitur', 'Kode Jenis Penggunaan',\n",
    "       'Kode Orientasi Penggunaan', 'Kode Sektor Ekonomi',\n",
    "       'Kode Kabupaten atau Kota Lokasi Proyek atau Penggunaan Kredit atau Pembiayaan',\n",
    "       'Nilai Proyek', 'Kode Valuta', 'Suku Bunga atau Imbalan',\n",
    "       'Jenis Suku Bunga atau Imbalan',\n",
    "       'Kredit atau Pembiayaan Program Pemerintah', 'Plafon Awal', 'Plafon',\n",
    "       'Realisasi atau Pencairan Bulan Berjalan', 'Denda', 'Baki Debet',\n",
    "       'Nilai dalam Mata Uang Asal', 'Kode Kualitas Kredit atau Pembiayaan',\n",
    "       'Tanggal Macet', 'Kode Sebab Macet', 'Tunggakan Pokok',\n",
    "       'Tunggakan Bunga atau Imbalan', 'Jumlah Hari Tunggakan',\n",
    "       'Frekuensi Tunggakan', 'Frekuensi Restrukturisasi',\n",
    "       'Tanggal Restrukturisasi Awal', 'Tanggal Restrukturisasi Akhir',\n",
    "       'Kode Cara Restrukturisasi', 'Kode Kondisi', 'Tanggal Kondisi',\n",
    "       'Keterangan', 'Kode Kantor Cabang', 'Operasi Data', 'Status delete',\n",
    "       'Create Date', 'Update Date']]\n",
    "D01new_sent=D01new[['Kode Jenis Pelapor', 'Kode Pelapor', 'Tahun Bulan Data',\n",
    "       'Nomor CIF Lama Debitur', 'Nomor CIF Debitur', 'Jenis Identitas',\n",
    "       'Nomor Identitas', 'Nama Sesuai Identitas', 'Nama Lengkap',\n",
    "       'Kode Status Pendidikan atau Gelar Debitur', 'Jenis Kelamin',\n",
    "       'Tempat Lahir', 'Tanggal Lahir', 'Nama Gadis Ibu Kandung', 'NPWP',\n",
    "       'Alamat', 'Kelurahan', 'Kecamatan', 'Kode Kabupaten atau Kota',\n",
    "       'Kode Pos', 'Nomor Telepon', 'Nomor Telepon Seluler', 'Alamat e-mail',\n",
    "       'Kode Negara Domisili', 'Kode Pekerjaan', 'Tempat Bekerja',\n",
    "       'Kode Bidang Usaha Tempat Bekerja', 'Alamat Tempat Bekerja',\n",
    "       'Kode Golongan Debitur', 'Status Perkawinan Debitur',\n",
    "       'Kode Kantor Cabang', 'Operasi Data', 'Status delete', 'Create Date',\n",
    "       'Update Date']]"
   ]
  },
  {
   "cell_type": "code",
   "execution_count": 56,
   "metadata": {},
   "outputs": [
    {
     "data": {
      "text/html": [
       "<div>\n",
       "<style scoped>\n",
       "    .dataframe tbody tr th:only-of-type {\n",
       "        vertical-align: middle;\n",
       "    }\n",
       "\n",
       "    .dataframe tbody tr th {\n",
       "        vertical-align: top;\n",
       "    }\n",
       "\n",
       "    .dataframe thead th {\n",
       "        text-align: right;\n",
       "    }\n",
       "</style>\n",
       "<table border=\"1\" class=\"dataframe\">\n",
       "  <thead>\n",
       "    <tr style=\"text-align: right;\">\n",
       "      <th></th>\n",
       "      <th>Kode Jenis Pelapor</th>\n",
       "      <th>Kode Pelapor</th>\n",
       "      <th>Tahun Bulan Data</th>\n",
       "      <th>Nomor CIF Lama Debitur</th>\n",
       "      <th>Nomor CIF Debitur</th>\n",
       "      <th>Jenis Identitas</th>\n",
       "      <th>Nomor Identitas</th>\n",
       "      <th>Nama Sesuai Identitas</th>\n",
       "      <th>Nama Lengkap</th>\n",
       "      <th>Kode Status Pendidikan atau Gelar Debitur</th>\n",
       "      <th>...</th>\n",
       "      <th>Kode Kantor Cabang</th>\n",
       "      <th>Operasi Data</th>\n",
       "      <th>Status delete</th>\n",
       "      <th>Create Date</th>\n",
       "      <th>Update Date</th>\n",
       "      <th>Approved Date</th>\n",
       "      <th>userId</th>\n",
       "      <th>orderId</th>\n",
       "      <th>paidoffDate</th>\n",
       "      <th>status</th>\n",
       "    </tr>\n",
       "  </thead>\n",
       "  <tbody>\n",
       "  </tbody>\n",
       "</table>\n",
       "<p>0 rows × 40 columns</p>\n",
       "</div>"
      ],
      "text/plain": [
       "Empty DataFrame\n",
       "Columns: [Kode Jenis Pelapor, Kode Pelapor, Tahun Bulan Data, Nomor CIF Lama Debitur, Nomor CIF Debitur, Jenis Identitas, Nomor Identitas, Nama Sesuai Identitas, Nama Lengkap, Kode Status Pendidikan atau Gelar Debitur, Jenis Kelamin, Tempat Lahir, Tanggal Lahir, Nama Gadis Ibu Kandung, NPWP, Alamat, Kelurahan, Kecamatan, Kode Kabupaten atau Kota, Kode Pos, Nomor Telepon, Nomor Telepon Seluler, Alamat e-mail, Kode Negara Domisili, Kode Pekerjaan, Tempat Bekerja, Kode Bidang Usaha Tempat Bekerja, Alamat Tempat Bekerja, Kode Golongan Debitur, Status Perkawinan Debitur, Kode Kantor Cabang, Operasi Data, Status delete, Create Date, Update Date, Approved Date, userId, orderId, paidoffDate, status]\n",
       "Index: []\n",
       "\n",
       "[0 rows x 40 columns]"
      ]
     },
     "execution_count": 56,
     "metadata": {},
     "output_type": "execute_result"
    }
   ],
   "source": [
    "D01new[D01new['Nama Sesuai Identitas']=='IBNU SIGIT SAPUTRO']"
   ]
  },
  {
   "cell_type": "code",
   "execution_count": 57,
   "metadata": {},
   "outputs": [
    {
     "name": "stdout",
     "output_type": "stream",
     "text": [
      "(109858, 53)\n",
      "(107924, 35)\n"
     ]
    }
   ],
   "source": [
    "print(F01new_sent.shape)\n",
    "print(D01new_sent.shape)"
   ]
  },
  {
   "cell_type": "markdown",
   "metadata": {},
   "source": [
    "## Export file for KBIJ Reporting"
   ]
  },
  {
   "cell_type": "code",
   "execution_count": 58,
   "metadata": {},
   "outputs": [
    {
     "name": "stdout",
     "output_type": "stream",
     "text": [
      "./data202010/D01-202010[20201126-133939].txt\n"
     ]
    }
   ],
   "source": [
    "print(D01name)"
   ]
  },
  {
   "cell_type": "code",
   "execution_count": 59,
   "metadata": {},
   "outputs": [],
   "source": [
    "D01new_sent.to_csv(path_or_buf=D01name, sep='|',index =0)\n",
    "F01new_sent.to_csv(path_or_buf=F01name, sep='|',index =0)"
   ]
  },
  {
   "cell_type": "code",
   "execution_count": null,
   "metadata": {},
   "outputs": [],
   "source": []
  },
  {
   "cell_type": "markdown",
   "metadata": {},
   "source": [
    "# Check Sent Data"
   ]
  },
  {
   "cell_type": "code",
   "execution_count": 60,
   "metadata": {},
   "outputs": [],
   "source": [
    "F01_sent = pd.read_csv('./data202010/F01-202010[20201126-133939].txt',sep='|',dtype=F01_dtype)\n",
    "D01_sent = pd.read_csv('./data202010/D01-202010[20201126-133939].txt',sep='|',dtype=D01_dtype)"
   ]
  },
  {
   "cell_type": "code",
   "execution_count": 61,
   "metadata": {},
   "outputs": [
    {
     "data": {
      "text/html": [
       "<div>\n",
       "<style scoped>\n",
       "    .dataframe tbody tr th:only-of-type {\n",
       "        vertical-align: middle;\n",
       "    }\n",
       "\n",
       "    .dataframe tbody tr th {\n",
       "        vertical-align: top;\n",
       "    }\n",
       "\n",
       "    .dataframe thead th {\n",
       "        text-align: right;\n",
       "    }\n",
       "</style>\n",
       "<table border=\"1\" class=\"dataframe\">\n",
       "  <thead>\n",
       "    <tr style=\"text-align: right;\">\n",
       "      <th></th>\n",
       "      <th>Kode Jenis Pelapor</th>\n",
       "      <th>Kode Pelapor</th>\n",
       "      <th>Tahun Bulan Data</th>\n",
       "      <th>Kode Jenis Fasilitas</th>\n",
       "      <th>Nomor Rekening Fasilitas</th>\n",
       "      <th>Nomor Rekening Lama Fasilitas</th>\n",
       "      <th>Nomor CIF Debitur</th>\n",
       "      <th>Kode Sifat Kredit atau Pembiayaan</th>\n",
       "      <th>Kode Jenis Kredit atau Pembiayaan</th>\n",
       "      <th>Kode Akad Kredit atau Akad Pembiayaan</th>\n",
       "      <th>...</th>\n",
       "      <th>Tanggal Restrukturisasi Akhir</th>\n",
       "      <th>Kode Cara Restrukturisasi</th>\n",
       "      <th>Kode Kondisi</th>\n",
       "      <th>Tanggal Kondisi</th>\n",
       "      <th>Keterangan</th>\n",
       "      <th>Kode Kantor Cabang</th>\n",
       "      <th>Operasi Data</th>\n",
       "      <th>Status delete</th>\n",
       "      <th>Create Date</th>\n",
       "      <th>Update Date</th>\n",
       "    </tr>\n",
       "  </thead>\n",
       "  <tbody>\n",
       "  </tbody>\n",
       "</table>\n",
       "<p>0 rows × 53 columns</p>\n",
       "</div>"
      ],
      "text/plain": [
       "Empty DataFrame\n",
       "Columns: [Kode Jenis Pelapor, Kode Pelapor, Tahun Bulan Data, Kode Jenis Fasilitas, Nomor Rekening Fasilitas, Nomor Rekening Lama Fasilitas, Nomor CIF Debitur, Kode Sifat Kredit atau Pembiayaan, Kode Jenis Kredit atau Pembiayaan, Kode Akad Kredit atau Akad Pembiayaan, Nomor Akad Awal, Tanggal Akad Awal, Nomor Akad Akhir, Tanggal Akad Akhir, Frekuensi Perpanjangan Fasilitas Kredit atau Pembiayaan, Tanggal Awal Kredit atau Pembiayaan, Tanggal Mulai, Tanggal Jatuh Tempo, Kode Kategori Debitur, Kode Jenis Penggunaan, Kode Orientasi Penggunaan, Kode Sektor Ekonomi, Kode Kabupaten atau Kota Lokasi Proyek atau Penggunaan Kredit atau Pembiayaan, Nilai Proyek, Kode Valuta, Suku Bunga atau Imbalan, Jenis Suku Bunga atau Imbalan, Kredit atau Pembiayaan Program Pemerintah, Plafon Awal, Plafon, Realisasi atau Pencairan Bulan Berjalan, Denda, Baki Debet, Nilai dalam Mata Uang Asal, Kode Kualitas Kredit atau Pembiayaan, Tanggal Macet, Kode Sebab Macet, Tunggakan Pokok, Tunggakan Bunga atau Imbalan, Jumlah Hari Tunggakan, Frekuensi Tunggakan, Frekuensi Restrukturisasi, Tanggal Restrukturisasi Awal, Tanggal Restrukturisasi Akhir, Kode Cara Restrukturisasi, Kode Kondisi, Tanggal Kondisi, Keterangan, Kode Kantor Cabang, Operasi Data, Status delete, Create Date, Update Date]\n",
       "Index: []\n",
       "\n",
       "[0 rows x 53 columns]"
      ]
     },
     "execution_count": 61,
     "metadata": {},
     "output_type": "execute_result"
    }
   ],
   "source": [
    "F01_sent[F01_sent['Tanggal Mulai'].isna()]"
   ]
  },
  {
   "cell_type": "code",
   "execution_count": 62,
   "metadata": {},
   "outputs": [
    {
     "data": {
      "text/html": [
       "<div>\n",
       "<style scoped>\n",
       "    .dataframe tbody tr th:only-of-type {\n",
       "        vertical-align: middle;\n",
       "    }\n",
       "\n",
       "    .dataframe tbody tr th {\n",
       "        vertical-align: top;\n",
       "    }\n",
       "\n",
       "    .dataframe thead th {\n",
       "        text-align: right;\n",
       "    }\n",
       "</style>\n",
       "<table border=\"1\" class=\"dataframe\">\n",
       "  <thead>\n",
       "    <tr style=\"text-align: right;\">\n",
       "      <th></th>\n",
       "      <th>Kode Jenis Pelapor</th>\n",
       "      <th>Kode Pelapor</th>\n",
       "      <th>Tahun Bulan Data</th>\n",
       "      <th>Kode Jenis Fasilitas</th>\n",
       "      <th>Nomor Rekening Fasilitas</th>\n",
       "      <th>Nomor Rekening Lama Fasilitas</th>\n",
       "      <th>Nomor CIF Debitur</th>\n",
       "      <th>Kode Sifat Kredit atau Pembiayaan</th>\n",
       "      <th>Kode Jenis Kredit atau Pembiayaan</th>\n",
       "      <th>Kode Akad Kredit atau Akad Pembiayaan</th>\n",
       "      <th>...</th>\n",
       "      <th>Tanggal Restrukturisasi Akhir</th>\n",
       "      <th>Kode Cara Restrukturisasi</th>\n",
       "      <th>Kode Kondisi</th>\n",
       "      <th>Tanggal Kondisi</th>\n",
       "      <th>Keterangan</th>\n",
       "      <th>Kode Kantor Cabang</th>\n",
       "      <th>Operasi Data</th>\n",
       "      <th>Status delete</th>\n",
       "      <th>Create Date</th>\n",
       "      <th>Update Date</th>\n",
       "    </tr>\n",
       "  </thead>\n",
       "  <tbody>\n",
       "  </tbody>\n",
       "</table>\n",
       "<p>0 rows × 53 columns</p>\n",
       "</div>"
      ],
      "text/plain": [
       "Empty DataFrame\n",
       "Columns: [Kode Jenis Pelapor, Kode Pelapor, Tahun Bulan Data, Kode Jenis Fasilitas, Nomor Rekening Fasilitas, Nomor Rekening Lama Fasilitas, Nomor CIF Debitur, Kode Sifat Kredit atau Pembiayaan, Kode Jenis Kredit atau Pembiayaan, Kode Akad Kredit atau Akad Pembiayaan, Nomor Akad Awal, Tanggal Akad Awal, Nomor Akad Akhir, Tanggal Akad Akhir, Frekuensi Perpanjangan Fasilitas Kredit atau Pembiayaan, Tanggal Awal Kredit atau Pembiayaan, Tanggal Mulai, Tanggal Jatuh Tempo, Kode Kategori Debitur, Kode Jenis Penggunaan, Kode Orientasi Penggunaan, Kode Sektor Ekonomi, Kode Kabupaten atau Kota Lokasi Proyek atau Penggunaan Kredit atau Pembiayaan, Nilai Proyek, Kode Valuta, Suku Bunga atau Imbalan, Jenis Suku Bunga atau Imbalan, Kredit atau Pembiayaan Program Pemerintah, Plafon Awal, Plafon, Realisasi atau Pencairan Bulan Berjalan, Denda, Baki Debet, Nilai dalam Mata Uang Asal, Kode Kualitas Kredit atau Pembiayaan, Tanggal Macet, Kode Sebab Macet, Tunggakan Pokok, Tunggakan Bunga atau Imbalan, Jumlah Hari Tunggakan, Frekuensi Tunggakan, Frekuensi Restrukturisasi, Tanggal Restrukturisasi Awal, Tanggal Restrukturisasi Akhir, Kode Cara Restrukturisasi, Kode Kondisi, Tanggal Kondisi, Keterangan, Kode Kantor Cabang, Operasi Data, Status delete, Create Date, Update Date]\n",
       "Index: []\n",
       "\n",
       "[0 rows x 53 columns]"
      ]
     },
     "execution_count": 62,
     "metadata": {},
     "output_type": "execute_result"
    }
   ],
   "source": [
    "F01_sent[F01_sent['Tanggal Jatuh Tempo'].isna()]"
   ]
  },
  {
   "cell_type": "code",
   "execution_count": 64,
   "metadata": {},
   "outputs": [
    {
     "name": "stdout",
     "output_type": "stream",
     "text": [
      "./data202009/f01-202009[20201005-161933].txt\n"
     ]
    }
   ],
   "source": [
    "print('./'+prev_pathname+'/f01-'+prev_datem+'[20201005-161933].txt')"
   ]
  },
  {
   "cell_type": "code",
   "execution_count": 65,
   "metadata": {},
   "outputs": [],
   "source": [
    "F01_prev_sent = pd.read_csv('./'+prev_pathname+'/f01-'+prev_datem+'[20201005-161933].txt',sep='|',dtype=F01_dtype)\n",
    "D01_prev_sent = pd.read_csv('./'+prev_pathname+'/d01-'+prev_datem+'[20201005-161933].txt',sep='|',dtype=D01_dtype)"
   ]
  },
  {
   "cell_type": "code",
   "execution_count": 66,
   "metadata": {},
   "outputs": [
    {
     "name": "stdout",
     "output_type": "stream",
     "text": [
      "D01_sent: (107924, 35) F01_sent: (109858, 53)\n",
      "D01_prev_sent: (109798, 35) F01_prev_sent: (124369, 53)\n"
     ]
    }
   ],
   "source": [
    "print('D01_sent:',D01_sent.shape, 'F01_sent:',F01_sent.shape)\n",
    "print('D01_prev_sent:',D01_prev_sent.shape, 'F01_prev_sent:',F01_prev_sent.shape)"
   ]
  },
  {
   "cell_type": "code",
   "execution_count": 67,
   "metadata": {},
   "outputs": [
    {
     "name": "stdout",
     "output_type": "stream",
     "text": [
      "================================================================================\n",
      "Check Previous Not Active Nomor Rekening Fasilitas But Exist in Current Data \n",
      "\n",
      "[CLEAR]No Previous Not Active Nomor Rekening Fasilitas But Exist in Current Data\n",
      "\n",
      "[DONE]\n",
      "================================================================================\n",
      "================================================================================\n",
      "Check Previous Active Nomor Rekening Fasilitas But Not Exist in Current Data \n",
      "\n",
      "[CLEAR]No Previous Active Nomor Rekening Fasilitas But Not Exist in Current Data\n",
      "\n",
      "[DONE]\n",
      "================================================================================\n",
      "================================================================================\n",
      "Check Nomor CIF Debitur in D01 and F01 \n",
      "\n",
      "[CLEAR]All Nomor CIF Debitur in D01 are exist in F01\n",
      "\n",
      "[DONE]\n",
      "================================================================================\n",
      "================================================================================\n",
      "Check Active Kode Kondisi but Baki Debet = 0 \n",
      "\n",
      "[CLEAR]No Active Kode Kondisi but Baki Debet = 0\n",
      "\n",
      "[DONE]\n",
      "================================================================================\n",
      "================================================================================\n",
      "Check Not Active Kode Kondisi but Baki Debet > 0 \n",
      "\n",
      "[CLEAR]No Not Active Kode Kondisi but Baki Debet > 0\n",
      "\n",
      "[DONE]\n",
      "================================================================================\n",
      "================================================================================\n",
      "Check Baki Debet > Plafon Awal \n",
      "\n",
      "[CLEAR]No Baki Debet greater than Plafon Awal\n",
      "\n",
      "[DONE]\n",
      "================================================================================\n",
      "================================================================================\n",
      "Check Kode Kualitas Kredit atau Pembiayaan Macet but has no Tanggal Macet \n",
      "\n",
      "[CLEAR]No Kode Kualitas Kredit atau Pembiayaan Macet but has no Tanggal Macet\n",
      "\n",
      "[DONE]\n",
      "================================================================================\n",
      "================================================================================\n",
      "Check Tahun Bulan Data \n",
      "\n",
      "F01: ['202010']\n",
      "D01: ['202010']\n",
      "\n",
      "[DONE]\n",
      "================================================================================\n"
     ]
    }
   ],
   "source": [
    "F01_sent, D01_sent = kbij.checking_data(F01_sent, D01_sent, '2020-05-01', F01_prev=F01_prev_sent, D01_prev=D01_prev_sent)"
   ]
  },
  {
   "cell_type": "code",
   "execution_count": 68,
   "metadata": {},
   "outputs": [
    {
     "data": {
      "text/plain": [
       "Series([], Name: Alamat e-mail, dtype: object)"
      ]
     },
     "execution_count": 68,
     "metadata": {},
     "output_type": "execute_result"
    }
   ],
   "source": [
    "D01_sent['Alamat e-mail'][D01_sent['Alamat e-mail'].str.len()>=150]"
   ]
  },
  {
   "cell_type": "code",
   "execution_count": 69,
   "metadata": {},
   "outputs": [
    {
     "data": {
      "text/plain": [
       "Series([], Name: Alamat Tempat Bekerja, dtype: object)"
      ]
     },
     "execution_count": 69,
     "metadata": {},
     "output_type": "execute_result"
    }
   ],
   "source": [
    "D01_sent['Alamat Tempat Bekerja'][D01_sent['Alamat Tempat Bekerja'].str.len()>=300]"
   ]
  },
  {
   "cell_type": "code",
   "execution_count": 70,
   "metadata": {},
   "outputs": [
    {
     "data": {
      "text/html": [
       "<div>\n",
       "<style scoped>\n",
       "    .dataframe tbody tr th:only-of-type {\n",
       "        vertical-align: middle;\n",
       "    }\n",
       "\n",
       "    .dataframe tbody tr th {\n",
       "        vertical-align: top;\n",
       "    }\n",
       "\n",
       "    .dataframe thead th {\n",
       "        text-align: right;\n",
       "    }\n",
       "</style>\n",
       "<table border=\"1\" class=\"dataframe\">\n",
       "  <thead>\n",
       "    <tr style=\"text-align: right;\">\n",
       "      <th></th>\n",
       "      <th>Kode Jenis Pelapor</th>\n",
       "      <th>Kode Pelapor</th>\n",
       "      <th>Tahun Bulan Data</th>\n",
       "      <th>Kode Jenis Fasilitas</th>\n",
       "      <th>Nomor Rekening Fasilitas</th>\n",
       "      <th>Nomor Rekening Lama Fasilitas</th>\n",
       "      <th>Nomor CIF Debitur</th>\n",
       "      <th>Kode Sifat Kredit atau Pembiayaan</th>\n",
       "      <th>Kode Jenis Kredit atau Pembiayaan</th>\n",
       "      <th>Kode Akad Kredit atau Akad Pembiayaan</th>\n",
       "      <th>...</th>\n",
       "      <th>Tanggal Restrukturisasi Akhir</th>\n",
       "      <th>Kode Cara Restrukturisasi</th>\n",
       "      <th>Kode Kondisi</th>\n",
       "      <th>Tanggal Kondisi</th>\n",
       "      <th>Keterangan</th>\n",
       "      <th>Kode Kantor Cabang</th>\n",
       "      <th>Operasi Data</th>\n",
       "      <th>Status delete</th>\n",
       "      <th>Create Date</th>\n",
       "      <th>Update Date</th>\n",
       "    </tr>\n",
       "  </thead>\n",
       "  <tbody>\n",
       "  </tbody>\n",
       "</table>\n",
       "<p>0 rows × 53 columns</p>\n",
       "</div>"
      ],
      "text/plain": [
       "Empty DataFrame\n",
       "Columns: [Kode Jenis Pelapor, Kode Pelapor, Tahun Bulan Data, Kode Jenis Fasilitas, Nomor Rekening Fasilitas, Nomor Rekening Lama Fasilitas, Nomor CIF Debitur, Kode Sifat Kredit atau Pembiayaan, Kode Jenis Kredit atau Pembiayaan, Kode Akad Kredit atau Akad Pembiayaan, Nomor Akad Awal, Tanggal Akad Awal, Nomor Akad Akhir, Tanggal Akad Akhir, Frekuensi Perpanjangan Fasilitas Kredit atau Pembiayaan, Tanggal Awal Kredit atau Pembiayaan, Tanggal Mulai, Tanggal Jatuh Tempo, Kode Kategori Debitur, Kode Jenis Penggunaan, Kode Orientasi Penggunaan, Kode Sektor Ekonomi, Kode Kabupaten atau Kota Lokasi Proyek atau Penggunaan Kredit atau Pembiayaan, Nilai Proyek, Kode Valuta, Suku Bunga atau Imbalan, Jenis Suku Bunga atau Imbalan, Kredit atau Pembiayaan Program Pemerintah, Plafon Awal, Plafon, Realisasi atau Pencairan Bulan Berjalan, Denda, Baki Debet, Nilai dalam Mata Uang Asal, Kode Kualitas Kredit atau Pembiayaan, Tanggal Macet, Kode Sebab Macet, Tunggakan Pokok, Tunggakan Bunga atau Imbalan, Jumlah Hari Tunggakan, Frekuensi Tunggakan, Frekuensi Restrukturisasi, Tanggal Restrukturisasi Awal, Tanggal Restrukturisasi Akhir, Kode Cara Restrukturisasi, Kode Kondisi, Tanggal Kondisi, Keterangan, Kode Kantor Cabang, Operasi Data, Status delete, Create Date, Update Date]\n",
       "Index: []\n",
       "\n",
       "[0 rows x 53 columns]"
      ]
     },
     "execution_count": 70,
     "metadata": {},
     "output_type": "execute_result"
    }
   ],
   "source": [
    "F01_sent[F01_sent['Denda'].isna()]"
   ]
  },
  {
   "cell_type": "code",
   "execution_count": 71,
   "metadata": {},
   "outputs": [
    {
     "data": {
      "text/html": [
       "<div>\n",
       "<style scoped>\n",
       "    .dataframe tbody tr th:only-of-type {\n",
       "        vertical-align: middle;\n",
       "    }\n",
       "\n",
       "    .dataframe tbody tr th {\n",
       "        vertical-align: top;\n",
       "    }\n",
       "\n",
       "    .dataframe thead th {\n",
       "        text-align: right;\n",
       "    }\n",
       "</style>\n",
       "<table border=\"1\" class=\"dataframe\">\n",
       "  <thead>\n",
       "    <tr style=\"text-align: right;\">\n",
       "      <th></th>\n",
       "      <th>Kode Jenis Pelapor</th>\n",
       "      <th>Kode Pelapor</th>\n",
       "      <th>Tahun Bulan Data</th>\n",
       "      <th>Kode Jenis Fasilitas</th>\n",
       "      <th>Nomor Rekening Fasilitas</th>\n",
       "      <th>Nomor Rekening Lama Fasilitas</th>\n",
       "      <th>Nomor CIF Debitur</th>\n",
       "      <th>Kode Sifat Kredit atau Pembiayaan</th>\n",
       "      <th>Kode Jenis Kredit atau Pembiayaan</th>\n",
       "      <th>Kode Akad Kredit atau Akad Pembiayaan</th>\n",
       "      <th>...</th>\n",
       "      <th>Tanggal Restrukturisasi Akhir</th>\n",
       "      <th>Kode Cara Restrukturisasi</th>\n",
       "      <th>Kode Kondisi</th>\n",
       "      <th>Tanggal Kondisi</th>\n",
       "      <th>Keterangan</th>\n",
       "      <th>Kode Kantor Cabang</th>\n",
       "      <th>Operasi Data</th>\n",
       "      <th>Status delete</th>\n",
       "      <th>Create Date</th>\n",
       "      <th>Update Date</th>\n",
       "    </tr>\n",
       "  </thead>\n",
       "  <tbody>\n",
       "  </tbody>\n",
       "</table>\n",
       "<p>0 rows × 53 columns</p>\n",
       "</div>"
      ],
      "text/plain": [
       "Empty DataFrame\n",
       "Columns: [Kode Jenis Pelapor, Kode Pelapor, Tahun Bulan Data, Kode Jenis Fasilitas, Nomor Rekening Fasilitas, Nomor Rekening Lama Fasilitas, Nomor CIF Debitur, Kode Sifat Kredit atau Pembiayaan, Kode Jenis Kredit atau Pembiayaan, Kode Akad Kredit atau Akad Pembiayaan, Nomor Akad Awal, Tanggal Akad Awal, Nomor Akad Akhir, Tanggal Akad Akhir, Frekuensi Perpanjangan Fasilitas Kredit atau Pembiayaan, Tanggal Awal Kredit atau Pembiayaan, Tanggal Mulai, Tanggal Jatuh Tempo, Kode Kategori Debitur, Kode Jenis Penggunaan, Kode Orientasi Penggunaan, Kode Sektor Ekonomi, Kode Kabupaten atau Kota Lokasi Proyek atau Penggunaan Kredit atau Pembiayaan, Nilai Proyek, Kode Valuta, Suku Bunga atau Imbalan, Jenis Suku Bunga atau Imbalan, Kredit atau Pembiayaan Program Pemerintah, Plafon Awal, Plafon, Realisasi atau Pencairan Bulan Berjalan, Denda, Baki Debet, Nilai dalam Mata Uang Asal, Kode Kualitas Kredit atau Pembiayaan, Tanggal Macet, Kode Sebab Macet, Tunggakan Pokok, Tunggakan Bunga atau Imbalan, Jumlah Hari Tunggakan, Frekuensi Tunggakan, Frekuensi Restrukturisasi, Tanggal Restrukturisasi Awal, Tanggal Restrukturisasi Akhir, Kode Cara Restrukturisasi, Kode Kondisi, Tanggal Kondisi, Keterangan, Kode Kantor Cabang, Operasi Data, Status delete, Create Date, Update Date]\n",
       "Index: []\n",
       "\n",
       "[0 rows x 53 columns]"
      ]
     },
     "execution_count": 71,
     "metadata": {},
     "output_type": "execute_result"
    }
   ],
   "source": [
    "F01_sent[F01_sent['Denda']==\"\"]"
   ]
  },
  {
   "cell_type": "code",
   "execution_count": 72,
   "metadata": {},
   "outputs": [
    {
     "data": {
      "text/html": [
       "<div>\n",
       "<style scoped>\n",
       "    .dataframe tbody tr th:only-of-type {\n",
       "        vertical-align: middle;\n",
       "    }\n",
       "\n",
       "    .dataframe tbody tr th {\n",
       "        vertical-align: top;\n",
       "    }\n",
       "\n",
       "    .dataframe thead th {\n",
       "        text-align: right;\n",
       "    }\n",
       "</style>\n",
       "<table border=\"1\" class=\"dataframe\">\n",
       "  <thead>\n",
       "    <tr style=\"text-align: right;\">\n",
       "      <th></th>\n",
       "      <th>Denda</th>\n",
       "      <th>Kode Kondisi</th>\n",
       "    </tr>\n",
       "  </thead>\n",
       "  <tbody>\n",
       "  </tbody>\n",
       "</table>\n",
       "</div>"
      ],
      "text/plain": [
       "Empty DataFrame\n",
       "Columns: [Denda, Kode Kondisi]\n",
       "Index: []"
      ]
     },
     "execution_count": 72,
     "metadata": {},
     "output_type": "execute_result"
    }
   ],
   "source": [
    "F01_sent[(F01_sent['Denda']>0) & (F01_sent['Kode Kondisi']=='01')][['Denda','Kode Kondisi']]"
   ]
  },
  {
   "cell_type": "code",
   "execution_count": 73,
   "metadata": {},
   "outputs": [
    {
     "data": {
      "text/html": [
       "<div>\n",
       "<style scoped>\n",
       "    .dataframe tbody tr th:only-of-type {\n",
       "        vertical-align: middle;\n",
       "    }\n",
       "\n",
       "    .dataframe tbody tr th {\n",
       "        vertical-align: top;\n",
       "    }\n",
       "\n",
       "    .dataframe thead th {\n",
       "        text-align: right;\n",
       "    }\n",
       "</style>\n",
       "<table border=\"1\" class=\"dataframe\">\n",
       "  <thead>\n",
       "    <tr style=\"text-align: right;\">\n",
       "      <th></th>\n",
       "      <th>Tanggal Jatuh Tempo</th>\n",
       "      <th>Tanggal Mulai</th>\n",
       "      <th>Kode Kondisi</th>\n",
       "    </tr>\n",
       "  </thead>\n",
       "  <tbody>\n",
       "  </tbody>\n",
       "</table>\n",
       "</div>"
      ],
      "text/plain": [
       "Empty DataFrame\n",
       "Columns: [Tanggal Jatuh Tempo, Tanggal Mulai, Kode Kondisi]\n",
       "Index: []"
      ]
     },
     "execution_count": 73,
     "metadata": {},
     "output_type": "execute_result"
    }
   ],
   "source": [
    "F01_sent[F01_sent['Tanggal Jatuh Tempo'].isna() | F01_sent['Tanggal Mulai'].isna()][['Tanggal Jatuh Tempo','Tanggal Mulai','Kode Kondisi']]"
   ]
  },
  {
   "cell_type": "code",
   "execution_count": null,
   "metadata": {},
   "outputs": [],
   "source": []
  }
 ],
 "metadata": {
  "kernelspec": {
   "display_name": "Python 3",
   "language": "python",
   "name": "python3"
  },
  "language_info": {
   "codemirror_mode": {
    "name": "ipython",
    "version": 3
   },
   "file_extension": ".py",
   "mimetype": "text/x-python",
   "name": "python",
   "nbconvert_exporter": "python",
   "pygments_lexer": "ipython3",
   "version": "3.7.3"
  },
  "toc-autonumbering": true,
  "toc-showmarkdowntxt": false
 },
 "nbformat": 4,
 "nbformat_minor": 4
}
