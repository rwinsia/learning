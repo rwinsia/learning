{
 "cells": [
  {
   "cell_type": "code",
   "execution_count": 2,
   "metadata": {},
   "outputs": [],
   "source": [
    "# {\n",
    "# 'pop':'income',\n",
    "# 'lifeExp':'number_of_low_risk_lifestyle_apps',\n",
    "# 'gdpPercap':'number_of_low_risk_loan_apps'\n",
    "# 'pop':'number_of_high_risk_games',\n",
    "# 'lifeExp':'length_of_employment',\n",
    "# 'gdpPercap':'question_of_other_loan'\n",
    "# 'pop':'age',\n",
    "# 'lifeExp':'gender',\n",
    "# 'gdpPercap':'average_balance_last_three_months'\n",
    "# 'pop':'number_of_p2p_payment_received',\n",
    "# 'lifeExp':'number_of_matched_phone_numbers',\n",
    "# 'gdpPercap':'number_of_online_transactions_in_last_3_months'\n",
    "# 'pop':'time_filling_the_apps',\n",
    "# 'lifeExp':'number_of_low_risk_wifi_ssid',\n",
    "# 'gdpPercap':'count_rejected_or_not_qualified_prev_application_by_device_id'\n",
    "# 'pop':'count_prev_applications_distinct_phone_number_by_device_id',\n",
    "# 'lifeExp':'count_rejected_or_not_qualified_prev_application_by_nik'\n",
    "# }"
   ]
  },
  {
   "cell_type": "code",
   "execution_count": 2,
   "metadata": {},
   "outputs": [],
   "source": [
    "import pandas as pd\n",
    "import numpy as np\n",
    "import json\n",
    "from sklearn.linear_model import LogisticRegression\n",
    "from sklearn.pipeline import make_pipeline,Pipeline\n",
    "from sklearn.model_selection import cross_val_score,StratifiedShuffleSplit,StratifiedKFold\n",
    "from sklearn.metrics import roc_auc_score,precision_score,recall_score,confusion_matrix,f1_score\n",
    "from statsmodels.stats.outliers_influence import variance_inflation_factor\n",
    "from statsmodels.tools.tools import add_constant\n",
    "from xgboost import XGBClassifier,plot_importance\n",
    "from datetime import datetime, timedelta\n",
    "import re\n",
    "import ipywidgets as widgets\n",
    "from ipywidgets import interact,interactive\n",
    "import os,sys\n",
    "import pickle\n",
    "import warnings\n",
    "warnings.filterwarnings('ignore')\n",
    "autostats_lib = \"/home/jupyter/artemis/autostats\"\n",
    "if autostats_lib not in sys.path:\n",
    "    sys.path.append(autostats_lib)\n",
    "# import preprocessing.woe_transform as tf\n",
    "# import redashrefresh as rf\n",
    "# import pandas_profiling\n",
    "import time\n",
    "#import datetime as dt\n",
    "%load_ext google.cloud.bigquery\n",
    "import os\n",
    "os.environ[\"GOOGLE_APPLICATION_CREDENTIALS\"] = \"/home/jupyter/workspace/automatic-pancake/data-jupyter-notebook@athena-179008.json\""
   ]
  },
  {
   "cell_type": "code",
   "execution_count": 4,
   "metadata": {},
   "outputs": [],
   "source": [
    "%%bigquery F01new\n",
    "\n",
    "with provision as ( select cast((JSON_EXTRACT_SCALAR(`provision`, '$.value')) AS NUMERIC) as `provision`, `id` from `vayu.indodana_athena_rates` ) ,\n",
    "disbursements as (\n",
    "select contractId, max(disbursedDate) disbursedDate\n",
    "from vayu.indodana_athena_disbursements\n",
    "where status in ('COMPLETED','APPROVED')\n",
    "group by 1\n",
    ")\n",
    ",\n",
    "user_virtual_account as (\n",
    "select `userId`, `virtualAccountNumber`\n",
    "from vayu.indodana_athena_virtual_accounts\n",
    "where `virtualAccountBank` = 'BCA'\n",
    "),\n",
    "payment as (select\n",
    "`contractId`,\n",
    "`paymentProviderReceivedDate`,\n",
    "`paymentProvider`,\n",
    "`principal`,\n",
    "`interest`,\n",
    "`dueDate`,\n",
    "row_number() over(partition by `contractId` order by `paymentProviderReceivedDate` asc) as `rank`\n",
    "from vayu.indodana_athena_user_payments\n",
    "where `paymentProvider` <> 'WAIVER'\n",
    "),\n",
    "     payment_detail AS (--dipisahkan antara pembayaran yg sudah terjadi dari awal bulan lalu hingga saat ini dengan pembayaran yg masih aktif\n",
    "\n",
    "                          (SELECT C.`approvedDate`,\n",
    "                                  c.`updatedAt`,\n",
    "                                  C.`applicationOrderId` AS `Order_Id`,\n",
    "                                  C.`id` AS `contract_Id`,\n",
    "                                  C.`status`,\n",
    "                                  C.`approvedLoanAmount`*`provision` AS `approvedLoanAmount`,\n",
    "                                  C.`approvedLoanTenureInMonth`,\n",
    "                                  `rank` AS `payment`,\n",
    "                                  C.`lateFee`,\n",
    "                                  C.`latePaymentCount`,\n",
    "                                  P.`principal`,\n",
    "                                  P.`principal` + P.`interest` AS `installment`,\n",
    "                                  P.`principal` + P.`interest` AS `balanceplusinterest`,\n",
    "                                  CASE\n",
    "                                      WHEN date(timestamp_add(`paymentProviderReceivedDate`, INTERVAL 7 HOUR)) >= (date_trunc(CURRENT_DATE(), MONTH)) \n",
    "                                        THEN (date_trunc(CURRENT_DATE(), MONTH))\n",
    "                                      ELSE  date(timestamp_add(`paymentProviderReceivedDate`, INTERVAL 7 HOUR))\n",
    "                                  END AS `PaymentDate` /*untuk membedakan pembayaran yg lebih dari akhir bulan*/,\n",
    "                                  date(`dueDate`) AS `dueDate`\n",
    "                           FROM `vayu.indodana_athena_contracts` C\n",
    "                           JOIN payment P ON C.`id` = P.`contractId`\n",
    "                           JOIN provision pr ON C.`rateId` = pr.`id`\n",
    "                           WHERE date(C.`approvedDate`) < date_trunc(CURRENT_DATE(), MONTH)\n",
    "                            --  AND (`paymentProviderReceivedDate` + interval '7 hours')::date >= date_trunc('month', CURRENT_DATE - interval '1 month')\n",
    "                             AND C.`status` IN ('ACTIVE',\n",
    "                                                'FINISHED')\n",
    "                             AND C.`applicationOrderId` NOT LIKE '%LOP-%')\n",
    "                        UNION DISTINCT\n",
    "                          (SELECT C.`approvedDate`,\n",
    "                                  c.`updatedAt`,\n",
    "                                  C.`applicationOrderId` AS `Order_Id`,\n",
    "                                  C.`id` AS `Contract_Id`,\n",
    "                                  C.`status`,\n",
    "                                  C.`approvedLoanAmount`*`provision` AS `approvedLoanAmount`,\n",
    "                                  C.`approvedLoanTenureInMonth`,\n",
    "                                  7 AS `payment`,\n",
    "                                  C.`lateFee`,\n",
    "                                  C.`latePaymentCount`,\n",
    "                                  C.`balance` AS `principal`,\n",
    "                                  C.`principal` + C.`interest` AS `installment`,\n",
    "                                  C.`balanceWithInterest` AS `balanceplusinterest`,\n",
    "                                  date_trunc(CURRENT_DATE(), MONTH) AS `PaymentDate`/*semua pembayaran aktif diset tgl pembayarannya*/,\n",
    "                                  date(C.`nextDueDate`) AS `dueDate`\n",
    "                           FROM `vayu.indodana_athena_contracts` C\n",
    "                           JOIN `provision` pr ON c.`rateId` = pr.`id`\n",
    "                           WHERE date(C.`approvedDate`) < date_trunc(CURRENT_DATE(), MONTH)\n",
    "                             AND C.`status` = 'ACTIVE'\n",
    "                             AND C.`applicationOrderId` NOT LIKE '%LOP-%')),\n",
    "datalastmonth AS\n",
    "  (SELECT pd.*, --dpd s.d. akhir bulan\n",
    " CASE\n",
    "\n",
    "     WHEN `PaymentDate` <= date_trunc(date_add(CURRENT_DATE(), interval -1 day), MONTH) THEN date_diff(`PaymentDate`,`dueDate`, DAY)\n",
    "     ELSE date_diff(date_trunc(date_add(CURRENT_DATE(), interval -1 day), MONTH), `dueDate`, DAY)\n",
    " END AS `dpdLM`\n",
    "   FROM payment_detail pd),\n",
    "     lastmonthactive AS\n",
    "  (SELECT Order_Id,\n",
    "          Contract_Id,\n",
    "          lateFee,\n",
    "          latePaymentCount,\n",
    "          CASE\n",
    "              WHEN status = 'FINISHED' THEN 'ACTIVE'\n",
    "              ELSE status\n",
    "          END AS status,\n",
    "          approvedLoanAmount,\n",
    "          MIN(payment) AS payment,\n",
    "          SUM(principal) AS principalpaidafter,\n",
    "          SUM(balanceplusinterest) AS balanceplusinterest,\n",
    "          MIN(PaymentDate) AS tgl\n",
    "   FROM datalastmonth\n",
    "   WHERE PaymentDate > date_add(date_trunc(CURRENT_DATE, MONTH), interval -1 day)\n",
    "   GROUP BY 1,\n",
    "            2,\n",
    "            3,\n",
    "            4,\n",
    "            5,\n",
    "            6)\n",
    "            ,\n",
    "     lastmonthfinished AS\n",
    "  (SELECT Order_Id,\n",
    "          Contract_Id,\n",
    "          lateFee,\n",
    "          latePaymentCount,\n",
    "          status,\n",
    "          approvedLoanAmount,\n",
    "          MAX(payment) AS payment,\n",
    "          0 AS principalpaidafter,\n",
    "          0 AS balanceplusinterest,\n",
    "          MAX(PaymentDate) AS tgl\n",
    "   FROM datalastmonth\n",
    "   WHERE Order_Id NOT IN\n",
    "       (SELECT DISTINCT Order_Id\n",
    "        FROM lastmonthactive)\n",
    "   GROUP BY 1,\n",
    "            2,\n",
    "            3,\n",
    "            4,\n",
    "            5,\n",
    "            6)\n",
    "            ,\n",
    "     `pefindo_data` AS (\n",
    "                          (SELECT lmf.`Order_Id`,\n",
    "                                  lmf.`Contract_Id`,\n",
    "                                  lmf.`status`,\n",
    "                                  lmf.`lateFee`,\n",
    "                                  lmf.`latePaymentCount`,\n",
    "                                  lmf.`approvedLoanAmount`,\n",
    "                                  lmf.`principalpaidafter` AS `balance`,\n",
    "                                  lmf.`balanceplusinterest`,\n",
    "                                  `installment`,\n",
    "                                  `tgl` AS `paidoffdate`,\n",
    "                                  `dueDate` AS `tgl`,\n",
    "                                  `dpdLM`,\n",
    "                                  `approvedDate`,\n",
    "                                  `updatedAt`,\n",
    "                                  `approvedLoanTenureInMonth`\n",
    "                           FROM `lastmonthfinished` lmf\n",
    "                           JOIN `datalastmonth` dlm ON lmf.`Order_Id` = dlm.`Order_Id`\n",
    "                           AND lmf.`payment` = dlm.`payment`)\n",
    "                        UNION DISTINCT\n",
    "                          (SELECT lma.`Order_Id`,\n",
    "                                  lma.`Contract_Id`,\n",
    "                                  lma.`status`,\n",
    "                                  lma.`lateFee`,\n",
    "                                  lma.`latePaymentCount`,\n",
    "                                  lma.`approvedLoanAmount`,\n",
    "                                  lma.`principalpaidafter` AS `balance`,\n",
    "                                  lma.`balanceplusinterest`,\n",
    "                                  `installment`,\n",
    "                                  NULL AS `paidoffdate`,\n",
    "                                  `dueDate` AS `tgl`,\n",
    "                                  `dpdLM`,\n",
    "                                  `approvedDate`,\n",
    "                                  `updatedAt`,\n",
    "                                  `approvedLoanTenureInMonth`\n",
    "                           FROM `lastmonthactive` lma\n",
    "                           JOIN `datalastmonth` dlm ON lma.`Order_Id` = dlm.`Order_Id`\n",
    "                           AND lma.`payment` = dlm.`payment`))\n",
    "                          ,       \n",
    "   summary AS\n",
    "  (SELECT '0301' AS `Kode_Jenis_Pelapor`,\n",
    "          '900013' AS `Kode_Pelapor`,\n",
    "          FORMAT_DATE('%Y%m', CURRENT_DATE()) AS `Tahun_Bulan_Data`,\n",
    "          'F01' AS `Kode_Jenis_Fasilitas`,\n",
    "          a.`orderId` AS `Nomor_Rekening_Fasilitas`,\n",
    "          NULL AS `Nomor_Rekening_Lama_Fasilitas`,\n",
    "          replace(coalesce(uv.`virtualAccountNumber`,a.`applicantIdNumber`),'+','') AS `Nomor_CIF_Debitur`,\n",
    "          9 AS `Kode_Sifat_Kredit_atau_Pembiayaan`,\n",
    "          '05' AS `Kode_Jenis_Kredit_atau_Pembiayaan`,\n",
    "          '00' AS `Kode_Akad_Kredit_atau_Akad_Pembiayaan`,\n",
    "          a.`orderId` AS `Nomor_Akad_Awal`,\n",
    "          FORMAT_DATE('%Y%m%d', date(`approvedDate`)) AS `Tanggal_Akad_Awal`,\n",
    "          NULL AS `Nomor_Akad_Akhir`,\n",
    "          NULL AS `Tanggal_Akad_Akhir`,\n",
    "          0 AS `Frekuensi_Perpanjangan_Fasilitas_Kredit_atau_Pembiayaan`,\n",
    "          FORMAT_DATE('%Y%m%d', date(`approvedDate`)) AS `Tanggal_Awal_Kredit_atau_Pembiayaan`,\n",
    "          FORMAT_DATE('%Y%m%d', date(IC.`startDate`)) AS `Tanggal_Mulai`,\n",
    "          FORMAT_DATE('%Y%m%d', date_add(date(cast(EXTRACT(YEAR FROM `startDate`) as INT64),CAST(EXTRACT(MONTH FROM `startDate`) as INT64),`day`), interval `approvedLoanTenureInMonth` Month)) AS `Tanggal_Jatuh_Tempo`,\n",
    "          99 AS `Kode_Kategori_Debitur`,\n",
    "          CASE\n",
    "              WHEN A.`loanPurpose` = 'PENGEMBANGAN USAHA' THEN 2\n",
    "              ELSE 3\n",
    "          END AS `Kode_Jenis_Penggunaan`,\n",
    "          3 AS `Kode_Orientasi_Penggunaan`,\n",
    "          '009000' AS `Kode_Sektor_Ekonomi`,\n",
    "          CASE\n",
    "              WHEN A.`addressIsCurrentAddress` = 'Ya' THEN A.`applicantResidenceCity`\n",
    "              ELSE A.`applicantCurrentResidenceCity`\n",
    "          END AS `City`,\n",
    "          CASE\n",
    "              WHEN a.`loanPurpose` = 'PENGEMBANGAN USAHA' THEN `loanAmount`\n",
    "              ELSE NULL\n",
    "          END AS `Nilai_Proyek`,\n",
    "          'IDR' AS `Kode_Valuta`,\n",
    "          0.96 AS `Suku_Bunga_atau_Imbalan`,\n",
    "          1 AS `Jenis_Suku_Bunga_atau_Imbalan`,\n",
    "          '001' AS `Kredit_atau_Pembiayaan_Program_Pemerintah`,\n",
    "          pd.`approvedLoanAmount` AS `Plafon_Awal`,\n",
    "          pd.`approvedLoanAmount` AS `Plafon`,\n",
    "          pd.`approvedLoanAmount` AS `Realisasi_atau_Pencairan_Bulan_Berjalan`,\n",
    "          `lateFee` `Denda`,\n",
    "          `balance` AS `Baki_Debet`,\n",
    "          NULL AS `Nilai_dalam_Mata_Uang_Asal`,\n",
    "          CASE\n",
    "              WHEN `dpdLM` < 1 THEN 1\n",
    "              WHEN `dpdLM` <= 90 THEN 2\n",
    "              WHEN `dpdLM` <= 120 THEN 3\n",
    "              WHEN `dpdLM` <= 180 THEN 4\n",
    "              WHEN `dpdLM` > 180 THEN 5\n",
    "              ELSE 1\n",
    "          END AS `Kode_Kualitas_Kredit_atau_Pembiayaan`,\n",
    "          CASE\n",
    "              WHEN `dpdLM` > 180 THEN FORMAT_DATE('%Y%m%d', date_add(`tgl`, interval 180 DAY))\n",
    "              ELSE NULL\n",
    "          END AS `Tanggal_Macet`,\n",
    "          CASE\n",
    "              WHEN `dpdLM` > 180 THEN 99\n",
    "              ELSE NULL\n",
    "          END AS `Kode_Sebab_Macet`,\n",
    "          pd.`balance` AS `Tunggakan_Pokok`,\n",
    "          0 AS `Tunggakan_Bunga_atau_Imbalan`,\n",
    "          CASE\n",
    "              WHEN `dpdLM` > 0 THEN `dpdLM`\n",
    "              ELSE 0\n",
    "          END AS `Jumlah_Hari_Tunggakan`,\n",
    "          `latePaymentCount` AS `Frekuensi_Tunggakan`,\n",
    "          0 AS `Frekuensi_Restrukturisasi`,\n",
    "          '' AS `Tanggal_Restrukturisasi_Awal`,\n",
    "          '' AS `Tanggal_Restrukturisasi_Akhir`,\n",
    "          '' AS `Kode_Cara_Restrukturisasi`,\n",
    "          CASE\n",
    "              WHEN pd.`status` IN ('WAITING_FOR_DISBURSEMENT',\n",
    "                                  'ACTIVE') THEN '00'\n",
    "              WHEN pd.`status` = 'FINISHED' THEN '02'\n",
    "          END AS `Kode_Kondisi`,\n",
    "          CASE\n",
    "              WHEN pd.`status` NOT IN ('WAITING_FOR_DISBURSEMENT',\n",
    "                                      'ACTIVE') THEN pd.`updatedAt`\n",
    "              ELSE NULL\n",
    "          END AS `Tanggal_Kondisi`,\n",
    "          NULL AS `Keterangan`,\n",
    "          '000' AS `Kode_Kantor_Cabang`,\n",
    "          'C' AS `Operasi_Data`,\n",
    "          'T' AS `Status_delete`,\n",
    "          FORMAT_TIMESTAMP('%Y%m%d%H%M%S', `approvedDate`) AS `Create_Date`,\n",
    "          FORMAT_TIMESTAMP('%Y%m%d%H%M%S', pd.`updatedAt`) AS `Update_Date`\n",
    "  FROM pefindo_data pd\n",
    "  INNER JOIN vayu.indodana_athena_applications A ON pd.`Order_Id` = A.`orderId`\n",
    "  INNER JOIN disbursements D ON pd.`Contract_Id` = D.`contractId`\n",
    "  INNER JOIN vayu.indodana_athena_installment_commitments ic ON pd.`Contract_Id` = ic.`contractId`\n",
    "  INNER JOIN user_virtual_account uv ON A.`userId` = uv.`userId`\n",
    "   UNION DISTINCT SELECT '0301' AS `Kode_Jenis_Pelapor`,\n",
    "                '900013' AS `Kode_Pelapor`,\n",
    "                FORMAT_DATE('%Y%m',CURRENT_DATE()) AS `Tahun_Bulan_Data`,\n",
    "                'F01' AS `Kode_Jenis_Fasilitas`,\n",
    "                a.`orderId` AS `Nomor_Rekening_Fasilitas`,\n",
    "                NULL AS `Nomor_Rekening_Lama_Fasilitas`,\n",
    "                replace(coalesce(uv.`virtualAccountNumber`,a.`applicantIdNumber`),'+','') AS `Nomor_CIF_Debitur`,\n",
    "                9 AS `Kode Sifat Kredit_atau_Pembiayaan`,\n",
    "                '05' AS `Kode_Jenis_Kredit_atau_Pembiayaan`,\n",
    "                '00' AS `Kode Akad Kredit atau Akad Pembiayaan`,\n",
    "                a.`orderId` AS `Nomor_Akad_Awal`,\n",
    "                FORMAT_DATE('%Y%m%d',date(`approvedDate`)) AS `Tanggal Akad Awal`,\n",
    "                NULL AS `Nomor_Akad_Akhir`,\n",
    "                NULL AS `Tanggal_Akad_Akhir`,\n",
    "                0 AS `Frekuensi_Perpanjangan_Fasilitas_Kredit_atau_Pembiayaan`,\n",
    "                FORMAT_DATE('%Y%m%d', date(C.`approvedDate`)) AS `Tanggal_Awal_Kredit_atau_Pembiayaan`,\n",
    "                FORMAT_DATE('%Y%m%d', date(IC.`startDate`)) AS `Tanggal_Mulai`,\n",
    "                FORMAT_DATE('%Y%m%d', date_add(date(cast(EXTRACT(YEAR FROM `startDate`) as INT64),CAST(EXTRACT(MONTH FROM `startDate`) as INT64),`day`), interval `approvedLoanTenureInMonth` Month)) AS `Tanggal_Jatuh_Tempo`,\n",
    "                99 AS `Kode_Kategori_Debitur`,\n",
    "                CASE\n",
    "                    WHEN A.`loanPurpose` = 'PENGEMBANGAN USAHA' THEN 2\n",
    "                    ELSE 3\n",
    "                END AS `Kode_Jenis_Penggunaan`,\n",
    "                3 AS `Kode_Orientasi_Penggunaan`,\n",
    "                '009000' AS `Kode_Sektor_Ekonomi`,\n",
    "                CASE\n",
    "                    WHEN A.`addressIsCurrentAddress` = 'Ya' THEN A.`applicantResidenceCity`\n",
    "                    ELSE A.`applicantCurrentResidenceCity`\n",
    "                END AS `City`,\n",
    "                CASE\n",
    "                    WHEN a.`loanPurpose` = 'PENGEMBANGAN USAHA' THEN `loanAmount`\n",
    "                    ELSE NULL\n",
    "                END AS `Nilai_Proyek`,\n",
    "                'IDR' AS `Kode_Valuta`,\n",
    "                0.96 AS `Suku_Bunga_atau_Imbalan`,\n",
    "                1 AS `Jenis_Suku_Bunga_atau_Imbalan`,\n",
    "                '001' AS `Kredit atau Pembiayaan Program Pemerintah`,\n",
    "                C.`approvedLoanAmount`*P.`provision` AS `Plafon Awal`,\n",
    "                C.`approvedLoanAmount`*P.`provision` AS `Plafon`,\n",
    "                C.`approvedLoanAmount`*P.`provision` AS `Realisasi atau Pencairan Bulan Berjalan`,\n",
    "                0 `Denda`,\n",
    "                0 AS `Baki Debet`,\n",
    "                NULL AS `Nilai_dalam_Mata_Uang_Asal`,\n",
    "                1 AS `Kode_Kualitas_Kredit_atau_Pembiayaan `,\n",
    "                NULL AS `Tanggal_Macet`,\n",
    "                NULL AS `Kode_Sebab_Macet`,\n",
    "                0 AS `Tunggakan_Pokok`,\n",
    "                0 AS `Tunggakan_Bunga_atau_Imbalan`,\n",
    "                0 AS `Jumlah_Hari_Tunggakan`,\n",
    "                0 AS `Frekuensi_Tunggakan`,\n",
    "                0 AS `Frekuensi_Restrukturisasi`,\n",
    "                '' AS `Tanggal_Restrukturisasi_Awal`,\n",
    "                '' AS `Tanggal_Restrukturisasi_Akhir`,\n",
    "                '' AS `Kode_Cara_Restrukturisasi`,\n",
    "                '01' AS `Kode_Kondisi`,\n",
    "                c.`updatedAt` `Tanggal_Kondisi`,\n",
    "                NULL AS `Keterangan`,\n",
    "                '000' AS `Kode Kantor Cabang`,\n",
    "                'C' AS `Operasi Data`,\n",
    "                'T' AS `Status delete`,\n",
    "                FORMAT_TIMESTAMP('%Y%m%d%H%M%S', (c.`createdAt`)) AS `Create Date`,\n",
    "                FORMAT_TIMESTAMP('%Y%m%d%H%M%S', (c.`updatedAt`)) AS `Update Date`\n",
    "   FROM `vayu.indodana_athena_contracts` C\n",
    "   JOIN `vayu.indodana_athena_applications` A ON C.`applicationOrderId` = A.`orderId`\n",
    "   JOIN `vayu.indodana_athena_installment_commitments` IC ON C.`id` = IC.`contractId`\n",
    "   JOIN `provision` P ON C.`rateId` = P.`id`\n",
    "   JOIN `user_virtual_account` uv ON A.`userId` = uv.`userId`\n",
    "   WHERE date(`approvedDate`) < date_trunc(CURRENT_DATE, MONTH)\n",
    "    --  AND `approvedDate` >= date_trunc('month',CURRENT_DATE - interval '1 month')\n",
    "     AND C.`status` IN ('REJECTED',\n",
    "                        'CANCELLED') )                      \n",
    "\n",
    "select\n",
    "`Kode_Jenis_Pelapor`,\n",
    "`Kode_Pelapor`,\n",
    "`Tahun_Bulan_Data`,\n",
    "`Kode_Jenis_Fasilitas`,\n",
    "`Nomor_Rekening_Fasilitas`,\n",
    "`Nomor_Rekening_Lama_Fasilitas`,\n",
    "`Nomor_CIF_Debitur`,\n",
    "`Kode_Sifat_Kredit_atau_Pembiayaan`,\n",
    "`Kode_Jenis_Kredit_atau_Pembiayaan`,\n",
    "`Kode_Akad_Kredit_atau_Akad_Pembiayaan`,\n",
    "`Nomor_Akad_Awal`,\n",
    "`Tanggal_Akad_Awal`,\n",
    "`Nomor_Akad_Akhir`,\n",
    "`Tanggal_Akad_Akhir`,\n",
    "`Frekuensi_Perpanjangan_Fasilitas_Kredit_atau_Pembiayaan`,\n",
    "`Tanggal_Awal_Kredit_atau_Pembiayaan`,\n",
    "`Tanggal_Mulai`,\n",
    "`Tanggal_Jatuh_Tempo`,\n",
    "`Kode_Kategori_Debitur`,\n",
    "`Kode_Jenis_Penggunaan`,\n",
    "`Kode_Orientasi_Penggunaan`,\n",
    "`Kode_Sektor_Ekonomi`,\n",
    "case\n",
    "WHEN`City` = 'PROVINSI JAWA BARAT' then '0100'\n",
    "WHEN`City` = 'KABUPATEN BEKASI' then '0102'\n",
    "WHEN`City` = 'KABUPATEN PURWAKARTA' then '0103'\n",
    "WHEN`City` = 'KABUPATEN KARAWANG' then '0106'\n",
    "WHEN`City` = 'KABUPATEN BOGOR' then '0108'\n",
    "WHEN`City` = 'BOGOR' then '0108'\n",
    "WHEN`City` = 'KABUPATEN SUKABUMI' then '0109'\n",
    "WHEN`City` = 'KABUPATEN CIANJUR' then '0110'\n",
    "WHEN`City` = 'KABUPATEN BANDUNG' then '0111'\n",
    "WHEN`City` = 'KABUPATEN SUMEDANG' then '0112'\n",
    "WHEN`City` = 'KABUPATEN TASIKMALAYA' then '0113'\n",
    "WHEN`City` = 'KABUPATEN GARUT' then '0114'\n",
    "WHEN`City` = 'KABUPATEN CIAMIS' then '0115'\n",
    "WHEN`City` = 'KABUPATEN CIREBON' then '0116'\n",
    "WHEN`City` = 'KABUPATEN KUNINGAN' then '0117'\n",
    "WHEN`City` = 'KABUPATEN INDRAMAYU' then '0118'\n",
    "WHEN`City` = 'KABUPATEN MAJALENGKA' then '0119'\n",
    "WHEN`City` = 'KABUPATEN SUBANG' then '0121'\n",
    "WHEN`City` = 'KABUPATEN BANDUNG BARAT' then '0122'\n",
    "WHEN`City` = 'KOTA BANJAR' then '0180'\n",
    "WHEN`City` = 'KOTA BANDUNG' then '0191'\n",
    "WHEN`City` = 'KOTA BOGOR' then '0192'\n",
    "WHEN`City` = 'KOTA SUKABUMI' then '0193'\n",
    "WHEN`City` = 'KOTA CIREBON' then '0194'\n",
    "WHEN`City` = 'KOTA TASIKMALAYA' then '0195'\n",
    "WHEN`City` = 'KOTA CIMAHI' then '0196'\n",
    "WHEN`City` = 'KOTA DEPOK' then '0197'\n",
    "WHEN`City` = 'KOTA BEKASI' then '0198'\n",
    "WHEN`City` = 'KABUPATEN PANGANDARAN' then '0123'\n",
    "WHEN`City` = 'PROVINSI BANTEN' then '0200'\n",
    "WHEN`City` = 'KABUPATEN LEBAK' then '0201'\n",
    "WHEN`City` = 'KABUPATEN PANDEGLANG' then '0202'\n",
    "WHEN`City` = 'KABUPATEN SERANG' then '0203'\n",
    "WHEN`City` = 'KABUPATEN TANGERANG' then '0204'\n",
    "WHEN`City` = 'KOTA CILEGON' then '0291'\n",
    "WHEN`City` = 'KOTA TANGERANG' then '0292'\n",
    "WHEN`City` = 'KOTA SERANG' then '0293'\n",
    "WHEN`City` = 'KOTA TANGERANG SELATAN' then '0294'\n",
    "WHEN`City` = 'KOTA BANTEN' then '0294'\n",
    "WHEN`City` = 'PROVINSI DKI JAYA' then '0300'\n",
    "WHEN`City` = 'KOTA JAKARTA PUSAT' then '0391'\n",
    "WHEN`City` = 'KOTA JAKARTA UTARA' then '0392'\n",
    "WHEN`City` = 'KOTA JAKARTA BARAT' then '0393'\n",
    "WHEN`City` = 'KOTA JAKARTA SELATAN' then '0394'\n",
    "WHEN`City` = 'KOTA ADM. JAKARTA SELATAN' then '0394'\n",
    "WHEN`City` = 'KOTA JAKARTA TIMUR' then '0395'\n",
    "WHEN`City` = 'KEPULAUAN SERIBU' then '0396'\n",
    "WHEN`City` = 'KABUPATEN KEPULAUAN SERIBU' then '0396'\n",
    "WHEN`City` = 'DAERAH ISTIMEWA YOGYAKARTA' then '0500'\n",
    "WHEN`City` = 'KABUPATEN BANTUL' then '0501'\n",
    "WHEN`City` = 'KABUPATEN SLEMAN' then '0502'\n",
    "WHEN`City` = 'KABUPATEN GUNUNG KIDUL' then '0503'\n",
    "WHEN`City` = 'KABUPATEN KULON PROGO' then '0504'\n",
    "WHEN`City` = 'KOTA YOGYAKARTA' then '0591'\n",
    "WHEN`City` = 'KABUPATEN PEKALONGAN' then '0905'\n",
    "WHEN`City` = 'KABUPATEN TEGAL' then '0906'\n",
    "WHEN`City` = 'KABUPATEN BREBES' then '0907'\n",
    "WHEN`City` = 'KABUPATEN PATI' then '0908'\n",
    "WHEN`City` = 'KABUPATEN KUDUS' then '0909'\n",
    "WHEN`City` = 'KABUPATEN PEMALANG' then '0910'\n",
    "WHEN`City` = 'KABUPATEN JEPARA' then '0911'\n",
    "WHEN`City` = 'KABUPATEN REMBANG' then '0912'\n",
    "WHEN`City` = 'KABUPATEN BLORA' then '0913'\n",
    "WHEN`City` = 'KABUPATEN BANYUMAS' then '0914'\n",
    "WHEN`City` = 'KABUPATEN CILACAP' then '0915'\n",
    "WHEN`City` = 'KABUPATEN PURBALINGGA' then '0916'\n",
    "WHEN`City` = 'KABUPATEN BANJARNEGARA' then '0917'\n",
    "WHEN`City` = 'KABUPATEN MAGELANG' then '0918'\n",
    "WHEN`City` = 'KABUPATEN TEMANGGUNG' then '0919'\n",
    "WHEN`City` = 'KABUPATEN WONOSOBO' then '0920'\n",
    "WHEN`City` = 'KABUPATEN PURWOREJO' then '0921'\n",
    "WHEN`City` = 'KABUPATEN KEBUMEN' then '0922'\n",
    "WHEN`City` = 'KABUPATEN KLATEN' then '0923'\n",
    "WHEN`City` = 'KABUPATEN BOYOLALI' then '0924'\n",
    "WHEN`City` = 'KABUPATEN SRAGEN' then '0925'\n",
    "WHEN`City` = 'KABUPATEN SUKOHARJO' then '0926'\n",
    "WHEN`City` = 'KABUPATEN KARANGANYAR' then '0927'\n",
    "WHEN`City` = 'KABUPATEN WONOGIRI' then '0928'\n",
    "WHEN`City` = 'KABUPATEN BATANG' then '0929'\n",
    "WHEN`City` = 'KOTA SEMARANG' then '0991'\n",
    "WHEN`City` = 'KOTA SALATIGA' then '0992'\n",
    "WHEN`City` = 'KOTA PEKALONGAN' then '0993'\n",
    "WHEN`City` = 'KOTA TEGAL' then '0994'\n",
    "WHEN`City` = 'KOTA MAGELANG' then '0995'\n",
    "WHEN`City` = 'KOTA SURAKARTA' then '0996'\n",
    "WHEN`City` = 'KOTA SOLO' then '0996'\n",
    "WHEN`City` = 'KABUPATEN GROBOGAN' then '0904'\n",
    "WHEN`City` = 'PROVINSI JAWA TENGAH' then '0900'\n",
    "WHEN`City` = 'KABUPATEN SEMARANG' then '0901'\n",
    "WHEN`City` = 'KABUPATEN KENDAL' then '0902'\n",
    "WHEN`City` = 'KABUPATEN DEMAK' then '0903'\n",
    "WHEN`City` = 'PROVINSI JAWA TIMUR' then '1200'\n",
    "WHEN`City` = 'KABUPATEN GRESIK' then '1201'\n",
    "WHEN`City` = 'KABUPATEN SIDOARJO' then '1202'\n",
    "WHEN`City` = 'KABUPATEN MOJOKERTO' then '1203'\n",
    "WHEN`City` = 'KABUPATEN JOMBANG' then '1204'\n",
    "WHEN`City` = 'KABUPATEN SAMPANG' then '1205'\n",
    "WHEN`City` = 'KABUPATEN PAMEKASAN' then '1206'\n",
    "WHEN`City` = 'KABUPATEN SUMENEP' then '1207'\n",
    "WHEN`City` = 'KABUPATEN BANGKALAN' then '1208'\n",
    "WHEN`City` = 'KABUPATEN BONDOWOSO' then '1209'\n",
    "WHEN`City` = 'KABUPATEN BANYUWANGI' then '1211'\n",
    "WHEN`City` = 'KABUPATEN JEMBER' then '1212'\n",
    "WHEN`City` = 'KABUPATEN MALANG' then '1213'\n",
    "WHEN`City` = 'KABUPATEN PASURUAN' then '1214'\n",
    "WHEN`City` = 'KABUPATEN PROBOLINGGO' then '1215'\n",
    "WHEN`City` = 'KABUPATEN LUMAJANG' then '1216'\n",
    "WHEN`City` = 'KABUPATEN KEDIRI' then '1217'\n",
    "WHEN`City` = 'KABUPATEN NGANJUK' then '1218'\n",
    "WHEN`City` = 'KABUPATEN TULUNGAGUNG' then '1219'\n",
    "WHEN`City` = 'KABUPATEN TRENGGALEK' then '1220'\n",
    "WHEN`City` = 'KABUPATEN BLITAR' then '1221'\n",
    "WHEN`City` = 'KABUPATEN MADIUN' then '1222'\n",
    "WHEN`City` = 'KABUPATEN NGAWI' then '1223'\n",
    "WHEN`City` = 'KABUPATEN MAGETAN' then '1224'\n",
    "WHEN`City` = 'KABUPATEN PONOROGO' then '1225'\n",
    "WHEN`City` = 'KABUPATEN PACITAN' then '1226'\n",
    "WHEN`City` = 'KABUPATEN BOJONEGORO' then '1227'\n",
    "WHEN`City` = 'KABUPATEN TUBAN' then '1228'\n",
    "WHEN`City` = 'KABUPATEN LAMONGAN' then '1229'\n",
    "WHEN`City` = 'KABUPATEN SITUBONDO' then '1230'\n",
    "WHEN`City` = 'KOTA BATU' then '1271'\n",
    "WHEN`City` = 'KOTA SURABAYA' then '1291'\n",
    "WHEN`City` = 'KOTA MOJOKERTO' then '1292'\n",
    "WHEN`City` = 'KOTA MALANG' then '1293'\n",
    "WHEN`City` = 'KOTA PASURUAN' then '1294'\n",
    "WHEN`City` = 'KOTA PROBOLINGGO' then '1295'\n",
    "WHEN`City` = 'KOTA BLITAR' then '1296'\n",
    "WHEN`City` = 'KOTA KEDIRI' then '1297'\n",
    "WHEN`City` = 'KOTA MADIUN' then '1298'\n",
    "WHEN`City` = 'PROVINSI BENGKULU' then '2300'\n",
    "WHEN`City` = 'KABUPATEN BENGKULU SELATAN' then '2301'\n",
    "WHEN`City` = 'KABUPATEN BENGKULU UTARA' then '2302'\n",
    "WHEN`City` = 'KABUPATEN REJANG LEBONG' then '2303'\n",
    "WHEN`City` = 'KABUPATEN LEBONG' then '2304'\n",
    "WHEN`City` = 'KABUPATEN KEPAHIANG' then '2305'\n",
    "WHEN`City` = 'KABUPATEN MUKOMUKO' then '2306'\n",
    "WHEN`City` = 'KABUPATEN SELUMA' then '2307'\n",
    "WHEN`City` = 'KABUPATEN KAUR' then '2308'\n",
    "WHEN`City` = 'KABUPATEN BENGKULU TENGAH' then '2309'\n",
    "WHEN`City` = 'KOTA BENGKULU' then '2391'\n",
    "WHEN`City` = 'PROVINSI JAMBI' then '3100'\n",
    "WHEN`City` = 'KABUPATEN BATANGHARI' then '3101'\n",
    "WHEN`City` = 'KABUPATEN SAROLANGUN' then '3104'\n",
    "WHEN`City` = 'KABUPATEN KERINCI' then '3105'\n",
    "WHEN`City` = 'KABUPATEN MUARO JAMBI' then '3106'\n",
    "WHEN`City` = 'KABUPATEN TANJUNG JABUNG BARAT' then '3107'\n",
    "WHEN`City` = 'KABUPATEN TANJUNG JABUNG TIMUR' then '3108'\n",
    "WHEN`City` = 'KABUPATEN TEBO' then '3109'\n",
    "WHEN`City` = 'KABUPATEN MERANGIN' then '3111'\n",
    "WHEN`City` = 'KABUPATEN BUNGO' then '3112'\n",
    "WHEN`City` = 'KOTA JAMBI' then '3191'\n",
    "WHEN`City` = 'KOTA SUNGAI PENUH' then '3192'\n",
    "WHEN`City` = 'PROVINSI NAD' then '3200'\n",
    "WHEN`City` = 'KABUPATEN ACEH BESAR' then '3201'\n",
    "WHEN`City` = 'KABUPATEN PIDIE' then '3202'\n",
    "WHEN`City` = 'KABUPATEN ACEH UTARA' then '3203'\n",
    "WHEN`City` = 'KABUPATEN ACEH TIMUR' then '3204'\n",
    "WHEN`City` = 'KABUPATEN ACEH SELATAN' then '3205'\n",
    "WHEN`City` = 'KABUPATEN ACEH BARAT' then '3206'\n",
    "WHEN`City` = 'KABUPATEN ACEH TENGAH' then '3207'\n",
    "WHEN`City` = 'KABUPATEN ACEH TENGGARA' then '3208'\n",
    "WHEN`City` = 'KABUPATEN ACEH SINGKIL' then '3209'\n",
    "WHEN`City` = 'KABUPATEN ACEH JEUMPA /BIREUEN' then '3210'\n",
    "WHEN`City` = 'KABUPATEN ACEH TAMIANG' then '3211'\n",
    "WHEN`City` = 'KABUPATEN GAYO LUWES' then '3212'\n",
    "WHEN`City` = 'KABUPATEN ACEH BARAT DAYA' then '3213'\n",
    "WHEN`City` = 'KABUPATEN ACEH JAYA' then '3214'\n",
    "WHEN`City` = 'KABUPATEN NAGAN RAYA' then '3215'\n",
    "WHEN`City` = 'KABUPATEN SIMEULEU' then '3216'\n",
    "WHEN`City` = 'KABUPATEN BENER MERIAH' then '3217'\n",
    "WHEN`City` = 'KABUPATEN PIDIE JAYA' then '3218'\n",
    "WHEN`City` = 'KABUPATEN SUBULUSSALAM' then '3219'\n",
    "WHEN`City` = 'KOTA BANDA ACEH' then '3291'\n",
    "WHEN`City` = 'KOTA SABANG' then '3292'\n",
    "WHEN`City` = 'KOTA LHOKSEUMAWE' then '3293'\n",
    "WHEN`City` = 'KOTA LANGSA' then '3294'\n",
    "WHEN`City` = 'PROVINSI SUMATERA UTARA' then '3300'\n",
    "WHEN`City` = 'KABUPATEN DELI SERDANG' then '3301'\n",
    "WHEN`City` = 'KABUPATEN LANGKAT' then '3302'\n",
    "WHEN`City` = 'KABUPATEN KARO' then '3303'\n",
    "WHEN`City` = 'KABUPATEN SIMALUNGUN' then '3304'\n",
    "WHEN`City` = 'KABUPATEN LABUHAN BATU' then '3305'\n",
    "WHEN`City` = 'KABUPATEN ASAHAN' then '3306'\n",
    "WHEN`City` = 'KABUPATEN DAIRI' then '3307'\n",
    "WHEN`City` = 'KABUPATEN TAPANULI UTARA' then '3308'\n",
    "WHEN`City` = 'KABUPATEN TAPANULI TENGAH' then '3309'\n",
    "WHEN`City` = 'KABUPATEN TAPANULI SELATAN' then '3310'\n",
    "WHEN`City` = 'KABUPATEN NIAS' then '3311'\n",
    "WHEN`City` = 'KABUPATEN TOBA SAMOSIR' then '3313'\n",
    "WHEN`City` = 'KABUPATEN MANDAILING NATAL' then '3314'\n",
    "WHEN`City` = 'KABUPATEN NIAS SELATAN' then '3315'\n",
    "WHEN`City` = 'KABUPATEN HUMBANG HASUNDUTAN' then '3316'\n",
    "WHEN`City` = 'KABUPATEN PAKPAK BHARAT' then '3317'\n",
    "WHEN`City` = 'KABUPATEN SAMOSIR' then '3318'\n",
    "WHEN`City` = 'KABUPATEN SERDANG BEDAGAI' then '3319'\n",
    "WHEN`City` = 'KABUPATEN BATU BARA' then '3321'\n",
    "WHEN`City` = 'KABUPATEN PADANG LAWAS' then '3322'\n",
    "WHEN`City` = 'KABUPATEN PADANG LAWAS UTARA' then '3323'\n",
    "WHEN`City` = 'KABUPATEN LABUANBATU SELATAN' then '3324'\n",
    "WHEN`City` = 'KABUPATEN LABUANBATU UTARA' then '3325'\n",
    "WHEN`City` = 'KABUPATEN NIAS BARAT' then '3326'\n",
    "WHEN`City` = 'KABUPATEN NIAS UTARA' then '3327'\n",
    "WHEN`City` = 'KOTA TEBING TINGGI' then '3391'\n",
    "WHEN`City` = 'KOTA BINJAI' then '3392'\n",
    "WHEN`City` = 'KOTA PEMATANG SIANTAR' then '3393'\n",
    "WHEN`City` = 'KOTA TANJUNG BALAI' then '3394'\n",
    "WHEN`City` = 'KOTA SIBOLGA' then '3395'\n",
    "WHEN`City` = 'KOTA MEDAN' then '3396'\n",
    "WHEN`City` = 'KOTA GUNUNG SITOLI' then '3397'\n",
    "WHEN`City` = 'KOTA PADANG SIDEMPUAN' then '3399'\n",
    "WHEN`City` = 'PROVINSI SUMATERA BARAT' then '3400'\n",
    "WHEN`City` = 'KABUPATEN AGAM' then '3401'\n",
    "WHEN`City` = 'KABUPATEN PASAMAN' then '3402'\n",
    "WHEN`City` = 'KABUPATEN LIMAPULUH KOTA' then '3403'\n",
    "WHEN`City` = 'KABUPATEN SOLOK SELATAN' then '3404'\n",
    "WHEN`City` = 'KABUPATEN PADANG PARIAMAN' then '3405'\n",
    "WHEN`City` = 'KABUPATEN PESISIR SELATAN' then '3406'\n",
    "WHEN`City` = 'KABUPATEN TANAH DATAR' then '3407'\n",
    "WHEN`City` = 'KABUPATEN SAWAH LUNTO/SIJUNJUNG' then '3408'\n",
    "WHEN`City` = 'KABUPATEN KEPULAUAN MENTAWAI' then '3409'\n",
    "WHEN`City` = 'KABUPATEN PASAMAN BARAT' then '3410'\n",
    "WHEN`City` = 'KABUPATEN DHARMASRAYA' then '3411'\n",
    "WHEN`City` = 'KABUPATEN SOLOK' then '3412'\n",
    "WHEN`City` = 'KOTA BUKITTINGGI' then '3491'\n",
    "WHEN`City` = 'KOTA PADANG' then '3492'\n",
    "WHEN`City` = 'KOTA SAWAHLUNTO' then '3493'\n",
    "WHEN`City` = 'KOTA PADANG PANJANG' then '3494'\n",
    "WHEN`City` = 'KOTA SOLOK' then '3495'\n",
    "WHEN`City` = 'KOTA PAYAKUMBUH' then '3496'\n",
    "WHEN`City` = 'KOTA PARIAMAN' then '3497'\n",
    "WHEN`City` = 'PROVINSI RIAU' then '3500'\n",
    "WHEN`City` = 'KABUPATEN KAMPAR' then '3501'\n",
    "WHEN`City` = 'KABUPATEN BENGKALIS' then '3502'\n",
    "WHEN`City` = 'KABUPATEN INDRAGIRI HULU' then '3504'\n",
    "WHEN`City` = 'KABUPATEN INDRAGIRI HILIR' then '3505'\n",
    "WHEN`City` = 'KABUPATEN ROKAN HULU' then '3508'\n",
    "WHEN`City` = 'KABUPATEN ROKAN HILIR' then '3509'\n",
    "WHEN`City` = 'KABUPATEN PELALAWAN' then '3510'\n",
    "WHEN`City` = 'KABUPATEN SIAK' then '3511'\n",
    "WHEN`City` = 'KABUPATEN KUANTAN SINGINGI' then '3512'\n",
    "WHEN`City` = 'KABUPATEN KEPULAUAN MERANTI' then '3513'\n",
    "WHEN`City` = 'KOTA PEKANBARU' then '3591'\n",
    "WHEN`City` = 'KOTA DUMAI' then '3592'\n",
    "WHEN`City` = 'PROVINSI SUMATERA SELATAN' then '3600'\n",
    "WHEN`City` = 'KABUPATEN MUSI BANYUASIN' then '3606'\n",
    "WHEN`City` = 'KABUPATEN OGAN KOMERING ULU' then '3607'\n",
    "WHEN`City` = 'KABUPATEN MUARA ENIM' then '3608'\n",
    "WHEN`City` = 'KABUPATEN LAHAT' then '3609'\n",
    "WHEN`City` = 'KABUPATEN MUSI RAWAS' then '3610'\n",
    "WHEN`City` = 'KABUPATEN OGAN KOMERING ILIR' then '3611'\n",
    "WHEN`City` = 'KABUPATEN BANYUASIN' then '3613'\n",
    "WHEN`City` = 'KABUPATEN OGAN KOMERING ULU SELATAN' then '3614'\n",
    "WHEN`City` = 'KABUPATEN OGAN KOMERING ULU TIMUR' then '3615'\n",
    "WHEN`City` = 'KABUPATEN OGAN ILIR' then '3616'\n",
    "WHEN`City` = 'KABUPATEN PENUKAL ABAB LEMATANG ILIR' then '3619'\n",
    "WHEN`City` = 'KOTA PALEMBANG' then '3691'\n",
    "WHEN`City` = 'KOTA LUBUKLINGGAU' then '3693'\n",
    "WHEN`City` = 'KOTA PRABUMULIH' then '3694'\n",
    "WHEN`City` = 'KOTA PAGAR ALAM' then '3697'\n",
    "WHEN`City` = 'KABUPATEN MUSI RAWAS UTARA' then '3618'\n",
    "WHEN`City` = 'KABUPATEN EMPAT LAWANG' then '3617'\n",
    "WHEN`City` = 'PROVINSI KEPULAUAN BANGKA BELITUNG' then '3700'\n",
    "WHEN`City` = 'KABUPATEN BANGKA' then '3701'\n",
    "WHEN`City` = 'KABUPATEN BELITUNG' then '3702'\n",
    "WHEN`City` = 'KABUPATEN BANGKA BARAT' then '3703'\n",
    "WHEN`City` = 'KABUPATEN BANGKA SELATAN' then '3704'\n",
    "WHEN`City` = 'KABUPATEN BANGKA TENGAH' then '3705'\n",
    "WHEN`City` = 'KABUPATEN BELITUNG TIMUR' then '3706'\n",
    "WHEN`City` = 'KABUPATEN BANGKA BELITUNG(LBU 2016)/KOTA PANGKAL PINANG' then '3707'\n",
    "WHEN`City` = 'KOTA PANGKAL PINANG' then '3791'\n",
    "WHEN`City` = 'PROVINSI KEPULAUAN RIAU' then '3800'\n",
    "WHEN`City` = 'KABUPATEN KARIMUN' then '3801'\n",
    "WHEN`City` = 'KABUPATEN LINGGA' then '3802'\n",
    "WHEN`City` = 'KABUPATEN NATUNA' then '3803'\n",
    "WHEN`City` = 'KABUPATEN BINTAN' then '3804'\n",
    "WHEN`City` = 'KABUPATEN KEPULAUAN ANAMBAS' then '3805'\n",
    "WHEN`City` = 'KOTA TANJUNG PINANG' then '3891'\n",
    "WHEN`City` = 'KOTA BATAM' then '3892'\n",
    "WHEN`City` = 'PROVINSI LAMPUNG' then '3900'\n",
    "WHEN`City` = 'KABUPATEN LAMPUNG SELATAN' then '3901'\n",
    "WHEN`City` = 'KABUPATEN LAMPUNG TENGAH' then '3902'\n",
    "WHEN`City` = 'KABUPATEN LAMPUNG UTARA' then '3903'\n",
    "WHEN`City` = 'KABUPATEN LAMPUNG BARAT' then '3904'\n",
    "WHEN`City` = 'KABUPATEN TULANG BAWANG' then '3905'\n",
    "WHEN`City` = 'KABUPATEN TANGGAMUS' then '3906'\n",
    "WHEN`City` = 'KABUPATEN LAMPUNG TIMUR' then '3907'\n",
    "WHEN`City` = 'KABUPATEN WAY KANAN' then '3908'\n",
    "WHEN`City` = 'KABUPATEN PESAWARAN' then '3909'\n",
    "WHEN`City` = 'KABUPATEN PRINGSEWU' then '3910'\n",
    "WHEN`City` = 'KABUPATEN TULANG BAWANG BARAT' then '3911'\n",
    "WHEN`City` = 'KABUPATEN PESISIR BARAT' then '3913'\n",
    "WHEN`City` = 'KOTA BANDAR LAMPUNG' then '3991'\n",
    "WHEN`City` = 'KOTA METRO' then '3992'\n",
    "WHEN`City` = 'KABUPATEN MESUJI' then '3912'\n",
    "WHEN`City` = 'KABUPATEN BANJAR' then '5101'\n",
    "WHEN`City` = 'KABUPATEN TANAH LAUT' then '5102'\n",
    "WHEN`City` = 'KABUPATEN TAPIN' then '5103'\n",
    "WHEN`City` = 'KABUPATEN HULU SUNGAI SELATAN' then '5104'\n",
    "WHEN`City` = 'KABUPATEN HULU SUNGAI TENGAH' then '5105'\n",
    "WHEN`City` = 'KABUPATEN HULU SUNGAI UTARA' then '5106'\n",
    "WHEN`City` = 'KABUPATEN BARITO KUALA' then '5107'\n",
    "WHEN`City` = 'KABUPATEN KOTA BARU' then '5108'\n",
    "WHEN`City` = 'KABUPATEN TABALONG' then '5109'\n",
    "WHEN`City` = 'KABUPATEN TANAH BUMBU' then '5110'\n",
    "WHEN`City` = 'KABUPATEN BALANGAN' then '5111'\n",
    "WHEN`City` = 'KOTA BANJARMASIN' then '5191'\n",
    "WHEN`City` = 'KOTA BANJARBARU' then '5192'\n",
    "WHEN`City` = 'PROVINSI KALIMANTAN SELATAN' then '5100'\n",
    "WHEN`City` = 'PROVINSI KALIMANTAN BARAT' then '5300'\n",
    "WHEN`City` = 'KABUPATEN PONTIANAK' then '5301'\n",
    "WHEN`City` = 'KABUPATEN SAMBAS' then '5302'\n",
    "WHEN`City` = 'KABUPATEN KETAPANG' then '5303'\n",
    "WHEN`City` = 'KABUPATEN SANGGAU' then '5304'\n",
    "WHEN`City` = 'KABUPATEN SINTANG' then '5305'\n",
    "WHEN`City` = 'KABUPATEN KAPUAS HULU' then '5306'\n",
    "WHEN`City` = 'KABUPATEN BENGKAYANG' then '5307'\n",
    "WHEN`City` = 'KABUPATEN LANDAK' then '5308'\n",
    "WHEN`City` = 'KABUPATEN SEKADAU' then '5309'\n",
    "WHEN`City` = 'KABUPATEN MELAWI' then '5310'\n",
    "WHEN`City` = 'KABUPATEN KAYONG UTARA' then '5311'\n",
    "WHEN`City` = 'KABUPATEN KUBU RAYA' then '5312'\n",
    "WHEN`City` = 'KOTA PONTIANAK' then '5391'\n",
    "WHEN`City` = 'KOTA SINGKAWANG' then '5392'\n",
    "WHEN`City` = 'PROVINSI KALIMANTAN TIMUR' then '5400'\n",
    "WHEN`City` = 'KABUPATEN KUTAI KARTANEGARA' then '5401'\n",
    "WHEN`City` = 'KABUPATEN BERAU' then '5402'\n",
    "WHEN`City` = 'KABUPATEN PASER' then '5403'\n",
    "WHEN`City` = 'KABUPATEN BULUNGAN' then '5404'\n",
    "WHEN`City` = 'KABUPATEN KUTAI BARAT' then '5405'\n",
    "WHEN`City` = 'KABUPATEN KUTAI TIMUR' then '5406'\n",
    "WHEN`City` = 'KABUPATEN NUNUKAN' then '5409'\n",
    "WHEN`City` = 'KABUPATEN MALINAU' then '5410'\n",
    "WHEN`City` = 'KABUPATEN PENAJAM PASER UTARA' then '5411'\n",
    "WHEN`City` = 'KABUPATEN MAHAKAM ULU' then '5413'\n",
    "WHEN`City` = 'KOTA SAMARINDA' then '5491'\n",
    "WHEN`City` = 'KOTA BALIKPAPAN' then '5492'\n",
    "WHEN`City` = 'KOTA TARAKAN' then '5493'\n",
    "WHEN`City` = 'KOTA BONTANG' then '5494'\n",
    "WHEN`City` = 'KABUPATEN TANA TIDUNG' then '5412'\n",
    "WHEN`City` = 'PROVINSI KALIMANTAN TENGAH' then '5800'\n",
    "WHEN`City` = 'KABUPATEN KAPUAS' then '5801'\n",
    "WHEN`City` = 'KABUPATEN KOTAWARINGIN BARAT' then '5802'\n",
    "WHEN`City` = 'KABUPATEN KOTAWARINGIN TIMUR' then '5803'\n",
    "WHEN`City` = 'KABUPATEN MURUNG RAYA' then '5804'\n",
    "WHEN`City` = 'KABUPATEN BARITO TIMUR' then '5805'\n",
    "WHEN`City` = 'KABUPATEN BARITO SELATAN' then '5806'\n",
    "WHEN`City` = 'KABUPATEN GUNUNG MAS' then '5807'\n",
    "WHEN`City` = 'KABUPATEN BARITO UTARA' then '5808'\n",
    "WHEN`City` = 'KABUPATEN PULANG PISAU' then '5809'\n",
    "WHEN`City` = 'KABUPATEN SERUYAN' then '5810'\n",
    "WHEN`City` = 'KABUPATEN KATINGAN' then '5811'\n",
    "WHEN`City` = 'KABUPATEN SUKAMARA' then '5812'\n",
    "WHEN`City` = 'KABUPATEN LAMANDAU' then '5813'\n",
    "WHEN`City` = 'KOTA PALANGKARAYA' then '5892'\n",
    "WHEN`City` = 'PROVINSI SULAWESI TENGAH' then '6000'\n",
    "WHEN`City` = 'KABUPATEN DONGGALA' then '6001'\n",
    "WHEN`City` = 'KABUPATEN POSO' then '6002'\n",
    "WHEN`City` = 'KABUPATEN BANGGAI' then '6003'\n",
    "WHEN`City` = 'KABUPATEN TOLI-TOLI' then '6004'\n",
    "WHEN`City` = 'KABUPATEN BANGGAI KEPULAUAN' then '6005'\n",
    "WHEN`City` = 'KABUPATEN MOROWALI' then '6006'\n",
    "WHEN`City` = 'KABUPATEN BUOL' then '6007'\n",
    "WHEN`City` = 'KABUPATEN TOJO UNA-UNA' then '6008'\n",
    "WHEN`City` = 'KABUPATEN PARIGI MOUTONG' then '6009'\n",
    "WHEN`City` = 'KABUPATEN SIGI' then '6010'\n",
    "WHEN`City` = 'KOTA PALU' then '6091'\n",
    "WHEN`City` = 'KABUPATEN MOROWALI UTARA' then '6012'\n",
    "WHEN`City` = 'KABUPATEN BANGGAI LAUT' then '6011'\n",
    "WHEN`City` = 'PROVINSI SULAWESI SELATAN' then '6100'\n",
    "WHEN`City` = 'KABUPATEN PINRANG' then '6101'\n",
    "WHEN`City` = 'KABUPATEN GOWA' then '6102'\n",
    "WHEN`City` = 'KABUPATEN WAJO' then '6103'\n",
    "WHEN`City` = 'KABUPATEN BONE' then '6105'\n",
    "WHEN`City` = 'KABUPATEN TANA TORAJA' then '6106'\n",
    "WHEN`City` = 'KABUPATEN MAROS' then '6107'\n",
    "WHEN`City` = 'KABUPATEN LUWU' then '6109'\n",
    "WHEN`City` = 'KABUPATEN SINJAI' then '6110'\n",
    "WHEN`City` = 'KABUPATEN BULUKUMBA' then '6111'\n",
    "WHEN`City` = 'KABUPATEN BANTAENG' then '6112'\n",
    "WHEN`City` = 'KABUPATEN JENEPONTO' then '6113'\n",
    "WHEN`City` = 'KABUPATEN KEPULAUAN SELAYAR' then '6114'\n",
    "WHEN`City` = 'KABUPATEN TAKALAR' then '6115'\n",
    "WHEN`City` = 'KABUPATEN BARRU' then '6116'\n",
    "WHEN`City` = 'KABUPATEN SIDENRENG RAPPANG' then '6117'\n",
    "WHEN`City` = 'KABUPATEN PANGKAJENE KEPULAUAN' then '6118'\n",
    "WHEN`City` = 'KABUPATEN SOPPENG' then '6119'\n",
    "WHEN`City` = 'KABUPATEN ENREKANG' then '6121'\n",
    "WHEN`City` = 'KABUPATEN LUWU TIMUR' then '6122'\n",
    "WHEN`City` = 'KABUPATEN LUWU UTARA' then '6124'\n",
    "WHEN`City` = 'KABUPATEN TORAJA UTARA' then '6125'\n",
    "WHEN`City` = 'KOTA MAKASSAR' then '6191'\n",
    "WHEN`City` = 'KOTA PARE-PARE' then '6192'\n",
    "WHEN`City` = 'KOTA PALOPO' then '6193'\n",
    "WHEN`City` = 'PROVINSI SULAWESI UTARA' then '6200'\n",
    "WHEN`City` = 'KABUPATEN MINAHASA' then '6202'\n",
    "WHEN`City` = 'KABUPATEN BOLAANG MONGONDOW' then '6203'\n",
    "WHEN`City` = 'KABUPATEN KEPULAUAN SANGIHE' then '6204'\n",
    "WHEN`City` = 'KABUPATEN KEPULAUAN TALAUD' then '6205'\n",
    "WHEN`City` = 'KABUPATEN MINAHASA SELATAN' then '6206'\n",
    "WHEN`City` = 'KABUPATEN MINAHASA UTARA' then '6207'\n",
    "WHEN`City` = 'KABUPATEN MINAHASA TENGGARA' then '6209'\n",
    "WHEN`City` = 'KABUPATEN BOLAANG MONGONDOW UTARA' then '6210'\n",
    "WHEN`City` = 'KABUPATEN KEPULAUAN SITARO' then '6211'\n",
    "WHEN`City` = 'KABUPATEN BOLAANG MONGONDOW SELATAN' then '6212'\n",
    "WHEN`City` = 'KABUPATEN BOLAANG MONGONDOW TIMUR' then '6213'\n",
    "WHEN`City` = 'KOTA MANADO' then '6291'\n",
    "WHEN`City` = 'KOTA KOTAMOBAGU' then '6292'\n",
    "WHEN`City` = 'KOTA BITUNG' then '6293'\n",
    "WHEN`City` = 'KOTA TOMOHON' then '6294'\n",
    "WHEN`City` = 'PROVINSI GORONTALO' then '6300'\n",
    "WHEN`City` = 'KABUPATEN GORONTALO' then '6301'\n",
    "WHEN`City` = 'KABUPATEN BUALEMO' then '6302'\n",
    "WHEN`City` = 'KABUPATEN BONEBOLANGO' then '6303'\n",
    "WHEN`City` = 'KABUPATEN POHUWATO' then '6304'\n",
    "WHEN`City` = 'KABUPATEN GORONTALO UTARA' then '6305'\n",
    "WHEN`City` = 'KOTA GORONTALO' then '6391'\n",
    "WHEN`City` = 'PROVINSI SULAWESI BARAT' then '6400'\n",
    "WHEN`City` = 'KABUPATEN POLEWALI MANDAR' then '6401'\n",
    "WHEN`City` = 'KABUPATEN MAJENE' then '6402'\n",
    "WHEN`City` = 'KABUPATEN MAMASA' then '6403'\n",
    "WHEN`City` = 'KABUPATEN MAMUJU TENGAH' then '6405'\n",
    "WHEN`City` = 'KAB MAMUJU' then '6491'\n",
    "WHEN`City` = 'KABUPATEN MAMUJU UTARA' then '6404'\n",
    "WHEN`City` = 'KABUPATEN MAMUJU (LBU 2016)' then '6406'\n",
    "WHEN`City` = 'PROVINSI SULAWESI TENGGARA' then '6900'\n",
    "WHEN`City` = 'KABUPATEN BUTON' then '6901'\n",
    "WHEN`City` = 'KABUPATEN MUNA' then '6903'\n",
    "WHEN`City` = 'KABUPATEN KOLAKA' then '6904'\n",
    "WHEN`City` = 'KABUPATEN WAKATOBI' then '6905'\n",
    "WHEN`City` = 'KABUPATEN KONAWE' then '6906'\n",
    "WHEN`City` = 'KABUPATEN KONAWE SELATAN' then '6907'\n",
    "WHEN`City` = 'KABUPATEN BOMBANA' then '6908'\n",
    "WHEN`City` = 'KABUPATEN KOLAKA UTARA' then '6909'\n",
    "WHEN`City` = 'KABUPATEN BUTON UTARA' then '6910'\n",
    "WHEN`City` = 'KABUPATEN MUNA BARAT' then '6916'\n",
    "WHEN`City` = 'KOTA BAU-BAU' then '6990'\n",
    "WHEN`City` = 'KOTA KENDARI' then '6991'\n",
    "WHEN`City` = 'KABUPATEN KALOKA TIMUR' then '6912'\n",
    "WHEN`City` = 'KABUPATEN BUTON TENGAH' then '6915'\n",
    "WHEN`City` = 'KABUPATEN BUTON SELATAN' then '6914'\n",
    "WHEN`City` = 'KABUPATEN KONAWE UTARA' then '6911'\n",
    "WHEN`City` = 'KABUPATEN KONAWE KEPULAUAN' then '6913'\n",
    "WHEN`City` = 'PROVINSI NUSA TENGGARA BARAT' then '7100'\n",
    "WHEN`City` = 'KABUPATEN LOMBOK BARAT' then '7101'\n",
    "WHEN`City` = 'KABUPATEN LOMBOK TENGAH' then '7102'\n",
    "WHEN`City` = 'KABUPATEN LOMBOK TIMUR' then '7103'\n",
    "WHEN`City` = 'KABUPATEN SUMBAWA' then '7104'\n",
    "WHEN`City` = 'KABUPATEN BIMA' then '7105'\n",
    "WHEN`City` = 'KABUPATEN DOMPU' then '7106'\n",
    "WHEN`City` = 'KABUPATEN SUMBAWA BARAT' then '7107'\n",
    "WHEN`City` = 'KABUPATEN LOMBOK UTARA' then '7108'\n",
    "WHEN`City` = 'KOTA MATARAM' then '7191'\n",
    "WHEN`City` = 'KOTA BIMA' then '7192'\n",
    "WHEN`City` = 'PROVINSI BALI' then '7200'\n",
    "WHEN`City` = 'KABUPATEN BULELENG' then '7201'\n",
    "WHEN`City` = 'KABUPATEN JEMBRANA' then '7202'\n",
    "WHEN`City` = 'KABUPATEN TABANAN' then '7203'\n",
    "WHEN`City` = 'KABUPATEN BADUNG' then '7204'\n",
    "WHEN`City` = 'KABUPATEN GIANYAR' then '7205'\n",
    "WHEN`City` = 'KABUPATEN KLUNGKUNG' then '7206'\n",
    "WHEN`City` = 'KABUPATEN BANGLI' then '7207'\n",
    "WHEN`City` = 'KABUPATEN KARANGASEM' then '7208'\n",
    "WHEN`City` = 'KOTA DENPASAR' then '7291'\n",
    "WHEN`City` = 'PROVINSI NUSA TENGGARA TIMUR' then '7400'\n",
    "WHEN`City` = 'KABUPATEN KUPANG' then '7401'\n",
    "WHEN`City` = 'KABUPATEN TIMOR-TENGAH SELATAN' then '7402'\n",
    "WHEN`City` = 'KABUPATEN TIMOR-TENGAH UTARA' then '7403'\n",
    "WHEN`City` = 'KABUPATEN BELU' then '7404'\n",
    "WHEN`City` = 'KABUPATEN ALOR' then '7405'\n",
    "WHEN`City` = 'KABUPATEN FLORES TIMUR' then '7406'\n",
    "WHEN`City` = 'KABUPATEN SIKKA' then '7407'\n",
    "WHEN`City` = 'KABUPATEN ENDE' then '7408'\n",
    "WHEN`City` = 'KABUPATEN NGADA' then '7409'\n",
    "WHEN`City` = 'KABUPATEN MANGGARAI' then '7410'\n",
    "WHEN`City` = 'KABUPATEN SUMBA TIMUR' then '7411'\n",
    "WHEN`City` = 'KABUPATEN SUMBA BARAT' then '7412'\n",
    "WHEN`City` = 'KABUPATEN LEMBATA' then '7413'\n",
    "WHEN`City` = 'KABUPATEN ROTE NDAO' then '7414'\n",
    "WHEN`City` = 'KABUPATEN MANGGARAI BARAT' then '7415'\n",
    "WHEN`City` = 'KABUPATEN SUMBA TENGAH' then '7416'\n",
    "WHEN`City` = 'KABUPATEN SUMBA BARAT DAYA' then '7417'\n",
    "WHEN`City` = 'KABUPATEN MANGGARAI TIMUR' then '7418'\n",
    "WHEN`City` = 'KABUPATEN NAGEKEO' then '7419'\n",
    "WHEN`City` = 'KABUPATEN MALAKA' then '7421'\n",
    "WHEN`City` = 'KOTA KUPANG' then '7491'\n",
    "WHEN`City` = 'KABUPATEN SABU RAIJUA' then '7420'\n",
    "WHEN`City` = 'PROVINSI MALUKU' then '8100'\n",
    "WHEN`City` = 'KABUPATEN MALUKU TENGAH' then '8101'\n",
    "WHEN`City` = 'KABUPATEN MALUKU TENGGARA' then '8102'\n",
    "WHEN`City` = 'KABUPATEN MALUKU TENGGARA BARAT' then '8103'\n",
    "WHEN`City` = 'KABUPATEN BURU' then '8104'\n",
    "WHEN`City` = 'KABUPATEN SERAM BAGIAN BARAT' then '8105'\n",
    "WHEN`City` = 'KABUPATEN SERAM BAGIAN TIMUR' then '8106'\n",
    "WHEN`City` = 'KABUPATEN KEPULAUAN ARU' then '8107'\n",
    "WHEN`City` = 'KABUPATEN MALUKU BARAT DAYA' then '8108'\n",
    "WHEN`City` = 'KABUPATEN BURU SELATAN' then '8109'\n",
    "WHEN`City` = 'KOTA AMBON' then '8191'\n",
    "WHEN`City` = 'KOTA TUAL' then '8192'\n",
    "WHEN`City` = 'PROVINSI PAPUA' then '8200'\n",
    "WHEN`City` = 'KABUPATEN JAYAPURA' then '8201'\n",
    "WHEN`City` = 'KABUPATEN BIAK NUMFOR' then '8202'\n",
    "WHEN`City` = 'KABUPATEN KEPULAUAN YAPEN-WAROPEN' then '8210'\n",
    "WHEN`City` = 'KABUPATEN MERAUKE' then '8211'\n",
    "WHEN`City` = 'KABUPATEN PANIAI' then '8212'\n",
    "WHEN`City` = 'KABUPATEN JAYAWIJAYA' then '8213'\n",
    "WHEN`City` = 'KABUPATEN NABIRE' then '8214'\n",
    "WHEN`City` = 'KABUPATEN MIMIKA' then '8215'\n",
    "WHEN`City` = 'KABUPATEN PUNCAK JAYA' then '8216'\n",
    "WHEN`City` = 'KABUPATEN SARMI' then '8217'\n",
    "WHEN`City` = 'KABUPATEN KEEROM' then '8218'\n",
    "WHEN`City` = 'KABUPATEN PEGUNUNGAN BINTANG' then '8221'\n",
    "WHEN`City` = 'KABUPATEN YAHUKIMO' then '8222'\n",
    "WHEN`City` = 'KABUPATEN TOLIKARA' then '8223'\n",
    "WHEN`City` = 'KABUPATEN WAROPEN' then '8224'\n",
    "WHEN`City` = 'KABUPATEN BOVEN DIGOEL' then '8226'\n",
    "WHEN`City` = 'KABUPATEN MAPPI' then '8227'\n",
    "WHEN`City` = 'KABUPATEN ASMAT' then '8228'\n",
    "WHEN`City` = 'KABUPATEN SUPIORI' then '8231'\n",
    "WHEN`City` = 'KABUPATEN MAMBERAMO RAYA' then '8232'\n",
    "WHEN`City` = 'KABUPATEN DOGIYAI' then '8233'\n",
    "WHEN`City` = 'KABUPATEN LANNY JAYA' then '8234'\n",
    "WHEN`City` = 'KABUPATEN MAMBERAMO TENGAH' then '8235'\n",
    "WHEN`City` = 'KABUPATEN NDUGA' then '8236'\n",
    "WHEN`City` = 'KABUPATEN YALIMO' then '8237'\n",
    "WHEN`City` = 'KABUPATEN PUNCAK' then '8238'\n",
    "WHEN`City` = 'KABUPATEN DEIYA' then '8240'\n",
    "WHEN`City` = 'KOTA JAYAPURA' then '8291'\n",
    "WHEN`City` = 'KABUPATEN INTAN JAYA' then '8239'\n",
    "WHEN`City` = 'PROVINSI MALUKU UTARA' then '8300'\n",
    "WHEN`City` = 'KABUPATEN HALMAHERA TENGAH' then '8302'\n",
    "WHEN`City` = 'KABUPATEN HALMAHERA UTARA' then '8303'\n",
    "WHEN`City` = 'KABUPATEN HALMAHERA TIMUR' then '8304'\n",
    "WHEN`City` = 'KABUPATEN HALMAHERA BARAT' then '8305'\n",
    "WHEN`City` = 'KABUPATEN HALMAHERA SELATAN' then '8306'\n",
    "WHEN`City` = 'KABUPATEN KEPULAUAN SULA' then '8307'\n",
    "WHEN`City` = 'KABUPATEN PULAU MOROTAI' then '8308'\n",
    "WHEN`City` = 'KOTA TERNATE' then '8390'\n",
    "WHEN`City` = 'KOTA TIDORE KEPULAUAN' then '8391'\n",
    "WHEN`City` = 'KABUPATEN PULAU TALIABU' then '8309'\n",
    "WHEN`City` = 'PROVINSI PAPUA BARAT' then '8400'\n",
    "WHEN`City` = 'KABUPATEN SORONG' then '8401'\n",
    "WHEN`City` = 'KABUPATEN FAK-FAK' then '8402'\n",
    "WHEN`City` = 'KABUPATEN MANOKWARI' then '8403'\n",
    "WHEN`City` = 'KABUPATEN SORONG SELATAN' then '8404'\n",
    "WHEN`City` = 'KABUPATEN RAJA AMPAT' then '8405'\n",
    "WHEN`City` = 'KABUPATEN KAIMANA' then '8406'\n",
    "WHEN`City` = 'KABUPATEN TELUK BINTUNI' then '8407'\n",
    "WHEN`City` = 'KABUPATEN TELUK WONDAMA' then '8408'\n",
    "WHEN`City` = 'KABUPATEN TEMBRAUW' then '8409'\n",
    "WHEN`City` = 'KABUPATEN MAYBRAT' then '8410'\n",
    "WHEN`City` = 'KOTA SORONG' then '8491'\n",
    "WHEN`City` = 'KABUPATEN PEGUNUNGAN ARFAK' then '8411'\n",
    "WHEN`City` = 'KABUPATEN MANOKWARI SELATAN' then '8412'\n",
    "WHEN`City` = 'KABUPATEN BANYU ASIN' then '3607'\n",
    "WHEN`City` = 'JAKARTA PUSAT' then '0391'\n",
    "WHEN`City` = 'DI LUAR INDONESIA' then '9999'\n",
    "\n",
    "           ELSE '0000'\n",
    "end as `Kode_Kabupaten_atau_Kota_Lokasi_Proyek_atau_Penggunaan_Kredit_atau_Pembiayaan`,\n",
    "`Nilai_Proyek`,\n",
    "`Kode_Valuta`,\n",
    "`Suku_Bunga_atau_Imbalan`,\n",
    "`Jenis_Suku_Bunga_atau_Imbalan`,\n",
    "`Kredit_atau_Pembiayaan_Program_Pemerintah`,\n",
    "`Plafon_Awal`,\n",
    "`Plafon`,\n",
    "`Realisasi_atau_Pencairan_Bulan_Berjalan`,\n",
    "`Denda`,\n",
    "`Baki_Debet`,\n",
    "`Nilai_dalam_Mata_Uang_Asal`,\n",
    "`Kode_Kualitas_Kredit_atau_Pembiayaan`,\n",
    "`Tanggal_Macet`,\n",
    "`Kode_Sebab_Macet`,\n",
    "`Tunggakan_Pokok`,\n",
    "`Tunggakan_Bunga_atau_Imbalan`,\n",
    "`Jumlah_Hari_Tunggakan`,\n",
    "`Frekuensi_Tunggakan`,\n",
    "`Frekuensi_Restrukturisasi`,\n",
    "`Tanggal_Restrukturisasi_Awal`,\n",
    "`Tanggal_Restrukturisasi_Akhir`,\n",
    "`Kode_Cara_Restrukturisasi`,\n",
    "`Kode_Kondisi`,\n",
    "FORMAT_DATE('%Y%m%d',date(`Tanggal_Kondisi`)) `Tanggal_Kondisi`,\n",
    "`Keterangan`,\n",
    "`Kode_Kantor_Cabang`,\n",
    "`Operasi_Data`,\n",
    "`Status_delete`,\n",
    "`Create_Date`,\n",
    "`Update_Date`\n",
    "\n",
    "from `summary`\n"
   ]
  },
  {
   "cell_type": "code",
   "execution_count": 5,
   "metadata": {},
   "outputs": [
    {
     "name": "stdout",
     "output_type": "stream",
     "text": [
      "(348107, 53)\n",
      "['Kode Jenis Pelapor', 'Kode Pelapor', 'Tahun Bulan Data', 'Kode Jenis Fasilitas', 'Nomor Rekening Fasilitas', 'Nomor Rekening Lama Fasilitas', 'Nomor CIF Debitur', 'Kode Sifat Kredit atau Pembiayaan', 'Kode Jenis Kredit atau Pembiayaan', 'Kode Akad Kredit atau Akad Pembiayaan', 'Nomor Akad Awal', 'Tanggal Akad Awal', 'Nomor Akad Akhir', 'Tanggal Akad Akhir', 'Frekuensi Perpanjangan Fasilitas Kredit atau Pembiayaan', 'Tanggal Awal Kredit atau Pembiayaan', 'Tanggal Mulai', 'Tanggal Jatuh Tempo', 'Kode Kategori Debitur', 'Kode Jenis Penggunaan', 'Kode Orientasi Penggunaan', 'Kode Sektor Ekonomi', 'Kode Kabupaten atau Kota Lokasi Proyek atau Penggunaan Kredit atau Pembiayaan', 'Nilai Proyek', 'Kode Valuta', 'Suku Bunga atau Imbalan', 'Jenis Suku Bunga atau Imbalan', 'Kredit atau Pembiayaan Program Pemerintah', 'Plafon Awal', 'Plafon', 'Realisasi atau Pencairan Bulan Berjalan', 'Denda', 'Baki Debet', 'Nilai dalam Mata Uang Asal', 'Kode Kualitas Kredit atau Pembiayaan', 'Tanggal Macet', 'Kode Sebab Macet', 'Tunggakan Pokok', 'Tunggakan Bunga atau Imbalan', 'Jumlah Hari Tunggakan', 'Frekuensi Tunggakan', 'Frekuensi Restrukturisasi', 'Tanggal Restrukturisasi Awal', 'Tanggal Restrukturisasi Akhir', 'Kode Cara Restrukturisasi', 'Kode Kondisi', 'Tanggal Kondisi', 'Keterangan', 'Kode Kantor Cabang', 'Operasi Data', 'Status delete', 'Create Date', 'Update Date']\n"
     ]
    },
    {
     "data": {
      "text/html": [
       "<div>\n",
       "<style scoped>\n",
       "    .dataframe tbody tr th:only-of-type {\n",
       "        vertical-align: middle;\n",
       "    }\n",
       "\n",
       "    .dataframe tbody tr th {\n",
       "        vertical-align: top;\n",
       "    }\n",
       "\n",
       "    .dataframe thead th {\n",
       "        text-align: right;\n",
       "    }\n",
       "</style>\n",
       "<table border=\"1\" class=\"dataframe\">\n",
       "  <thead>\n",
       "    <tr style=\"text-align: right;\">\n",
       "      <th></th>\n",
       "      <th>Kode Jenis Pelapor</th>\n",
       "      <th>Kode Pelapor</th>\n",
       "      <th>Tahun Bulan Data</th>\n",
       "      <th>Kode Jenis Fasilitas</th>\n",
       "      <th>Nomor Rekening Fasilitas</th>\n",
       "      <th>Nomor Rekening Lama Fasilitas</th>\n",
       "      <th>Nomor CIF Debitur</th>\n",
       "      <th>Kode Sifat Kredit atau Pembiayaan</th>\n",
       "      <th>Kode Jenis Kredit atau Pembiayaan</th>\n",
       "      <th>Kode Akad Kredit atau Akad Pembiayaan</th>\n",
       "      <th>...</th>\n",
       "      <th>Tanggal Restrukturisasi Akhir</th>\n",
       "      <th>Kode Cara Restrukturisasi</th>\n",
       "      <th>Kode Kondisi</th>\n",
       "      <th>Tanggal Kondisi</th>\n",
       "      <th>Keterangan</th>\n",
       "      <th>Kode Kantor Cabang</th>\n",
       "      <th>Operasi Data</th>\n",
       "      <th>Status delete</th>\n",
       "      <th>Create Date</th>\n",
       "      <th>Update Date</th>\n",
       "    </tr>\n",
       "  </thead>\n",
       "  <tbody>\n",
       "    <tr>\n",
       "      <th>0</th>\n",
       "      <td>0301</td>\n",
       "      <td>900013</td>\n",
       "      <td>201911</td>\n",
       "      <td>F01</td>\n",
       "      <td>ATH-JNLG2R36</td>\n",
       "      <td>None</td>\n",
       "      <td>3915917686490</td>\n",
       "      <td>9</td>\n",
       "      <td>05</td>\n",
       "      <td>00</td>\n",
       "      <td>...</td>\n",
       "      <td></td>\n",
       "      <td></td>\n",
       "      <td>00</td>\n",
       "      <td>None</td>\n",
       "      <td>None</td>\n",
       "      <td>000</td>\n",
       "      <td>C</td>\n",
       "      <td>T</td>\n",
       "      <td>20190919010159</td>\n",
       "      <td>20191105180050</td>\n",
       "    </tr>\n",
       "    <tr>\n",
       "      <th>1</th>\n",
       "      <td>0301</td>\n",
       "      <td>900013</td>\n",
       "      <td>201911</td>\n",
       "      <td>F01</td>\n",
       "      <td>ATH-73ENPD7J</td>\n",
       "      <td>None</td>\n",
       "      <td>3915909418575</td>\n",
       "      <td>9</td>\n",
       "      <td>05</td>\n",
       "      <td>00</td>\n",
       "      <td>...</td>\n",
       "      <td></td>\n",
       "      <td></td>\n",
       "      <td>00</td>\n",
       "      <td>None</td>\n",
       "      <td>None</td>\n",
       "      <td>000</td>\n",
       "      <td>C</td>\n",
       "      <td>T</td>\n",
       "      <td>20191018044003</td>\n",
       "      <td>20191105174849</td>\n",
       "    </tr>\n",
       "    <tr>\n",
       "      <th>2</th>\n",
       "      <td>0301</td>\n",
       "      <td>900013</td>\n",
       "      <td>201911</td>\n",
       "      <td>F01</td>\n",
       "      <td>ATH-DX8E8D6T</td>\n",
       "      <td>None</td>\n",
       "      <td>3915971232859</td>\n",
       "      <td>9</td>\n",
       "      <td>05</td>\n",
       "      <td>00</td>\n",
       "      <td>...</td>\n",
       "      <td></td>\n",
       "      <td></td>\n",
       "      <td>00</td>\n",
       "      <td>None</td>\n",
       "      <td>None</td>\n",
       "      <td>000</td>\n",
       "      <td>C</td>\n",
       "      <td>T</td>\n",
       "      <td>20190116061231</td>\n",
       "      <td>20191105182501</td>\n",
       "    </tr>\n",
       "  </tbody>\n",
       "</table>\n",
       "<p>3 rows × 53 columns</p>\n",
       "</div>"
      ],
      "text/plain": [
       "  Kode Jenis Pelapor Kode Pelapor Tahun Bulan Data Kode Jenis Fasilitas  \\\n",
       "0               0301       900013           201911                  F01   \n",
       "1               0301       900013           201911                  F01   \n",
       "2               0301       900013           201911                  F01   \n",
       "\n",
       "  Nomor Rekening Fasilitas Nomor Rekening Lama Fasilitas Nomor CIF Debitur  \\\n",
       "0             ATH-JNLG2R36                          None     3915917686490   \n",
       "1             ATH-73ENPD7J                          None     3915909418575   \n",
       "2             ATH-DX8E8D6T                          None     3915971232859   \n",
       "\n",
       "   Kode Sifat Kredit atau Pembiayaan Kode Jenis Kredit atau Pembiayaan  \\\n",
       "0                                  9                                05   \n",
       "1                                  9                                05   \n",
       "2                                  9                                05   \n",
       "\n",
       "  Kode Akad Kredit atau Akad Pembiayaan  ... Tanggal Restrukturisasi Akhir  \\\n",
       "0                                    00  ...                                 \n",
       "1                                    00  ...                                 \n",
       "2                                    00  ...                                 \n",
       "\n",
       "  Kode Cara Restrukturisasi Kode Kondisi Tanggal Kondisi  Keterangan  \\\n",
       "0                                     00            None        None   \n",
       "1                                     00            None        None   \n",
       "2                                     00            None        None   \n",
       "\n",
       "  Kode Kantor Cabang Operasi Data Status delete     Create Date  \\\n",
       "0                000            C             T  20190919010159   \n",
       "1                000            C             T  20191018044003   \n",
       "2                000            C             T  20190116061231   \n",
       "\n",
       "      Update Date  \n",
       "0  20191105180050  \n",
       "1  20191105174849  \n",
       "2  20191105182501  \n",
       "\n",
       "[3 rows x 53 columns]"
      ]
     },
     "execution_count": 5,
     "metadata": {},
     "output_type": "execute_result"
    }
   ],
   "source": [
    "print(F01new.shape)\n",
    "a=[]\n",
    "for i in F01new.columns:\n",
    "    a.append(i.replace('_',' '))\n",
    "print(a)\n",
    "F01new.columns = a\n",
    "F01new.head(3)"
   ]
  },
  {
   "cell_type": "code",
   "execution_count": 6,
   "metadata": {},
   "outputs": [],
   "source": [
    "#creditdp = rf.get_fresh_query_result('https://reports.indodana.com/', 3378, 'XC1J54mmAqO59hH0TB8cOFMNJ6gVyeJaj7EmMV8r', {'p_param': 3378})\n",
    "#creditprod = rf.get_fresh_query_result('https://reports.indodana.com/', 3379, 'XC1J54mmAqO59hH0TB8cOFMNJ6gVyeJaj7EmMV8r', {'p_param': 3379})"
   ]
  },
  {
   "cell_type": "code",
   "execution_count": 7,
   "metadata": {},
   "outputs": [],
   "source": [
    "#creditdp['source']= 'Data Platform'\n",
    "#creditprod['source'] = 'Production'\n",
    "#creditdp['limit'] = creditdp['limit'].astype(float)\n",
    "#creditdp['limit_balance'] = creditdp['limit_balance'].astype(float)\n",
    "#creditprod['limit'] = creditprod['limit'].astype(float)\n",
    "#creditprod['limit_balance'] = creditprod['limit_balance'].astype(float)"
   ]
  },
  {
   "cell_type": "code",
   "execution_count": 8,
   "metadata": {},
   "outputs": [],
   "source": [
    "#creditprod.shape"
   ]
  },
  {
   "cell_type": "code",
   "execution_count": 9,
   "metadata": {},
   "outputs": [],
   "source": [
    "#credit=pd.concat([creditdp,creditprod]).drop_duplicates(subset=['application_order_id','borrower_id','limit','limit_balance'],keep=False)\n",
    "#credit.shape"
   ]
  },
  {
   "cell_type": "markdown",
   "metadata": {},
   "source": [
    "Data Preparation Process for D01 and F01 KBIJ =\n",
    "1. Import previous data \n",
    "2. Import full data dump from query \n",
    "3. Find Delta between new data dump and previous data \n",
    "4. Export delta to csv and send to KBIJ \n",
    "5. Export full data dump to csv to be used in the next iteration"
   ]
  },
  {
   "cell_type": "markdown",
   "metadata": {},
   "source": [
    "Scrapped code for first time only"
   ]
  },
  {
   "cell_type": "code",
   "execution_count": 10,
   "metadata": {},
   "outputs": [],
   "source": [
    "#F01 = pd.read_csv('SEGMEN_F01_–_FASILITAS_KREDIT_2019_09_03.csv',dtype=str)\n",
    "#D01 = pd.read_csv('SEGMEN_D01_–_DEBITUR_INDIVIDUAL_PERORANGAN_2019_09_03.csv',dtype=str)\n",
    "#F01.to_csv(path_or_buf='F01.csv', index =0)\n",
    "#D01.to_csv(path_or_buf='D01.csv', index =0)"
   ]
  },
  {
   "cell_type": "markdown",
   "metadata": {},
   "source": [
    "Import Previous Data"
   ]
  },
  {
   "cell_type": "markdown",
   "metadata": {},
   "source": [
    "Revise F01 08 09"
   ]
  },
  {
   "cell_type": "code",
   "execution_count": 11,
   "metadata": {},
   "outputs": [],
   "source": [
    "# finalrev = F0108rev.loc[F0108rev['Kode Kualitas Kredit atau Pembiayaan'].isna()]\n",
    "# finalrev['Kode Kualitas Kredit atau Pembiayaan'] = finalrev['Kode Kualitas Kredit atau Pembiayaan'].fillna(1)"
   ]
  },
  {
   "cell_type": "code",
   "execution_count": 12,
   "metadata": {},
   "outputs": [],
   "source": [
    "# finalrev.to_csv(path_or_buf='F01-201908revfinal0.txt', sep='|',index =0)"
   ]
  },
  {
   "cell_type": "code",
   "execution_count": 13,
   "metadata": {},
   "outputs": [],
   "source": [
    "F0109rev = pd.read_csv('F01-201909.txt',dtype=str,sep='|')\n",
    "F0109 = pd.read_csv('F01-201909rev.txt',dtype=str,sep='|')"
   ]
  },
  {
   "cell_type": "code",
   "execution_count": 1,
   "metadata": {},
   "outputs": [],
   "source": [
    "F0108rev = pd.read_csv('F01-201908.txt',dtype=str,sep='|')\n",
    "F0109rev = pd.read_csv('F01-201909.txt',dtype=str,sep='|')\n",
    "F0108rev = F0108rev.replace('\\n','', regex=True)\n",
    "F0109rev = F0109rev.replace('\\n','', regex=True)"
   ]
  },
  {
   "cell_type": "code",
   "execution_count": 7,
   "metadata": {},
   "outputs": [],
   "source": [
    "# F0108rev['Kode Kualitas Kredit atau Pembiayaan'] = F0108rev['Kode Kualitas Kredit atau Pembiayaan'].astype(str)     \n",
    "F0108rev['Kode Sebab Macet'] = F0108rev['Kode Sebab Macet'].str.replace('.0', '')\n",
    "F0108rev['Kode Kualitas Kredit atau Pembiayaan'] = F0108rev['Kode Kualitas Kredit atau Pembiayaan'].fillna(1)\n",
    "F0108rev['Kode Kualitas Kredit atau Pembiayaan'] = F0108rev['Kode Kualitas Kredit atau Pembiayaan'].str.replace('.0', '')\n",
    "F0108rev['Tanggal Akad Awal']=F0108rev['Tanggal Awal Kredit atau Pembiayaan']"
   ]
  },
  {
   "cell_type": "code",
   "execution_count": 8,
   "metadata": {},
   "outputs": [],
   "source": [
    "# F0109rev['Kode Sebab Macet'] = F0109rev['Kode Sebab Macet'].astype(str)          \n",
    "F0109rev['Kode Sebab Macet'] = F0109rev['Kode Sebab Macet'].str.replace('.0', '')\n",
    "# F0109rev['Kode Kualitas Kredit atau Pembiayaan'] = F0109rev['Kode Kualitas Kredit atau Pembiayaan'].astype(str)          \n",
    "F0109rev['Kode Kualitas Kredit atau Pembiayaan'] = F0109rev['Kode Kualitas Kredit atau Pembiayaan'].fillna(1)\n",
    "F0109rev['Kode Kualitas Kredit atau Pembiayaan'] = F0109rev['Kode Kualitas Kredit atau Pembiayaan'].str.replace('.0', '')\n",
    "# F0109rev['Kode Sebab Macet'] = F0109rev['Kode Sebab Macet'].str.replace(' ', '')\n",
    "F0109rev['Tanggal Akad Awal']=F0109rev['Tanggal Awal Kredit atau Pembiayaan']"
   ]
  },
  {
   "cell_type": "code",
   "execution_count": 10,
   "metadata": {},
   "outputs": [],
   "source": [
    "F0109rev['Kode Kualitas Kredit atau Pembiayaan'] = F0109rev['Kode Kualitas Kredit atau Pembiayaan'].fillna(1)"
   ]
  },
  {
   "cell_type": "code",
   "execution_count": 11,
   "metadata": {},
   "outputs": [
    {
     "data": {
      "text/plain": [
       "(0, 53)"
      ]
     },
     "execution_count": 11,
     "metadata": {},
     "output_type": "execute_result"
    }
   ],
   "source": [
    "F0109rev.loc[F0109rev['Kode Kualitas Kredit atau Pembiayaan'].isna()].shape"
   ]
  },
  {
   "cell_type": "code",
   "execution_count": 118,
   "metadata": {},
   "outputs": [],
   "source": [
    "F0108rev.to_csv(path_or_buf='F01-201908rev.txt', sep='|',index =0)"
   ]
  },
  {
   "cell_type": "code",
   "execution_count": 12,
   "metadata": {},
   "outputs": [],
   "source": [
    "F0109rev.to_csv(path_or_buf='F01-201909rev.txt', sep='|',index =0)"
   ]
  },
  {
   "cell_type": "code",
   "execution_count": 9,
   "metadata": {},
   "outputs": [],
   "source": [
    "F01 = pd.read_csv('F01.csv',dtype=str)\n",
    "D01 = pd.read_csv('D01.csv',dtype=str)"
   ]
  },
  {
   "cell_type": "markdown",
   "metadata": {},
   "source": [
    "For Month 10 Upload, wrong output previous data"
   ]
  },
  {
   "cell_type": "code",
   "execution_count": 146,
   "metadata": {},
   "outputs": [],
   "source": [
    "F01 = pd.read_csv('F01201909correct.csv',dtype=str)\n",
    "# D01 = pd.read_csv('F01201909.csv',dtype=str)\n",
    "D01 = pd.read_csv('D01201909.csv',dtype=str)"
   ]
  },
  {
   "cell_type": "code",
   "execution_count": 147,
   "metadata": {},
   "outputs": [],
   "source": [
    "F01 = F01.replace('\\n','', regex=True)\n",
    "D01 = D01.replace('\\n','', regex=True)"
   ]
  },
  {
   "cell_type": "code",
   "execution_count": 198,
   "metadata": {},
   "outputs": [
    {
     "data": {
      "text/plain": [
       "(360334, 53)"
      ]
     },
     "execution_count": 198,
     "metadata": {},
     "output_type": "execute_result"
    }
   ],
   "source": [
    "#Create F01201909correct because the old one is broken\n",
    "# F01 = pd.read_csv('F01-201909rev.txt',dtype=str,sep='|')\n",
    "# F01 = F01.replace('\\n','', regex=True)\n",
    "# print(F01.shape)\n",
    "# tes = pd.read_csv('F01.csv',dtype=str)\n",
    "# tes['Kode Kualitas Kredit atau Pembiayaan'] = tes['Kode Kualitas Kredit atau Pembiayaan ']\n",
    "# tes['Kode Kabupaten atau Kota Lokasi Proyek atau Penggunaan Kredit atau Pembiayaan'] = tes['Kode Kabupaten atau Kota Lokasi Proyek atau Penggunaan Kredit a']\n",
    "# tes = tes.drop(columns=['Kode Kualitas Kredit atau Pembiayaan ','Kode Kabupaten atau Kota Lokasi Proyek atau Penggunaan Kredit a'])\n",
    "# print(tes.shape)\n",
    "# F01201908 = pd.read_csv('F01-201908rev.txt',dtype=str,sep='|')\n",
    "# print(F01201908.shape)\n",
    "# F01old = pd.concat([F01,F01201908,tes])\n",
    "# print('concatenate result of 08 old, 08 revision, 09 sent',F01old.shape)\n",
    "# F01old['date'] = pd.to_datetime(F01old['Update Date'])\n",
    "# F01old = F01old.sort_values(by=['Nomor Rekening Fasilitas','date'])\n",
    "# F01old = F01old.drop_duplicates(subset=['Nomor Rekening Fasilitas'],keep='last')\n",
    "# F01old = F01old.drop(columns=['date'])\n",
    "# print(F01old.shape)\n",
    "# F01old.to_csv(path_or_buf='F01201909correct.csv', index=0)"
   ]
  },
  {
   "cell_type": "code",
   "execution_count": 24,
   "metadata": {},
   "outputs": [
    {
     "data": {
      "text/plain": [
       "(107648, 35)"
      ]
     },
     "execution_count": 24,
     "metadata": {},
     "output_type": "execute_result"
    }
   ],
   "source": [
    "D01.shape"
   ]
  },
  {
   "cell_type": "code",
   "execution_count": 25,
   "metadata": {},
   "outputs": [
    {
     "data": {
      "text/plain": [
       "(127309, 35)"
      ]
     },
     "execution_count": 25,
     "metadata": {},
     "output_type": "execute_result"
    }
   ],
   "source": [
    "D01new.shape"
   ]
  },
  {
   "cell_type": "code",
   "execution_count": 26,
   "metadata": {},
   "outputs": [
    {
     "data": {
      "text/plain": [
       "Index(['Kode Jenis Pelapor', 'Kode Pelapor', 'Tahun Bulan Data',\n",
       "       'Nomor CIF Lama Debitur', 'Nomor CIF Debitur', 'Jenis Identitas',\n",
       "       'Nomor Identitas', 'Nama Sesuai Identitas', 'Nama Lengkap',\n",
       "       'Kode Status Pendidikan atau Gelar Debitur', 'Jenis Kelamin',\n",
       "       'Tempat Lahir', 'Tanggal Lahir', 'Nama Gadis Ibu Kandung', 'NPWP',\n",
       "       'Alamat', 'Kelurahan', 'Kecamatan', 'Kode Kabupaten atau Kota',\n",
       "       'Kode Pos', 'Nomor Telepon', 'Nomor Telepon Seluler', 'Alamat e-mail',\n",
       "       'Kode Negara Domisili', 'Kode Pekerjaan', 'Tempat Bekerja',\n",
       "       'Kode Bidang Usaha Tempat Bekerja', 'Alamat Tempat Bekerja',\n",
       "       'Kode Golongan Debitur', 'Status Perkawinan Debitur',\n",
       "       'Kode Kantor Cabang', 'Operasi Data', 'Status delete', 'Create Date',\n",
       "       'Update Date'],\n",
       "      dtype='object')"
      ]
     },
     "execution_count": 26,
     "metadata": {},
     "output_type": "execute_result"
    }
   ],
   "source": [
    "D01new.columns"
   ]
  },
  {
   "cell_type": "markdown",
   "metadata": {},
   "source": [
    "Get new F01 and D01 from redash"
   ]
  },
  {
   "cell_type": "code",
   "execution_count": 127,
   "metadata": {},
   "outputs": [],
   "source": [
    "D01new = rf.get_fresh_query_result('https://reports.indodana.com/', 2302, 'XC1J54mmAqO59hH0TB8cOFMNJ6gVyeJaj7EmMV8r', {'p_param': 2302})"
   ]
  },
  {
   "cell_type": "code",
   "execution_count": null,
   "metadata": {},
   "outputs": [],
   "source": [
    "D01new = D01new[['Kode Jenis Pelapor', 'Kode Pelapor', 'Tahun Bulan Data',\n",
    "       'Nomor CIF Lama Debitur', 'Nomor CIF Debitur', 'Jenis Identitas',\n",
    "       'Nomor Identitas', 'Nama Sesuai Identitas', 'Nama Lengkap',\n",
    "       'Kode Status Pendidikan atau Gelar Debitur', 'Jenis Kelamin',\n",
    "       'Tempat Lahir', 'Tanggal Lahir', 'Nama Gadis Ibu Kandung', 'NPWP',\n",
    "       'Alamat', 'Kelurahan', 'Kecamatan', 'Kode Kabupaten atau Kota',\n",
    "       'Kode Pos', 'Nomor Telepon', 'Nomor Telepon Seluler', 'Alamat e-mail',\n",
    "       'Kode Negara Domisili', 'Kode Pekerjaan', 'Tempat Bekerja',\n",
    "       'Kode Bidang Usaha Tempat Bekerja', 'Alamat Tempat Bekerja',\n",
    "       'Kode Golongan Debitur', 'Status Perkawinan Debitur',\n",
    "       'Kode Kantor Cabang', 'Operasi Data', 'Status delete', 'Create Date',\n",
    "       'Update Date']]"
   ]
  },
  {
   "cell_type": "code",
   "execution_count": null,
   "metadata": {},
   "outputs": [],
   "source": [
    "print(F01new.shape,D01new.shape)"
   ]
  },
  {
   "cell_type": "code",
   "execution_count": 29,
   "metadata": {},
   "outputs": [
    {
     "data": {
      "text/plain": [
       "(124209, 35)"
      ]
     },
     "execution_count": 29,
     "metadata": {},
     "output_type": "execute_result"
    }
   ],
   "source": [
    "# D01new = pd.read_csv('D01201910.csv',dtype=str)\n",
    "# D01new.shape"
   ]
  },
  {
   "cell_type": "code",
   "execution_count": null,
   "metadata": {},
   "outputs": [],
   "source": [
    "F01new = F01new.replace('\\n','', regex=True)\n",
    "D01new = D01new.replace('\\n','', regex=True)"
   ]
  },
  {
   "cell_type": "code",
   "execution_count": 31,
   "metadata": {},
   "outputs": [
    {
     "name": "stdout",
     "output_type": "stream",
     "text": [
      "D01: (107648, 35) F01: (301352, 53)\n",
      "D01new: (127309, 35) F01new: (348107, 54)\n",
      "D01delta: 19661 F01delta: 46755\n"
     ]
    }
   ],
   "source": [
    "print('D01:',D01.shape, 'F01:',F01.shape)\n",
    "print('D01new:',D01new.shape, 'F01new:',F01new.shape)\n",
    "print('D01delta:',D01new.shape[0]-D01.shape[0],'F01delta:',F01new.shape[0]-F01.shape[0])"
   ]
  },
  {
   "cell_type": "markdown",
   "metadata": {},
   "source": [
    "# Cleansing F01 Identify Create Population"
   ]
  },
  {
   "cell_type": "code",
   "execution_count": 34,
   "metadata": {},
   "outputs": [
    {
     "data": {
      "text/plain": [
       "(301352, 53)"
      ]
     },
     "execution_count": 34,
     "metadata": {},
     "output_type": "execute_result"
    }
   ],
   "source": [
    "F01.shape"
   ]
  },
  {
   "cell_type": "code",
   "execution_count": 35,
   "metadata": {},
   "outputs": [
    {
     "data": {
      "text/plain": [
       "(348107, 54)"
      ]
     },
     "execution_count": 35,
     "metadata": {},
     "output_type": "execute_result"
    }
   ],
   "source": [
    "F01new.shape"
   ]
  },
  {
   "cell_type": "code",
   "execution_count": 36,
   "metadata": {},
   "outputs": [],
   "source": [
    "ff3 = pd.concat([F01,F01new]).sort_values(by=['Update Date'])"
   ]
  },
  {
   "cell_type": "code",
   "execution_count": 37,
   "metadata": {},
   "outputs": [
    {
     "data": {
      "text/plain": [
       "(47092, 54)"
      ]
     },
     "execution_count": 37,
     "metadata": {},
     "output_type": "execute_result"
    }
   ],
   "source": [
    "ff3 = pd.concat([F01,F01new]).drop_duplicates(subset=['Nomor Rekening Fasilitas'],keep=False)\n",
    "ff3.shape"
   ]
  },
  {
   "cell_type": "code",
   "execution_count": 38,
   "metadata": {},
   "outputs": [],
   "source": [
    "datem = datetime.today()- timedelta(days=30)\n",
    "datem = datem.strftime(\"%Y%m\")"
   ]
  },
  {
   "cell_type": "code",
   "execution_count": 39,
   "metadata": {},
   "outputs": [],
   "source": [
    "ff3['Tahun Bulan Data'] = datem\n",
    "ff3['date'] = pd.to_datetime(ff3['Update Date'])"
   ]
  },
  {
   "cell_type": "code",
   "execution_count": 40,
   "metadata": {},
   "outputs": [
    {
     "data": {
      "text/plain": [
       "11    41124\n",
       "10     5843\n",
       "9        59\n",
       "5        12\n",
       "6        10\n",
       "4         9\n",
       "2         9\n",
       "8         6\n",
       "7         6\n",
       "3         6\n",
       "1         5\n",
       "12        3\n",
       "Name: date, dtype: int64"
      ]
     },
     "execution_count": 40,
     "metadata": {},
     "output_type": "execute_result"
    }
   ],
   "source": [
    "ff3['date'].dt.month.value_counts()"
   ]
  },
  {
   "cell_type": "code",
   "execution_count": 41,
   "metadata": {},
   "outputs": [],
   "source": [
    "ff3['sign'] = 1"
   ]
  },
  {
   "cell_type": "code",
   "execution_count": 42,
   "metadata": {},
   "outputs": [
    {
     "data": {
      "text/plain": [
       "201910    47092\n",
       "Name: Tahun Bulan Data, dtype: int64"
      ]
     },
     "execution_count": 42,
     "metadata": {},
     "output_type": "execute_result"
    }
   ],
   "source": [
    "ff3['Tahun Bulan Data'].value_counts()"
   ]
  },
  {
   "cell_type": "code",
   "execution_count": 43,
   "metadata": {},
   "outputs": [
    {
     "data": {
      "text/plain": [
       "11    41124\n",
       "10     5843\n",
       "9        59\n",
       "5        12\n",
       "6        10\n",
       "4         9\n",
       "2         9\n",
       "8         6\n",
       "7         6\n",
       "3         6\n",
       "1         5\n",
       "12        3\n",
       "Name: date, dtype: int64"
      ]
     },
     "execution_count": 43,
     "metadata": {},
     "output_type": "execute_result"
    }
   ],
   "source": [
    "ff3['date'].dt.month.value_counts()"
   ]
  },
  {
   "cell_type": "code",
   "execution_count": 37,
   "metadata": {},
   "outputs": [
    {
     "name": "stdout",
     "output_type": "stream",
     "text": [
      "(197804, 55) (48665, 55)\n",
      "246469\n",
      "201908    197804\n",
      "Name: Tahun Bulan Data, dtype: int64\n",
      "201909    48665\n",
      "Name: Tahun Bulan Data, dtype: int64\n"
     ]
    }
   ],
   "source": [
    "# ff39 = ff3.loc[ff3['date']<'2019-09-01']\n",
    "# ff30 = ff3.loc[ff3['date']>='2019-09-01']\n",
    "# print(ff39.shape,ff30.shape)\n",
    "# print(ff39.shape[0]+ff30.shape[0])\n",
    "# ff39['Tahun Bulan Data'] = '201908'\n",
    "# ff30['Tahun Bulan Data'] = '201909'\n",
    "# print(ff39['Tahun Bulan Data'].value_counts())\n",
    "# ff39=ff39[['Kode Jenis Pelapor', 'Kode Pelapor', 'Tahun Bulan Data',\n",
    "#        'Kode Jenis Fasilitas', 'Nomor Rekening Fasilitas',\n",
    "#        'Nomor Rekening Lama Fasilitas', 'Nomor CIF Debitur',\n",
    "#        'Kode Sifat Kredit atau Pembiayaan',\n",
    "#        'Kode Jenis Kredit atau Pembiayaan',\n",
    "#        'Kode Akad Kredit atau Akad Pembiayaan', 'Nomor Akad Awal',\n",
    "#        'Tanggal Akad Awal', 'Nomor Akad Akhir', 'Tanggal Akad Akhir',\n",
    "#        'Frekuensi Perpanjangan Fasilitas Kredit atau Pembiayaan',\n",
    "#        'Tanggal Awal Kredit atau Pembiayaan', 'Tanggal Mulai',\n",
    "#        'Tanggal Jatuh Tempo', 'Kode Kategori Debitur', 'Kode Jenis Penggunaan',\n",
    "#        'Kode Orientasi Penggunaan', 'Kode Sektor Ekonomi',\n",
    "#        'Kode Kabupaten atau Kota Lokasi Proyek atau Penggunaan Kredit atau Pembiayaan',\n",
    "#        'Nilai Proyek', 'Kode Valuta', 'Suku Bunga atau Imbalan',\n",
    "#        'Jenis Suku Bunga atau Imbalan',\n",
    "#        'Kredit atau Pembiayaan Program Pemerintah', 'Plafon Awal', 'Plafon',\n",
    "#        'Realisasi atau Pencairan Bulan Berjalan', 'Denda', 'Baki Debet',\n",
    "#        'Nilai dalam Mata Uang Asal', 'Kode Kualitas Kredit atau Pembiayaan',\n",
    "#        'Tanggal Macet', 'Kode Sebab Macet', 'Tunggakan Pokok',\n",
    "#        'Tunggakan Bunga atau Imbalan', 'Jumlah Hari Tunggakan',\n",
    "#        'Frekuensi Tunggakan', 'Frekuensi Restrukturisasi',\n",
    "#        'Tanggal Restrukturisasi Awal', 'Tanggal Restrukturisasi Akhir',\n",
    "#        'Kode Cara Restrukturisasi', 'Kode Kondisi', 'Tanggal Kondisi',\n",
    "#        'Keterangan', 'Kode Kantor Cabang', 'Operasi Data', 'Status delete',\n",
    "#        'Create Date', 'Update Date']]\n",
    "# print(ff30['Tahun Bulan Data'].value_counts())\n",
    "# ff30=ff30[['Kode Jenis Pelapor', 'Kode Pelapor', 'Tahun Bulan Data',\n",
    "#        'Kode Jenis Fasilitas', 'Nomor Rekening Fasilitas',\n",
    "#        'Nomor Rekening Lama Fasilitas', 'Nomor CIF Debitur',\n",
    "#        'Kode Sifat Kredit atau Pembiayaan',\n",
    "#        'Kode Jenis Kredit atau Pembiayaan',\n",
    "#        'Kode Akad Kredit atau Akad Pembiayaan', 'Nomor Akad Awal',\n",
    "#        'Tanggal Akad Awal', 'Nomor Akad Akhir', 'Tanggal Akad Akhir',\n",
    "#        'Frekuensi Perpanjangan Fasilitas Kredit atau Pembiayaan',\n",
    "#        'Tanggal Awal Kredit atau Pembiayaan', 'Tanggal Mulai',\n",
    "#        'Tanggal Jatuh Tempo', 'Kode Kategori Debitur', 'Kode Jenis Penggunaan',\n",
    "#        'Kode Orientasi Penggunaan', 'Kode Sektor Ekonomi',\n",
    "#        'Kode Kabupaten atau Kota Lokasi Proyek atau Penggunaan Kredit atau Pembiayaan',\n",
    "#        'Nilai Proyek', 'Kode Valuta', 'Suku Bunga atau Imbalan',\n",
    "#        'Jenis Suku Bunga atau Imbalan',\n",
    "#        'Kredit atau Pembiayaan Program Pemerintah', 'Plafon Awal', 'Plafon',\n",
    "#        'Realisasi atau Pencairan Bulan Berjalan', 'Denda', 'Baki Debet',\n",
    "#        'Nilai dalam Mata Uang Asal', 'Kode Kualitas Kredit atau Pembiayaan',\n",
    "#        'Tanggal Macet', 'Kode Sebab Macet', 'Tunggakan Pokok',\n",
    "#        'Tunggakan Bunga atau Imbalan', 'Jumlah Hari Tunggakan',\n",
    "#        'Frekuensi Tunggakan', 'Frekuensi Restrukturisasi',\n",
    "#        'Tanggal Restrukturisasi Awal', 'Tanggal Restrukturisasi Akhir',\n",
    "#        'Kode Cara Restrukturisasi', 'Kode Kondisi', 'Tanggal Kondisi',\n",
    "#        'Keterangan', 'Kode Kantor Cabang', 'Operasi Data', 'Status delete',\n",
    "#        'Create Date', 'Update Date']]"
   ]
  },
  {
   "cell_type": "code",
   "execution_count": 28,
   "metadata": {},
   "outputs": [],
   "source": [
    "#ff39.to_csv(path_or_buf='F01-201908.txt', sep='|',index =0)"
   ]
  },
  {
   "cell_type": "markdown",
   "metadata": {},
   "source": [
    "# F01 identify Update population"
   ]
  },
  {
   "cell_type": "code",
   "execution_count": null,
   "metadata": {},
   "outputs": [],
   "source": [
    "F01['date']= pd.to_datetime(F01['Update Date'])\n",
    "F01new['date']= pd.to_datetime(F01new['Update Date'])\n",
    "print(F01['date'].max())\n",
    "print(F01new['date'].max())"
   ]
  },
  {
   "cell_type": "code",
   "execution_count": null,
   "metadata": {},
   "outputs": [],
   "source": [
    "fu3 = pd.concat([F01,F01new])\n",
    "fu3['date'] = pd.to_datetime(fu3['Update Date'])\n",
    "fu3 = fu3.sort_values(by=['Nomor Rekening Fasilitas','date'])"
   ]
  },
  {
   "cell_type": "code",
   "execution_count": null,
   "metadata": {},
   "outputs": [],
   "source": [
    "fu3 = fu3.drop_duplicates(subset=['Nomor Rekening Fasilitas'],keep='last')\n",
    "fu3.shape"
   ]
  },
  {
   "cell_type": "markdown",
   "metadata": {},
   "source": [
    "## get additional data for missing data request from KBIJ"
   ]
  },
  {
   "cell_type": "code",
   "execution_count": 76,
   "metadata": {},
   "outputs": [],
   "source": [
    "# datahilang = pd.read_csv('Indodana-F01-201909-2-missingdata.csv',dtype=str)\n",
    "# datahilang = datahilang[['Nomor Rekening Fasilitas']].merge(fu3,how='inner',on='Nomor Rekening Fasilitas')\n",
    "# datahilang['Operasi Data']='U'\n",
    "# datahilang=datahilang[['Kode Jenis Pelapor', 'Kode Pelapor', 'Tahun Bulan Data',\n",
    "#        'Kode Jenis Fasilitas', 'Nomor Rekening Fasilitas',\n",
    "#        'Nomor Rekening Lama Fasilitas', 'Nomor CIF Debitur',\n",
    "#        'Kode Sifat Kredit atau Pembiayaan',\n",
    "#        'Kode Jenis Kredit atau Pembiayaan',\n",
    "#        'Kode Akad Kredit atau Akad Pembiayaan', 'Nomor Akad Awal',\n",
    "#        'Tanggal Akad Awal', 'Nomor Akad Akhir', 'Tanggal Akad Akhir',\n",
    "#        'Frekuensi Perpanjangan Fasilitas Kredit atau Pembiayaan',\n",
    "#        'Tanggal Awal Kredit atau Pembiayaan', 'Tanggal Mulai',\n",
    "#        'Tanggal Jatuh Tempo', 'Kode Kategori Debitur', 'Kode Jenis Penggunaan',\n",
    "#        'Kode Orientasi Penggunaan', 'Kode Sektor Ekonomi',\n",
    "#        'Kode Kabupaten atau Kota Lokasi Proyek atau Penggunaan Kredit atau Pembiayaan',\n",
    "#        'Nilai Proyek', 'Kode Valuta', 'Suku Bunga atau Imbalan',\n",
    "#        'Jenis Suku Bunga atau Imbalan',\n",
    "#        'Kredit atau Pembiayaan Program Pemerintah', 'Plafon Awal', 'Plafon',\n",
    "#        'Realisasi atau Pencairan Bulan Berjalan', 'Denda', 'Baki Debet',\n",
    "#        'Nilai dalam Mata Uang Asal', 'Kode Kualitas Kredit atau Pembiayaan',\n",
    "#        'Tanggal Macet', 'Kode Sebab Macet', 'Tunggakan Pokok',\n",
    "#        'Tunggakan Bunga atau Imbalan', 'Jumlah Hari Tunggakan',\n",
    "#        'Frekuensi Tunggakan', 'Frekuensi Restrukturisasi',\n",
    "#        'Tanggal Restrukturisasi Awal', 'Tanggal Restrukturisasi Akhir',\n",
    "#        'Kode Cara Restrukturisasi', 'Kode Kondisi', 'Tanggal Kondisi',\n",
    "#        'Keterangan', 'Kode Kantor Cabang', 'Operasi Data', 'Status delete',\n",
    "#        'Create Date', 'Update Date']]\n",
    "# datahilang.to_csv(path_or_buf='F01-201910rev1additional.txt', sep='|',index =0)"
   ]
  },
  {
   "cell_type": "markdown",
   "metadata": {},
   "source": [
    "Filter update by previous max date"
   ]
  },
  {
   "cell_type": "code",
   "execution_count": 239,
   "metadata": {},
   "outputs": [
    {
     "data": {
      "text/plain": [
       "(111861, 54)"
      ]
     },
     "execution_count": 239,
     "metadata": {},
     "output_type": "execute_result"
    }
   ],
   "source": [
    "fu3 = fu3.loc[fu3['date']>F01['date'].max()]\n",
    "fu3.shape"
   ]
  },
  {
   "cell_type": "code",
   "execution_count": 48,
   "metadata": {},
   "outputs": [
    {
     "data": {
      "text/plain": [
       "(111861, 54)"
      ]
     },
     "execution_count": 48,
     "metadata": {},
     "output_type": "execute_result"
    }
   ],
   "source": [
    "filterfu3 = fu3.loc[fu3['date']>F01['date'].max()]\n",
    "filterfu3.shape"
   ]
  },
  {
   "cell_type": "code",
   "execution_count": 240,
   "metadata": {},
   "outputs": [],
   "source": [
    "fu3 = fu3.merge(ff3[['Nomor Rekening Fasilitas','sign']], left_on='Nomor Rekening Fasilitas', right_on='Nomor Rekening Fasilitas', how='left')"
   ]
  },
  {
   "cell_type": "markdown",
   "metadata": {},
   "source": [
    "Filter create"
   ]
  },
  {
   "cell_type": "code",
   "execution_count": 241,
   "metadata": {},
   "outputs": [
    {
     "data": {
      "text/plain": [
       "(65406, 55)"
      ]
     },
     "execution_count": 241,
     "metadata": {},
     "output_type": "execute_result"
    }
   ],
   "source": [
    "fu3 = fu3.loc[~(fu3['sign']==1)]\n",
    "fu3['Tahun Bulan Data'] = datem\n",
    "fu3['Operasi Data'] = 'U'\n",
    "fu3.shape"
   ]
  },
  {
   "cell_type": "code",
   "execution_count": 243,
   "metadata": {},
   "outputs": [
    {
     "data": {
      "text/plain": [
       "(112498, 53)"
      ]
     },
     "execution_count": 243,
     "metadata": {},
     "output_type": "execute_result"
    }
   ],
   "source": [
    "# fu3 = pd.concat([fu3,ff30])\n",
    "fu3 = pd.concat([fu3,ff3])\n",
    "fu3 = fu3.drop(columns=['date','sign'])\n",
    "fu3.shape"
   ]
  },
  {
   "cell_type": "markdown",
   "metadata": {},
   "source": [
    "# Cleansing D01 \n",
    "- Finding the delta between the new D01 and old D01. The resulting dataframe will be the new debtors created after the old D01."
   ]
  },
  {
   "cell_type": "markdown",
   "metadata": {},
   "source": [
    "## Identify Create Population D01"
   ]
  },
  {
   "cell_type": "code",
   "execution_count": 149,
   "metadata": {},
   "outputs": [
    {
     "data": {
      "text/plain": [
       "(21216, 35)"
      ]
     },
     "execution_count": 149,
     "metadata": {},
     "output_type": "execute_result"
    }
   ],
   "source": [
    "df3 = pd.concat([D01,D01new]).drop_duplicates(subset=['Nomor CIF Debitur'],keep=False)\n",
    "df3.shape"
   ]
  },
  {
   "cell_type": "code",
   "execution_count": 150,
   "metadata": {},
   "outputs": [],
   "source": [
    "df3['date'] = pd.to_datetime(df3['Create Date'])\n",
    "df3['signc'] = 1"
   ]
  },
  {
   "cell_type": "code",
   "execution_count": 31,
   "metadata": {},
   "outputs": [],
   "source": [
    "# File to Send to KBIJ D01\n",
    "#df3.to_csv(path_or_buf='D01-201910.txt', sep='|',index =0)"
   ]
  },
  {
   "cell_type": "markdown",
   "metadata": {},
   "source": [
    "## Identify Not Update Population D01 (All Active)"
   ]
  },
  {
   "cell_type": "markdown",
   "metadata": {},
   "source": [
    "Identify Active by Merging Complete D01 data with reported F01 data"
   ]
  },
  {
   "cell_type": "code",
   "execution_count": 151,
   "metadata": {},
   "outputs": [],
   "source": [
    "factive = fu3[['Nomor CIF Debitur']].drop_duplicates()\n",
    "factive['sign'] = 1"
   ]
  },
  {
   "cell_type": "code",
   "execution_count": 152,
   "metadata": {},
   "outputs": [
    {
     "name": "stdout",
     "output_type": "stream",
     "text": [
      "(89819, 36)\n",
      "(75042, 37)\n"
     ]
    }
   ],
   "source": [
    "# merge to get active D01\n",
    "dn3=D01new.merge(factive,on='Nomor CIF Debitur', how='inner')\n",
    "dn3['Operasi Data'] = 'N'\n",
    "print(dn3.shape)\n",
    "# remove cancelled D01\n",
    "dn3=dn3.merge(df3[['Nomor CIF Debitur','signc']],on='Nomor CIF Debitur', how='left')\n",
    "dn3=dn3.loc[~(dn3['signc']==1)]\n",
    "print(dn3.shape)"
   ]
  },
  {
   "cell_type": "markdown",
   "metadata": {},
   "source": [
    "Combine Create df3 and Not Active dn3"
   ]
  },
  {
   "cell_type": "code",
   "execution_count": 153,
   "metadata": {},
   "outputs": [
    {
     "data": {
      "text/plain": [
       "(96258, 35)"
      ]
     },
     "execution_count": 153,
     "metadata": {},
     "output_type": "execute_result"
    }
   ],
   "source": [
    "dn3 = pd.concat([dn3,df3])\n",
    "dn3['Tahun Bulan Data'] = datem\n",
    "dn3 = dn3.drop(columns=['date','sign','signc'])\n",
    "dn3.shape"
   ]
  },
  {
   "cell_type": "markdown",
   "metadata": {},
   "source": [
    "Remove F01 without D01 "
   ]
  },
  {
   "cell_type": "code",
   "execution_count": 101,
   "metadata": {},
   "outputs": [
    {
     "name": "stdout",
     "output_type": "stream",
     "text": [
      "before  (112498, 53)\n",
      "after  (112319, 53)\n"
     ]
    }
   ],
   "source": [
    "print('before ',fu3.shape)\n",
    "fu3 = fu3.merge(dn3[['Nomor CIF Debitur']],how='inner',on='Nomor CIF Debitur')\n",
    "print('after ',fu3.shape)"
   ]
  },
  {
   "cell_type": "markdown",
   "metadata": {},
   "source": [
    "# Final File to Send to KBIJ D01 and F01"
   ]
  },
  {
   "cell_type": "code",
   "execution_count": 27,
   "metadata": {},
   "outputs": [],
   "source": [
    "# Fix F01-201910rev.txt\n",
    "# fu3 = pd.read_csv('F01-201910.txt', dtype=str, sep='|')\n",
    "# fu3=fu3[['Kode Jenis Pelapor', 'Kode Pelapor', 'Tahun Bulan Data',\n",
    "#        'Kode Jenis Fasilitas', 'Nomor Rekening Fasilitas',\n",
    "#        'Nomor Rekening Lama Fasilitas', 'Nomor CIF Debitur',\n",
    "#        'Kode Sifat Kredit atau Pembiayaan',\n",
    "#        'Kode Jenis Kredit atau Pembiayaan',\n",
    "#        'Kode Akad Kredit atau Akad Pembiayaan', 'Nomor Akad Awal',\n",
    "#        'Tanggal Akad Awal', 'Nomor Akad Akhir', 'Tanggal Akad Akhir',\n",
    "#        'Frekuensi Perpanjangan Fasilitas Kredit atau Pembiayaan',\n",
    "#        'Tanggal Awal Kredit atau Pembiayaan', 'Tanggal Mulai',\n",
    "#        'Tanggal Jatuh Tempo', 'Kode Kategori Debitur', 'Kode Jenis Penggunaan',\n",
    "#        'Kode Orientasi Penggunaan', 'Kode Sektor Ekonomi',\n",
    "#        'Kode Kabupaten atau Kota Lokasi Proyek atau Penggunaan Kredit atau Pembiayaan',\n",
    "#        'Nilai Proyek', 'Kode Valuta', 'Suku Bunga atau Imbalan',\n",
    "#        'Jenis Suku Bunga atau Imbalan',\n",
    "#        'Kredit atau Pembiayaan Program Pemerintah', 'Plafon Awal', 'Plafon',\n",
    "#        'Realisasi atau Pencairan Bulan Berjalan', 'Denda', 'Baki Debet',\n",
    "#        'Nilai dalam Mata Uang Asal', 'Kode Kualitas Kredit atau Pembiayaan',\n",
    "#        'Tanggal Macet', 'Kode Sebab Macet', 'Tunggakan Pokok',\n",
    "#        'Tunggakan Bunga atau Imbalan', 'Jumlah Hari Tunggakan',\n",
    "#        'Frekuensi Tunggakan', 'Frekuensi Restrukturisasi',\n",
    "#        'Tanggal Restrukturisasi Awal', 'Tanggal Restrukturisasi Akhir',\n",
    "#        'Kode Cara Restrukturisasi', 'Kode Kondisi', 'Tanggal Kondisi',\n",
    "#        'Keterangan', 'Kode Kantor Cabang', 'Operasi Data', 'Status delete',\n",
    "#        'Create Date', 'Update Date']]\n",
    "# print(fu3.shape)\n",
    "# fu3.to_csv(path_or_buf='F01-201910rev.txt', sep='|',index =0)"
   ]
  },
  {
   "cell_type": "code",
   "execution_count": 257,
   "metadata": {},
   "outputs": [],
   "source": [
    "#debugging\n",
    "#F01.to_csv('datacreate.csv') \n",
    "#fu3.to_csv('dataupdate.csv')"
   ]
  },
  {
   "cell_type": "markdown",
   "metadata": {},
   "source": [
    "Null check for CIF and NIK"
   ]
  },
  {
   "cell_type": "code",
   "execution_count": 156,
   "metadata": {},
   "outputs": [
    {
     "data": {
      "text/html": [
       "<div>\n",
       "<style scoped>\n",
       "    .dataframe tbody tr th:only-of-type {\n",
       "        vertical-align: middle;\n",
       "    }\n",
       "\n",
       "    .dataframe tbody tr th {\n",
       "        vertical-align: top;\n",
       "    }\n",
       "\n",
       "    .dataframe thead th {\n",
       "        text-align: right;\n",
       "    }\n",
       "</style>\n",
       "<table border=\"1\" class=\"dataframe\">\n",
       "  <thead>\n",
       "    <tr style=\"text-align: right;\">\n",
       "      <th></th>\n",
       "      <th>Kode Jenis Pelapor</th>\n",
       "      <th>Kode Pelapor</th>\n",
       "      <th>Tahun Bulan Data</th>\n",
       "      <th>Nomor CIF Lama Debitur</th>\n",
       "      <th>Nomor CIF Debitur</th>\n",
       "      <th>Jenis Identitas</th>\n",
       "      <th>Nomor Identitas</th>\n",
       "      <th>Nama Sesuai Identitas</th>\n",
       "      <th>Nama Lengkap</th>\n",
       "      <th>Kode Status Pendidikan atau Gelar Debitur</th>\n",
       "      <th>...</th>\n",
       "      <th>Tempat Bekerja</th>\n",
       "      <th>Kode Bidang Usaha Tempat Bekerja</th>\n",
       "      <th>Alamat Tempat Bekerja</th>\n",
       "      <th>Kode Golongan Debitur</th>\n",
       "      <th>Status Perkawinan Debitur</th>\n",
       "      <th>Kode Kantor Cabang</th>\n",
       "      <th>Operasi Data</th>\n",
       "      <th>Status delete</th>\n",
       "      <th>Create Date</th>\n",
       "      <th>Update Date</th>\n",
       "    </tr>\n",
       "  </thead>\n",
       "  <tbody>\n",
       "  </tbody>\n",
       "</table>\n",
       "<p>0 rows × 35 columns</p>\n",
       "</div>"
      ],
      "text/plain": [
       "Empty DataFrame\n",
       "Columns: [Kode Jenis Pelapor, Kode Pelapor, Tahun Bulan Data, Nomor CIF Lama Debitur, Nomor CIF Debitur, Jenis Identitas, Nomor Identitas, Nama Sesuai Identitas, Nama Lengkap, Kode Status Pendidikan atau Gelar Debitur, Jenis Kelamin, Tempat Lahir, Tanggal Lahir, Nama Gadis Ibu Kandung, NPWP, Alamat, Kelurahan, Kecamatan, Kode Kabupaten atau Kota, Kode Pos, Nomor Telepon, Nomor Telepon Seluler, Alamat e-mail, Kode Negara Domisili, Kode Pekerjaan, Tempat Bekerja, Kode Bidang Usaha Tempat Bekerja, Alamat Tempat Bekerja, Kode Golongan Debitur, Status Perkawinan Debitur, Kode Kantor Cabang, Operasi Data, Status delete, Create Date, Update Date]\n",
       "Index: []\n",
       "\n",
       "[0 rows x 35 columns]"
      ]
     },
     "execution_count": 156,
     "metadata": {},
     "output_type": "execute_result"
    }
   ],
   "source": [
    "dn3.loc[(dn3['Nomor CIF Debitur'].isna())|(dn3['Nama Lengkap'].isna())|(dn3['Tanggal Lahir'].isna())|(dn3['Nomor Identitas'].isna())]"
   ]
  },
  {
   "cell_type": "code",
   "execution_count": 157,
   "metadata": {},
   "outputs": [
    {
     "data": {
      "text/html": [
       "<div>\n",
       "<style scoped>\n",
       "    .dataframe tbody tr th:only-of-type {\n",
       "        vertical-align: middle;\n",
       "    }\n",
       "\n",
       "    .dataframe tbody tr th {\n",
       "        vertical-align: top;\n",
       "    }\n",
       "\n",
       "    .dataframe thead th {\n",
       "        text-align: right;\n",
       "    }\n",
       "</style>\n",
       "<table border=\"1\" class=\"dataframe\">\n",
       "  <thead>\n",
       "    <tr style=\"text-align: right;\">\n",
       "      <th></th>\n",
       "      <th>Kode Jenis Pelapor</th>\n",
       "      <th>Kode Pelapor</th>\n",
       "      <th>Tahun Bulan Data</th>\n",
       "      <th>Kode Jenis Fasilitas</th>\n",
       "      <th>Nomor Rekening Fasilitas</th>\n",
       "      <th>Nomor Rekening Lama Fasilitas</th>\n",
       "      <th>Nomor CIF Debitur</th>\n",
       "      <th>Kode Sifat Kredit atau Pembiayaan</th>\n",
       "      <th>Kode Jenis Kredit atau Pembiayaan</th>\n",
       "      <th>Kode Akad Kredit atau Akad Pembiayaan</th>\n",
       "      <th>...</th>\n",
       "      <th>Tanggal Restrukturisasi Akhir</th>\n",
       "      <th>Kode Cara Restrukturisasi</th>\n",
       "      <th>Kode Kondisi</th>\n",
       "      <th>Tanggal Kondisi</th>\n",
       "      <th>Keterangan</th>\n",
       "      <th>Kode Kantor Cabang</th>\n",
       "      <th>Operasi Data</th>\n",
       "      <th>Status delete</th>\n",
       "      <th>Create Date</th>\n",
       "      <th>Update Date</th>\n",
       "    </tr>\n",
       "  </thead>\n",
       "  <tbody>\n",
       "  </tbody>\n",
       "</table>\n",
       "<p>0 rows × 53 columns</p>\n",
       "</div>"
      ],
      "text/plain": [
       "Empty DataFrame\n",
       "Columns: [Kode Jenis Pelapor, Kode Pelapor, Tahun Bulan Data, Kode Jenis Fasilitas, Nomor Rekening Fasilitas, Nomor Rekening Lama Fasilitas, Nomor CIF Debitur, Kode Sifat Kredit atau Pembiayaan, Kode Jenis Kredit atau Pembiayaan, Kode Akad Kredit atau Akad Pembiayaan, Nomor Akad Awal, Tanggal Akad Awal, Nomor Akad Akhir, Tanggal Akad Akhir, Frekuensi Perpanjangan Fasilitas Kredit atau Pembiayaan, Tanggal Awal Kredit atau Pembiayaan, Tanggal Mulai, Tanggal Jatuh Tempo, Kode Kategori Debitur, Kode Jenis Penggunaan, Kode Orientasi Penggunaan, Kode Sektor Ekonomi, Kode Kabupaten atau Kota Lokasi Proyek atau Penggunaan Kredit atau Pembiayaan, Nilai Proyek, Kode Valuta, Suku Bunga atau Imbalan, Jenis Suku Bunga atau Imbalan, Kredit atau Pembiayaan Program Pemerintah, Plafon Awal, Plafon, Realisasi atau Pencairan Bulan Berjalan, Denda, Baki Debet, Nilai dalam Mata Uang Asal, Kode Kualitas Kredit atau Pembiayaan, Tanggal Macet, Kode Sebab Macet, Tunggakan Pokok, Tunggakan Bunga atau Imbalan, Jumlah Hari Tunggakan, Frekuensi Tunggakan, Frekuensi Restrukturisasi, Tanggal Restrukturisasi Awal, Tanggal Restrukturisasi Akhir, Kode Cara Restrukturisasi, Kode Kondisi, Tanggal Kondisi, Keterangan, Kode Kantor Cabang, Operasi Data, Status delete, Create Date, Update Date]\n",
       "Index: []\n",
       "\n",
       "[0 rows x 53 columns]"
      ]
     },
     "execution_count": 157,
     "metadata": {},
     "output_type": "execute_result"
    }
   ],
   "source": [
    "fu3.loc[fu3['Nomor CIF Debitur'].isna()]"
   ]
  },
  {
   "cell_type": "markdown",
   "metadata": {},
   "source": [
    "Export Latest Data"
   ]
  },
  {
   "cell_type": "code",
   "execution_count": 255,
   "metadata": {},
   "outputs": [
    {
     "name": "stdout",
     "output_type": "stream",
     "text": [
      "F01-201910.txt D01-201910.txt\n"
     ]
    }
   ],
   "source": [
    "timestr = time.strftime(\"%Y%m%d-%H%M%S\")\n",
    "F01name = 'F01'+'-'+datem+'.txt'\n",
    "D01name = 'D01'+'-'+datem+'.txt'\n",
    "print(F01name,D01name)"
   ]
  },
  {
   "cell_type": "code",
   "execution_count": 257,
   "metadata": {},
   "outputs": [
    {
     "data": {
      "text/plain": [
       "'D01-201910.txt'"
      ]
     },
     "execution_count": 257,
     "metadata": {},
     "output_type": "execute_result"
    }
   ],
   "source": [
    "D01name"
   ]
  },
  {
   "cell_type": "code",
   "execution_count": 155,
   "metadata": {},
   "outputs": [],
   "source": [
    "fu3=fu3[['Kode Jenis Pelapor', 'Kode Pelapor', 'Tahun Bulan Data',\n",
    "       'Kode Jenis Fasilitas', 'Nomor Rekening Fasilitas',\n",
    "       'Nomor Rekening Lama Fasilitas', 'Nomor CIF Debitur',\n",
    "       'Kode Sifat Kredit atau Pembiayaan',\n",
    "       'Kode Jenis Kredit atau Pembiayaan',\n",
    "       'Kode Akad Kredit atau Akad Pembiayaan', 'Nomor Akad Awal',\n",
    "       'Tanggal Akad Awal', 'Nomor Akad Akhir', 'Tanggal Akad Akhir',\n",
    "       'Frekuensi Perpanjangan Fasilitas Kredit atau Pembiayaan',\n",
    "       'Tanggal Awal Kredit atau Pembiayaan', 'Tanggal Mulai',\n",
    "       'Tanggal Jatuh Tempo', 'Kode Kategori Debitur', 'Kode Jenis Penggunaan',\n",
    "       'Kode Orientasi Penggunaan', 'Kode Sektor Ekonomi',\n",
    "       'Kode Kabupaten atau Kota Lokasi Proyek atau Penggunaan Kredit atau Pembiayaan',\n",
    "       'Nilai Proyek', 'Kode Valuta', 'Suku Bunga atau Imbalan',\n",
    "       'Jenis Suku Bunga atau Imbalan',\n",
    "       'Kredit atau Pembiayaan Program Pemerintah', 'Plafon Awal', 'Plafon',\n",
    "       'Realisasi atau Pencairan Bulan Berjalan', 'Denda', 'Baki Debet',\n",
    "       'Nilai dalam Mata Uang Asal', 'Kode Kualitas Kredit atau Pembiayaan',\n",
    "       'Tanggal Macet', 'Kode Sebab Macet', 'Tunggakan Pokok',\n",
    "       'Tunggakan Bunga atau Imbalan', 'Jumlah Hari Tunggakan',\n",
    "       'Frekuensi Tunggakan', 'Frekuensi Restrukturisasi',\n",
    "       'Tanggal Restrukturisasi Awal', 'Tanggal Restrukturisasi Akhir',\n",
    "       'Kode Cara Restrukturisasi', 'Kode Kondisi', 'Tanggal Kondisi',\n",
    "       'Keterangan', 'Kode Kantor Cabang', 'Operasi Data', 'Status delete',\n",
    "       'Create Date', 'Update Date']]\n",
    "dn3=dn3[['Kode Jenis Pelapor', 'Kode Pelapor', 'Tahun Bulan Data',\n",
    "       'Nomor CIF Lama Debitur', 'Nomor CIF Debitur', 'Jenis Identitas',\n",
    "       'Nomor Identitas', 'Nama Sesuai Identitas', 'Nama Lengkap',\n",
    "       'Kode Status Pendidikan atau Gelar Debitur', 'Jenis Kelamin',\n",
    "       'Tempat Lahir', 'Tanggal Lahir', 'Nama Gadis Ibu Kandung', 'NPWP',\n",
    "       'Alamat', 'Kelurahan', 'Kecamatan', 'Kode Kabupaten atau Kota',\n",
    "       'Kode Pos', 'Nomor Telepon', 'Nomor Telepon Seluler', 'Alamat e-mail',\n",
    "       'Kode Negara Domisili', 'Kode Pekerjaan', 'Tempat Bekerja',\n",
    "       'Kode Bidang Usaha Tempat Bekerja', 'Alamat Tempat Bekerja',\n",
    "       'Kode Golongan Debitur', 'Status Perkawinan Debitur',\n",
    "       'Kode Kantor Cabang', 'Operasi Data', 'Status delete', 'Create Date',\n",
    "       'Update Date']]"
   ]
  },
  {
   "cell_type": "markdown",
   "metadata": {},
   "source": [
    "## Export file for KBIJ Reporting"
   ]
  },
  {
   "cell_type": "code",
   "execution_count": 258,
   "metadata": {},
   "outputs": [],
   "source": [
    "dn3.to_csv(path_or_buf=D01name, sep='|',index =0)\n",
    "fu3.to_csv(path_or_buf=F01name, sep='|',index =0)"
   ]
  },
  {
   "cell_type": "code",
   "execution_count": 108,
   "metadata": {},
   "outputs": [],
   "source": [
    "# fu3.to_csv(path_or_buf='F01-201910rev.txt', sep='|',index =0)\n",
    "# dn3.to_csv(path_or_buf='D01-201910rev.txt', sep='|',index =0)"
   ]
  },
  {
   "cell_type": "code",
   "execution_count": 89,
   "metadata": {},
   "outputs": [],
   "source": [
    "dn3 = pd.read_csv('D01-201910rev.txt',dtype=str,sep='|')\n",
    "dn3=dn3[['Kode Jenis Pelapor', 'Kode Pelapor', 'Tahun Bulan Data',\n",
    "       'Nomor CIF Lama Debitur', 'Nomor CIF Debitur', 'Jenis Identitas',\n",
    "       'Nomor Identitas', 'Nama Sesuai Identitas', 'Nama Lengkap',\n",
    "       'Kode Status Pendidikan atau Gelar Debitur', 'Jenis Kelamin',\n",
    "       'Tempat Lahir', 'Tanggal Lahir', 'Nama Gadis Ibu Kandung', 'NPWP',\n",
    "       'Alamat', 'Kelurahan', 'Kecamatan', 'Kode Kabupaten atau Kota',\n",
    "       'Kode Pos', 'Nomor Telepon', 'Nomor Telepon Seluler', 'Alamat e-mail',\n",
    "       'Kode Negara Domisili', 'Kode Pekerjaan', 'Tempat Bekerja',\n",
    "       'Kode Bidang Usaha Tempat Bekerja', 'Alamat Tempat Bekerja',\n",
    "       'Kode Golongan Debitur', 'Status Perkawinan Debitur',\n",
    "       'Kode Kantor Cabang', 'Operasi Data', 'Status delete', 'Create Date',\n",
    "       'Update Date']]\n",
    "dn3.to_csv(path_or_buf='D01-201910rev1.txt', sep='|',index =0)"
   ]
  },
  {
   "cell_type": "code",
   "execution_count": 55,
   "metadata": {},
   "outputs": [
    {
     "data": {
      "text/html": [
       "<div>\n",
       "<style scoped>\n",
       "    .dataframe tbody tr th:only-of-type {\n",
       "        vertical-align: middle;\n",
       "    }\n",
       "\n",
       "    .dataframe tbody tr th {\n",
       "        vertical-align: top;\n",
       "    }\n",
       "\n",
       "    .dataframe thead th {\n",
       "        text-align: right;\n",
       "    }\n",
       "</style>\n",
       "<table border=\"1\" class=\"dataframe\">\n",
       "  <thead>\n",
       "    <tr style=\"text-align: right;\">\n",
       "      <th></th>\n",
       "      <th>Baki Debet</th>\n",
       "      <th>Create Date</th>\n",
       "      <th>Denda</th>\n",
       "      <th>Frekuensi Perpanjangan Fasilitas Kredit atau Pembiayaan</th>\n",
       "      <th>Frekuensi Restrukturisasi</th>\n",
       "      <th>Frekuensi Tunggakan</th>\n",
       "      <th>Jenis Suku Bunga atau Imbalan</th>\n",
       "      <th>Jumlah Hari Tunggakan</th>\n",
       "      <th>Keterangan</th>\n",
       "      <th>Kode Akad Kredit atau Akad Pembiayaan</th>\n",
       "      <th>...</th>\n",
       "      <th>Tanggal Jatuh Tempo</th>\n",
       "      <th>Tanggal Kondisi</th>\n",
       "      <th>Tanggal Macet</th>\n",
       "      <th>Tanggal Mulai</th>\n",
       "      <th>Tanggal Restrukturisasi Akhir</th>\n",
       "      <th>Tanggal Restrukturisasi Awal</th>\n",
       "      <th>Tunggakan Bunga atau Imbalan</th>\n",
       "      <th>Tunggakan Pokok</th>\n",
       "      <th>Update Date</th>\n",
       "      <th>date</th>\n",
       "    </tr>\n",
       "  </thead>\n",
       "  <tbody>\n",
       "    <tr>\n",
       "      <th>195884</th>\n",
       "      <td>0</td>\n",
       "      <td>20190901065347</td>\n",
       "      <td>0</td>\n",
       "      <td>0</td>\n",
       "      <td>0</td>\n",
       "      <td>0</td>\n",
       "      <td>1</td>\n",
       "      <td>0</td>\n",
       "      <td>NaN</td>\n",
       "      <td>00</td>\n",
       "      <td>...</td>\n",
       "      <td>20191001</td>\n",
       "      <td>20191001</td>\n",
       "      <td>NaN</td>\n",
       "      <td>20190901</td>\n",
       "      <td>NaN</td>\n",
       "      <td>NaN</td>\n",
       "      <td>0</td>\n",
       "      <td>0</td>\n",
       "      <td>20191001123818</td>\n",
       "      <td>2019-10-01 12:38:18</td>\n",
       "    </tr>\n",
       "  </tbody>\n",
       "</table>\n",
       "<p>1 rows × 54 columns</p>\n",
       "</div>"
      ],
      "text/plain": [
       "       Baki Debet     Create Date Denda  \\\n",
       "195884          0  20190901065347     0   \n",
       "\n",
       "       Frekuensi Perpanjangan Fasilitas Kredit atau Pembiayaan  \\\n",
       "195884                                                  0        \n",
       "\n",
       "       Frekuensi Restrukturisasi Frekuensi Tunggakan  \\\n",
       "195884                         0                   0   \n",
       "\n",
       "       Jenis Suku Bunga atau Imbalan Jumlah Hari Tunggakan  Keterangan  \\\n",
       "195884                             1                     0         NaN   \n",
       "\n",
       "       Kode Akad Kredit atau Akad Pembiayaan  ...  Tanggal Jatuh Tempo  \\\n",
       "195884                                    00  ...             20191001   \n",
       "\n",
       "       Tanggal Kondisi Tanggal Macet Tanggal Mulai  \\\n",
       "195884        20191001           NaN      20190901   \n",
       "\n",
       "       Tanggal Restrukturisasi Akhir Tanggal Restrukturisasi Awal  \\\n",
       "195884                           NaN                          NaN   \n",
       "\n",
       "       Tunggakan Bunga atau Imbalan Tunggakan Pokok     Update Date  \\\n",
       "195884                            0               0  20191001123818   \n",
       "\n",
       "                      date  \n",
       "195884 2019-10-01 12:38:18  \n",
       "\n",
       "[1 rows x 54 columns]"
      ]
     },
     "execution_count": 55,
     "metadata": {},
     "output_type": "execute_result"
    }
   ],
   "source": [
    "fu3.loc[fu3['Nomor Rekening Fasilitas']=='ATH-11V6ACU6'].head(5)"
   ]
  },
  {
   "cell_type": "code",
   "execution_count": 54,
   "metadata": {},
   "outputs": [
    {
     "data": {
      "text/html": [
       "<div>\n",
       "<style scoped>\n",
       "    .dataframe tbody tr th:only-of-type {\n",
       "        vertical-align: middle;\n",
       "    }\n",
       "\n",
       "    .dataframe tbody tr th {\n",
       "        vertical-align: top;\n",
       "    }\n",
       "\n",
       "    .dataframe thead th {\n",
       "        text-align: right;\n",
       "    }\n",
       "</style>\n",
       "<table border=\"1\" class=\"dataframe\">\n",
       "  <thead>\n",
       "    <tr style=\"text-align: right;\">\n",
       "      <th></th>\n",
       "      <th>Nomor Rekening Fasilitas</th>\n",
       "      <th>Kode Jenis Pelapor</th>\n",
       "      <th>Kode Pelapor</th>\n",
       "      <th>Tahun Bulan Data</th>\n",
       "      <th>Kode Jenis Fasilitas</th>\n",
       "      <th>Nomor Rekening Lama Fasilitas</th>\n",
       "      <th>Nomor CIF Debitur</th>\n",
       "      <th>Kode Sifat Kredit atau Pembiayaan</th>\n",
       "      <th>Kode Jenis Kredit atau Pembiayaan</th>\n",
       "      <th>Kode Akad Kredit atau Akad Pembiayaan</th>\n",
       "      <th>...</th>\n",
       "      <th>Tanggal Restrukturisasi Akhir</th>\n",
       "      <th>Kode Cara Restrukturisasi</th>\n",
       "      <th>Kode Kondisi</th>\n",
       "      <th>Tanggal Kondisi</th>\n",
       "      <th>Keterangan</th>\n",
       "      <th>Kode Kantor Cabang</th>\n",
       "      <th>Operasi Data</th>\n",
       "      <th>Status delete</th>\n",
       "      <th>Create Date</th>\n",
       "      <th>Update Date</th>\n",
       "    </tr>\n",
       "  </thead>\n",
       "  <tbody>\n",
       "    <tr>\n",
       "      <th>0</th>\n",
       "      <td>ATH-11V6ACU6</td>\n",
       "      <td>0301</td>\n",
       "      <td>900013</td>\n",
       "      <td>201909</td>\n",
       "      <td>F01</td>\n",
       "      <td>NaN</td>\n",
       "      <td>3915986035069</td>\n",
       "      <td>9</td>\n",
       "      <td>05</td>\n",
       "      <td>00</td>\n",
       "      <td>...</td>\n",
       "      <td>NaN</td>\n",
       "      <td>NaN</td>\n",
       "      <td>00</td>\n",
       "      <td>NaN</td>\n",
       "      <td>NaN</td>\n",
       "      <td>000</td>\n",
       "      <td>C</td>\n",
       "      <td>T</td>\n",
       "      <td>20190901065347</td>\n",
       "      <td>20191001123818</td>\n",
       "    </tr>\n",
       "    <tr>\n",
       "      <th>1</th>\n",
       "      <td>ATH-12GGG7F8</td>\n",
       "      <td>0301</td>\n",
       "      <td>900013</td>\n",
       "      <td>201909</td>\n",
       "      <td>F01</td>\n",
       "      <td>NaN</td>\n",
       "      <td>3915959152551</td>\n",
       "      <td>9</td>\n",
       "      <td>05</td>\n",
       "      <td>00</td>\n",
       "      <td>...</td>\n",
       "      <td>NaN</td>\n",
       "      <td>NaN</td>\n",
       "      <td>00</td>\n",
       "      <td>NaN</td>\n",
       "      <td>NaN</td>\n",
       "      <td>000</td>\n",
       "      <td>C</td>\n",
       "      <td>T</td>\n",
       "      <td>20190904041922</td>\n",
       "      <td>20191001080137</td>\n",
       "    </tr>\n",
       "    <tr>\n",
       "      <th>2</th>\n",
       "      <td>ATH-12KEX5FY</td>\n",
       "      <td>0301</td>\n",
       "      <td>900013</td>\n",
       "      <td>201909</td>\n",
       "      <td>F01</td>\n",
       "      <td>NaN</td>\n",
       "      <td>3915924571121</td>\n",
       "      <td>9</td>\n",
       "      <td>05</td>\n",
       "      <td>00</td>\n",
       "      <td>...</td>\n",
       "      <td>NaN</td>\n",
       "      <td>NaN</td>\n",
       "      <td>00</td>\n",
       "      <td>NaN</td>\n",
       "      <td>NaN</td>\n",
       "      <td>000</td>\n",
       "      <td>C</td>\n",
       "      <td>T</td>\n",
       "      <td>20190903110341</td>\n",
       "      <td>20191003113715</td>\n",
       "    </tr>\n",
       "    <tr>\n",
       "      <th>3</th>\n",
       "      <td>ATH-12Q28B4A</td>\n",
       "      <td>0301</td>\n",
       "      <td>900013</td>\n",
       "      <td>201909</td>\n",
       "      <td>F01</td>\n",
       "      <td>NaN</td>\n",
       "      <td>3915928864482</td>\n",
       "      <td>9</td>\n",
       "      <td>05</td>\n",
       "      <td>00</td>\n",
       "      <td>...</td>\n",
       "      <td>NaN</td>\n",
       "      <td>NaN</td>\n",
       "      <td>00</td>\n",
       "      <td>NaN</td>\n",
       "      <td>NaN</td>\n",
       "      <td>000</td>\n",
       "      <td>C</td>\n",
       "      <td>T</td>\n",
       "      <td>20190907071057</td>\n",
       "      <td>20191001014308</td>\n",
       "    </tr>\n",
       "    <tr>\n",
       "      <th>4</th>\n",
       "      <td>ATH-132482K6</td>\n",
       "      <td>0301</td>\n",
       "      <td>900013</td>\n",
       "      <td>201909</td>\n",
       "      <td>F01</td>\n",
       "      <td>NaN</td>\n",
       "      <td>3915924558038</td>\n",
       "      <td>9</td>\n",
       "      <td>05</td>\n",
       "      <td>00</td>\n",
       "      <td>...</td>\n",
       "      <td>NaN</td>\n",
       "      <td>NaN</td>\n",
       "      <td>00</td>\n",
       "      <td>NaN</td>\n",
       "      <td>NaN</td>\n",
       "      <td>000</td>\n",
       "      <td>C</td>\n",
       "      <td>T</td>\n",
       "      <td>20190902082805</td>\n",
       "      <td>20191002035453</td>\n",
       "    </tr>\n",
       "  </tbody>\n",
       "</table>\n",
       "<p>5 rows × 53 columns</p>\n",
       "</div>"
      ],
      "text/plain": [
       "  Nomor Rekening Fasilitas Kode Jenis Pelapor Kode Pelapor Tahun Bulan Data  \\\n",
       "0             ATH-11V6ACU6               0301       900013           201909   \n",
       "1             ATH-12GGG7F8               0301       900013           201909   \n",
       "2             ATH-12KEX5FY               0301       900013           201909   \n",
       "3             ATH-12Q28B4A               0301       900013           201909   \n",
       "4             ATH-132482K6               0301       900013           201909   \n",
       "\n",
       "  Kode Jenis Fasilitas Nomor Rekening Lama Fasilitas Nomor CIF Debitur  \\\n",
       "0                  F01                           NaN     3915986035069   \n",
       "1                  F01                           NaN     3915959152551   \n",
       "2                  F01                           NaN     3915924571121   \n",
       "3                  F01                           NaN     3915928864482   \n",
       "4                  F01                           NaN     3915924558038   \n",
       "\n",
       "  Kode Sifat Kredit atau Pembiayaan Kode Jenis Kredit atau Pembiayaan  \\\n",
       "0                                 9                                05   \n",
       "1                                 9                                05   \n",
       "2                                 9                                05   \n",
       "3                                 9                                05   \n",
       "4                                 9                                05   \n",
       "\n",
       "  Kode Akad Kredit atau Akad Pembiayaan  ... Tanggal Restrukturisasi Akhir  \\\n",
       "0                                    00  ...                           NaN   \n",
       "1                                    00  ...                           NaN   \n",
       "2                                    00  ...                           NaN   \n",
       "3                                    00  ...                           NaN   \n",
       "4                                    00  ...                           NaN   \n",
       "\n",
       "  Kode Cara Restrukturisasi Kode Kondisi Tanggal Kondisi Keterangan  \\\n",
       "0                       NaN           00             NaN        NaN   \n",
       "1                       NaN           00             NaN        NaN   \n",
       "2                       NaN           00             NaN        NaN   \n",
       "3                       NaN           00             NaN        NaN   \n",
       "4                       NaN           00             NaN        NaN   \n",
       "\n",
       "  Kode Kantor Cabang Operasi Data Status delete     Create Date  \\\n",
       "0                000            C             T  20190901065347   \n",
       "1                000            C             T  20190904041922   \n",
       "2                000            C             T  20190903110341   \n",
       "3                000            C             T  20190907071057   \n",
       "4                000            C             T  20190902082805   \n",
       "\n",
       "      Update Date  \n",
       "0  20191001123818  \n",
       "1  20191001080137  \n",
       "2  20191003113715  \n",
       "3  20191001014308  \n",
       "4  20191002035453  \n",
       "\n",
       "[5 rows x 53 columns]"
      ]
     },
     "execution_count": 54,
     "metadata": {},
     "output_type": "execute_result"
    }
   ],
   "source": [
    "# fu3[['Nomor Rekening Fasilitas']].merge(data,how='inner',on='Nomor Rekening Fasilitas').to_csv('datahilang.csv')\n",
    "fu3[['Nomor Rekening Fasilitas']].merge(data,how='inner',on='Nomor Rekening Fasilitas').head(5)"
   ]
  },
  {
   "cell_type": "code",
   "execution_count": 21,
   "metadata": {},
   "outputs": [
    {
     "name": "stdout",
     "output_type": "stream",
     "text": [
      "(1307, 87)\n",
      "(1515, 87)\n"
     ]
    }
   ],
   "source": [
    "dn3 = pd.read_csv('D01-201910rev2.txt',dtype=str,sep='|')\n",
    "dn3=dn3[['Kode Jenis Pelapor', 'Kode Pelapor', 'Tahun Bulan Data',\n",
    "       'Nomor CIF Lama Debitur', 'Nomor CIF Debitur', 'Jenis Identitas',\n",
    "       'Nomor Identitas', 'Nama Sesuai Identitas', 'Nama Lengkap',\n",
    "       'Kode Status Pendidikan atau Gelar Debitur', 'Jenis Kelamin',\n",
    "       'Tempat Lahir', 'Tanggal Lahir', 'Nama Gadis Ibu Kandung', 'NPWP',\n",
    "       'Alamat', 'Kelurahan', 'Kecamatan', 'Kode Kabupaten atau Kota',\n",
    "       'Kode Pos', 'Nomor Telepon', 'Nomor Telepon Seluler', 'Alamat e-mail',\n",
    "       'Kode Negara Domisili', 'Kode Pekerjaan', 'Tempat Bekerja',\n",
    "       'Kode Bidang Usaha Tempat Bekerja', 'Alamat Tempat Bekerja',\n",
    "       'Kode Golongan Debitur', 'Status Perkawinan Debitur',\n",
    "       'Kode Kantor Cabang', 'Operasi Data', 'Status delete', 'Create Date',\n",
    "       'Update Date']]\n",
    "print(data.merge(dn3,how='inner',on='Nomor CIF Debitur').shape)\n",
    "print(data.merge(D01new,how='inner',on='Nomor CIF Debitur').shape)"
   ]
  },
  {
   "cell_type": "code",
   "execution_count": 1,
   "metadata": {},
   "outputs": [
    {
     "data": {
      "text/plain": [
       "(348107, 54)"
      ]
     },
     "execution_count": 1,
     "metadata": {},
     "output_type": "execute_result"
    }
   ],
   "source": [
    "F01new = pd.read_csv('F01201910.csv',dtype=str)\n",
    "F01new.shape"
   ]
  },
  {
   "cell_type": "code",
   "execution_count": 3,
   "metadata": {},
   "outputs": [
    {
     "data": {
      "text/plain": [
       "1    264433\n",
       "2     60417\n",
       "5     12656\n",
       "4      6759\n",
       "3      3842\n",
       "Name: Kode Kualitas Kredit atau Pembiayaan, dtype: int64"
      ]
     },
     "execution_count": 3,
     "metadata": {},
     "output_type": "execute_result"
    }
   ],
   "source": [
    "F01new['Kode Kualitas Kredit atau Pembiayaan'].value_counts()"
   ]
  },
  {
   "cell_type": "code",
   "execution_count": 80,
   "metadata": {},
   "outputs": [
    {
     "name": "stdout",
     "output_type": "stream",
     "text": [
      "99    12454\n",
      "Name: Kode Sebab Macet, dtype: int64\n"
     ]
    }
   ],
   "source": [
    "# # data F01-201910rev1\n",
    "# fu3 = pd.read_csv('F01-201910rev.txt',dtype=str,sep='|')\n",
    "# fu3['Kode Sebab Macet'] = fu3['Kode Sebab Macet'].str.replace('.0', '')\n",
    "# fu3=fu3[['Kode Jenis Pelapor', 'Kode Pelapor', 'Tahun Bulan Data',\n",
    "#        'Kode Jenis Fasilitas', 'Nomor Rekening Fasilitas',\n",
    "#        'Nomor Rekening Lama Fasilitas', 'Nomor CIF Debitur',\n",
    "#        'Kode Sifat Kredit atau Pembiayaan',\n",
    "#        'Kode Jenis Kredit atau Pembiayaan',\n",
    "#        'Kode Akad Kredit atau Akad Pembiayaan', 'Nomor Akad Awal',\n",
    "#        'Tanggal Akad Awal', 'Nomor Akad Akhir', 'Tanggal Akad Akhir',\n",
    "#        'Frekuensi Perpanjangan Fasilitas Kredit atau Pembiayaan',\n",
    "#        'Tanggal Awal Kredit atau Pembiayaan', 'Tanggal Mulai',\n",
    "#        'Tanggal Jatuh Tempo', 'Kode Kategori Debitur', 'Kode Jenis Penggunaan',\n",
    "#        'Kode Orientasi Penggunaan', 'Kode Sektor Ekonomi',\n",
    "#        'Kode Kabupaten atau Kota Lokasi Proyek atau Penggunaan Kredit atau Pembiayaan',\n",
    "#        'Nilai Proyek', 'Kode Valuta', 'Suku Bunga atau Imbalan',\n",
    "#        'Jenis Suku Bunga atau Imbalan',\n",
    "#        'Kredit atau Pembiayaan Program Pemerintah', 'Plafon Awal', 'Plafon',\n",
    "#        'Realisasi atau Pencairan Bulan Berjalan', 'Denda', 'Baki Debet',\n",
    "#        'Nilai dalam Mata Uang Asal', 'Kode Kualitas Kredit atau Pembiayaan',\n",
    "#        'Tanggal Macet', 'Kode Sebab Macet', 'Tunggakan Pokok',\n",
    "#        'Tunggakan Bunga atau Imbalan', 'Jumlah Hari Tunggakan',\n",
    "#        'Frekuensi Tunggakan', 'Frekuensi Restrukturisasi',\n",
    "#        'Tanggal Restrukturisasi Awal', 'Tanggal Restrukturisasi Akhir',\n",
    "#        'Kode Cara Restrukturisasi', 'Kode Kondisi', 'Tanggal Kondisi',\n",
    "#        'Keterangan', 'Kode Kantor Cabang', 'Operasi Data', 'Status delete',\n",
    "#        'Create Date', 'Update Date']]\n",
    "# print(fu3['Kode Sebab Macet'].value_counts())\n",
    "# fu3.to_csv(path_or_buf='F01-201910rev1.txt', sep='|',index =0)"
   ]
  },
  {
   "cell_type": "code",
   "execution_count": 148,
   "metadata": {},
   "outputs": [],
   "source": [
    "# print(fu3.shape,datahilang.shape)\n",
    "# fu3.columns==datahilang.columns\n",
    "# final = pd.concat([fu3,datahilang])\n",
    "# final.to_csv(path_or_buf='F01-201910rev1complete.txt', sep='|',index =0)\n",
    "# fu3 = final"
   ]
  },
  {
   "cell_type": "markdown",
   "metadata": {},
   "source": [
    "Export full data dump to csv to be used in the next iteration"
   ]
  },
  {
   "cell_type": "code",
   "execution_count": 260,
   "metadata": {},
   "outputs": [],
   "source": [
    "F01new.to_csv(path_or_buf='F01201910.csv', index=0)\n",
    "# D01new.to_csv(path_or_buf='F01201909.csv', index=0)\n",
    "D01new.to_csv(path_or_buf='D01201910.csv', index=0)"
   ]
  },
  {
   "cell_type": "markdown",
   "metadata": {},
   "source": [
    "### Additional Data 201910"
   ]
  },
  {
   "cell_type": "code",
   "execution_count": 20,
   "metadata": {},
   "outputs": [
    {
     "name": "stdout",
     "output_type": "stream",
     "text": [
      "(348107, 54)\n",
      "(1515, 53)\n"
     ]
    }
   ],
   "source": [
    "F01new = pd.read_csv('F01201910.csv',dtype=str)\n",
    "print(F01new.shape)\n",
    "print(pd.read_csv('F01-201910rev1additional.txt',sep='|',dtype=str).shape)"
   ]
  },
  {
   "cell_type": "code",
   "execution_count": 21,
   "metadata": {},
   "outputs": [
    {
     "name": "stdout",
     "output_type": "stream",
     "text": [
      "(2786, 1)\n",
      "(2786, 53)\n"
     ]
    }
   ],
   "source": [
    "a = pd.read_csv('missingdata201910.csv')\n",
    "print(a.shape)\n",
    "a = a.merge(F01new, how='inner', left_on='Nomor Rekening Fasilitas 201909',right_on='Nomor Rekening Fasilitas')\n",
    "a['Operasi Data']='U'\n",
    "a['Tahun Bulan Data']='201910'\n",
    "a = a[['Kode Jenis Pelapor', 'Kode Pelapor', 'Tahun Bulan Data',\n",
    "       'Kode Jenis Fasilitas', 'Nomor Rekening Fasilitas',\n",
    "       'Nomor Rekening Lama Fasilitas', 'Nomor CIF Debitur',\n",
    "       'Kode Sifat Kredit atau Pembiayaan',\n",
    "       'Kode Jenis Kredit atau Pembiayaan',\n",
    "       'Kode Akad Kredit atau Akad Pembiayaan', 'Nomor Akad Awal',\n",
    "       'Tanggal Akad Awal', 'Nomor Akad Akhir', 'Tanggal Akad Akhir',\n",
    "       'Frekuensi Perpanjangan Fasilitas Kredit atau Pembiayaan',\n",
    "       'Tanggal Awal Kredit atau Pembiayaan', 'Tanggal Mulai',\n",
    "       'Tanggal Jatuh Tempo', 'Kode Kategori Debitur', 'Kode Jenis Penggunaan',\n",
    "       'Kode Orientasi Penggunaan', 'Kode Sektor Ekonomi',\n",
    "       'Kode Kabupaten atau Kota Lokasi Proyek atau Penggunaan Kredit atau Pembiayaan',\n",
    "       'Nilai Proyek', 'Kode Valuta', 'Suku Bunga atau Imbalan',\n",
    "       'Jenis Suku Bunga atau Imbalan',\n",
    "       'Kredit atau Pembiayaan Program Pemerintah', 'Plafon Awal', 'Plafon',\n",
    "       'Realisasi atau Pencairan Bulan Berjalan', 'Denda', 'Baki Debet',\n",
    "       'Nilai dalam Mata Uang Asal', 'Kode Kualitas Kredit atau Pembiayaan',\n",
    "       'Tanggal Macet', 'Kode Sebab Macet', 'Tunggakan Pokok',\n",
    "       'Tunggakan Bunga atau Imbalan', 'Jumlah Hari Tunggakan',\n",
    "       'Frekuensi Tunggakan', 'Frekuensi Restrukturisasi',\n",
    "       'Tanggal Restrukturisasi Awal', 'Tanggal Restrukturisasi Akhir',\n",
    "       'Kode Cara Restrukturisasi', 'Kode Kondisi', 'Tanggal Kondisi',\n",
    "       'Keterangan', 'Kode Kantor Cabang', 'Operasi Data', 'Status delete',\n",
    "       'Create Date', 'Update Date']]\n",
    "a.to_csv(path_or_buf='F01-201910rev2additional.txt', sep='|',index =0)\n",
    "print(a.shape)"
   ]
  },
  {
   "cell_type": "code",
   "execution_count": 22,
   "metadata": {},
   "outputs": [],
   "source": [
    "# a.loc[a['Nomor Rekening Fasilitas']=='ATH-SL5GH4NS'].head()"
   ]
  },
  {
   "cell_type": "code",
   "execution_count": 23,
   "metadata": {},
   "outputs": [],
   "source": [
    "# x = pd.read_csv('F01-201909.txt',sep='|',dtype=str)\n",
    "# x.loc[x['Nomor Rekening Fasilitas']=='ATH-SL5GH4NS'].head()"
   ]
  }
 ],
 "metadata": {
  "kernelspec": {
   "display_name": "Python 3",
   "language": "python",
   "name": "python3"
  },
  "language_info": {
   "codemirror_mode": {
    "name": "ipython",
    "version": 3
   },
   "file_extension": ".py",
   "mimetype": "text/x-python",
   "name": "python",
   "nbconvert_exporter": "python",
   "pygments_lexer": "ipython3",
   "version": "3.7.0"
  },
  "toc-autonumbering": false
 },
 "nbformat": 4,
 "nbformat_minor": 4
}
