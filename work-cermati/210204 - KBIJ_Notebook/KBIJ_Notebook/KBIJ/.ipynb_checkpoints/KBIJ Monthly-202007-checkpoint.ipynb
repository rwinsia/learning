{
 "cells": [
  {
   "cell_type": "code",
   "execution_count": 1,
   "metadata": {},
   "outputs": [],
   "source": [
    "import pandas as pd\n",
    "import numpy as np\n",
    "import json\n",
    "from datetime import datetime, timedelta\n",
    "import re\n",
    "import os,sys\n",
    "\n",
    "import kbij_helper as kbijh\n",
    "kbij = kbijh.KBIJ()\n",
    "\n",
    "import warnings\n",
    "warnings.filterwarnings('ignore')\n",
    "autostats_lib = \"../../../autostats\"\n",
    "if autostats_lib not in sys.path:\n",
    "    sys.path.append(autostats_lib)\n",
    "\n",
    "from utilities.data_storage import DataStorage\n",
    "import time"
   ]
  },
  {
   "cell_type": "code",
   "execution_count": 2,
   "metadata": {},
   "outputs": [],
   "source": [
    "%load_ext google.cloud.bigquery\n",
    "from google.cloud import bigquery\n",
    "DataStorage(os.environ[\"GOOGLE_APPLICATION_CREDENTIALS\"])\n",
    "\n",
    "from IPython.display import clear_output"
   ]
  },
  {
   "cell_type": "code",
   "execution_count": 3,
   "metadata": {},
   "outputs": [],
   "source": [
    "def get_key(my_dict, val):\n",
    "    keys_list = []\n",
    "    for key, value in my_dict.items(): \n",
    "         if val == value: \n",
    "             keys_list.append(key)\n",
    "  \n",
    "    return keys_list"
   ]
  },
  {
   "cell_type": "code",
   "execution_count": 4,
   "metadata": {},
   "outputs": [],
   "source": [
    "date = \"2020-07-01\"\n",
    "prev_date = \"2020-06-01\""
   ]
  },
  {
   "cell_type": "code",
   "execution_count": null,
   "metadata": {},
   "outputs": [],
   "source": []
  },
  {
   "cell_type": "code",
   "execution_count": 5,
   "metadata": {},
   "outputs": [
    {
     "name": "stdout",
     "output_type": "stream",
     "text": [
      "202007\n"
     ]
    }
   ],
   "source": [
    "datem = pd.to_datetime(date)\n",
    "datem = datem.strftime(\"%Y%m\")\n",
    "print(datem)"
   ]
  },
  {
   "cell_type": "code",
   "execution_count": 6,
   "metadata": {},
   "outputs": [],
   "source": [
    "pathname = 'data'+datem\n",
    "dirname = './'+pathname"
   ]
  },
  {
   "cell_type": "code",
   "execution_count": 7,
   "metadata": {},
   "outputs": [],
   "source": [
    "raw_filename_F01 = dirname+'/F01'+datem+'.csv'\n",
    "raw_filename_D01 = dirname+'/D01'+datem+'.csv'"
   ]
  },
  {
   "cell_type": "code",
   "execution_count": 8,
   "metadata": {},
   "outputs": [],
   "source": [
    "filtered_filename_F01 = dirname+'/F01'+datem+'_new_filtered.csv'\n",
    "filtered_filename_D01 = dirname+'/D01'+datem+'_new_filtered.csv'"
   ]
  },
  {
   "cell_type": "code",
   "execution_count": null,
   "metadata": {},
   "outputs": [],
   "source": []
  },
  {
   "cell_type": "code",
   "execution_count": 9,
   "metadata": {},
   "outputs": [
    {
     "name": "stdout",
     "output_type": "stream",
     "text": [
      "202006\n"
     ]
    }
   ],
   "source": [
    "prev_datem = pd.to_datetime(prev_date)\n",
    "prev_datem = prev_datem.strftime(\"%Y%m\")\n",
    "print(prev_datem)"
   ]
  },
  {
   "cell_type": "code",
   "execution_count": 10,
   "metadata": {},
   "outputs": [],
   "source": [
    "prev_pathname = 'data'+prev_datem\n",
    "prev_dirname = './'+prev_pathname"
   ]
  },
  {
   "cell_type": "code",
   "execution_count": 11,
   "metadata": {},
   "outputs": [],
   "source": [
    "prev_filtered_filename_F01 = prev_dirname+'/F01'+prev_datem+'_new_filtered.csv'\n",
    "prev_filtered_filename_D01 = prev_dirname+'/D01'+prev_datem+'_new_filtered.csv'"
   ]
  },
  {
   "cell_type": "code",
   "execution_count": 12,
   "metadata": {},
   "outputs": [],
   "source": [
    "F01_dtype = {'Kode Jenis Pelapor': 'object',\n",
    " 'Kode Pelapor': 'object',\n",
    " 'Tahun Bulan Data': 'object',\n",
    " 'Kode Jenis Fasilitas': 'object',\n",
    " 'Nomor Rekening Fasilitas': 'object',\n",
    " 'Nomor Rekening Lama Fasilitas': 'object',\n",
    " 'Nomor CIF Debitur': 'object',\n",
    " 'Kode Sifat Kredit atau Pembiayaan': 'str',\n",
    " 'Kode Jenis Kredit atau Pembiayaan': 'str',\n",
    " 'Kode Akad Kredit atau Akad Pembiayaan': 'object',\n",
    " 'Nomor Akad Awal': 'object',\n",
    " 'Tanggal Akad Awal': 'object',\n",
    " 'Nomor Akad Akhir': 'object',\n",
    " 'Tanggal Akad Akhir': 'object',\n",
    " 'Frekuensi Perpanjangan Fasilitas Kredit atau Pembiayaan': 'int64',\n",
    " 'Tanggal Awal Kredit atau Pembiayaan': 'object',\n",
    " 'Tanggal Mulai': 'object',\n",
    " 'Tanggal Jatuh Tempo': 'object',\n",
    " 'Kode Kategori Debitur': 'object',\n",
    " 'Kode Jenis Penggunaan': 'str',\n",
    " 'Kode Orientasi Penggunaan': 'str',\n",
    " 'Kode Sektor Ekonomi': 'object',\n",
    " 'Kode Kabupaten atau Kota Lokasi Proyek atau Penggunaan Kredit atau Pembiayaan': 'object',\n",
    " 'Nilai Proyek': 'object',\n",
    " 'Kode Valuta': 'object',\n",
    " 'Suku Bunga atau Imbalan': 'float64',\n",
    " 'Jenis Suku Bunga atau Imbalan': 'int64',\n",
    " 'Kredit atau Pembiayaan Program Pemerintah': 'object',\n",
    " 'Plafon Awal': 'float64',\n",
    " 'Plafon': 'float64',\n",
    " 'Realisasi atau Pencairan Bulan Berjalan': 'float64',\n",
    " 'Denda': 'float64',\n",
    " 'Baki Debet': 'float64',\n",
    " 'Nilai dalam Mata Uang Asal': 'object',\n",
    " 'Kode Kualitas Kredit atau Pembiayaan': 'str',\n",
    " 'Tanggal Macet': 'object',\n",
    " 'Kode Sebab Macet': 'str',\n",
    " 'Tunggakan Pokok': 'int64',\n",
    " 'Tunggakan Bunga atau Imbalan': 'int64',\n",
    " 'Jumlah Hari Tunggakan': 'int64',\n",
    " 'Frekuensi Tunggakan': 'int64',\n",
    " 'Frekuensi Restrukturisasi': 'int64',\n",
    " 'Tanggal Restrukturisasi Awal': 'object',\n",
    " 'Tanggal Restrukturisasi Akhir': 'object',\n",
    " 'Kode Cara Restrukturisasi': 'object',\n",
    " 'Kode Kondisi': 'object',\n",
    " 'Tanggal Kondisi': 'object',\n",
    " 'Keterangan': 'object',\n",
    " 'Kode Kantor Cabang': 'object',\n",
    " 'Operasi Data': 'object',\n",
    " 'Status delete': 'object',\n",
    " 'Create Date': 'str',\n",
    " 'Update Date': 'str',\n",
    " 'Approved Date': 'str',\n",
    " 'userId': 'object',\n",
    " 'orderId': 'object',\n",
    " 'status': 'object'}\n",
    "\n",
    "D01_dtype = {'Kode Jenis Pelapor': 'object',\n",
    " 'Kode Pelapor': 'object',\n",
    " 'Tahun Bulan Data': 'object',\n",
    " 'Nomor CIF Lama Debitur': 'object',\n",
    " 'Nomor CIF Debitur': 'object',\n",
    " 'Jenis Identitas': 'int64',\n",
    " 'Nomor Identitas': 'object',\n",
    " 'Nama Sesuai Identitas': 'object',\n",
    " 'Nama Lengkap': 'object',\n",
    " 'Kode Status Pendidikan atau Gelar Debitur': 'object',\n",
    " 'Jenis Kelamin': 'object',\n",
    " 'Tempat Lahir': 'object',\n",
    " 'Tanggal Lahir': 'object',\n",
    " 'Nama Gadis Ibu Kandung': 'object',\n",
    " 'NPWP': 'object',\n",
    " 'Alamat': 'object',\n",
    " 'Kelurahan': 'object',\n",
    " 'Kecamatan': 'object',\n",
    " 'Kode Kabupaten atau Kota': 'object',\n",
    " 'Kode Pos': 'object',\n",
    " 'Nomor Telepon': 'object',\n",
    " 'Nomor Telepon Seluler': 'object',\n",
    " 'Alamat email': 'object',\n",
    " 'Kode Negara Domisili': 'object',\n",
    " 'Kode Pekerjaan': 'object',\n",
    " 'Tempat Bekerja': 'object',\n",
    " 'Kode Bidang Usaha Tempat Bekerja': 'object',\n",
    " 'Alamat Tempat Bekerja': 'object',\n",
    " 'Kode Golongan Debitur': 'object',\n",
    " 'Status Perkawinan Debitur': 'int64',\n",
    " 'Kode Kantor Cabang': 'object',\n",
    " 'Operasi Data': 'object',\n",
    " 'Status delete': 'object',\n",
    " 'Create Date': 'str',\n",
    " 'Update Date': 'str',\n",
    " 'Approved Date': 'str',\n",
    " 'userId': 'object',\n",
    " 'orderId': 'object',\n",
    " 'status': 'object'}"
   ]
  },
  {
   "cell_type": "markdown",
   "metadata": {},
   "source": [
    "# Query"
   ]
  },
  {
   "cell_type": "markdown",
   "metadata": {},
   "source": [
    "Get new F01 and D01 from redash"
   ]
  },
  {
   "cell_type": "markdown",
   "metadata": {},
   "source": [
    "## F01 Current Data"
   ]
  },
  {
   "cell_type": "code",
   "execution_count": 13,
   "metadata": {},
   "outputs": [
    {
     "name": "stdout",
     "output_type": "stream",
     "text": [
      "[get_F01_data] Query from BigQuery takes 310.0338644981384\n"
     ]
    }
   ],
   "source": [
    "F01new = kbij.get_F01_data('\"'+date+'\"')"
   ]
  },
  {
   "cell_type": "markdown",
   "metadata": {},
   "source": [
    "## D01 Current Data"
   ]
  },
  {
   "cell_type": "code",
   "execution_count": 14,
   "metadata": {},
   "outputs": [
    {
     "name": "stdout",
     "output_type": "stream",
     "text": [
      "[get_D01_data] Query from BigQuery takes 120.16708087921143\n"
     ]
    }
   ],
   "source": [
    "D01new = kbij.get_D01_data('\"'+date+'\"')"
   ]
  },
  {
   "cell_type": "markdown",
   "metadata": {},
   "source": [
    "# Data Preparation"
   ]
  },
  {
   "cell_type": "code",
   "execution_count": 15,
   "metadata": {},
   "outputs": [
    {
     "name": "stdout",
     "output_type": "stream",
     "text": [
      "(573316, 69)\n"
     ]
    }
   ],
   "source": [
    "print(F01new.shape)\n",
    "a=[]\n",
    "for i in F01new.columns:\n",
    "    a.append(i.replace('_',' '))\n",
    "F01new.columns = a"
   ]
  },
  {
   "cell_type": "code",
   "execution_count": 16,
   "metadata": {},
   "outputs": [
    {
     "name": "stdout",
     "output_type": "stream",
     "text": [
      "(192892, 40)\n"
     ]
    }
   ],
   "source": [
    "print(D01new.shape)\n",
    "a=[]\n",
    "for i in D01new.columns:\n",
    "    a.append(i.replace('_',' '))\n",
    "D01new.columns = a"
   ]
  },
  {
   "cell_type": "code",
   "execution_count": 17,
   "metadata": {},
   "outputs": [],
   "source": [
    "for col in get_key(F01_dtype, 'object'):\n",
    "    F01new[col] = F01new[col].str.strip()"
   ]
  },
  {
   "cell_type": "code",
   "execution_count": 18,
   "metadata": {},
   "outputs": [],
   "source": [
    "for col in get_key(D01_dtype, 'object'):\n",
    "    D01new[col] = D01new[col].str.strip()"
   ]
  },
  {
   "cell_type": "code",
   "execution_count": 19,
   "metadata": {},
   "outputs": [],
   "source": [
    "F01new = F01new.replace('\\n','', regex=True)\n",
    "D01new = D01new.replace('\\n','', regex=True)"
   ]
  },
  {
   "cell_type": "code",
   "execution_count": 20,
   "metadata": {},
   "outputs": [],
   "source": [
    "F01new = F01new.replace('\\t','', regex=True)\n",
    "D01new = D01new.replace('\\t','', regex=True)"
   ]
  },
  {
   "cell_type": "code",
   "execution_count": 21,
   "metadata": {},
   "outputs": [],
   "source": [
    "D01new.rename(columns={\"Alamat email\": \"Alamat e-mail\"}, inplace=True)"
   ]
  },
  {
   "cell_type": "markdown",
   "metadata": {},
   "source": [
    "Check If KTP ID has char O/o"
   ]
  },
  {
   "cell_type": "code",
   "execution_count": 22,
   "metadata": {},
   "outputs": [
    {
     "data": {
      "text/plain": [
       "Series([], Name: Nomor Identitas, dtype: object)"
      ]
     },
     "execution_count": 22,
     "metadata": {},
     "output_type": "execute_result"
    }
   ],
   "source": [
    "D01new['Nomor Identitas'][D01new['Nomor Identitas'].str.contains('O',case=False, regex=False)==True]"
   ]
  },
  {
   "cell_type": "markdown",
   "metadata": {},
   "source": [
    "Trim \"Alamat e-mail\" to 150 char, \"Alamat Tempat Bekerja\" to 300 char"
   ]
  },
  {
   "cell_type": "code",
   "execution_count": 23,
   "metadata": {},
   "outputs": [],
   "source": [
    "D01new['Alamat e-mail']=D01new['Alamat e-mail'].str[-149:]\n",
    "D01new['Alamat Tempat Bekerja']=D01new['Alamat Tempat Bekerja'].str[:299]"
   ]
  },
  {
   "cell_type": "markdown",
   "metadata": {},
   "source": [
    "Check if there is still \"Alamat e-mail\" and \"Alamat Tempat Bekerja\" with more than 150 and 300 char each"
   ]
  },
  {
   "cell_type": "code",
   "execution_count": 24,
   "metadata": {},
   "outputs": [
    {
     "data": {
      "text/plain": [
       "Series([], Name: Alamat e-mail, dtype: object)"
      ]
     },
     "execution_count": 24,
     "metadata": {},
     "output_type": "execute_result"
    }
   ],
   "source": [
    "D01new['Alamat e-mail'][D01new['Alamat e-mail'].str.len()>=150]"
   ]
  },
  {
   "cell_type": "code",
   "execution_count": 25,
   "metadata": {},
   "outputs": [
    {
     "data": {
      "text/plain": [
       "Series([], Name: Alamat Tempat Bekerja, dtype: object)"
      ]
     },
     "execution_count": 25,
     "metadata": {},
     "output_type": "execute_result"
    }
   ],
   "source": [
    "D01new['Alamat Tempat Bekerja'][D01new['Alamat Tempat Bekerja'].str.len()>=300]"
   ]
  },
  {
   "cell_type": "code",
   "execution_count": 26,
   "metadata": {},
   "outputs": [],
   "source": [
    "gelar_list = pd.read_csv('./data/gelar.csv')['index'].tolist()\n",
    "gelar_depan_list = pd.read_csv('./data/gelar_depan.csv')['index'].tolist()"
   ]
  },
  {
   "cell_type": "code",
   "execution_count": 27,
   "metadata": {},
   "outputs": [],
   "source": [
    "def remove_gelar(nama):\n",
    "    nama_list = nama.split()\n",
    "    clear_output()\n",
    "    print(nama_list)\n",
    "    if nama_list[-1].lower() in gelar_list:\n",
    "        del nama_list[-1]\n",
    "    if nama_list[0].lower() in gelar_depan_list:\n",
    "        del nama_list[0]    \n",
    "        \n",
    "    return ' '.join(nama_list)"
   ]
  },
  {
   "cell_type": "code",
   "execution_count": null,
   "metadata": {},
   "outputs": [],
   "source": []
  },
  {
   "cell_type": "code",
   "execution_count": 28,
   "metadata": {},
   "outputs": [],
   "source": [
    "D01new['Nama Sesuai Identitas'] = D01new['Nama Sesuai Identitas'].apply(remove_gelar)"
   ]
  },
  {
   "cell_type": "code",
   "execution_count": 29,
   "metadata": {},
   "outputs": [
    {
     "name": "stdout",
     "output_type": "stream",
     "text": [
      "['WURYANTI']"
     ]
    }
   ],
   "source": [
    "D01new['Nama Gadis Ibu Kandung'] = D01new['Nama Gadis Ibu Kandung'].apply(remove_gelar)"
   ]
  },
  {
   "cell_type": "code",
   "execution_count": 30,
   "metadata": {},
   "outputs": [],
   "source": [
    "F01new.to_csv(path_or_buf=raw_filename_F01, index=False)\n",
    "D01new.to_csv(path_or_buf=raw_filename_D01, index=False)"
   ]
  },
  {
   "cell_type": "code",
   "execution_count": 31,
   "metadata": {},
   "outputs": [
    {
     "name": "stdout",
     "output_type": "stream",
     "text": [
      "File ./data202007/F01202007.csv version 3 uploaded to notebooks/kbij/data202007/f01202007.csv.\n"
     ]
    }
   ],
   "source": [
    "DataStorage.upload_notebooks_data(raw_filename_F01, 'kbij/'+pathname, 'f01'+datem+'.csv')"
   ]
  },
  {
   "cell_type": "code",
   "execution_count": 32,
   "metadata": {},
   "outputs": [
    {
     "name": "stdout",
     "output_type": "stream",
     "text": [
      "File ./data202007/D01202007.csv version 3 uploaded to notebooks/kbij/data202007/d01202007.csv.\n"
     ]
    }
   ],
   "source": [
    "DataStorage.upload_notebooks_data(raw_filename_D01, 'kbij/'+pathname, 'd01'+datem+'.csv')"
   ]
  },
  {
   "cell_type": "markdown",
   "metadata": {},
   "source": [
    "# Load Data"
   ]
  },
  {
   "cell_type": "code",
   "execution_count": 33,
   "metadata": {},
   "outputs": [
    {
     "name": "stdout",
     "output_type": "stream",
     "text": [
      "Blob notebooks/kbij/data202007/f01202007.csv version LATEST downloaded to ./data202007/F01202007.csv.\n"
     ]
    }
   ],
   "source": [
    "DataStorage.download_notebooks_data(raw_filename_F01, 'kbij/'+pathname, 'f01'+datem+'.csv')"
   ]
  },
  {
   "cell_type": "code",
   "execution_count": 34,
   "metadata": {},
   "outputs": [
    {
     "name": "stdout",
     "output_type": "stream",
     "text": [
      "Blob notebooks/kbij/data202007/d01202007.csv version LATEST downloaded to ./data202007/D01202007.csv.\n"
     ]
    }
   ],
   "source": [
    "DataStorage.download_notebooks_data(raw_filename_D01, 'kbij/'+pathname, 'd01'+datem+'.csv')"
   ]
  },
  {
   "cell_type": "code",
   "execution_count": 35,
   "metadata": {},
   "outputs": [],
   "source": [
    "F01new = pd.read_csv(raw_filename_F01, dtype=F01_dtype)\n",
    "D01new = pd.read_csv(raw_filename_D01, dtype=D01_dtype)"
   ]
  },
  {
   "cell_type": "code",
   "execution_count": 36,
   "metadata": {},
   "outputs": [
    {
     "name": "stdout",
     "output_type": "stream",
     "text": [
      "./data202006/F01202006_new_filtered.csv\n",
      "kbij/data202006\n",
      "f01202006_new_filtered.csv\n"
     ]
    }
   ],
   "source": [
    "print(prev_filtered_filename_F01)\n",
    "print('kbij/'+prev_pathname)\n",
    "print('f01'+prev_datem+'_new_filtered.csv')"
   ]
  },
  {
   "cell_type": "code",
   "execution_count": 37,
   "metadata": {},
   "outputs": [
    {
     "name": "stdout",
     "output_type": "stream",
     "text": [
      "Blob notebooks/kbij/data202006/f01202006_new_filtered.csv version LATEST downloaded to ./data202006/F01202006_new_filtered.csv.\n"
     ]
    }
   ],
   "source": [
    "DataStorage.download_notebooks_data(prev_filtered_filename_F01, 'kbij/'+prev_pathname, 'f01'+prev_datem+'_new_filtered.csv')"
   ]
  },
  {
   "cell_type": "code",
   "execution_count": 38,
   "metadata": {},
   "outputs": [
    {
     "name": "stdout",
     "output_type": "stream",
     "text": [
      "Blob notebooks/kbij/data202006/d01202006_new_filtered.csv version LATEST downloaded to ./data202006/D01202006_new_filtered.csv.\n"
     ]
    }
   ],
   "source": [
    "DataStorage.download_notebooks_data(prev_filtered_filename_D01, 'kbij/'+prev_pathname, 'd01'+prev_datem+'_new_filtered.csv')"
   ]
  },
  {
   "cell_type": "code",
   "execution_count": 39,
   "metadata": {},
   "outputs": [],
   "source": [
    "F01_prev = pd.read_csv(prev_filtered_filename_F01, dtype=F01_dtype)\n",
    "D01_prev = pd.read_csv(prev_filtered_filename_D01, dtype=D01_dtype)"
   ]
  },
  {
   "cell_type": "code",
   "execution_count": 40,
   "metadata": {},
   "outputs": [
    {
     "name": "stdout",
     "output_type": "stream",
     "text": [
      "D01new: (192892, 40) F01new: (573316, 69)\n",
      "D01_prev: (187594, 40) F01_prev: (549378, 69)\n"
     ]
    }
   ],
   "source": [
    "print('D01new:',D01new.shape, 'F01new:',F01new.shape)\n",
    "print('D01_prev:',D01_prev.shape, 'F01_prev:',F01_prev.shape)"
   ]
  },
  {
   "cell_type": "markdown",
   "metadata": {
    "toc-hr-collapsed": false
   },
   "source": [
    "# Checking"
   ]
  },
  {
   "cell_type": "code",
   "execution_count": 41,
   "metadata": {},
   "outputs": [
    {
     "name": "stdout",
     "output_type": "stream",
     "text": [
      "================================================================================\n",
      "Check Previous Not Active Nomor Rekening Fasilitas But Exist in Current Data \n",
      "\n",
      "Found 444175 Nomor Rekening Fasilitas\n",
      "--> kbij.existing_previous_not_active_data\n",
      "Drop previous not active Nomor Rekening Fasilitas from current F01\n",
      "Drop not existing Nomor CIF Debitur in current F01 from current D01\n",
      "\n",
      "[DONE]\n",
      "================================================================================\n",
      "================================================================================\n",
      "Check Previous Active Nomor Rekening Fasilitas But Not Exist in Current Data \n",
      "\n",
      "[CLEAR]No Previous Active Nomor Rekening Fasilitas But Not Exist in Current Data\n",
      "\n",
      "[DONE]\n",
      "================================================================================\n",
      "================================================================================\n",
      "Check Nomor CIF Debitur in D01 and F01 \n",
      "\n",
      "[CLEAR]All Nomor CIF Debitur in D01 are exist in F01\n",
      "\n",
      "[DONE]\n",
      "================================================================================\n",
      "================================================================================\n",
      "Check Active Kode Kondisi but Baki Debet = 0 \n",
      "\n",
      "Found 114 Nomor Rekening Fasilitas\n",
      "--> kbij.active_but_has_no_balance\n",
      "Set Kode Kondisi to not active\n",
      "\n",
      "[DONE]\n",
      "================================================================================\n",
      "================================================================================\n",
      "Check Not Active Kode Kondisi but Baki Debet > 0 \n",
      "\n",
      "[CLEAR]No Not Active Kode Kondisi but Baki Debet > 0\n",
      "\n",
      "[DONE]\n",
      "================================================================================\n",
      "================================================================================\n",
      "Check Baki Debet > Plafon Awal \n",
      "\n",
      "[CLEAR]No Baki Debet greater than Plafon Awal\n",
      "\n",
      "[DONE]\n",
      "================================================================================\n",
      "================================================================================\n",
      "Check Kode Kualitas Kredit atau Pembiayaan Macet but has no Tanggal Macet \n",
      "\n",
      "[CLEAR]No Kode Kualitas Kredit atau Pembiayaan Macet but has no Tanggal Macet\n",
      "\n",
      "[DONE]\n",
      "================================================================================\n",
      "================================================================================\n",
      "Check Tahun Bulan Data \n",
      "\n",
      "F01: ['202007']\n",
      "D01: ['202007']\n",
      "\n",
      "[DONE]\n",
      "================================================================================\n"
     ]
    }
   ],
   "source": [
    "F01new, D01new = kbij.checking_data(F01new, D01new, date, F01_prev=F01_prev, D01_prev=D01_prev)"
   ]
  },
  {
   "cell_type": "markdown",
   "metadata": {},
   "source": [
    "## Check column"
   ]
  },
  {
   "cell_type": "code",
   "execution_count": 42,
   "metadata": {},
   "outputs": [
    {
     "data": {
      "text/html": [
       "<div>\n",
       "<style scoped>\n",
       "    .dataframe tbody tr th:only-of-type {\n",
       "        vertical-align: middle;\n",
       "    }\n",
       "\n",
       "    .dataframe tbody tr th {\n",
       "        vertical-align: top;\n",
       "    }\n",
       "\n",
       "    .dataframe thead th {\n",
       "        text-align: right;\n",
       "    }\n",
       "</style>\n",
       "<table border=\"1\" class=\"dataframe\">\n",
       "  <thead>\n",
       "    <tr style=\"text-align: right;\">\n",
       "      <th></th>\n",
       "      <th>orderId</th>\n",
       "      <th>Jumlah Hari Tunggakan</th>\n",
       "      <th>Frekuensi Tunggakan</th>\n",
       "      <th>Approved Date</th>\n",
       "      <th>status</th>\n",
       "    </tr>\n",
       "  </thead>\n",
       "  <tbody>\n",
       "  </tbody>\n",
       "</table>\n",
       "</div>"
      ],
      "text/plain": [
       "Empty DataFrame\n",
       "Columns: [orderId, Jumlah Hari Tunggakan, Frekuensi Tunggakan, Approved Date, status]\n",
       "Index: []"
      ]
     },
     "execution_count": 42,
     "metadata": {},
     "output_type": "execute_result"
    }
   ],
   "source": [
    "F01new[(F01new['Jumlah Hari Tunggakan']==0) & (F01new['Frekuensi Tunggakan']>0)][['orderId','Jumlah Hari Tunggakan','Frekuensi Tunggakan','Approved Date','status']]"
   ]
  },
  {
   "cell_type": "code",
   "execution_count": null,
   "metadata": {},
   "outputs": [],
   "source": []
  },
  {
   "cell_type": "code",
   "execution_count": 43,
   "metadata": {},
   "outputs": [
    {
     "data": {
      "text/html": [
       "<div>\n",
       "<style scoped>\n",
       "    .dataframe tbody tr th:only-of-type {\n",
       "        vertical-align: middle;\n",
       "    }\n",
       "\n",
       "    .dataframe tbody tr th {\n",
       "        vertical-align: top;\n",
       "    }\n",
       "\n",
       "    .dataframe thead th {\n",
       "        text-align: right;\n",
       "    }\n",
       "</style>\n",
       "<table border=\"1\" class=\"dataframe\">\n",
       "  <thead>\n",
       "    <tr style=\"text-align: right;\">\n",
       "      <th></th>\n",
       "      <th>orderId</th>\n",
       "      <th>Denda</th>\n",
       "      <th>Kode Kualitas Kredit atau Pembiayaan</th>\n",
       "      <th>Kode Kondisi</th>\n",
       "      <th>dayPastDue</th>\n",
       "    </tr>\n",
       "  </thead>\n",
       "  <tbody>\n",
       "  </tbody>\n",
       "</table>\n",
       "</div>"
      ],
      "text/plain": [
       "Empty DataFrame\n",
       "Columns: [orderId, Denda, Kode Kualitas Kredit atau Pembiayaan, Kode Kondisi, dayPastDue]\n",
       "Index: []"
      ]
     },
     "execution_count": 43,
     "metadata": {},
     "output_type": "execute_result"
    }
   ],
   "source": [
    "F01new[(F01new['Tunggakan Pokok']>0) & (F01new['Kode Kualitas Kredit atau Pembiayaan']=='1') & (F01new['Kode Kondisi']=='00')][['orderId','Denda','Kode Kualitas Kredit atau Pembiayaan','Kode Kondisi','dayPastDue']]"
   ]
  },
  {
   "cell_type": "code",
   "execution_count": 44,
   "metadata": {},
   "outputs": [
    {
     "data": {
      "text/html": [
       "<div>\n",
       "<style scoped>\n",
       "    .dataframe tbody tr th:only-of-type {\n",
       "        vertical-align: middle;\n",
       "    }\n",
       "\n",
       "    .dataframe tbody tr th {\n",
       "        vertical-align: top;\n",
       "    }\n",
       "\n",
       "    .dataframe thead th {\n",
       "        text-align: right;\n",
       "    }\n",
       "</style>\n",
       "<table border=\"1\" class=\"dataframe\">\n",
       "  <thead>\n",
       "    <tr style=\"text-align: right;\">\n",
       "      <th></th>\n",
       "      <th>orderId</th>\n",
       "      <th>Denda</th>\n",
       "      <th>Kode Kualitas Kredit atau Pembiayaan</th>\n",
       "      <th>Kode Kondisi</th>\n",
       "      <th>dayPastDue</th>\n",
       "    </tr>\n",
       "  </thead>\n",
       "  <tbody>\n",
       "    <tr>\n",
       "      <th>264</th>\n",
       "      <td>ATH-11KDLXQ4</td>\n",
       "      <td>0.0</td>\n",
       "      <td>2</td>\n",
       "      <td>00</td>\n",
       "      <td>65</td>\n",
       "    </tr>\n",
       "    <tr>\n",
       "      <th>397</th>\n",
       "      <td>ATH-11U6MLW9</td>\n",
       "      <td>0.0</td>\n",
       "      <td>5</td>\n",
       "      <td>00</td>\n",
       "      <td>187</td>\n",
       "    </tr>\n",
       "    <tr>\n",
       "      <th>626</th>\n",
       "      <td>ATH-129P6LAM</td>\n",
       "      <td>0.0</td>\n",
       "      <td>4</td>\n",
       "      <td>00</td>\n",
       "      <td>146</td>\n",
       "    </tr>\n",
       "    <tr>\n",
       "      <th>1020</th>\n",
       "      <td>ATH-131VGPK9</td>\n",
       "      <td>0.0</td>\n",
       "      <td>4</td>\n",
       "      <td>00</td>\n",
       "      <td>158</td>\n",
       "    </tr>\n",
       "    <tr>\n",
       "      <th>1388</th>\n",
       "      <td>ATH-13SVCYFQ</td>\n",
       "      <td>0.0</td>\n",
       "      <td>5</td>\n",
       "      <td>00</td>\n",
       "      <td>482</td>\n",
       "    </tr>\n",
       "    <tr>\n",
       "      <th>1488</th>\n",
       "      <td>ATH-13Z27H2L</td>\n",
       "      <td>0.0</td>\n",
       "      <td>4</td>\n",
       "      <td>00</td>\n",
       "      <td>140</td>\n",
       "    </tr>\n",
       "    <tr>\n",
       "      <th>1909</th>\n",
       "      <td>ATH-14T7HLXJ</td>\n",
       "      <td>0.0</td>\n",
       "      <td>5</td>\n",
       "      <td>00</td>\n",
       "      <td>381</td>\n",
       "    </tr>\n",
       "    <tr>\n",
       "      <th>2308</th>\n",
       "      <td>ATH-15KDJSLQ</td>\n",
       "      <td>0.0</td>\n",
       "      <td>5</td>\n",
       "      <td>00</td>\n",
       "      <td>234</td>\n",
       "    </tr>\n",
       "    <tr>\n",
       "      <th>2322</th>\n",
       "      <td>ATH-15LJUAP8</td>\n",
       "      <td>0.0</td>\n",
       "      <td>5</td>\n",
       "      <td>00</td>\n",
       "      <td>247</td>\n",
       "    </tr>\n",
       "    <tr>\n",
       "      <th>2369</th>\n",
       "      <td>ATH-15PRH8ZH</td>\n",
       "      <td>0.0</td>\n",
       "      <td>5</td>\n",
       "      <td>00</td>\n",
       "      <td>576</td>\n",
       "    </tr>\n",
       "    <tr>\n",
       "      <th>2399</th>\n",
       "      <td>ATH-15RBPCW3</td>\n",
       "      <td>0.0</td>\n",
       "      <td>3</td>\n",
       "      <td>00</td>\n",
       "      <td>103</td>\n",
       "    </tr>\n",
       "    <tr>\n",
       "      <th>2646</th>\n",
       "      <td>ATH-168CD7PA</td>\n",
       "      <td>0.0</td>\n",
       "      <td>5</td>\n",
       "      <td>00</td>\n",
       "      <td>243</td>\n",
       "    </tr>\n",
       "    <tr>\n",
       "      <th>3097</th>\n",
       "      <td>ATH-178QJ2VT</td>\n",
       "      <td>0.0</td>\n",
       "      <td>2</td>\n",
       "      <td>00</td>\n",
       "      <td>64</td>\n",
       "    </tr>\n",
       "    <tr>\n",
       "      <th>3452</th>\n",
       "      <td>ATH-17WPWLQS</td>\n",
       "      <td>0.0</td>\n",
       "      <td>4</td>\n",
       "      <td>00</td>\n",
       "      <td>128</td>\n",
       "    </tr>\n",
       "    <tr>\n",
       "      <th>3485</th>\n",
       "      <td>ATH-17YNRHDD</td>\n",
       "      <td>0.0</td>\n",
       "      <td>2</td>\n",
       "      <td>00</td>\n",
       "      <td>76</td>\n",
       "    </tr>\n",
       "    <tr>\n",
       "      <th>3628</th>\n",
       "      <td>ATH-1883MD8Q</td>\n",
       "      <td>0.0</td>\n",
       "      <td>4</td>\n",
       "      <td>00</td>\n",
       "      <td>155</td>\n",
       "    </tr>\n",
       "    <tr>\n",
       "      <th>3785</th>\n",
       "      <td>ATH-18J1TZ8J</td>\n",
       "      <td>0.0</td>\n",
       "      <td>5</td>\n",
       "      <td>00</td>\n",
       "      <td>374</td>\n",
       "    </tr>\n",
       "    <tr>\n",
       "      <th>3852</th>\n",
       "      <td>ATH-18N1YSZX</td>\n",
       "      <td>0.0</td>\n",
       "      <td>5</td>\n",
       "      <td>00</td>\n",
       "      <td>637</td>\n",
       "    </tr>\n",
       "    <tr>\n",
       "      <th>3982</th>\n",
       "      <td>ATH-18WV4LT1</td>\n",
       "      <td>0.0</td>\n",
       "      <td>5</td>\n",
       "      <td>00</td>\n",
       "      <td>419</td>\n",
       "    </tr>\n",
       "    <tr>\n",
       "      <th>4050</th>\n",
       "      <td>ATH-192YG3V5</td>\n",
       "      <td>0.0</td>\n",
       "      <td>5</td>\n",
       "      <td>00</td>\n",
       "      <td>339</td>\n",
       "    </tr>\n",
       "    <tr>\n",
       "      <th>4102</th>\n",
       "      <td>ATH-1962MKG4</td>\n",
       "      <td>0.0</td>\n",
       "      <td>5</td>\n",
       "      <td>00</td>\n",
       "      <td>511</td>\n",
       "    </tr>\n",
       "    <tr>\n",
       "      <th>4146</th>\n",
       "      <td>ATH-19977LZ4</td>\n",
       "      <td>0.0</td>\n",
       "      <td>5</td>\n",
       "      <td>00</td>\n",
       "      <td>370</td>\n",
       "    </tr>\n",
       "    <tr>\n",
       "      <th>4168</th>\n",
       "      <td>ATH-19AH5JJA</td>\n",
       "      <td>0.0</td>\n",
       "      <td>3</td>\n",
       "      <td>00</td>\n",
       "      <td>109</td>\n",
       "    </tr>\n",
       "    <tr>\n",
       "      <th>4256</th>\n",
       "      <td>ATH-19FUM9PN</td>\n",
       "      <td>0.0</td>\n",
       "      <td>2</td>\n",
       "      <td>00</td>\n",
       "      <td>64</td>\n",
       "    </tr>\n",
       "    <tr>\n",
       "      <th>4275</th>\n",
       "      <td>ATH-19H7SEJB</td>\n",
       "      <td>0.0</td>\n",
       "      <td>3</td>\n",
       "      <td>00</td>\n",
       "      <td>102</td>\n",
       "    </tr>\n",
       "    <tr>\n",
       "      <th>4312</th>\n",
       "      <td>ATH-19KJVYS1</td>\n",
       "      <td>0.0</td>\n",
       "      <td>5</td>\n",
       "      <td>00</td>\n",
       "      <td>469</td>\n",
       "    </tr>\n",
       "    <tr>\n",
       "      <th>4313</th>\n",
       "      <td>ATH-19KLBW5H</td>\n",
       "      <td>0.0</td>\n",
       "      <td>5</td>\n",
       "      <td>00</td>\n",
       "      <td>308</td>\n",
       "    </tr>\n",
       "    <tr>\n",
       "      <th>4416</th>\n",
       "      <td>ATH-19T5GQB3</td>\n",
       "      <td>0.0</td>\n",
       "      <td>5</td>\n",
       "      <td>00</td>\n",
       "      <td>199</td>\n",
       "    </tr>\n",
       "    <tr>\n",
       "      <th>4574</th>\n",
       "      <td>ATH-1A3WA6S1</td>\n",
       "      <td>0.0</td>\n",
       "      <td>5</td>\n",
       "      <td>00</td>\n",
       "      <td>391</td>\n",
       "    </tr>\n",
       "    <tr>\n",
       "      <th>4710</th>\n",
       "      <td>ATH-1AD7DK4J</td>\n",
       "      <td>0.0</td>\n",
       "      <td>5</td>\n",
       "      <td>00</td>\n",
       "      <td>715</td>\n",
       "    </tr>\n",
       "    <tr>\n",
       "      <th>...</th>\n",
       "      <td>...</td>\n",
       "      <td>...</td>\n",
       "      <td>...</td>\n",
       "      <td>...</td>\n",
       "      <td>...</td>\n",
       "    </tr>\n",
       "    <tr>\n",
       "      <th>572592</th>\n",
       "      <td>EXT-Z1WKRVXV</td>\n",
       "      <td>0.0</td>\n",
       "      <td>2</td>\n",
       "      <td>00</td>\n",
       "      <td>3</td>\n",
       "    </tr>\n",
       "    <tr>\n",
       "      <th>572606</th>\n",
       "      <td>EXT-Z33L1HEN</td>\n",
       "      <td>0.0</td>\n",
       "      <td>2</td>\n",
       "      <td>00</td>\n",
       "      <td>3</td>\n",
       "    </tr>\n",
       "    <tr>\n",
       "      <th>572619</th>\n",
       "      <td>EXT-Z5A5AWVS</td>\n",
       "      <td>0.0</td>\n",
       "      <td>2</td>\n",
       "      <td>00</td>\n",
       "      <td>3</td>\n",
       "    </tr>\n",
       "    <tr>\n",
       "      <th>572626</th>\n",
       "      <td>EXT-Z66U38ZQ</td>\n",
       "      <td>0.0</td>\n",
       "      <td>2</td>\n",
       "      <td>00</td>\n",
       "      <td>3</td>\n",
       "    </tr>\n",
       "    <tr>\n",
       "      <th>572640</th>\n",
       "      <td>EXT-Z7ZWEDVC</td>\n",
       "      <td>0.0</td>\n",
       "      <td>2</td>\n",
       "      <td>00</td>\n",
       "      <td>3</td>\n",
       "    </tr>\n",
       "    <tr>\n",
       "      <th>572644</th>\n",
       "      <td>EXT-Z8K488EQ</td>\n",
       "      <td>0.0</td>\n",
       "      <td>2</td>\n",
       "      <td>00</td>\n",
       "      <td>3</td>\n",
       "    </tr>\n",
       "    <tr>\n",
       "      <th>572666</th>\n",
       "      <td>EXT-ZARW5RTR</td>\n",
       "      <td>0.0</td>\n",
       "      <td>2</td>\n",
       "      <td>00</td>\n",
       "      <td>3</td>\n",
       "    </tr>\n",
       "    <tr>\n",
       "      <th>572683</th>\n",
       "      <td>EXT-ZCE3LSZ3</td>\n",
       "      <td>0.0</td>\n",
       "      <td>2</td>\n",
       "      <td>00</td>\n",
       "      <td>3</td>\n",
       "    </tr>\n",
       "    <tr>\n",
       "      <th>572711</th>\n",
       "      <td>EXT-ZFKDLD62</td>\n",
       "      <td>0.0</td>\n",
       "      <td>2</td>\n",
       "      <td>00</td>\n",
       "      <td>3</td>\n",
       "    </tr>\n",
       "    <tr>\n",
       "      <th>572743</th>\n",
       "      <td>EXT-ZKQAUPGH</td>\n",
       "      <td>0.0</td>\n",
       "      <td>2</td>\n",
       "      <td>00</td>\n",
       "      <td>3</td>\n",
       "    </tr>\n",
       "    <tr>\n",
       "      <th>572785</th>\n",
       "      <td>EXT-ZQZUUW8T</td>\n",
       "      <td>0.0</td>\n",
       "      <td>2</td>\n",
       "      <td>00</td>\n",
       "      <td>3</td>\n",
       "    </tr>\n",
       "    <tr>\n",
       "      <th>572813</th>\n",
       "      <td>EXT-ZU2M72TK</td>\n",
       "      <td>0.0</td>\n",
       "      <td>2</td>\n",
       "      <td>00</td>\n",
       "      <td>3</td>\n",
       "    </tr>\n",
       "    <tr>\n",
       "      <th>572820</th>\n",
       "      <td>EXT-ZUWVSN8V</td>\n",
       "      <td>0.0</td>\n",
       "      <td>2</td>\n",
       "      <td>00</td>\n",
       "      <td>3</td>\n",
       "    </tr>\n",
       "    <tr>\n",
       "      <th>572853</th>\n",
       "      <td>EXT-ZYEJURVM</td>\n",
       "      <td>0.0</td>\n",
       "      <td>2</td>\n",
       "      <td>00</td>\n",
       "      <td>3</td>\n",
       "    </tr>\n",
       "    <tr>\n",
       "      <th>572858</th>\n",
       "      <td>EXT-ZYKUTW1B</td>\n",
       "      <td>0.0</td>\n",
       "      <td>2</td>\n",
       "      <td>00</td>\n",
       "      <td>3</td>\n",
       "    </tr>\n",
       "    <tr>\n",
       "      <th>572876</th>\n",
       "      <td>INS-1J5J6ARG</td>\n",
       "      <td>0.0</td>\n",
       "      <td>5</td>\n",
       "      <td>00</td>\n",
       "      <td>376</td>\n",
       "    </tr>\n",
       "    <tr>\n",
       "      <th>572891</th>\n",
       "      <td>INS-2QF9X6QW</td>\n",
       "      <td>0.0</td>\n",
       "      <td>5</td>\n",
       "      <td>00</td>\n",
       "      <td>265</td>\n",
       "    </tr>\n",
       "    <tr>\n",
       "      <th>572959</th>\n",
       "      <td>INS-7VYWHF8Z</td>\n",
       "      <td>0.0</td>\n",
       "      <td>5</td>\n",
       "      <td>00</td>\n",
       "      <td>232</td>\n",
       "    </tr>\n",
       "    <tr>\n",
       "      <th>572966</th>\n",
       "      <td>INS-8Q6WACYF</td>\n",
       "      <td>0.0</td>\n",
       "      <td>5</td>\n",
       "      <td>00</td>\n",
       "      <td>239</td>\n",
       "    </tr>\n",
       "    <tr>\n",
       "      <th>572997</th>\n",
       "      <td>INS-BE3SE64Q</td>\n",
       "      <td>0.0</td>\n",
       "      <td>5</td>\n",
       "      <td>00</td>\n",
       "      <td>284</td>\n",
       "    </tr>\n",
       "    <tr>\n",
       "      <th>573048</th>\n",
       "      <td>INS-EJEW9S5N</td>\n",
       "      <td>0.0</td>\n",
       "      <td>5</td>\n",
       "      <td>00</td>\n",
       "      <td>233</td>\n",
       "    </tr>\n",
       "    <tr>\n",
       "      <th>573107</th>\n",
       "      <td>INS-J5QLTQ4R</td>\n",
       "      <td>0.0</td>\n",
       "      <td>5</td>\n",
       "      <td>00</td>\n",
       "      <td>325</td>\n",
       "    </tr>\n",
       "    <tr>\n",
       "      <th>573113</th>\n",
       "      <td>INS-JSXPEU4N</td>\n",
       "      <td>0.0</td>\n",
       "      <td>5</td>\n",
       "      <td>00</td>\n",
       "      <td>339</td>\n",
       "    </tr>\n",
       "    <tr>\n",
       "      <th>573116</th>\n",
       "      <td>INS-K86KHC81</td>\n",
       "      <td>0.0</td>\n",
       "      <td>5</td>\n",
       "      <td>00</td>\n",
       "      <td>294</td>\n",
       "    </tr>\n",
       "    <tr>\n",
       "      <th>573117</th>\n",
       "      <td>INS-KF2E4VH4</td>\n",
       "      <td>0.0</td>\n",
       "      <td>5</td>\n",
       "      <td>00</td>\n",
       "      <td>259</td>\n",
       "    </tr>\n",
       "    <tr>\n",
       "      <th>573145</th>\n",
       "      <td>INS-N9EFNP24</td>\n",
       "      <td>0.0</td>\n",
       "      <td>5</td>\n",
       "      <td>00</td>\n",
       "      <td>280</td>\n",
       "    </tr>\n",
       "    <tr>\n",
       "      <th>573159</th>\n",
       "      <td>INS-NY8695N5</td>\n",
       "      <td>0.0</td>\n",
       "      <td>5</td>\n",
       "      <td>00</td>\n",
       "      <td>270</td>\n",
       "    </tr>\n",
       "    <tr>\n",
       "      <th>573183</th>\n",
       "      <td>INS-QEAEJRB2</td>\n",
       "      <td>0.0</td>\n",
       "      <td>5</td>\n",
       "      <td>00</td>\n",
       "      <td>369</td>\n",
       "    </tr>\n",
       "    <tr>\n",
       "      <th>573210</th>\n",
       "      <td>INS-SKV34WK2</td>\n",
       "      <td>0.0</td>\n",
       "      <td>5</td>\n",
       "      <td>00</td>\n",
       "      <td>300</td>\n",
       "    </tr>\n",
       "    <tr>\n",
       "      <th>573270</th>\n",
       "      <td>INS-XBWHEWRT</td>\n",
       "      <td>0.0</td>\n",
       "      <td>5</td>\n",
       "      <td>00</td>\n",
       "      <td>282</td>\n",
       "    </tr>\n",
       "  </tbody>\n",
       "</table>\n",
       "<p>4080 rows × 5 columns</p>\n",
       "</div>"
      ],
      "text/plain": [
       "             orderId  Denda Kode Kualitas Kredit atau Pembiayaan Kode Kondisi  \\\n",
       "264     ATH-11KDLXQ4    0.0                                    2           00   \n",
       "397     ATH-11U6MLW9    0.0                                    5           00   \n",
       "626     ATH-129P6LAM    0.0                                    4           00   \n",
       "1020    ATH-131VGPK9    0.0                                    4           00   \n",
       "1388    ATH-13SVCYFQ    0.0                                    5           00   \n",
       "1488    ATH-13Z27H2L    0.0                                    4           00   \n",
       "1909    ATH-14T7HLXJ    0.0                                    5           00   \n",
       "2308    ATH-15KDJSLQ    0.0                                    5           00   \n",
       "2322    ATH-15LJUAP8    0.0                                    5           00   \n",
       "2369    ATH-15PRH8ZH    0.0                                    5           00   \n",
       "2399    ATH-15RBPCW3    0.0                                    3           00   \n",
       "2646    ATH-168CD7PA    0.0                                    5           00   \n",
       "3097    ATH-178QJ2VT    0.0                                    2           00   \n",
       "3452    ATH-17WPWLQS    0.0                                    4           00   \n",
       "3485    ATH-17YNRHDD    0.0                                    2           00   \n",
       "3628    ATH-1883MD8Q    0.0                                    4           00   \n",
       "3785    ATH-18J1TZ8J    0.0                                    5           00   \n",
       "3852    ATH-18N1YSZX    0.0                                    5           00   \n",
       "3982    ATH-18WV4LT1    0.0                                    5           00   \n",
       "4050    ATH-192YG3V5    0.0                                    5           00   \n",
       "4102    ATH-1962MKG4    0.0                                    5           00   \n",
       "4146    ATH-19977LZ4    0.0                                    5           00   \n",
       "4168    ATH-19AH5JJA    0.0                                    3           00   \n",
       "4256    ATH-19FUM9PN    0.0                                    2           00   \n",
       "4275    ATH-19H7SEJB    0.0                                    3           00   \n",
       "4312    ATH-19KJVYS1    0.0                                    5           00   \n",
       "4313    ATH-19KLBW5H    0.0                                    5           00   \n",
       "4416    ATH-19T5GQB3    0.0                                    5           00   \n",
       "4574    ATH-1A3WA6S1    0.0                                    5           00   \n",
       "4710    ATH-1AD7DK4J    0.0                                    5           00   \n",
       "...              ...    ...                                  ...          ...   \n",
       "572592  EXT-Z1WKRVXV    0.0                                    2           00   \n",
       "572606  EXT-Z33L1HEN    0.0                                    2           00   \n",
       "572619  EXT-Z5A5AWVS    0.0                                    2           00   \n",
       "572626  EXT-Z66U38ZQ    0.0                                    2           00   \n",
       "572640  EXT-Z7ZWEDVC    0.0                                    2           00   \n",
       "572644  EXT-Z8K488EQ    0.0                                    2           00   \n",
       "572666  EXT-ZARW5RTR    0.0                                    2           00   \n",
       "572683  EXT-ZCE3LSZ3    0.0                                    2           00   \n",
       "572711  EXT-ZFKDLD62    0.0                                    2           00   \n",
       "572743  EXT-ZKQAUPGH    0.0                                    2           00   \n",
       "572785  EXT-ZQZUUW8T    0.0                                    2           00   \n",
       "572813  EXT-ZU2M72TK    0.0                                    2           00   \n",
       "572820  EXT-ZUWVSN8V    0.0                                    2           00   \n",
       "572853  EXT-ZYEJURVM    0.0                                    2           00   \n",
       "572858  EXT-ZYKUTW1B    0.0                                    2           00   \n",
       "572876  INS-1J5J6ARG    0.0                                    5           00   \n",
       "572891  INS-2QF9X6QW    0.0                                    5           00   \n",
       "572959  INS-7VYWHF8Z    0.0                                    5           00   \n",
       "572966  INS-8Q6WACYF    0.0                                    5           00   \n",
       "572997  INS-BE3SE64Q    0.0                                    5           00   \n",
       "573048  INS-EJEW9S5N    0.0                                    5           00   \n",
       "573107  INS-J5QLTQ4R    0.0                                    5           00   \n",
       "573113  INS-JSXPEU4N    0.0                                    5           00   \n",
       "573116  INS-K86KHC81    0.0                                    5           00   \n",
       "573117  INS-KF2E4VH4    0.0                                    5           00   \n",
       "573145  INS-N9EFNP24    0.0                                    5           00   \n",
       "573159  INS-NY8695N5    0.0                                    5           00   \n",
       "573183  INS-QEAEJRB2    0.0                                    5           00   \n",
       "573210  INS-SKV34WK2    0.0                                    5           00   \n",
       "573270  INS-XBWHEWRT    0.0                                    5           00   \n",
       "\n",
       "        dayPastDue  \n",
       "264             65  \n",
       "397            187  \n",
       "626            146  \n",
       "1020           158  \n",
       "1388           482  \n",
       "1488           140  \n",
       "1909           381  \n",
       "2308           234  \n",
       "2322           247  \n",
       "2369           576  \n",
       "2399           103  \n",
       "2646           243  \n",
       "3097            64  \n",
       "3452           128  \n",
       "3485            76  \n",
       "3628           155  \n",
       "3785           374  \n",
       "3852           637  \n",
       "3982           419  \n",
       "4050           339  \n",
       "4102           511  \n",
       "4146           370  \n",
       "4168           109  \n",
       "4256            64  \n",
       "4275           102  \n",
       "4312           469  \n",
       "4313           308  \n",
       "4416           199  \n",
       "4574           391  \n",
       "4710           715  \n",
       "...            ...  \n",
       "572592           3  \n",
       "572606           3  \n",
       "572619           3  \n",
       "572626           3  \n",
       "572640           3  \n",
       "572644           3  \n",
       "572666           3  \n",
       "572683           3  \n",
       "572711           3  \n",
       "572743           3  \n",
       "572785           3  \n",
       "572813           3  \n",
       "572820           3  \n",
       "572853           3  \n",
       "572858           3  \n",
       "572876         376  \n",
       "572891         265  \n",
       "572959         232  \n",
       "572966         239  \n",
       "572997         284  \n",
       "573048         233  \n",
       "573107         325  \n",
       "573113         339  \n",
       "573116         294  \n",
       "573117         259  \n",
       "573145         280  \n",
       "573159         270  \n",
       "573183         369  \n",
       "573210         300  \n",
       "573270         282  \n",
       "\n",
       "[4080 rows x 5 columns]"
      ]
     },
     "execution_count": 44,
     "metadata": {},
     "output_type": "execute_result"
    }
   ],
   "source": [
    "F01new[(F01new['Denda']==0) & (F01new['Kode Kualitas Kredit atau Pembiayaan']!='1') & (F01new['Kode Kondisi']=='00')][['orderId','Denda','Kode Kualitas Kredit atau Pembiayaan','Kode Kondisi','dayPastDue']]"
   ]
  },
  {
   "cell_type": "code",
   "execution_count": 45,
   "metadata": {},
   "outputs": [
    {
     "data": {
      "text/html": [
       "<div>\n",
       "<style scoped>\n",
       "    .dataframe tbody tr th:only-of-type {\n",
       "        vertical-align: middle;\n",
       "    }\n",
       "\n",
       "    .dataframe tbody tr th {\n",
       "        vertical-align: top;\n",
       "    }\n",
       "\n",
       "    .dataframe thead th {\n",
       "        text-align: right;\n",
       "    }\n",
       "</style>\n",
       "<table border=\"1\" class=\"dataframe\">\n",
       "  <thead>\n",
       "    <tr style=\"text-align: right;\">\n",
       "      <th></th>\n",
       "      <th>orderId</th>\n",
       "      <th>Tunggakan Bunga atau Imbalan</th>\n",
       "      <th>Denda</th>\n",
       "      <th>Kode Kualitas Kredit atau Pembiayaan</th>\n",
       "      <th>Kode Kondisi</th>\n",
       "      <th>dayPastDue</th>\n",
       "    </tr>\n",
       "  </thead>\n",
       "  <tbody>\n",
       "    <tr>\n",
       "      <th>78198</th>\n",
       "      <td>ATH-5LEAQ3CS</td>\n",
       "      <td>0</td>\n",
       "      <td>661000.0</td>\n",
       "      <td>5</td>\n",
       "      <td>00</td>\n",
       "      <td>593</td>\n",
       "    </tr>\n",
       "    <tr>\n",
       "      <th>100783</th>\n",
       "      <td>ATH-6XQVT373</td>\n",
       "      <td>0</td>\n",
       "      <td>950000.0</td>\n",
       "      <td>5</td>\n",
       "      <td>00</td>\n",
       "      <td>270</td>\n",
       "    </tr>\n",
       "    <tr>\n",
       "      <th>103638</th>\n",
       "      <td>ATH-74BYYA6K</td>\n",
       "      <td>0</td>\n",
       "      <td>950000.0</td>\n",
       "      <td>5</td>\n",
       "      <td>00</td>\n",
       "      <td>216</td>\n",
       "    </tr>\n",
       "    <tr>\n",
       "      <th>112585</th>\n",
       "      <td>ATH-7MWFASZQ</td>\n",
       "      <td>0</td>\n",
       "      <td>420000.0</td>\n",
       "      <td>2</td>\n",
       "      <td>00</td>\n",
       "      <td>64</td>\n",
       "    </tr>\n",
       "    <tr>\n",
       "      <th>268865</th>\n",
       "      <td>ATH-GTBSMBMB</td>\n",
       "      <td>0</td>\n",
       "      <td>458000.0</td>\n",
       "      <td>5</td>\n",
       "      <td>00</td>\n",
       "      <td>403</td>\n",
       "    </tr>\n",
       "    <tr>\n",
       "      <th>291598</th>\n",
       "      <td>ATH-J56C6R33</td>\n",
       "      <td>0</td>\n",
       "      <td>123000.0</td>\n",
       "      <td>3</td>\n",
       "      <td>00</td>\n",
       "      <td>112</td>\n",
       "    </tr>\n",
       "    <tr>\n",
       "      <th>355903</th>\n",
       "      <td>ATH-MW7D4MYP</td>\n",
       "      <td>0</td>\n",
       "      <td>950000.0</td>\n",
       "      <td>5</td>\n",
       "      <td>00</td>\n",
       "      <td>771</td>\n",
       "    </tr>\n",
       "    <tr>\n",
       "      <th>467009</th>\n",
       "      <td>ATH-UCQBBQMV</td>\n",
       "      <td>0</td>\n",
       "      <td>661000.0</td>\n",
       "      <td>5</td>\n",
       "      <td>00</td>\n",
       "      <td>501</td>\n",
       "    </tr>\n",
       "    <tr>\n",
       "      <th>505945</th>\n",
       "      <td>ATH-WMZPNWPX</td>\n",
       "      <td>0</td>\n",
       "      <td>661000.0</td>\n",
       "      <td>5</td>\n",
       "      <td>00</td>\n",
       "      <td>505</td>\n",
       "    </tr>\n",
       "    <tr>\n",
       "      <th>563647</th>\n",
       "      <td>EXT-11D5L6KH</td>\n",
       "      <td>0</td>\n",
       "      <td>950000.0</td>\n",
       "      <td>2</td>\n",
       "      <td>00</td>\n",
       "      <td>34</td>\n",
       "    </tr>\n",
       "    <tr>\n",
       "      <th>563649</th>\n",
       "      <td>EXT-11HVBH41</td>\n",
       "      <td>0</td>\n",
       "      <td>457000.0</td>\n",
       "      <td>2</td>\n",
       "      <td>00</td>\n",
       "      <td>64</td>\n",
       "    </tr>\n",
       "    <tr>\n",
       "      <th>563652</th>\n",
       "      <td>EXT-11TSBKFL</td>\n",
       "      <td>0</td>\n",
       "      <td>35000.0</td>\n",
       "      <td>2</td>\n",
       "      <td>00</td>\n",
       "      <td>5</td>\n",
       "    </tr>\n",
       "    <tr>\n",
       "      <th>563656</th>\n",
       "      <td>EXT-125UP4LR</td>\n",
       "      <td>0</td>\n",
       "      <td>323000.0</td>\n",
       "      <td>2</td>\n",
       "      <td>00</td>\n",
       "      <td>51</td>\n",
       "    </tr>\n",
       "    <tr>\n",
       "      <th>563658</th>\n",
       "      <td>EXT-12EN2MA4</td>\n",
       "      <td>0</td>\n",
       "      <td>0.0</td>\n",
       "      <td>2</td>\n",
       "      <td>00</td>\n",
       "      <td>3</td>\n",
       "    </tr>\n",
       "    <tr>\n",
       "      <th>563660</th>\n",
       "      <td>EXT-12NG5A8Q</td>\n",
       "      <td>0</td>\n",
       "      <td>275000.0</td>\n",
       "      <td>2</td>\n",
       "      <td>00</td>\n",
       "      <td>20</td>\n",
       "    </tr>\n",
       "    <tr>\n",
       "      <th>563662</th>\n",
       "      <td>EXT-12ZBCRNX</td>\n",
       "      <td>0</td>\n",
       "      <td>375000.0</td>\n",
       "      <td>2</td>\n",
       "      <td>00</td>\n",
       "      <td>25</td>\n",
       "    </tr>\n",
       "    <tr>\n",
       "      <th>563663</th>\n",
       "      <td>EXT-12ZKPC88</td>\n",
       "      <td>0</td>\n",
       "      <td>344500.0</td>\n",
       "      <td>2</td>\n",
       "      <td>00</td>\n",
       "      <td>34</td>\n",
       "    </tr>\n",
       "    <tr>\n",
       "      <th>563664</th>\n",
       "      <td>EXT-131R1E9U</td>\n",
       "      <td>0</td>\n",
       "      <td>350000.0</td>\n",
       "      <td>2</td>\n",
       "      <td>00</td>\n",
       "      <td>39</td>\n",
       "    </tr>\n",
       "    <tr>\n",
       "      <th>563665</th>\n",
       "      <td>EXT-133X3MPK</td>\n",
       "      <td>0</td>\n",
       "      <td>25000.0</td>\n",
       "      <td>2</td>\n",
       "      <td>00</td>\n",
       "      <td>4</td>\n",
       "    </tr>\n",
       "    <tr>\n",
       "      <th>563667</th>\n",
       "      <td>EXT-13JVUUEF</td>\n",
       "      <td>0</td>\n",
       "      <td>950000.0</td>\n",
       "      <td>2</td>\n",
       "      <td>00</td>\n",
       "      <td>34</td>\n",
       "    </tr>\n",
       "    <tr>\n",
       "      <th>563669</th>\n",
       "      <td>EXT-141BE7QH</td>\n",
       "      <td>0</td>\n",
       "      <td>475000.0</td>\n",
       "      <td>2</td>\n",
       "      <td>00</td>\n",
       "      <td>40</td>\n",
       "    </tr>\n",
       "    <tr>\n",
       "      <th>563675</th>\n",
       "      <td>EXT-163GC6C5</td>\n",
       "      <td>0</td>\n",
       "      <td>0.0</td>\n",
       "      <td>2</td>\n",
       "      <td>00</td>\n",
       "      <td>3</td>\n",
       "    </tr>\n",
       "    <tr>\n",
       "      <th>563680</th>\n",
       "      <td>EXT-16QQCTT7</td>\n",
       "      <td>0</td>\n",
       "      <td>25000.0</td>\n",
       "      <td>2</td>\n",
       "      <td>00</td>\n",
       "      <td>4</td>\n",
       "    </tr>\n",
       "    <tr>\n",
       "      <th>563681</th>\n",
       "      <td>EXT-175XZSM5</td>\n",
       "      <td>0</td>\n",
       "      <td>475000.0</td>\n",
       "      <td>2</td>\n",
       "      <td>00</td>\n",
       "      <td>34</td>\n",
       "    </tr>\n",
       "    <tr>\n",
       "      <th>563684</th>\n",
       "      <td>EXT-17LXYK7R</td>\n",
       "      <td>0</td>\n",
       "      <td>0.0</td>\n",
       "      <td>2</td>\n",
       "      <td>00</td>\n",
       "      <td>3</td>\n",
       "    </tr>\n",
       "    <tr>\n",
       "      <th>563690</th>\n",
       "      <td>EXT-18TYTJY5</td>\n",
       "      <td>0</td>\n",
       "      <td>0.0</td>\n",
       "      <td>2</td>\n",
       "      <td>00</td>\n",
       "      <td>3</td>\n",
       "    </tr>\n",
       "    <tr>\n",
       "      <th>563692</th>\n",
       "      <td>EXT-194R9V3H</td>\n",
       "      <td>0</td>\n",
       "      <td>475000.0</td>\n",
       "      <td>2</td>\n",
       "      <td>00</td>\n",
       "      <td>38</td>\n",
       "    </tr>\n",
       "    <tr>\n",
       "      <th>563693</th>\n",
       "      <td>EXT-19856K7J</td>\n",
       "      <td>0</td>\n",
       "      <td>311500.0</td>\n",
       "      <td>2</td>\n",
       "      <td>00</td>\n",
       "      <td>34</td>\n",
       "    </tr>\n",
       "    <tr>\n",
       "      <th>563696</th>\n",
       "      <td>EXT-19MNZ4KR</td>\n",
       "      <td>0</td>\n",
       "      <td>166000.0</td>\n",
       "      <td>2</td>\n",
       "      <td>00</td>\n",
       "      <td>20</td>\n",
       "    </tr>\n",
       "    <tr>\n",
       "      <th>563700</th>\n",
       "      <td>EXT-19YSYWYY</td>\n",
       "      <td>0</td>\n",
       "      <td>51500.0</td>\n",
       "      <td>2</td>\n",
       "      <td>00</td>\n",
       "      <td>34</td>\n",
       "    </tr>\n",
       "    <tr>\n",
       "      <th>...</th>\n",
       "      <td>...</td>\n",
       "      <td>...</td>\n",
       "      <td>...</td>\n",
       "      <td>...</td>\n",
       "      <td>...</td>\n",
       "      <td>...</td>\n",
       "    </tr>\n",
       "    <tr>\n",
       "      <th>572773</th>\n",
       "      <td>EXT-ZPJ4MHXV</td>\n",
       "      <td>0</td>\n",
       "      <td>35000.0</td>\n",
       "      <td>2</td>\n",
       "      <td>00</td>\n",
       "      <td>5</td>\n",
       "    </tr>\n",
       "    <tr>\n",
       "      <th>572782</th>\n",
       "      <td>EXT-ZQGY484A</td>\n",
       "      <td>0</td>\n",
       "      <td>255500.0</td>\n",
       "      <td>2</td>\n",
       "      <td>00</td>\n",
       "      <td>38</td>\n",
       "    </tr>\n",
       "    <tr>\n",
       "      <th>572783</th>\n",
       "      <td>EXT-ZQPAZ6VB</td>\n",
       "      <td>0</td>\n",
       "      <td>80000.0</td>\n",
       "      <td>2</td>\n",
       "      <td>00</td>\n",
       "      <td>19</td>\n",
       "    </tr>\n",
       "    <tr>\n",
       "      <th>572785</th>\n",
       "      <td>EXT-ZQZUUW8T</td>\n",
       "      <td>0</td>\n",
       "      <td>0.0</td>\n",
       "      <td>2</td>\n",
       "      <td>00</td>\n",
       "      <td>3</td>\n",
       "    </tr>\n",
       "    <tr>\n",
       "      <th>572791</th>\n",
       "      <td>EXT-ZRD2VTP6</td>\n",
       "      <td>0</td>\n",
       "      <td>195000.0</td>\n",
       "      <td>2</td>\n",
       "      <td>00</td>\n",
       "      <td>16</td>\n",
       "    </tr>\n",
       "    <tr>\n",
       "      <th>572792</th>\n",
       "      <td>EXT-ZRLE1UBX</td>\n",
       "      <td>0</td>\n",
       "      <td>475000.0</td>\n",
       "      <td>2</td>\n",
       "      <td>00</td>\n",
       "      <td>34</td>\n",
       "    </tr>\n",
       "    <tr>\n",
       "      <th>572793</th>\n",
       "      <td>EXT-ZRLXAP1Y</td>\n",
       "      <td>0</td>\n",
       "      <td>195000.0</td>\n",
       "      <td>2</td>\n",
       "      <td>00</td>\n",
       "      <td>16</td>\n",
       "    </tr>\n",
       "    <tr>\n",
       "      <th>572798</th>\n",
       "      <td>EXT-ZS9Q9BY5</td>\n",
       "      <td>0</td>\n",
       "      <td>475000.0</td>\n",
       "      <td>2</td>\n",
       "      <td>00</td>\n",
       "      <td>34</td>\n",
       "    </tr>\n",
       "    <tr>\n",
       "      <th>572800</th>\n",
       "      <td>EXT-ZSA71F4Z</td>\n",
       "      <td>0</td>\n",
       "      <td>233500.0</td>\n",
       "      <td>2</td>\n",
       "      <td>00</td>\n",
       "      <td>39</td>\n",
       "    </tr>\n",
       "    <tr>\n",
       "      <th>572813</th>\n",
       "      <td>EXT-ZU2M72TK</td>\n",
       "      <td>0</td>\n",
       "      <td>0.0</td>\n",
       "      <td>2</td>\n",
       "      <td>00</td>\n",
       "      <td>3</td>\n",
       "    </tr>\n",
       "    <tr>\n",
       "      <th>572814</th>\n",
       "      <td>EXT-ZU8TLZ9N</td>\n",
       "      <td>0</td>\n",
       "      <td>115000.0</td>\n",
       "      <td>2</td>\n",
       "      <td>00</td>\n",
       "      <td>11</td>\n",
       "    </tr>\n",
       "    <tr>\n",
       "      <th>572815</th>\n",
       "      <td>EXT-ZU91LE5B</td>\n",
       "      <td>0</td>\n",
       "      <td>475000.0</td>\n",
       "      <td>2</td>\n",
       "      <td>00</td>\n",
       "      <td>39</td>\n",
       "    </tr>\n",
       "    <tr>\n",
       "      <th>572820</th>\n",
       "      <td>EXT-ZUWVSN8V</td>\n",
       "      <td>0</td>\n",
       "      <td>0.0</td>\n",
       "      <td>2</td>\n",
       "      <td>00</td>\n",
       "      <td>3</td>\n",
       "    </tr>\n",
       "    <tr>\n",
       "      <th>572822</th>\n",
       "      <td>EXT-ZVCBJUUZ</td>\n",
       "      <td>0</td>\n",
       "      <td>475000.0</td>\n",
       "      <td>2</td>\n",
       "      <td>00</td>\n",
       "      <td>64</td>\n",
       "    </tr>\n",
       "    <tr>\n",
       "      <th>572823</th>\n",
       "      <td>EXT-ZVCP5NYK</td>\n",
       "      <td>0</td>\n",
       "      <td>413000.0</td>\n",
       "      <td>2</td>\n",
       "      <td>00</td>\n",
       "      <td>27</td>\n",
       "    </tr>\n",
       "    <tr>\n",
       "      <th>572826</th>\n",
       "      <td>EXT-ZVQFZJM2</td>\n",
       "      <td>0</td>\n",
       "      <td>415000.0</td>\n",
       "      <td>2</td>\n",
       "      <td>00</td>\n",
       "      <td>27</td>\n",
       "    </tr>\n",
       "    <tr>\n",
       "      <th>572827</th>\n",
       "      <td>EXT-ZVRTZFQE</td>\n",
       "      <td>0</td>\n",
       "      <td>145000.0</td>\n",
       "      <td>2</td>\n",
       "      <td>00</td>\n",
       "      <td>13</td>\n",
       "    </tr>\n",
       "    <tr>\n",
       "      <th>572834</th>\n",
       "      <td>EXT-ZWGTJWMH</td>\n",
       "      <td>0</td>\n",
       "      <td>475000.0</td>\n",
       "      <td>2</td>\n",
       "      <td>00</td>\n",
       "      <td>35</td>\n",
       "    </tr>\n",
       "    <tr>\n",
       "      <th>572839</th>\n",
       "      <td>EXT-ZX5CVENG</td>\n",
       "      <td>0</td>\n",
       "      <td>215000.0</td>\n",
       "      <td>2</td>\n",
       "      <td>00</td>\n",
       "      <td>17</td>\n",
       "    </tr>\n",
       "    <tr>\n",
       "      <th>572841</th>\n",
       "      <td>EXT-ZX8DWRA1</td>\n",
       "      <td>0</td>\n",
       "      <td>35000.0</td>\n",
       "      <td>2</td>\n",
       "      <td>00</td>\n",
       "      <td>5</td>\n",
       "    </tr>\n",
       "    <tr>\n",
       "      <th>572842</th>\n",
       "      <td>EXT-ZXGENWXF</td>\n",
       "      <td>0</td>\n",
       "      <td>215000.0</td>\n",
       "      <td>2</td>\n",
       "      <td>00</td>\n",
       "      <td>17</td>\n",
       "    </tr>\n",
       "    <tr>\n",
       "      <th>572845</th>\n",
       "      <td>EXT-ZXRN4WQ7</td>\n",
       "      <td>0</td>\n",
       "      <td>221500.0</td>\n",
       "      <td>2</td>\n",
       "      <td>00</td>\n",
       "      <td>34</td>\n",
       "    </tr>\n",
       "    <tr>\n",
       "      <th>572852</th>\n",
       "      <td>EXT-ZYDWP23C</td>\n",
       "      <td>0</td>\n",
       "      <td>235000.0</td>\n",
       "      <td>2</td>\n",
       "      <td>00</td>\n",
       "      <td>18</td>\n",
       "    </tr>\n",
       "    <tr>\n",
       "      <th>572853</th>\n",
       "      <td>EXT-ZYEJURVM</td>\n",
       "      <td>0</td>\n",
       "      <td>0.0</td>\n",
       "      <td>2</td>\n",
       "      <td>00</td>\n",
       "      <td>3</td>\n",
       "    </tr>\n",
       "    <tr>\n",
       "      <th>572855</th>\n",
       "      <td>EXT-ZYJA4E74</td>\n",
       "      <td>0</td>\n",
       "      <td>950000.0</td>\n",
       "      <td>2</td>\n",
       "      <td>00</td>\n",
       "      <td>59</td>\n",
       "    </tr>\n",
       "    <tr>\n",
       "      <th>572857</th>\n",
       "      <td>EXT-ZYK5RCHB</td>\n",
       "      <td>0</td>\n",
       "      <td>186000.0</td>\n",
       "      <td>2</td>\n",
       "      <td>00</td>\n",
       "      <td>27</td>\n",
       "    </tr>\n",
       "    <tr>\n",
       "      <th>572858</th>\n",
       "      <td>EXT-ZYKUTW1B</td>\n",
       "      <td>0</td>\n",
       "      <td>0.0</td>\n",
       "      <td>2</td>\n",
       "      <td>00</td>\n",
       "      <td>3</td>\n",
       "    </tr>\n",
       "    <tr>\n",
       "      <th>572860</th>\n",
       "      <td>EXT-ZYPZNYTJ</td>\n",
       "      <td>0</td>\n",
       "      <td>260000.0</td>\n",
       "      <td>2</td>\n",
       "      <td>00</td>\n",
       "      <td>12</td>\n",
       "    </tr>\n",
       "    <tr>\n",
       "      <th>572866</th>\n",
       "      <td>EXT-ZZAMVDCX</td>\n",
       "      <td>0</td>\n",
       "      <td>400000.0</td>\n",
       "      <td>2</td>\n",
       "      <td>00</td>\n",
       "      <td>38</td>\n",
       "    </tr>\n",
       "    <tr>\n",
       "      <th>572874</th>\n",
       "      <td>EXT-ZZYBKT3R</td>\n",
       "      <td>0</td>\n",
       "      <td>255000.0</td>\n",
       "      <td>2</td>\n",
       "      <td>00</td>\n",
       "      <td>19</td>\n",
       "    </tr>\n",
       "  </tbody>\n",
       "</table>\n",
       "<p>3474 rows × 6 columns</p>\n",
       "</div>"
      ],
      "text/plain": [
       "             orderId  Tunggakan Bunga atau Imbalan     Denda  \\\n",
       "78198   ATH-5LEAQ3CS                             0  661000.0   \n",
       "100783  ATH-6XQVT373                             0  950000.0   \n",
       "103638  ATH-74BYYA6K                             0  950000.0   \n",
       "112585  ATH-7MWFASZQ                             0  420000.0   \n",
       "268865  ATH-GTBSMBMB                             0  458000.0   \n",
       "291598  ATH-J56C6R33                             0  123000.0   \n",
       "355903  ATH-MW7D4MYP                             0  950000.0   \n",
       "467009  ATH-UCQBBQMV                             0  661000.0   \n",
       "505945  ATH-WMZPNWPX                             0  661000.0   \n",
       "563647  EXT-11D5L6KH                             0  950000.0   \n",
       "563649  EXT-11HVBH41                             0  457000.0   \n",
       "563652  EXT-11TSBKFL                             0   35000.0   \n",
       "563656  EXT-125UP4LR                             0  323000.0   \n",
       "563658  EXT-12EN2MA4                             0       0.0   \n",
       "563660  EXT-12NG5A8Q                             0  275000.0   \n",
       "563662  EXT-12ZBCRNX                             0  375000.0   \n",
       "563663  EXT-12ZKPC88                             0  344500.0   \n",
       "563664  EXT-131R1E9U                             0  350000.0   \n",
       "563665  EXT-133X3MPK                             0   25000.0   \n",
       "563667  EXT-13JVUUEF                             0  950000.0   \n",
       "563669  EXT-141BE7QH                             0  475000.0   \n",
       "563675  EXT-163GC6C5                             0       0.0   \n",
       "563680  EXT-16QQCTT7                             0   25000.0   \n",
       "563681  EXT-175XZSM5                             0  475000.0   \n",
       "563684  EXT-17LXYK7R                             0       0.0   \n",
       "563690  EXT-18TYTJY5                             0       0.0   \n",
       "563692  EXT-194R9V3H                             0  475000.0   \n",
       "563693  EXT-19856K7J                             0  311500.0   \n",
       "563696  EXT-19MNZ4KR                             0  166000.0   \n",
       "563700  EXT-19YSYWYY                             0   51500.0   \n",
       "...              ...                           ...       ...   \n",
       "572773  EXT-ZPJ4MHXV                             0   35000.0   \n",
       "572782  EXT-ZQGY484A                             0  255500.0   \n",
       "572783  EXT-ZQPAZ6VB                             0   80000.0   \n",
       "572785  EXT-ZQZUUW8T                             0       0.0   \n",
       "572791  EXT-ZRD2VTP6                             0  195000.0   \n",
       "572792  EXT-ZRLE1UBX                             0  475000.0   \n",
       "572793  EXT-ZRLXAP1Y                             0  195000.0   \n",
       "572798  EXT-ZS9Q9BY5                             0  475000.0   \n",
       "572800  EXT-ZSA71F4Z                             0  233500.0   \n",
       "572813  EXT-ZU2M72TK                             0       0.0   \n",
       "572814  EXT-ZU8TLZ9N                             0  115000.0   \n",
       "572815  EXT-ZU91LE5B                             0  475000.0   \n",
       "572820  EXT-ZUWVSN8V                             0       0.0   \n",
       "572822  EXT-ZVCBJUUZ                             0  475000.0   \n",
       "572823  EXT-ZVCP5NYK                             0  413000.0   \n",
       "572826  EXT-ZVQFZJM2                             0  415000.0   \n",
       "572827  EXT-ZVRTZFQE                             0  145000.0   \n",
       "572834  EXT-ZWGTJWMH                             0  475000.0   \n",
       "572839  EXT-ZX5CVENG                             0  215000.0   \n",
       "572841  EXT-ZX8DWRA1                             0   35000.0   \n",
       "572842  EXT-ZXGENWXF                             0  215000.0   \n",
       "572845  EXT-ZXRN4WQ7                             0  221500.0   \n",
       "572852  EXT-ZYDWP23C                             0  235000.0   \n",
       "572853  EXT-ZYEJURVM                             0       0.0   \n",
       "572855  EXT-ZYJA4E74                             0  950000.0   \n",
       "572857  EXT-ZYK5RCHB                             0  186000.0   \n",
       "572858  EXT-ZYKUTW1B                             0       0.0   \n",
       "572860  EXT-ZYPZNYTJ                             0  260000.0   \n",
       "572866  EXT-ZZAMVDCX                             0  400000.0   \n",
       "572874  EXT-ZZYBKT3R                             0  255000.0   \n",
       "\n",
       "       Kode Kualitas Kredit atau Pembiayaan Kode Kondisi  dayPastDue  \n",
       "78198                                     5           00         593  \n",
       "100783                                    5           00         270  \n",
       "103638                                    5           00         216  \n",
       "112585                                    2           00          64  \n",
       "268865                                    5           00         403  \n",
       "291598                                    3           00         112  \n",
       "355903                                    5           00         771  \n",
       "467009                                    5           00         501  \n",
       "505945                                    5           00         505  \n",
       "563647                                    2           00          34  \n",
       "563649                                    2           00          64  \n",
       "563652                                    2           00           5  \n",
       "563656                                    2           00          51  \n",
       "563658                                    2           00           3  \n",
       "563660                                    2           00          20  \n",
       "563662                                    2           00          25  \n",
       "563663                                    2           00          34  \n",
       "563664                                    2           00          39  \n",
       "563665                                    2           00           4  \n",
       "563667                                    2           00          34  \n",
       "563669                                    2           00          40  \n",
       "563675                                    2           00           3  \n",
       "563680                                    2           00           4  \n",
       "563681                                    2           00          34  \n",
       "563684                                    2           00           3  \n",
       "563690                                    2           00           3  \n",
       "563692                                    2           00          38  \n",
       "563693                                    2           00          34  \n",
       "563696                                    2           00          20  \n",
       "563700                                    2           00          34  \n",
       "...                                     ...          ...         ...  \n",
       "572773                                    2           00           5  \n",
       "572782                                    2           00          38  \n",
       "572783                                    2           00          19  \n",
       "572785                                    2           00           3  \n",
       "572791                                    2           00          16  \n",
       "572792                                    2           00          34  \n",
       "572793                                    2           00          16  \n",
       "572798                                    2           00          34  \n",
       "572800                                    2           00          39  \n",
       "572813                                    2           00           3  \n",
       "572814                                    2           00          11  \n",
       "572815                                    2           00          39  \n",
       "572820                                    2           00           3  \n",
       "572822                                    2           00          64  \n",
       "572823                                    2           00          27  \n",
       "572826                                    2           00          27  \n",
       "572827                                    2           00          13  \n",
       "572834                                    2           00          35  \n",
       "572839                                    2           00          17  \n",
       "572841                                    2           00           5  \n",
       "572842                                    2           00          17  \n",
       "572845                                    2           00          34  \n",
       "572852                                    2           00          18  \n",
       "572853                                    2           00           3  \n",
       "572855                                    2           00          59  \n",
       "572857                                    2           00          27  \n",
       "572858                                    2           00           3  \n",
       "572860                                    2           00          12  \n",
       "572866                                    2           00          38  \n",
       "572874                                    2           00          19  \n",
       "\n",
       "[3474 rows x 6 columns]"
      ]
     },
     "execution_count": 45,
     "metadata": {},
     "output_type": "execute_result"
    }
   ],
   "source": [
    "F01new[(F01new['Tunggakan Bunga atau Imbalan']==0) & (F01new['Kode Kualitas Kredit atau Pembiayaan']!='1') & (F01new['Kode Kondisi']=='00')][['orderId','Tunggakan Bunga atau Imbalan','Denda','Kode Kualitas Kredit atau Pembiayaan','Kode Kondisi','dayPastDue']]"
   ]
  },
  {
   "cell_type": "code",
   "execution_count": 46,
   "metadata": {},
   "outputs": [
    {
     "data": {
      "text/html": [
       "<div>\n",
       "<style scoped>\n",
       "    .dataframe tbody tr th:only-of-type {\n",
       "        vertical-align: middle;\n",
       "    }\n",
       "\n",
       "    .dataframe tbody tr th {\n",
       "        vertical-align: top;\n",
       "    }\n",
       "\n",
       "    .dataframe thead th {\n",
       "        text-align: right;\n",
       "    }\n",
       "</style>\n",
       "<table border=\"1\" class=\"dataframe\">\n",
       "  <thead>\n",
       "    <tr style=\"text-align: right;\">\n",
       "      <th></th>\n",
       "      <th>orderId</th>\n",
       "      <th>Denda</th>\n",
       "      <th>Kode Kualitas Kredit atau Pembiayaan</th>\n",
       "      <th>Kode Kondisi</th>\n",
       "    </tr>\n",
       "  </thead>\n",
       "  <tbody>\n",
       "  </tbody>\n",
       "</table>\n",
       "</div>"
      ],
      "text/plain": [
       "Empty DataFrame\n",
       "Columns: [orderId, Denda, Kode Kualitas Kredit atau Pembiayaan, Kode Kondisi]\n",
       "Index: []"
      ]
     },
     "execution_count": 46,
     "metadata": {},
     "output_type": "execute_result"
    }
   ],
   "source": [
    "F01new[(F01new['Jumlah Hari Tunggakan']==0) & (F01new['Kode Kualitas Kredit atau Pembiayaan']=='2') & (F01new['Kode Kondisi']=='00')][['orderId','Denda','Kode Kualitas Kredit atau Pembiayaan','Kode Kondisi']]"
   ]
  },
  {
   "cell_type": "code",
   "execution_count": 47,
   "metadata": {},
   "outputs": [
    {
     "data": {
      "text/html": [
       "<div>\n",
       "<style scoped>\n",
       "    .dataframe tbody tr th:only-of-type {\n",
       "        vertical-align: middle;\n",
       "    }\n",
       "\n",
       "    .dataframe tbody tr th {\n",
       "        vertical-align: top;\n",
       "    }\n",
       "\n",
       "    .dataframe thead th {\n",
       "        text-align: right;\n",
       "    }\n",
       "</style>\n",
       "<table border=\"1\" class=\"dataframe\">\n",
       "  <thead>\n",
       "    <tr style=\"text-align: right;\">\n",
       "      <th></th>\n",
       "      <th>orderId</th>\n",
       "      <th>Denda</th>\n",
       "      <th>Kode Kualitas Kredit atau Pembiayaan</th>\n",
       "      <th>Kode Kondisi</th>\n",
       "    </tr>\n",
       "  </thead>\n",
       "  <tbody>\n",
       "  </tbody>\n",
       "</table>\n",
       "</div>"
      ],
      "text/plain": [
       "Empty DataFrame\n",
       "Columns: [orderId, Denda, Kode Kualitas Kredit atau Pembiayaan, Kode Kondisi]\n",
       "Index: []"
      ]
     },
     "execution_count": 47,
     "metadata": {},
     "output_type": "execute_result"
    }
   ],
   "source": [
    "F01new[(F01new['Frekuensi Tunggakan']==0) & (F01new['Kode Kualitas Kredit atau Pembiayaan']=='2') & (F01new['Kode Kondisi']=='00')][['orderId','Denda','Kode Kualitas Kredit atau Pembiayaan','Kode Kondisi']]"
   ]
  },
  {
   "cell_type": "code",
   "execution_count": null,
   "metadata": {},
   "outputs": [],
   "source": []
  },
  {
   "cell_type": "code",
   "execution_count": 48,
   "metadata": {},
   "outputs": [
    {
     "data": {
      "text/html": [
       "<div>\n",
       "<style scoped>\n",
       "    .dataframe tbody tr th:only-of-type {\n",
       "        vertical-align: middle;\n",
       "    }\n",
       "\n",
       "    .dataframe tbody tr th {\n",
       "        vertical-align: top;\n",
       "    }\n",
       "\n",
       "    .dataframe thead th {\n",
       "        text-align: right;\n",
       "    }\n",
       "</style>\n",
       "<table border=\"1\" class=\"dataframe\">\n",
       "  <thead>\n",
       "    <tr style=\"text-align: right;\">\n",
       "      <th></th>\n",
       "      <th>orderId</th>\n",
       "      <th>Denda</th>\n",
       "      <th>Kode Kualitas Kredit atau Pembiayaan</th>\n",
       "      <th>Kode Kondisi</th>\n",
       "    </tr>\n",
       "  </thead>\n",
       "  <tbody>\n",
       "  </tbody>\n",
       "</table>\n",
       "</div>"
      ],
      "text/plain": [
       "Empty DataFrame\n",
       "Columns: [orderId, Denda, Kode Kualitas Kredit atau Pembiayaan, Kode Kondisi]\n",
       "Index: []"
      ]
     },
     "execution_count": 48,
     "metadata": {},
     "output_type": "execute_result"
    }
   ],
   "source": [
    "F01new[(F01new['Denda']>0) & (F01new['Kode Kualitas Kredit atau Pembiayaan']!='1') & (F01new['Kode Kondisi']=='02')][['orderId','Denda','Kode Kualitas Kredit atau Pembiayaan','Kode Kondisi']]"
   ]
  },
  {
   "cell_type": "code",
   "execution_count": 49,
   "metadata": {},
   "outputs": [
    {
     "data": {
      "text/html": [
       "<div>\n",
       "<style scoped>\n",
       "    .dataframe tbody tr th:only-of-type {\n",
       "        vertical-align: middle;\n",
       "    }\n",
       "\n",
       "    .dataframe tbody tr th {\n",
       "        vertical-align: top;\n",
       "    }\n",
       "\n",
       "    .dataframe thead th {\n",
       "        text-align: right;\n",
       "    }\n",
       "</style>\n",
       "<table border=\"1\" class=\"dataframe\">\n",
       "  <thead>\n",
       "    <tr style=\"text-align: right;\">\n",
       "      <th></th>\n",
       "      <th>orderId</th>\n",
       "      <th>Denda</th>\n",
       "      <th>Kode Kualitas Kredit atau Pembiayaan</th>\n",
       "      <th>Kode Kondisi</th>\n",
       "    </tr>\n",
       "  </thead>\n",
       "  <tbody>\n",
       "  </tbody>\n",
       "</table>\n",
       "</div>"
      ],
      "text/plain": [
       "Empty DataFrame\n",
       "Columns: [orderId, Denda, Kode Kualitas Kredit atau Pembiayaan, Kode Kondisi]\n",
       "Index: []"
      ]
     },
     "execution_count": 49,
     "metadata": {},
     "output_type": "execute_result"
    }
   ],
   "source": [
    "F01new[(F01new['Tunggakan Bunga atau Imbalan']>0) & (F01new['Kode Kualitas Kredit atau Pembiayaan']!='1') & (F01new['Kode Kondisi']=='02')][['orderId','Denda','Kode Kualitas Kredit atau Pembiayaan','Kode Kondisi']]"
   ]
  },
  {
   "cell_type": "code",
   "execution_count": 50,
   "metadata": {},
   "outputs": [
    {
     "data": {
      "text/html": [
       "<div>\n",
       "<style scoped>\n",
       "    .dataframe tbody tr th:only-of-type {\n",
       "        vertical-align: middle;\n",
       "    }\n",
       "\n",
       "    .dataframe tbody tr th {\n",
       "        vertical-align: top;\n",
       "    }\n",
       "\n",
       "    .dataframe thead th {\n",
       "        text-align: right;\n",
       "    }\n",
       "</style>\n",
       "<table border=\"1\" class=\"dataframe\">\n",
       "  <thead>\n",
       "    <tr style=\"text-align: right;\">\n",
       "      <th></th>\n",
       "      <th>orderId</th>\n",
       "      <th>Kode Sebab Macet</th>\n",
       "      <th>Kode Kualitas Kredit atau Pembiayaan</th>\n",
       "    </tr>\n",
       "  </thead>\n",
       "  <tbody>\n",
       "  </tbody>\n",
       "</table>\n",
       "</div>"
      ],
      "text/plain": [
       "Empty DataFrame\n",
       "Columns: [orderId, Kode Sebab Macet, Kode Kualitas Kredit atau Pembiayaan]\n",
       "Index: []"
      ]
     },
     "execution_count": 50,
     "metadata": {},
     "output_type": "execute_result"
    }
   ],
   "source": [
    "F01new[(F01new['Kode Sebab Macet']=='99') & (F01new['Kode Kualitas Kredit atau Pembiayaan']=='1')][['orderId','Kode Sebab Macet','Kode Kualitas Kredit atau Pembiayaan']]"
   ]
  },
  {
   "cell_type": "code",
   "execution_count": 51,
   "metadata": {},
   "outputs": [
    {
     "data": {
      "text/html": [
       "<div>\n",
       "<style scoped>\n",
       "    .dataframe tbody tr th:only-of-type {\n",
       "        vertical-align: middle;\n",
       "    }\n",
       "\n",
       "    .dataframe tbody tr th {\n",
       "        vertical-align: top;\n",
       "    }\n",
       "\n",
       "    .dataframe thead th {\n",
       "        text-align: right;\n",
       "    }\n",
       "</style>\n",
       "<table border=\"1\" class=\"dataframe\">\n",
       "  <thead>\n",
       "    <tr style=\"text-align: right;\">\n",
       "      <th></th>\n",
       "      <th>orderId</th>\n",
       "      <th>Tanggal Macet</th>\n",
       "      <th>Kode Kualitas Kredit atau Pembiayaan</th>\n",
       "    </tr>\n",
       "  </thead>\n",
       "  <tbody>\n",
       "  </tbody>\n",
       "</table>\n",
       "</div>"
      ],
      "text/plain": [
       "Empty DataFrame\n",
       "Columns: [orderId, Tanggal Macet, Kode Kualitas Kredit atau Pembiayaan]\n",
       "Index: []"
      ]
     },
     "execution_count": 51,
     "metadata": {},
     "output_type": "execute_result"
    }
   ],
   "source": [
    "F01new[(~F01new['Tanggal Macet'].isnull()) & (F01new['Kode Kualitas Kredit atau Pembiayaan']=='1')][['orderId','Tanggal Macet','Kode Kualitas Kredit atau Pembiayaan']]"
   ]
  },
  {
   "cell_type": "markdown",
   "metadata": {},
   "source": [
    "# Final File to Send to KBIJ D01 and F01"
   ]
  },
  {
   "cell_type": "markdown",
   "metadata": {},
   "source": [
    "Null check for CIF and NIK"
   ]
  },
  {
   "cell_type": "code",
   "execution_count": 52,
   "metadata": {},
   "outputs": [
    {
     "data": {
      "text/html": [
       "<div>\n",
       "<style scoped>\n",
       "    .dataframe tbody tr th:only-of-type {\n",
       "        vertical-align: middle;\n",
       "    }\n",
       "\n",
       "    .dataframe tbody tr th {\n",
       "        vertical-align: top;\n",
       "    }\n",
       "\n",
       "    .dataframe thead th {\n",
       "        text-align: right;\n",
       "    }\n",
       "</style>\n",
       "<table border=\"1\" class=\"dataframe\">\n",
       "  <thead>\n",
       "    <tr style=\"text-align: right;\">\n",
       "      <th></th>\n",
       "      <th>Kode Jenis Pelapor</th>\n",
       "      <th>Kode Pelapor</th>\n",
       "      <th>Tahun Bulan Data</th>\n",
       "      <th>Nomor CIF Lama Debitur</th>\n",
       "      <th>Nomor CIF Debitur</th>\n",
       "      <th>Jenis Identitas</th>\n",
       "      <th>Nomor Identitas</th>\n",
       "      <th>Nama Sesuai Identitas</th>\n",
       "      <th>Nama Lengkap</th>\n",
       "      <th>Kode Status Pendidikan atau Gelar Debitur</th>\n",
       "      <th>...</th>\n",
       "      <th>Kode Kantor Cabang</th>\n",
       "      <th>Operasi Data</th>\n",
       "      <th>Status delete</th>\n",
       "      <th>Create Date</th>\n",
       "      <th>Update Date</th>\n",
       "      <th>Approved Date</th>\n",
       "      <th>userId</th>\n",
       "      <th>orderId</th>\n",
       "      <th>paidoffDate</th>\n",
       "      <th>status</th>\n",
       "    </tr>\n",
       "  </thead>\n",
       "  <tbody>\n",
       "  </tbody>\n",
       "</table>\n",
       "<p>0 rows × 40 columns</p>\n",
       "</div>"
      ],
      "text/plain": [
       "Empty DataFrame\n",
       "Columns: [Kode Jenis Pelapor, Kode Pelapor, Tahun Bulan Data, Nomor CIF Lama Debitur, Nomor CIF Debitur, Jenis Identitas, Nomor Identitas, Nama Sesuai Identitas, Nama Lengkap, Kode Status Pendidikan atau Gelar Debitur, Jenis Kelamin, Tempat Lahir, Tanggal Lahir, Nama Gadis Ibu Kandung, NPWP, Alamat, Kelurahan, Kecamatan, Kode Kabupaten atau Kota, Kode Pos, Nomor Telepon, Nomor Telepon Seluler, Alamat e-mail, Kode Negara Domisili, Kode Pekerjaan, Tempat Bekerja, Kode Bidang Usaha Tempat Bekerja, Alamat Tempat Bekerja, Kode Golongan Debitur, Status Perkawinan Debitur, Kode Kantor Cabang, Operasi Data, Status delete, Create Date, Update Date, Approved Date, userId, orderId, paidoffDate, status]\n",
       "Index: []\n",
       "\n",
       "[0 rows x 40 columns]"
      ]
     },
     "execution_count": 52,
     "metadata": {},
     "output_type": "execute_result"
    }
   ],
   "source": [
    "D01new.loc[(D01new['Nomor CIF Debitur'].isna())|(D01new['Nama Lengkap'].isna())|(D01new['Tanggal Lahir'].isna())|(D01new['Nomor Identitas'].isna())]"
   ]
  },
  {
   "cell_type": "code",
   "execution_count": 53,
   "metadata": {},
   "outputs": [],
   "source": [
    "D01new.drop(D01new.loc[(D01new['Nomor CIF Debitur'].isna())|(D01new['Nama Lengkap'].isna())|(D01new['Tanggal Lahir'].isna())|(D01new['Nomor Identitas'].isna())].index, inplace=True)"
   ]
  },
  {
   "cell_type": "code",
   "execution_count": 54,
   "metadata": {},
   "outputs": [
    {
     "data": {
      "text/html": [
       "<div>\n",
       "<style scoped>\n",
       "    .dataframe tbody tr th:only-of-type {\n",
       "        vertical-align: middle;\n",
       "    }\n",
       "\n",
       "    .dataframe tbody tr th {\n",
       "        vertical-align: top;\n",
       "    }\n",
       "\n",
       "    .dataframe thead th {\n",
       "        text-align: right;\n",
       "    }\n",
       "</style>\n",
       "<table border=\"1\" class=\"dataframe\">\n",
       "  <thead>\n",
       "    <tr style=\"text-align: right;\">\n",
       "      <th></th>\n",
       "      <th>Kode Jenis Pelapor</th>\n",
       "      <th>Kode Pelapor</th>\n",
       "      <th>Tahun Bulan Data</th>\n",
       "      <th>Kode Jenis Fasilitas</th>\n",
       "      <th>Nomor Rekening Fasilitas</th>\n",
       "      <th>Nomor Rekening Lama Fasilitas</th>\n",
       "      <th>Nomor CIF Debitur</th>\n",
       "      <th>Kode Sifat Kredit atau Pembiayaan</th>\n",
       "      <th>Kode Jenis Kredit atau Pembiayaan</th>\n",
       "      <th>Kode Akad Kredit atau Akad Pembiayaan</th>\n",
       "      <th>...</th>\n",
       "      <th>lateFee</th>\n",
       "      <th>balanceWithInterest</th>\n",
       "      <th>balance</th>\n",
       "      <th>dataDate</th>\n",
       "      <th>jumlah cicilan</th>\n",
       "      <th>current payment periode month</th>\n",
       "      <th>count payment</th>\n",
       "      <th>paidoffDate</th>\n",
       "      <th>status</th>\n",
       "      <th>Tunggakan Pokok</th>\n",
       "    </tr>\n",
       "  </thead>\n",
       "  <tbody>\n",
       "  </tbody>\n",
       "</table>\n",
       "<p>0 rows × 69 columns</p>\n",
       "</div>"
      ],
      "text/plain": [
       "Empty DataFrame\n",
       "Columns: [Kode Jenis Pelapor, Kode Pelapor, Tahun Bulan Data, Kode Jenis Fasilitas, Nomor Rekening Fasilitas, Nomor Rekening Lama Fasilitas, Nomor CIF Debitur, Kode Sifat Kredit atau Pembiayaan, Kode Jenis Kredit atau Pembiayaan, Kode Akad Kredit atau Akad Pembiayaan, Nomor Akad Awal, Tanggal Akad Awal, Nomor Akad Akhir, Tanggal Akad Akhir, Frekuensi Perpanjangan Fasilitas Kredit atau Pembiayaan, Tanggal Awal Kredit atau Pembiayaan, Tanggal Mulai, Tanggal Jatuh Tempo, Kode Kategori Debitur, Kode Jenis Penggunaan, Kode Orientasi Penggunaan, Kode Sektor Ekonomi, Kode Kabupaten atau Kota Lokasi Proyek atau Penggunaan Kredit atau Pembiayaan, Nilai Proyek, Kode Valuta, Suku Bunga atau Imbalan, Jenis Suku Bunga atau Imbalan, Kredit atau Pembiayaan Program Pemerintah, Plafon Awal, Plafon, Realisasi atau Pencairan Bulan Berjalan, Denda, Baki Debet, Nilai dalam Mata Uang Asal, Kode Kualitas Kredit atau Pembiayaan, Tanggal Macet, Kode Sebab Macet, Tunggakan Bunga atau Imbalan, Jumlah Hari Tunggakan, Frekuensi Tunggakan, Frekuensi Restrukturisasi, Tanggal Restrukturisasi Awal, Tanggal Restrukturisasi Akhir, Kode Cara Restrukturisasi, Kode Kondisi, Tanggal Kondisi, Keterangan, Kode Kantor Cabang, Operasi Data, Status delete, Create Date, Update Date, Approved Date, userId, orderId, dayPastDue, approvedLoanAmount, approvedLoanTenureInMonth, maxdayPastDue, lateFee, balanceWithInterest, balance, dataDate, jumlah cicilan, current payment periode month, count payment, paidoffDate, status, Tunggakan Pokok]\n",
       "Index: []\n",
       "\n",
       "[0 rows x 69 columns]"
      ]
     },
     "execution_count": 54,
     "metadata": {},
     "output_type": "execute_result"
    }
   ],
   "source": [
    "F01new.loc[F01new['Nomor CIF Debitur'].isna()]"
   ]
  },
  {
   "cell_type": "code",
   "execution_count": 55,
   "metadata": {},
   "outputs": [],
   "source": [
    "F01new.drop(F01new.loc[F01new['Nomor CIF Debitur'].isna()].index, inplace=True)"
   ]
  },
  {
   "cell_type": "markdown",
   "metadata": {},
   "source": [
    "## Export full data dump to csv to be used in the next iteration"
   ]
  },
  {
   "cell_type": "code",
   "execution_count": 56,
   "metadata": {},
   "outputs": [],
   "source": [
    "F01new.to_csv(path_or_buf=filtered_filename_F01, index=0)\n",
    "D01new.to_csv(path_or_buf=filtered_filename_D01, index=0)"
   ]
  },
  {
   "cell_type": "code",
   "execution_count": 57,
   "metadata": {},
   "outputs": [
    {
     "name": "stdout",
     "output_type": "stream",
     "text": [
      "File ./data202007/F01202007_new_filtered.csv version 4 uploaded to notebooks/kbij/data202007/f01202007_new_filtered.csv.\n"
     ]
    }
   ],
   "source": [
    "DataStorage.upload_notebooks_data(filtered_filename_F01, 'kbij/'+pathname, 'f01'+datem+'_new_filtered.csv')"
   ]
  },
  {
   "cell_type": "code",
   "execution_count": 58,
   "metadata": {},
   "outputs": [
    {
     "name": "stdout",
     "output_type": "stream",
     "text": [
      "File ./data202007/D01202007_new_filtered.csv version 4 uploaded to notebooks/kbij/data202007/d01202007_new_filtered.csv.\n"
     ]
    }
   ],
   "source": [
    "DataStorage.upload_notebooks_data(filtered_filename_D01, 'kbij/'+pathname, 'd01'+datem+'_new_filtered.csv')"
   ]
  },
  {
   "cell_type": "markdown",
   "metadata": {},
   "source": [
    "Export Latest Data"
   ]
  },
  {
   "cell_type": "code",
   "execution_count": 59,
   "metadata": {},
   "outputs": [
    {
     "name": "stdout",
     "output_type": "stream",
     "text": [
      "./data202007/F01-202007[20200921-133034].txt ./data202007/D01-202007[20200921-133034].txt\n"
     ]
    }
   ],
   "source": [
    "timestr = time.strftime(\"%Y%m%d-%H%M%S\")\n",
    "F01name = dirname+'/F01'+'-'+datem+'['+timestr+']'+'.txt'\n",
    "D01name = dirname+'/D01'+'-'+datem+'['+timestr+']'+'.txt'\n",
    "print(F01name,D01name)"
   ]
  },
  {
   "cell_type": "code",
   "execution_count": 60,
   "metadata": {},
   "outputs": [],
   "source": [
    "F01new_sent=F01new[['Kode Jenis Pelapor', 'Kode Pelapor', 'Tahun Bulan Data',\n",
    "       'Kode Jenis Fasilitas', 'Nomor Rekening Fasilitas',\n",
    "       'Nomor Rekening Lama Fasilitas', 'Nomor CIF Debitur',\n",
    "       'Kode Sifat Kredit atau Pembiayaan',\n",
    "       'Kode Jenis Kredit atau Pembiayaan',\n",
    "       'Kode Akad Kredit atau Akad Pembiayaan', 'Nomor Akad Awal',\n",
    "       'Tanggal Akad Awal', 'Nomor Akad Akhir', 'Tanggal Akad Akhir',\n",
    "       'Frekuensi Perpanjangan Fasilitas Kredit atau Pembiayaan',\n",
    "       'Tanggal Awal Kredit atau Pembiayaan', 'Tanggal Mulai',\n",
    "       'Tanggal Jatuh Tempo', 'Kode Kategori Debitur', 'Kode Jenis Penggunaan',\n",
    "       'Kode Orientasi Penggunaan', 'Kode Sektor Ekonomi',\n",
    "       'Kode Kabupaten atau Kota Lokasi Proyek atau Penggunaan Kredit atau Pembiayaan',\n",
    "       'Nilai Proyek', 'Kode Valuta', 'Suku Bunga atau Imbalan',\n",
    "       'Jenis Suku Bunga atau Imbalan',\n",
    "       'Kredit atau Pembiayaan Program Pemerintah', 'Plafon Awal', 'Plafon',\n",
    "       'Realisasi atau Pencairan Bulan Berjalan', 'Denda', 'Baki Debet',\n",
    "       'Nilai dalam Mata Uang Asal', 'Kode Kualitas Kredit atau Pembiayaan',\n",
    "       'Tanggal Macet', 'Kode Sebab Macet', 'Tunggakan Pokok',\n",
    "       'Tunggakan Bunga atau Imbalan', 'Jumlah Hari Tunggakan',\n",
    "       'Frekuensi Tunggakan', 'Frekuensi Restrukturisasi',\n",
    "       'Tanggal Restrukturisasi Awal', 'Tanggal Restrukturisasi Akhir',\n",
    "       'Kode Cara Restrukturisasi', 'Kode Kondisi', 'Tanggal Kondisi',\n",
    "       'Keterangan', 'Kode Kantor Cabang', 'Operasi Data', 'Status delete',\n",
    "       'Create Date', 'Update Date']]\n",
    "D01new_sent=D01new[['Kode Jenis Pelapor', 'Kode Pelapor', 'Tahun Bulan Data',\n",
    "       'Nomor CIF Lama Debitur', 'Nomor CIF Debitur', 'Jenis Identitas',\n",
    "       'Nomor Identitas', 'Nama Sesuai Identitas', 'Nama Lengkap',\n",
    "       'Kode Status Pendidikan atau Gelar Debitur', 'Jenis Kelamin',\n",
    "       'Tempat Lahir', 'Tanggal Lahir', 'Nama Gadis Ibu Kandung', 'NPWP',\n",
    "       'Alamat', 'Kelurahan', 'Kecamatan', 'Kode Kabupaten atau Kota',\n",
    "       'Kode Pos', 'Nomor Telepon', 'Nomor Telepon Seluler', 'Alamat e-mail',\n",
    "       'Kode Negara Domisili', 'Kode Pekerjaan', 'Tempat Bekerja',\n",
    "       'Kode Bidang Usaha Tempat Bekerja', 'Alamat Tempat Bekerja',\n",
    "       'Kode Golongan Debitur', 'Status Perkawinan Debitur',\n",
    "       'Kode Kantor Cabang', 'Operasi Data', 'Status delete', 'Create Date',\n",
    "       'Update Date']]"
   ]
  },
  {
   "cell_type": "code",
   "execution_count": 61,
   "metadata": {},
   "outputs": [
    {
     "data": {
      "text/html": [
       "<div>\n",
       "<style scoped>\n",
       "    .dataframe tbody tr th:only-of-type {\n",
       "        vertical-align: middle;\n",
       "    }\n",
       "\n",
       "    .dataframe tbody tr th {\n",
       "        vertical-align: top;\n",
       "    }\n",
       "\n",
       "    .dataframe thead th {\n",
       "        text-align: right;\n",
       "    }\n",
       "</style>\n",
       "<table border=\"1\" class=\"dataframe\">\n",
       "  <thead>\n",
       "    <tr style=\"text-align: right;\">\n",
       "      <th></th>\n",
       "      <th>Kode Jenis Pelapor</th>\n",
       "      <th>Kode Pelapor</th>\n",
       "      <th>Tahun Bulan Data</th>\n",
       "      <th>Nomor CIF Lama Debitur</th>\n",
       "      <th>Nomor CIF Debitur</th>\n",
       "      <th>Jenis Identitas</th>\n",
       "      <th>Nomor Identitas</th>\n",
       "      <th>Nama Sesuai Identitas</th>\n",
       "      <th>Nama Lengkap</th>\n",
       "      <th>Kode Status Pendidikan atau Gelar Debitur</th>\n",
       "      <th>...</th>\n",
       "      <th>Kode Kantor Cabang</th>\n",
       "      <th>Operasi Data</th>\n",
       "      <th>Status delete</th>\n",
       "      <th>Create Date</th>\n",
       "      <th>Update Date</th>\n",
       "      <th>Approved Date</th>\n",
       "      <th>userId</th>\n",
       "      <th>orderId</th>\n",
       "      <th>paidoffDate</th>\n",
       "      <th>status</th>\n",
       "    </tr>\n",
       "  </thead>\n",
       "  <tbody>\n",
       "  </tbody>\n",
       "</table>\n",
       "<p>0 rows × 40 columns</p>\n",
       "</div>"
      ],
      "text/plain": [
       "Empty DataFrame\n",
       "Columns: [Kode Jenis Pelapor, Kode Pelapor, Tahun Bulan Data, Nomor CIF Lama Debitur, Nomor CIF Debitur, Jenis Identitas, Nomor Identitas, Nama Sesuai Identitas, Nama Lengkap, Kode Status Pendidikan atau Gelar Debitur, Jenis Kelamin, Tempat Lahir, Tanggal Lahir, Nama Gadis Ibu Kandung, NPWP, Alamat, Kelurahan, Kecamatan, Kode Kabupaten atau Kota, Kode Pos, Nomor Telepon, Nomor Telepon Seluler, Alamat e-mail, Kode Negara Domisili, Kode Pekerjaan, Tempat Bekerja, Kode Bidang Usaha Tempat Bekerja, Alamat Tempat Bekerja, Kode Golongan Debitur, Status Perkawinan Debitur, Kode Kantor Cabang, Operasi Data, Status delete, Create Date, Update Date, Approved Date, userId, orderId, paidoffDate, status]\n",
       "Index: []\n",
       "\n",
       "[0 rows x 40 columns]"
      ]
     },
     "execution_count": 61,
     "metadata": {},
     "output_type": "execute_result"
    }
   ],
   "source": [
    "D01new[D01new['Nama Sesuai Identitas']=='IBNU SIGIT SAPUTRO']"
   ]
  },
  {
   "cell_type": "code",
   "execution_count": 62,
   "metadata": {},
   "outputs": [
    {
     "name": "stdout",
     "output_type": "stream",
     "text": [
      "(129141, 53)\n",
      "(120579, 35)\n"
     ]
    }
   ],
   "source": [
    "print(F01new_sent.shape)\n",
    "print(D01new_sent.shape)"
   ]
  },
  {
   "cell_type": "markdown",
   "metadata": {},
   "source": [
    "## Export file for KBIJ Reporting"
   ]
  },
  {
   "cell_type": "code",
   "execution_count": 63,
   "metadata": {},
   "outputs": [],
   "source": [
    "D01new_sent.to_csv(path_or_buf=D01name, sep='|',index =0)\n",
    "F01new_sent.to_csv(path_or_buf=F01name, sep='|',index =0)"
   ]
  },
  {
   "cell_type": "code",
   "execution_count": 64,
   "metadata": {},
   "outputs": [
    {
     "name": "stdout",
     "output_type": "stream",
     "text": [
      "File ./data202007/F01-202007[20200921-133034].txt version 3 uploaded to notebooks/kbij/data202007/f01-202007.txt.\n"
     ]
    }
   ],
   "source": [
    "DataStorage.upload_notebooks_data(F01name, 'kbij/'+pathname, 'f01-'+datem+'.txt')"
   ]
  },
  {
   "cell_type": "code",
   "execution_count": 65,
   "metadata": {},
   "outputs": [
    {
     "name": "stdout",
     "output_type": "stream",
     "text": [
      "File ./data202007/D01-202007[20200921-133034].txt version 3 uploaded to notebooks/kbij/data202007/d01-202007.txt.\n"
     ]
    }
   ],
   "source": [
    "DataStorage.upload_notebooks_data(D01name, 'kbij/'+pathname, 'd01-'+datem+'.txt')"
   ]
  },
  {
   "cell_type": "code",
   "execution_count": null,
   "metadata": {},
   "outputs": [],
   "source": []
  },
  {
   "cell_type": "markdown",
   "metadata": {},
   "source": [
    "# Check Sent Data"
   ]
  },
  {
   "cell_type": "code",
   "execution_count": 66,
   "metadata": {},
   "outputs": [],
   "source": [
    "F01_sent = pd.read_csv('./data202007/F01-202007[20200921-133034].txt',sep='|',dtype=F01_dtype)\n",
    "D01_sent = pd.read_csv('./data202007/D01-202007[20200921-133034].txt',sep='|',dtype=D01_dtype)"
   ]
  },
  {
   "cell_type": "code",
   "execution_count": 67,
   "metadata": {},
   "outputs": [
    {
     "data": {
      "text/html": [
       "<div>\n",
       "<style scoped>\n",
       "    .dataframe tbody tr th:only-of-type {\n",
       "        vertical-align: middle;\n",
       "    }\n",
       "\n",
       "    .dataframe tbody tr th {\n",
       "        vertical-align: top;\n",
       "    }\n",
       "\n",
       "    .dataframe thead th {\n",
       "        text-align: right;\n",
       "    }\n",
       "</style>\n",
       "<table border=\"1\" class=\"dataframe\">\n",
       "  <thead>\n",
       "    <tr style=\"text-align: right;\">\n",
       "      <th></th>\n",
       "      <th>Kode Jenis Pelapor</th>\n",
       "      <th>Kode Pelapor</th>\n",
       "      <th>Tahun Bulan Data</th>\n",
       "      <th>Kode Jenis Fasilitas</th>\n",
       "      <th>Nomor Rekening Fasilitas</th>\n",
       "      <th>Nomor Rekening Lama Fasilitas</th>\n",
       "      <th>Nomor CIF Debitur</th>\n",
       "      <th>Kode Sifat Kredit atau Pembiayaan</th>\n",
       "      <th>Kode Jenis Kredit atau Pembiayaan</th>\n",
       "      <th>Kode Akad Kredit atau Akad Pembiayaan</th>\n",
       "      <th>...</th>\n",
       "      <th>Tanggal Restrukturisasi Akhir</th>\n",
       "      <th>Kode Cara Restrukturisasi</th>\n",
       "      <th>Kode Kondisi</th>\n",
       "      <th>Tanggal Kondisi</th>\n",
       "      <th>Keterangan</th>\n",
       "      <th>Kode Kantor Cabang</th>\n",
       "      <th>Operasi Data</th>\n",
       "      <th>Status delete</th>\n",
       "      <th>Create Date</th>\n",
       "      <th>Update Date</th>\n",
       "    </tr>\n",
       "  </thead>\n",
       "  <tbody>\n",
       "  </tbody>\n",
       "</table>\n",
       "<p>0 rows × 53 columns</p>\n",
       "</div>"
      ],
      "text/plain": [
       "Empty DataFrame\n",
       "Columns: [Kode Jenis Pelapor, Kode Pelapor, Tahun Bulan Data, Kode Jenis Fasilitas, Nomor Rekening Fasilitas, Nomor Rekening Lama Fasilitas, Nomor CIF Debitur, Kode Sifat Kredit atau Pembiayaan, Kode Jenis Kredit atau Pembiayaan, Kode Akad Kredit atau Akad Pembiayaan, Nomor Akad Awal, Tanggal Akad Awal, Nomor Akad Akhir, Tanggal Akad Akhir, Frekuensi Perpanjangan Fasilitas Kredit atau Pembiayaan, Tanggal Awal Kredit atau Pembiayaan, Tanggal Mulai, Tanggal Jatuh Tempo, Kode Kategori Debitur, Kode Jenis Penggunaan, Kode Orientasi Penggunaan, Kode Sektor Ekonomi, Kode Kabupaten atau Kota Lokasi Proyek atau Penggunaan Kredit atau Pembiayaan, Nilai Proyek, Kode Valuta, Suku Bunga atau Imbalan, Jenis Suku Bunga atau Imbalan, Kredit atau Pembiayaan Program Pemerintah, Plafon Awal, Plafon, Realisasi atau Pencairan Bulan Berjalan, Denda, Baki Debet, Nilai dalam Mata Uang Asal, Kode Kualitas Kredit atau Pembiayaan, Tanggal Macet, Kode Sebab Macet, Tunggakan Pokok, Tunggakan Bunga atau Imbalan, Jumlah Hari Tunggakan, Frekuensi Tunggakan, Frekuensi Restrukturisasi, Tanggal Restrukturisasi Awal, Tanggal Restrukturisasi Akhir, Kode Cara Restrukturisasi, Kode Kondisi, Tanggal Kondisi, Keterangan, Kode Kantor Cabang, Operasi Data, Status delete, Create Date, Update Date]\n",
       "Index: []\n",
       "\n",
       "[0 rows x 53 columns]"
      ]
     },
     "execution_count": 67,
     "metadata": {},
     "output_type": "execute_result"
    }
   ],
   "source": [
    "F01_sent[F01_sent['Tanggal Mulai'].isna()]"
   ]
  },
  {
   "cell_type": "code",
   "execution_count": 68,
   "metadata": {},
   "outputs": [
    {
     "data": {
      "text/html": [
       "<div>\n",
       "<style scoped>\n",
       "    .dataframe tbody tr th:only-of-type {\n",
       "        vertical-align: middle;\n",
       "    }\n",
       "\n",
       "    .dataframe tbody tr th {\n",
       "        vertical-align: top;\n",
       "    }\n",
       "\n",
       "    .dataframe thead th {\n",
       "        text-align: right;\n",
       "    }\n",
       "</style>\n",
       "<table border=\"1\" class=\"dataframe\">\n",
       "  <thead>\n",
       "    <tr style=\"text-align: right;\">\n",
       "      <th></th>\n",
       "      <th>Kode Jenis Pelapor</th>\n",
       "      <th>Kode Pelapor</th>\n",
       "      <th>Tahun Bulan Data</th>\n",
       "      <th>Kode Jenis Fasilitas</th>\n",
       "      <th>Nomor Rekening Fasilitas</th>\n",
       "      <th>Nomor Rekening Lama Fasilitas</th>\n",
       "      <th>Nomor CIF Debitur</th>\n",
       "      <th>Kode Sifat Kredit atau Pembiayaan</th>\n",
       "      <th>Kode Jenis Kredit atau Pembiayaan</th>\n",
       "      <th>Kode Akad Kredit atau Akad Pembiayaan</th>\n",
       "      <th>...</th>\n",
       "      <th>Tanggal Restrukturisasi Akhir</th>\n",
       "      <th>Kode Cara Restrukturisasi</th>\n",
       "      <th>Kode Kondisi</th>\n",
       "      <th>Tanggal Kondisi</th>\n",
       "      <th>Keterangan</th>\n",
       "      <th>Kode Kantor Cabang</th>\n",
       "      <th>Operasi Data</th>\n",
       "      <th>Status delete</th>\n",
       "      <th>Create Date</th>\n",
       "      <th>Update Date</th>\n",
       "    </tr>\n",
       "  </thead>\n",
       "  <tbody>\n",
       "  </tbody>\n",
       "</table>\n",
       "<p>0 rows × 53 columns</p>\n",
       "</div>"
      ],
      "text/plain": [
       "Empty DataFrame\n",
       "Columns: [Kode Jenis Pelapor, Kode Pelapor, Tahun Bulan Data, Kode Jenis Fasilitas, Nomor Rekening Fasilitas, Nomor Rekening Lama Fasilitas, Nomor CIF Debitur, Kode Sifat Kredit atau Pembiayaan, Kode Jenis Kredit atau Pembiayaan, Kode Akad Kredit atau Akad Pembiayaan, Nomor Akad Awal, Tanggal Akad Awal, Nomor Akad Akhir, Tanggal Akad Akhir, Frekuensi Perpanjangan Fasilitas Kredit atau Pembiayaan, Tanggal Awal Kredit atau Pembiayaan, Tanggal Mulai, Tanggal Jatuh Tempo, Kode Kategori Debitur, Kode Jenis Penggunaan, Kode Orientasi Penggunaan, Kode Sektor Ekonomi, Kode Kabupaten atau Kota Lokasi Proyek atau Penggunaan Kredit atau Pembiayaan, Nilai Proyek, Kode Valuta, Suku Bunga atau Imbalan, Jenis Suku Bunga atau Imbalan, Kredit atau Pembiayaan Program Pemerintah, Plafon Awal, Plafon, Realisasi atau Pencairan Bulan Berjalan, Denda, Baki Debet, Nilai dalam Mata Uang Asal, Kode Kualitas Kredit atau Pembiayaan, Tanggal Macet, Kode Sebab Macet, Tunggakan Pokok, Tunggakan Bunga atau Imbalan, Jumlah Hari Tunggakan, Frekuensi Tunggakan, Frekuensi Restrukturisasi, Tanggal Restrukturisasi Awal, Tanggal Restrukturisasi Akhir, Kode Cara Restrukturisasi, Kode Kondisi, Tanggal Kondisi, Keterangan, Kode Kantor Cabang, Operasi Data, Status delete, Create Date, Update Date]\n",
       "Index: []\n",
       "\n",
       "[0 rows x 53 columns]"
      ]
     },
     "execution_count": 68,
     "metadata": {},
     "output_type": "execute_result"
    }
   ],
   "source": [
    "F01_sent[F01_sent['Tanggal Jatuh Tempo'].isna()]"
   ]
  },
  {
   "cell_type": "code",
   "execution_count": 69,
   "metadata": {},
   "outputs": [
    {
     "name": "stdout",
     "output_type": "stream",
     "text": [
      "Blob notebooks/kbij/data202006/f01-202006.txt version LATEST downloaded to ./data202006/f01-202006.txt.\n"
     ]
    }
   ],
   "source": [
    "DataStorage.download_notebooks_data('./'+prev_pathname+'/f01-'+prev_datem+'.txt', 'kbij/'+prev_pathname, 'f01-'+prev_datem+'.txt')"
   ]
  },
  {
   "cell_type": "code",
   "execution_count": 70,
   "metadata": {},
   "outputs": [
    {
     "name": "stdout",
     "output_type": "stream",
     "text": [
      "Blob notebooks/kbij/data202006/d01-202006.txt version LATEST downloaded to ./data202006/d01-202006.txt.\n"
     ]
    }
   ],
   "source": [
    "DataStorage.download_notebooks_data('./'+prev_pathname+'/d01-'+prev_datem+'.txt', 'kbij/'+prev_pathname, 'd01-'+prev_datem+'.txt')"
   ]
  },
  {
   "cell_type": "code",
   "execution_count": 71,
   "metadata": {},
   "outputs": [],
   "source": [
    "F01_prev_sent = pd.read_csv('./'+prev_pathname+'/f01-'+prev_datem+'.txt',sep='|',dtype=F01_dtype)\n",
    "D01_prev_sent = pd.read_csv('./'+prev_pathname+'/d01-'+prev_datem+'.txt',sep='|',dtype=D01_dtype)"
   ]
  },
  {
   "cell_type": "code",
   "execution_count": 72,
   "metadata": {},
   "outputs": [
    {
     "name": "stdout",
     "output_type": "stream",
     "text": [
      "D01_sent: (120579, 35) F01_sent: (129141, 53)\n",
      "D01_prev_sent: (187594, 35) F01_prev_sent: (549378, 53)\n"
     ]
    }
   ],
   "source": [
    "print('D01_sent:',D01_sent.shape, 'F01_sent:',F01_sent.shape)\n",
    "print('D01_prev_sent:',D01_prev_sent.shape, 'F01_prev_sent:',F01_prev_sent.shape)"
   ]
  },
  {
   "cell_type": "code",
   "execution_count": 73,
   "metadata": {},
   "outputs": [
    {
     "name": "stdout",
     "output_type": "stream",
     "text": [
      "================================================================================\n",
      "Check Previous Not Active Nomor Rekening Fasilitas But Exist in Current Data \n",
      "\n",
      "[CLEAR]No Previous Not Active Nomor Rekening Fasilitas But Exist in Current Data\n",
      "\n",
      "[DONE]\n",
      "================================================================================\n",
      "================================================================================\n",
      "Check Previous Active Nomor Rekening Fasilitas But Not Exist in Current Data \n",
      "\n",
      "[CLEAR]No Previous Active Nomor Rekening Fasilitas But Not Exist in Current Data\n",
      "\n",
      "[DONE]\n",
      "================================================================================\n",
      "================================================================================\n",
      "Check Nomor CIF Debitur in D01 and F01 \n",
      "\n",
      "[CLEAR]All Nomor CIF Debitur in D01 are exist in F01\n",
      "\n",
      "[DONE]\n",
      "================================================================================\n",
      "================================================================================\n",
      "Check Active Kode Kondisi but Baki Debet = 0 \n",
      "\n",
      "[CLEAR]No Active Kode Kondisi but Baki Debet = 0\n",
      "\n",
      "[DONE]\n",
      "================================================================================\n",
      "================================================================================\n",
      "Check Not Active Kode Kondisi but Baki Debet > 0 \n",
      "\n",
      "[CLEAR]No Not Active Kode Kondisi but Baki Debet > 0\n",
      "\n",
      "[DONE]\n",
      "================================================================================\n",
      "================================================================================\n",
      "Check Baki Debet > Plafon Awal \n",
      "\n",
      "[CLEAR]No Baki Debet greater than Plafon Awal\n",
      "\n",
      "[DONE]\n",
      "================================================================================\n",
      "================================================================================\n",
      "Check Kode Kualitas Kredit atau Pembiayaan Macet but has no Tanggal Macet \n",
      "\n",
      "[CLEAR]No Kode Kualitas Kredit atau Pembiayaan Macet but has no Tanggal Macet\n",
      "\n",
      "[DONE]\n",
      "================================================================================\n",
      "================================================================================\n",
      "Check Tahun Bulan Data \n",
      "\n",
      "F01: ['202007']\n",
      "D01: ['202007']\n",
      "\n",
      "[DONE]\n",
      "================================================================================\n"
     ]
    }
   ],
   "source": [
    "F01_sent, D01_sent = kbij.checking_data(F01_sent, D01_sent, '2020-05-01', F01_prev=F01_prev_sent, D01_prev=D01_prev_sent)"
   ]
  },
  {
   "cell_type": "code",
   "execution_count": 74,
   "metadata": {},
   "outputs": [
    {
     "data": {
      "text/plain": [
       "Series([], Name: Alamat e-mail, dtype: object)"
      ]
     },
     "execution_count": 74,
     "metadata": {},
     "output_type": "execute_result"
    }
   ],
   "source": [
    "D01_sent['Alamat e-mail'][D01_sent['Alamat e-mail'].str.len()>=150]"
   ]
  },
  {
   "cell_type": "code",
   "execution_count": 75,
   "metadata": {},
   "outputs": [
    {
     "data": {
      "text/plain": [
       "Series([], Name: Alamat Tempat Bekerja, dtype: object)"
      ]
     },
     "execution_count": 75,
     "metadata": {},
     "output_type": "execute_result"
    }
   ],
   "source": [
    "D01_sent['Alamat Tempat Bekerja'][D01_sent['Alamat Tempat Bekerja'].str.len()>=300]"
   ]
  },
  {
   "cell_type": "code",
   "execution_count": null,
   "metadata": {},
   "outputs": [],
   "source": []
  }
 ],
 "metadata": {
  "kernelspec": {
   "display_name": "Python 3",
   "language": "python",
   "name": "python3"
  },
  "language_info": {
   "codemirror_mode": {
    "name": "ipython",
    "version": 3
   },
   "file_extension": ".py",
   "mimetype": "text/x-python",
   "name": "python",
   "nbconvert_exporter": "python",
   "pygments_lexer": "ipython3",
   "version": "3.7.3"
  },
  "toc-autonumbering": true,
  "toc-showmarkdowntxt": false
 },
 "nbformat": 4,
 "nbformat_minor": 4
}
