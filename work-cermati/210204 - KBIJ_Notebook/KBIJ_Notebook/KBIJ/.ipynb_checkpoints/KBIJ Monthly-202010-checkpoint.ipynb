{
 "cells": [
  {
   "cell_type": "code",
   "execution_count": 1,
   "metadata": {},
   "outputs": [],
   "source": [
    "import pandas as pd\n",
    "import numpy as np\n",
    "import json\n",
    "from datetime import datetime, timedelta\n",
    "import re\n",
    "import os,sys\n",
    "\n",
    "import kbij_helper as kbijh\n",
    "kbij = kbijh.KBIJ()\n",
    "\n",
    "import warnings\n",
    "warnings.filterwarnings('ignore')\n",
    "autostats_lib = \"../../../autostats\"\n",
    "if autostats_lib not in sys.path:\n",
    "    sys.path.append(autostats_lib)\n",
    "\n",
    "from utilities.data_storage import DataStorage\n",
    "import time"
   ]
  },
  {
   "cell_type": "code",
   "execution_count": 2,
   "metadata": {},
   "outputs": [],
   "source": [
    "%load_ext google.cloud.bigquery\n",
    "from google.cloud import bigquery\n",
    "DataStorage(os.environ[\"GOOGLE_APPLICATION_CREDENTIALS\"])\n",
    "\n",
    "from IPython.display import clear_output"
   ]
  },
  {
   "cell_type": "code",
   "execution_count": 3,
   "metadata": {},
   "outputs": [],
   "source": [
    "def get_key(my_dict, val):\n",
    "    keys_list = []\n",
    "    for key, value in my_dict.items(): \n",
    "         if val == value: \n",
    "             keys_list.append(key)\n",
    "  \n",
    "    return keys_list"
   ]
  },
  {
   "cell_type": "code",
   "execution_count": 4,
   "metadata": {},
   "outputs": [],
   "source": [
    "date = \"2020-10-01\"\n",
    "prev_date = \"2020-09-01\""
   ]
  },
  {
   "cell_type": "code",
   "execution_count": null,
   "metadata": {},
   "outputs": [],
   "source": []
  },
  {
   "cell_type": "code",
   "execution_count": 5,
   "metadata": {},
   "outputs": [
    {
     "name": "stdout",
     "output_type": "stream",
     "text": [
      "202010\n"
     ]
    }
   ],
   "source": [
    "datem = pd.to_datetime(date)\n",
    "datem = datem.strftime(\"%Y%m\")\n",
    "print(datem)"
   ]
  },
  {
   "cell_type": "code",
   "execution_count": 6,
   "metadata": {},
   "outputs": [],
   "source": [
    "pathname = 'data'+datem\n",
    "dirname = './'+pathname"
   ]
  },
  {
   "cell_type": "code",
   "execution_count": 7,
   "metadata": {},
   "outputs": [],
   "source": [
    "raw_filename_F01 = dirname+'/F01'+datem+'.csv'\n",
    "raw_filename_D01 = dirname+'/D01'+datem+'.csv'"
   ]
  },
  {
   "cell_type": "code",
   "execution_count": 8,
   "metadata": {},
   "outputs": [],
   "source": [
    "filtered_filename_F01 = dirname+'/F01'+datem+'_new_filtered.csv'\n",
    "filtered_filename_D01 = dirname+'/D01'+datem+'_new_filtered.csv'"
   ]
  },
  {
   "cell_type": "code",
   "execution_count": null,
   "metadata": {},
   "outputs": [],
   "source": []
  },
  {
   "cell_type": "code",
   "execution_count": 9,
   "metadata": {},
   "outputs": [
    {
     "name": "stdout",
     "output_type": "stream",
     "text": [
      "202009\n"
     ]
    }
   ],
   "source": [
    "prev_datem = pd.to_datetime(prev_date)\n",
    "prev_datem = prev_datem.strftime(\"%Y%m\")\n",
    "print(prev_datem)"
   ]
  },
  {
   "cell_type": "code",
   "execution_count": 10,
   "metadata": {},
   "outputs": [],
   "source": [
    "prev_pathname = 'data'+prev_datem\n",
    "prev_dirname = './'+prev_pathname"
   ]
  },
  {
   "cell_type": "code",
   "execution_count": 11,
   "metadata": {},
   "outputs": [],
   "source": [
    "prev_filtered_filename_F01 = prev_dirname+'/F01'+prev_datem+'_new_filtered.csv'\n",
    "prev_filtered_filename_D01 = prev_dirname+'/D01'+prev_datem+'_new_filtered.csv'"
   ]
  },
  {
   "cell_type": "code",
   "execution_count": 12,
   "metadata": {},
   "outputs": [],
   "source": [
    "F01_dtype = {'Kode Jenis Pelapor': 'object',\n",
    " 'Kode Pelapor': 'object',\n",
    " 'Tahun Bulan Data': 'object',\n",
    " 'Kode Jenis Fasilitas': 'object',\n",
    " 'Nomor Rekening Fasilitas': 'object',\n",
    " 'Nomor Rekening Lama Fasilitas': 'object',\n",
    " 'Nomor CIF Debitur': 'object',\n",
    " 'Kode Sifat Kredit atau Pembiayaan': 'str',\n",
    " 'Kode Jenis Kredit atau Pembiayaan': 'str',\n",
    " 'Kode Akad Kredit atau Akad Pembiayaan': 'object',\n",
    " 'Nomor Akad Awal': 'object',\n",
    " 'Tanggal Akad Awal': 'object',\n",
    " 'Nomor Akad Akhir': 'object',\n",
    " 'Tanggal Akad Akhir': 'object',\n",
    " 'Frekuensi Perpanjangan Fasilitas Kredit atau Pembiayaan': 'int64',\n",
    " 'Tanggal Awal Kredit atau Pembiayaan': 'object',\n",
    " 'Tanggal Mulai': 'object',\n",
    " 'Tanggal Jatuh Tempo': 'object',\n",
    " 'Kode Kategori Debitur': 'object',\n",
    " 'Kode Jenis Penggunaan': 'str',\n",
    " 'Kode Orientasi Penggunaan': 'str',\n",
    " 'Kode Sektor Ekonomi': 'object',\n",
    " 'Kode Kabupaten atau Kota Lokasi Proyek atau Penggunaan Kredit atau Pembiayaan': 'object',\n",
    " 'Nilai Proyek': 'object',\n",
    " 'Kode Valuta': 'object',\n",
    " 'Suku Bunga atau Imbalan': 'float64',\n",
    " 'Jenis Suku Bunga atau Imbalan': 'int64',\n",
    " 'Kredit atau Pembiayaan Program Pemerintah': 'object',\n",
    " 'Plafon Awal': 'float64',\n",
    " 'Plafon': 'float64',\n",
    " 'Realisasi atau Pencairan Bulan Berjalan': 'float64',\n",
    " 'Denda': 'float64',\n",
    " 'Baki Debet': 'float64',\n",
    " 'Nilai dalam Mata Uang Asal': 'object',\n",
    " 'Kode Kualitas Kredit atau Pembiayaan': 'str',\n",
    " 'Tanggal Macet': 'object',\n",
    " 'Kode Sebab Macet': 'str',\n",
    " 'Tunggakan Pokok': 'int64',\n",
    " 'Tunggakan Bunga atau Imbalan': 'int64',\n",
    " 'Jumlah Hari Tunggakan': 'int64',\n",
    " 'Frekuensi Tunggakan': 'int64',\n",
    " 'Frekuensi Restrukturisasi': 'int64',\n",
    " 'Tanggal Restrukturisasi Awal': 'object',\n",
    " 'Tanggal Restrukturisasi Akhir': 'object',\n",
    " 'Kode Cara Restrukturisasi': 'object',\n",
    " 'Kode Kondisi': 'object',\n",
    " 'Tanggal Kondisi': 'object',\n",
    " 'Keterangan': 'object',\n",
    " 'Kode Kantor Cabang': 'object',\n",
    " 'Operasi Data': 'object',\n",
    " 'Status delete': 'object',\n",
    " 'Create Date': 'str',\n",
    " 'Update Date': 'str',\n",
    " 'Approved Date': 'str',\n",
    " 'userId': 'object',\n",
    " 'orderId': 'object',\n",
    " 'status': 'object'}\n",
    "\n",
    "D01_dtype = {'Kode Jenis Pelapor': 'object',\n",
    " 'Kode Pelapor': 'object',\n",
    " 'Tahun Bulan Data': 'object',\n",
    " 'Nomor CIF Lama Debitur': 'object',\n",
    " 'Nomor CIF Debitur': 'object',\n",
    " 'Jenis Identitas': 'int64',\n",
    " 'Nomor Identitas': 'object',\n",
    " 'Nama Sesuai Identitas': 'object',\n",
    " 'Nama Lengkap': 'object',\n",
    " 'Kode Status Pendidikan atau Gelar Debitur': 'object',\n",
    " 'Jenis Kelamin': 'object',\n",
    " 'Tempat Lahir': 'object',\n",
    " 'Tanggal Lahir': 'object',\n",
    " 'Nama Gadis Ibu Kandung': 'object',\n",
    " 'NPWP': 'object',\n",
    " 'Alamat': 'object',\n",
    " 'Kelurahan': 'object',\n",
    " 'Kecamatan': 'object',\n",
    " 'Kode Kabupaten atau Kota': 'object',\n",
    " 'Kode Pos': 'object',\n",
    " 'Nomor Telepon': 'object',\n",
    " 'Nomor Telepon Seluler': 'object',\n",
    " 'Alamat email': 'object',\n",
    " 'Kode Negara Domisili': 'object',\n",
    " 'Kode Pekerjaan': 'object',\n",
    " 'Tempat Bekerja': 'object',\n",
    " 'Kode Bidang Usaha Tempat Bekerja': 'object',\n",
    " 'Alamat Tempat Bekerja': 'object',\n",
    " 'Kode Golongan Debitur': 'object',\n",
    " 'Status Perkawinan Debitur': 'int64',\n",
    " 'Kode Kantor Cabang': 'object',\n",
    " 'Operasi Data': 'object',\n",
    " 'Status delete': 'object',\n",
    " 'Create Date': 'str',\n",
    " 'Update Date': 'str',\n",
    " 'Approved Date': 'str',\n",
    " 'userId': 'object',\n",
    " 'orderId': 'object',\n",
    " 'status': 'object'}"
   ]
  },
  {
   "cell_type": "markdown",
   "metadata": {},
   "source": [
    "# Query"
   ]
  },
  {
   "cell_type": "markdown",
   "metadata": {},
   "source": [
    "Get new F01 and D01 from redash"
   ]
  },
  {
   "cell_type": "markdown",
   "metadata": {},
   "source": [
    "## F01 Current Data"
   ]
  },
  {
   "cell_type": "code",
   "execution_count": 13,
   "metadata": {},
   "outputs": [
    {
     "ename": "OSError",
     "evalue": "Project was not passed and could not be determined from the environment.",
     "output_type": "error",
     "traceback": [
      "\u001b[1;31m---------------------------------------------------------------------------\u001b[0m",
      "\u001b[1;31mOSError\u001b[0m                                   Traceback (most recent call last)",
      "\u001b[1;32m<ipython-input-13-759df2197f65>\u001b[0m in \u001b[0;36m<module>\u001b[1;34m\u001b[0m\n\u001b[1;32m----> 1\u001b[1;33m \u001b[0mF01new\u001b[0m \u001b[1;33m=\u001b[0m \u001b[0mkbij\u001b[0m\u001b[1;33m.\u001b[0m\u001b[0mget_F01_data\u001b[0m\u001b[1;33m(\u001b[0m\u001b[1;34m'\"'\u001b[0m\u001b[1;33m+\u001b[0m\u001b[0mdate\u001b[0m\u001b[1;33m+\u001b[0m\u001b[1;34m'\"'\u001b[0m\u001b[1;33m)\u001b[0m\u001b[1;33m\u001b[0m\u001b[1;33m\u001b[0m\u001b[0m\n\u001b[0m",
      "\u001b[1;32m~\\Documents\\GitHub\\indodana-data-analysis\\automatic-pancake\\notebooks\\KBIJ\\kbij_helper.py\u001b[0m in \u001b[0;36mget_F01_data\u001b[1;34m(self, year_date, filter)\u001b[0m\n\u001b[0;32m     23\u001b[0m \u001b[1;33m\u001b[0m\u001b[0m\n\u001b[0;32m     24\u001b[0m     \u001b[1;32mdef\u001b[0m \u001b[0mget_F01_data\u001b[0m\u001b[1;33m(\u001b[0m\u001b[0mself\u001b[0m\u001b[1;33m,\u001b[0m \u001b[0myear_date\u001b[0m\u001b[1;33m,\u001b[0m \u001b[0mfilter\u001b[0m\u001b[1;33m=\u001b[0m\u001b[1;32mTrue\u001b[0m\u001b[1;33m)\u001b[0m\u001b[1;33m:\u001b[0m\u001b[1;33m\u001b[0m\u001b[1;33m\u001b[0m\u001b[0m\n\u001b[1;32m---> 25\u001b[1;33m         \u001b[0mclient\u001b[0m \u001b[1;33m=\u001b[0m \u001b[0mbigquery\u001b[0m\u001b[1;33m.\u001b[0m\u001b[0mClient\u001b[0m\u001b[1;33m(\u001b[0m\u001b[1;33m)\u001b[0m\u001b[1;33m\u001b[0m\u001b[1;33m\u001b[0m\u001b[0m\n\u001b[0m\u001b[0;32m     26\u001b[0m \u001b[1;33m\u001b[0m\u001b[0m\n\u001b[0;32m     27\u001b[0m         \u001b[0mfilter_q\u001b[0m\u001b[1;33m=\u001b[0m\u001b[1;34m''\u001b[0m\u001b[1;33m\u001b[0m\u001b[1;33m\u001b[0m\u001b[0m\n",
      "\u001b[1;32m~\\Anaconda3\\lib\\site-packages\\google\\cloud\\bigquery\\client.py\u001b[0m in \u001b[0;36m__init__\u001b[1;34m(self, project, credentials, _http, location, default_query_job_config, client_info, client_options)\u001b[0m\n\u001b[0;32m    177\u001b[0m     ):\n\u001b[0;32m    178\u001b[0m         super(Client, self).__init__(\n\u001b[1;32m--> 179\u001b[1;33m             \u001b[0mproject\u001b[0m\u001b[1;33m=\u001b[0m\u001b[0mproject\u001b[0m\u001b[1;33m,\u001b[0m \u001b[0mcredentials\u001b[0m\u001b[1;33m=\u001b[0m\u001b[0mcredentials\u001b[0m\u001b[1;33m,\u001b[0m \u001b[0m_http\u001b[0m\u001b[1;33m=\u001b[0m\u001b[0m_http\u001b[0m\u001b[1;33m\u001b[0m\u001b[1;33m\u001b[0m\u001b[0m\n\u001b[0m\u001b[0;32m    180\u001b[0m         )\n\u001b[0;32m    181\u001b[0m \u001b[1;33m\u001b[0m\u001b[0m\n",
      "\u001b[1;32m~\\Anaconda3\\lib\\site-packages\\google\\cloud\\client.py\u001b[0m in \u001b[0;36m__init__\u001b[1;34m(self, project, credentials, client_options, _http)\u001b[0m\n\u001b[0;32m    247\u001b[0m \u001b[1;33m\u001b[0m\u001b[0m\n\u001b[0;32m    248\u001b[0m     \u001b[1;32mdef\u001b[0m \u001b[0m__init__\u001b[0m\u001b[1;33m(\u001b[0m\u001b[0mself\u001b[0m\u001b[1;33m,\u001b[0m \u001b[0mproject\u001b[0m\u001b[1;33m=\u001b[0m\u001b[1;32mNone\u001b[0m\u001b[1;33m,\u001b[0m \u001b[0mcredentials\u001b[0m\u001b[1;33m=\u001b[0m\u001b[1;32mNone\u001b[0m\u001b[1;33m,\u001b[0m \u001b[0mclient_options\u001b[0m\u001b[1;33m=\u001b[0m\u001b[1;32mNone\u001b[0m\u001b[1;33m,\u001b[0m \u001b[0m_http\u001b[0m\u001b[1;33m=\u001b[0m\u001b[1;32mNone\u001b[0m\u001b[1;33m)\u001b[0m\u001b[1;33m:\u001b[0m\u001b[1;33m\u001b[0m\u001b[1;33m\u001b[0m\u001b[0m\n\u001b[1;32m--> 249\u001b[1;33m         \u001b[0m_ClientProjectMixin\u001b[0m\u001b[1;33m.\u001b[0m\u001b[0m__init__\u001b[0m\u001b[1;33m(\u001b[0m\u001b[0mself\u001b[0m\u001b[1;33m,\u001b[0m \u001b[0mproject\u001b[0m\u001b[1;33m=\u001b[0m\u001b[0mproject\u001b[0m\u001b[1;33m)\u001b[0m\u001b[1;33m\u001b[0m\u001b[1;33m\u001b[0m\u001b[0m\n\u001b[0m\u001b[0;32m    250\u001b[0m         \u001b[0mClient\u001b[0m\u001b[1;33m.\u001b[0m\u001b[0m__init__\u001b[0m\u001b[1;33m(\u001b[0m\u001b[0mself\u001b[0m\u001b[1;33m,\u001b[0m \u001b[0mcredentials\u001b[0m\u001b[1;33m=\u001b[0m\u001b[0mcredentials\u001b[0m\u001b[1;33m,\u001b[0m \u001b[0mclient_options\u001b[0m\u001b[1;33m=\u001b[0m\u001b[0mclient_options\u001b[0m\u001b[1;33m,\u001b[0m \u001b[0m_http\u001b[0m\u001b[1;33m=\u001b[0m\u001b[0m_http\u001b[0m\u001b[1;33m)\u001b[0m\u001b[1;33m\u001b[0m\u001b[1;33m\u001b[0m\u001b[0m\n",
      "\u001b[1;32m~\\Anaconda3\\lib\\site-packages\\google\\cloud\\client.py\u001b[0m in \u001b[0;36m__init__\u001b[1;34m(self, project)\u001b[0m\n\u001b[0;32m    202\u001b[0m         \u001b[1;32mif\u001b[0m \u001b[0mproject\u001b[0m \u001b[1;32mis\u001b[0m \u001b[1;32mNone\u001b[0m\u001b[1;33m:\u001b[0m\u001b[1;33m\u001b[0m\u001b[1;33m\u001b[0m\u001b[0m\n\u001b[0;32m    203\u001b[0m             raise EnvironmentError(\n\u001b[1;32m--> 204\u001b[1;33m                 \u001b[1;34m\"Project was not passed and could not be \"\u001b[0m\u001b[1;33m\u001b[0m\u001b[1;33m\u001b[0m\u001b[0m\n\u001b[0m\u001b[0;32m    205\u001b[0m                 \u001b[1;34m\"determined from the environment.\"\u001b[0m\u001b[1;33m\u001b[0m\u001b[1;33m\u001b[0m\u001b[0m\n\u001b[0;32m    206\u001b[0m             )\n",
      "\u001b[1;31mOSError\u001b[0m: Project was not passed and could not be determined from the environment."
     ]
    }
   ],
   "source": [
    "F01new = kbij.get_F01_data('\"'+date+'\"')"
   ]
  },
  {
   "cell_type": "markdown",
   "metadata": {},
   "source": [
    "## D01 Current Data"
   ]
  },
  {
   "cell_type": "code",
   "execution_count": null,
   "metadata": {},
   "outputs": [],
   "source": [
    "D01new = kbij.get_D01_data('\"'+date+'\"')"
   ]
  },
  {
   "cell_type": "markdown",
   "metadata": {},
   "source": [
    "# Data Preparation"
   ]
  },
  {
   "cell_type": "code",
   "execution_count": null,
   "metadata": {},
   "outputs": [],
   "source": [
    "print(F01new.shape)\n",
    "a=[]\n",
    "for i in F01new.columns:\n",
    "    a.append(i.replace('_',' '))\n",
    "F01new.columns = a"
   ]
  },
  {
   "cell_type": "code",
   "execution_count": null,
   "metadata": {},
   "outputs": [],
   "source": [
    "print(D01new.shape)\n",
    "a=[]\n",
    "for i in D01new.columns:\n",
    "    a.append(i.replace('_',' '))\n",
    "D01new.columns = a"
   ]
  },
  {
   "cell_type": "code",
   "execution_count": null,
   "metadata": {},
   "outputs": [],
   "source": [
    "for col in get_key(F01_dtype, 'object'):\n",
    "    F01new[col] = F01new[col].str.strip()"
   ]
  },
  {
   "cell_type": "code",
   "execution_count": null,
   "metadata": {},
   "outputs": [],
   "source": [
    "for col in get_key(D01_dtype, 'object'):\n",
    "    D01new[col] = D01new[col].str.strip()"
   ]
  },
  {
   "cell_type": "code",
   "execution_count": null,
   "metadata": {},
   "outputs": [],
   "source": [
    "F01new = F01new.replace('\\n','', regex=True)\n",
    "D01new = D01new.replace('\\n','', regex=True)"
   ]
  },
  {
   "cell_type": "code",
   "execution_count": null,
   "metadata": {},
   "outputs": [],
   "source": [
    "F01new = F01new.replace('\\t','', regex=True)\n",
    "D01new = D01new.replace('\\t','', regex=True)"
   ]
  },
  {
   "cell_type": "code",
   "execution_count": null,
   "metadata": {},
   "outputs": [],
   "source": [
    "D01new.rename(columns={\"Alamat email\": \"Alamat e-mail\"}, inplace=True)"
   ]
  },
  {
   "cell_type": "markdown",
   "metadata": {},
   "source": [
    "Check If KTP ID has char O/o"
   ]
  },
  {
   "cell_type": "code",
   "execution_count": null,
   "metadata": {},
   "outputs": [],
   "source": [
    "D01new['Nomor Identitas'][D01new['Nomor Identitas'].str.contains('O',case=False, regex=False)==True]"
   ]
  },
  {
   "cell_type": "markdown",
   "metadata": {},
   "source": [
    "Trim \"Alamat e-mail\" to 150 char, \"Alamat Tempat Bekerja\" to 300 char"
   ]
  },
  {
   "cell_type": "code",
   "execution_count": null,
   "metadata": {},
   "outputs": [],
   "source": [
    "D01new['Alamat e-mail']=D01new['Alamat e-mail'].str[-149:]\n",
    "D01new['Alamat Tempat Bekerja']=D01new['Alamat Tempat Bekerja'].str[:299]"
   ]
  },
  {
   "cell_type": "markdown",
   "metadata": {},
   "source": [
    "Check if there is still \"Alamat e-mail\" and \"Alamat Tempat Bekerja\" with more than 150 and 300 char each"
   ]
  },
  {
   "cell_type": "code",
   "execution_count": null,
   "metadata": {},
   "outputs": [],
   "source": [
    "D01new['Alamat e-mail'][D01new['Alamat e-mail'].str.len()>=150]"
   ]
  },
  {
   "cell_type": "code",
   "execution_count": null,
   "metadata": {},
   "outputs": [],
   "source": [
    "D01new['Alamat Tempat Bekerja'][D01new['Alamat Tempat Bekerja'].str.len()>=300]"
   ]
  },
  {
   "cell_type": "code",
   "execution_count": null,
   "metadata": {},
   "outputs": [],
   "source": [
    "gelar_list = pd.read_csv('./data/gelar.csv')['index'].tolist()\n",
    "gelar_depan_list = pd.read_csv('./data/gelar_depan.csv')['index'].tolist()"
   ]
  },
  {
   "cell_type": "code",
   "execution_count": null,
   "metadata": {},
   "outputs": [],
   "source": [
    "def remove_gelar(nama):\n",
    "    nama_list = nama.split()\n",
    "    clear_output()\n",
    "    print(nama_list)\n",
    "    if nama_list[-1].lower() in gelar_list:\n",
    "        del nama_list[-1]\n",
    "    if nama_list[0].lower() in gelar_depan_list:\n",
    "        del nama_list[0]    \n",
    "        \n",
    "    return ' '.join(nama_list)"
   ]
  },
  {
   "cell_type": "code",
   "execution_count": null,
   "metadata": {},
   "outputs": [],
   "source": [
    "D01new[D01new['Nama Sesuai Identitas'].isna()]"
   ]
  },
  {
   "cell_type": "code",
   "execution_count": null,
   "metadata": {},
   "outputs": [],
   "source": [
    "D01new['Nama Sesuai Identitas'] = D01new['Nama Sesuai Identitas'].apply(remove_gelar)"
   ]
  },
  {
   "cell_type": "code",
   "execution_count": null,
   "metadata": {},
   "outputs": [],
   "source": [
    "D01new['Nama Gadis Ibu Kandung'] = D01new['Nama Gadis Ibu Kandung'].apply(remove_gelar)"
   ]
  },
  {
   "cell_type": "code",
   "execution_count": null,
   "metadata": {},
   "outputs": [],
   "source": [
    "F01new.to_csv(path_or_buf=raw_filename_F01, index=False)\n",
    "D01new.to_csv(path_or_buf=raw_filename_D01, index=False)"
   ]
  },
  {
   "cell_type": "code",
   "execution_count": null,
   "metadata": {},
   "outputs": [],
   "source": [
    "DataStorage.upload_notebooks_data(raw_filename_F01, 'kbij/'+pathname, 'f01'+datem+'.csv')"
   ]
  },
  {
   "cell_type": "code",
   "execution_count": null,
   "metadata": {},
   "outputs": [],
   "source": [
    "DataStorage.upload_notebooks_data(raw_filename_D01, 'kbij/'+pathname, 'd01'+datem+'.csv')"
   ]
  },
  {
   "cell_type": "markdown",
   "metadata": {},
   "source": [
    "# Load Data"
   ]
  },
  {
   "cell_type": "code",
   "execution_count": null,
   "metadata": {},
   "outputs": [],
   "source": [
    "DataStorage.download_notebooks_data(raw_filename_F01, 'kbij/'+pathname, 'f01'+datem+'.csv')"
   ]
  },
  {
   "cell_type": "code",
   "execution_count": null,
   "metadata": {},
   "outputs": [],
   "source": [
    "DataStorage.download_notebooks_data(raw_filename_D01, 'kbij/'+pathname, 'd01'+datem+'.csv')"
   ]
  },
  {
   "cell_type": "code",
   "execution_count": null,
   "metadata": {},
   "outputs": [],
   "source": [
    "F01new = pd.read_csv(raw_filename_F01, dtype=F01_dtype)\n",
    "D01new = pd.read_csv(raw_filename_D01, dtype=D01_dtype)"
   ]
  },
  {
   "cell_type": "code",
   "execution_count": null,
   "metadata": {},
   "outputs": [],
   "source": [
    "print(prev_filtered_filename_F01)\n",
    "print('kbij/'+prev_pathname)\n",
    "print('f01'+prev_datem+'_new_filtered.csv')"
   ]
  },
  {
   "cell_type": "code",
   "execution_count": null,
   "metadata": {},
   "outputs": [],
   "source": [
    "DataStorage.download_notebooks_data(prev_filtered_filename_F01, 'kbij/'+prev_pathname, 'f01'+prev_datem+'_new_filtered.csv')"
   ]
  },
  {
   "cell_type": "code",
   "execution_count": null,
   "metadata": {},
   "outputs": [],
   "source": [
    "DataStorage.download_notebooks_data(prev_filtered_filename_D01, 'kbij/'+prev_pathname, 'd01'+prev_datem+'_new_filtered.csv')"
   ]
  },
  {
   "cell_type": "code",
   "execution_count": null,
   "metadata": {},
   "outputs": [],
   "source": [
    "F01_prev = pd.read_csv(prev_filtered_filename_F01, dtype=F01_dtype)\n",
    "D01_prev = pd.read_csv(prev_filtered_filename_D01, dtype=D01_dtype)"
   ]
  },
  {
   "cell_type": "code",
   "execution_count": null,
   "metadata": {},
   "outputs": [],
   "source": [
    "print('D01new:',D01new.shape, 'F01new:',F01new.shape)\n",
    "print('D01_prev:',D01_prev.shape, 'F01_prev:',F01_prev.shape)"
   ]
  },
  {
   "cell_type": "markdown",
   "metadata": {
    "toc-hr-collapsed": false
   },
   "source": [
    "# Checking"
   ]
  },
  {
   "cell_type": "code",
   "execution_count": null,
   "metadata": {},
   "outputs": [],
   "source": [
    "F01new, D01new = kbij.checking_data(F01new, D01new, date, F01_prev=F01_prev, D01_prev=D01_prev)"
   ]
  },
  {
   "cell_type": "markdown",
   "metadata": {},
   "source": [
    "## Check column"
   ]
  },
  {
   "cell_type": "code",
   "execution_count": null,
   "metadata": {},
   "outputs": [],
   "source": [
    "F01new[(F01new['Jumlah Hari Tunggakan']==0) & (F01new['Frekuensi Tunggakan']>0)][['orderId','Jumlah Hari Tunggakan','Frekuensi Tunggakan','Approved Date','status']]"
   ]
  },
  {
   "cell_type": "code",
   "execution_count": null,
   "metadata": {},
   "outputs": [],
   "source": []
  },
  {
   "cell_type": "code",
   "execution_count": null,
   "metadata": {},
   "outputs": [],
   "source": [
    "F01new[(F01new['Tunggakan Pokok']>0) & (F01new['Kode Kualitas Kredit atau Pembiayaan']=='1') & (F01new['Kode Kondisi']=='00')][['orderId','Denda','Kode Kualitas Kredit atau Pembiayaan','Kode Kondisi','dayPastDue']]"
   ]
  },
  {
   "cell_type": "code",
   "execution_count": null,
   "metadata": {},
   "outputs": [],
   "source": [
    "F01new[(F01new['Denda']==0) & (F01new['Kode Kualitas Kredit atau Pembiayaan']!='1') & (F01new['Kode Kondisi']=='00')][['orderId','Denda','Kode Kualitas Kredit atau Pembiayaan','Kode Kondisi','dayPastDue']]"
   ]
  },
  {
   "cell_type": "code",
   "execution_count": null,
   "metadata": {},
   "outputs": [],
   "source": [
    "F01new[(F01new['Tunggakan Bunga atau Imbalan']==0) & (F01new['Kode Kualitas Kredit atau Pembiayaan']!='1') & (F01new['Kode Kondisi']=='00')][['orderId','Tunggakan Bunga atau Imbalan','Denda','Kode Kualitas Kredit atau Pembiayaan','Kode Kondisi','dayPastDue']]"
   ]
  },
  {
   "cell_type": "code",
   "execution_count": null,
   "metadata": {},
   "outputs": [],
   "source": [
    "F01new[(F01new['Jumlah Hari Tunggakan']==0) & (F01new['Kode Kualitas Kredit atau Pembiayaan']=='2') & (F01new['Kode Kondisi']=='00')][['orderId','Denda','Kode Kualitas Kredit atau Pembiayaan','Kode Kondisi']]"
   ]
  },
  {
   "cell_type": "code",
   "execution_count": null,
   "metadata": {},
   "outputs": [],
   "source": [
    "F01new[(F01new['Frekuensi Tunggakan']==0) & (F01new['Kode Kualitas Kredit atau Pembiayaan']=='2') & (F01new['Kode Kondisi']=='00')][['orderId','Denda','Kode Kualitas Kredit atau Pembiayaan','Kode Kondisi']]"
   ]
  },
  {
   "cell_type": "code",
   "execution_count": null,
   "metadata": {},
   "outputs": [],
   "source": []
  },
  {
   "cell_type": "code",
   "execution_count": null,
   "metadata": {},
   "outputs": [],
   "source": [
    "F01new[(F01new['Denda']>0) & (F01new['Kode Kualitas Kredit atau Pembiayaan']!='1') & (F01new['Kode Kondisi']=='02')][['orderId','Denda','Kode Kualitas Kredit atau Pembiayaan','Kode Kondisi']]"
   ]
  },
  {
   "cell_type": "code",
   "execution_count": null,
   "metadata": {},
   "outputs": [],
   "source": [
    "F01new[(F01new['Tunggakan Bunga atau Imbalan']>0) & (F01new['Kode Kualitas Kredit atau Pembiayaan']!='1') & (F01new['Kode Kondisi']=='02')][['orderId','Denda','Kode Kualitas Kredit atau Pembiayaan','Kode Kondisi']]"
   ]
  },
  {
   "cell_type": "code",
   "execution_count": null,
   "metadata": {},
   "outputs": [],
   "source": [
    "F01new[(F01new['Kode Sebab Macet']=='99') & (F01new['Kode Kualitas Kredit atau Pembiayaan']=='1')][['orderId','Kode Sebab Macet','Kode Kualitas Kredit atau Pembiayaan']]"
   ]
  },
  {
   "cell_type": "code",
   "execution_count": null,
   "metadata": {},
   "outputs": [],
   "source": [
    "F01new[(~F01new['Tanggal Macet'].isnull()) & (F01new['Kode Kualitas Kredit atau Pembiayaan']=='1')][['orderId','Tanggal Macet','Kode Kualitas Kredit atau Pembiayaan']]"
   ]
  },
  {
   "cell_type": "markdown",
   "metadata": {},
   "source": [
    "# Final File to Send to KBIJ D01 and F01"
   ]
  },
  {
   "cell_type": "markdown",
   "metadata": {},
   "source": [
    "Null check for CIF and NIK"
   ]
  },
  {
   "cell_type": "code",
   "execution_count": null,
   "metadata": {},
   "outputs": [],
   "source": [
    "D01new.loc[(D01new['Nomor CIF Debitur'].isna())|(D01new['Nama Lengkap'].isna())|(D01new['Tanggal Lahir'].isna())|(D01new['Nomor Identitas'].isna())]"
   ]
  },
  {
   "cell_type": "code",
   "execution_count": null,
   "metadata": {},
   "outputs": [],
   "source": [
    "D01new.drop(D01new.loc[(D01new['Nomor CIF Debitur'].isna())|(D01new['Nama Lengkap'].isna())|(D01new['Tanggal Lahir'].isna())|(D01new['Nomor Identitas'].isna())].index, inplace=True)"
   ]
  },
  {
   "cell_type": "code",
   "execution_count": null,
   "metadata": {},
   "outputs": [],
   "source": [
    "F01new.loc[F01new['Nomor CIF Debitur'].isna()]"
   ]
  },
  {
   "cell_type": "code",
   "execution_count": null,
   "metadata": {},
   "outputs": [],
   "source": [
    "F01new.drop(F01new.loc[F01new['Nomor CIF Debitur'].isna()].index, inplace=True)"
   ]
  },
  {
   "cell_type": "markdown",
   "metadata": {},
   "source": [
    "## Export full data dump to csv to be used in the next iteration"
   ]
  },
  {
   "cell_type": "code",
   "execution_count": null,
   "metadata": {},
   "outputs": [],
   "source": [
    "F01new.to_csv(path_or_buf=filtered_filename_F01, index=0)\n",
    "D01new.to_csv(path_or_buf=filtered_filename_D01, index=0)"
   ]
  },
  {
   "cell_type": "code",
   "execution_count": null,
   "metadata": {},
   "outputs": [],
   "source": [
    "DataStorage.upload_notebooks_data(filtered_filename_F01, 'kbij/'+pathname, 'f01'+datem+'_new_filtered.csv')"
   ]
  },
  {
   "cell_type": "code",
   "execution_count": null,
   "metadata": {},
   "outputs": [],
   "source": [
    "DataStorage.upload_notebooks_data(filtered_filename_D01, 'kbij/'+pathname, 'd01'+datem+'_new_filtered.csv')"
   ]
  },
  {
   "cell_type": "markdown",
   "metadata": {},
   "source": [
    "Export Latest Data"
   ]
  },
  {
   "cell_type": "code",
   "execution_count": null,
   "metadata": {},
   "outputs": [],
   "source": [
    "timestr = time.strftime(\"%Y%m%d-%H%M%S\")\n",
    "F01name = dirname+'/F01'+'-'+datem+'['+timestr+']'+'.txt'\n",
    "D01name = dirname+'/D01'+'-'+datem+'['+timestr+']'+'.txt'\n",
    "print(F01name,D01name)"
   ]
  },
  {
   "cell_type": "code",
   "execution_count": null,
   "metadata": {},
   "outputs": [],
   "source": [
    "F01new_sent=F01new[['Kode Jenis Pelapor', 'Kode Pelapor', 'Tahun Bulan Data',\n",
    "       'Kode Jenis Fasilitas', 'Nomor Rekening Fasilitas',\n",
    "       'Nomor Rekening Lama Fasilitas', 'Nomor CIF Debitur',\n",
    "       'Kode Sifat Kredit atau Pembiayaan',\n",
    "       'Kode Jenis Kredit atau Pembiayaan',\n",
    "       'Kode Akad Kredit atau Akad Pembiayaan', 'Nomor Akad Awal',\n",
    "       'Tanggal Akad Awal', 'Nomor Akad Akhir', 'Tanggal Akad Akhir',\n",
    "       'Frekuensi Perpanjangan Fasilitas Kredit atau Pembiayaan',\n",
    "       'Tanggal Awal Kredit atau Pembiayaan', 'Tanggal Mulai',\n",
    "       'Tanggal Jatuh Tempo', 'Kode Kategori Debitur', 'Kode Jenis Penggunaan',\n",
    "       'Kode Orientasi Penggunaan', 'Kode Sektor Ekonomi',\n",
    "       'Kode Kabupaten atau Kota Lokasi Proyek atau Penggunaan Kredit atau Pembiayaan',\n",
    "       'Nilai Proyek', 'Kode Valuta', 'Suku Bunga atau Imbalan',\n",
    "       'Jenis Suku Bunga atau Imbalan',\n",
    "       'Kredit atau Pembiayaan Program Pemerintah', 'Plafon Awal', 'Plafon',\n",
    "       'Realisasi atau Pencairan Bulan Berjalan', 'Denda', 'Baki Debet',\n",
    "       'Nilai dalam Mata Uang Asal', 'Kode Kualitas Kredit atau Pembiayaan',\n",
    "       'Tanggal Macet', 'Kode Sebab Macet', 'Tunggakan Pokok',\n",
    "       'Tunggakan Bunga atau Imbalan', 'Jumlah Hari Tunggakan',\n",
    "       'Frekuensi Tunggakan', 'Frekuensi Restrukturisasi',\n",
    "       'Tanggal Restrukturisasi Awal', 'Tanggal Restrukturisasi Akhir',\n",
    "       'Kode Cara Restrukturisasi', 'Kode Kondisi', 'Tanggal Kondisi',\n",
    "       'Keterangan', 'Kode Kantor Cabang', 'Operasi Data', 'Status delete',\n",
    "       'Create Date', 'Update Date']]\n",
    "D01new_sent=D01new[['Kode Jenis Pelapor', 'Kode Pelapor', 'Tahun Bulan Data',\n",
    "       'Nomor CIF Lama Debitur', 'Nomor CIF Debitur', 'Jenis Identitas',\n",
    "       'Nomor Identitas', 'Nama Sesuai Identitas', 'Nama Lengkap',\n",
    "       'Kode Status Pendidikan atau Gelar Debitur', 'Jenis Kelamin',\n",
    "       'Tempat Lahir', 'Tanggal Lahir', 'Nama Gadis Ibu Kandung', 'NPWP',\n",
    "       'Alamat', 'Kelurahan', 'Kecamatan', 'Kode Kabupaten atau Kota',\n",
    "       'Kode Pos', 'Nomor Telepon', 'Nomor Telepon Seluler', 'Alamat e-mail',\n",
    "       'Kode Negara Domisili', 'Kode Pekerjaan', 'Tempat Bekerja',\n",
    "       'Kode Bidang Usaha Tempat Bekerja', 'Alamat Tempat Bekerja',\n",
    "       'Kode Golongan Debitur', 'Status Perkawinan Debitur',\n",
    "       'Kode Kantor Cabang', 'Operasi Data', 'Status delete', 'Create Date',\n",
    "       'Update Date']]"
   ]
  },
  {
   "cell_type": "code",
   "execution_count": null,
   "metadata": {},
   "outputs": [],
   "source": [
    "D01new[D01new['Nama Sesuai Identitas']=='IBNU SIGIT SAPUTRO']"
   ]
  },
  {
   "cell_type": "code",
   "execution_count": null,
   "metadata": {},
   "outputs": [],
   "source": [
    "print(F01new_sent.shape)\n",
    "print(D01new_sent.shape)"
   ]
  },
  {
   "cell_type": "markdown",
   "metadata": {},
   "source": [
    "## Export file for KBIJ Reporting"
   ]
  },
  {
   "cell_type": "code",
   "execution_count": null,
   "metadata": {},
   "outputs": [],
   "source": [
    "D01new_sent.to_csv(path_or_buf=D01name, sep='|',index =0)\n",
    "F01new_sent.to_csv(path_or_buf=F01name, sep='|',index =0)"
   ]
  },
  {
   "cell_type": "code",
   "execution_count": null,
   "metadata": {},
   "outputs": [],
   "source": [
    "DataStorage.upload_notebooks_data(F01name, 'kbij/'+pathname, 'f01-'+datem+'.txt')"
   ]
  },
  {
   "cell_type": "code",
   "execution_count": null,
   "metadata": {},
   "outputs": [],
   "source": [
    "DataStorage.upload_notebooks_data(D01name, 'kbij/'+pathname, 'd01-'+datem+'.txt')"
   ]
  },
  {
   "cell_type": "code",
   "execution_count": null,
   "metadata": {},
   "outputs": [],
   "source": []
  },
  {
   "cell_type": "markdown",
   "metadata": {},
   "source": [
    "# Check Sent Data"
   ]
  },
  {
   "cell_type": "code",
   "execution_count": null,
   "metadata": {},
   "outputs": [],
   "source": [
    "F01_sent = pd.read_csv('./data202009/F01-202009[20201005-161933].txt',sep='|',dtype=F01_dtype)\n",
    "D01_sent = pd.read_csv('./data202009/D01-202009[20201005-161933].txt',sep='|',dtype=D01_dtype)"
   ]
  },
  {
   "cell_type": "code",
   "execution_count": null,
   "metadata": {},
   "outputs": [],
   "source": [
    "F01_sent[F01_sent['Tanggal Mulai'].isna()]"
   ]
  },
  {
   "cell_type": "code",
   "execution_count": null,
   "metadata": {},
   "outputs": [],
   "source": [
    "F01_sent[F01_sent['Tanggal Jatuh Tempo'].isna()]"
   ]
  },
  {
   "cell_type": "code",
   "execution_count": null,
   "metadata": {},
   "outputs": [],
   "source": [
    "DataStorage.download_notebooks_data('./'+prev_pathname+'/f01-'+prev_datem+'.txt', 'kbij/'+prev_pathname, 'f01-'+prev_datem+'.txt')"
   ]
  },
  {
   "cell_type": "code",
   "execution_count": null,
   "metadata": {},
   "outputs": [],
   "source": [
    "DataStorage.download_notebooks_data('./'+prev_pathname+'/d01-'+prev_datem+'.txt', 'kbij/'+prev_pathname, 'd01-'+prev_datem+'.txt')"
   ]
  },
  {
   "cell_type": "code",
   "execution_count": null,
   "metadata": {},
   "outputs": [],
   "source": [
    "F01_prev_sent = pd.read_csv('./'+prev_pathname+'/f01-'+prev_datem+'.txt',sep='|',dtype=F01_dtype)\n",
    "D01_prev_sent = pd.read_csv('./'+prev_pathname+'/d01-'+prev_datem+'.txt',sep='|',dtype=D01_dtype)"
   ]
  },
  {
   "cell_type": "code",
   "execution_count": null,
   "metadata": {},
   "outputs": [],
   "source": [
    "print('D01_sent:',D01_sent.shape, 'F01_sent:',F01_sent.shape)\n",
    "print('D01_prev_sent:',D01_prev_sent.shape, 'F01_prev_sent:',F01_prev_sent.shape)"
   ]
  },
  {
   "cell_type": "code",
   "execution_count": null,
   "metadata": {},
   "outputs": [],
   "source": [
    "F01_sent, D01_sent = kbij.checking_data(F01_sent, D01_sent, '2020-05-01', F01_prev=F01_prev_sent, D01_prev=D01_prev_sent)"
   ]
  },
  {
   "cell_type": "code",
   "execution_count": null,
   "metadata": {},
   "outputs": [],
   "source": [
    "D01_sent['Alamat e-mail'][D01_sent['Alamat e-mail'].str.len()>=150]"
   ]
  },
  {
   "cell_type": "code",
   "execution_count": null,
   "metadata": {},
   "outputs": [],
   "source": [
    "D01_sent['Alamat Tempat Bekerja'][D01_sent['Alamat Tempat Bekerja'].str.len()>=300]"
   ]
  },
  {
   "cell_type": "code",
   "execution_count": null,
   "metadata": {},
   "outputs": [],
   "source": [
    "F01_sent[F01_sent['Denda'].isna()]"
   ]
  },
  {
   "cell_type": "code",
   "execution_count": null,
   "metadata": {},
   "outputs": [],
   "source": [
    "F01_sent[F01_sent['Denda']==\"\"]"
   ]
  },
  {
   "cell_type": "code",
   "execution_count": null,
   "metadata": {},
   "outputs": [],
   "source": [
    "F01_sent[(F01_sent['Denda']>0) & (F01_sent['Kode Kondisi']=='01')][['Denda','Kode Kondisi']]"
   ]
  },
  {
   "cell_type": "code",
   "execution_count": null,
   "metadata": {},
   "outputs": [],
   "source": [
    "F01_sent[F01_sent['Tanggal Jatuh Tempo'].isna() | F01_sent['Tanggal Mulai'].isna()][['Tanggal Jatuh Tempo','Tanggal Mulai','Kode Kondisi']]"
   ]
  },
  {
   "cell_type": "code",
   "execution_count": null,
   "metadata": {},
   "outputs": [],
   "source": []
  }
 ],
 "metadata": {
  "kernelspec": {
   "display_name": "Python 3",
   "language": "python",
   "name": "python3"
  },
  "language_info": {
   "codemirror_mode": {
    "name": "ipython",
    "version": 3
   },
   "file_extension": ".py",
   "mimetype": "text/x-python",
   "name": "python",
   "nbconvert_exporter": "python",
   "pygments_lexer": "ipython3",
   "version": "3.7.3"
  },
  "toc-autonumbering": true,
  "toc-showmarkdowntxt": false
 },
 "nbformat": 4,
 "nbformat_minor": 4
}
