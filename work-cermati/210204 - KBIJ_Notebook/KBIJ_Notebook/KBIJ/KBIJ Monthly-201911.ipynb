{
 "cells": [
  {
   "cell_type": "code",
   "execution_count": 1,
   "metadata": {},
   "outputs": [],
   "source": [
    "import pandas as pd\n",
    "import numpy as np\n",
    "import json\n",
    "from datetime import datetime, timedelta\n",
    "import re\n",
    "import os,sys\n",
    "\n",
    "import kbij_helper as kbijh\n",
    "kbij = kbijh.KBIJ()\n",
    "\n",
    "import warnings\n",
    "warnings.filterwarnings('ignore')\n",
    "autostats_lib = \"../../../../artemis/autostats\"\n",
    "if autostats_lib not in sys.path:\n",
    "    sys.path.append(autostats_lib)\n",
    "\n",
    "from utilities.data_storage import DataStorage\n",
    "import time"
   ]
  },
  {
   "cell_type": "code",
   "execution_count": 2,
   "metadata": {},
   "outputs": [
    {
     "name": "stdout",
     "output_type": "stream",
     "text": [
      "The google.cloud.bigquery extension is already loaded. To reload it, use:\n",
      "  %reload_ext google.cloud.bigquery\n"
     ]
    }
   ],
   "source": [
    "%load_ext google.cloud.bigquery\n",
    "from google.cloud import bigquery, bigquery_storage_v1beta1\n",
    "DataStorage(os.environ[\"GOOGLE_APPLICATION_CREDENTIALS\"])\n",
    "\n",
    "from IPython.display import clear_output"
   ]
  },
  {
   "cell_type": "code",
   "execution_count": 3,
   "metadata": {},
   "outputs": [],
   "source": [
    "def get_key(my_dict, val):\n",
    "    keys_list = []\n",
    "    for key, value in my_dict.items(): \n",
    "         if val == value: \n",
    "             keys_list.append(key)\n",
    "  \n",
    "    return keys_list"
   ]
  },
  {
   "cell_type": "code",
   "execution_count": 4,
   "metadata": {},
   "outputs": [
    {
     "name": "stdout",
     "output_type": "stream",
     "text": [
      "201911\n"
     ]
    }
   ],
   "source": [
    "date = \"2019-11-01\"\n",
    "datem = pd.to_datetime(date)\n",
    "datem = datem.strftime(\"%Y%m\")\n",
    "print(datem)"
   ]
  },
  {
   "cell_type": "code",
   "execution_count": 5,
   "metadata": {},
   "outputs": [],
   "source": [
    "pathname = 'data'+datem\n",
    "dirname = './'+pathname"
   ]
  },
  {
   "cell_type": "code",
   "execution_count": 6,
   "metadata": {},
   "outputs": [],
   "source": [
    "raw_filename_F01 = dirname+'/F01'+datem+'.csv'\n",
    "raw_filename_D01 = dirname+'/D01'+datem+'.csv'"
   ]
  },
  {
   "cell_type": "code",
   "execution_count": null,
   "metadata": {},
   "outputs": [],
   "source": [
    "filtered_filename_F01 = dirname+'/F01'+datem+'_new_filtered.csv'\n",
    "filtered_filename_D01 = dirname+'/D01'+datem+'_new_filtered.csv'"
   ]
  },
  {
   "cell_type": "code",
   "execution_count": 7,
   "metadata": {},
   "outputs": [],
   "source": [
    "F01_dtype = {'Kode Jenis Pelapor': 'object',\n",
    " 'Kode Pelapor': 'object',\n",
    " 'Tahun Bulan Data': 'object',\n",
    " 'Kode Jenis Fasilitas': 'object',\n",
    " 'Nomor Rekening Fasilitas': 'object',\n",
    " 'Nomor Rekening Lama Fasilitas': 'object',\n",
    " 'Nomor CIF Debitur': 'object',\n",
    " 'Kode Sifat Kredit atau Pembiayaan': 'str',\n",
    " 'Kode Jenis Kredit atau Pembiayaan': 'str',\n",
    " 'Kode Akad Kredit atau Akad Pembiayaan': 'object',\n",
    " 'Nomor Akad Awal': 'object',\n",
    " 'Tanggal Akad Awal': 'object',\n",
    " 'Nomor Akad Akhir': 'object',\n",
    " 'Tanggal Akad Akhir': 'object',\n",
    " 'Frekuensi Perpanjangan Fasilitas Kredit atau Pembiayaan': 'int64',\n",
    " 'Tanggal Awal Kredit atau Pembiayaan': 'object',\n",
    " 'Tanggal Mulai': 'object',\n",
    " 'Tanggal Jatuh Tempo': 'object',\n",
    " 'Kode Kategori Debitur': 'object',\n",
    " 'Kode Jenis Penggunaan': 'str',\n",
    " 'Kode Orientasi Penggunaan': 'str',\n",
    " 'Kode Sektor Ekonomi': 'object',\n",
    " 'Kode Kabupaten atau Kota Lokasi Proyek atau Penggunaan Kredit atau Pembiayaan': 'object',\n",
    " 'Nilai Proyek': 'object',\n",
    " 'Kode Valuta': 'object',\n",
    " 'Suku Bunga atau Imbalan': 'float64',\n",
    " 'Jenis Suku Bunga atau Imbalan': 'int64',\n",
    " 'Kredit atau Pembiayaan Program Pemerintah': 'object',\n",
    " 'Plafon Awal': 'float64',\n",
    " 'Plafon': 'float64',\n",
    " 'Realisasi atau Pencairan Bulan Berjalan': 'float64',\n",
    " 'Denda': 'float64',\n",
    " 'Baki Debet': 'float64',\n",
    " 'Nilai dalam Mata Uang Asal': 'object',\n",
    " 'Kode Kualitas Kredit atau Pembiayaan': 'str',\n",
    " 'Tanggal Macet': 'object',\n",
    " 'Kode Sebab Macet': 'str',\n",
    " 'Tunggakan Pokok': 'int64',\n",
    " 'Tunggakan Bunga atau Imbalan': 'int64',\n",
    " 'Jumlah Hari Tunggakan': 'int64',\n",
    " 'Frekuensi Tunggakan': 'int64',\n",
    " 'Frekuensi Restrukturisasi': 'int64',\n",
    " 'Tanggal Restrukturisasi Awal': 'object',\n",
    " 'Tanggal Restrukturisasi Akhir': 'object',\n",
    " 'Kode Cara Restrukturisasi': 'object',\n",
    " 'Kode Kondisi': 'object',\n",
    " 'Tanggal Kondisi': 'object',\n",
    " 'Keterangan': 'object',\n",
    " 'Kode Kantor Cabang': 'object',\n",
    " 'Operasi Data': 'object',\n",
    " 'Status delete': 'object',\n",
    " 'Create Date': 'str',\n",
    " 'Update Date': 'str',\n",
    " 'Approved Date': 'str',\n",
    " 'userId': 'object',\n",
    " 'orderId': 'object',\n",
    " 'status': 'object'}\n",
    "\n",
    "D01_dtype = {'Kode Jenis Pelapor': 'object',\n",
    " 'Kode Pelapor': 'object',\n",
    " 'Tahun Bulan Data': 'object',\n",
    " 'Nomor CIF Lama Debitur': 'object',\n",
    " 'Nomor CIF Debitur': 'object',\n",
    " 'Jenis Identitas': 'int64',\n",
    " 'Nomor Identitas': 'object',\n",
    " 'Nama Sesuai Identitas': 'object',\n",
    " 'Nama Lengkap': 'object',\n",
    " 'Kode Status Pendidikan atau Gelar Debitur': 'object',\n",
    " 'Jenis Kelamin': 'object',\n",
    " 'Tempat Lahir': 'object',\n",
    " 'Tanggal Lahir': 'object',\n",
    " 'Nama Gadis Ibu Kandung': 'object',\n",
    " 'NPWP': 'object',\n",
    " 'Alamat': 'object',\n",
    " 'Kelurahan': 'object',\n",
    " 'Kecamatan': 'object',\n",
    " 'Kode Kabupaten atau Kota': 'object',\n",
    " 'Kode Pos': 'object',\n",
    " 'Nomor Telepon': 'object',\n",
    " 'Nomor Telepon Seluler': 'object',\n",
    " 'Alamat email': 'object',\n",
    " 'Kode Negara Domisili': 'object',\n",
    " 'Kode Pekerjaan': 'object',\n",
    " 'Tempat Bekerja': 'object',\n",
    " 'Kode Bidang Usaha Tempat Bekerja': 'object',\n",
    " 'Alamat Tempat Bekerja': 'object',\n",
    " 'Kode Golongan Debitur': 'object',\n",
    " 'Status Perkawinan Debitur': 'int64',\n",
    " 'Kode Kantor Cabang': 'object',\n",
    " 'Operasi Data': 'object',\n",
    " 'Status delete': 'object',\n",
    " 'Create Date': 'str',\n",
    " 'Update Date': 'str',\n",
    " 'Approved Date': 'str',\n",
    " 'userId': 'object',\n",
    " 'orderId': 'object',\n",
    " 'status': 'object'}"
   ]
  },
  {
   "cell_type": "markdown",
   "metadata": {},
   "source": [
    "Data Preparation Process for D01 and F01 KBIJ =\n",
    "1. Import previous data \n",
    "2. Import full data dump from query \n",
    "3. Find Delta between new data dump and previous data \n",
    "4. Export delta to csv and send to KBIJ \n",
    "5. Export full data dump to csv to be used in the next iteration"
   ]
  },
  {
   "cell_type": "markdown",
   "metadata": {},
   "source": [
    "# Query"
   ]
  },
  {
   "cell_type": "markdown",
   "metadata": {},
   "source": [
    "Get new F01 and D01 from redash"
   ]
  },
  {
   "cell_type": "markdown",
   "metadata": {},
   "source": [
    "## F01 Current Data"
   ]
  },
  {
   "cell_type": "code",
   "execution_count": 5,
   "metadata": {},
   "outputs": [
    {
     "name": "stdout",
     "output_type": "stream",
     "text": [
      "[get_F01_data] Query from BigQuery takes 58.31416583061218\n"
     ]
    }
   ],
   "source": [
    "F01new = kbij.get_F01_data('\"'+date+'\"')"
   ]
  },
  {
   "cell_type": "markdown",
   "metadata": {},
   "source": [
    "## D01 Current Data"
   ]
  },
  {
   "cell_type": "code",
   "execution_count": 6,
   "metadata": {},
   "outputs": [
    {
     "name": "stdout",
     "output_type": "stream",
     "text": [
      "[get_D01_data] Query from BigQuery takes 51.39160776138306\n"
     ]
    }
   ],
   "source": [
    "D01new = kbij.get_D01_data('\"'+date+'\"')"
   ]
  },
  {
   "cell_type": "markdown",
   "metadata": {},
   "source": [
    "# Data Preparation"
   ]
  },
  {
   "cell_type": "code",
   "execution_count": 7,
   "metadata": {},
   "outputs": [
    {
     "name": "stdout",
     "output_type": "stream",
     "text": [
      "(116806, 69)\n"
     ]
    }
   ],
   "source": [
    "print(F01new.shape)\n",
    "a=[]\n",
    "for i in F01new.columns:\n",
    "    a.append(i.replace('_',' '))\n",
    "F01new.columns = a"
   ]
  },
  {
   "cell_type": "code",
   "execution_count": 8,
   "metadata": {},
   "outputs": [
    {
     "name": "stdout",
     "output_type": "stream",
     "text": [
      "(90712, 40)\n"
     ]
    }
   ],
   "source": [
    "print(D01new.shape)\n",
    "a=[]\n",
    "for i in D01new.columns:\n",
    "    a.append(i.replace('_',' '))\n",
    "D01new.columns = a"
   ]
  },
  {
   "cell_type": "code",
   "execution_count": 9,
   "metadata": {},
   "outputs": [],
   "source": [
    "for col in get_key(F01_dtype, 'object'):\n",
    "    F01new[col] = F01new[col].str.strip()"
   ]
  },
  {
   "cell_type": "code",
   "execution_count": 10,
   "metadata": {},
   "outputs": [],
   "source": [
    "for col in get_key(D01_dtype, 'object'):\n",
    "    D01new[col] = D01new[col].str.strip()"
   ]
  },
  {
   "cell_type": "code",
   "execution_count": 11,
   "metadata": {},
   "outputs": [],
   "source": [
    "F01new = F01new.replace('\\n','', regex=True)\n",
    "D01new = D01new.replace('\\n','', regex=True)"
   ]
  },
  {
   "cell_type": "code",
   "execution_count": 12,
   "metadata": {},
   "outputs": [],
   "source": [
    "F01new = F01new.replace('\\t','', regex=True)\n",
    "D01new = D01new.replace('\\t','', regex=True)"
   ]
  },
  {
   "cell_type": "code",
   "execution_count": 13,
   "metadata": {},
   "outputs": [],
   "source": [
    "D01new.rename(columns={\"Alamat email\": \"Alamat e-mail\"}, inplace=True)"
   ]
  },
  {
   "cell_type": "code",
   "execution_count": 14,
   "metadata": {},
   "outputs": [],
   "source": [
    "gelar_list = pd.read_csv('./data/gelar.csv')['index'].tolist()\n",
    "gelar_depan_list = pd.read_csv('./data/gelar_depan.csv')['index'].tolist()"
   ]
  },
  {
   "cell_type": "code",
   "execution_count": 15,
   "metadata": {},
   "outputs": [],
   "source": [
    "def remove_gelar(nama):\n",
    "    nama_list = nama.split()\n",
    "    clear_output()\n",
    "    print(nama_list)\n",
    "    if nama_list[-1] in gelar_list:\n",
    "        del nama_list[-1]\n",
    "    if nama_list[0] in gelar_depan_list:\n",
    "        del nama_list[0]    \n",
    "        \n",
    "    return ' '.join(nama_list)"
   ]
  },
  {
   "cell_type": "code",
   "execution_count": null,
   "metadata": {},
   "outputs": [
    {
     "name": "stdout",
     "output_type": "stream",
     "text": [
      "['ARROW', 'RISANG', 'PAMUNGKAS']"
     ]
    }
   ],
   "source": [
    "D01new['Nama Sesuai Identitas'] = D01new['Nama Sesuai Identitas'].apply(remove_gelar)"
   ]
  },
  {
   "cell_type": "code",
   "execution_count": null,
   "metadata": {},
   "outputs": [
    {
     "name": "stdout",
     "output_type": "stream",
     "text": [
      "['LIES', 'MARIA', 'ARIES']"
     ]
    }
   ],
   "source": [
    "D01new['Nama Gadis Ibu Kandung'] = D01new['Nama Gadis Ibu Kandung'].apply(remove_gelar)"
   ]
  },
  {
   "cell_type": "code",
   "execution_count": 19,
   "metadata": {},
   "outputs": [],
   "source": [
    "F01new.to_csv(path_or_buf=raw_filename_F01, index=False)\n",
    "D01new.to_csv(path_or_buf=raw_filename_D01, index=False)"
   ]
  },
  {
   "cell_type": "code",
   "execution_count": 6,
   "metadata": {},
   "outputs": [
    {
     "name": "stdout",
     "output_type": "stream",
     "text": [
      "File ./data201911/F01201911.csv version 1 uploaded to notebooks/kbij/data201911/f01201911.csv.\n"
     ]
    }
   ],
   "source": [
    "DataStorage.upload_notebooks_data(raw_filename_F01, 'kbij/'+pathname, 'f01'+datem+'.csv')"
   ]
  },
  {
   "cell_type": "code",
   "execution_count": 7,
   "metadata": {},
   "outputs": [
    {
     "name": "stdout",
     "output_type": "stream",
     "text": [
      "File ./data201911/D01201911.csv version 1 uploaded to notebooks/kbij/data201911/d01201911.csv.\n"
     ]
    }
   ],
   "source": [
    "DataStorage.upload_notebooks_data(raw_filename_D01, 'kbij/'+pathname, 'd01'+datem+'.csv')"
   ]
  },
  {
   "cell_type": "markdown",
   "metadata": {},
   "source": [
    "# Load Data"
   ]
  },
  {
   "cell_type": "code",
   "execution_count": 8,
   "metadata": {},
   "outputs": [
    {
     "name": "stdout",
     "output_type": "stream",
     "text": [
      "Blob notebooks/kbij/data201911/f01201911.csv version LATEST downloaded to ./data201911/F01201911.csv.\n"
     ]
    }
   ],
   "source": [
    "DataStorage.download_notebooks_data(raw_filename_F01, 'kbij/'+pathname, 'f01'+datem+'.csv')"
   ]
  },
  {
   "cell_type": "code",
   "execution_count": 9,
   "metadata": {},
   "outputs": [
    {
     "name": "stdout",
     "output_type": "stream",
     "text": [
      "Blob notebooks/kbij/data201911/d01201911.csv version LATEST downloaded to ./data201911/D01201911.csv.\n"
     ]
    }
   ],
   "source": [
    "DataStorage.download_notebooks_data(raw_filename_D01, 'kbij/'+pathname, 'd01'+datem+'.csv')"
   ]
  },
  {
   "cell_type": "code",
   "execution_count": 12,
   "metadata": {},
   "outputs": [],
   "source": [
    "F01new = pd.read_csv(raw_filename_F01, dtype=F01_dtype)\n",
    "D01new = pd.read_csv(raw_filename_D01, dtype=D01_dtype)"
   ]
  },
  {
   "cell_type": "code",
   "execution_count": 6,
   "metadata": {},
   "outputs": [
    {
     "name": "stdout",
     "output_type": "stream",
     "text": [
      "D01new: (90712, 40) F01new: (116806, 69)\n"
     ]
    }
   ],
   "source": [
    "print('D01new:',D01new.shape, 'F01new:',F01new.shape)\n",
    "# print('D01_prev:',D01_prev.shape, 'F01_prev:',F01_prev.shape)"
   ]
  },
  {
   "cell_type": "markdown",
   "metadata": {
    "toc-hr-collapsed": false
   },
   "source": [
    "# Checking"
   ]
  },
  {
   "cell_type": "code",
   "execution_count": 7,
   "metadata": {},
   "outputs": [
    {
     "name": "stdout",
     "output_type": "stream",
     "text": [
      "================================================================================\n",
      "Check Nomor CIF Debitur in D01 and F01 \n",
      "\n",
      "[CLEAR]All Nomor CIF Debitur in D01 are exist in F01\n",
      "\n",
      "[DONE]\n",
      "================================================================================\n",
      "================================================================================\n",
      "Check Active Kode Kondisi but Baki Debet = 0 \n",
      "\n",
      "Found 16 Nomor Rekening Fasilitas\n",
      "Set Kode Kondisi to not active\n",
      "\n",
      "[DONE]\n",
      "================================================================================\n",
      "================================================================================\n",
      "Check Not Active Kode Kondisi but Baki Debet > 0 \n",
      "\n",
      "[CLEAR]No Not Active Kode Kondisi but Baki Debet > 0\n",
      "\n",
      "[DONE]\n",
      "================================================================================\n",
      "================================================================================\n",
      "Check Baki Debet > Plafon Awal \n",
      "\n",
      "[CLEAR]No Baki Debet greater than Plafon Awal\n",
      "\n",
      "[DONE]\n",
      "================================================================================\n",
      "================================================================================\n",
      "Check Kode Kualitas Kredit atau Pembiayaan Macet but has no Tanggal Macet \n",
      "\n",
      "[CLEAR]No Kode Kualitas Kredit atau Pembiayaan Macet but has no Tanggal Macet\n",
      "\n",
      "[DONE]\n",
      "================================================================================\n",
      "================================================================================\n",
      "Check Denda = 0 but Kode Kode Kualitas Kredit atau Pembiayaan != 1 \n",
      "\n",
      "Found 1353 Nomor Rekening Fasilitas\n",
      "upload dataframe takes 6.977997064590454\n",
      "Dataframe Successfully Loaded to vayu_data_mart.testpandasgbq\n",
      "[get_late_fee] Query from BigQuery takes 2.2808210849761963\n",
      "\n",
      "[DONE]\n",
      "================================================================================\n",
      "================================================================================\n",
      "Check Tahun Bulan Data \n",
      "\n",
      "F01: ['201911']\n",
      "D01: ['201911']\n",
      "\n",
      "[DONE]\n",
      "================================================================================\n"
     ]
    }
   ],
   "source": [
    "F01new, D01new = kbij.checking_data(F01new, D01new, '2019-11-01', full=True)"
   ]
  },
  {
   "cell_type": "markdown",
   "metadata": {},
   "source": [
    "## Check column"
   ]
  },
  {
   "cell_type": "code",
   "execution_count": 8,
   "metadata": {},
   "outputs": [
    {
     "data": {
      "text/html": [
       "<div>\n",
       "<style scoped>\n",
       "    .dataframe tbody tr th:only-of-type {\n",
       "        vertical-align: middle;\n",
       "    }\n",
       "\n",
       "    .dataframe tbody tr th {\n",
       "        vertical-align: top;\n",
       "    }\n",
       "\n",
       "    .dataframe thead th {\n",
       "        text-align: right;\n",
       "    }\n",
       "</style>\n",
       "<table border=\"1\" class=\"dataframe\">\n",
       "  <thead>\n",
       "    <tr style=\"text-align: right;\">\n",
       "      <th></th>\n",
       "      <th>Nomor Rekening Fasilitas</th>\n",
       "      <th>Denda</th>\n",
       "    </tr>\n",
       "  </thead>\n",
       "  <tbody>\n",
       "  </tbody>\n",
       "</table>\n",
       "</div>"
      ],
      "text/plain": [
       "Empty DataFrame\n",
       "Columns: [Nomor Rekening Fasilitas, Denda]\n",
       "Index: []"
      ]
     },
     "execution_count": 8,
     "metadata": {},
     "output_type": "execute_result"
    }
   ],
   "source": [
    "F01new[F01new['Denda'].isnull()][['Nomor Rekening Fasilitas','Denda']]"
   ]
  },
  {
   "cell_type": "code",
   "execution_count": null,
   "metadata": {},
   "outputs": [],
   "source": []
  },
  {
   "cell_type": "code",
   "execution_count": 9,
   "metadata": {},
   "outputs": [
    {
     "data": {
      "text/html": [
       "<div>\n",
       "<style scoped>\n",
       "    .dataframe tbody tr th:only-of-type {\n",
       "        vertical-align: middle;\n",
       "    }\n",
       "\n",
       "    .dataframe tbody tr th {\n",
       "        vertical-align: top;\n",
       "    }\n",
       "\n",
       "    .dataframe thead th {\n",
       "        text-align: right;\n",
       "    }\n",
       "</style>\n",
       "<table border=\"1\" class=\"dataframe\">\n",
       "  <thead>\n",
       "    <tr style=\"text-align: right;\">\n",
       "      <th></th>\n",
       "      <th>orderId</th>\n",
       "      <th>Jumlah Hari Tunggakan</th>\n",
       "      <th>Frekuensi Tunggakan</th>\n",
       "      <th>Approved Date</th>\n",
       "      <th>status</th>\n",
       "    </tr>\n",
       "  </thead>\n",
       "  <tbody>\n",
       "  </tbody>\n",
       "</table>\n",
       "</div>"
      ],
      "text/plain": [
       "Empty DataFrame\n",
       "Columns: [orderId, Jumlah Hari Tunggakan, Frekuensi Tunggakan, Approved Date, status]\n",
       "Index: []"
      ]
     },
     "execution_count": 9,
     "metadata": {},
     "output_type": "execute_result"
    }
   ],
   "source": [
    "F01new[(F01new['Jumlah Hari Tunggakan']==0) & (F01new['Frekuensi Tunggakan']>0)][['orderId','Jumlah Hari Tunggakan','Frekuensi Tunggakan','Approved Date','status']]"
   ]
  },
  {
   "cell_type": "code",
   "execution_count": null,
   "metadata": {},
   "outputs": [],
   "source": []
  },
  {
   "cell_type": "code",
   "execution_count": 10,
   "metadata": {},
   "outputs": [
    {
     "data": {
      "text/html": [
       "<div>\n",
       "<style scoped>\n",
       "    .dataframe tbody tr th:only-of-type {\n",
       "        vertical-align: middle;\n",
       "    }\n",
       "\n",
       "    .dataframe tbody tr th {\n",
       "        vertical-align: top;\n",
       "    }\n",
       "\n",
       "    .dataframe thead th {\n",
       "        text-align: right;\n",
       "    }\n",
       "</style>\n",
       "<table border=\"1\" class=\"dataframe\">\n",
       "  <thead>\n",
       "    <tr style=\"text-align: right;\">\n",
       "      <th></th>\n",
       "      <th>orderId</th>\n",
       "      <th>Denda</th>\n",
       "      <th>Kode Kualitas Kredit atau Pembiayaan</th>\n",
       "      <th>Kode Kondisi</th>\n",
       "      <th>dayPastDue</th>\n",
       "    </tr>\n",
       "  </thead>\n",
       "  <tbody>\n",
       "  </tbody>\n",
       "</table>\n",
       "</div>"
      ],
      "text/plain": [
       "Empty DataFrame\n",
       "Columns: [orderId, Denda, Kode Kualitas Kredit atau Pembiayaan, Kode Kondisi, dayPastDue]\n",
       "Index: []"
      ]
     },
     "execution_count": 10,
     "metadata": {},
     "output_type": "execute_result"
    }
   ],
   "source": [
    "F01new[(F01new['Tunggakan Pokok']>0) & (F01new['Kode Kualitas Kredit atau Pembiayaan']=='1') & (F01new['Kode Kondisi']=='00')][['orderId','Denda','Kode Kualitas Kredit atau Pembiayaan','Kode Kondisi','dayPastDue']]"
   ]
  },
  {
   "cell_type": "code",
   "execution_count": 11,
   "metadata": {},
   "outputs": [
    {
     "data": {
      "text/html": [
       "<div>\n",
       "<style scoped>\n",
       "    .dataframe tbody tr th:only-of-type {\n",
       "        vertical-align: middle;\n",
       "    }\n",
       "\n",
       "    .dataframe tbody tr th {\n",
       "        vertical-align: top;\n",
       "    }\n",
       "\n",
       "    .dataframe thead th {\n",
       "        text-align: right;\n",
       "    }\n",
       "</style>\n",
       "<table border=\"1\" class=\"dataframe\">\n",
       "  <thead>\n",
       "    <tr style=\"text-align: right;\">\n",
       "      <th></th>\n",
       "      <th>orderId</th>\n",
       "      <th>Denda</th>\n",
       "      <th>Kode Kualitas Kredit atau Pembiayaan</th>\n",
       "      <th>Kode Kondisi</th>\n",
       "      <th>dayPastDue</th>\n",
       "    </tr>\n",
       "  </thead>\n",
       "  <tbody>\n",
       "    <tr>\n",
       "      <td>280</td>\n",
       "      <td>ATH-13SVCYFQ</td>\n",
       "      <td>0</td>\n",
       "      <td>5</td>\n",
       "      <td>00</td>\n",
       "      <td>239</td>\n",
       "    </tr>\n",
       "    <tr>\n",
       "      <td>392</td>\n",
       "      <td>ATH-14T7HLXJ</td>\n",
       "      <td>0</td>\n",
       "      <td>4</td>\n",
       "      <td>00</td>\n",
       "      <td>138</td>\n",
       "    </tr>\n",
       "    <tr>\n",
       "      <td>488</td>\n",
       "      <td>ATH-15PRH8ZH</td>\n",
       "      <td>0</td>\n",
       "      <td>5</td>\n",
       "      <td>00</td>\n",
       "      <td>333</td>\n",
       "    </tr>\n",
       "    <tr>\n",
       "      <td>609</td>\n",
       "      <td>ATH-16YXDVAJ</td>\n",
       "      <td>0</td>\n",
       "      <td>5</td>\n",
       "      <td>00</td>\n",
       "      <td>471</td>\n",
       "    </tr>\n",
       "    <tr>\n",
       "      <td>795</td>\n",
       "      <td>ATH-18J1TZ8J</td>\n",
       "      <td>0</td>\n",
       "      <td>4</td>\n",
       "      <td>00</td>\n",
       "      <td>131</td>\n",
       "    </tr>\n",
       "    <tr>\n",
       "      <td>...</td>\n",
       "      <td>...</td>\n",
       "      <td>...</td>\n",
       "      <td>...</td>\n",
       "      <td>...</td>\n",
       "      <td>...</td>\n",
       "    </tr>\n",
       "    <tr>\n",
       "      <td>116404</td>\n",
       "      <td>ATH-ZZK2E6BT</td>\n",
       "      <td>0</td>\n",
       "      <td>5</td>\n",
       "      <td>00</td>\n",
       "      <td>267</td>\n",
       "    </tr>\n",
       "    <tr>\n",
       "      <td>116447</td>\n",
       "      <td>ATH-ZZUUZB2S</td>\n",
       "      <td>0</td>\n",
       "      <td>3</td>\n",
       "      <td>00</td>\n",
       "      <td>106</td>\n",
       "    </tr>\n",
       "    <tr>\n",
       "      <td>116459</td>\n",
       "      <td>ATH-ZZY6HKK3</td>\n",
       "      <td>0</td>\n",
       "      <td>5</td>\n",
       "      <td>00</td>\n",
       "      <td>389</td>\n",
       "    </tr>\n",
       "    <tr>\n",
       "      <td>116516</td>\n",
       "      <td>EXT-T6USJQCK</td>\n",
       "      <td>0</td>\n",
       "      <td>2</td>\n",
       "      <td>00</td>\n",
       "      <td>88</td>\n",
       "    </tr>\n",
       "    <tr>\n",
       "      <td>116704</td>\n",
       "      <td>INS-NY8695N5</td>\n",
       "      <td>0</td>\n",
       "      <td>2</td>\n",
       "      <td>00</td>\n",
       "      <td>27</td>\n",
       "    </tr>\n",
       "  </tbody>\n",
       "</table>\n",
       "<p>1353 rows × 5 columns</p>\n",
       "</div>"
      ],
      "text/plain": [
       "             orderId Denda Kode Kualitas Kredit atau Pembiayaan Kode Kondisi  \\\n",
       "280     ATH-13SVCYFQ     0                                    5           00   \n",
       "392     ATH-14T7HLXJ     0                                    4           00   \n",
       "488     ATH-15PRH8ZH     0                                    5           00   \n",
       "609     ATH-16YXDVAJ     0                                    5           00   \n",
       "795     ATH-18J1TZ8J     0                                    4           00   \n",
       "...              ...   ...                                  ...          ...   \n",
       "116404  ATH-ZZK2E6BT     0                                    5           00   \n",
       "116447  ATH-ZZUUZB2S     0                                    3           00   \n",
       "116459  ATH-ZZY6HKK3     0                                    5           00   \n",
       "116516  EXT-T6USJQCK     0                                    2           00   \n",
       "116704  INS-NY8695N5     0                                    2           00   \n",
       "\n",
       "        dayPastDue  \n",
       "280            239  \n",
       "392            138  \n",
       "488            333  \n",
       "609            471  \n",
       "795            131  \n",
       "...            ...  \n",
       "116404         267  \n",
       "116447         106  \n",
       "116459         389  \n",
       "116516          88  \n",
       "116704          27  \n",
       "\n",
       "[1353 rows x 5 columns]"
      ]
     },
     "execution_count": 11,
     "metadata": {},
     "output_type": "execute_result"
    }
   ],
   "source": [
    "F01new[(F01new['Denda']==0) & (F01new['Kode Kualitas Kredit atau Pembiayaan']!='1') & (F01new['Kode Kondisi']=='00')][['orderId','Denda','Kode Kualitas Kredit atau Pembiayaan','Kode Kondisi','dayPastDue']]"
   ]
  },
  {
   "cell_type": "code",
   "execution_count": 12,
   "metadata": {},
   "outputs": [
    {
     "data": {
      "text/html": [
       "<div>\n",
       "<style scoped>\n",
       "    .dataframe tbody tr th:only-of-type {\n",
       "        vertical-align: middle;\n",
       "    }\n",
       "\n",
       "    .dataframe tbody tr th {\n",
       "        vertical-align: top;\n",
       "    }\n",
       "\n",
       "    .dataframe thead th {\n",
       "        text-align: right;\n",
       "    }\n",
       "</style>\n",
       "<table border=\"1\" class=\"dataframe\">\n",
       "  <thead>\n",
       "    <tr style=\"text-align: right;\">\n",
       "      <th></th>\n",
       "      <th>orderId</th>\n",
       "      <th>Denda</th>\n",
       "      <th>Tunggakan Bunga atau Imbalan</th>\n",
       "      <th>Kode Kualitas Kredit atau Pembiayaan</th>\n",
       "      <th>Kode Kondisi</th>\n",
       "    </tr>\n",
       "  </thead>\n",
       "  <tbody>\n",
       "    <tr>\n",
       "      <td>16264</td>\n",
       "      <td>ATH-5LEAQ3CS</td>\n",
       "      <td>661000</td>\n",
       "      <td>0</td>\n",
       "      <td>5</td>\n",
       "      <td>00</td>\n",
       "    </tr>\n",
       "    <tr>\n",
       "      <td>55684</td>\n",
       "      <td>ATH-GTBSMBMB</td>\n",
       "      <td>458000</td>\n",
       "      <td>0</td>\n",
       "      <td>4</td>\n",
       "      <td>00</td>\n",
       "    </tr>\n",
       "    <tr>\n",
       "      <td>73685</td>\n",
       "      <td>ATH-MW7D4MYP</td>\n",
       "      <td>950000</td>\n",
       "      <td>0</td>\n",
       "      <td>5</td>\n",
       "      <td>00</td>\n",
       "    </tr>\n",
       "    <tr>\n",
       "      <td>96628</td>\n",
       "      <td>ATH-UCQBBQMV</td>\n",
       "      <td>661000</td>\n",
       "      <td>0</td>\n",
       "      <td>5</td>\n",
       "      <td>00</td>\n",
       "    </tr>\n",
       "    <tr>\n",
       "      <td>104694</td>\n",
       "      <td>ATH-WMZPNWPX</td>\n",
       "      <td>661000</td>\n",
       "      <td>0</td>\n",
       "      <td>5</td>\n",
       "      <td>00</td>\n",
       "    </tr>\n",
       "    <tr>\n",
       "      <td>116466</td>\n",
       "      <td>EXT-2GYRELC2</td>\n",
       "      <td>475000</td>\n",
       "      <td>0</td>\n",
       "      <td>3</td>\n",
       "      <td>00</td>\n",
       "    </tr>\n",
       "    <tr>\n",
       "      <td>116469</td>\n",
       "      <td>EXT-3W91HEJB</td>\n",
       "      <td>195000</td>\n",
       "      <td>0</td>\n",
       "      <td>2</td>\n",
       "      <td>00</td>\n",
       "    </tr>\n",
       "    <tr>\n",
       "      <td>116470</td>\n",
       "      <td>EXT-52Z3T738</td>\n",
       "      <td>1.12e+06</td>\n",
       "      <td>0</td>\n",
       "      <td>2</td>\n",
       "      <td>00</td>\n",
       "    </tr>\n",
       "    <tr>\n",
       "      <td>116471</td>\n",
       "      <td>EXT-5F2H63S4</td>\n",
       "      <td>35000</td>\n",
       "      <td>0</td>\n",
       "      <td>2</td>\n",
       "      <td>00</td>\n",
       "    </tr>\n",
       "    <tr>\n",
       "      <td>116473</td>\n",
       "      <td>EXT-91VPMB6L</td>\n",
       "      <td>25000</td>\n",
       "      <td>0</td>\n",
       "      <td>2</td>\n",
       "      <td>00</td>\n",
       "    </tr>\n",
       "    <tr>\n",
       "      <td>116475</td>\n",
       "      <td>EXT-9NQ7VB8T</td>\n",
       "      <td>275000</td>\n",
       "      <td>0</td>\n",
       "      <td>2</td>\n",
       "      <td>00</td>\n",
       "    </tr>\n",
       "    <tr>\n",
       "      <td>116476</td>\n",
       "      <td>EXT-B1SNQHXC</td>\n",
       "      <td>195000</td>\n",
       "      <td>0</td>\n",
       "      <td>2</td>\n",
       "      <td>00</td>\n",
       "    </tr>\n",
       "    <tr>\n",
       "      <td>116480</td>\n",
       "      <td>EXT-BNPKYXHM</td>\n",
       "      <td>25000</td>\n",
       "      <td>0</td>\n",
       "      <td>2</td>\n",
       "      <td>00</td>\n",
       "    </tr>\n",
       "    <tr>\n",
       "      <td>116481</td>\n",
       "      <td>EXT-DY3DK6H5</td>\n",
       "      <td>475000</td>\n",
       "      <td>0</td>\n",
       "      <td>2</td>\n",
       "      <td>00</td>\n",
       "    </tr>\n",
       "    <tr>\n",
       "      <td>116484</td>\n",
       "      <td>EXT-FDRL8EKL</td>\n",
       "      <td>605000</td>\n",
       "      <td>0</td>\n",
       "      <td>2</td>\n",
       "      <td>00</td>\n",
       "    </tr>\n",
       "    <tr>\n",
       "      <td>116486</td>\n",
       "      <td>EXT-FV8Q86X6</td>\n",
       "      <td>415000</td>\n",
       "      <td>0</td>\n",
       "      <td>2</td>\n",
       "      <td>00</td>\n",
       "    </tr>\n",
       "    <tr>\n",
       "      <td>116490</td>\n",
       "      <td>EXT-HAEGGUK3</td>\n",
       "      <td>195000</td>\n",
       "      <td>0</td>\n",
       "      <td>2</td>\n",
       "      <td>00</td>\n",
       "    </tr>\n",
       "    <tr>\n",
       "      <td>116493</td>\n",
       "      <td>EXT-KXLZFWCK</td>\n",
       "      <td>295000</td>\n",
       "      <td>0</td>\n",
       "      <td>2</td>\n",
       "      <td>00</td>\n",
       "    </tr>\n",
       "    <tr>\n",
       "      <td>116494</td>\n",
       "      <td>EXT-L3GGAG9L</td>\n",
       "      <td>710000</td>\n",
       "      <td>0</td>\n",
       "      <td>2</td>\n",
       "      <td>00</td>\n",
       "    </tr>\n",
       "    <tr>\n",
       "      <td>116498</td>\n",
       "      <td>EXT-MC6DPRMJ</td>\n",
       "      <td>950000</td>\n",
       "      <td>0</td>\n",
       "      <td>2</td>\n",
       "      <td>00</td>\n",
       "    </tr>\n",
       "    <tr>\n",
       "      <td>116501</td>\n",
       "      <td>EXT-N4HYCN1L</td>\n",
       "      <td>950000</td>\n",
       "      <td>0</td>\n",
       "      <td>2</td>\n",
       "      <td>00</td>\n",
       "    </tr>\n",
       "    <tr>\n",
       "      <td>116503</td>\n",
       "      <td>EXT-Q9D6F6FA</td>\n",
       "      <td>55000</td>\n",
       "      <td>0</td>\n",
       "      <td>2</td>\n",
       "      <td>00</td>\n",
       "    </tr>\n",
       "    <tr>\n",
       "      <td>116504</td>\n",
       "      <td>EXT-QQEBFS5R</td>\n",
       "      <td>475000</td>\n",
       "      <td>0</td>\n",
       "      <td>3</td>\n",
       "      <td>00</td>\n",
       "    </tr>\n",
       "    <tr>\n",
       "      <td>116511</td>\n",
       "      <td>EXT-RMXVEEXQ</td>\n",
       "      <td>475000</td>\n",
       "      <td>0</td>\n",
       "      <td>2</td>\n",
       "      <td>00</td>\n",
       "    </tr>\n",
       "    <tr>\n",
       "      <td>116512</td>\n",
       "      <td>EXT-SBU6B9D4</td>\n",
       "      <td>355000</td>\n",
       "      <td>0</td>\n",
       "      <td>2</td>\n",
       "      <td>00</td>\n",
       "    </tr>\n",
       "    <tr>\n",
       "      <td>116513</td>\n",
       "      <td>EXT-SGTJREKP</td>\n",
       "      <td>475000</td>\n",
       "      <td>0</td>\n",
       "      <td>2</td>\n",
       "      <td>00</td>\n",
       "    </tr>\n",
       "    <tr>\n",
       "      <td>116514</td>\n",
       "      <td>EXT-SKSPY2SU</td>\n",
       "      <td>175000</td>\n",
       "      <td>0</td>\n",
       "      <td>2</td>\n",
       "      <td>00</td>\n",
       "    </tr>\n",
       "    <tr>\n",
       "      <td>116515</td>\n",
       "      <td>EXT-SZEY8KTL</td>\n",
       "      <td>40000</td>\n",
       "      <td>0</td>\n",
       "      <td>2</td>\n",
       "      <td>00</td>\n",
       "    </tr>\n",
       "    <tr>\n",
       "      <td>116516</td>\n",
       "      <td>EXT-T6USJQCK</td>\n",
       "      <td>0</td>\n",
       "      <td>0</td>\n",
       "      <td>2</td>\n",
       "      <td>00</td>\n",
       "    </tr>\n",
       "    <tr>\n",
       "      <td>116517</td>\n",
       "      <td>EXT-TECXY3RV</td>\n",
       "      <td>25000</td>\n",
       "      <td>0</td>\n",
       "      <td>2</td>\n",
       "      <td>00</td>\n",
       "    </tr>\n",
       "    <tr>\n",
       "      <td>116520</td>\n",
       "      <td>EXT-VERNXV7W</td>\n",
       "      <td>950000</td>\n",
       "      <td>0</td>\n",
       "      <td>2</td>\n",
       "      <td>00</td>\n",
       "    </tr>\n",
       "    <tr>\n",
       "      <td>116522</td>\n",
       "      <td>EXT-WVF2AJYN</td>\n",
       "      <td>25000</td>\n",
       "      <td>0</td>\n",
       "      <td>2</td>\n",
       "      <td>00</td>\n",
       "    </tr>\n",
       "    <tr>\n",
       "      <td>116523</td>\n",
       "      <td>EXT-XVJGMZ7J</td>\n",
       "      <td>25000</td>\n",
       "      <td>0</td>\n",
       "      <td>2</td>\n",
       "      <td>00</td>\n",
       "    </tr>\n",
       "    <tr>\n",
       "      <td>116527</td>\n",
       "      <td>EXT-ZUUXL2QT</td>\n",
       "      <td>395000</td>\n",
       "      <td>0</td>\n",
       "      <td>2</td>\n",
       "      <td>00</td>\n",
       "    </tr>\n",
       "  </tbody>\n",
       "</table>\n",
       "</div>"
      ],
      "text/plain": [
       "             orderId     Denda  Tunggakan Bunga atau Imbalan  \\\n",
       "16264   ATH-5LEAQ3CS    661000                             0   \n",
       "55684   ATH-GTBSMBMB    458000                             0   \n",
       "73685   ATH-MW7D4MYP    950000                             0   \n",
       "96628   ATH-UCQBBQMV    661000                             0   \n",
       "104694  ATH-WMZPNWPX    661000                             0   \n",
       "116466  EXT-2GYRELC2    475000                             0   \n",
       "116469  EXT-3W91HEJB    195000                             0   \n",
       "116470  EXT-52Z3T738  1.12e+06                             0   \n",
       "116471  EXT-5F2H63S4     35000                             0   \n",
       "116473  EXT-91VPMB6L     25000                             0   \n",
       "116475  EXT-9NQ7VB8T    275000                             0   \n",
       "116476  EXT-B1SNQHXC    195000                             0   \n",
       "116480  EXT-BNPKYXHM     25000                             0   \n",
       "116481  EXT-DY3DK6H5    475000                             0   \n",
       "116484  EXT-FDRL8EKL    605000                             0   \n",
       "116486  EXT-FV8Q86X6    415000                             0   \n",
       "116490  EXT-HAEGGUK3    195000                             0   \n",
       "116493  EXT-KXLZFWCK    295000                             0   \n",
       "116494  EXT-L3GGAG9L    710000                             0   \n",
       "116498  EXT-MC6DPRMJ    950000                             0   \n",
       "116501  EXT-N4HYCN1L    950000                             0   \n",
       "116503  EXT-Q9D6F6FA     55000                             0   \n",
       "116504  EXT-QQEBFS5R    475000                             0   \n",
       "116511  EXT-RMXVEEXQ    475000                             0   \n",
       "116512  EXT-SBU6B9D4    355000                             0   \n",
       "116513  EXT-SGTJREKP    475000                             0   \n",
       "116514  EXT-SKSPY2SU    175000                             0   \n",
       "116515  EXT-SZEY8KTL     40000                             0   \n",
       "116516  EXT-T6USJQCK         0                             0   \n",
       "116517  EXT-TECXY3RV     25000                             0   \n",
       "116520  EXT-VERNXV7W    950000                             0   \n",
       "116522  EXT-WVF2AJYN     25000                             0   \n",
       "116523  EXT-XVJGMZ7J     25000                             0   \n",
       "116527  EXT-ZUUXL2QT    395000                             0   \n",
       "\n",
       "       Kode Kualitas Kredit atau Pembiayaan Kode Kondisi  \n",
       "16264                                     5           00  \n",
       "55684                                     4           00  \n",
       "73685                                     5           00  \n",
       "96628                                     5           00  \n",
       "104694                                    5           00  \n",
       "116466                                    3           00  \n",
       "116469                                    2           00  \n",
       "116470                                    2           00  \n",
       "116471                                    2           00  \n",
       "116473                                    2           00  \n",
       "116475                                    2           00  \n",
       "116476                                    2           00  \n",
       "116480                                    2           00  \n",
       "116481                                    2           00  \n",
       "116484                                    2           00  \n",
       "116486                                    2           00  \n",
       "116490                                    2           00  \n",
       "116493                                    2           00  \n",
       "116494                                    2           00  \n",
       "116498                                    2           00  \n",
       "116501                                    2           00  \n",
       "116503                                    2           00  \n",
       "116504                                    3           00  \n",
       "116511                                    2           00  \n",
       "116512                                    2           00  \n",
       "116513                                    2           00  \n",
       "116514                                    2           00  \n",
       "116515                                    2           00  \n",
       "116516                                    2           00  \n",
       "116517                                    2           00  \n",
       "116520                                    2           00  \n",
       "116522                                    2           00  \n",
       "116523                                    2           00  \n",
       "116527                                    2           00  "
      ]
     },
     "execution_count": 12,
     "metadata": {},
     "output_type": "execute_result"
    }
   ],
   "source": [
    "F01new[(F01new['Tunggakan Bunga atau Imbalan']==0) & (F01new['Kode Kualitas Kredit atau Pembiayaan']!='1') & (F01new['Kode Kondisi']=='00')][['orderId','Denda','Tunggakan Bunga atau Imbalan','Kode Kualitas Kredit atau Pembiayaan','Kode Kondisi']]"
   ]
  },
  {
   "cell_type": "code",
   "execution_count": 13,
   "metadata": {},
   "outputs": [
    {
     "data": {
      "text/html": [
       "<div>\n",
       "<style scoped>\n",
       "    .dataframe tbody tr th:only-of-type {\n",
       "        vertical-align: middle;\n",
       "    }\n",
       "\n",
       "    .dataframe tbody tr th {\n",
       "        vertical-align: top;\n",
       "    }\n",
       "\n",
       "    .dataframe thead th {\n",
       "        text-align: right;\n",
       "    }\n",
       "</style>\n",
       "<table border=\"1\" class=\"dataframe\">\n",
       "  <thead>\n",
       "    <tr style=\"text-align: right;\">\n",
       "      <th></th>\n",
       "      <th>orderId</th>\n",
       "      <th>Denda</th>\n",
       "      <th>Kode Kualitas Kredit atau Pembiayaan</th>\n",
       "      <th>Kode Kondisi</th>\n",
       "    </tr>\n",
       "  </thead>\n",
       "  <tbody>\n",
       "  </tbody>\n",
       "</table>\n",
       "</div>"
      ],
      "text/plain": [
       "Empty DataFrame\n",
       "Columns: [orderId, Denda, Kode Kualitas Kredit atau Pembiayaan, Kode Kondisi]\n",
       "Index: []"
      ]
     },
     "execution_count": 13,
     "metadata": {},
     "output_type": "execute_result"
    }
   ],
   "source": [
    "F01new[(F01new['Jumlah Hari Tunggakan']==0) & (F01new['Kode Kualitas Kredit atau Pembiayaan']=='2') & (F01new['Kode Kondisi']=='00')][['orderId','Denda','Kode Kualitas Kredit atau Pembiayaan','Kode Kondisi']]"
   ]
  },
  {
   "cell_type": "code",
   "execution_count": 14,
   "metadata": {},
   "outputs": [
    {
     "data": {
      "text/html": [
       "<div>\n",
       "<style scoped>\n",
       "    .dataframe tbody tr th:only-of-type {\n",
       "        vertical-align: middle;\n",
       "    }\n",
       "\n",
       "    .dataframe tbody tr th {\n",
       "        vertical-align: top;\n",
       "    }\n",
       "\n",
       "    .dataframe thead th {\n",
       "        text-align: right;\n",
       "    }\n",
       "</style>\n",
       "<table border=\"1\" class=\"dataframe\">\n",
       "  <thead>\n",
       "    <tr style=\"text-align: right;\">\n",
       "      <th></th>\n",
       "      <th>orderId</th>\n",
       "      <th>Denda</th>\n",
       "      <th>Kode Kualitas Kredit atau Pembiayaan</th>\n",
       "      <th>Kode Kondisi</th>\n",
       "    </tr>\n",
       "  </thead>\n",
       "  <tbody>\n",
       "  </tbody>\n",
       "</table>\n",
       "</div>"
      ],
      "text/plain": [
       "Empty DataFrame\n",
       "Columns: [orderId, Denda, Kode Kualitas Kredit atau Pembiayaan, Kode Kondisi]\n",
       "Index: []"
      ]
     },
     "execution_count": 14,
     "metadata": {},
     "output_type": "execute_result"
    }
   ],
   "source": [
    "F01new[(F01new['Frekuensi Tunggakan']==0) & (F01new['Kode Kualitas Kredit atau Pembiayaan']=='2') & (F01new['Kode Kondisi']=='00')][['orderId','Denda','Kode Kualitas Kredit atau Pembiayaan','Kode Kondisi']]"
   ]
  },
  {
   "cell_type": "code",
   "execution_count": null,
   "metadata": {},
   "outputs": [],
   "source": []
  },
  {
   "cell_type": "code",
   "execution_count": 15,
   "metadata": {},
   "outputs": [
    {
     "data": {
      "text/html": [
       "<div>\n",
       "<style scoped>\n",
       "    .dataframe tbody tr th:only-of-type {\n",
       "        vertical-align: middle;\n",
       "    }\n",
       "\n",
       "    .dataframe tbody tr th {\n",
       "        vertical-align: top;\n",
       "    }\n",
       "\n",
       "    .dataframe thead th {\n",
       "        text-align: right;\n",
       "    }\n",
       "</style>\n",
       "<table border=\"1\" class=\"dataframe\">\n",
       "  <thead>\n",
       "    <tr style=\"text-align: right;\">\n",
       "      <th></th>\n",
       "      <th>orderId</th>\n",
       "      <th>Denda</th>\n",
       "      <th>Kode Kualitas Kredit atau Pembiayaan</th>\n",
       "      <th>Kode Kondisi</th>\n",
       "    </tr>\n",
       "  </thead>\n",
       "  <tbody>\n",
       "  </tbody>\n",
       "</table>\n",
       "</div>"
      ],
      "text/plain": [
       "Empty DataFrame\n",
       "Columns: [orderId, Denda, Kode Kualitas Kredit atau Pembiayaan, Kode Kondisi]\n",
       "Index: []"
      ]
     },
     "execution_count": 15,
     "metadata": {},
     "output_type": "execute_result"
    }
   ],
   "source": [
    "F01new[(F01new['Denda']>0) & (F01new['Kode Kualitas Kredit atau Pembiayaan']!='1') & (F01new['Kode Kondisi']=='02')][['orderId','Denda','Kode Kualitas Kredit atau Pembiayaan','Kode Kondisi']]"
   ]
  },
  {
   "cell_type": "code",
   "execution_count": 16,
   "metadata": {},
   "outputs": [
    {
     "data": {
      "text/html": [
       "<div>\n",
       "<style scoped>\n",
       "    .dataframe tbody tr th:only-of-type {\n",
       "        vertical-align: middle;\n",
       "    }\n",
       "\n",
       "    .dataframe tbody tr th {\n",
       "        vertical-align: top;\n",
       "    }\n",
       "\n",
       "    .dataframe thead th {\n",
       "        text-align: right;\n",
       "    }\n",
       "</style>\n",
       "<table border=\"1\" class=\"dataframe\">\n",
       "  <thead>\n",
       "    <tr style=\"text-align: right;\">\n",
       "      <th></th>\n",
       "      <th>orderId</th>\n",
       "      <th>Denda</th>\n",
       "      <th>Kode Kualitas Kredit atau Pembiayaan</th>\n",
       "      <th>Kode Kondisi</th>\n",
       "    </tr>\n",
       "  </thead>\n",
       "  <tbody>\n",
       "  </tbody>\n",
       "</table>\n",
       "</div>"
      ],
      "text/plain": [
       "Empty DataFrame\n",
       "Columns: [orderId, Denda, Kode Kualitas Kredit atau Pembiayaan, Kode Kondisi]\n",
       "Index: []"
      ]
     },
     "execution_count": 16,
     "metadata": {},
     "output_type": "execute_result"
    }
   ],
   "source": [
    "F01new[(F01new['Tunggakan Bunga atau Imbalan']>0) & (F01new['Kode Kualitas Kredit atau Pembiayaan']!='1') & (F01new['Kode Kondisi']=='02')][['orderId','Denda','Kode Kualitas Kredit atau Pembiayaan','Kode Kondisi']]"
   ]
  },
  {
   "cell_type": "code",
   "execution_count": 17,
   "metadata": {},
   "outputs": [
    {
     "data": {
      "text/html": [
       "<div>\n",
       "<style scoped>\n",
       "    .dataframe tbody tr th:only-of-type {\n",
       "        vertical-align: middle;\n",
       "    }\n",
       "\n",
       "    .dataframe tbody tr th {\n",
       "        vertical-align: top;\n",
       "    }\n",
       "\n",
       "    .dataframe thead th {\n",
       "        text-align: right;\n",
       "    }\n",
       "</style>\n",
       "<table border=\"1\" class=\"dataframe\">\n",
       "  <thead>\n",
       "    <tr style=\"text-align: right;\">\n",
       "      <th></th>\n",
       "      <th>orderId</th>\n",
       "      <th>Kode Sebab Macet</th>\n",
       "      <th>Kode Kualitas Kredit atau Pembiayaan</th>\n",
       "    </tr>\n",
       "  </thead>\n",
       "  <tbody>\n",
       "  </tbody>\n",
       "</table>\n",
       "</div>"
      ],
      "text/plain": [
       "Empty DataFrame\n",
       "Columns: [orderId, Kode Sebab Macet, Kode Kualitas Kredit atau Pembiayaan]\n",
       "Index: []"
      ]
     },
     "execution_count": 17,
     "metadata": {},
     "output_type": "execute_result"
    }
   ],
   "source": [
    "F01new[(F01new['Kode Sebab Macet']=='99') & (F01new['Kode Kualitas Kredit atau Pembiayaan']=='1')][['orderId','Kode Sebab Macet','Kode Kualitas Kredit atau Pembiayaan']]"
   ]
  },
  {
   "cell_type": "code",
   "execution_count": 18,
   "metadata": {},
   "outputs": [
    {
     "data": {
      "text/html": [
       "<div>\n",
       "<style scoped>\n",
       "    .dataframe tbody tr th:only-of-type {\n",
       "        vertical-align: middle;\n",
       "    }\n",
       "\n",
       "    .dataframe tbody tr th {\n",
       "        vertical-align: top;\n",
       "    }\n",
       "\n",
       "    .dataframe thead th {\n",
       "        text-align: right;\n",
       "    }\n",
       "</style>\n",
       "<table border=\"1\" class=\"dataframe\">\n",
       "  <thead>\n",
       "    <tr style=\"text-align: right;\">\n",
       "      <th></th>\n",
       "      <th>orderId</th>\n",
       "      <th>Tanggal Macet</th>\n",
       "      <th>Kode Kualitas Kredit atau Pembiayaan</th>\n",
       "    </tr>\n",
       "  </thead>\n",
       "  <tbody>\n",
       "  </tbody>\n",
       "</table>\n",
       "</div>"
      ],
      "text/plain": [
       "Empty DataFrame\n",
       "Columns: [orderId, Tanggal Macet, Kode Kualitas Kredit atau Pembiayaan]\n",
       "Index: []"
      ]
     },
     "execution_count": 18,
     "metadata": {},
     "output_type": "execute_result"
    }
   ],
   "source": [
    "F01new[(~F01new['Tanggal Macet'].isnull()) & (F01new['Kode Kualitas Kredit atau Pembiayaan']=='1')][['orderId','Tanggal Macet','Kode Kualitas Kredit atau Pembiayaan']]"
   ]
  },
  {
   "cell_type": "markdown",
   "metadata": {},
   "source": [
    "# Final File to Send to KBIJ D01 and F01"
   ]
  },
  {
   "cell_type": "markdown",
   "metadata": {},
   "source": [
    "Null check for CIF and NIK"
   ]
  },
  {
   "cell_type": "code",
   "execution_count": 19,
   "metadata": {},
   "outputs": [
    {
     "data": {
      "text/html": [
       "<div>\n",
       "<style scoped>\n",
       "    .dataframe tbody tr th:only-of-type {\n",
       "        vertical-align: middle;\n",
       "    }\n",
       "\n",
       "    .dataframe tbody tr th {\n",
       "        vertical-align: top;\n",
       "    }\n",
       "\n",
       "    .dataframe thead th {\n",
       "        text-align: right;\n",
       "    }\n",
       "</style>\n",
       "<table border=\"1\" class=\"dataframe\">\n",
       "  <thead>\n",
       "    <tr style=\"text-align: right;\">\n",
       "      <th></th>\n",
       "      <th>Kode Jenis Pelapor</th>\n",
       "      <th>Kode Pelapor</th>\n",
       "      <th>Tahun Bulan Data</th>\n",
       "      <th>Nomor CIF Lama Debitur</th>\n",
       "      <th>Nomor CIF Debitur</th>\n",
       "      <th>Jenis Identitas</th>\n",
       "      <th>Nomor Identitas</th>\n",
       "      <th>Nama Sesuai Identitas</th>\n",
       "      <th>Nama Lengkap</th>\n",
       "      <th>Kode Status Pendidikan atau Gelar Debitur</th>\n",
       "      <th>...</th>\n",
       "      <th>Kode Kantor Cabang</th>\n",
       "      <th>Operasi Data</th>\n",
       "      <th>Status delete</th>\n",
       "      <th>Create Date</th>\n",
       "      <th>Update Date</th>\n",
       "      <th>Approved Date</th>\n",
       "      <th>userId</th>\n",
       "      <th>orderId</th>\n",
       "      <th>paidoffDate</th>\n",
       "      <th>status</th>\n",
       "    </tr>\n",
       "  </thead>\n",
       "  <tbody>\n",
       "  </tbody>\n",
       "</table>\n",
       "<p>0 rows × 40 columns</p>\n",
       "</div>"
      ],
      "text/plain": [
       "Empty DataFrame\n",
       "Columns: [Kode Jenis Pelapor, Kode Pelapor, Tahun Bulan Data, Nomor CIF Lama Debitur, Nomor CIF Debitur, Jenis Identitas, Nomor Identitas, Nama Sesuai Identitas, Nama Lengkap, Kode Status Pendidikan atau Gelar Debitur, Jenis Kelamin, Tempat Lahir, Tanggal Lahir, Nama Gadis Ibu Kandung, NPWP, Alamat, Kelurahan, Kecamatan, Kode Kabupaten atau Kota, Kode Pos, Nomor Telepon, Nomor Telepon Seluler, Alamat e-mail, Kode Negara Domisili, Kode Pekerjaan, Tempat Bekerja, Kode Bidang Usaha Tempat Bekerja, Alamat Tempat Bekerja, Kode Golongan Debitur, Status Perkawinan Debitur, Kode Kantor Cabang, Operasi Data, Status delete, Create Date, Update Date, Approved Date, userId, orderId, paidoffDate, status]\n",
       "Index: []\n",
       "\n",
       "[0 rows x 40 columns]"
      ]
     },
     "execution_count": 19,
     "metadata": {},
     "output_type": "execute_result"
    }
   ],
   "source": [
    "D01new.loc[(D01new['Nomor CIF Debitur'].isna())|(D01new['Nama Lengkap'].isna())|(D01new['Tanggal Lahir'].isna())|(D01new['Nomor Identitas'].isna())]"
   ]
  },
  {
   "cell_type": "raw",
   "metadata": {},
   "source": [
    "D01new.loc[D01new['userId']=='83528963-c942-4f11-870c-66a424961881', ['Nomor CIF Lama Debitur', 'Nomor CIF Debitur']] = '8177481212127188'\n",
    "D01new.loc[D01new['userId']=='e8fb52d1-32d8-418f-8dc5-196e6f8e44e8', ['Nomor CIF Lama Debitur', 'Nomor CIF Debitur']] = '8177482213984747'"
   ]
  },
  {
   "cell_type": "code",
   "execution_count": 20,
   "metadata": {},
   "outputs": [
    {
     "data": {
      "text/html": [
       "<div>\n",
       "<style scoped>\n",
       "    .dataframe tbody tr th:only-of-type {\n",
       "        vertical-align: middle;\n",
       "    }\n",
       "\n",
       "    .dataframe tbody tr th {\n",
       "        vertical-align: top;\n",
       "    }\n",
       "\n",
       "    .dataframe thead th {\n",
       "        text-align: right;\n",
       "    }\n",
       "</style>\n",
       "<table border=\"1\" class=\"dataframe\">\n",
       "  <thead>\n",
       "    <tr style=\"text-align: right;\">\n",
       "      <th></th>\n",
       "      <th>orderId</th>\n",
       "      <th>Kode Jenis Pelapor</th>\n",
       "      <th>Kode Pelapor</th>\n",
       "      <th>Tahun Bulan Data</th>\n",
       "      <th>Kode Jenis Fasilitas</th>\n",
       "      <th>Nomor Rekening Fasilitas</th>\n",
       "      <th>Nomor Rekening Lama Fasilitas</th>\n",
       "      <th>Nomor CIF Debitur</th>\n",
       "      <th>Kode Sifat Kredit atau Pembiayaan</th>\n",
       "      <th>Kode Jenis Kredit atau Pembiayaan</th>\n",
       "      <th>...</th>\n",
       "      <th>lateFee</th>\n",
       "      <th>balanceWithInterest</th>\n",
       "      <th>balance</th>\n",
       "      <th>dataDate</th>\n",
       "      <th>jumlah cicilan</th>\n",
       "      <th>current payment periode month</th>\n",
       "      <th>count payment</th>\n",
       "      <th>paidoffDate</th>\n",
       "      <th>status</th>\n",
       "      <th>Tunggakan Pokok</th>\n",
       "    </tr>\n",
       "  </thead>\n",
       "  <tbody>\n",
       "  </tbody>\n",
       "</table>\n",
       "<p>0 rows × 69 columns</p>\n",
       "</div>"
      ],
      "text/plain": [
       "Empty DataFrame\n",
       "Columns: [orderId, Kode Jenis Pelapor, Kode Pelapor, Tahun Bulan Data, Kode Jenis Fasilitas, Nomor Rekening Fasilitas, Nomor Rekening Lama Fasilitas, Nomor CIF Debitur, Kode Sifat Kredit atau Pembiayaan, Kode Jenis Kredit atau Pembiayaan, Kode Akad Kredit atau Akad Pembiayaan, Nomor Akad Awal, Tanggal Akad Awal, Nomor Akad Akhir, Tanggal Akad Akhir, Frekuensi Perpanjangan Fasilitas Kredit atau Pembiayaan, Tanggal Awal Kredit atau Pembiayaan, Tanggal Mulai, Tanggal Jatuh Tempo, Kode Kategori Debitur, Kode Jenis Penggunaan, Kode Orientasi Penggunaan, Kode Sektor Ekonomi, Kode Kabupaten atau Kota Lokasi Proyek atau Penggunaan Kredit atau Pembiayaan, Nilai Proyek, Kode Valuta, Suku Bunga atau Imbalan, Jenis Suku Bunga atau Imbalan, Kredit atau Pembiayaan Program Pemerintah, Plafon Awal, Plafon, Realisasi atau Pencairan Bulan Berjalan, Denda, Baki Debet, Nilai dalam Mata Uang Asal, Kode Kualitas Kredit atau Pembiayaan, Tanggal Macet, Kode Sebab Macet, Tunggakan Bunga atau Imbalan, Jumlah Hari Tunggakan, Frekuensi Tunggakan, Frekuensi Restrukturisasi, Tanggal Restrukturisasi Awal, Tanggal Restrukturisasi Akhir, Kode Cara Restrukturisasi, Kode Kondisi, Tanggal Kondisi, Keterangan, Kode Kantor Cabang, Operasi Data, Status delete, Create Date, Update Date, Approved Date, userId, dayPastDue, approvedLoanAmount, approvedLoanTenureInMonth, maxdayPastDue, lateFee, balanceWithInterest, balance, dataDate, jumlah cicilan, current payment periode month, count payment, paidoffDate, status, Tunggakan Pokok]\n",
       "Index: []\n",
       "\n",
       "[0 rows x 69 columns]"
      ]
     },
     "execution_count": 20,
     "metadata": {},
     "output_type": "execute_result"
    }
   ],
   "source": [
    "F01new.loc[F01new['Nomor CIF Debitur'].isna()]"
   ]
  },
  {
   "cell_type": "raw",
   "metadata": {},
   "source": [
    "F01new.loc[F01new['userId']=='83528963-c942-4f11-870c-66a424961881', ['Nomor CIF Debitur']] = '8177481212127188'\n",
    "F01new.loc[F01new['userId']=='e8fb52d1-32d8-418f-8dc5-196e6f8e44e8', ['Nomor CIF Debitur']] = '8177482213984747'"
   ]
  },
  {
   "cell_type": "markdown",
   "metadata": {},
   "source": [
    "## Export full data dump to csv to be used in the next iteration"
   ]
  },
  {
   "cell_type": "code",
   "execution_count": 21,
   "metadata": {},
   "outputs": [],
   "source": [
    "F01new.to_csv(path_or_buf=filtered_filename_F01, index=0)\n",
    "D01new.to_csv(path_or_buf=filtered_filename_D01, index=0)"
   ]
  },
  {
   "cell_type": "code",
   "execution_count": 9,
   "metadata": {},
   "outputs": [
    {
     "name": "stdout",
     "output_type": "stream",
     "text": [
      "File ./data201911/F01201911_new_filtered.csv version 1 uploaded to notebooks/kbij/data201911/f01201911_new_filtered.csv.\n"
     ]
    }
   ],
   "source": [
    "DataStorage.upload_notebooks_data(filtered_filename_F01, 'kbij/'+pathname, 'f01'+datem+'_new_filtered.csv')"
   ]
  },
  {
   "cell_type": "code",
   "execution_count": 10,
   "metadata": {},
   "outputs": [
    {
     "name": "stdout",
     "output_type": "stream",
     "text": [
      "File ./data201911/D01201911_new_filtered.csv version 1 uploaded to notebooks/kbij/data201911/d01201911_new_filtered.csv.\n"
     ]
    }
   ],
   "source": [
    "DataStorage.upload_notebooks_data(filtered_filename_D01, 'kbij/'+pathname, 'd01'+datem+'_new_filtered.csv')"
   ]
  },
  {
   "cell_type": "markdown",
   "metadata": {},
   "source": [
    "Export Latest Data"
   ]
  },
  {
   "cell_type": "code",
   "execution_count": 24,
   "metadata": {},
   "outputs": [
    {
     "name": "stdout",
     "output_type": "stream",
     "text": [
      "./data201911/F01-201911[20200803-135111].txt ./data201911/D01-201911[20200803-135111].txt\n"
     ]
    }
   ],
   "source": [
    "timestr = time.strftime(\"%Y%m%d-%H%M%S\")\n",
    "F01name = dirname+'/F01'+'-'+datem+'['+timestr+']'+'.txt'\n",
    "D01name = dirname+'/D01'+'-'+datem+'['+timestr+']'+'.txt'\n",
    "print(F01name,D01name)"
   ]
  },
  {
   "cell_type": "code",
   "execution_count": 25,
   "metadata": {},
   "outputs": [],
   "source": [
    "F01new_sent=F01new[['Kode Jenis Pelapor', 'Kode Pelapor', 'Tahun Bulan Data',\n",
    "       'Kode Jenis Fasilitas', 'Nomor Rekening Fasilitas',\n",
    "       'Nomor Rekening Lama Fasilitas', 'Nomor CIF Debitur',\n",
    "       'Kode Sifat Kredit atau Pembiayaan',\n",
    "       'Kode Jenis Kredit atau Pembiayaan',\n",
    "       'Kode Akad Kredit atau Akad Pembiayaan', 'Nomor Akad Awal',\n",
    "       'Tanggal Akad Awal', 'Nomor Akad Akhir', 'Tanggal Akad Akhir',\n",
    "       'Frekuensi Perpanjangan Fasilitas Kredit atau Pembiayaan',\n",
    "       'Tanggal Awal Kredit atau Pembiayaan', 'Tanggal Mulai',\n",
    "       'Tanggal Jatuh Tempo', 'Kode Kategori Debitur', 'Kode Jenis Penggunaan',\n",
    "       'Kode Orientasi Penggunaan', 'Kode Sektor Ekonomi',\n",
    "       'Kode Kabupaten atau Kota Lokasi Proyek atau Penggunaan Kredit atau Pembiayaan',\n",
    "       'Nilai Proyek', 'Kode Valuta', 'Suku Bunga atau Imbalan',\n",
    "       'Jenis Suku Bunga atau Imbalan',\n",
    "       'Kredit atau Pembiayaan Program Pemerintah', 'Plafon Awal', 'Plafon',\n",
    "       'Realisasi atau Pencairan Bulan Berjalan', 'Denda', 'Baki Debet',\n",
    "       'Nilai dalam Mata Uang Asal', 'Kode Kualitas Kredit atau Pembiayaan',\n",
    "       'Tanggal Macet', 'Kode Sebab Macet', 'Tunggakan Pokok',\n",
    "       'Tunggakan Bunga atau Imbalan', 'Jumlah Hari Tunggakan',\n",
    "       'Frekuensi Tunggakan', 'Frekuensi Restrukturisasi',\n",
    "       'Tanggal Restrukturisasi Awal', 'Tanggal Restrukturisasi Akhir',\n",
    "       'Kode Cara Restrukturisasi', 'Kode Kondisi', 'Tanggal Kondisi',\n",
    "       'Keterangan', 'Kode Kantor Cabang', 'Operasi Data', 'Status delete',\n",
    "       'Create Date', 'Update Date']]\n",
    "D01new_sent=D01new[['Kode Jenis Pelapor', 'Kode Pelapor', 'Tahun Bulan Data',\n",
    "       'Nomor CIF Lama Debitur', 'Nomor CIF Debitur', 'Jenis Identitas',\n",
    "       'Nomor Identitas', 'Nama Sesuai Identitas', 'Nama Lengkap',\n",
    "       'Kode Status Pendidikan atau Gelar Debitur', 'Jenis Kelamin',\n",
    "       'Tempat Lahir', 'Tanggal Lahir', 'Nama Gadis Ibu Kandung', 'NPWP',\n",
    "       'Alamat', 'Kelurahan', 'Kecamatan', 'Kode Kabupaten atau Kota',\n",
    "       'Kode Pos', 'Nomor Telepon', 'Nomor Telepon Seluler', 'Alamat e-mail',\n",
    "       'Kode Negara Domisili', 'Kode Pekerjaan', 'Tempat Bekerja',\n",
    "       'Kode Bidang Usaha Tempat Bekerja', 'Alamat Tempat Bekerja',\n",
    "       'Kode Golongan Debitur', 'Status Perkawinan Debitur',\n",
    "       'Kode Kantor Cabang', 'Operasi Data', 'Status delete', 'Create Date',\n",
    "       'Update Date']]"
   ]
  },
  {
   "cell_type": "code",
   "execution_count": 26,
   "metadata": {},
   "outputs": [
    {
     "name": "stdout",
     "output_type": "stream",
     "text": [
      "(116806, 53)\n",
      "(90712, 35)\n"
     ]
    }
   ],
   "source": [
    "print(F01new_sent.shape)\n",
    "print(D01new_sent.shape)"
   ]
  },
  {
   "cell_type": "markdown",
   "metadata": {},
   "source": [
    "## Export file for KBIJ Reporting"
   ]
  },
  {
   "cell_type": "code",
   "execution_count": 27,
   "metadata": {},
   "outputs": [],
   "source": [
    "F01new_sent.to_csv(path_or_buf=F01name, sep='|',index =0)\n",
    "D01new_sent.to_csv(path_or_buf=D01name, sep='|',index =0)"
   ]
  },
  {
   "cell_type": "code",
   "execution_count": 39,
   "metadata": {},
   "outputs": [
    {
     "name": "stdout",
     "output_type": "stream",
     "text": [
      "File ./data201911/F01-201911[20200803-135111].txt version 1 uploaded to notebooks/kbij/data201911/f01-201911.txt.\n"
     ]
    }
   ],
   "source": [
    "DataStorage.upload_notebooks_data(F01name, 'kbij/'+pathname, 'f01-'+datem+'.txt')"
   ]
  },
  {
   "cell_type": "code",
   "execution_count": 40,
   "metadata": {},
   "outputs": [
    {
     "name": "stdout",
     "output_type": "stream",
     "text": [
      "File ./data201911/D01-201911[20200803-135111].txt version 1 uploaded to notebooks/kbij/data201911/d01-201911.txt.\n"
     ]
    }
   ],
   "source": [
    "DataStorage.upload_notebooks_data(D01name, 'kbij/'+pathname, 'd01-'+datem+'.txt')"
   ]
  },
  {
   "cell_type": "markdown",
   "metadata": {},
   "source": [
    "# Check Sent Data"
   ]
  },
  {
   "cell_type": "code",
   "execution_count": 37,
   "metadata": {},
   "outputs": [],
   "source": [
    "F01_sent = pd.read_csv('./data201911/F01-201911[20200803-135111].txt',sep='|',dtype=F01_dtype)\n",
    "D01_sent = pd.read_csv('./data201911/D01-201911[20200803-135111].txt',sep='|',dtype=D01_dtype)"
   ]
  },
  {
   "cell_type": "code",
   "execution_count": 29,
   "metadata": {},
   "outputs": [
    {
     "name": "stdout",
     "output_type": "stream",
     "text": [
      "D01_sent: (90712, 35) F01_sent: (116806, 53)\n"
     ]
    }
   ],
   "source": [
    "print('D01_sent:',D01_sent.shape, 'F01_sent:',F01_sent.shape)\n",
    "# print('D01_prev_sent:',D01_prev_sent.shape, 'F01_prev_sent:',F01_prev_sent.shape)"
   ]
  },
  {
   "cell_type": "code",
   "execution_count": 30,
   "metadata": {},
   "outputs": [
    {
     "name": "stdout",
     "output_type": "stream",
     "text": [
      "================================================================================\n",
      "Check Nomor CIF Debitur in D01 and F01 \n",
      "\n",
      "[CLEAR]All Nomor CIF Debitur in D01 are exist in F01\n",
      "\n",
      "[DONE]\n",
      "================================================================================\n",
      "================================================================================\n",
      "Check Active Kode Kondisi but Baki Debet = 0 \n",
      "\n",
      "[CLEAR]No Active Kode Kondisi but Baki Debet = 0\n",
      "\n",
      "[DONE]\n",
      "================================================================================\n",
      "================================================================================\n",
      "Check Not Active Kode Kondisi but Baki Debet > 0 \n",
      "\n",
      "[CLEAR]No Not Active Kode Kondisi but Baki Debet > 0\n",
      "\n",
      "[DONE]\n",
      "================================================================================\n",
      "================================================================================\n",
      "Check Baki Debet > Plafon Awal \n",
      "\n",
      "[CLEAR]No Baki Debet greater than Plafon Awal\n",
      "\n",
      "[DONE]\n",
      "================================================================================\n",
      "================================================================================\n",
      "Check Kode Kualitas Kredit atau Pembiayaan Macet but has no Tanggal Macet \n",
      "\n",
      "[CLEAR]No Kode Kualitas Kredit atau Pembiayaan Macet but has no Tanggal Macet\n",
      "\n",
      "[DONE]\n",
      "================================================================================\n",
      "================================================================================\n",
      "Check Tahun Bulan Data \n",
      "\n",
      "F01: ['201911']\n",
      "D01: ['201911']\n",
      "\n",
      "[DONE]\n",
      "================================================================================\n"
     ]
    }
   ],
   "source": [
    "F01_sent, D01_sent = kbij.checking_data(F01_sent, D01_sent, '2019-11-01')"
   ]
  },
  {
   "cell_type": "code",
   "execution_count": null,
   "metadata": {},
   "outputs": [],
   "source": []
  }
 ],
 "metadata": {
  "kernelspec": {
   "display_name": "Python 3",
   "language": "python",
   "name": "python3"
  },
  "language_info": {
   "codemirror_mode": {
    "name": "ipython",
    "version": 3
   },
   "file_extension": ".py",
   "mimetype": "text/x-python",
   "name": "python",
   "nbconvert_exporter": "python",
   "pygments_lexer": "ipython3",
   "version": "3.7.0"
  },
  "toc-autonumbering": true,
  "toc-showmarkdowntxt": false
 },
 "nbformat": 4,
 "nbformat_minor": 4
}
