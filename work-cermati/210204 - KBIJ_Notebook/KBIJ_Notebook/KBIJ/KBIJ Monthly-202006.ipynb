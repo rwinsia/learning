{
 "cells": [
  {
   "cell_type": "code",
   "execution_count": 1,
   "metadata": {},
   "outputs": [],
   "source": [
    "import pandas as pd\n",
    "import numpy as np\n",
    "import json\n",
    "from datetime import datetime, timedelta\n",
    "import re\n",
    "import os,sys\n",
    "\n",
    "import kbij_helper as kbijh\n",
    "kbij = kbijh.KBIJ()\n",
    "\n",
    "import warnings\n",
    "warnings.filterwarnings('ignore')\n",
    "autostats_lib = \"../../../autostats\"\n",
    "if autostats_lib not in sys.path:\n",
    "    sys.path.append(autostats_lib)\n",
    "\n",
    "from utilities.data_storage import DataStorage\n",
    "import time"
   ]
  },
  {
   "cell_type": "code",
   "execution_count": 2,
   "metadata": {},
   "outputs": [],
   "source": [
    "%load_ext google.cloud.bigquery\n",
    "from google.cloud import bigquery\n",
    "DataStorage(os.environ[\"GOOGLE_APPLICATION_CREDENTIALS\"])\n",
    "\n",
    "from IPython.display import clear_output"
   ]
  },
  {
   "cell_type": "code",
   "execution_count": 3,
   "metadata": {},
   "outputs": [],
   "source": [
    "def get_key(my_dict, val):\n",
    "    keys_list = []\n",
    "    for key, value in my_dict.items(): \n",
    "         if val == value: \n",
    "             keys_list.append(key)\n",
    "  \n",
    "    return keys_list"
   ]
  },
  {
   "cell_type": "code",
   "execution_count": 4,
   "metadata": {},
   "outputs": [],
   "source": [
    "date = \"2020-06-01\"\n",
    "prev_date = \"2020-05-01\""
   ]
  },
  {
   "cell_type": "code",
   "execution_count": null,
   "metadata": {},
   "outputs": [],
   "source": []
  },
  {
   "cell_type": "code",
   "execution_count": 5,
   "metadata": {},
   "outputs": [
    {
     "name": "stdout",
     "output_type": "stream",
     "text": [
      "202006\n"
     ]
    }
   ],
   "source": [
    "datem = pd.to_datetime(date)\n",
    "datem = datem.strftime(\"%Y%m\")\n",
    "print(datem)"
   ]
  },
  {
   "cell_type": "code",
   "execution_count": 6,
   "metadata": {},
   "outputs": [],
   "source": [
    "pathname = 'data'+datem\n",
    "dirname = './'+pathname"
   ]
  },
  {
   "cell_type": "code",
   "execution_count": 7,
   "metadata": {},
   "outputs": [],
   "source": [
    "raw_filename_F01 = dirname+'/F01'+datem+'.csv'\n",
    "raw_filename_D01 = dirname+'/D01'+datem+'.csv'"
   ]
  },
  {
   "cell_type": "code",
   "execution_count": 8,
   "metadata": {},
   "outputs": [],
   "source": [
    "filtered_filename_F01 = dirname+'/F01'+datem+'_new_filtered.csv'\n",
    "filtered_filename_D01 = dirname+'/D01'+datem+'_new_filtered.csv'"
   ]
  },
  {
   "cell_type": "code",
   "execution_count": null,
   "metadata": {},
   "outputs": [],
   "source": []
  },
  {
   "cell_type": "code",
   "execution_count": 9,
   "metadata": {},
   "outputs": [
    {
     "name": "stdout",
     "output_type": "stream",
     "text": [
      "202005\n"
     ]
    }
   ],
   "source": [
    "prev_datem = pd.to_datetime(prev_date)\n",
    "prev_datem = prev_datem.strftime(\"%Y%m\")\n",
    "print(prev_datem)"
   ]
  },
  {
   "cell_type": "code",
   "execution_count": 10,
   "metadata": {},
   "outputs": [],
   "source": [
    "prev_pathname = 'data'+prev_datem\n",
    "prev_dirname = './'+prev_pathname"
   ]
  },
  {
   "cell_type": "code",
   "execution_count": 11,
   "metadata": {},
   "outputs": [],
   "source": [
    "prev_filtered_filename_F01 = prev_dirname+'/F01'+prev_datem+'_new_filtered.csv'\n",
    "prev_filtered_filename_D01 = prev_dirname+'/D01'+prev_datem+'_new_filtered.csv'"
   ]
  },
  {
   "cell_type": "code",
   "execution_count": 12,
   "metadata": {},
   "outputs": [],
   "source": [
    "F01_dtype = {'Kode Jenis Pelapor': 'object',\n",
    " 'Kode Pelapor': 'object',\n",
    " 'Tahun Bulan Data': 'object',\n",
    " 'Kode Jenis Fasilitas': 'object',\n",
    " 'Nomor Rekening Fasilitas': 'object',\n",
    " 'Nomor Rekening Lama Fasilitas': 'object',\n",
    " 'Nomor CIF Debitur': 'object',\n",
    " 'Kode Sifat Kredit atau Pembiayaan': 'str',\n",
    " 'Kode Jenis Kredit atau Pembiayaan': 'str',\n",
    " 'Kode Akad Kredit atau Akad Pembiayaan': 'object',\n",
    " 'Nomor Akad Awal': 'object',\n",
    " 'Tanggal Akad Awal': 'object',\n",
    " 'Nomor Akad Akhir': 'object',\n",
    " 'Tanggal Akad Akhir': 'object',\n",
    " 'Frekuensi Perpanjangan Fasilitas Kredit atau Pembiayaan': 'int64',\n",
    " 'Tanggal Awal Kredit atau Pembiayaan': 'object',\n",
    " 'Tanggal Mulai': 'object',\n",
    " 'Tanggal Jatuh Tempo': 'object',\n",
    " 'Kode Kategori Debitur': 'object',\n",
    " 'Kode Jenis Penggunaan': 'str',\n",
    " 'Kode Orientasi Penggunaan': 'str',\n",
    " 'Kode Sektor Ekonomi': 'object',\n",
    " 'Kode Kabupaten atau Kota Lokasi Proyek atau Penggunaan Kredit atau Pembiayaan': 'object',\n",
    " 'Nilai Proyek': 'object',\n",
    " 'Kode Valuta': 'object',\n",
    " 'Suku Bunga atau Imbalan': 'float64',\n",
    " 'Jenis Suku Bunga atau Imbalan': 'int64',\n",
    " 'Kredit atau Pembiayaan Program Pemerintah': 'object',\n",
    " 'Plafon Awal': 'float64',\n",
    " 'Plafon': 'float64',\n",
    " 'Realisasi atau Pencairan Bulan Berjalan': 'float64',\n",
    " 'Denda': 'float64',\n",
    " 'Baki Debet': 'float64',\n",
    " 'Nilai dalam Mata Uang Asal': 'object',\n",
    " 'Kode Kualitas Kredit atau Pembiayaan': 'str',\n",
    " 'Tanggal Macet': 'object',\n",
    " 'Kode Sebab Macet': 'str',\n",
    " 'Tunggakan Pokok': 'int64',\n",
    " 'Tunggakan Bunga atau Imbalan': 'int64',\n",
    " 'Jumlah Hari Tunggakan': 'int64',\n",
    " 'Frekuensi Tunggakan': 'int64',\n",
    " 'Frekuensi Restrukturisasi': 'int64',\n",
    " 'Tanggal Restrukturisasi Awal': 'object',\n",
    " 'Tanggal Restrukturisasi Akhir': 'object',\n",
    " 'Kode Cara Restrukturisasi': 'object',\n",
    " 'Kode Kondisi': 'object',\n",
    " 'Tanggal Kondisi': 'object',\n",
    " 'Keterangan': 'object',\n",
    " 'Kode Kantor Cabang': 'object',\n",
    " 'Operasi Data': 'object',\n",
    " 'Status delete': 'object',\n",
    " 'Create Date': 'str',\n",
    " 'Update Date': 'str',\n",
    " 'Approved Date': 'str',\n",
    " 'userId': 'object',\n",
    " 'orderId': 'object',\n",
    " 'status': 'object'}\n",
    "\n",
    "D01_dtype = {'Kode Jenis Pelapor': 'object',\n",
    " 'Kode Pelapor': 'object',\n",
    " 'Tahun Bulan Data': 'object',\n",
    " 'Nomor CIF Lama Debitur': 'object',\n",
    " 'Nomor CIF Debitur': 'object',\n",
    " 'Jenis Identitas': 'int64',\n",
    " 'Nomor Identitas': 'object',\n",
    " 'Nama Sesuai Identitas': 'object',\n",
    " 'Nama Lengkap': 'object',\n",
    " 'Kode Status Pendidikan atau Gelar Debitur': 'object',\n",
    " 'Jenis Kelamin': 'object',\n",
    " 'Tempat Lahir': 'object',\n",
    " 'Tanggal Lahir': 'object',\n",
    " 'Nama Gadis Ibu Kandung': 'object',\n",
    " 'NPWP': 'object',\n",
    " 'Alamat': 'object',\n",
    " 'Kelurahan': 'object',\n",
    " 'Kecamatan': 'object',\n",
    " 'Kode Kabupaten atau Kota': 'object',\n",
    " 'Kode Pos': 'object',\n",
    " 'Nomor Telepon': 'object',\n",
    " 'Nomor Telepon Seluler': 'object',\n",
    " 'Alamat email': 'object',\n",
    " 'Kode Negara Domisili': 'object',\n",
    " 'Kode Pekerjaan': 'object',\n",
    " 'Tempat Bekerja': 'object',\n",
    " 'Kode Bidang Usaha Tempat Bekerja': 'object',\n",
    " 'Alamat Tempat Bekerja': 'object',\n",
    " 'Kode Golongan Debitur': 'object',\n",
    " 'Status Perkawinan Debitur': 'int64',\n",
    " 'Kode Kantor Cabang': 'object',\n",
    " 'Operasi Data': 'object',\n",
    " 'Status delete': 'object',\n",
    " 'Create Date': 'str',\n",
    " 'Update Date': 'str',\n",
    " 'Approved Date': 'str',\n",
    " 'userId': 'object',\n",
    " 'orderId': 'object',\n",
    " 'status': 'object'}"
   ]
  },
  {
   "cell_type": "markdown",
   "metadata": {},
   "source": [
    "# Query"
   ]
  },
  {
   "cell_type": "markdown",
   "metadata": {},
   "source": [
    "Get new F01 and D01 from redash"
   ]
  },
  {
   "cell_type": "markdown",
   "metadata": {},
   "source": [
    "## F01 Current Data"
   ]
  },
  {
   "cell_type": "code",
   "execution_count": 13,
   "metadata": {},
   "outputs": [
    {
     "name": "stdout",
     "output_type": "stream",
     "text": [
      "[get_F01_data] Query from BigQuery takes 391.92741799354553\n"
     ]
    }
   ],
   "source": [
    "F01new = kbij.get_F01_data('\"'+date+'\"')"
   ]
  },
  {
   "cell_type": "markdown",
   "metadata": {},
   "source": [
    "## D01 Current Data"
   ]
  },
  {
   "cell_type": "code",
   "execution_count": 14,
   "metadata": {},
   "outputs": [
    {
     "name": "stdout",
     "output_type": "stream",
     "text": [
      "[get_D01_data] Query from BigQuery takes 118.73648405075073\n"
     ]
    }
   ],
   "source": [
    "D01new = kbij.get_D01_data('\"'+date+'\"')"
   ]
  },
  {
   "cell_type": "markdown",
   "metadata": {},
   "source": [
    "# Data Preparation"
   ]
  },
  {
   "cell_type": "code",
   "execution_count": 15,
   "metadata": {},
   "outputs": [
    {
     "name": "stdout",
     "output_type": "stream",
     "text": [
      "(569638, 69)\n"
     ]
    }
   ],
   "source": [
    "print(F01new.shape)\n",
    "a=[]\n",
    "for i in F01new.columns:\n",
    "    a.append(i.replace('_',' '))\n",
    "F01new.columns = a"
   ]
  },
  {
   "cell_type": "code",
   "execution_count": 16,
   "metadata": {},
   "outputs": [
    {
     "name": "stdout",
     "output_type": "stream",
     "text": [
      "(192571, 40)\n"
     ]
    }
   ],
   "source": [
    "print(D01new.shape)\n",
    "a=[]\n",
    "for i in D01new.columns:\n",
    "    a.append(i.replace('_',' '))\n",
    "D01new.columns = a"
   ]
  },
  {
   "cell_type": "code",
   "execution_count": 17,
   "metadata": {},
   "outputs": [],
   "source": [
    "for col in get_key(F01_dtype, 'object'):\n",
    "    F01new[col] = F01new[col].str.strip()"
   ]
  },
  {
   "cell_type": "code",
   "execution_count": 18,
   "metadata": {},
   "outputs": [],
   "source": [
    "for col in get_key(D01_dtype, 'object'):\n",
    "    D01new[col] = D01new[col].str.strip()"
   ]
  },
  {
   "cell_type": "code",
   "execution_count": 19,
   "metadata": {},
   "outputs": [],
   "source": [
    "F01new = F01new.replace('\\n','', regex=True)\n",
    "D01new = D01new.replace('\\n','', regex=True)"
   ]
  },
  {
   "cell_type": "code",
   "execution_count": 20,
   "metadata": {},
   "outputs": [],
   "source": [
    "F01new = F01new.replace('\\t','', regex=True)\n",
    "D01new = D01new.replace('\\t','', regex=True)"
   ]
  },
  {
   "cell_type": "code",
   "execution_count": 21,
   "metadata": {},
   "outputs": [],
   "source": [
    "D01new.rename(columns={\"Alamat email\": \"Alamat e-mail\"}, inplace=True)"
   ]
  },
  {
   "cell_type": "code",
   "execution_count": 22,
   "metadata": {},
   "outputs": [],
   "source": [
    "gelar_list = pd.read_csv('./data/gelar.csv')['index'].tolist()\n",
    "gelar_depan_list = pd.read_csv('./data/gelar_depan.csv')['index'].tolist()"
   ]
  },
  {
   "cell_type": "code",
   "execution_count": 23,
   "metadata": {},
   "outputs": [],
   "source": [
    "def remove_gelar(nama):\n",
    "    nama_list = nama.split()\n",
    "    clear_output()\n",
    "    print(nama_list)\n",
    "    if nama_list[-1].lower() in gelar_list:\n",
    "        del nama_list[-1]\n",
    "    if nama_list[0].lower() in gelar_depan_list:\n",
    "        del nama_list[0]    \n",
    "        \n",
    "    return ' '.join(nama_list)"
   ]
  },
  {
   "cell_type": "code",
   "execution_count": null,
   "metadata": {},
   "outputs": [],
   "source": []
  },
  {
   "cell_type": "code",
   "execution_count": null,
   "metadata": {},
   "outputs": [],
   "source": [
    "D01new['Nama Sesuai Identitas'] = D01new['Nama Sesuai Identitas'].apply(remove_gelar)"
   ]
  },
  {
   "cell_type": "code",
   "execution_count": null,
   "metadata": {},
   "outputs": [
    {
     "name": "stdout",
     "output_type": "stream",
     "text": [
      "['HASANAH']\n"
     ]
    }
   ],
   "source": [
    "D01new['Nama Gadis Ibu Kandung'] = D01new['Nama Gadis Ibu Kandung'].apply(remove_gelar)"
   ]
  },
  {
   "cell_type": "code",
   "execution_count": 26,
   "metadata": {},
   "outputs": [],
   "source": [
    "F01new.to_csv(path_or_buf=raw_filename_F01, index=False)\n",
    "D01new.to_csv(path_or_buf=raw_filename_D01, index=False)"
   ]
  },
  {
   "cell_type": "code",
   "execution_count": 27,
   "metadata": {},
   "outputs": [
    {
     "name": "stdout",
     "output_type": "stream",
     "text": [
      "File ./data202006/F01202006.csv version 2 uploaded to notebooks/kbij/data202006/f01202006.csv.\n"
     ]
    }
   ],
   "source": [
    "DataStorage.upload_notebooks_data(raw_filename_F01, 'kbij/'+pathname, 'f01'+datem+'.csv')"
   ]
  },
  {
   "cell_type": "code",
   "execution_count": 28,
   "metadata": {},
   "outputs": [
    {
     "name": "stdout",
     "output_type": "stream",
     "text": [
      "File ./data202006/D01202006.csv version 2 uploaded to notebooks/kbij/data202006/d01202006.csv.\n"
     ]
    }
   ],
   "source": [
    "DataStorage.upload_notebooks_data(raw_filename_D01, 'kbij/'+pathname, 'd01'+datem+'.csv')"
   ]
  },
  {
   "cell_type": "markdown",
   "metadata": {},
   "source": [
    "# Load Data"
   ]
  },
  {
   "cell_type": "code",
   "execution_count": 8,
   "metadata": {},
   "outputs": [
    {
     "name": "stdout",
     "output_type": "stream",
     "text": [
      "Blob notebooks/kbij/data201911/f01201911.csv version LATEST downloaded to ./data201911/F01201911.csv.\n"
     ]
    }
   ],
   "source": [
    "DataStorage.download_notebooks_data(raw_filename_F01, 'kbij/'+pathname, 'f01'+datem+'.csv')"
   ]
  },
  {
   "cell_type": "code",
   "execution_count": 9,
   "metadata": {},
   "outputs": [
    {
     "name": "stdout",
     "output_type": "stream",
     "text": [
      "Blob notebooks/kbij/data201911/d01201911.csv version LATEST downloaded to ./data201911/D01201911.csv.\n"
     ]
    }
   ],
   "source": [
    "DataStorage.download_notebooks_data(raw_filename_D01, 'kbij/'+pathname, 'd01'+datem+'.csv')"
   ]
  },
  {
   "cell_type": "code",
   "execution_count": 13,
   "metadata": {},
   "outputs": [],
   "source": [
    "F01new = pd.read_csv(raw_filename_F01, dtype=F01_dtype)\n",
    "D01new = pd.read_csv(raw_filename_D01, dtype=D01_dtype)"
   ]
  },
  {
   "cell_type": "code",
   "execution_count": 13,
   "metadata": {},
   "outputs": [
    {
     "name": "stdout",
     "output_type": "stream",
     "text": [
      "Blob notebooks/kbij/data201912/f01201912_new_filtered.csv version LATEST downloaded to ./data201911/F01201911_new_filtered.csv.\n"
     ]
    }
   ],
   "source": [
    "DataStorage.download_notebooks_data(prev_filtered_filename_F01, 'kbij/'+pathname, 'f01'+datem+'_new_filtered.csv')"
   ]
  },
  {
   "cell_type": "code",
   "execution_count": 9,
   "metadata": {},
   "outputs": [
    {
     "name": "stdout",
     "output_type": "stream",
     "text": [
      "Blob notebooks/kbij/data201911/d01201911.csv version LATEST downloaded to ./data201911/D01201911.csv.\n"
     ]
    }
   ],
   "source": [
    "DataStorage.download_notebooks_data(prev_filtered_filename_D01, 'kbij/'+pathname, 'd01'+datem+'_new_filtered.csv')"
   ]
  },
  {
   "cell_type": "code",
   "execution_count": 29,
   "metadata": {},
   "outputs": [],
   "source": [
    "F01_prev = pd.read_csv(prev_filtered_filename_F01, dtype=F01_dtype)\n",
    "D01_prev = pd.read_csv(prev_filtered_filename_D01, dtype=D01_dtype)"
   ]
  },
  {
   "cell_type": "code",
   "execution_count": 30,
   "metadata": {},
   "outputs": [
    {
     "name": "stdout",
     "output_type": "stream",
     "text": [
      "D01new: (192571, 40) F01new: (569638, 69)\n",
      "D01_prev: (123885, 40) F01_prev: (129819, 69)\n"
     ]
    }
   ],
   "source": [
    "print('D01new:',D01new.shape, 'F01new:',F01new.shape)\n",
    "print('D01_prev:',D01_prev.shape, 'F01_prev:',F01_prev.shape)"
   ]
  },
  {
   "cell_type": "markdown",
   "metadata": {
    "toc-hr-collapsed": false
   },
   "source": [
    "# Checking"
   ]
  },
  {
   "cell_type": "code",
   "execution_count": 31,
   "metadata": {},
   "outputs": [
    {
     "name": "stdout",
     "output_type": "stream",
     "text": [
      "================================================================================\n",
      "Check Previous Not Active Nomor Rekening Fasilitas But Exist in Current Data \n",
      "\n",
      "Found 20260 Nomor Rekening Fasilitas\n",
      "--> kbij.existing_previous_not_active_data\n",
      "Drop previous not active Nomor Rekening Fasilitas from current F01\n",
      "Drop not existing Nomor CIF Debitur in current F01 from current D01\n",
      "\n",
      "[DONE]\n",
      "================================================================================\n",
      "================================================================================\n",
      "Check Previous Active Nomor Rekening Fasilitas But Not Exist in Current Data \n",
      "\n",
      "[CLEAR]No Previous Active Nomor Rekening Fasilitas But Not Exist in Current Data\n",
      "\n",
      "[DONE]\n",
      "================================================================================\n",
      "================================================================================\n",
      "Check Nomor CIF Debitur in D01 and F01 \n",
      "\n",
      "[CLEAR]All Nomor CIF Debitur in D01 are exist in F01\n",
      "\n",
      "[DONE]\n",
      "================================================================================\n",
      "================================================================================\n",
      "Check Active Kode Kondisi but Baki Debet = 0 \n",
      "\n",
      "Found 89 Nomor Rekening Fasilitas\n",
      "--> kbij.active_but_has_no_balance\n",
      "Set Kode Kondisi to not active\n",
      "\n",
      "[DONE]\n",
      "================================================================================\n",
      "================================================================================\n",
      "Check Not Active Kode Kondisi but Baki Debet > 0 \n",
      "\n",
      "[CLEAR]No Not Active Kode Kondisi but Baki Debet > 0\n",
      "\n",
      "[DONE]\n",
      "================================================================================\n",
      "================================================================================\n",
      "Check Baki Debet > Plafon Awal \n",
      "\n",
      "[CLEAR]No Baki Debet greater than Plafon Awal\n",
      "\n",
      "[DONE]\n",
      "================================================================================\n",
      "================================================================================\n",
      "Check Kode Kualitas Kredit atau Pembiayaan Macet but has no Tanggal Macet \n",
      "\n",
      "[CLEAR]No Kode Kualitas Kredit atau Pembiayaan Macet but has no Tanggal Macet\n",
      "\n",
      "[DONE]\n",
      "================================================================================\n",
      "================================================================================\n",
      "Check Tahun Bulan Data \n",
      "\n",
      "F01: ['202006']\n",
      "D01: ['202006']\n",
      "\n",
      "[DONE]\n",
      "================================================================================\n"
     ]
    }
   ],
   "source": [
    "F01new, D01new = kbij.checking_data(F01new, D01new, date, F01_prev=F01_prev, D01_prev=D01_prev)"
   ]
  },
  {
   "cell_type": "markdown",
   "metadata": {},
   "source": [
    "## Check column"
   ]
  },
  {
   "cell_type": "code",
   "execution_count": 32,
   "metadata": {},
   "outputs": [
    {
     "data": {
      "text/html": [
       "<div>\n",
       "<style scoped>\n",
       "    .dataframe tbody tr th:only-of-type {\n",
       "        vertical-align: middle;\n",
       "    }\n",
       "\n",
       "    .dataframe tbody tr th {\n",
       "        vertical-align: top;\n",
       "    }\n",
       "\n",
       "    .dataframe thead th {\n",
       "        text-align: right;\n",
       "    }\n",
       "</style>\n",
       "<table border=\"1\" class=\"dataframe\">\n",
       "  <thead>\n",
       "    <tr style=\"text-align: right;\">\n",
       "      <th></th>\n",
       "      <th>orderId</th>\n",
       "      <th>Jumlah Hari Tunggakan</th>\n",
       "      <th>Frekuensi Tunggakan</th>\n",
       "      <th>Approved Date</th>\n",
       "      <th>status</th>\n",
       "    </tr>\n",
       "  </thead>\n",
       "  <tbody>\n",
       "  </tbody>\n",
       "</table>\n",
       "</div>"
      ],
      "text/plain": [
       "Empty DataFrame\n",
       "Columns: [orderId, Jumlah Hari Tunggakan, Frekuensi Tunggakan, Approved Date, status]\n",
       "Index: []"
      ]
     },
     "execution_count": 32,
     "metadata": {},
     "output_type": "execute_result"
    }
   ],
   "source": [
    "F01new[(F01new['Jumlah Hari Tunggakan']==0) & (F01new['Frekuensi Tunggakan']>0)][['orderId','Jumlah Hari Tunggakan','Frekuensi Tunggakan','Approved Date','status']]"
   ]
  },
  {
   "cell_type": "code",
   "execution_count": null,
   "metadata": {},
   "outputs": [],
   "source": []
  },
  {
   "cell_type": "code",
   "execution_count": 33,
   "metadata": {},
   "outputs": [
    {
     "data": {
      "text/html": [
       "<div>\n",
       "<style scoped>\n",
       "    .dataframe tbody tr th:only-of-type {\n",
       "        vertical-align: middle;\n",
       "    }\n",
       "\n",
       "    .dataframe tbody tr th {\n",
       "        vertical-align: top;\n",
       "    }\n",
       "\n",
       "    .dataframe thead th {\n",
       "        text-align: right;\n",
       "    }\n",
       "</style>\n",
       "<table border=\"1\" class=\"dataframe\">\n",
       "  <thead>\n",
       "    <tr style=\"text-align: right;\">\n",
       "      <th></th>\n",
       "      <th>orderId</th>\n",
       "      <th>Denda</th>\n",
       "      <th>Kode Kualitas Kredit atau Pembiayaan</th>\n",
       "      <th>Kode Kondisi</th>\n",
       "      <th>dayPastDue</th>\n",
       "    </tr>\n",
       "  </thead>\n",
       "  <tbody>\n",
       "  </tbody>\n",
       "</table>\n",
       "</div>"
      ],
      "text/plain": [
       "Empty DataFrame\n",
       "Columns: [orderId, Denda, Kode Kualitas Kredit atau Pembiayaan, Kode Kondisi, dayPastDue]\n",
       "Index: []"
      ]
     },
     "execution_count": 33,
     "metadata": {},
     "output_type": "execute_result"
    }
   ],
   "source": [
    "F01new[(F01new['Tunggakan Pokok']>0) & (F01new['Kode Kualitas Kredit atau Pembiayaan']=='1') & (F01new['Kode Kondisi']=='00')][['orderId','Denda','Kode Kualitas Kredit atau Pembiayaan','Kode Kondisi','dayPastDue']]"
   ]
  },
  {
   "cell_type": "code",
   "execution_count": 34,
   "metadata": {},
   "outputs": [
    {
     "data": {
      "text/html": [
       "<div>\n",
       "<style scoped>\n",
       "    .dataframe tbody tr th:only-of-type {\n",
       "        vertical-align: middle;\n",
       "    }\n",
       "\n",
       "    .dataframe tbody tr th {\n",
       "        vertical-align: top;\n",
       "    }\n",
       "\n",
       "    .dataframe thead th {\n",
       "        text-align: right;\n",
       "    }\n",
       "</style>\n",
       "<table border=\"1\" class=\"dataframe\">\n",
       "  <thead>\n",
       "    <tr style=\"text-align: right;\">\n",
       "      <th></th>\n",
       "      <th>orderId</th>\n",
       "      <th>Denda</th>\n",
       "      <th>Kode Kualitas Kredit atau Pembiayaan</th>\n",
       "      <th>Kode Kondisi</th>\n",
       "      <th>dayPastDue</th>\n",
       "    </tr>\n",
       "  </thead>\n",
       "  <tbody>\n",
       "    <tr>\n",
       "      <td>396</td>\n",
       "      <td>ATH-11U6MLW9</td>\n",
       "      <td>0</td>\n",
       "      <td>4</td>\n",
       "      <td>00</td>\n",
       "      <td>157</td>\n",
       "    </tr>\n",
       "    <tr>\n",
       "      <td>624</td>\n",
       "      <td>ATH-129P6LAM</td>\n",
       "      <td>0</td>\n",
       "      <td>3</td>\n",
       "      <td>00</td>\n",
       "      <td>116</td>\n",
       "    </tr>\n",
       "    <tr>\n",
       "      <td>1017</td>\n",
       "      <td>ATH-131VGPK9</td>\n",
       "      <td>0</td>\n",
       "      <td>4</td>\n",
       "      <td>00</td>\n",
       "      <td>128</td>\n",
       "    </tr>\n",
       "    <tr>\n",
       "      <td>1384</td>\n",
       "      <td>ATH-13SVCYFQ</td>\n",
       "      <td>0</td>\n",
       "      <td>5</td>\n",
       "      <td>00</td>\n",
       "      <td>452</td>\n",
       "    </tr>\n",
       "    <tr>\n",
       "      <td>1484</td>\n",
       "      <td>ATH-13Z27H2L</td>\n",
       "      <td>0</td>\n",
       "      <td>3</td>\n",
       "      <td>00</td>\n",
       "      <td>110</td>\n",
       "    </tr>\n",
       "    <tr>\n",
       "      <td>...</td>\n",
       "      <td>...</td>\n",
       "      <td>...</td>\n",
       "      <td>...</td>\n",
       "      <td>...</td>\n",
       "      <td>...</td>\n",
       "    </tr>\n",
       "    <tr>\n",
       "      <td>569467</td>\n",
       "      <td>INS-N9EFNP24</td>\n",
       "      <td>0</td>\n",
       "      <td>5</td>\n",
       "      <td>00</td>\n",
       "      <td>250</td>\n",
       "    </tr>\n",
       "    <tr>\n",
       "      <td>569481</td>\n",
       "      <td>INS-NY8695N5</td>\n",
       "      <td>0</td>\n",
       "      <td>5</td>\n",
       "      <td>00</td>\n",
       "      <td>240</td>\n",
       "    </tr>\n",
       "    <tr>\n",
       "      <td>569505</td>\n",
       "      <td>INS-QEAEJRB2</td>\n",
       "      <td>0</td>\n",
       "      <td>5</td>\n",
       "      <td>00</td>\n",
       "      <td>339</td>\n",
       "    </tr>\n",
       "    <tr>\n",
       "      <td>569532</td>\n",
       "      <td>INS-SKV34WK2</td>\n",
       "      <td>0</td>\n",
       "      <td>5</td>\n",
       "      <td>00</td>\n",
       "      <td>270</td>\n",
       "    </tr>\n",
       "    <tr>\n",
       "      <td>569592</td>\n",
       "      <td>INS-XBWHEWRT</td>\n",
       "      <td>0</td>\n",
       "      <td>5</td>\n",
       "      <td>00</td>\n",
       "      <td>252</td>\n",
       "    </tr>\n",
       "  </tbody>\n",
       "</table>\n",
       "<p>3077 rows × 5 columns</p>\n",
       "</div>"
      ],
      "text/plain": [
       "             orderId Denda Kode Kualitas Kredit atau Pembiayaan Kode Kondisi  \\\n",
       "396     ATH-11U6MLW9     0                                    4           00   \n",
       "624     ATH-129P6LAM     0                                    3           00   \n",
       "1017    ATH-131VGPK9     0                                    4           00   \n",
       "1384    ATH-13SVCYFQ     0                                    5           00   \n",
       "1484    ATH-13Z27H2L     0                                    3           00   \n",
       "...              ...   ...                                  ...          ...   \n",
       "569467  INS-N9EFNP24     0                                    5           00   \n",
       "569481  INS-NY8695N5     0                                    5           00   \n",
       "569505  INS-QEAEJRB2     0                                    5           00   \n",
       "569532  INS-SKV34WK2     0                                    5           00   \n",
       "569592  INS-XBWHEWRT     0                                    5           00   \n",
       "\n",
       "        dayPastDue  \n",
       "396            157  \n",
       "624            116  \n",
       "1017           128  \n",
       "1384           452  \n",
       "1484           110  \n",
       "...            ...  \n",
       "569467         250  \n",
       "569481         240  \n",
       "569505         339  \n",
       "569532         270  \n",
       "569592         252  \n",
       "\n",
       "[3077 rows x 5 columns]"
      ]
     },
     "execution_count": 34,
     "metadata": {},
     "output_type": "execute_result"
    }
   ],
   "source": [
    "F01new[(F01new['Denda']==0) & (F01new['Kode Kualitas Kredit atau Pembiayaan']!='1') & (F01new['Kode Kondisi']=='00')][['orderId','Denda','Kode Kualitas Kredit atau Pembiayaan','Kode Kondisi','dayPastDue']]"
   ]
  },
  {
   "cell_type": "code",
   "execution_count": 35,
   "metadata": {},
   "outputs": [
    {
     "data": {
      "text/html": [
       "<div>\n",
       "<style scoped>\n",
       "    .dataframe tbody tr th:only-of-type {\n",
       "        vertical-align: middle;\n",
       "    }\n",
       "\n",
       "    .dataframe tbody tr th {\n",
       "        vertical-align: top;\n",
       "    }\n",
       "\n",
       "    .dataframe thead th {\n",
       "        text-align: right;\n",
       "    }\n",
       "</style>\n",
       "<table border=\"1\" class=\"dataframe\">\n",
       "  <thead>\n",
       "    <tr style=\"text-align: right;\">\n",
       "      <th></th>\n",
       "      <th>orderId</th>\n",
       "      <th>Tunggakan Bunga atau Imbalan</th>\n",
       "      <th>Denda</th>\n",
       "      <th>Kode Kualitas Kredit atau Pembiayaan</th>\n",
       "      <th>Kode Kondisi</th>\n",
       "      <th>dayPastDue</th>\n",
       "    </tr>\n",
       "  </thead>\n",
       "  <tbody>\n",
       "    <tr>\n",
       "      <td>12559</td>\n",
       "      <td>ATH-1REFS6DN</td>\n",
       "      <td>0</td>\n",
       "      <td>486500</td>\n",
       "      <td>2</td>\n",
       "      <td>00</td>\n",
       "      <td>29</td>\n",
       "    </tr>\n",
       "    <tr>\n",
       "      <td>78016</td>\n",
       "      <td>ATH-5LEAQ3CS</td>\n",
       "      <td>0</td>\n",
       "      <td>661000</td>\n",
       "      <td>5</td>\n",
       "      <td>00</td>\n",
       "      <td>563</td>\n",
       "    </tr>\n",
       "    <tr>\n",
       "      <td>80784</td>\n",
       "      <td>ATH-5RVXZBE1</td>\n",
       "      <td>0</td>\n",
       "      <td>598500</td>\n",
       "      <td>2</td>\n",
       "      <td>00</td>\n",
       "      <td>31</td>\n",
       "    </tr>\n",
       "    <tr>\n",
       "      <td>100559</td>\n",
       "      <td>ATH-6XQVT373</td>\n",
       "      <td>0</td>\n",
       "      <td>950000</td>\n",
       "      <td>5</td>\n",
       "      <td>00</td>\n",
       "      <td>240</td>\n",
       "    </tr>\n",
       "    <tr>\n",
       "      <td>103404</td>\n",
       "      <td>ATH-74BYYA6K</td>\n",
       "      <td>0</td>\n",
       "      <td>950000</td>\n",
       "      <td>5</td>\n",
       "      <td>00</td>\n",
       "      <td>186</td>\n",
       "    </tr>\n",
       "    <tr>\n",
       "      <td>...</td>\n",
       "      <td>...</td>\n",
       "      <td>...</td>\n",
       "      <td>...</td>\n",
       "      <td>...</td>\n",
       "      <td>...</td>\n",
       "      <td>...</td>\n",
       "    </tr>\n",
       "    <tr>\n",
       "      <td>569158</td>\n",
       "      <td>EXT-ZVCBJUUZ</td>\n",
       "      <td>0</td>\n",
       "      <td>475000</td>\n",
       "      <td>2</td>\n",
       "      <td>00</td>\n",
       "      <td>34</td>\n",
       "    </tr>\n",
       "    <tr>\n",
       "      <td>569167</td>\n",
       "      <td>EXT-ZWGTJWMH</td>\n",
       "      <td>0</td>\n",
       "      <td>35000</td>\n",
       "      <td>2</td>\n",
       "      <td>00</td>\n",
       "      <td>5</td>\n",
       "    </tr>\n",
       "    <tr>\n",
       "      <td>569174</td>\n",
       "      <td>EXT-ZXRN4WQ7</td>\n",
       "      <td>0</td>\n",
       "      <td>25000</td>\n",
       "      <td>2</td>\n",
       "      <td>00</td>\n",
       "      <td>4</td>\n",
       "    </tr>\n",
       "    <tr>\n",
       "      <td>569182</td>\n",
       "      <td>EXT-ZYJA4E74</td>\n",
       "      <td>0</td>\n",
       "      <td>910000</td>\n",
       "      <td>2</td>\n",
       "      <td>00</td>\n",
       "      <td>29</td>\n",
       "    </tr>\n",
       "    <tr>\n",
       "      <td>569189</td>\n",
       "      <td>EXT-ZZAMVDCX</td>\n",
       "      <td>0</td>\n",
       "      <td>70000</td>\n",
       "      <td>2</td>\n",
       "      <td>00</td>\n",
       "      <td>8</td>\n",
       "    </tr>\n",
       "  </tbody>\n",
       "</table>\n",
       "<p>1224 rows × 6 columns</p>\n",
       "</div>"
      ],
      "text/plain": [
       "             orderId  Tunggakan Bunga atau Imbalan   Denda  \\\n",
       "12559   ATH-1REFS6DN                             0  486500   \n",
       "78016   ATH-5LEAQ3CS                             0  661000   \n",
       "80784   ATH-5RVXZBE1                             0  598500   \n",
       "100559  ATH-6XQVT373                             0  950000   \n",
       "103404  ATH-74BYYA6K                             0  950000   \n",
       "...              ...                           ...     ...   \n",
       "569158  EXT-ZVCBJUUZ                             0  475000   \n",
       "569167  EXT-ZWGTJWMH                             0   35000   \n",
       "569174  EXT-ZXRN4WQ7                             0   25000   \n",
       "569182  EXT-ZYJA4E74                             0  910000   \n",
       "569189  EXT-ZZAMVDCX                             0   70000   \n",
       "\n",
       "       Kode Kualitas Kredit atau Pembiayaan Kode Kondisi  dayPastDue  \n",
       "12559                                     2           00          29  \n",
       "78016                                     5           00         563  \n",
       "80784                                     2           00          31  \n",
       "100559                                    5           00         240  \n",
       "103404                                    5           00         186  \n",
       "...                                     ...          ...         ...  \n",
       "569158                                    2           00          34  \n",
       "569167                                    2           00           5  \n",
       "569174                                    2           00           4  \n",
       "569182                                    2           00          29  \n",
       "569189                                    2           00           8  \n",
       "\n",
       "[1224 rows x 6 columns]"
      ]
     },
     "execution_count": 35,
     "metadata": {},
     "output_type": "execute_result"
    }
   ],
   "source": [
    "F01new[(F01new['Tunggakan Bunga atau Imbalan']==0) & (F01new['Kode Kualitas Kredit atau Pembiayaan']!='1') & (F01new['Kode Kondisi']=='00')][['orderId','Tunggakan Bunga atau Imbalan','Denda','Kode Kualitas Kredit atau Pembiayaan','Kode Kondisi','dayPastDue']]"
   ]
  },
  {
   "cell_type": "code",
   "execution_count": 36,
   "metadata": {},
   "outputs": [
    {
     "data": {
      "text/html": [
       "<div>\n",
       "<style scoped>\n",
       "    .dataframe tbody tr th:only-of-type {\n",
       "        vertical-align: middle;\n",
       "    }\n",
       "\n",
       "    .dataframe tbody tr th {\n",
       "        vertical-align: top;\n",
       "    }\n",
       "\n",
       "    .dataframe thead th {\n",
       "        text-align: right;\n",
       "    }\n",
       "</style>\n",
       "<table border=\"1\" class=\"dataframe\">\n",
       "  <thead>\n",
       "    <tr style=\"text-align: right;\">\n",
       "      <th></th>\n",
       "      <th>orderId</th>\n",
       "      <th>Denda</th>\n",
       "      <th>Kode Kualitas Kredit atau Pembiayaan</th>\n",
       "      <th>Kode Kondisi</th>\n",
       "    </tr>\n",
       "  </thead>\n",
       "  <tbody>\n",
       "  </tbody>\n",
       "</table>\n",
       "</div>"
      ],
      "text/plain": [
       "Empty DataFrame\n",
       "Columns: [orderId, Denda, Kode Kualitas Kredit atau Pembiayaan, Kode Kondisi]\n",
       "Index: []"
      ]
     },
     "execution_count": 36,
     "metadata": {},
     "output_type": "execute_result"
    }
   ],
   "source": [
    "F01new[(F01new['Jumlah Hari Tunggakan']==0) & (F01new['Kode Kualitas Kredit atau Pembiayaan']=='2') & (F01new['Kode Kondisi']=='00')][['orderId','Denda','Kode Kualitas Kredit atau Pembiayaan','Kode Kondisi']]"
   ]
  },
  {
   "cell_type": "code",
   "execution_count": 37,
   "metadata": {},
   "outputs": [
    {
     "data": {
      "text/html": [
       "<div>\n",
       "<style scoped>\n",
       "    .dataframe tbody tr th:only-of-type {\n",
       "        vertical-align: middle;\n",
       "    }\n",
       "\n",
       "    .dataframe tbody tr th {\n",
       "        vertical-align: top;\n",
       "    }\n",
       "\n",
       "    .dataframe thead th {\n",
       "        text-align: right;\n",
       "    }\n",
       "</style>\n",
       "<table border=\"1\" class=\"dataframe\">\n",
       "  <thead>\n",
       "    <tr style=\"text-align: right;\">\n",
       "      <th></th>\n",
       "      <th>orderId</th>\n",
       "      <th>Denda</th>\n",
       "      <th>Kode Kualitas Kredit atau Pembiayaan</th>\n",
       "      <th>Kode Kondisi</th>\n",
       "    </tr>\n",
       "  </thead>\n",
       "  <tbody>\n",
       "  </tbody>\n",
       "</table>\n",
       "</div>"
      ],
      "text/plain": [
       "Empty DataFrame\n",
       "Columns: [orderId, Denda, Kode Kualitas Kredit atau Pembiayaan, Kode Kondisi]\n",
       "Index: []"
      ]
     },
     "execution_count": 37,
     "metadata": {},
     "output_type": "execute_result"
    }
   ],
   "source": [
    "F01new[(F01new['Frekuensi Tunggakan']==0) & (F01new['Kode Kualitas Kredit atau Pembiayaan']=='2') & (F01new['Kode Kondisi']=='00')][['orderId','Denda','Kode Kualitas Kredit atau Pembiayaan','Kode Kondisi']]"
   ]
  },
  {
   "cell_type": "code",
   "execution_count": null,
   "metadata": {},
   "outputs": [],
   "source": []
  },
  {
   "cell_type": "code",
   "execution_count": 38,
   "metadata": {},
   "outputs": [
    {
     "data": {
      "text/html": [
       "<div>\n",
       "<style scoped>\n",
       "    .dataframe tbody tr th:only-of-type {\n",
       "        vertical-align: middle;\n",
       "    }\n",
       "\n",
       "    .dataframe tbody tr th {\n",
       "        vertical-align: top;\n",
       "    }\n",
       "\n",
       "    .dataframe thead th {\n",
       "        text-align: right;\n",
       "    }\n",
       "</style>\n",
       "<table border=\"1\" class=\"dataframe\">\n",
       "  <thead>\n",
       "    <tr style=\"text-align: right;\">\n",
       "      <th></th>\n",
       "      <th>orderId</th>\n",
       "      <th>Denda</th>\n",
       "      <th>Kode Kualitas Kredit atau Pembiayaan</th>\n",
       "      <th>Kode Kondisi</th>\n",
       "    </tr>\n",
       "  </thead>\n",
       "  <tbody>\n",
       "  </tbody>\n",
       "</table>\n",
       "</div>"
      ],
      "text/plain": [
       "Empty DataFrame\n",
       "Columns: [orderId, Denda, Kode Kualitas Kredit atau Pembiayaan, Kode Kondisi]\n",
       "Index: []"
      ]
     },
     "execution_count": 38,
     "metadata": {},
     "output_type": "execute_result"
    }
   ],
   "source": [
    "F01new[(F01new['Denda']>0) & (F01new['Kode Kualitas Kredit atau Pembiayaan']!='1') & (F01new['Kode Kondisi']=='02')][['orderId','Denda','Kode Kualitas Kredit atau Pembiayaan','Kode Kondisi']]"
   ]
  },
  {
   "cell_type": "code",
   "execution_count": 39,
   "metadata": {},
   "outputs": [
    {
     "data": {
      "text/html": [
       "<div>\n",
       "<style scoped>\n",
       "    .dataframe tbody tr th:only-of-type {\n",
       "        vertical-align: middle;\n",
       "    }\n",
       "\n",
       "    .dataframe tbody tr th {\n",
       "        vertical-align: top;\n",
       "    }\n",
       "\n",
       "    .dataframe thead th {\n",
       "        text-align: right;\n",
       "    }\n",
       "</style>\n",
       "<table border=\"1\" class=\"dataframe\">\n",
       "  <thead>\n",
       "    <tr style=\"text-align: right;\">\n",
       "      <th></th>\n",
       "      <th>orderId</th>\n",
       "      <th>Denda</th>\n",
       "      <th>Kode Kualitas Kredit atau Pembiayaan</th>\n",
       "      <th>Kode Kondisi</th>\n",
       "    </tr>\n",
       "  </thead>\n",
       "  <tbody>\n",
       "  </tbody>\n",
       "</table>\n",
       "</div>"
      ],
      "text/plain": [
       "Empty DataFrame\n",
       "Columns: [orderId, Denda, Kode Kualitas Kredit atau Pembiayaan, Kode Kondisi]\n",
       "Index: []"
      ]
     },
     "execution_count": 39,
     "metadata": {},
     "output_type": "execute_result"
    }
   ],
   "source": [
    "F01new[(F01new['Tunggakan Bunga atau Imbalan']>0) & (F01new['Kode Kualitas Kredit atau Pembiayaan']!='1') & (F01new['Kode Kondisi']=='02')][['orderId','Denda','Kode Kualitas Kredit atau Pembiayaan','Kode Kondisi']]"
   ]
  },
  {
   "cell_type": "code",
   "execution_count": 40,
   "metadata": {},
   "outputs": [
    {
     "data": {
      "text/html": [
       "<div>\n",
       "<style scoped>\n",
       "    .dataframe tbody tr th:only-of-type {\n",
       "        vertical-align: middle;\n",
       "    }\n",
       "\n",
       "    .dataframe tbody tr th {\n",
       "        vertical-align: top;\n",
       "    }\n",
       "\n",
       "    .dataframe thead th {\n",
       "        text-align: right;\n",
       "    }\n",
       "</style>\n",
       "<table border=\"1\" class=\"dataframe\">\n",
       "  <thead>\n",
       "    <tr style=\"text-align: right;\">\n",
       "      <th></th>\n",
       "      <th>orderId</th>\n",
       "      <th>Kode Sebab Macet</th>\n",
       "      <th>Kode Kualitas Kredit atau Pembiayaan</th>\n",
       "    </tr>\n",
       "  </thead>\n",
       "  <tbody>\n",
       "  </tbody>\n",
       "</table>\n",
       "</div>"
      ],
      "text/plain": [
       "Empty DataFrame\n",
       "Columns: [orderId, Kode Sebab Macet, Kode Kualitas Kredit atau Pembiayaan]\n",
       "Index: []"
      ]
     },
     "execution_count": 40,
     "metadata": {},
     "output_type": "execute_result"
    }
   ],
   "source": [
    "F01new[(F01new['Kode Sebab Macet']=='99') & (F01new['Kode Kualitas Kredit atau Pembiayaan']=='1')][['orderId','Kode Sebab Macet','Kode Kualitas Kredit atau Pembiayaan']]"
   ]
  },
  {
   "cell_type": "code",
   "execution_count": 41,
   "metadata": {},
   "outputs": [
    {
     "data": {
      "text/html": [
       "<div>\n",
       "<style scoped>\n",
       "    .dataframe tbody tr th:only-of-type {\n",
       "        vertical-align: middle;\n",
       "    }\n",
       "\n",
       "    .dataframe tbody tr th {\n",
       "        vertical-align: top;\n",
       "    }\n",
       "\n",
       "    .dataframe thead th {\n",
       "        text-align: right;\n",
       "    }\n",
       "</style>\n",
       "<table border=\"1\" class=\"dataframe\">\n",
       "  <thead>\n",
       "    <tr style=\"text-align: right;\">\n",
       "      <th></th>\n",
       "      <th>orderId</th>\n",
       "      <th>Tanggal Macet</th>\n",
       "      <th>Kode Kualitas Kredit atau Pembiayaan</th>\n",
       "    </tr>\n",
       "  </thead>\n",
       "  <tbody>\n",
       "  </tbody>\n",
       "</table>\n",
       "</div>"
      ],
      "text/plain": [
       "Empty DataFrame\n",
       "Columns: [orderId, Tanggal Macet, Kode Kualitas Kredit atau Pembiayaan]\n",
       "Index: []"
      ]
     },
     "execution_count": 41,
     "metadata": {},
     "output_type": "execute_result"
    }
   ],
   "source": [
    "F01new[(~F01new['Tanggal Macet'].isnull()) & (F01new['Kode Kualitas Kredit atau Pembiayaan']=='1')][['orderId','Tanggal Macet','Kode Kualitas Kredit atau Pembiayaan']]"
   ]
  },
  {
   "cell_type": "markdown",
   "metadata": {},
   "source": [
    "# Final File to Send to KBIJ D01 and F01"
   ]
  },
  {
   "cell_type": "markdown",
   "metadata": {},
   "source": [
    "Null check for CIF and NIK"
   ]
  },
  {
   "cell_type": "code",
   "execution_count": 42,
   "metadata": {},
   "outputs": [
    {
     "data": {
      "text/html": [
       "<div>\n",
       "<style scoped>\n",
       "    .dataframe tbody tr th:only-of-type {\n",
       "        vertical-align: middle;\n",
       "    }\n",
       "\n",
       "    .dataframe tbody tr th {\n",
       "        vertical-align: top;\n",
       "    }\n",
       "\n",
       "    .dataframe thead th {\n",
       "        text-align: right;\n",
       "    }\n",
       "</style>\n",
       "<table border=\"1\" class=\"dataframe\">\n",
       "  <thead>\n",
       "    <tr style=\"text-align: right;\">\n",
       "      <th></th>\n",
       "      <th>Kode Jenis Pelapor</th>\n",
       "      <th>Kode Pelapor</th>\n",
       "      <th>Tahun Bulan Data</th>\n",
       "      <th>Nomor CIF Lama Debitur</th>\n",
       "      <th>Nomor CIF Debitur</th>\n",
       "      <th>Jenis Identitas</th>\n",
       "      <th>Nomor Identitas</th>\n",
       "      <th>Nama Sesuai Identitas</th>\n",
       "      <th>Nama Lengkap</th>\n",
       "      <th>Kode Status Pendidikan atau Gelar Debitur</th>\n",
       "      <th>...</th>\n",
       "      <th>Kode Kantor Cabang</th>\n",
       "      <th>Operasi Data</th>\n",
       "      <th>Status delete</th>\n",
       "      <th>Create Date</th>\n",
       "      <th>Update Date</th>\n",
       "      <th>Approved Date</th>\n",
       "      <th>userId</th>\n",
       "      <th>orderId</th>\n",
       "      <th>paidoffDate</th>\n",
       "      <th>status</th>\n",
       "    </tr>\n",
       "  </thead>\n",
       "  <tbody>\n",
       "  </tbody>\n",
       "</table>\n",
       "<p>0 rows × 40 columns</p>\n",
       "</div>"
      ],
      "text/plain": [
       "Empty DataFrame\n",
       "Columns: [Kode Jenis Pelapor, Kode Pelapor, Tahun Bulan Data, Nomor CIF Lama Debitur, Nomor CIF Debitur, Jenis Identitas, Nomor Identitas, Nama Sesuai Identitas, Nama Lengkap, Kode Status Pendidikan atau Gelar Debitur, Jenis Kelamin, Tempat Lahir, Tanggal Lahir, Nama Gadis Ibu Kandung, NPWP, Alamat, Kelurahan, Kecamatan, Kode Kabupaten atau Kota, Kode Pos, Nomor Telepon, Nomor Telepon Seluler, Alamat e-mail, Kode Negara Domisili, Kode Pekerjaan, Tempat Bekerja, Kode Bidang Usaha Tempat Bekerja, Alamat Tempat Bekerja, Kode Golongan Debitur, Status Perkawinan Debitur, Kode Kantor Cabang, Operasi Data, Status delete, Create Date, Update Date, Approved Date, userId, orderId, paidoffDate, status]\n",
       "Index: []\n",
       "\n",
       "[0 rows x 40 columns]"
      ]
     },
     "execution_count": 42,
     "metadata": {},
     "output_type": "execute_result"
    }
   ],
   "source": [
    "D01new.loc[(D01new['Nomor CIF Debitur'].isna())|(D01new['Nama Lengkap'].isna())|(D01new['Tanggal Lahir'].isna())|(D01new['Nomor Identitas'].isna())]"
   ]
  },
  {
   "cell_type": "code",
   "execution_count": 43,
   "metadata": {},
   "outputs": [],
   "source": [
    "D01new.drop(D01new.loc[(D01new['Nomor CIF Debitur'].isna())|(D01new['Nama Lengkap'].isna())|(D01new['Tanggal Lahir'].isna())|(D01new['Nomor Identitas'].isna())].index, inplace=True)"
   ]
  },
  {
   "cell_type": "code",
   "execution_count": 44,
   "metadata": {},
   "outputs": [
    {
     "data": {
      "text/html": [
       "<div>\n",
       "<style scoped>\n",
       "    .dataframe tbody tr th:only-of-type {\n",
       "        vertical-align: middle;\n",
       "    }\n",
       "\n",
       "    .dataframe tbody tr th {\n",
       "        vertical-align: top;\n",
       "    }\n",
       "\n",
       "    .dataframe thead th {\n",
       "        text-align: right;\n",
       "    }\n",
       "</style>\n",
       "<table border=\"1\" class=\"dataframe\">\n",
       "  <thead>\n",
       "    <tr style=\"text-align: right;\">\n",
       "      <th></th>\n",
       "      <th>Kode Jenis Pelapor</th>\n",
       "      <th>Kode Pelapor</th>\n",
       "      <th>Tahun Bulan Data</th>\n",
       "      <th>Kode Jenis Fasilitas</th>\n",
       "      <th>Nomor Rekening Fasilitas</th>\n",
       "      <th>Nomor Rekening Lama Fasilitas</th>\n",
       "      <th>Nomor CIF Debitur</th>\n",
       "      <th>Kode Sifat Kredit atau Pembiayaan</th>\n",
       "      <th>Kode Jenis Kredit atau Pembiayaan</th>\n",
       "      <th>Kode Akad Kredit atau Akad Pembiayaan</th>\n",
       "      <th>...</th>\n",
       "      <th>lateFee</th>\n",
       "      <th>balanceWithInterest</th>\n",
       "      <th>balance</th>\n",
       "      <th>dataDate</th>\n",
       "      <th>jumlah cicilan</th>\n",
       "      <th>current payment periode month</th>\n",
       "      <th>count payment</th>\n",
       "      <th>paidoffDate</th>\n",
       "      <th>status</th>\n",
       "      <th>Tunggakan Pokok</th>\n",
       "    </tr>\n",
       "  </thead>\n",
       "  <tbody>\n",
       "  </tbody>\n",
       "</table>\n",
       "<p>0 rows × 69 columns</p>\n",
       "</div>"
      ],
      "text/plain": [
       "Empty DataFrame\n",
       "Columns: [Kode Jenis Pelapor, Kode Pelapor, Tahun Bulan Data, Kode Jenis Fasilitas, Nomor Rekening Fasilitas, Nomor Rekening Lama Fasilitas, Nomor CIF Debitur, Kode Sifat Kredit atau Pembiayaan, Kode Jenis Kredit atau Pembiayaan, Kode Akad Kredit atau Akad Pembiayaan, Nomor Akad Awal, Tanggal Akad Awal, Nomor Akad Akhir, Tanggal Akad Akhir, Frekuensi Perpanjangan Fasilitas Kredit atau Pembiayaan, Tanggal Awal Kredit atau Pembiayaan, Tanggal Mulai, Tanggal Jatuh Tempo, Kode Kategori Debitur, Kode Jenis Penggunaan, Kode Orientasi Penggunaan, Kode Sektor Ekonomi, Kode Kabupaten atau Kota Lokasi Proyek atau Penggunaan Kredit atau Pembiayaan, Nilai Proyek, Kode Valuta, Suku Bunga atau Imbalan, Jenis Suku Bunga atau Imbalan, Kredit atau Pembiayaan Program Pemerintah, Plafon Awal, Plafon, Realisasi atau Pencairan Bulan Berjalan, Denda, Baki Debet, Nilai dalam Mata Uang Asal, Kode Kualitas Kredit atau Pembiayaan, Tanggal Macet, Kode Sebab Macet, Tunggakan Bunga atau Imbalan, Jumlah Hari Tunggakan, Frekuensi Tunggakan, Frekuensi Restrukturisasi, Tanggal Restrukturisasi Awal, Tanggal Restrukturisasi Akhir, Kode Cara Restrukturisasi, Kode Kondisi, Tanggal Kondisi, Keterangan, Kode Kantor Cabang, Operasi Data, Status delete, Create Date, Update Date, Approved Date, userId, orderId, dayPastDue, approvedLoanAmount, approvedLoanTenureInMonth, maxdayPastDue, lateFee, balanceWithInterest, balance, dataDate, jumlah cicilan, current payment periode month, count payment, paidoffDate, status, Tunggakan Pokok]\n",
       "Index: []\n",
       "\n",
       "[0 rows x 69 columns]"
      ]
     },
     "execution_count": 44,
     "metadata": {},
     "output_type": "execute_result"
    }
   ],
   "source": [
    "F01new.loc[F01new['Nomor CIF Debitur'].isna()]"
   ]
  },
  {
   "cell_type": "code",
   "execution_count": 45,
   "metadata": {},
   "outputs": [],
   "source": [
    "F01new.drop(F01new.loc[F01new['Nomor CIF Debitur'].isna()].index, inplace=True)"
   ]
  },
  {
   "cell_type": "markdown",
   "metadata": {},
   "source": [
    "## Export full data dump to csv to be used in the next iteration"
   ]
  },
  {
   "cell_type": "code",
   "execution_count": 51,
   "metadata": {},
   "outputs": [],
   "source": [
    "F01new.to_csv(path_or_buf=filtered_filename_F01, index=0)\n",
    "D01new.to_csv(path_or_buf=filtered_filename_D01, index=0)"
   ]
  },
  {
   "cell_type": "code",
   "execution_count": 26,
   "metadata": {},
   "outputs": [
    {
     "ename": "ConnectionError",
     "evalue": "('Connection aborted.', ConnectionResetError(10054, 'An existing connection was forcibly closed by the remote host', None, 10054, None))",
     "output_type": "error",
     "traceback": [
      "\u001b[1;31m---------------------------------------------------------------------------\u001b[0m",
      "\u001b[1;31mConnectionResetError\u001b[0m                      Traceback (most recent call last)",
      "\u001b[1;32mc:\\users\\cermati.cermati-samuel\\anaconda3\\envs\\risk_env\\lib\\site-packages\\urllib3\\connectionpool.py\u001b[0m in \u001b[0;36murlopen\u001b[1;34m(self, method, url, body, headers, retries, redirect, assert_same_host, timeout, pool_timeout, release_conn, chunked, body_pos, **response_kw)\u001b[0m\n\u001b[0;32m    671\u001b[0m                 \u001b[0mheaders\u001b[0m\u001b[1;33m=\u001b[0m\u001b[0mheaders\u001b[0m\u001b[1;33m,\u001b[0m\u001b[1;33m\u001b[0m\u001b[0m\n\u001b[1;32m--> 672\u001b[1;33m                 \u001b[0mchunked\u001b[0m\u001b[1;33m=\u001b[0m\u001b[0mchunked\u001b[0m\u001b[1;33m,\u001b[0m\u001b[1;33m\u001b[0m\u001b[0m\n\u001b[0m\u001b[0;32m    673\u001b[0m             )\n",
      "\u001b[1;32mc:\\users\\cermati.cermati-samuel\\anaconda3\\envs\\risk_env\\lib\\site-packages\\urllib3\\connectionpool.py\u001b[0m in \u001b[0;36m_make_request\u001b[1;34m(self, conn, method, url, timeout, chunked, **httplib_request_kw)\u001b[0m\n\u001b[0;32m    386\u001b[0m         \u001b[1;32melse\u001b[0m\u001b[1;33m:\u001b[0m\u001b[1;33m\u001b[0m\u001b[0m\n\u001b[1;32m--> 387\u001b[1;33m             \u001b[0mconn\u001b[0m\u001b[1;33m.\u001b[0m\u001b[0mrequest\u001b[0m\u001b[1;33m(\u001b[0m\u001b[0mmethod\u001b[0m\u001b[1;33m,\u001b[0m \u001b[0murl\u001b[0m\u001b[1;33m,\u001b[0m \u001b[1;33m**\u001b[0m\u001b[0mhttplib_request_kw\u001b[0m\u001b[1;33m)\u001b[0m\u001b[1;33m\u001b[0m\u001b[0m\n\u001b[0m\u001b[0;32m    388\u001b[0m \u001b[1;33m\u001b[0m\u001b[0m\n",
      "\u001b[1;32mc:\\users\\cermati.cermati-samuel\\anaconda3\\envs\\risk_env\\lib\\http\\client.py\u001b[0m in \u001b[0;36mrequest\u001b[1;34m(self, method, url, body, headers, encode_chunked)\u001b[0m\n\u001b[0;32m   1228\u001b[0m         \u001b[1;34m\"\"\"Send a complete request to the server.\"\"\"\u001b[0m\u001b[1;33m\u001b[0m\u001b[0m\n\u001b[1;32m-> 1229\u001b[1;33m         \u001b[0mself\u001b[0m\u001b[1;33m.\u001b[0m\u001b[0m_send_request\u001b[0m\u001b[1;33m(\u001b[0m\u001b[0mmethod\u001b[0m\u001b[1;33m,\u001b[0m \u001b[0murl\u001b[0m\u001b[1;33m,\u001b[0m \u001b[0mbody\u001b[0m\u001b[1;33m,\u001b[0m \u001b[0mheaders\u001b[0m\u001b[1;33m,\u001b[0m \u001b[0mencode_chunked\u001b[0m\u001b[1;33m)\u001b[0m\u001b[1;33m\u001b[0m\u001b[0m\n\u001b[0m\u001b[0;32m   1230\u001b[0m \u001b[1;33m\u001b[0m\u001b[0m\n",
      "\u001b[1;32mc:\\users\\cermati.cermati-samuel\\anaconda3\\envs\\risk_env\\lib\\http\\client.py\u001b[0m in \u001b[0;36m_send_request\u001b[1;34m(self, method, url, body, headers, encode_chunked)\u001b[0m\n\u001b[0;32m   1274\u001b[0m             \u001b[0mbody\u001b[0m \u001b[1;33m=\u001b[0m \u001b[0m_encode\u001b[0m\u001b[1;33m(\u001b[0m\u001b[0mbody\u001b[0m\u001b[1;33m,\u001b[0m \u001b[1;34m'body'\u001b[0m\u001b[1;33m)\u001b[0m\u001b[1;33m\u001b[0m\u001b[0m\n\u001b[1;32m-> 1275\u001b[1;33m         \u001b[0mself\u001b[0m\u001b[1;33m.\u001b[0m\u001b[0mendheaders\u001b[0m\u001b[1;33m(\u001b[0m\u001b[0mbody\u001b[0m\u001b[1;33m,\u001b[0m \u001b[0mencode_chunked\u001b[0m\u001b[1;33m=\u001b[0m\u001b[0mencode_chunked\u001b[0m\u001b[1;33m)\u001b[0m\u001b[1;33m\u001b[0m\u001b[0m\n\u001b[0m\u001b[0;32m   1276\u001b[0m \u001b[1;33m\u001b[0m\u001b[0m\n",
      "\u001b[1;32mc:\\users\\cermati.cermati-samuel\\anaconda3\\envs\\risk_env\\lib\\http\\client.py\u001b[0m in \u001b[0;36mendheaders\u001b[1;34m(self, message_body, encode_chunked)\u001b[0m\n\u001b[0;32m   1223\u001b[0m             \u001b[1;32mraise\u001b[0m \u001b[0mCannotSendHeader\u001b[0m\u001b[1;33m(\u001b[0m\u001b[1;33m)\u001b[0m\u001b[1;33m\u001b[0m\u001b[0m\n\u001b[1;32m-> 1224\u001b[1;33m         \u001b[0mself\u001b[0m\u001b[1;33m.\u001b[0m\u001b[0m_send_output\u001b[0m\u001b[1;33m(\u001b[0m\u001b[0mmessage_body\u001b[0m\u001b[1;33m,\u001b[0m \u001b[0mencode_chunked\u001b[0m\u001b[1;33m=\u001b[0m\u001b[0mencode_chunked\u001b[0m\u001b[1;33m)\u001b[0m\u001b[1;33m\u001b[0m\u001b[0m\n\u001b[0m\u001b[0;32m   1225\u001b[0m \u001b[1;33m\u001b[0m\u001b[0m\n",
      "\u001b[1;32mc:\\users\\cermati.cermati-samuel\\anaconda3\\envs\\risk_env\\lib\\http\\client.py\u001b[0m in \u001b[0;36m_send_output\u001b[1;34m(self, message_body, encode_chunked)\u001b[0m\n\u001b[0;32m   1054\u001b[0m                         \u001b[1;33m+\u001b[0m \u001b[1;34mb'\\r\\n'\u001b[0m\u001b[1;33m\u001b[0m\u001b[0m\n\u001b[1;32m-> 1055\u001b[1;33m                 \u001b[0mself\u001b[0m\u001b[1;33m.\u001b[0m\u001b[0msend\u001b[0m\u001b[1;33m(\u001b[0m\u001b[0mchunk\u001b[0m\u001b[1;33m)\u001b[0m\u001b[1;33m\u001b[0m\u001b[0m\n\u001b[0m\u001b[0;32m   1056\u001b[0m \u001b[1;33m\u001b[0m\u001b[0m\n",
      "\u001b[1;32mc:\\users\\cermati.cermati-samuel\\anaconda3\\envs\\risk_env\\lib\\http\\client.py\u001b[0m in \u001b[0;36msend\u001b[1;34m(self, data)\u001b[0m\n\u001b[0;32m    976\u001b[0m         \u001b[1;32mtry\u001b[0m\u001b[1;33m:\u001b[0m\u001b[1;33m\u001b[0m\u001b[0m\n\u001b[1;32m--> 977\u001b[1;33m             \u001b[0mself\u001b[0m\u001b[1;33m.\u001b[0m\u001b[0msock\u001b[0m\u001b[1;33m.\u001b[0m\u001b[0msendall\u001b[0m\u001b[1;33m(\u001b[0m\u001b[0mdata\u001b[0m\u001b[1;33m)\u001b[0m\u001b[1;33m\u001b[0m\u001b[0m\n\u001b[0m\u001b[0;32m    978\u001b[0m         \u001b[1;32mexcept\u001b[0m \u001b[0mTypeError\u001b[0m\u001b[1;33m:\u001b[0m\u001b[1;33m\u001b[0m\u001b[0m\n",
      "\u001b[1;32mc:\\users\\cermati.cermati-samuel\\anaconda3\\envs\\risk_env\\lib\\ssl.py\u001b[0m in \u001b[0;36msendall\u001b[1;34m(self, data, flags)\u001b[0m\n\u001b[0;32m   1011\u001b[0m                 \u001b[1;32mwhile\u001b[0m \u001b[0mcount\u001b[0m \u001b[1;33m<\u001b[0m \u001b[0mamount\u001b[0m\u001b[1;33m:\u001b[0m\u001b[1;33m\u001b[0m\u001b[0m\n\u001b[1;32m-> 1012\u001b[1;33m                     \u001b[0mv\u001b[0m \u001b[1;33m=\u001b[0m \u001b[0mself\u001b[0m\u001b[1;33m.\u001b[0m\u001b[0msend\u001b[0m\u001b[1;33m(\u001b[0m\u001b[0mbyte_view\u001b[0m\u001b[1;33m[\u001b[0m\u001b[0mcount\u001b[0m\u001b[1;33m:\u001b[0m\u001b[1;33m]\u001b[0m\u001b[1;33m)\u001b[0m\u001b[1;33m\u001b[0m\u001b[0m\n\u001b[0m\u001b[0;32m   1013\u001b[0m                     \u001b[0mcount\u001b[0m \u001b[1;33m+=\u001b[0m \u001b[0mv\u001b[0m\u001b[1;33m\u001b[0m\u001b[0m\n",
      "\u001b[1;32mc:\\users\\cermati.cermati-samuel\\anaconda3\\envs\\risk_env\\lib\\ssl.py\u001b[0m in \u001b[0;36msend\u001b[1;34m(self, data, flags)\u001b[0m\n\u001b[0;32m    980\u001b[0m                     self.__class__)\n\u001b[1;32m--> 981\u001b[1;33m             \u001b[1;32mreturn\u001b[0m \u001b[0mself\u001b[0m\u001b[1;33m.\u001b[0m\u001b[0m_sslobj\u001b[0m\u001b[1;33m.\u001b[0m\u001b[0mwrite\u001b[0m\u001b[1;33m(\u001b[0m\u001b[0mdata\u001b[0m\u001b[1;33m)\u001b[0m\u001b[1;33m\u001b[0m\u001b[0m\n\u001b[0m\u001b[0;32m    982\u001b[0m         \u001b[1;32melse\u001b[0m\u001b[1;33m:\u001b[0m\u001b[1;33m\u001b[0m\u001b[0m\n",
      "\u001b[1;31mConnectionResetError\u001b[0m: [WinError 10054] An existing connection was forcibly closed by the remote host",
      "\nDuring handling of the above exception, another exception occurred:\n",
      "\u001b[1;31mProtocolError\u001b[0m                             Traceback (most recent call last)",
      "\u001b[1;32mc:\\users\\cermati.cermati-samuel\\anaconda3\\envs\\risk_env\\lib\\site-packages\\requests\\adapters.py\u001b[0m in \u001b[0;36msend\u001b[1;34m(self, request, stream, timeout, verify, cert, proxies)\u001b[0m\n\u001b[0;32m    448\u001b[0m                     \u001b[0mretries\u001b[0m\u001b[1;33m=\u001b[0m\u001b[0mself\u001b[0m\u001b[1;33m.\u001b[0m\u001b[0mmax_retries\u001b[0m\u001b[1;33m,\u001b[0m\u001b[1;33m\u001b[0m\u001b[0m\n\u001b[1;32m--> 449\u001b[1;33m                     \u001b[0mtimeout\u001b[0m\u001b[1;33m=\u001b[0m\u001b[0mtimeout\u001b[0m\u001b[1;33m\u001b[0m\u001b[0m\n\u001b[0m\u001b[0;32m    450\u001b[0m                 )\n",
      "\u001b[1;32mc:\\users\\cermati.cermati-samuel\\anaconda3\\envs\\risk_env\\lib\\site-packages\\urllib3\\connectionpool.py\u001b[0m in \u001b[0;36murlopen\u001b[1;34m(self, method, url, body, headers, retries, redirect, assert_same_host, timeout, pool_timeout, release_conn, chunked, body_pos, **response_kw)\u001b[0m\n\u001b[0;32m    719\u001b[0m             retries = retries.increment(\n\u001b[1;32m--> 720\u001b[1;33m                 \u001b[0mmethod\u001b[0m\u001b[1;33m,\u001b[0m \u001b[0murl\u001b[0m\u001b[1;33m,\u001b[0m \u001b[0merror\u001b[0m\u001b[1;33m=\u001b[0m\u001b[0me\u001b[0m\u001b[1;33m,\u001b[0m \u001b[0m_pool\u001b[0m\u001b[1;33m=\u001b[0m\u001b[0mself\u001b[0m\u001b[1;33m,\u001b[0m \u001b[0m_stacktrace\u001b[0m\u001b[1;33m=\u001b[0m\u001b[0msys\u001b[0m\u001b[1;33m.\u001b[0m\u001b[0mexc_info\u001b[0m\u001b[1;33m(\u001b[0m\u001b[1;33m)\u001b[0m\u001b[1;33m[\u001b[0m\u001b[1;36m2\u001b[0m\u001b[1;33m]\u001b[0m\u001b[1;33m\u001b[0m\u001b[0m\n\u001b[0m\u001b[0;32m    721\u001b[0m             )\n",
      "\u001b[1;32mc:\\users\\cermati.cermati-samuel\\anaconda3\\envs\\risk_env\\lib\\site-packages\\urllib3\\util\\retry.py\u001b[0m in \u001b[0;36mincrement\u001b[1;34m(self, method, url, response, error, _pool, _stacktrace)\u001b[0m\n\u001b[0;32m    399\u001b[0m             \u001b[1;32mif\u001b[0m \u001b[0mread\u001b[0m \u001b[1;32mis\u001b[0m \u001b[1;32mFalse\u001b[0m \u001b[1;32mor\u001b[0m \u001b[1;32mnot\u001b[0m \u001b[0mself\u001b[0m\u001b[1;33m.\u001b[0m\u001b[0m_is_method_retryable\u001b[0m\u001b[1;33m(\u001b[0m\u001b[0mmethod\u001b[0m\u001b[1;33m)\u001b[0m\u001b[1;33m:\u001b[0m\u001b[1;33m\u001b[0m\u001b[0m\n\u001b[1;32m--> 400\u001b[1;33m                 \u001b[1;32mraise\u001b[0m \u001b[0msix\u001b[0m\u001b[1;33m.\u001b[0m\u001b[0mreraise\u001b[0m\u001b[1;33m(\u001b[0m\u001b[0mtype\u001b[0m\u001b[1;33m(\u001b[0m\u001b[0merror\u001b[0m\u001b[1;33m)\u001b[0m\u001b[1;33m,\u001b[0m \u001b[0merror\u001b[0m\u001b[1;33m,\u001b[0m \u001b[0m_stacktrace\u001b[0m\u001b[1;33m)\u001b[0m\u001b[1;33m\u001b[0m\u001b[0m\n\u001b[0m\u001b[0;32m    401\u001b[0m             \u001b[1;32melif\u001b[0m \u001b[0mread\u001b[0m \u001b[1;32mis\u001b[0m \u001b[1;32mnot\u001b[0m \u001b[1;32mNone\u001b[0m\u001b[1;33m:\u001b[0m\u001b[1;33m\u001b[0m\u001b[0m\n",
      "\u001b[1;32mc:\\users\\cermati.cermati-samuel\\anaconda3\\envs\\risk_env\\lib\\site-packages\\urllib3\\packages\\six.py\u001b[0m in \u001b[0;36mreraise\u001b[1;34m(tp, value, tb)\u001b[0m\n\u001b[0;32m    733\u001b[0m             \u001b[1;32mif\u001b[0m \u001b[0mvalue\u001b[0m\u001b[1;33m.\u001b[0m\u001b[0m__traceback__\u001b[0m \u001b[1;32mis\u001b[0m \u001b[1;32mnot\u001b[0m \u001b[0mtb\u001b[0m\u001b[1;33m:\u001b[0m\u001b[1;33m\u001b[0m\u001b[0m\n\u001b[1;32m--> 734\u001b[1;33m                 \u001b[1;32mraise\u001b[0m \u001b[0mvalue\u001b[0m\u001b[1;33m.\u001b[0m\u001b[0mwith_traceback\u001b[0m\u001b[1;33m(\u001b[0m\u001b[0mtb\u001b[0m\u001b[1;33m)\u001b[0m\u001b[1;33m\u001b[0m\u001b[0m\n\u001b[0m\u001b[0;32m    735\u001b[0m             \u001b[1;32mraise\u001b[0m \u001b[0mvalue\u001b[0m\u001b[1;33m\u001b[0m\u001b[0m\n",
      "\u001b[1;32mc:\\users\\cermati.cermati-samuel\\anaconda3\\envs\\risk_env\\lib\\site-packages\\urllib3\\connectionpool.py\u001b[0m in \u001b[0;36murlopen\u001b[1;34m(self, method, url, body, headers, retries, redirect, assert_same_host, timeout, pool_timeout, release_conn, chunked, body_pos, **response_kw)\u001b[0m\n\u001b[0;32m    671\u001b[0m                 \u001b[0mheaders\u001b[0m\u001b[1;33m=\u001b[0m\u001b[0mheaders\u001b[0m\u001b[1;33m,\u001b[0m\u001b[1;33m\u001b[0m\u001b[0m\n\u001b[1;32m--> 672\u001b[1;33m                 \u001b[0mchunked\u001b[0m\u001b[1;33m=\u001b[0m\u001b[0mchunked\u001b[0m\u001b[1;33m,\u001b[0m\u001b[1;33m\u001b[0m\u001b[0m\n\u001b[0m\u001b[0;32m    673\u001b[0m             )\n",
      "\u001b[1;32mc:\\users\\cermati.cermati-samuel\\anaconda3\\envs\\risk_env\\lib\\site-packages\\urllib3\\connectionpool.py\u001b[0m in \u001b[0;36m_make_request\u001b[1;34m(self, conn, method, url, timeout, chunked, **httplib_request_kw)\u001b[0m\n\u001b[0;32m    386\u001b[0m         \u001b[1;32melse\u001b[0m\u001b[1;33m:\u001b[0m\u001b[1;33m\u001b[0m\u001b[0m\n\u001b[1;32m--> 387\u001b[1;33m             \u001b[0mconn\u001b[0m\u001b[1;33m.\u001b[0m\u001b[0mrequest\u001b[0m\u001b[1;33m(\u001b[0m\u001b[0mmethod\u001b[0m\u001b[1;33m,\u001b[0m \u001b[0murl\u001b[0m\u001b[1;33m,\u001b[0m \u001b[1;33m**\u001b[0m\u001b[0mhttplib_request_kw\u001b[0m\u001b[1;33m)\u001b[0m\u001b[1;33m\u001b[0m\u001b[0m\n\u001b[0m\u001b[0;32m    388\u001b[0m \u001b[1;33m\u001b[0m\u001b[0m\n",
      "\u001b[1;32mc:\\users\\cermati.cermati-samuel\\anaconda3\\envs\\risk_env\\lib\\http\\client.py\u001b[0m in \u001b[0;36mrequest\u001b[1;34m(self, method, url, body, headers, encode_chunked)\u001b[0m\n\u001b[0;32m   1228\u001b[0m         \u001b[1;34m\"\"\"Send a complete request to the server.\"\"\"\u001b[0m\u001b[1;33m\u001b[0m\u001b[0m\n\u001b[1;32m-> 1229\u001b[1;33m         \u001b[0mself\u001b[0m\u001b[1;33m.\u001b[0m\u001b[0m_send_request\u001b[0m\u001b[1;33m(\u001b[0m\u001b[0mmethod\u001b[0m\u001b[1;33m,\u001b[0m \u001b[0murl\u001b[0m\u001b[1;33m,\u001b[0m \u001b[0mbody\u001b[0m\u001b[1;33m,\u001b[0m \u001b[0mheaders\u001b[0m\u001b[1;33m,\u001b[0m \u001b[0mencode_chunked\u001b[0m\u001b[1;33m)\u001b[0m\u001b[1;33m\u001b[0m\u001b[0m\n\u001b[0m\u001b[0;32m   1230\u001b[0m \u001b[1;33m\u001b[0m\u001b[0m\n",
      "\u001b[1;32mc:\\users\\cermati.cermati-samuel\\anaconda3\\envs\\risk_env\\lib\\http\\client.py\u001b[0m in \u001b[0;36m_send_request\u001b[1;34m(self, method, url, body, headers, encode_chunked)\u001b[0m\n\u001b[0;32m   1274\u001b[0m             \u001b[0mbody\u001b[0m \u001b[1;33m=\u001b[0m \u001b[0m_encode\u001b[0m\u001b[1;33m(\u001b[0m\u001b[0mbody\u001b[0m\u001b[1;33m,\u001b[0m \u001b[1;34m'body'\u001b[0m\u001b[1;33m)\u001b[0m\u001b[1;33m\u001b[0m\u001b[0m\n\u001b[1;32m-> 1275\u001b[1;33m         \u001b[0mself\u001b[0m\u001b[1;33m.\u001b[0m\u001b[0mendheaders\u001b[0m\u001b[1;33m(\u001b[0m\u001b[0mbody\u001b[0m\u001b[1;33m,\u001b[0m \u001b[0mencode_chunked\u001b[0m\u001b[1;33m=\u001b[0m\u001b[0mencode_chunked\u001b[0m\u001b[1;33m)\u001b[0m\u001b[1;33m\u001b[0m\u001b[0m\n\u001b[0m\u001b[0;32m   1276\u001b[0m \u001b[1;33m\u001b[0m\u001b[0m\n",
      "\u001b[1;32mc:\\users\\cermati.cermati-samuel\\anaconda3\\envs\\risk_env\\lib\\http\\client.py\u001b[0m in \u001b[0;36mendheaders\u001b[1;34m(self, message_body, encode_chunked)\u001b[0m\n\u001b[0;32m   1223\u001b[0m             \u001b[1;32mraise\u001b[0m \u001b[0mCannotSendHeader\u001b[0m\u001b[1;33m(\u001b[0m\u001b[1;33m)\u001b[0m\u001b[1;33m\u001b[0m\u001b[0m\n\u001b[1;32m-> 1224\u001b[1;33m         \u001b[0mself\u001b[0m\u001b[1;33m.\u001b[0m\u001b[0m_send_output\u001b[0m\u001b[1;33m(\u001b[0m\u001b[0mmessage_body\u001b[0m\u001b[1;33m,\u001b[0m \u001b[0mencode_chunked\u001b[0m\u001b[1;33m=\u001b[0m\u001b[0mencode_chunked\u001b[0m\u001b[1;33m)\u001b[0m\u001b[1;33m\u001b[0m\u001b[0m\n\u001b[0m\u001b[0;32m   1225\u001b[0m \u001b[1;33m\u001b[0m\u001b[0m\n",
      "\u001b[1;32mc:\\users\\cermati.cermati-samuel\\anaconda3\\envs\\risk_env\\lib\\http\\client.py\u001b[0m in \u001b[0;36m_send_output\u001b[1;34m(self, message_body, encode_chunked)\u001b[0m\n\u001b[0;32m   1054\u001b[0m                         \u001b[1;33m+\u001b[0m \u001b[1;34mb'\\r\\n'\u001b[0m\u001b[1;33m\u001b[0m\u001b[0m\n\u001b[1;32m-> 1055\u001b[1;33m                 \u001b[0mself\u001b[0m\u001b[1;33m.\u001b[0m\u001b[0msend\u001b[0m\u001b[1;33m(\u001b[0m\u001b[0mchunk\u001b[0m\u001b[1;33m)\u001b[0m\u001b[1;33m\u001b[0m\u001b[0m\n\u001b[0m\u001b[0;32m   1056\u001b[0m \u001b[1;33m\u001b[0m\u001b[0m\n",
      "\u001b[1;32mc:\\users\\cermati.cermati-samuel\\anaconda3\\envs\\risk_env\\lib\\http\\client.py\u001b[0m in \u001b[0;36msend\u001b[1;34m(self, data)\u001b[0m\n\u001b[0;32m    976\u001b[0m         \u001b[1;32mtry\u001b[0m\u001b[1;33m:\u001b[0m\u001b[1;33m\u001b[0m\u001b[0m\n\u001b[1;32m--> 977\u001b[1;33m             \u001b[0mself\u001b[0m\u001b[1;33m.\u001b[0m\u001b[0msock\u001b[0m\u001b[1;33m.\u001b[0m\u001b[0msendall\u001b[0m\u001b[1;33m(\u001b[0m\u001b[0mdata\u001b[0m\u001b[1;33m)\u001b[0m\u001b[1;33m\u001b[0m\u001b[0m\n\u001b[0m\u001b[0;32m    978\u001b[0m         \u001b[1;32mexcept\u001b[0m \u001b[0mTypeError\u001b[0m\u001b[1;33m:\u001b[0m\u001b[1;33m\u001b[0m\u001b[0m\n",
      "\u001b[1;32mc:\\users\\cermati.cermati-samuel\\anaconda3\\envs\\risk_env\\lib\\ssl.py\u001b[0m in \u001b[0;36msendall\u001b[1;34m(self, data, flags)\u001b[0m\n\u001b[0;32m   1011\u001b[0m                 \u001b[1;32mwhile\u001b[0m \u001b[0mcount\u001b[0m \u001b[1;33m<\u001b[0m \u001b[0mamount\u001b[0m\u001b[1;33m:\u001b[0m\u001b[1;33m\u001b[0m\u001b[0m\n\u001b[1;32m-> 1012\u001b[1;33m                     \u001b[0mv\u001b[0m \u001b[1;33m=\u001b[0m \u001b[0mself\u001b[0m\u001b[1;33m.\u001b[0m\u001b[0msend\u001b[0m\u001b[1;33m(\u001b[0m\u001b[0mbyte_view\u001b[0m\u001b[1;33m[\u001b[0m\u001b[0mcount\u001b[0m\u001b[1;33m:\u001b[0m\u001b[1;33m]\u001b[0m\u001b[1;33m)\u001b[0m\u001b[1;33m\u001b[0m\u001b[0m\n\u001b[0m\u001b[0;32m   1013\u001b[0m                     \u001b[0mcount\u001b[0m \u001b[1;33m+=\u001b[0m \u001b[0mv\u001b[0m\u001b[1;33m\u001b[0m\u001b[0m\n",
      "\u001b[1;32mc:\\users\\cermati.cermati-samuel\\anaconda3\\envs\\risk_env\\lib\\ssl.py\u001b[0m in \u001b[0;36msend\u001b[1;34m(self, data, flags)\u001b[0m\n\u001b[0;32m    980\u001b[0m                     self.__class__)\n\u001b[1;32m--> 981\u001b[1;33m             \u001b[1;32mreturn\u001b[0m \u001b[0mself\u001b[0m\u001b[1;33m.\u001b[0m\u001b[0m_sslobj\u001b[0m\u001b[1;33m.\u001b[0m\u001b[0mwrite\u001b[0m\u001b[1;33m(\u001b[0m\u001b[0mdata\u001b[0m\u001b[1;33m)\u001b[0m\u001b[1;33m\u001b[0m\u001b[0m\n\u001b[0m\u001b[0;32m    982\u001b[0m         \u001b[1;32melse\u001b[0m\u001b[1;33m:\u001b[0m\u001b[1;33m\u001b[0m\u001b[0m\n",
      "\u001b[1;31mProtocolError\u001b[0m: ('Connection aborted.', ConnectionResetError(10054, 'An existing connection was forcibly closed by the remote host', None, 10054, None))",
      "\nDuring handling of the above exception, another exception occurred:\n",
      "\u001b[1;31mConnectionError\u001b[0m                           Traceback (most recent call last)",
      "\u001b[1;32m<ipython-input-26-144750dfdd73>\u001b[0m in \u001b[0;36m<module>\u001b[1;34m\u001b[0m\n\u001b[1;32m----> 1\u001b[1;33m \u001b[0mDataStorage\u001b[0m\u001b[1;33m.\u001b[0m\u001b[0mupload_notebooks_data\u001b[0m\u001b[1;33m(\u001b[0m\u001b[0mfiltered_filename_F01\u001b[0m\u001b[1;33m,\u001b[0m \u001b[1;34m'kbij/'\u001b[0m\u001b[1;33m+\u001b[0m\u001b[0mpathname\u001b[0m\u001b[1;33m,\u001b[0m \u001b[1;34m'f01'\u001b[0m\u001b[1;33m+\u001b[0m\u001b[0mdatem\u001b[0m\u001b[1;33m+\u001b[0m\u001b[1;34m'_new_filtered.csv'\u001b[0m\u001b[1;33m)\u001b[0m\u001b[1;33m\u001b[0m\u001b[0m\n\u001b[0m",
      "\u001b[1;32mC:\\Reza\\indodana\\artemis\\autostats\\utilities\\data_storage.py\u001b[0m in \u001b[0;36mupload_notebooks_data\u001b[1;34m(source_filename, organization, destination_filename)\u001b[0m\n\u001b[0;32m    106\u001b[0m                 \u001b[0morganization\u001b[0m\u001b[1;33m,\u001b[0m\u001b[1;33m\u001b[0m\u001b[0m\n\u001b[0;32m    107\u001b[0m                 destination_filename)\n\u001b[1;32m--> 108\u001b[1;33m         \u001b[0mDataStorage\u001b[0m\u001b[1;33m.\u001b[0m\u001b[0mupload_with_versioning\u001b[0m\u001b[1;33m(\u001b[0m\u001b[0mdestination_blob_name\u001b[0m\u001b[1;33m,\u001b[0m \u001b[0msource_filename\u001b[0m\u001b[1;33m)\u001b[0m\u001b[1;33m\u001b[0m\u001b[0m\n\u001b[0m\u001b[0;32m    109\u001b[0m \u001b[1;33m\u001b[0m\u001b[0m\n\u001b[0;32m    110\u001b[0m     \u001b[1;33m@\u001b[0m\u001b[0mstaticmethod\u001b[0m\u001b[1;33m\u001b[0m\u001b[0m\n",
      "\u001b[1;32mC:\\Reza\\indodana\\artemis\\autostats\\utilities\\data_storage.py\u001b[0m in \u001b[0;36mupload_with_versioning\u001b[1;34m(destination_blob_name, source_filename)\u001b[0m\n\u001b[0;32m     49\u001b[0m         \u001b[0mblob\u001b[0m \u001b[1;33m=\u001b[0m \u001b[0mbucket\u001b[0m\u001b[1;33m.\u001b[0m\u001b[0mblob\u001b[0m\u001b[1;33m(\u001b[0m\u001b[0mversion_name\u001b[0m\u001b[1;33m)\u001b[0m\u001b[1;33m\u001b[0m\u001b[0m\n\u001b[0;32m     50\u001b[0m \u001b[1;33m\u001b[0m\u001b[0m\n\u001b[1;32m---> 51\u001b[1;33m         \u001b[0mblob\u001b[0m\u001b[1;33m.\u001b[0m\u001b[0mupload_from_filename\u001b[0m\u001b[1;33m(\u001b[0m\u001b[0msource_filename\u001b[0m\u001b[1;33m)\u001b[0m\u001b[1;33m\u001b[0m\u001b[0m\n\u001b[0m\u001b[0;32m     52\u001b[0m \u001b[1;33m\u001b[0m\u001b[0m\n\u001b[0;32m     53\u001b[0m         print(\n",
      "\u001b[1;32mc:\\users\\cermati.cermati-samuel\\anaconda3\\envs\\risk_env\\lib\\site-packages\\google\\cloud\\storage\\blob.py\u001b[0m in \u001b[0;36mupload_from_filename\u001b[1;34m(self, filename, content_type, client, predefined_acl)\u001b[0m\n\u001b[0;32m   1316\u001b[0m                 \u001b[0mclient\u001b[0m\u001b[1;33m=\u001b[0m\u001b[0mclient\u001b[0m\u001b[1;33m,\u001b[0m\u001b[1;33m\u001b[0m\u001b[0m\n\u001b[0;32m   1317\u001b[0m                 \u001b[0msize\u001b[0m\u001b[1;33m=\u001b[0m\u001b[0mtotal_bytes\u001b[0m\u001b[1;33m,\u001b[0m\u001b[1;33m\u001b[0m\u001b[0m\n\u001b[1;32m-> 1318\u001b[1;33m                 \u001b[0mpredefined_acl\u001b[0m\u001b[1;33m=\u001b[0m\u001b[0mpredefined_acl\u001b[0m\u001b[1;33m,\u001b[0m\u001b[1;33m\u001b[0m\u001b[0m\n\u001b[0m\u001b[0;32m   1319\u001b[0m             )\n\u001b[0;32m   1320\u001b[0m \u001b[1;33m\u001b[0m\u001b[0m\n",
      "\u001b[1;32mc:\\users\\cermati.cermati-samuel\\anaconda3\\envs\\risk_env\\lib\\site-packages\\google\\cloud\\storage\\blob.py\u001b[0m in \u001b[0;36mupload_from_file\u001b[1;34m(self, file_obj, rewind, size, content_type, num_retries, client, predefined_acl)\u001b[0m\n\u001b[0;32m   1261\u001b[0m         \u001b[1;32mtry\u001b[0m\u001b[1;33m:\u001b[0m\u001b[1;33m\u001b[0m\u001b[0m\n\u001b[0;32m   1262\u001b[0m             created_json = self._do_upload(\n\u001b[1;32m-> 1263\u001b[1;33m                 \u001b[0mclient\u001b[0m\u001b[1;33m,\u001b[0m \u001b[0mfile_obj\u001b[0m\u001b[1;33m,\u001b[0m \u001b[0mcontent_type\u001b[0m\u001b[1;33m,\u001b[0m \u001b[0msize\u001b[0m\u001b[1;33m,\u001b[0m \u001b[0mnum_retries\u001b[0m\u001b[1;33m,\u001b[0m \u001b[0mpredefined_acl\u001b[0m\u001b[1;33m\u001b[0m\u001b[0m\n\u001b[0m\u001b[0;32m   1264\u001b[0m             )\n\u001b[0;32m   1265\u001b[0m             \u001b[0mself\u001b[0m\u001b[1;33m.\u001b[0m\u001b[0m_set_properties\u001b[0m\u001b[1;33m(\u001b[0m\u001b[0mcreated_json\u001b[0m\u001b[1;33m)\u001b[0m\u001b[1;33m\u001b[0m\u001b[0m\n",
      "\u001b[1;32mc:\\users\\cermati.cermati-samuel\\anaconda3\\envs\\risk_env\\lib\\site-packages\\google\\cloud\\storage\\blob.py\u001b[0m in \u001b[0;36m_do_upload\u001b[1;34m(self, client, stream, content_type, size, num_retries, predefined_acl)\u001b[0m\n\u001b[0;32m   1171\u001b[0m         \u001b[1;32melse\u001b[0m\u001b[1;33m:\u001b[0m\u001b[1;33m\u001b[0m\u001b[0m\n\u001b[0;32m   1172\u001b[0m             response = self._do_resumable_upload(\n\u001b[1;32m-> 1173\u001b[1;33m                 \u001b[0mclient\u001b[0m\u001b[1;33m,\u001b[0m \u001b[0mstream\u001b[0m\u001b[1;33m,\u001b[0m \u001b[0mcontent_type\u001b[0m\u001b[1;33m,\u001b[0m \u001b[0msize\u001b[0m\u001b[1;33m,\u001b[0m \u001b[0mnum_retries\u001b[0m\u001b[1;33m,\u001b[0m \u001b[0mpredefined_acl\u001b[0m\u001b[1;33m\u001b[0m\u001b[0m\n\u001b[0m\u001b[0;32m   1174\u001b[0m             )\n\u001b[0;32m   1175\u001b[0m \u001b[1;33m\u001b[0m\u001b[0m\n",
      "\u001b[1;32mc:\\users\\cermati.cermati-samuel\\anaconda3\\envs\\risk_env\\lib\\site-packages\\google\\cloud\\storage\\blob.py\u001b[0m in \u001b[0;36m_do_resumable_upload\u001b[1;34m(self, client, stream, content_type, size, num_retries, predefined_acl)\u001b[0m\n\u001b[0;32m   1118\u001b[0m \u001b[1;33m\u001b[0m\u001b[0m\n\u001b[0;32m   1119\u001b[0m         \u001b[1;32mwhile\u001b[0m \u001b[1;32mnot\u001b[0m \u001b[0mupload\u001b[0m\u001b[1;33m.\u001b[0m\u001b[0mfinished\u001b[0m\u001b[1;33m:\u001b[0m\u001b[1;33m\u001b[0m\u001b[0m\n\u001b[1;32m-> 1120\u001b[1;33m             \u001b[0mresponse\u001b[0m \u001b[1;33m=\u001b[0m \u001b[0mupload\u001b[0m\u001b[1;33m.\u001b[0m\u001b[0mtransmit_next_chunk\u001b[0m\u001b[1;33m(\u001b[0m\u001b[0mtransport\u001b[0m\u001b[1;33m)\u001b[0m\u001b[1;33m\u001b[0m\u001b[0m\n\u001b[0m\u001b[0;32m   1121\u001b[0m \u001b[1;33m\u001b[0m\u001b[0m\n\u001b[0;32m   1122\u001b[0m         \u001b[1;32mreturn\u001b[0m \u001b[0mresponse\u001b[0m\u001b[1;33m\u001b[0m\u001b[0m\n",
      "\u001b[1;32mc:\\users\\cermati.cermati-samuel\\anaconda3\\envs\\risk_env\\lib\\site-packages\\google\\resumable_media\\requests\\upload.py\u001b[0m in \u001b[0;36mtransmit_next_chunk\u001b[1;34m(self, transport)\u001b[0m\n\u001b[0;32m    423\u001b[0m             \u001b[0mdata\u001b[0m\u001b[1;33m=\u001b[0m\u001b[0mpayload\u001b[0m\u001b[1;33m,\u001b[0m\u001b[1;33m\u001b[0m\u001b[0m\n\u001b[0;32m    424\u001b[0m             \u001b[0mheaders\u001b[0m\u001b[1;33m=\u001b[0m\u001b[0mheaders\u001b[0m\u001b[1;33m,\u001b[0m\u001b[1;33m\u001b[0m\u001b[0m\n\u001b[1;32m--> 425\u001b[1;33m             \u001b[0mretry_strategy\u001b[0m\u001b[1;33m=\u001b[0m\u001b[0mself\u001b[0m\u001b[1;33m.\u001b[0m\u001b[0m_retry_strategy\u001b[0m\u001b[1;33m,\u001b[0m\u001b[1;33m\u001b[0m\u001b[0m\n\u001b[0m\u001b[0;32m    426\u001b[0m         )\n\u001b[0;32m    427\u001b[0m         \u001b[0mself\u001b[0m\u001b[1;33m.\u001b[0m\u001b[0m_process_response\u001b[0m\u001b[1;33m(\u001b[0m\u001b[0mresponse\u001b[0m\u001b[1;33m,\u001b[0m \u001b[0mlen\u001b[0m\u001b[1;33m(\u001b[0m\u001b[0mpayload\u001b[0m\u001b[1;33m)\u001b[0m\u001b[1;33m)\u001b[0m\u001b[1;33m\u001b[0m\u001b[0m\n",
      "\u001b[1;32mc:\\users\\cermati.cermati-samuel\\anaconda3\\envs\\risk_env\\lib\\site-packages\\google\\resumable_media\\requests\\_helpers.py\u001b[0m in \u001b[0;36mhttp_request\u001b[1;34m(transport, method, url, data, headers, retry_strategy, **transport_kwargs)\u001b[0m\n\u001b[0;32m    134\u001b[0m         \u001b[0mtransport\u001b[0m\u001b[1;33m.\u001b[0m\u001b[0mrequest\u001b[0m\u001b[1;33m,\u001b[0m \u001b[0mmethod\u001b[0m\u001b[1;33m,\u001b[0m \u001b[0murl\u001b[0m\u001b[1;33m,\u001b[0m \u001b[0mdata\u001b[0m\u001b[1;33m=\u001b[0m\u001b[0mdata\u001b[0m\u001b[1;33m,\u001b[0m \u001b[0mheaders\u001b[0m\u001b[1;33m=\u001b[0m\u001b[0mheaders\u001b[0m\u001b[1;33m,\u001b[0m \u001b[1;33m**\u001b[0m\u001b[0mtransport_kwargs\u001b[0m\u001b[1;33m\u001b[0m\u001b[0m\n\u001b[0;32m    135\u001b[0m     )\n\u001b[1;32m--> 136\u001b[1;33m     \u001b[1;32mreturn\u001b[0m \u001b[0m_helpers\u001b[0m\u001b[1;33m.\u001b[0m\u001b[0mwait_and_retry\u001b[0m\u001b[1;33m(\u001b[0m\u001b[0mfunc\u001b[0m\u001b[1;33m,\u001b[0m \u001b[0mRequestsMixin\u001b[0m\u001b[1;33m.\u001b[0m\u001b[0m_get_status_code\u001b[0m\u001b[1;33m,\u001b[0m \u001b[0mretry_strategy\u001b[0m\u001b[1;33m)\u001b[0m\u001b[1;33m\u001b[0m\u001b[0m\n\u001b[0m",
      "\u001b[1;32mc:\\users\\cermati.cermati-samuel\\anaconda3\\envs\\risk_env\\lib\\site-packages\\google\\resumable_media\\_helpers.py\u001b[0m in \u001b[0;36mwait_and_retry\u001b[1;34m(func, get_status_code, retry_strategy)\u001b[0m\n\u001b[0;32m    148\u001b[0m         \u001b[0mobject\u001b[0m\u001b[1;33m:\u001b[0m \u001b[0mThe\u001b[0m \u001b[1;32mreturn\u001b[0m \u001b[0mvalue\u001b[0m \u001b[0mof\u001b[0m\u001b[0;31m \u001b[0m\u001b[0;31m`\u001b[0m\u001b[0;31m`\u001b[0m\u001b[0mfunc\u001b[0m\u001b[0;31m`\u001b[0m\u001b[0;31m`\u001b[0m\u001b[1;33m.\u001b[0m\u001b[1;33m\u001b[0m\u001b[0m\n\u001b[0;32m    149\u001b[0m     \"\"\"\n\u001b[1;32m--> 150\u001b[1;33m     \u001b[0mresponse\u001b[0m \u001b[1;33m=\u001b[0m \u001b[0mfunc\u001b[0m\u001b[1;33m(\u001b[0m\u001b[1;33m)\u001b[0m\u001b[1;33m\u001b[0m\u001b[0m\n\u001b[0m\u001b[0;32m    151\u001b[0m     \u001b[1;32mif\u001b[0m \u001b[0mget_status_code\u001b[0m\u001b[1;33m(\u001b[0m\u001b[0mresponse\u001b[0m\u001b[1;33m)\u001b[0m \u001b[1;32mnot\u001b[0m \u001b[1;32min\u001b[0m \u001b[0mRETRYABLE\u001b[0m\u001b[1;33m:\u001b[0m\u001b[1;33m\u001b[0m\u001b[0m\n\u001b[0;32m    152\u001b[0m         \u001b[1;32mreturn\u001b[0m \u001b[0mresponse\u001b[0m\u001b[1;33m\u001b[0m\u001b[0m\n",
      "\u001b[1;32mc:\\users\\cermati.cermati-samuel\\anaconda3\\envs\\risk_env\\lib\\site-packages\\google\\auth\\transport\\requests.py\u001b[0m in \u001b[0;36mrequest\u001b[1;34m(self, method, url, data, headers, **kwargs)\u001b[0m\n\u001b[0;32m    206\u001b[0m \u001b[1;33m\u001b[0m\u001b[0m\n\u001b[0;32m    207\u001b[0m         response = super(AuthorizedSession, self).request(\n\u001b[1;32m--> 208\u001b[1;33m             method, url, data=data, headers=request_headers, **kwargs)\n\u001b[0m\u001b[0;32m    209\u001b[0m \u001b[1;33m\u001b[0m\u001b[0m\n\u001b[0;32m    210\u001b[0m         \u001b[1;31m# If the response indicated that the credentials needed to be\u001b[0m\u001b[1;33m\u001b[0m\u001b[1;33m\u001b[0m\u001b[0m\n",
      "\u001b[1;32mc:\\users\\cermati.cermati-samuel\\anaconda3\\envs\\risk_env\\lib\\site-packages\\requests\\sessions.py\u001b[0m in \u001b[0;36mrequest\u001b[1;34m(self, method, url, params, data, headers, cookies, files, auth, timeout, allow_redirects, proxies, hooks, stream, verify, cert, json)\u001b[0m\n\u001b[0;32m    531\u001b[0m         }\n\u001b[0;32m    532\u001b[0m         \u001b[0msend_kwargs\u001b[0m\u001b[1;33m.\u001b[0m\u001b[0mupdate\u001b[0m\u001b[1;33m(\u001b[0m\u001b[0msettings\u001b[0m\u001b[1;33m)\u001b[0m\u001b[1;33m\u001b[0m\u001b[0m\n\u001b[1;32m--> 533\u001b[1;33m         \u001b[0mresp\u001b[0m \u001b[1;33m=\u001b[0m \u001b[0mself\u001b[0m\u001b[1;33m.\u001b[0m\u001b[0msend\u001b[0m\u001b[1;33m(\u001b[0m\u001b[0mprep\u001b[0m\u001b[1;33m,\u001b[0m \u001b[1;33m**\u001b[0m\u001b[0msend_kwargs\u001b[0m\u001b[1;33m)\u001b[0m\u001b[1;33m\u001b[0m\u001b[0m\n\u001b[0m\u001b[0;32m    534\u001b[0m \u001b[1;33m\u001b[0m\u001b[0m\n\u001b[0;32m    535\u001b[0m         \u001b[1;32mreturn\u001b[0m \u001b[0mresp\u001b[0m\u001b[1;33m\u001b[0m\u001b[0m\n",
      "\u001b[1;32mc:\\users\\cermati.cermati-samuel\\anaconda3\\envs\\risk_env\\lib\\site-packages\\requests\\sessions.py\u001b[0m in \u001b[0;36msend\u001b[1;34m(self, request, **kwargs)\u001b[0m\n\u001b[0;32m    644\u001b[0m \u001b[1;33m\u001b[0m\u001b[0m\n\u001b[0;32m    645\u001b[0m         \u001b[1;31m# Send the request\u001b[0m\u001b[1;33m\u001b[0m\u001b[1;33m\u001b[0m\u001b[0m\n\u001b[1;32m--> 646\u001b[1;33m         \u001b[0mr\u001b[0m \u001b[1;33m=\u001b[0m \u001b[0madapter\u001b[0m\u001b[1;33m.\u001b[0m\u001b[0msend\u001b[0m\u001b[1;33m(\u001b[0m\u001b[0mrequest\u001b[0m\u001b[1;33m,\u001b[0m \u001b[1;33m**\u001b[0m\u001b[0mkwargs\u001b[0m\u001b[1;33m)\u001b[0m\u001b[1;33m\u001b[0m\u001b[0m\n\u001b[0m\u001b[0;32m    647\u001b[0m \u001b[1;33m\u001b[0m\u001b[0m\n\u001b[0;32m    648\u001b[0m         \u001b[1;31m# Total elapsed time of the request (approximately)\u001b[0m\u001b[1;33m\u001b[0m\u001b[1;33m\u001b[0m\u001b[0m\n",
      "\u001b[1;32mc:\\users\\cermati.cermati-samuel\\anaconda3\\envs\\risk_env\\lib\\site-packages\\requests\\adapters.py\u001b[0m in \u001b[0;36msend\u001b[1;34m(self, request, stream, timeout, verify, cert, proxies)\u001b[0m\n\u001b[0;32m    496\u001b[0m \u001b[1;33m\u001b[0m\u001b[0m\n\u001b[0;32m    497\u001b[0m         \u001b[1;32mexcept\u001b[0m \u001b[1;33m(\u001b[0m\u001b[0mProtocolError\u001b[0m\u001b[1;33m,\u001b[0m \u001b[0msocket\u001b[0m\u001b[1;33m.\u001b[0m\u001b[0merror\u001b[0m\u001b[1;33m)\u001b[0m \u001b[1;32mas\u001b[0m \u001b[0merr\u001b[0m\u001b[1;33m:\u001b[0m\u001b[1;33m\u001b[0m\u001b[0m\n\u001b[1;32m--> 498\u001b[1;33m             \u001b[1;32mraise\u001b[0m \u001b[0mConnectionError\u001b[0m\u001b[1;33m(\u001b[0m\u001b[0merr\u001b[0m\u001b[1;33m,\u001b[0m \u001b[0mrequest\u001b[0m\u001b[1;33m=\u001b[0m\u001b[0mrequest\u001b[0m\u001b[1;33m)\u001b[0m\u001b[1;33m\u001b[0m\u001b[0m\n\u001b[0m\u001b[0;32m    499\u001b[0m \u001b[1;33m\u001b[0m\u001b[0m\n\u001b[0;32m    500\u001b[0m         \u001b[1;32mexcept\u001b[0m \u001b[0mMaxRetryError\u001b[0m \u001b[1;32mas\u001b[0m \u001b[0me\u001b[0m\u001b[1;33m:\u001b[0m\u001b[1;33m\u001b[0m\u001b[0m\n",
      "\u001b[1;31mConnectionError\u001b[0m: ('Connection aborted.', ConnectionResetError(10054, 'An existing connection was forcibly closed by the remote host', None, 10054, None))"
     ]
    }
   ],
   "source": [
    "DataStorage.upload_notebooks_data(filtered_filename_F01, 'kbij/'+pathname, 'f01'+datem+'_new_filtered.csv')"
   ]
  },
  {
   "cell_type": "code",
   "execution_count": 53,
   "metadata": {},
   "outputs": [
    {
     "name": "stdout",
     "output_type": "stream",
     "text": [
      "File ./data202006/D01202006_new_filtered.csv version 1 uploaded to notebooks/kbij/data202006/d01202006_new_filtered.csv.\n"
     ]
    }
   ],
   "source": [
    "DataStorage.upload_notebooks_data(filtered_filename_D01, 'kbij/'+pathname, 'd01'+datem+'_new_filtered.csv')"
   ]
  },
  {
   "cell_type": "markdown",
   "metadata": {},
   "source": [
    "Export Latest Data"
   ]
  },
  {
   "cell_type": "code",
   "execution_count": 54,
   "metadata": {},
   "outputs": [
    {
     "name": "stdout",
     "output_type": "stream",
     "text": [
      "./data202006/F01-202006[20200824-114419].txt ./data202006/D01-202006[20200824-114419].txt\n"
     ]
    }
   ],
   "source": [
    "timestr = time.strftime(\"%Y%m%d-%H%M%S\")\n",
    "F01name = dirname+'/F01'+'-'+datem+'['+timestr+']'+'.txt'\n",
    "D01name = dirname+'/D01'+'-'+datem+'['+timestr+']'+'.txt'\n",
    "print(F01name,D01name)"
   ]
  },
  {
   "cell_type": "code",
   "execution_count": 55,
   "metadata": {},
   "outputs": [],
   "source": [
    "F01new_sent=F01new[['Kode Jenis Pelapor', 'Kode Pelapor', 'Tahun Bulan Data',\n",
    "       'Kode Jenis Fasilitas', 'Nomor Rekening Fasilitas',\n",
    "       'Nomor Rekening Lama Fasilitas', 'Nomor CIF Debitur',\n",
    "       'Kode Sifat Kredit atau Pembiayaan',\n",
    "       'Kode Jenis Kredit atau Pembiayaan',\n",
    "       'Kode Akad Kredit atau Akad Pembiayaan', 'Nomor Akad Awal',\n",
    "       'Tanggal Akad Awal', 'Nomor Akad Akhir', 'Tanggal Akad Akhir',\n",
    "       'Frekuensi Perpanjangan Fasilitas Kredit atau Pembiayaan',\n",
    "       'Tanggal Awal Kredit atau Pembiayaan', 'Tanggal Mulai',\n",
    "       'Tanggal Jatuh Tempo', 'Kode Kategori Debitur', 'Kode Jenis Penggunaan',\n",
    "       'Kode Orientasi Penggunaan', 'Kode Sektor Ekonomi',\n",
    "       'Kode Kabupaten atau Kota Lokasi Proyek atau Penggunaan Kredit atau Pembiayaan',\n",
    "       'Nilai Proyek', 'Kode Valuta', 'Suku Bunga atau Imbalan',\n",
    "       'Jenis Suku Bunga atau Imbalan',\n",
    "       'Kredit atau Pembiayaan Program Pemerintah', 'Plafon Awal', 'Plafon',\n",
    "       'Realisasi atau Pencairan Bulan Berjalan', 'Denda', 'Baki Debet',\n",
    "       'Nilai dalam Mata Uang Asal', 'Kode Kualitas Kredit atau Pembiayaan',\n",
    "       'Tanggal Macet', 'Kode Sebab Macet', 'Tunggakan Pokok',\n",
    "       'Tunggakan Bunga atau Imbalan', 'Jumlah Hari Tunggakan',\n",
    "       'Frekuensi Tunggakan', 'Frekuensi Restrukturisasi',\n",
    "       'Tanggal Restrukturisasi Awal', 'Tanggal Restrukturisasi Akhir',\n",
    "       'Kode Cara Restrukturisasi', 'Kode Kondisi', 'Tanggal Kondisi',\n",
    "       'Keterangan', 'Kode Kantor Cabang', 'Operasi Data', 'Status delete',\n",
    "       'Create Date', 'Update Date']]\n",
    "D01new_sent=D01new[['Kode Jenis Pelapor', 'Kode Pelapor', 'Tahun Bulan Data',\n",
    "       'Nomor CIF Lama Debitur', 'Nomor CIF Debitur', 'Jenis Identitas',\n",
    "       'Nomor Identitas', 'Nama Sesuai Identitas', 'Nama Lengkap',\n",
    "       'Kode Status Pendidikan atau Gelar Debitur', 'Jenis Kelamin',\n",
    "       'Tempat Lahir', 'Tanggal Lahir', 'Nama Gadis Ibu Kandung', 'NPWP',\n",
    "       'Alamat', 'Kelurahan', 'Kecamatan', 'Kode Kabupaten atau Kota',\n",
    "       'Kode Pos', 'Nomor Telepon', 'Nomor Telepon Seluler', 'Alamat e-mail',\n",
    "       'Kode Negara Domisili', 'Kode Pekerjaan', 'Tempat Bekerja',\n",
    "       'Kode Bidang Usaha Tempat Bekerja', 'Alamat Tempat Bekerja',\n",
    "       'Kode Golongan Debitur', 'Status Perkawinan Debitur',\n",
    "       'Kode Kantor Cabang', 'Operasi Data', 'Status delete', 'Create Date',\n",
    "       'Update Date']]"
   ]
  },
  {
   "cell_type": "code",
   "execution_count": 56,
   "metadata": {},
   "outputs": [
    {
     "data": {
      "text/html": [
       "<div>\n",
       "<style scoped>\n",
       "    .dataframe tbody tr th:only-of-type {\n",
       "        vertical-align: middle;\n",
       "    }\n",
       "\n",
       "    .dataframe tbody tr th {\n",
       "        vertical-align: top;\n",
       "    }\n",
       "\n",
       "    .dataframe thead th {\n",
       "        text-align: right;\n",
       "    }\n",
       "</style>\n",
       "<table border=\"1\" class=\"dataframe\">\n",
       "  <thead>\n",
       "    <tr style=\"text-align: right;\">\n",
       "      <th></th>\n",
       "      <th>Kode Jenis Pelapor</th>\n",
       "      <th>Kode Pelapor</th>\n",
       "      <th>Tahun Bulan Data</th>\n",
       "      <th>Nomor CIF Lama Debitur</th>\n",
       "      <th>Nomor CIF Debitur</th>\n",
       "      <th>Jenis Identitas</th>\n",
       "      <th>Nomor Identitas</th>\n",
       "      <th>Nama Sesuai Identitas</th>\n",
       "      <th>Nama Lengkap</th>\n",
       "      <th>Kode Status Pendidikan atau Gelar Debitur</th>\n",
       "      <th>...</th>\n",
       "      <th>Kode Kantor Cabang</th>\n",
       "      <th>Operasi Data</th>\n",
       "      <th>Status delete</th>\n",
       "      <th>Create Date</th>\n",
       "      <th>Update Date</th>\n",
       "      <th>Approved Date</th>\n",
       "      <th>userId</th>\n",
       "      <th>orderId</th>\n",
       "      <th>paidoffDate</th>\n",
       "      <th>status</th>\n",
       "    </tr>\n",
       "  </thead>\n",
       "  <tbody>\n",
       "    <tr>\n",
       "      <td>129913</td>\n",
       "      <td>0301</td>\n",
       "      <td>900013</td>\n",
       "      <td>202006</td>\n",
       "      <td></td>\n",
       "      <td>3915919828119</td>\n",
       "      <td>1</td>\n",
       "      <td>O340112300495000</td>\n",
       "      <td>IBNU SIGIT SAPUTRO</td>\n",
       "      <td>IBNU SIGIT SAPUTRO</td>\n",
       "      <td>00</td>\n",
       "      <td>...</td>\n",
       "      <td>000</td>\n",
       "      <td>C</td>\n",
       "      <td>T</td>\n",
       "      <td>20190929023016</td>\n",
       "      <td>20200519041627</td>\n",
       "      <td>2019-09-29</td>\n",
       "      <td>3b4654bf-a436-4641-b97e-058fe9edc24b</td>\n",
       "      <td>ATH-Q7Y2QWPX</td>\n",
       "      <td>2019-10-28 06:35:55+00:00</td>\n",
       "      <td>FINISHED</td>\n",
       "    </tr>\n",
       "  </tbody>\n",
       "</table>\n",
       "<p>1 rows × 40 columns</p>\n",
       "</div>"
      ],
      "text/plain": [
       "       Kode Jenis Pelapor Kode Pelapor Tahun Bulan Data  \\\n",
       "129913               0301       900013           202006   \n",
       "\n",
       "       Nomor CIF Lama Debitur Nomor CIF Debitur  Jenis Identitas  \\\n",
       "129913                            3915919828119                1   \n",
       "\n",
       "         Nomor Identitas Nama Sesuai Identitas        Nama Lengkap  \\\n",
       "129913  O340112300495000    IBNU SIGIT SAPUTRO  IBNU SIGIT SAPUTRO   \n",
       "\n",
       "       Kode Status Pendidikan atau Gelar Debitur  ... Kode Kantor Cabang  \\\n",
       "129913                                        00  ...                000   \n",
       "\n",
       "       Operasi Data Status delete     Create Date     Update Date  \\\n",
       "129913            C             T  20190929023016  20200519041627   \n",
       "\n",
       "       Approved Date                                userId       orderId  \\\n",
       "129913    2019-09-29  3b4654bf-a436-4641-b97e-058fe9edc24b  ATH-Q7Y2QWPX   \n",
       "\n",
       "                     paidoffDate    status  \n",
       "129913 2019-10-28 06:35:55+00:00  FINISHED  \n",
       "\n",
       "[1 rows x 40 columns]"
      ]
     },
     "execution_count": 56,
     "metadata": {},
     "output_type": "execute_result"
    }
   ],
   "source": [
    "D01new[D01new['Nama Sesuai Identitas']=='IBNU SIGIT SAPUTRO']"
   ]
  },
  {
   "cell_type": "code",
   "execution_count": 57,
   "metadata": {},
   "outputs": [
    {
     "name": "stdout",
     "output_type": "stream",
     "text": [
      "(549378, 53)\n",
      "(187594, 35)\n"
     ]
    }
   ],
   "source": [
    "print(F01new_sent.shape)\n",
    "print(D01new_sent.shape)"
   ]
  },
  {
   "cell_type": "markdown",
   "metadata": {},
   "source": [
    "## Export file for KBIJ Reporting"
   ]
  },
  {
   "cell_type": "code",
   "execution_count": 58,
   "metadata": {},
   "outputs": [],
   "source": [
    "D01new_sent.to_csv(path_or_buf=D01name, sep='|',index =0)\n",
    "F01new_sent.to_csv(path_or_buf=F01name, sep='|',index =0)"
   ]
  },
  {
   "cell_type": "code",
   "execution_count": 59,
   "metadata": {},
   "outputs": [
    {
     "name": "stdout",
     "output_type": "stream",
     "text": [
      "File ./data202006/F01-202006[20200824-114419].txt version 1 uploaded to notebooks/kbij/data202006/f01-202006.txt.\n"
     ]
    }
   ],
   "source": [
    "DataStorage.upload_notebooks_data(F01name, 'kbij/'+pathname, 'f01-'+datem+'.txt')"
   ]
  },
  {
   "cell_type": "code",
   "execution_count": 60,
   "metadata": {},
   "outputs": [
    {
     "name": "stdout",
     "output_type": "stream",
     "text": [
      "File ./data202006/D01-202006[20200824-114419].txt version 1 uploaded to notebooks/kbij/data202006/d01-202006.txt.\n"
     ]
    }
   ],
   "source": [
    "DataStorage.upload_notebooks_data(D01name, 'kbij/'+pathname, 'd01-'+datem+'.txt')"
   ]
  },
  {
   "cell_type": "code",
   "execution_count": null,
   "metadata": {},
   "outputs": [],
   "source": []
  },
  {
   "cell_type": "markdown",
   "metadata": {},
   "source": [
    "# Check Sent Data"
   ]
  },
  {
   "cell_type": "code",
   "execution_count": 13,
   "metadata": {},
   "outputs": [],
   "source": [
    "F01_sent = pd.read_csv('./data202006/F01-202006[20200824-114419].txt',sep='|',dtype=F01_dtype)\n",
    "D01_sent = pd.read_csv('./data202006/D01-202006[20200824-114419].txt',sep='|',dtype=D01_dtype)"
   ]
  },
  {
   "cell_type": "code",
   "execution_count": 22,
   "metadata": {},
   "outputs": [
    {
     "data": {
      "text/html": [
       "<div>\n",
       "<style scoped>\n",
       "    .dataframe tbody tr th:only-of-type {\n",
       "        vertical-align: middle;\n",
       "    }\n",
       "\n",
       "    .dataframe tbody tr th {\n",
       "        vertical-align: top;\n",
       "    }\n",
       "\n",
       "    .dataframe thead th {\n",
       "        text-align: right;\n",
       "    }\n",
       "</style>\n",
       "<table border=\"1\" class=\"dataframe\">\n",
       "  <thead>\n",
       "    <tr style=\"text-align: right;\">\n",
       "      <th></th>\n",
       "      <th>Kode Jenis Pelapor</th>\n",
       "      <th>Kode Pelapor</th>\n",
       "      <th>Tahun Bulan Data</th>\n",
       "      <th>Kode Jenis Fasilitas</th>\n",
       "      <th>Nomor Rekening Fasilitas</th>\n",
       "      <th>Nomor Rekening Lama Fasilitas</th>\n",
       "      <th>Nomor CIF Debitur</th>\n",
       "      <th>Kode Sifat Kredit atau Pembiayaan</th>\n",
       "      <th>Kode Jenis Kredit atau Pembiayaan</th>\n",
       "      <th>Kode Akad Kredit atau Akad Pembiayaan</th>\n",
       "      <th>...</th>\n",
       "      <th>Tanggal Restrukturisasi Akhir</th>\n",
       "      <th>Kode Cara Restrukturisasi</th>\n",
       "      <th>Kode Kondisi</th>\n",
       "      <th>Tanggal Kondisi</th>\n",
       "      <th>Keterangan</th>\n",
       "      <th>Kode Kantor Cabang</th>\n",
       "      <th>Operasi Data</th>\n",
       "      <th>Status delete</th>\n",
       "      <th>Create Date</th>\n",
       "      <th>Update Date</th>\n",
       "    </tr>\n",
       "  </thead>\n",
       "  <tbody>\n",
       "    <tr>\n",
       "      <td>220132</td>\n",
       "      <td>0301</td>\n",
       "      <td>900013</td>\n",
       "      <td>202006</td>\n",
       "      <td>F01</td>\n",
       "      <td>ATH-EG3N2E52</td>\n",
       "      <td>NaN</td>\n",
       "      <td>3915988151708</td>\n",
       "      <td>9</td>\n",
       "      <td>05</td>\n",
       "      <td>00</td>\n",
       "      <td>...</td>\n",
       "      <td>NaN</td>\n",
       "      <td>NaN</td>\n",
       "      <td>01</td>\n",
       "      <td>20200519</td>\n",
       "      <td>NaN</td>\n",
       "      <td>000</td>\n",
       "      <td>C</td>\n",
       "      <td>T</td>\n",
       "      <td>20180208063619</td>\n",
       "      <td>20200519041627</td>\n",
       "    </tr>\n",
       "  </tbody>\n",
       "</table>\n",
       "<p>1 rows × 53 columns</p>\n",
       "</div>"
      ],
      "text/plain": [
       "       Kode Jenis Pelapor Kode Pelapor Tahun Bulan Data Kode Jenis Fasilitas  \\\n",
       "220132               0301       900013           202006                  F01   \n",
       "\n",
       "       Nomor Rekening Fasilitas Nomor Rekening Lama Fasilitas  \\\n",
       "220132             ATH-EG3N2E52                           NaN   \n",
       "\n",
       "       Nomor CIF Debitur Kode Sifat Kredit atau Pembiayaan  \\\n",
       "220132     3915988151708                                 9   \n",
       "\n",
       "       Kode Jenis Kredit atau Pembiayaan  \\\n",
       "220132                                05   \n",
       "\n",
       "       Kode Akad Kredit atau Akad Pembiayaan  ...  \\\n",
       "220132                                    00  ...   \n",
       "\n",
       "       Tanggal Restrukturisasi Akhir Kode Cara Restrukturisasi Kode Kondisi  \\\n",
       "220132                           NaN                       NaN           01   \n",
       "\n",
       "       Tanggal Kondisi  Keterangan Kode Kantor Cabang Operasi Data  \\\n",
       "220132        20200519         NaN                000            C   \n",
       "\n",
       "       Status delete     Create Date     Update Date  \n",
       "220132             T  20180208063619  20200519041627  \n",
       "\n",
       "[1 rows x 53 columns]"
      ]
     },
     "execution_count": 22,
     "metadata": {},
     "output_type": "execute_result"
    }
   ],
   "source": [
    "F01_sent[F01_sent['Tanggal Mulai'].isna()]"
   ]
  },
  {
   "cell_type": "code",
   "execution_count": 23,
   "metadata": {},
   "outputs": [
    {
     "data": {
      "text/html": [
       "<div>\n",
       "<style scoped>\n",
       "    .dataframe tbody tr th:only-of-type {\n",
       "        vertical-align: middle;\n",
       "    }\n",
       "\n",
       "    .dataframe tbody tr th {\n",
       "        vertical-align: top;\n",
       "    }\n",
       "\n",
       "    .dataframe thead th {\n",
       "        text-align: right;\n",
       "    }\n",
       "</style>\n",
       "<table border=\"1\" class=\"dataframe\">\n",
       "  <thead>\n",
       "    <tr style=\"text-align: right;\">\n",
       "      <th></th>\n",
       "      <th>Kode Jenis Pelapor</th>\n",
       "      <th>Kode Pelapor</th>\n",
       "      <th>Tahun Bulan Data</th>\n",
       "      <th>Kode Jenis Fasilitas</th>\n",
       "      <th>Nomor Rekening Fasilitas</th>\n",
       "      <th>Nomor Rekening Lama Fasilitas</th>\n",
       "      <th>Nomor CIF Debitur</th>\n",
       "      <th>Kode Sifat Kredit atau Pembiayaan</th>\n",
       "      <th>Kode Jenis Kredit atau Pembiayaan</th>\n",
       "      <th>Kode Akad Kredit atau Akad Pembiayaan</th>\n",
       "      <th>...</th>\n",
       "      <th>Tanggal Restrukturisasi Akhir</th>\n",
       "      <th>Kode Cara Restrukturisasi</th>\n",
       "      <th>Kode Kondisi</th>\n",
       "      <th>Tanggal Kondisi</th>\n",
       "      <th>Keterangan</th>\n",
       "      <th>Kode Kantor Cabang</th>\n",
       "      <th>Operasi Data</th>\n",
       "      <th>Status delete</th>\n",
       "      <th>Create Date</th>\n",
       "      <th>Update Date</th>\n",
       "    </tr>\n",
       "  </thead>\n",
       "  <tbody>\n",
       "    <tr>\n",
       "      <td>220132</td>\n",
       "      <td>0301</td>\n",
       "      <td>900013</td>\n",
       "      <td>202006</td>\n",
       "      <td>F01</td>\n",
       "      <td>ATH-EG3N2E52</td>\n",
       "      <td>NaN</td>\n",
       "      <td>3915988151708</td>\n",
       "      <td>9</td>\n",
       "      <td>05</td>\n",
       "      <td>00</td>\n",
       "      <td>...</td>\n",
       "      <td>NaN</td>\n",
       "      <td>NaN</td>\n",
       "      <td>01</td>\n",
       "      <td>20200519</td>\n",
       "      <td>NaN</td>\n",
       "      <td>000</td>\n",
       "      <td>C</td>\n",
       "      <td>T</td>\n",
       "      <td>20180208063619</td>\n",
       "      <td>20200519041627</td>\n",
       "    </tr>\n",
       "  </tbody>\n",
       "</table>\n",
       "<p>1 rows × 53 columns</p>\n",
       "</div>"
      ],
      "text/plain": [
       "       Kode Jenis Pelapor Kode Pelapor Tahun Bulan Data Kode Jenis Fasilitas  \\\n",
       "220132               0301       900013           202006                  F01   \n",
       "\n",
       "       Nomor Rekening Fasilitas Nomor Rekening Lama Fasilitas  \\\n",
       "220132             ATH-EG3N2E52                           NaN   \n",
       "\n",
       "       Nomor CIF Debitur Kode Sifat Kredit atau Pembiayaan  \\\n",
       "220132     3915988151708                                 9   \n",
       "\n",
       "       Kode Jenis Kredit atau Pembiayaan  \\\n",
       "220132                                05   \n",
       "\n",
       "       Kode Akad Kredit atau Akad Pembiayaan  ...  \\\n",
       "220132                                    00  ...   \n",
       "\n",
       "       Tanggal Restrukturisasi Akhir Kode Cara Restrukturisasi Kode Kondisi  \\\n",
       "220132                           NaN                       NaN           01   \n",
       "\n",
       "       Tanggal Kondisi  Keterangan Kode Kantor Cabang Operasi Data  \\\n",
       "220132        20200519         NaN                000            C   \n",
       "\n",
       "       Status delete     Create Date     Update Date  \n",
       "220132             T  20180208063619  20200519041627  \n",
       "\n",
       "[1 rows x 53 columns]"
      ]
     },
     "execution_count": 23,
     "metadata": {},
     "output_type": "execute_result"
    }
   ],
   "source": [
    "F01_sent[F01_sent['Tanggal Jatuh Tempo'].isna()]"
   ]
  },
  {
   "cell_type": "code",
   "execution_count": 44,
   "metadata": {},
   "outputs": [],
   "source": [
    "F01_prev_sent = pd.read_csv('./data202005/F01-202005[20200803-171851].txt',sep='|',dtype=F01_dtype)\n",
    "D01_prev_sent = pd.read_csv('./data202005/D01-202005[20200803-171851].txt',sep='|',dtype=D01_dtype)"
   ]
  },
  {
   "cell_type": "code",
   "execution_count": 45,
   "metadata": {},
   "outputs": [
    {
     "name": "stdout",
     "output_type": "stream",
     "text": [
      "D01_sent: (187594, 35) F01_sent: (549378, 53)\n",
      "D01_prev_sent: (123885, 35) F01_prev_sent: (129819, 53)\n"
     ]
    }
   ],
   "source": [
    "print('D01_sent:',D01_sent.shape, 'F01_sent:',F01_sent.shape)\n",
    "print('D01_prev_sent:',D01_prev_sent.shape, 'F01_prev_sent:',F01_prev_sent.shape)"
   ]
  },
  {
   "cell_type": "code",
   "execution_count": 46,
   "metadata": {},
   "outputs": [
    {
     "name": "stdout",
     "output_type": "stream",
     "text": [
      "================================================================================\n",
      "Check Previous Not Active Nomor Rekening Fasilitas But Exist in Current Data \n",
      "\n",
      "[CLEAR]No Previous Not Active Nomor Rekening Fasilitas But Exist in Current Data\n",
      "\n",
      "[DONE]\n",
      "================================================================================\n",
      "================================================================================\n",
      "Check Previous Active Nomor Rekening Fasilitas But Not Exist in Current Data \n",
      "\n",
      "[CLEAR]No Previous Active Nomor Rekening Fasilitas But Not Exist in Current Data\n",
      "\n",
      "[DONE]\n",
      "================================================================================\n",
      "================================================================================\n",
      "Check Nomor CIF Debitur in D01 and F01 \n",
      "\n",
      "[CLEAR]All Nomor CIF Debitur in D01 are exist in F01\n",
      "\n",
      "[DONE]\n",
      "================================================================================\n",
      "================================================================================\n",
      "Check Active Kode Kondisi but Baki Debet = 0 \n",
      "\n",
      "[CLEAR]No Active Kode Kondisi but Baki Debet = 0\n",
      "\n",
      "[DONE]\n",
      "================================================================================\n",
      "================================================================================\n",
      "Check Not Active Kode Kondisi but Baki Debet > 0 \n",
      "\n",
      "[CLEAR]No Not Active Kode Kondisi but Baki Debet > 0\n",
      "\n",
      "[DONE]\n",
      "================================================================================\n",
      "================================================================================\n",
      "Check Baki Debet > Plafon Awal \n",
      "\n",
      "[CLEAR]No Baki Debet greater than Plafon Awal\n",
      "\n",
      "[DONE]\n",
      "================================================================================\n",
      "================================================================================\n",
      "Check Kode Kualitas Kredit atau Pembiayaan Macet but has no Tanggal Macet \n",
      "\n",
      "[CLEAR]No Kode Kualitas Kredit atau Pembiayaan Macet but has no Tanggal Macet\n",
      "\n",
      "[DONE]\n",
      "================================================================================\n",
      "================================================================================\n",
      "Check Tahun Bulan Data \n",
      "\n",
      "F01: ['202006']\n",
      "D01: ['202006']\n",
      "\n",
      "[DONE]\n",
      "================================================================================\n"
     ]
    }
   ],
   "source": [
    "F01_sent, D01_sent = kbij.checking_data(F01_sent, D01_sent, '2020-05-01', F01_prev=F01_prev_sent, D01_prev=D01_prev_sent)"
   ]
  },
  {
   "cell_type": "code",
   "execution_count": null,
   "metadata": {},
   "outputs": [],
   "source": []
  }
 ],
 "metadata": {
  "kernelspec": {
   "display_name": "Python 3",
   "language": "python",
   "name": "python3"
  },
  "language_info": {
   "codemirror_mode": {
    "name": "ipython",
    "version": 3
   },
   "file_extension": ".py",
   "mimetype": "text/x-python",
   "name": "python",
   "nbconvert_exporter": "python",
   "pygments_lexer": "ipython3",
   "version": "3.7.0"
  },
  "toc-autonumbering": true,
  "toc-showmarkdowntxt": false
 },
 "nbformat": 4,
 "nbformat_minor": 4
}
