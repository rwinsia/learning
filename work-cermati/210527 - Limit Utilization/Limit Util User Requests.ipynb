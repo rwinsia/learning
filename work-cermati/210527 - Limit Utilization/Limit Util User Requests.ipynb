{
 "cells": [
  {
   "cell_type": "code",
   "execution_count": 1,
   "id": "normal-render",
   "metadata": {},
   "outputs": [
    {
     "name": "stdout",
     "output_type": "stream",
     "text": [
      "C:\\Users\\Cermati\\AppData\\Roaming\\gcloud\\application_default_credentials.json\n"
     ]
    }
   ],
   "source": [
    "%reload_ext google.cloud.bigquery\n",
    "import os\n",
    "os.environ[\"GOOGLE_APPLICATION_CREDENTIALS\"]=\"C:\\\\Users\\\\Cermati\\\\AppData\\\\Roaming\\\\gcloud\\\\application_default_credentials.json\"\n",
    "print(os.environ[\"GOOGLE_APPLICATION_CREDENTIALS\"])\n",
    "from google.cloud import bigquery\n",
    "\n",
    "import pandas as pd\n",
    "import numpy as np"
   ]
  },
  {
   "cell_type": "code",
   "execution_count": 22,
   "id": "controlling-xerox",
   "metadata": {},
   "outputs": [],
   "source": [
    "%%bigquery historical_data --project athena-179008\n",
    "WITH data_cla as (\n",
    "    SELECT \n",
    "        clal.action\n",
    "        , clal.updater_role\n",
    "        , cli.orderId\n",
    "        , clal.credit_limit_account_id\n",
    "        , cla.fee_scheme\n",
    "        , date(clal.created_at,\"Asia/Jakarta\") as log_date\n",
    "        , claf_b.dataDate as prev_date\n",
    "        , CAST(claf_b.limit as int64) as prev_limit\n",
    "        , CAST(claf_b.limit_balance as int64) as prev_limit_balance\n",
    "        , CAST(claf_b.limit-claf_b.limit_balance as int64) as prev_limit_used\n",
    "        , claf_a.dataDate as after_date\n",
    "        , CAST(claf_a.limit as int64) as after_limit\n",
    "        , CAST(claf_a.limit_balance as int64) as after_limit_balance\n",
    "        , CAST(claf_a.limit-claf_a.limit_balance as int64) as after_limit_used\n",
    "    FROM data-platform-indodana.vayu.indodana_credit_credit_limit_account_logs clal\n",
    "    INNER JOIN data-platform-indodana.vayu.indodana_credit_credit_limit_accounts cla ON cla.id=clal.credit_limit_account_id\n",
    "    LEFT JOIN athena-179008.vayu_data_mart.indodanamarketing_cli_application cli ON cli.credit_limit_account_id=cla.id\n",
    "    LEFT JOIN athena-179008.vayu_data_mart.indodana_credit_credit_limit_accounts claf_b ON claf_b.id=cla.id AND claf_b.dataDate=DATE_ADD(date(clal.created_at,\"Asia/Jakarta\"),INTERVAL -1 DAY)\n",
    "    INNER JOIN athena-179008.vayu_data_mart.indodana_credit_credit_limit_accounts claf_a ON claf_a.id=cla.id AND claf_a.dataDate=DATE_ADD(date(clal.created_at,\"Asia/Jakarta\"),INTERVAL 30 DAY)\n",
    "    WHERE clal.action IN  ('UPGRADE_CREDIT_LIMIT','UPGRADE_CREDIT_LIMIT_ACCOUNT')\n",
    "    AND clal.updater_role='INCREASE_CREDIT_LIMIT_APPLICATION_PROCESS_WORKER'\n",
    ")\n",
    ", data_cla_trx as (\n",
    "    SELECT \n",
    "        cla.action\n",
    "        , cla.updater_role\n",
    "        , cla.orderId\n",
    "        , cla.credit_limit_account_id\n",
    "        , cla.fee_scheme\n",
    "        , cla.log_date\n",
    "        , cla.prev_date\n",
    "        , cla.prev_limit\n",
    "        , cla.prev_limit_balance\n",
    "        , cla.prev_limit_used\n",
    "        , cla.after_date\n",
    "        , cla.after_limit\n",
    "        , cla.after_limit_balance\n",
    "        , cla.after_limit_used\n",
    "        , COUNT(c.entity_id) as contracts\n",
    "        , min(date(c.approved_date,\"Asia/Jakarta\")) first_trx\n",
    "        , max(date(c.approved_date,\"Asia/Jakarta\")) last_trx\n",
    "    FROM data_cla cla \n",
    "    LEFT JOIN athena-179008.vayu_data_mart.view_trx_contracts c ON c.credit_limit_account_id=cla.credit_limit_account_id AND c.type not like '%RESTRUCTURE%'\n",
    "    GROUP BY 1,2,3,4,5,6,7,8,9,10,11,12,13,14\n",
    ")\n",
    "\n",
    "SELECT \n",
    "    log_date\n",
    "    , fee_scheme\n",
    "    , orderId\n",
    "    , log_date as upgrade_limit_date\n",
    "    , prev_limit as old_limit\n",
    "    , after_limit as new_limit\n",
    "    \n",
    "    , after_limit_used as limit_usage_new\n",
    "    , prev_limit_used as limit_usage_old\n",
    "    , CASE WHEN first_trx is null then 'Never Trx' WHEN first_trx>=log_date THEN 'Yes' Else 'No' END as first_trx_after_upgrade\n",
    "FROM data_cla_trx"
   ]
  },
  {
   "cell_type": "code",
   "execution_count": 23,
   "id": "central-comfort",
   "metadata": {},
   "outputs": [
    {
     "name": "stdout",
     "output_type": "stream",
     "text": [
      "                                    orderId\n",
      "log_date   fee_scheme                      \n",
      "2021-05-10 INDODANA_GENERIC_SCHEME        2\n",
      "2021-05-11 INDODANA_GENERIC_SCHEME        3\n",
      "2021-05-12 INDODANA_GENERIC_SCHEME        1\n",
      "2021-05-14 INDODANA_GENERIC_SCHEME        1\n",
      "2021-05-15 INDODANA_GENERIC_SCHEME        3\n",
      "...                                     ...\n",
      "2021-08-04 INDODANA_GENERIC_SCHEME        2\n",
      "2021-08-05 INDODANA_GENERIC_SCHEME        3\n",
      "2021-08-06 INDODANA_GENERIC_SCHEME        3\n",
      "2021-08-07 INDODANA_GENERIC_SCHEME        2\n",
      "2021-08-09 INDODANA_GENERIC_SCHEME        1\n",
      "\n",
      "[76 rows x 1 columns]\n"
     ]
    }
   ],
   "source": [
    "print(historical_data.groupby(['log_date','fee_scheme'],dropna=False).agg({\n",
    "    'orderId' : 'count'\n",
    "    # 'orderId' : ['count',pd.Series.nunique]\n",
    "}))"
   ]
  },
  {
   "cell_type": "code",
   "execution_count": 24,
   "id": "exceptional-roommate",
   "metadata": {},
   "outputs": [],
   "source": [
    "historical_data['old_limit'] = historical_data['old_limit'].astype(float)\n",
    "historical_data['new_limit'] = historical_data['new_limit'].astype(float)\n",
    "historical_data['limit_usage_old'] = historical_data['limit_usage_old'].astype(float)\n",
    "historical_data['limit_usage_new'] = historical_data['limit_usage_new'].astype(float)\n",
    "historical_data['limit_addition_amount'] = historical_data['new_limit'] - historical_data['old_limit']\n",
    "historical_data['limit_addition_rate'] = historical_data['limit_addition_amount']/historical_data['old_limit']\n",
    "historical_data['limit_usage_changes'] = historical_data['limit_usage_new']-historical_data['limit_usage_old']\n",
    "historical_data['limit_usage_rate_new'] = historical_data['limit_usage_new']/historical_data['new_limit']\n",
    "historical_data['limit_usage_rate_old'] = historical_data['limit_usage_old']/historical_data['old_limit']\n",
    "historical_data['limit_usage_rate_changes'] = (historical_data['limit_usage_rate_new']-historical_data['limit_usage_rate_old'])/historical_data['limit_usage_rate_old']"
   ]
  },
  {
   "cell_type": "code",
   "execution_count": 25,
   "id": "identical-alloy",
   "metadata": {},
   "outputs": [
    {
     "name": "stdout",
     "output_type": "stream",
     "text": [
      "log_date                     object\n",
      "fee_scheme                   object\n",
      "orderId                      object\n",
      "upgrade_limit_date           object\n",
      "old_limit                   float64\n",
      "new_limit                   float64\n",
      "limit_usage_new             float64\n",
      "limit_usage_old             float64\n",
      "first_trx_after_upgrade      object\n",
      "limit_addition_amount       float64\n",
      "limit_addition_rate         float64\n",
      "limit_usage_changes         float64\n",
      "limit_usage_rate_new        float64\n",
      "limit_usage_rate_old        float64\n",
      "limit_usage_rate_changes    float64\n",
      "dtype: object\n",
      "log_date                    False\n",
      "fee_scheme                  False\n",
      "orderId                     False\n",
      "upgrade_limit_date          False\n",
      "old_limit                   False\n",
      "new_limit                   False\n",
      "limit_usage_new             False\n",
      "limit_usage_old             False\n",
      "first_trx_after_upgrade     False\n",
      "limit_addition_amount       False\n",
      "limit_addition_rate         False\n",
      "limit_usage_changes         False\n",
      "limit_usage_rate_new        False\n",
      "limit_usage_rate_old        False\n",
      "limit_usage_rate_changes     True\n",
      "dtype: bool\n"
     ]
    }
   ],
   "source": [
    "print(historical_data.dtypes)\n",
    "print(historical_data.isna().any())"
   ]
  },
  {
   "cell_type": "code",
   "execution_count": 26,
   "id": "ahead-administration",
   "metadata": {},
   "outputs": [],
   "source": [
    "def set_category(df) : \n",
    "    category_by_usage_rate = ''\n",
    "    if (df['limit_usage_rate_new'] == 0) & (df['limit_usage_rate_old'] == 0) : \n",
    "        category_by_usage_rate = '0. Not Used at all'\n",
    "    elif (df['limit_usage_rate_new'] == df['limit_usage_rate_old']) :\n",
    "        category_by_usage_rate = '1. No Changes'\n",
    "    elif (df['limit_usage_rate_new']>df['limit_usage_rate_old']) & (df['limit_usage_rate_old']==0) :\n",
    "        category_by_usage_rate = '1.a. Usage Increased (No Previous Usage)'\n",
    "    elif (df['limit_usage_rate_new']>df['limit_usage_rate_old']) & (df['limit_usage_rate_old']>0) :\n",
    "        category_by_usage_rate = '1.b. Usage Increased (Has Previous Usage)'\n",
    "    elif (df['limit_usage_rate_new']<df['limit_usage_rate_old']) & (df['limit_usage_rate_new']>0) :\n",
    "        category_by_usage_rate = '2.a. Usage Decreased (Has Current Usage)'\n",
    "    elif (df['limit_usage_rate_new']<df['limit_usage_rate_old']) & (df['limit_usage_rate_new']==0) :\n",
    "        category_by_usage_rate = '2.b. Usage Decreased (No Current Usage)'\n",
    "    df['category_by_usage_rate']=category_by_usage_rate\n",
    "\n",
    "    category_by_usage_changes = ''\n",
    "    if (df['limit_usage_new'] == 0) & (df['limit_usage_old'] == 0) : \n",
    "        category_by_usage_changes = '0. Not Used at all'\n",
    "    elif (df['limit_usage_new'] == df['limit_usage_old']) :\n",
    "        category_by_usage_changes = '1. No Changes'\n",
    "    elif (df['limit_usage_new']>df['limit_usage_old']) & (df['limit_usage_old']==0) :\n",
    "        category_by_usage_changes = '1.a. Usage Increased (No Previous Usage)'\n",
    "    elif (df['limit_usage_new']>df['limit_usage_old']) & (df['limit_usage_old']>0) :\n",
    "        category_by_usage_changes = '1.b. Usage Increased (Has Previous Usage)'\n",
    "    elif (df['limit_usage_new']<df['limit_usage_old']) & (df['limit_usage_new']>0) :\n",
    "        category_by_usage_changes = '2.a. Usage Decreased (Has Current Usage)'\n",
    "    elif (df['limit_usage_new']<df['limit_usage_old']) & (df['limit_usage_new']==0) :\n",
    "        category_by_usage_changes = '2.b. Usage Decreased (No Current Usage)'\n",
    "    df['category_by_usage_changes']=category_by_usage_changes\n",
    "\n",
    "    category_usage_to_old_limit = ''\n",
    "    if df['limit_usage_new']>df['old_limit'] : \n",
    "        category_usage_to_old_limit = 'Current Usage exceed old limit'\n",
    "    else :\n",
    "        category_usage_to_old_limit = ''\n",
    "    df['category_usage_to_old_limit']=category_usage_to_old_limit\n",
    "\n",
    "    category_first_trx_after_upgrade = ''\n",
    "    if df['first_trx_after_upgrade'] == 'Yes' : \n",
    "        category_first_trx_after_upgrade = '1st Transact After Upgrade'\n",
    "    elif df['first_trx_after_upgrade'] == 'Never Trx' : \n",
    "        category_first_trx_after_upgrade = 'Never Trx'\n",
    "    else :\n",
    "        category_first_trx_after_upgrade = ''\n",
    "    df['category_first_trx_after_upgrade']=category_first_trx_after_upgrade\n",
    "\n",
    "    return df"
   ]
  },
  {
   "cell_type": "code",
   "execution_count": 27,
   "id": "american-quantum",
   "metadata": {},
   "outputs": [],
   "source": [
    "historical_data = historical_data.apply(set_category, axis=1)"
   ]
  },
  {
   "cell_type": "code",
   "execution_count": 28,
   "id": "relevant-grass",
   "metadata": {},
   "outputs": [],
   "source": [
    "historical_data.to_excel('Data_Limit_Utilization_User_Request_20210909.xlsx',index=False)"
   ]
  },
  {
   "cell_type": "code",
   "execution_count": null,
   "id": "useful-monaco",
   "metadata": {},
   "outputs": [],
   "source": []
  }
 ],
 "metadata": {
  "kernelspec": {
   "display_name": "Python 3",
   "language": "python",
   "name": "python3"
  },
  "language_info": {
   "codemirror_mode": {
    "name": "ipython",
    "version": 3
   },
   "file_extension": ".py",
   "mimetype": "text/x-python",
   "name": "python",
   "nbconvert_exporter": "python",
   "pygments_lexer": "ipython3",
   "version": "3.7.3"
  }
 },
 "nbformat": 4,
 "nbformat_minor": 5
}
