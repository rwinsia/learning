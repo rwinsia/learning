{
 "cells": [
  {
   "cell_type": "markdown",
   "source": [
    "<h2>Establish connection</h2>"
   ],
   "metadata": {}
  },
  {
   "cell_type": "code",
   "execution_count": 1,
   "source": [
    "%reload_ext google.cloud.bigquery\r\n",
    "import os\r\n",
    "os.environ[\"GOOGLE_APPLICATION_CREDENTIALS\"]=\"C:\\\\Users\\\\Cermati\\\\AppData\\\\Roaming\\\\gcloud\\\\application_default_credentials.json\"\r\n",
    "print(os.environ[\"GOOGLE_APPLICATION_CREDENTIALS\"])\r\n",
    "from google.cloud import bigquery\r\n",
    "\r\n",
    "import pandas as pd\r\n",
    "import numpy as np\r\n",
    "import Limit_util as c_lu\r\n",
    "lu = c_lu.Limit_util()"
   ],
   "outputs": [
    {
     "output_type": "stream",
     "name": "stdout",
     "text": [
      "C:\\Users\\Cermati\\AppData\\Roaming\\gcloud\\application_default_credentials.json\n"
     ]
    }
   ],
   "metadata": {}
  },
  {
   "cell_type": "markdown",
   "source": [
    "<h2>Get Data from BQ - Upgrade Limit group</h2>"
   ],
   "metadata": {}
  },
  {
   "cell_type": "code",
   "execution_count": 2,
   "source": [
    "grouped_cla = lu.get_group_cla()\r\n",
    "\r\n",
    "# print(grouped_cla.head())\r\n",
    "# print(grouped_cla.dtypes)\r\n",
    "\r\n",
    "# check for duplicate orderId\r\n",
    "print(grouped_cla.groupby(['updater_role','action','log_date','fee_scheme'],dropna=False).agg({\r\n",
    "    'orderId' : 'count'\r\n",
    "    # 'orderId' : ['count',pd.Series.nunique]\r\n",
    "}))"
   ],
   "outputs": [
    {
     "output_type": "stream",
     "name": "stderr",
     "text": [
      "C:\\Users\\Cermati\\Anaconda3\\lib\\site-packages\\google\\auth\\_default.py:69: UserWarning: Your application has authenticated using end user credentials from Google Cloud SDK without a quota project. You might receive a \"quota exceeded\" or \"API not enabled\" error. We recommend you rerun `gcloud auth application-default login` and make sure a quota project is added. Or you can use service accounts instead. For more information about service accounts, see https://cloud.google.com/docs/authentication/\n",
      "  warnings.warn(_CLOUD_SDK_CREDENTIALS_WARNING)\n"
     ]
    },
    {
     "output_type": "stream",
     "name": "stdout",
     "text": [
      "                                                                               orderId\n",
      "updater_role action                       log_date   fee_scheme                       \n",
      "WORKER       UPGRADE_CREDIT_LIMIT_ACCOUNT 2021-07-23 BLIBLI_WHITELABEL_SCHEME    14572\n",
      "data-analyst UPGRADE_CREDIT_LIMIT_ACCOUNT 2021-02-09 INDODANA_GENERIC_SCHEME      6782\n",
      "                                          2021-04-14 INDODANA_GENERIC_SCHEME      3539\n",
      "                                          2021-04-16 TIKET_WHITELABEL_SCHEME     13409\n",
      "                                          2021-06-21 TIKET_WHITELABEL_SCHEME     10301\n",
      "developers   UPGRADE_CREDIT_LIMIT_ACCOUNT 2021-06-23 INDODANA_GENERIC_SCHEME     34340\n",
      "                                                     TIKET_WHITELABEL_SCHEME     34340\n"
     ]
    }
   ],
   "metadata": {}
  },
  {
   "cell_type": "markdown",
   "source": [
    "<h2>Get Data from BQ - User Historical records</h2>"
   ],
   "metadata": {}
  },
  {
   "cell_type": "code",
   "execution_count": 3,
   "source": [
    "# To compare to certain days after\r\n",
    "# historical_data15 = lu.get_historical_data(-1,15)\r\n",
    "# historical_data30 = lu.get_historical_data(-1,30)\r\n",
    "# historical_data45 = lu.get_historical_data(-1,45)\r\n",
    "# historical_data60 = lu.get_historical_data(-1,60)\r\n",
    "# historical_data90 = lu.get_historical_data(-1,90)\r\n",
    "# historical_data15_1 = lu.get_historical_data_1(-1,15)\r\n",
    "# historical_data30_1 = lu.get_historical_data_1(-1,30)\r\n",
    "# historical_data45_1 = lu.get_historical_data_1(-1,45)\r\n",
    "# historical_data60_1 = lu.get_historical_data_1(-1,60)\r\n",
    "# historical_data90_1 = lu.get_historical_data_1(-1,90)\r\n",
    "# historical_data = pd.concat([historical_data15,historical_data30,historical_data45,historical_data60,historical_data90,\r\n",
    "#                             historical_data15_1,historical_data30_1,historical_data45_1,historical_data60_1,historical_data90_1])\r\n",
    "\r\n",
    "# To compare to yesterday data\r\n",
    "historical_data_toCurrentDate = lu.get_historical_data_toCurrentDate(-1)\r\n",
    "historical_data_1_toCurrentDate = lu.get_historical_data_1_toCurrentDate(-1)\r\n",
    "historical_data = pd.concat([historical_data_toCurrentDate,historical_data_1_toCurrentDate])\r\n",
    "\r\n",
    "historical_data['old_limit'] = historical_data['old_limit'].astype(float)\r\n",
    "historical_data['new_limit'] = historical_data['new_limit'].astype(float)\r\n",
    "historical_data['limit_usage_old'] = historical_data['limit_usage_old'].astype(float)\r\n",
    "historical_data['limit_usage_new'] = historical_data['limit_usage_new'].astype(float)\r\n",
    "historical_data['limit_addition_amount'] = historical_data['new_limit'] - historical_data['old_limit']\r\n",
    "historical_data['limit_addition_rate'] = historical_data['limit_addition_amount']/historical_data['old_limit']\r\n",
    "historical_data['limit_usage_changes'] = historical_data['limit_usage_new']-historical_data['limit_usage_old']\r\n",
    "historical_data['limit_usage_rate_new'] = historical_data['limit_usage_new']/historical_data['new_limit']\r\n",
    "historical_data['limit_usage_rate_old'] = historical_data['limit_usage_old']/historical_data['old_limit']\r\n",
    "historical_data['limit_usage_rate_changes'] = (historical_data['limit_usage_rate_new']-historical_data['limit_usage_rate_old'])/historical_data['limit_usage_rate_old']"
   ],
   "outputs": [
    {
     "output_type": "stream",
     "name": "stderr",
     "text": [
      "C:\\Users\\Cermati\\Anaconda3\\lib\\site-packages\\google\\auth\\_default.py:69: UserWarning: Your application has authenticated using end user credentials from Google Cloud SDK without a quota project. You might receive a \"quota exceeded\" or \"API not enabled\" error. We recommend you rerun `gcloud auth application-default login` and make sure a quota project is added. Or you can use service accounts instead. For more information about service accounts, see https://cloud.google.com/docs/authentication/\n",
      "  warnings.warn(_CLOUD_SDK_CREDENTIALS_WARNING)\n"
     ]
    }
   ],
   "metadata": {}
  },
  {
   "cell_type": "code",
   "execution_count": 4,
   "source": [
    "# print(historical_data.head())\r\n",
    "print(historical_data.dtypes)\r\n",
    "print(historical_data.isna().any())"
   ],
   "outputs": [
    {
     "output_type": "stream",
     "name": "stdout",
     "text": [
      "cla_group                    object\n",
      "partner                      object\n",
      "comparison_notes             object\n",
      "orderId                      object\n",
      "upgrade_limit_date           object\n",
      "paylater_status              object\n",
      "old_limit                   float64\n",
      "new_limit                   float64\n",
      "limit_usage_new             float64\n",
      "limit_usage_old             float64\n",
      "first_trx_after_upgrade      object\n",
      "limit_addition_amount       float64\n",
      "limit_addition_rate         float64\n",
      "limit_usage_changes         float64\n",
      "limit_usage_rate_new        float64\n",
      "limit_usage_rate_old        float64\n",
      "limit_usage_rate_changes    float64\n",
      "dtype: object\n",
      "cla_group                   False\n",
      "partner                     False\n",
      "comparison_notes            False\n",
      "orderId                     False\n",
      "upgrade_limit_date          False\n",
      "paylater_status             False\n",
      "old_limit                   False\n",
      "new_limit                   False\n",
      "limit_usage_new             False\n",
      "limit_usage_old             False\n",
      "first_trx_after_upgrade     False\n",
      "limit_addition_amount       False\n",
      "limit_addition_rate         False\n",
      "limit_usage_changes         False\n",
      "limit_usage_rate_new        False\n",
      "limit_usage_rate_old        False\n",
      "limit_usage_rate_changes     True\n",
      "dtype: bool\n"
     ]
    }
   ],
   "metadata": {}
  },
  {
   "cell_type": "code",
   "execution_count": 5,
   "source": [
    "def set_category(df) : \r\n",
    "    category_by_usage_rate = ''\r\n",
    "    if (df['limit_usage_rate_new'] == 0) & (df['limit_usage_rate_old'] == 0) : \r\n",
    "        category_by_usage_rate = '0. Not Used at all'\r\n",
    "    elif (df['limit_usage_rate_new'] == df['limit_usage_rate_old']) :\r\n",
    "        category_by_usage_rate = '1. No Changes'\r\n",
    "    elif (df['limit_usage_rate_new']>df['limit_usage_rate_old']) & (df['limit_usage_rate_old']==0) :\r\n",
    "        category_by_usage_rate = '1.a. Usage Increased (No Previous Usage)'\r\n",
    "    elif (df['limit_usage_rate_new']>df['limit_usage_rate_old']) & (df['limit_usage_rate_old']>0) :\r\n",
    "        category_by_usage_rate = '1.b. Usage Increased (Has Previous Usage)'\r\n",
    "    elif (df['limit_usage_rate_new']<df['limit_usage_rate_old']) & (df['limit_usage_rate_new']>0) :\r\n",
    "        category_by_usage_rate = '2.a. Usage Decreased (Has Current Usage)'\r\n",
    "    elif (df['limit_usage_rate_new']<df['limit_usage_rate_old']) & (df['limit_usage_rate_new']==0) :\r\n",
    "        category_by_usage_rate = '2.b. Usage Decreased (No Current Usage)'\r\n",
    "    df['category_by_usage_rate']=category_by_usage_rate\r\n",
    "\r\n",
    "    category_by_usage_changes = ''\r\n",
    "    if (df['limit_usage_new'] == 0) & (df['limit_usage_old'] == 0) : \r\n",
    "        category_by_usage_changes = '0. Not Used at all'\r\n",
    "    elif (df['limit_usage_new'] == df['limit_usage_old']) :\r\n",
    "        category_by_usage_changes = '1. No Changes'\r\n",
    "    elif (df['limit_usage_new']>df['limit_usage_old']) & (df['limit_usage_old']==0) :\r\n",
    "        category_by_usage_changes = '1.a. Usage Increased (No Previous Usage)'\r\n",
    "    elif (df['limit_usage_new']>df['limit_usage_old']) & (df['limit_usage_old']>0) :\r\n",
    "        category_by_usage_changes = '1.b. Usage Increased (Has Previous Usage)'\r\n",
    "    elif (df['limit_usage_new']<df['limit_usage_old']) & (df['limit_usage_new']>0) :\r\n",
    "        category_by_usage_changes = '2.a. Usage Decreased (Has Current Usage)'\r\n",
    "    elif (df['limit_usage_new']<df['limit_usage_old']) & (df['limit_usage_new']==0) :\r\n",
    "        category_by_usage_changes = '2.b. Usage Decreased (No Current Usage)'\r\n",
    "    df['category_by_usage_changes']=category_by_usage_changes\r\n",
    "\r\n",
    "    category_usage_to_old_limit = ''\r\n",
    "    if df['limit_usage_new']>df['old_limit'] : \r\n",
    "        category_usage_to_old_limit = 'Current Usage exceed old limit'\r\n",
    "    else :\r\n",
    "        category_usage_to_old_limit = ''\r\n",
    "    df['category_usage_to_old_limit']=category_usage_to_old_limit\r\n",
    "\r\n",
    "    category_first_trx_after_upgrade = ''\r\n",
    "    if df['first_trx_after_upgrade'] == 'Yes' : \r\n",
    "        category_first_trx_after_upgrade = '1st Transact After Upgrade'\r\n",
    "    elif df['first_trx_after_upgrade'] == 'Never Trx' : \r\n",
    "        category_first_trx_after_upgrade = 'Never Trx'\r\n",
    "    else :\r\n",
    "        category_first_trx_after_upgrade = ''\r\n",
    "    df['category_first_trx_after_upgrade']=category_first_trx_after_upgrade\r\n",
    "\r\n",
    "    return df"
   ],
   "outputs": [],
   "metadata": {}
  },
  {
   "cell_type": "code",
   "execution_count": 6,
   "source": [
    "historical_data = historical_data.apply(set_category, axis=1)"
   ],
   "outputs": [],
   "metadata": {}
  },
  {
   "cell_type": "code",
   "execution_count": 7,
   "source": [
    "historical_data.to_excel('Data_Limit_Utilization_ToCurrentDate_20210910.xlsx',index=False)"
   ],
   "outputs": [],
   "metadata": {}
  },
  {
   "cell_type": "code",
   "execution_count": null,
   "source": [
    "pd.set_option('display.max_colwidth', None)\r\n",
    "print(historical_data.groupby(['cla_group','comparison_notes','partner','category_by_usage_changes'],dropna=False).agg({\r\n",
    "    'orderId' : 'count'\r\n",
    "}))"
   ],
   "outputs": [],
   "metadata": {}
  },
  {
   "cell_type": "code",
   "execution_count": null,
   "source": [],
   "outputs": [],
   "metadata": {}
  }
 ],
 "metadata": {
  "kernelspec": {
   "name": "python3",
   "display_name": "Python 3.7.3 64-bit"
  },
  "language_info": {
   "codemirror_mode": {
    "name": "ipython",
    "version": 3
   },
   "file_extension": ".py",
   "mimetype": "text/x-python",
   "name": "python",
   "nbconvert_exporter": "python",
   "pygments_lexer": "ipython3",
   "version": "3.7.3"
  },
  "interpreter": {
   "hash": "27679aafd65809363b47379bcf99833ffce10baabfc9c7a1472446aa12af4c30"
  }
 },
 "nbformat": 4,
 "nbformat_minor": 5
}