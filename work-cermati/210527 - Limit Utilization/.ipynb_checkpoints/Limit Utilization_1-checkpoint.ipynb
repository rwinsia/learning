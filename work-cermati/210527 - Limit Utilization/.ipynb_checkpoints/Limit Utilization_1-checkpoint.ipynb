{
 "cells": [
  {
   "cell_type": "markdown",
   "id": "weekly-working",
   "metadata": {},
   "source": [
    "<h2>Establish connection</h2>"
   ]
  },
  {
   "cell_type": "code",
   "execution_count": 1,
   "id": "incorporated-alexandria",
   "metadata": {},
   "outputs": [
    {
     "name": "stdout",
     "output_type": "stream",
     "text": [
      "C:\\Users\\Cermati\\AppData\\Roaming\\gcloud\\application_default_credentials.json\n"
     ]
    }
   ],
   "source": [
    "%reload_ext google.cloud.bigquery\n",
    "import os\n",
    "os.environ[\"GOOGLE_APPLICATION_CREDENTIALS\"]=\"C:\\\\Users\\\\Cermati\\\\AppData\\\\Roaming\\\\gcloud\\\\application_default_credentials.json\"\n",
    "print(os.environ[\"GOOGLE_APPLICATION_CREDENTIALS\"])\n",
    "from google.cloud import bigquery\n",
    "\n",
    "import pandas as pd\n",
    "import numpy as np\n",
    "import Limit_util as c_lu\n",
    "lu = c_lu.Limit_util()"
   ]
  },
  {
   "cell_type": "markdown",
   "id": "scientific-leave",
   "metadata": {},
   "source": [
    "<h2>Get Data from BQ - Upgrade Limit group</h2>"
   ]
  },
  {
   "cell_type": "code",
   "execution_count": 2,
   "id": "found-rates",
   "metadata": {},
   "outputs": [
    {
     "name": "stderr",
     "output_type": "stream",
     "text": [
      "C:\\Users\\Cermati\\Anaconda3\\lib\\site-packages\\google\\auth\\_default.py:69: UserWarning: Your application has authenticated using end user credentials from Google Cloud SDK without a quota project. You might receive a \"quota exceeded\" or \"API not enabled\" error. We recommend you rerun `gcloud auth application-default login` and make sure a quota project is added. Or you can use service accounts instead. For more information about service accounts, see https://cloud.google.com/docs/authentication/\n",
      "  warnings.warn(_CLOUD_SDK_CREDENTIALS_WARNING)\n"
     ]
    },
    {
     "name": "stdout",
     "output_type": "stream",
     "text": [
      "                                                                               orderId\n",
      "updater_role action                       log_date   fee_scheme                       \n",
      "WORKER       UPGRADE_CREDIT_LIMIT_ACCOUNT 2021-07-23 BLIBLI_WHITELABEL_SCHEME    14572\n",
      "data-analyst UPGRADE_CREDIT_LIMIT_ACCOUNT 2021-02-09 INDODANA_GENERIC_SCHEME      6782\n",
      "                                          2021-04-14 INDODANA_GENERIC_SCHEME      3539\n",
      "                                          2021-04-16 TIKET_WHITELABEL_SCHEME     13409\n",
      "                                          2021-06-21 TIKET_WHITELABEL_SCHEME     10301\n",
      "developers   UPGRADE_CREDIT_LIMIT_ACCOUNT 2021-06-23 INDODANA_GENERIC_SCHEME     34340\n",
      "                                                     TIKET_WHITELABEL_SCHEME     34340\n"
     ]
    }
   ],
   "source": [
    "grouped_cla = lu.get_group_cla()\n",
    "\n",
    "# print(grouped_cla.head())\n",
    "# print(grouped_cla.dtypes)\n",
    "\n",
    "# check for duplicate orderId\n",
    "print(grouped_cla.groupby(['updater_role','action','log_date','fee_scheme'],dropna=False).agg({\n",
    "    'orderId' : 'count'\n",
    "    # 'orderId' : ['count',pd.Series.nunique]\n",
    "}))"
   ]
  },
  {
   "cell_type": "markdown",
   "id": "angry-utility",
   "metadata": {},
   "source": [
    "<h2>Get Data from BQ - User Historical records</h2>"
   ]
  },
  {
   "cell_type": "code",
   "execution_count": 3,
   "id": "british-biotechnology",
   "metadata": {},
   "outputs": [
    {
     "name": "stderr",
     "output_type": "stream",
     "text": [
      "C:\\Users\\Cermati\\Anaconda3\\lib\\site-packages\\google\\auth\\_default.py:69: UserWarning: Your application has authenticated using end user credentials from Google Cloud SDK without a quota project. You might receive a \"quota exceeded\" or \"API not enabled\" error. We recommend you rerun `gcloud auth application-default login` and make sure a quota project is added. Or you can use service accounts instead. For more information about service accounts, see https://cloud.google.com/docs/authentication/\n",
      "  warnings.warn(_CLOUD_SDK_CREDENTIALS_WARNING)\n"
     ]
    }
   ],
   "source": [
    "historical_data15 = lu.get_historical_data(-1,15)\n",
    "historical_data30 = lu.get_historical_data(-1,30)\n",
    "historical_data45 = lu.get_historical_data(-1,45)\n",
    "historical_data60 = lu.get_historical_data(-1,60)\n",
    "historical_data90 = lu.get_historical_data(-1,90)\n",
    "historical_data15_1 = lu.get_historical_data_1(-1,15)\n",
    "historical_data30_1 = lu.get_historical_data_1(-1,30)\n",
    "historical_data45_1 = lu.get_historical_data_1(-1,45)\n",
    "historical_data60_1 = lu.get_historical_data_1(-1,60)\n",
    "historical_data90_1 = lu.get_historical_data_1(-1,90)\n",
    "historical_data = pd.concat([historical_data15,historical_data30,historical_data45,historical_data60,historical_data90,\n",
    "                            historical_data15_1,historical_data30_1,historical_data45_1,historical_data60_1,historical_data90_1])\n",
    "\n",
    "historical_data['old_limit'] = historical_data['old_limit'].astype(float)\n",
    "historical_data['new_limit'] = historical_data['new_limit'].astype(float)\n",
    "historical_data['limit_usage_old'] = historical_data['limit_usage_old'].astype(float)\n",
    "historical_data['limit_usage_new'] = historical_data['limit_usage_new'].astype(float)\n",
    "historical_data['limit_addition_amount'] = historical_data['new_limit'] - historical_data['old_limit']\n",
    "historical_data['limit_addition_rate'] = historical_data['limit_addition_amount']/historical_data['old_limit']\n",
    "historical_data['limit_usage_changes'] = historical_data['limit_usage_new']-historical_data['limit_usage_old']\n",
    "historical_data['limit_usage_rate_new'] = historical_data['limit_usage_new']/historical_data['new_limit']\n",
    "historical_data['limit_usage_rate_old'] = historical_data['limit_usage_old']/historical_data['old_limit']\n",
    "historical_data['limit_usage_rate_changes'] = (historical_data['limit_usage_rate_new']-historical_data['limit_usage_rate_old'])/historical_data['limit_usage_rate_old']"
   ]
  },
  {
   "cell_type": "code",
   "execution_count": 4,
   "id": "traditional-marble",
   "metadata": {},
   "outputs": [
    {
     "name": "stdout",
     "output_type": "stream",
     "text": [
      "cla_group                    object\n",
      "partner                      object\n",
      "comparison_notes             object\n",
      "orderId                      object\n",
      "upgrade_limit_date           object\n",
      "paylater_status              object\n",
      "old_limit                   float64\n",
      "new_limit                   float64\n",
      "limit_usage_new             float64\n",
      "limit_usage_old             float64\n",
      "limit_addition_amount       float64\n",
      "limit_addition_rate         float64\n",
      "limit_usage_changes         float64\n",
      "limit_usage_rate_new        float64\n",
      "limit_usage_rate_old        float64\n",
      "limit_usage_rate_changes    float64\n",
      "dtype: object\n",
      "cla_group                   False\n",
      "partner                     False\n",
      "comparison_notes            False\n",
      "orderId                     False\n",
      "upgrade_limit_date          False\n",
      "paylater_status             False\n",
      "old_limit                   False\n",
      "new_limit                   False\n",
      "limit_usage_new             False\n",
      "limit_usage_old             False\n",
      "limit_addition_amount       False\n",
      "limit_addition_rate         False\n",
      "limit_usage_changes         False\n",
      "limit_usage_rate_new        False\n",
      "limit_usage_rate_old        False\n",
      "limit_usage_rate_changes     True\n",
      "dtype: bool\n"
     ]
    }
   ],
   "source": [
    "# print(historical_data.head())\n",
    "print(historical_data.dtypes)\n",
    "print(historical_data.isna().any())"
   ]
  },
  {
   "cell_type": "code",
   "execution_count": 5,
   "id": "biological-heading",
   "metadata": {},
   "outputs": [],
   "source": [
    "def set_category(df) : \n",
    "    category_by_usage_rate = ''\n",
    "    if (df['limit_usage_rate_new'] == 0) & (df['limit_usage_rate_old'] == 0) : \n",
    "        category_by_usage_rate = '0. Not Used at all'\n",
    "    elif (df['limit_usage_rate_new'] == df['limit_usage_rate_old']) :\n",
    "        category_by_usage_rate = '1. No Changes'\n",
    "    elif (df['limit_usage_rate_new']>df['limit_usage_rate_old']) & (df['limit_usage_rate_old']==0) :\n",
    "        category_by_usage_rate = '1.a. Usage Increased (No Previous Usage)'\n",
    "    elif (df['limit_usage_rate_new']>df['limit_usage_rate_old']) & (df['limit_usage_rate_old']>0) :\n",
    "        category_by_usage_rate = '1.b. Usage Increased (Has Previous Usage)'\n",
    "    elif (df['limit_usage_rate_new']<df['limit_usage_rate_old']) & (df['limit_usage_rate_new']>0) :\n",
    "        category_by_usage_rate = '2.a. Usage Decreased (Has Current Usage)'\n",
    "    elif (df['limit_usage_rate_new']<df['limit_usage_rate_old']) & (df['limit_usage_rate_new']==0) :\n",
    "        category_by_usage_rate = '2.b. Usage Decreased (No Current Usage)'\n",
    "    df['category_by_usage_rate']=category_by_usage_rate\n",
    "\n",
    "    category_by_usage_changes = ''\n",
    "    if (df['limit_usage_new'] == 0) & (df['limit_usage_old'] == 0) : \n",
    "        category_by_usage_changes = '0. Not Used at all'\n",
    "    elif (df['limit_usage_new'] == df['limit_usage_old']) :\n",
    "        category_by_usage_changes = '1. No Changes'\n",
    "    elif (df['limit_usage_new']>df['limit_usage_old']) & (df['limit_usage_old']==0) :\n",
    "        category_by_usage_changes = '1.a. Usage Increased (No Previous Usage)'\n",
    "    elif (df['limit_usage_new']>df['limit_usage_old']) & (df['limit_usage_old']>0) :\n",
    "        category_by_usage_changes = '1.b. Usage Increased (Has Previous Usage)'\n",
    "    elif (df['limit_usage_new']<df['limit_usage_old']) & (df['limit_usage_new']>0) :\n",
    "        category_by_usage_changes = '2.a. Usage Decreased (Has Current Usage)'\n",
    "    elif (df['limit_usage_new']<df['limit_usage_old']) & (df['limit_usage_new']==0) :\n",
    "        category_by_usage_changes = '2.b. Usage Decreased (No Current Usage)'\n",
    "    df['category_by_usage_changes']=category_by_usage_changes\n",
    "\n",
    "    category_usage_to_old_limit = ''\n",
    "    if df['limit_usage_new']>df['old_limit'] : \n",
    "        category_usage_to_old_limit = 'Current Usage exceed old limit'\n",
    "    else :\n",
    "        category_usage_to_old_limit = ''\n",
    "    df['category_usage_to_old_limit']=category_usage_to_old_limit\n",
    "\n",
    "    return df"
   ]
  },
  {
   "cell_type": "code",
   "execution_count": 6,
   "id": "dental-reason",
   "metadata": {},
   "outputs": [],
   "source": [
    "historical_data = historical_data.apply(set_category, axis=1)"
   ]
  },
  {
   "cell_type": "code",
   "execution_count": 7,
   "id": "shared-cisco",
   "metadata": {},
   "outputs": [],
   "source": [
    "historical_data.to_excel('Data_Limit_Utilization.xlsx',index=False)"
   ]
  },
  {
   "cell_type": "code",
   "execution_count": null,
   "id": "boxed-driver",
   "metadata": {},
   "outputs": [],
   "source": [
    "pd.set_option('display.max_colwidth', None)\n",
    "print(historical_data.groupby(['cla_group','comparison_notes','partner','category_by_usage_changes'],dropna=False).agg({\n",
    "    'orderId' : 'count'\n",
    "}))"
   ]
  },
  {
   "cell_type": "code",
   "execution_count": null,
   "id": "accredited-revision",
   "metadata": {},
   "outputs": [],
   "source": []
  }
 ],
 "metadata": {
  "kernelspec": {
   "display_name": "Python 3",
   "language": "python",
   "name": "python3"
  },
  "language_info": {
   "codemirror_mode": {
    "name": "ipython",
    "version": 3
   },
   "file_extension": ".py",
   "mimetype": "text/x-python",
   "name": "python",
   "nbconvert_exporter": "python",
   "pygments_lexer": "ipython3",
   "version": "3.7.3"
  }
 },
 "nbformat": 4,
 "nbformat_minor": 5
}
