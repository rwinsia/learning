{
 "cells": [
  {
   "cell_type": "markdown",
   "id": "weekly-working",
   "metadata": {},
   "source": [
    "<h3>Establish connection</h3>"
   ]
  },
  {
   "cell_type": "code",
   "execution_count": 1,
   "id": "incorporated-alexandria",
   "metadata": {},
   "outputs": [
    {
     "name": "stdout",
     "output_type": "stream",
     "text": [
      "C:\\Users\\Cermati\\AppData\\Roaming\\gcloud\\application_default_credentials.json\n"
     ]
    }
   ],
   "source": [
    "%reload_ext google.cloud.bigquery\n",
    "import os\n",
    "os.environ[\"GOOGLE_APPLICATION_CREDENTIALS\"]=\"C:\\\\Users\\\\Cermati\\\\AppData\\\\Roaming\\\\gcloud\\\\application_default_credentials.json\"\n",
    "print(os.environ[\"GOOGLE_APPLICATION_CREDENTIALS\"])\n",
    "from google.cloud import bigquery\n",
    "\n",
    "import pandas as pd\n",
    "import numpy as np"
   ]
  },
  {
   "cell_type": "markdown",
   "id": "scientific-leave",
   "metadata": {},
   "source": [
    "<h3>Get Data from BQ - Upgrade Limit group</h3>"
   ]
  },
  {
   "cell_type": "code",
   "execution_count": 2,
   "id": "documented-longer",
   "metadata": {},
   "outputs": [],
   "source": [
    "%%bigquery grouped_cla --project athena-179008\n",
    "\n",
    "WITH group_upgrade as (\n",
    "    SELECT \n",
    "        date(clal.created_at,\"Asia/Jakarta\") as log_date\n",
    "        , cla.fee_scheme\n",
    "        , clal.updater_role\n",
    "        , clal.action\n",
    "        , format_timestamp(\"%Y-%m-%d - \",clal.created_at,\"Asia/Jakarta\") || clal.updater_role || ' - ' || clal.action as description\n",
    "        -- , count(1) as _count\n",
    "        -- , count(distinct clal.credit_limit_account_id) as unique_credit_limit_account_id\n",
    "    FROM data-platform-indodana.vayu.indodana_credit_credit_limit_account_logs clal\n",
    "    INNER JOIN data-platform-indodana.vayu.indodana_credit_credit_limit_accounts cla ON cla.id=clal.credit_limit_account_id\n",
    "    WHERE clal.action IN  ('UPGRADE_CREDIT_LIMIT','UPGRADE_CREDIT_LIMIT_ACCOUNT')\n",
    "    group by 1,2,3,4,5\n",
    "    having count(1)>100\n",
    "    ORDER BY 1 DESC\n",
    ")\n",
    ", group_upgrade_cla as (\n",
    "    SELECT \n",
    "        g.*\n",
    "        , clal.credit_limit_account_id\n",
    "        , cli.orderId\n",
    "        , cli.partner\n",
    "    FROM data-platform-indodana.vayu.indodana_credit_credit_limit_account_logs clal \n",
    "    INNER JOIN athena-179008.vayu_data_mart.indodanamarketing_cli_application cli ON cli.credit_limit_account_id=clal.credit_limit_account_id\n",
    "    INNER JOIN group_upgrade g ON g.description=format_timestamp(\"%Y-%m-%d - \",clal.created_at,\"Asia/Jakarta\") || clal.updater_role || ' - ' || clal.action\n",
    "    GROUP BY 1,2,3,4,5,6,7,8\n",
    ")\n",
    "\n",
    "select * from group_upgrade_cla"
   ]
  },
  {
   "cell_type": "code",
   "execution_count": 3,
   "id": "commercial-liverpool",
   "metadata": {
    "scrolled": true
   },
   "outputs": [
    {
     "name": "stdout",
     "output_type": "stream",
     "text": [
      "     log_date               fee_scheme  updater_role  \\\n",
      "0  2021-04-14  INDODANA_GENERIC_SCHEME  data-analyst   \n",
      "1  2021-04-14  INDODANA_GENERIC_SCHEME  data-analyst   \n",
      "2  2021-04-14  INDODANA_GENERIC_SCHEME  data-analyst   \n",
      "3  2021-04-14  INDODANA_GENERIC_SCHEME  data-analyst   \n",
      "4  2021-04-14  INDODANA_GENERIC_SCHEME  data-analyst   \n",
      "\n",
      "                         action  \\\n",
      "0  UPGRADE_CREDIT_LIMIT_ACCOUNT   \n",
      "1  UPGRADE_CREDIT_LIMIT_ACCOUNT   \n",
      "2  UPGRADE_CREDIT_LIMIT_ACCOUNT   \n",
      "3  UPGRADE_CREDIT_LIMIT_ACCOUNT   \n",
      "4  UPGRADE_CREDIT_LIMIT_ACCOUNT   \n",
      "\n",
      "                                         description  \\\n",
      "0  2021-04-14 - data-analyst - UPGRADE_CREDIT_LIM...   \n",
      "1  2021-04-14 - data-analyst - UPGRADE_CREDIT_LIM...   \n",
      "2  2021-04-14 - data-analyst - UPGRADE_CREDIT_LIM...   \n",
      "3  2021-04-14 - data-analyst - UPGRADE_CREDIT_LIM...   \n",
      "4  2021-04-14 - data-analyst - UPGRADE_CREDIT_LIM...   \n",
      "\n",
      "                credit_limit_account_id       orderId   partner  \n",
      "0  3f348e9a-7ddf-11eb-aa7a-35d50f33ee1b  CLI-FADUJVRE  INDODANA  \n",
      "1  d5ec4a1a-9393-11eb-ab14-73c0e64f6684  CLI-4CCVUT9S  INDODANA  \n",
      "2  541123dc-3a0c-11eb-97ff-510399c77b12  CLI-NPTHUVU1  INDODANA  \n",
      "3  40c7060d-7e15-11eb-b662-698cfb458708  CLI-P97X57AR  INDODANA  \n",
      "4  9d6d26b0-7b48-11eb-bc1e-b57ff6425901  CLI-8B1S2R31  INDODANA  \n",
      "log_date                   object\n",
      "fee_scheme                 object\n",
      "updater_role               object\n",
      "action                     object\n",
      "description                object\n",
      "credit_limit_account_id    object\n",
      "orderId                    object\n",
      "partner                    object\n",
      "dtype: object\n"
     ]
    }
   ],
   "source": [
    "print(grouped_cla.head())\n",
    "print(grouped_cla.dtypes)"
   ]
  },
  {
   "cell_type": "markdown",
   "id": "lonely-metabolism",
   "metadata": {},
   "source": [
    "<h4>check for duplicate orderId</h4>"
   ]
  },
  {
   "cell_type": "code",
   "execution_count": 10,
   "id": "conceptual-bulgaria",
   "metadata": {
    "scrolled": true
   },
   "outputs": [
    {
     "name": "stdout",
     "output_type": "stream",
     "text": [
      "True\n",
      "                                                     orderId        \n",
      "                                                       count nunique\n",
      "updater_role action                       log_date                  \n",
      "MANUAL_CURL  UPGRADE_CREDIT_LIMIT         2019-11-25   18218   18218\n",
      "admin        UPGRADE_CREDIT_LIMIT_ACCOUNT 2020-09-11     210     210\n",
      "data-analyst UPGRADE_CREDIT_LIMIT_ACCOUNT 2021-02-09    6782    6782\n",
      "                                          2021-04-14    3539    3539\n",
      "                                          2021-04-16   13409   13409\n",
      "         orderId\n",
      "count      42158\n",
      "nunique    42150\n",
      "Empty DataFrame\n",
      "Columns: []\n",
      "Index: []\n"
     ]
    }
   ],
   "source": [
    "print(grouped_cla['credit_limit_account_id'].duplicated().any())\n",
    "print(grouped_cla.groupby(['updater_role','action','log_date'],dropna=False).agg({\n",
    "    'orderId' : ['count',pd.Series.nunique]\n",
    "}))\n",
    "print(grouped_cla.agg({\n",
    "    'orderId' : ['count',pd.Series.nunique]\n",
    "}))\n",
    "print(grouped_cla.groupby('log_date'))"
   ]
  },
  {
   "cell_type": "markdown",
   "id": "ancient-satin",
   "metadata": {},
   "source": [
    "<h3>Get Data from BQ - User Historical records</h3>"
   ]
  },
  {
   "cell_type": "code",
   "execution_count": 5,
   "id": "editorial-robinson",
   "metadata": {},
   "outputs": [
    {
     "ename": "MemoryError",
     "evalue": "",
     "output_type": "error",
     "traceback": [
      "\u001b[1;31m---------------------------------------------------------------------------\u001b[0m",
      "\u001b[1;31mMemoryError\u001b[0m                               Traceback (most recent call last)",
      "\u001b[1;32m<ipython-input-5-3f5c7991ccee>\u001b[0m in \u001b[0;36m<module>\u001b[1;34m\u001b[0m\n\u001b[1;32m----> 1\u001b[1;33m \u001b[0mget_ipython\u001b[0m\u001b[1;33m(\u001b[0m\u001b[1;33m)\u001b[0m\u001b[1;33m.\u001b[0m\u001b[0mrun_cell_magic\u001b[0m\u001b[1;33m(\u001b[0m\u001b[1;34m'bigquery'\u001b[0m\u001b[1;33m,\u001b[0m \u001b[1;34m'historical_data --project athena-179008'\u001b[0m\u001b[1;33m,\u001b[0m \u001b[1;34m'\\nWITH group_upgrade as (\\n    SELECT \\n        date(clal.created_at,\"Asia/Jakarta\") as log_date\\n        , cla.fee_scheme\\n        , clal.updater_role\\n        , clal.action\\n        , format_timestamp(\"%Y-%m-%d - \",clal.created_at,\"Asia/Jakarta\") || clal.updater_role || \\' - \\' || clal.action as description\\n    FROM data-platform-indodana.vayu.indodana_credit_credit_limit_account_logs clal\\n    INNER JOIN data-platform-indodana.vayu.indodana_credit_credit_limit_accounts cla ON cla.id=clal.credit_limit_account_id\\n    WHERE clal.action IN  (\\'UPGRADE_CREDIT_LIMIT\\',\\'UPGRADE_CREDIT_LIMIT_ACCOUNT\\')\\n    group by 1,2,3,4,5\\n    having count(1)>100\\n    ORDER BY 1 DESC\\n)\\n, group_upgrade_cla as (\\n    SELECT \\n        g.*\\n        , clal.credit_limit_account_id\\n        , cli.orderId\\n        , cli.partner\\n    FROM data-platform-indodana.vayu.indodana_credit_credit_limit_account_logs clal \\n    INNER JOIN athena-179008.vayu_data_mart.indodanamarketing_cli_application cli ON cli.credit_limit_account_id=clal.credit_limit_account_id\\n    INNER JOIN group_upgrade g ON g.description=format_timestamp(\"%Y-%m-%d - \",clal.created_at,\"Asia/Jakarta\") || clal.updater_role || \\' - \\' || clal.action\\n    GROUP BY 1,2,3,4,5,6,7,8\\n)\\n\\n\\nSELECT \\n    cla.fee_scheme as partner\\n    , cla.dataDate\\n    , cla.id as credit_limit_account_id\\n    , cli.orderId\\n    , cla.limit\\n    , cla.limit_balance\\n    , cla.status\\n    , \\'0. ALL\\' as cla_group\\n    , COUNT(c.entity_id) as contracts\\n    , min(date(c.approved_date,\"Asia/Jakarta\")) first_trx\\n    , max(date(c.approved_date,\"Asia/Jakarta\")) last_trx\\nFROM `athena-179008.vayu_data_mart.indodana_credit_credit_limit_accounts` cla\\nLEFT JOIN athena-179008.vayu_data_mart.indodanamarketing_cli_application cli ON cla.id=cli.credit_limit_account_id\\nLEFT JOIN athena-179008.vayu_data_mart.view_trx_contracts c ON c.credit_limit_account_id=cla.id AND c.status<>(\\'CANCELLED\\') AND c.type not like \\'%RESTRUCTURE%\\'\\nWHERE cla.dataDate BETWEEN \\'2020-12-01\\' AND \\'2021-05-31\\'\\nGROUP by 1,2,3,4,5,6,7,8\\nUNION ALL\\nSELECT \\n    cla.fee_scheme as partner\\n    , cla.dataDate\\n    , cla.id as credit_limit_account_id\\n    , cli.orderId\\n    , cla.limit\\n    , cla.limit_balance\\n    , cla.status\\n    , \\'2021-04-16 - data-analyst - UPGRADE_CREDIT_LIMIT_ACCOUNT\\' as cla_group\\n    , COUNT(c.entity_id) as contracts\\n    , min(date(c.approved_date,\"Asia/Jakarta\")) first_trx\\n    , max(date(c.approved_date,\"Asia/Jakarta\")) last_trx\\nFROM `athena-179008.vayu_data_mart.indodana_credit_credit_limit_accounts` cla\\nLEFT JOIN athena-179008.vayu_data_mart.indodanamarketing_cli_application cli ON cla.id=cli.credit_limit_account_id\\nLEFT JOIN athena-179008.vayu_data_mart.view_trx_contracts c ON c.credit_limit_account_id=cla.id AND c.status<>(\\'CANCELLED\\') AND c.type not like \\'%RESTRUCTURE%\\'\\nWHERE cla.dataDate BETWEEN \\'2020-12-01\\' AND \\'2021-05-31\\'\\nAND cla.id IN (SELECT credit_limit_account_id FROM group_upgrade_cla WHERE description=\\'2021-04-16 - data-analyst - UPGRADE_CREDIT_LIMIT_ACCOUNT\\')\\nAND cla.fee_scheme IN (SELECT fee_scheme FROM group_upgrade_cla WHERE description=\\'2021-04-16 - data-analyst - UPGRADE_CREDIT_LIMIT_ACCOUNT\\')\\nGROUP by 1,2,3,4,5,6,7,8\\nUNION ALL\\nSELECT \\n    cla.fee_scheme as partner\\n    , cla.dataDate\\n    , cla.id as credit_limit_account_id\\n    , cli.orderId\\n    , cla.limit\\n    , cla.limit_balance\\n    , cla.status\\n    , \\'2021-04-14 - data-analyst - UPGRADE_CREDIT_LIMIT_ACCOUNT\\' as cla_group\\n    , COUNT(c.entity_id) as contracts\\n    , min(date(c.approved_date,\"Asia/Jakarta\")) first_trx\\n    , max(date(c.approved_date,\"Asia/Jakarta\")) last_trx\\nFROM `athena-179008.vayu_data_mart.indodana_credit_credit_limit_accounts` cla\\nLEFT JOIN athena-179008.vayu_data_mart.indodanamarketing_cli_application cli ON cla.id=cli.credit_limit_account_id\\nLEFT JOIN athena-179008.vayu_data_mart.view_trx_contracts c ON c.credit_limit_account_id=cla.id AND c.status<>(\\'CANCELLED\\') AND c.type not like \\'%RESTRUCTURE%\\'\\nWHERE cla.dataDate BETWEEN \\'2020-12-01\\' AND \\'2021-05-31\\'\\nAND cla.id IN (SELECT credit_limit_account_id FROM group_upgrade_cla WHERE description=\\'2021-04-14 - data-analyst - UPGRADE_CREDIT_LIMIT_ACCOUNT\\')\\nAND cla.fee_scheme IN (SELECT fee_scheme FROM group_upgrade_cla WHERE description=\\'2021-04-14 - data-analyst - UPGRADE_CREDIT_LIMIT_ACCOUNT\\')\\nGROUP by 1,2,3,4,5,6,7,8\\nUNION ALL\\nSELECT \\n    cla.fee_scheme as partner\\n    , cla.dataDate\\n    , cla.id as credit_limit_account_id\\n    , cli.orderId\\n    , cla.limit\\n    , cla.limit_balance\\n    , cla.status\\n    , \\'2021-02-09 - data-analyst - UPGRADE_CREDIT_LIMIT_ACCOUNT\\' as cla_group\\n    , COUNT(c.entity_id) as contracts\\n    , min(date(c.approved_date,\"Asia/Jakarta\")) first_trx\\n    , max(date(c.approved_date,\"Asia/Jakarta\")) last_trx\\nFROM `athena-179008.vayu_data_mart.indodana_credit_credit_limit_accounts` cla\\nLEFT JOIN athena-179008.vayu_data_mart.indodanamarketing_cli_application cli ON cla.id=cli.credit_limit_account_id\\nLEFT JOIN athena-179008.vayu_data_mart.view_trx_contracts c ON c.credit_limit_account_id=cla.id AND c.status<>(\\'CANCELLED\\') AND c.type not like \\'%RESTRUCTURE%\\'\\nWHERE cla.dataDate BETWEEN \\'2020-12-01\\' AND \\'2021-05-31\\'\\nAND cla.id IN (SELECT credit_limit_account_id FROM group_upgrade_cla WHERE description=\\'2021-02-09 - data-analyst - UPGRADE_CREDIT_LIMIT_ACCOUNT\\')\\nAND cla.fee_scheme IN (SELECT fee_scheme FROM group_upgrade_cla WHERE description=\\'2021-02-09 - data-analyst - UPGRADE_CREDIT_LIMIT_ACCOUNT\\')\\nGROUP by 1,2,3,4,5,6,7,8\\n'\u001b[0m\u001b[1;33m)\u001b[0m\u001b[1;33m\u001b[0m\u001b[1;33m\u001b[0m\u001b[0m\n\u001b[0m",
      "\u001b[1;32m~\\Anaconda3\\lib\\site-packages\\IPython\\core\\interactiveshell.py\u001b[0m in \u001b[0;36mrun_cell_magic\u001b[1;34m(self, magic_name, line, cell)\u001b[0m\n\u001b[0;32m   2397\u001b[0m             \u001b[1;32mwith\u001b[0m \u001b[0mself\u001b[0m\u001b[1;33m.\u001b[0m\u001b[0mbuiltin_trap\u001b[0m\u001b[1;33m:\u001b[0m\u001b[1;33m\u001b[0m\u001b[1;33m\u001b[0m\u001b[0m\n\u001b[0;32m   2398\u001b[0m                 \u001b[0margs\u001b[0m \u001b[1;33m=\u001b[0m \u001b[1;33m(\u001b[0m\u001b[0mmagic_arg_s\u001b[0m\u001b[1;33m,\u001b[0m \u001b[0mcell\u001b[0m\u001b[1;33m)\u001b[0m\u001b[1;33m\u001b[0m\u001b[1;33m\u001b[0m\u001b[0m\n\u001b[1;32m-> 2399\u001b[1;33m                 \u001b[0mresult\u001b[0m \u001b[1;33m=\u001b[0m \u001b[0mfn\u001b[0m\u001b[1;33m(\u001b[0m\u001b[1;33m*\u001b[0m\u001b[0margs\u001b[0m\u001b[1;33m,\u001b[0m \u001b[1;33m**\u001b[0m\u001b[0mkwargs\u001b[0m\u001b[1;33m)\u001b[0m\u001b[1;33m\u001b[0m\u001b[1;33m\u001b[0m\u001b[0m\n\u001b[0m\u001b[0;32m   2400\u001b[0m             \u001b[1;32mreturn\u001b[0m \u001b[0mresult\u001b[0m\u001b[1;33m\u001b[0m\u001b[1;33m\u001b[0m\u001b[0m\n\u001b[0;32m   2401\u001b[0m \u001b[1;33m\u001b[0m\u001b[0m\n",
      "\u001b[1;32m~\\Anaconda3\\lib\\site-packages\\google\\cloud\\bigquery\\magics.py\u001b[0m in \u001b[0;36m_cell_magic\u001b[1;34m(line, query)\u001b[0m\n\u001b[0;32m    589\u001b[0m             )\n\u001b[0;32m    590\u001b[0m         \u001b[1;32melse\u001b[0m\u001b[1;33m:\u001b[0m\u001b[1;33m\u001b[0m\u001b[1;33m\u001b[0m\u001b[0m\n\u001b[1;32m--> 591\u001b[1;33m             \u001b[0mresult\u001b[0m \u001b[1;33m=\u001b[0m \u001b[0mquery_job\u001b[0m\u001b[1;33m.\u001b[0m\u001b[0mto_dataframe\u001b[0m\u001b[1;33m(\u001b[0m\u001b[0mbqstorage_client\u001b[0m\u001b[1;33m=\u001b[0m\u001b[0mbqstorage_client\u001b[0m\u001b[1;33m)\u001b[0m\u001b[1;33m\u001b[0m\u001b[1;33m\u001b[0m\u001b[0m\n\u001b[0m\u001b[0;32m    592\u001b[0m \u001b[1;33m\u001b[0m\u001b[0m\n\u001b[0;32m    593\u001b[0m         \u001b[1;32mif\u001b[0m \u001b[0margs\u001b[0m\u001b[1;33m.\u001b[0m\u001b[0mdestination_var\u001b[0m\u001b[1;33m:\u001b[0m\u001b[1;33m\u001b[0m\u001b[1;33m\u001b[0m\u001b[0m\n",
      "\u001b[1;32m~\\Anaconda3\\lib\\site-packages\\google\\cloud\\bigquery\\job.py\u001b[0m in \u001b[0;36mto_dataframe\u001b[1;34m(self, bqstorage_client, dtypes, progress_bar_type, create_bqstorage_client)\u001b[0m\n\u001b[0;32m   3378\u001b[0m             \u001b[0mdtypes\u001b[0m\u001b[1;33m=\u001b[0m\u001b[0mdtypes\u001b[0m\u001b[1;33m,\u001b[0m\u001b[1;33m\u001b[0m\u001b[1;33m\u001b[0m\u001b[0m\n\u001b[0;32m   3379\u001b[0m             \u001b[0mprogress_bar_type\u001b[0m\u001b[1;33m=\u001b[0m\u001b[0mprogress_bar_type\u001b[0m\u001b[1;33m,\u001b[0m\u001b[1;33m\u001b[0m\u001b[1;33m\u001b[0m\u001b[0m\n\u001b[1;32m-> 3380\u001b[1;33m             \u001b[0mcreate_bqstorage_client\u001b[0m\u001b[1;33m=\u001b[0m\u001b[0mcreate_bqstorage_client\u001b[0m\u001b[1;33m,\u001b[0m\u001b[1;33m\u001b[0m\u001b[1;33m\u001b[0m\u001b[0m\n\u001b[0m\u001b[0;32m   3381\u001b[0m         )\n\u001b[0;32m   3382\u001b[0m \u001b[1;33m\u001b[0m\u001b[0m\n",
      "\u001b[1;32m~\\Anaconda3\\lib\\site-packages\\google\\cloud\\bigquery\\table.py\u001b[0m in \u001b[0;36mto_dataframe\u001b[1;34m(self, bqstorage_client, dtypes, progress_bar_type, create_bqstorage_client)\u001b[0m\n\u001b[0;32m   1753\u001b[0m \u001b[1;33m\u001b[0m\u001b[0m\n\u001b[0;32m   1754\u001b[0m         \u001b[0mframes\u001b[0m \u001b[1;33m=\u001b[0m \u001b[1;33m[\u001b[0m\u001b[1;33m]\u001b[0m\u001b[1;33m\u001b[0m\u001b[1;33m\u001b[0m\u001b[0m\n\u001b[1;32m-> 1755\u001b[1;33m         \u001b[1;32mfor\u001b[0m \u001b[0mframe\u001b[0m \u001b[1;32min\u001b[0m \u001b[0mself\u001b[0m\u001b[1;33m.\u001b[0m\u001b[0mto_dataframe_iterable\u001b[0m\u001b[1;33m(\u001b[0m\u001b[0mdtypes\u001b[0m\u001b[1;33m=\u001b[0m\u001b[0mdtypes\u001b[0m\u001b[1;33m)\u001b[0m\u001b[1;33m:\u001b[0m\u001b[1;33m\u001b[0m\u001b[1;33m\u001b[0m\u001b[0m\n\u001b[0m\u001b[0;32m   1756\u001b[0m             \u001b[0mframes\u001b[0m\u001b[1;33m.\u001b[0m\u001b[0mappend\u001b[0m\u001b[1;33m(\u001b[0m\u001b[0mframe\u001b[0m\u001b[1;33m)\u001b[0m\u001b[1;33m\u001b[0m\u001b[1;33m\u001b[0m\u001b[0m\n\u001b[0;32m   1757\u001b[0m \u001b[1;33m\u001b[0m\u001b[0m\n",
      "\u001b[1;32m~\\Anaconda3\\lib\\site-packages\\google\\cloud\\bigquery\\table.py\u001b[0m in \u001b[0;36m_to_page_iterable\u001b[1;34m(self, bqstorage_download, tabledata_list_download, bqstorage_client)\u001b[0m\n\u001b[0;32m   1439\u001b[0m             )\n\u001b[0;32m   1440\u001b[0m         )\n\u001b[1;32m-> 1441\u001b[1;33m         \u001b[1;32mfor\u001b[0m \u001b[0mitem\u001b[0m \u001b[1;32min\u001b[0m \u001b[0mtabledata_list_download\u001b[0m\u001b[1;33m(\u001b[0m\u001b[1;33m)\u001b[0m\u001b[1;33m:\u001b[0m\u001b[1;33m\u001b[0m\u001b[1;33m\u001b[0m\u001b[0m\n\u001b[0m\u001b[0;32m   1442\u001b[0m             \u001b[1;32myield\u001b[0m \u001b[0mitem\u001b[0m\u001b[1;33m\u001b[0m\u001b[1;33m\u001b[0m\u001b[0m\n\u001b[0;32m   1443\u001b[0m \u001b[1;33m\u001b[0m\u001b[0m\n",
      "\u001b[1;32m~\\Anaconda3\\lib\\site-packages\\google\\cloud\\bigquery\\_pandas_helpers.py\u001b[0m in \u001b[0;36mdownload_dataframe_tabledata_list\u001b[1;34m(pages, bq_schema, dtypes)\u001b[0m\n\u001b[0;32m    561\u001b[0m     \u001b[0mbq_schema\u001b[0m \u001b[1;33m=\u001b[0m \u001b[0mschema\u001b[0m\u001b[1;33m.\u001b[0m\u001b[0m_to_schema_fields\u001b[0m\u001b[1;33m(\u001b[0m\u001b[0mbq_schema\u001b[0m\u001b[1;33m)\u001b[0m\u001b[1;33m\u001b[0m\u001b[1;33m\u001b[0m\u001b[0m\n\u001b[0;32m    562\u001b[0m     \u001b[0mcolumn_names\u001b[0m \u001b[1;33m=\u001b[0m \u001b[1;33m[\u001b[0m\u001b[0mfield\u001b[0m\u001b[1;33m.\u001b[0m\u001b[0mname\u001b[0m \u001b[1;32mfor\u001b[0m \u001b[0mfield\u001b[0m \u001b[1;32min\u001b[0m \u001b[0mbq_schema\u001b[0m\u001b[1;33m]\u001b[0m\u001b[1;33m\u001b[0m\u001b[1;33m\u001b[0m\u001b[0m\n\u001b[1;32m--> 563\u001b[1;33m     \u001b[1;32mfor\u001b[0m \u001b[0mpage\u001b[0m \u001b[1;32min\u001b[0m \u001b[0mpages\u001b[0m\u001b[1;33m:\u001b[0m\u001b[1;33m\u001b[0m\u001b[1;33m\u001b[0m\u001b[0m\n\u001b[0m\u001b[0;32m    564\u001b[0m         \u001b[1;32myield\u001b[0m \u001b[0m_tabledata_list_page_to_dataframe\u001b[0m\u001b[1;33m(\u001b[0m\u001b[0mpage\u001b[0m\u001b[1;33m,\u001b[0m \u001b[0mcolumn_names\u001b[0m\u001b[1;33m,\u001b[0m \u001b[0mdtypes\u001b[0m\u001b[1;33m)\u001b[0m\u001b[1;33m\u001b[0m\u001b[1;33m\u001b[0m\u001b[0m\n\u001b[0;32m    565\u001b[0m \u001b[1;33m\u001b[0m\u001b[0m\n",
      "\u001b[1;32m~\\Anaconda3\\lib\\site-packages\\google\\api_core\\page_iterator.py\u001b[0m in \u001b[0;36m_page_iter\u001b[1;34m(self, increment)\u001b[0m\n\u001b[0;32m    247\u001b[0m                 \u001b[0mself\u001b[0m\u001b[1;33m.\u001b[0m\u001b[0mnum_results\u001b[0m \u001b[1;33m+=\u001b[0m \u001b[0mpage\u001b[0m\u001b[1;33m.\u001b[0m\u001b[0mnum_items\u001b[0m\u001b[1;33m\u001b[0m\u001b[1;33m\u001b[0m\u001b[0m\n\u001b[0;32m    248\u001b[0m             \u001b[1;32myield\u001b[0m \u001b[0mpage\u001b[0m\u001b[1;33m\u001b[0m\u001b[1;33m\u001b[0m\u001b[0m\n\u001b[1;32m--> 249\u001b[1;33m             \u001b[0mpage\u001b[0m \u001b[1;33m=\u001b[0m \u001b[0mself\u001b[0m\u001b[1;33m.\u001b[0m\u001b[0m_next_page\u001b[0m\u001b[1;33m(\u001b[0m\u001b[1;33m)\u001b[0m\u001b[1;33m\u001b[0m\u001b[1;33m\u001b[0m\u001b[0m\n\u001b[0m\u001b[0;32m    250\u001b[0m \u001b[1;33m\u001b[0m\u001b[0m\n\u001b[0;32m    251\u001b[0m     \u001b[1;33m@\u001b[0m\u001b[0mabc\u001b[0m\u001b[1;33m.\u001b[0m\u001b[0mabstractmethod\u001b[0m\u001b[1;33m\u001b[0m\u001b[1;33m\u001b[0m\u001b[0m\n",
      "\u001b[1;32m~\\Anaconda3\\lib\\site-packages\\google\\api_core\\page_iterator.py\u001b[0m in \u001b[0;36m_next_page\u001b[1;34m(self)\u001b[0m\n\u001b[0;32m    367\u001b[0m         \"\"\"\n\u001b[0;32m    368\u001b[0m         \u001b[1;32mif\u001b[0m \u001b[0mself\u001b[0m\u001b[1;33m.\u001b[0m\u001b[0m_has_next_page\u001b[0m\u001b[1;33m(\u001b[0m\u001b[1;33m)\u001b[0m\u001b[1;33m:\u001b[0m\u001b[1;33m\u001b[0m\u001b[1;33m\u001b[0m\u001b[0m\n\u001b[1;32m--> 369\u001b[1;33m             \u001b[0mresponse\u001b[0m \u001b[1;33m=\u001b[0m \u001b[0mself\u001b[0m\u001b[1;33m.\u001b[0m\u001b[0m_get_next_page_response\u001b[0m\u001b[1;33m(\u001b[0m\u001b[1;33m)\u001b[0m\u001b[1;33m\u001b[0m\u001b[1;33m\u001b[0m\u001b[0m\n\u001b[0m\u001b[0;32m    370\u001b[0m             \u001b[0mitems\u001b[0m \u001b[1;33m=\u001b[0m \u001b[0mresponse\u001b[0m\u001b[1;33m.\u001b[0m\u001b[0mget\u001b[0m\u001b[1;33m(\u001b[0m\u001b[0mself\u001b[0m\u001b[1;33m.\u001b[0m\u001b[0m_items_key\u001b[0m\u001b[1;33m,\u001b[0m \u001b[1;33m(\u001b[0m\u001b[1;33m)\u001b[0m\u001b[1;33m)\u001b[0m\u001b[1;33m\u001b[0m\u001b[1;33m\u001b[0m\u001b[0m\n\u001b[0;32m    371\u001b[0m             \u001b[0mpage\u001b[0m \u001b[1;33m=\u001b[0m \u001b[0mPage\u001b[0m\u001b[1;33m(\u001b[0m\u001b[0mself\u001b[0m\u001b[1;33m,\u001b[0m \u001b[0mitems\u001b[0m\u001b[1;33m,\u001b[0m \u001b[0mself\u001b[0m\u001b[1;33m.\u001b[0m\u001b[0mitem_to_value\u001b[0m\u001b[1;33m,\u001b[0m \u001b[0mraw_page\u001b[0m\u001b[1;33m=\u001b[0m\u001b[0mresponse\u001b[0m\u001b[1;33m)\u001b[0m\u001b[1;33m\u001b[0m\u001b[1;33m\u001b[0m\u001b[0m\n",
      "\u001b[1;32m~\\Anaconda3\\lib\\site-packages\\google\\cloud\\bigquery\\table.py\u001b[0m in \u001b[0;36m_get_next_page_response\u001b[1;34m(self)\u001b[0m\n\u001b[0;32m   1371\u001b[0m             \u001b[0mparams\u001b[0m\u001b[1;33m[\u001b[0m\u001b[1;34m\"maxResults\"\u001b[0m\u001b[1;33m]\u001b[0m \u001b[1;33m=\u001b[0m \u001b[0mself\u001b[0m\u001b[1;33m.\u001b[0m\u001b[0m_page_size\u001b[0m\u001b[1;33m\u001b[0m\u001b[1;33m\u001b[0m\u001b[0m\n\u001b[0;32m   1372\u001b[0m         return self.api_request(\n\u001b[1;32m-> 1373\u001b[1;33m             \u001b[0mmethod\u001b[0m\u001b[1;33m=\u001b[0m\u001b[0mself\u001b[0m\u001b[1;33m.\u001b[0m\u001b[0m_HTTP_METHOD\u001b[0m\u001b[1;33m,\u001b[0m \u001b[0mpath\u001b[0m\u001b[1;33m=\u001b[0m\u001b[0mself\u001b[0m\u001b[1;33m.\u001b[0m\u001b[0mpath\u001b[0m\u001b[1;33m,\u001b[0m \u001b[0mquery_params\u001b[0m\u001b[1;33m=\u001b[0m\u001b[0mparams\u001b[0m\u001b[1;33m\u001b[0m\u001b[1;33m\u001b[0m\u001b[0m\n\u001b[0m\u001b[0;32m   1374\u001b[0m         )\n\u001b[0;32m   1375\u001b[0m \u001b[1;33m\u001b[0m\u001b[0m\n",
      "\u001b[1;32m~\\Anaconda3\\lib\\site-packages\\google\\cloud\\bigquery\\client.py\u001b[0m in \u001b[0;36m_call_api\u001b[1;34m(self, retry, **kwargs)\u001b[0m\n\u001b[0;32m    556\u001b[0m         \u001b[1;32mif\u001b[0m \u001b[0mretry\u001b[0m\u001b[1;33m:\u001b[0m\u001b[1;33m\u001b[0m\u001b[1;33m\u001b[0m\u001b[0m\n\u001b[0;32m    557\u001b[0m             \u001b[0mcall\u001b[0m \u001b[1;33m=\u001b[0m \u001b[0mretry\u001b[0m\u001b[1;33m(\u001b[0m\u001b[0mcall\u001b[0m\u001b[1;33m)\u001b[0m\u001b[1;33m\u001b[0m\u001b[1;33m\u001b[0m\u001b[0m\n\u001b[1;32m--> 558\u001b[1;33m         \u001b[1;32mreturn\u001b[0m \u001b[0mcall\u001b[0m\u001b[1;33m(\u001b[0m\u001b[1;33m)\u001b[0m\u001b[1;33m\u001b[0m\u001b[1;33m\u001b[0m\u001b[0m\n\u001b[0m\u001b[0;32m    559\u001b[0m \u001b[1;33m\u001b[0m\u001b[0m\n\u001b[0;32m    560\u001b[0m     \u001b[1;32mdef\u001b[0m \u001b[0mget_dataset\u001b[0m\u001b[1;33m(\u001b[0m\u001b[0mself\u001b[0m\u001b[1;33m,\u001b[0m \u001b[0mdataset_ref\u001b[0m\u001b[1;33m,\u001b[0m \u001b[0mretry\u001b[0m\u001b[1;33m=\u001b[0m\u001b[0mDEFAULT_RETRY\u001b[0m\u001b[1;33m,\u001b[0m \u001b[0mtimeout\u001b[0m\u001b[1;33m=\u001b[0m\u001b[1;32mNone\u001b[0m\u001b[1;33m)\u001b[0m\u001b[1;33m:\u001b[0m\u001b[1;33m\u001b[0m\u001b[1;33m\u001b[0m\u001b[0m\n",
      "\u001b[1;32m~\\Anaconda3\\lib\\site-packages\\google\\api_core\\retry.py\u001b[0m in \u001b[0;36mretry_wrapped_func\u001b[1;34m(*args, **kwargs)\u001b[0m\n\u001b[0;32m    284\u001b[0m                 \u001b[0msleep_generator\u001b[0m\u001b[1;33m,\u001b[0m\u001b[1;33m\u001b[0m\u001b[1;33m\u001b[0m\u001b[0m\n\u001b[0;32m    285\u001b[0m                 \u001b[0mself\u001b[0m\u001b[1;33m.\u001b[0m\u001b[0m_deadline\u001b[0m\u001b[1;33m,\u001b[0m\u001b[1;33m\u001b[0m\u001b[1;33m\u001b[0m\u001b[0m\n\u001b[1;32m--> 286\u001b[1;33m                 \u001b[0mon_error\u001b[0m\u001b[1;33m=\u001b[0m\u001b[0mon_error\u001b[0m\u001b[1;33m,\u001b[0m\u001b[1;33m\u001b[0m\u001b[1;33m\u001b[0m\u001b[0m\n\u001b[0m\u001b[0;32m    287\u001b[0m             )\n\u001b[0;32m    288\u001b[0m \u001b[1;33m\u001b[0m\u001b[0m\n",
      "\u001b[1;32m~\\Anaconda3\\lib\\site-packages\\google\\api_core\\retry.py\u001b[0m in \u001b[0;36mretry_target\u001b[1;34m(target, predicate, sleep_generator, deadline, on_error)\u001b[0m\n\u001b[0;32m    182\u001b[0m     \u001b[1;32mfor\u001b[0m \u001b[0msleep\u001b[0m \u001b[1;32min\u001b[0m \u001b[0msleep_generator\u001b[0m\u001b[1;33m:\u001b[0m\u001b[1;33m\u001b[0m\u001b[1;33m\u001b[0m\u001b[0m\n\u001b[0;32m    183\u001b[0m         \u001b[1;32mtry\u001b[0m\u001b[1;33m:\u001b[0m\u001b[1;33m\u001b[0m\u001b[1;33m\u001b[0m\u001b[0m\n\u001b[1;32m--> 184\u001b[1;33m             \u001b[1;32mreturn\u001b[0m \u001b[0mtarget\u001b[0m\u001b[1;33m(\u001b[0m\u001b[1;33m)\u001b[0m\u001b[1;33m\u001b[0m\u001b[1;33m\u001b[0m\u001b[0m\n\u001b[0m\u001b[0;32m    185\u001b[0m \u001b[1;33m\u001b[0m\u001b[0m\n\u001b[0;32m    186\u001b[0m         \u001b[1;31m# pylint: disable=broad-except\u001b[0m\u001b[1;33m\u001b[0m\u001b[1;33m\u001b[0m\u001b[1;33m\u001b[0m\u001b[0m\n",
      "\u001b[1;32m~\\Anaconda3\\lib\\site-packages\\google\\cloud\\_http.py\u001b[0m in \u001b[0;36mapi_request\u001b[1;34m(self, method, path, query_params, data, content_type, headers, api_base_url, api_version, expect_json, _target_object, timeout)\u001b[0m\n\u001b[0;32m    417\u001b[0m             \u001b[0mheaders\u001b[0m\u001b[1;33m=\u001b[0m\u001b[0mheaders\u001b[0m\u001b[1;33m,\u001b[0m\u001b[1;33m\u001b[0m\u001b[1;33m\u001b[0m\u001b[0m\n\u001b[0;32m    418\u001b[0m             \u001b[0mtarget_object\u001b[0m\u001b[1;33m=\u001b[0m\u001b[0m_target_object\u001b[0m\u001b[1;33m,\u001b[0m\u001b[1;33m\u001b[0m\u001b[1;33m\u001b[0m\u001b[0m\n\u001b[1;32m--> 419\u001b[1;33m             \u001b[0mtimeout\u001b[0m\u001b[1;33m=\u001b[0m\u001b[0mtimeout\u001b[0m\u001b[1;33m,\u001b[0m\u001b[1;33m\u001b[0m\u001b[1;33m\u001b[0m\u001b[0m\n\u001b[0m\u001b[0;32m    420\u001b[0m         )\n\u001b[0;32m    421\u001b[0m \u001b[1;33m\u001b[0m\u001b[0m\n",
      "\u001b[1;32m~\\Anaconda3\\lib\\site-packages\\google\\cloud\\_http.py\u001b[0m in \u001b[0;36m_make_request\u001b[1;34m(self, method, url, data, content_type, headers, target_object, timeout)\u001b[0m\n\u001b[0;32m    275\u001b[0m \u001b[1;33m\u001b[0m\u001b[0m\n\u001b[0;32m    276\u001b[0m         return self._do_request(\n\u001b[1;32m--> 277\u001b[1;33m             \u001b[0mmethod\u001b[0m\u001b[1;33m,\u001b[0m \u001b[0murl\u001b[0m\u001b[1;33m,\u001b[0m \u001b[0mheaders\u001b[0m\u001b[1;33m,\u001b[0m \u001b[0mdata\u001b[0m\u001b[1;33m,\u001b[0m \u001b[0mtarget_object\u001b[0m\u001b[1;33m,\u001b[0m \u001b[0mtimeout\u001b[0m\u001b[1;33m=\u001b[0m\u001b[0mtimeout\u001b[0m\u001b[1;33m\u001b[0m\u001b[1;33m\u001b[0m\u001b[0m\n\u001b[0m\u001b[0;32m    278\u001b[0m         )\n\u001b[0;32m    279\u001b[0m \u001b[1;33m\u001b[0m\u001b[0m\n",
      "\u001b[1;32m~\\Anaconda3\\lib\\site-packages\\google\\cloud\\_http.py\u001b[0m in \u001b[0;36m_do_request\u001b[1;34m(self, method, url, headers, data, target_object, timeout)\u001b[0m\n\u001b[0;32m    313\u001b[0m         \"\"\"\n\u001b[0;32m    314\u001b[0m         return self.http.request(\n\u001b[1;32m--> 315\u001b[1;33m             \u001b[0murl\u001b[0m\u001b[1;33m=\u001b[0m\u001b[0murl\u001b[0m\u001b[1;33m,\u001b[0m \u001b[0mmethod\u001b[0m\u001b[1;33m=\u001b[0m\u001b[0mmethod\u001b[0m\u001b[1;33m,\u001b[0m \u001b[0mheaders\u001b[0m\u001b[1;33m=\u001b[0m\u001b[0mheaders\u001b[0m\u001b[1;33m,\u001b[0m \u001b[0mdata\u001b[0m\u001b[1;33m=\u001b[0m\u001b[0mdata\u001b[0m\u001b[1;33m,\u001b[0m \u001b[0mtimeout\u001b[0m\u001b[1;33m=\u001b[0m\u001b[0mtimeout\u001b[0m\u001b[1;33m\u001b[0m\u001b[1;33m\u001b[0m\u001b[0m\n\u001b[0m\u001b[0;32m    316\u001b[0m         )\n\u001b[0;32m    317\u001b[0m \u001b[1;33m\u001b[0m\u001b[0m\n",
      "\u001b[1;32m~\\Anaconda3\\lib\\site-packages\\google\\auth\\transport\\requests.py\u001b[0m in \u001b[0;36mrequest\u001b[1;34m(self, method, url, data, headers, max_allowed_time, timeout, **kwargs)\u001b[0m\n\u001b[0;32m    452\u001b[0m                 \u001b[0mheaders\u001b[0m\u001b[1;33m=\u001b[0m\u001b[0mrequest_headers\u001b[0m\u001b[1;33m,\u001b[0m\u001b[1;33m\u001b[0m\u001b[1;33m\u001b[0m\u001b[0m\n\u001b[0;32m    453\u001b[0m                 \u001b[0mtimeout\u001b[0m\u001b[1;33m=\u001b[0m\u001b[0mtimeout\u001b[0m\u001b[1;33m,\u001b[0m\u001b[1;33m\u001b[0m\u001b[1;33m\u001b[0m\u001b[0m\n\u001b[1;32m--> 454\u001b[1;33m                 \u001b[1;33m**\u001b[0m\u001b[0mkwargs\u001b[0m\u001b[1;33m\u001b[0m\u001b[1;33m\u001b[0m\u001b[0m\n\u001b[0m\u001b[0;32m    455\u001b[0m             )\n\u001b[0;32m    456\u001b[0m         \u001b[0mremaining_time\u001b[0m \u001b[1;33m=\u001b[0m \u001b[0mguard\u001b[0m\u001b[1;33m.\u001b[0m\u001b[0mremaining_timeout\u001b[0m\u001b[1;33m\u001b[0m\u001b[1;33m\u001b[0m\u001b[0m\n",
      "\u001b[1;32m~\\Anaconda3\\lib\\site-packages\\requests\\sessions.py\u001b[0m in \u001b[0;36mrequest\u001b[1;34m(self, method, url, params, data, headers, cookies, files, auth, timeout, allow_redirects, proxies, hooks, stream, verify, cert, json)\u001b[0m\n\u001b[0;32m    540\u001b[0m         }\n\u001b[0;32m    541\u001b[0m         \u001b[0msend_kwargs\u001b[0m\u001b[1;33m.\u001b[0m\u001b[0mupdate\u001b[0m\u001b[1;33m(\u001b[0m\u001b[0msettings\u001b[0m\u001b[1;33m)\u001b[0m\u001b[1;33m\u001b[0m\u001b[1;33m\u001b[0m\u001b[0m\n\u001b[1;32m--> 542\u001b[1;33m         \u001b[0mresp\u001b[0m \u001b[1;33m=\u001b[0m \u001b[0mself\u001b[0m\u001b[1;33m.\u001b[0m\u001b[0msend\u001b[0m\u001b[1;33m(\u001b[0m\u001b[0mprep\u001b[0m\u001b[1;33m,\u001b[0m \u001b[1;33m**\u001b[0m\u001b[0msend_kwargs\u001b[0m\u001b[1;33m)\u001b[0m\u001b[1;33m\u001b[0m\u001b[1;33m\u001b[0m\u001b[0m\n\u001b[0m\u001b[0;32m    543\u001b[0m \u001b[1;33m\u001b[0m\u001b[0m\n\u001b[0;32m    544\u001b[0m         \u001b[1;32mreturn\u001b[0m \u001b[0mresp\u001b[0m\u001b[1;33m\u001b[0m\u001b[1;33m\u001b[0m\u001b[0m\n",
      "\u001b[1;32m~\\Anaconda3\\lib\\site-packages\\requests\\sessions.py\u001b[0m in \u001b[0;36msend\u001b[1;34m(self, request, **kwargs)\u001b[0m\n\u001b[0;32m    695\u001b[0m \u001b[1;33m\u001b[0m\u001b[0m\n\u001b[0;32m    696\u001b[0m         \u001b[1;32mif\u001b[0m \u001b[1;32mnot\u001b[0m \u001b[0mstream\u001b[0m\u001b[1;33m:\u001b[0m\u001b[1;33m\u001b[0m\u001b[1;33m\u001b[0m\u001b[0m\n\u001b[1;32m--> 697\u001b[1;33m             \u001b[0mr\u001b[0m\u001b[1;33m.\u001b[0m\u001b[0mcontent\u001b[0m\u001b[1;33m\u001b[0m\u001b[1;33m\u001b[0m\u001b[0m\n\u001b[0m\u001b[0;32m    698\u001b[0m \u001b[1;33m\u001b[0m\u001b[0m\n\u001b[0;32m    699\u001b[0m         \u001b[1;32mreturn\u001b[0m \u001b[0mr\u001b[0m\u001b[1;33m\u001b[0m\u001b[1;33m\u001b[0m\u001b[0m\n",
      "\u001b[1;32m~\\Anaconda3\\lib\\site-packages\\requests\\models.py\u001b[0m in \u001b[0;36mcontent\u001b[1;34m(self)\u001b[0m\n\u001b[0;32m    829\u001b[0m                 \u001b[0mself\u001b[0m\u001b[1;33m.\u001b[0m\u001b[0m_content\u001b[0m \u001b[1;33m=\u001b[0m \u001b[1;32mNone\u001b[0m\u001b[1;33m\u001b[0m\u001b[1;33m\u001b[0m\u001b[0m\n\u001b[0;32m    830\u001b[0m             \u001b[1;32melse\u001b[0m\u001b[1;33m:\u001b[0m\u001b[1;33m\u001b[0m\u001b[1;33m\u001b[0m\u001b[0m\n\u001b[1;32m--> 831\u001b[1;33m                 \u001b[0mself\u001b[0m\u001b[1;33m.\u001b[0m\u001b[0m_content\u001b[0m \u001b[1;33m=\u001b[0m \u001b[1;34mb''\u001b[0m\u001b[1;33m.\u001b[0m\u001b[0mjoin\u001b[0m\u001b[1;33m(\u001b[0m\u001b[0mself\u001b[0m\u001b[1;33m.\u001b[0m\u001b[0miter_content\u001b[0m\u001b[1;33m(\u001b[0m\u001b[0mCONTENT_CHUNK_SIZE\u001b[0m\u001b[1;33m)\u001b[0m\u001b[1;33m)\u001b[0m \u001b[1;32mor\u001b[0m \u001b[1;34mb''\u001b[0m\u001b[1;33m\u001b[0m\u001b[1;33m\u001b[0m\u001b[0m\n\u001b[0m\u001b[0;32m    832\u001b[0m \u001b[1;33m\u001b[0m\u001b[0m\n\u001b[0;32m    833\u001b[0m         \u001b[0mself\u001b[0m\u001b[1;33m.\u001b[0m\u001b[0m_content_consumed\u001b[0m \u001b[1;33m=\u001b[0m \u001b[1;32mTrue\u001b[0m\u001b[1;33m\u001b[0m\u001b[1;33m\u001b[0m\u001b[0m\n",
      "\u001b[1;31mMemoryError\u001b[0m: "
     ]
    }
   ],
   "source": [
    "%%bigquery historical_data --project athena-179008\n",
    "\n",
    "WITH group_upgrade as (\n",
    "    SELECT \n",
    "        date(clal.created_at,\"Asia/Jakarta\") as log_date\n",
    "        , cla.fee_scheme\n",
    "        , clal.updater_role\n",
    "        , clal.action\n",
    "        , format_timestamp(\"%Y-%m-%d - \",clal.created_at,\"Asia/Jakarta\") || clal.updater_role || ' - ' || clal.action as description\n",
    "    FROM data-platform-indodana.vayu.indodana_credit_credit_limit_account_logs clal\n",
    "    INNER JOIN data-platform-indodana.vayu.indodana_credit_credit_limit_accounts cla ON cla.id=clal.credit_limit_account_id\n",
    "    WHERE clal.action IN  ('UPGRADE_CREDIT_LIMIT','UPGRADE_CREDIT_LIMIT_ACCOUNT')\n",
    "    group by 1,2,3,4,5\n",
    "    having count(1)>100\n",
    "    ORDER BY 1 DESC\n",
    ")\n",
    ", group_upgrade_cla as (\n",
    "    SELECT \n",
    "        g.*\n",
    "        , clal.credit_limit_account_id\n",
    "        , cli.orderId\n",
    "        , cli.partner\n",
    "    FROM data-platform-indodana.vayu.indodana_credit_credit_limit_account_logs clal \n",
    "    INNER JOIN athena-179008.vayu_data_mart.indodanamarketing_cli_application cli ON cli.credit_limit_account_id=clal.credit_limit_account_id\n",
    "    INNER JOIN group_upgrade g ON g.description=format_timestamp(\"%Y-%m-%d - \",clal.created_at,\"Asia/Jakarta\") || clal.updater_role || ' - ' || clal.action\n",
    "    GROUP BY 1,2,3,4,5,6,7,8\n",
    ")\n",
    "\n",
    "\n",
    "SELECT \n",
    "    cla.fee_scheme as partner\n",
    "    , cla.dataDate\n",
    "    , cla.id as credit_limit_account_id\n",
    "    , cli.orderId\n",
    "    , cla.limit\n",
    "    , cla.limit_balance\n",
    "    , cla.status\n",
    "    , '0. ALL' as cla_group\n",
    "    , COUNT(c.entity_id) as contracts\n",
    "    , min(date(c.approved_date,\"Asia/Jakarta\")) first_trx\n",
    "    , max(date(c.approved_date,\"Asia/Jakarta\")) last_trx\n",
    "FROM `athena-179008.vayu_data_mart.indodana_credit_credit_limit_accounts` cla\n",
    "LEFT JOIN athena-179008.vayu_data_mart.indodanamarketing_cli_application cli ON cla.id=cli.credit_limit_account_id\n",
    "LEFT JOIN athena-179008.vayu_data_mart.view_trx_contracts c ON c.credit_limit_account_id=cla.id AND c.status<>('CANCELLED') AND c.type not like '%RESTRUCTURE%'\n",
    "WHERE cla.dataDate BETWEEN '2020-12-01' AND '2021-05-31'\n",
    "GROUP by 1,2,3,4,5,6,7,8\n",
    "UNION ALL\n",
    "SELECT \n",
    "    cla.fee_scheme as partner\n",
    "    , cla.dataDate\n",
    "    , cla.id as credit_limit_account_id\n",
    "    , cli.orderId\n",
    "    , cla.limit\n",
    "    , cla.limit_balance\n",
    "    , cla.status\n",
    "    , '2021-04-16 - data-analyst - UPGRADE_CREDIT_LIMIT_ACCOUNT' as cla_group\n",
    "    , COUNT(c.entity_id) as contracts\n",
    "    , min(date(c.approved_date,\"Asia/Jakarta\")) first_trx\n",
    "    , max(date(c.approved_date,\"Asia/Jakarta\")) last_trx\n",
    "FROM `athena-179008.vayu_data_mart.indodana_credit_credit_limit_accounts` cla\n",
    "LEFT JOIN athena-179008.vayu_data_mart.indodanamarketing_cli_application cli ON cla.id=cli.credit_limit_account_id\n",
    "LEFT JOIN athena-179008.vayu_data_mart.view_trx_contracts c ON c.credit_limit_account_id=cla.id AND c.status<>('CANCELLED') AND c.type not like '%RESTRUCTURE%'\n",
    "WHERE cla.dataDate BETWEEN '2020-12-01' AND '2021-05-31'\n",
    "AND cla.id IN (SELECT credit_limit_account_id FROM group_upgrade_cla WHERE description='2021-04-16 - data-analyst - UPGRADE_CREDIT_LIMIT_ACCOUNT')\n",
    "AND cla.fee_scheme IN (SELECT fee_scheme FROM group_upgrade_cla WHERE description='2021-04-16 - data-analyst - UPGRADE_CREDIT_LIMIT_ACCOUNT')\n",
    "GROUP by 1,2,3,4,5,6,7,8\n",
    "UNION ALL\n",
    "SELECT \n",
    "    cla.fee_scheme as partner\n",
    "    , cla.dataDate\n",
    "    , cla.id as credit_limit_account_id\n",
    "    , cli.orderId\n",
    "    , cla.limit\n",
    "    , cla.limit_balance\n",
    "    , cla.status\n",
    "    , '2021-04-14 - data-analyst - UPGRADE_CREDIT_LIMIT_ACCOUNT' as cla_group\n",
    "    , COUNT(c.entity_id) as contracts\n",
    "    , min(date(c.approved_date,\"Asia/Jakarta\")) first_trx\n",
    "    , max(date(c.approved_date,\"Asia/Jakarta\")) last_trx\n",
    "FROM `athena-179008.vayu_data_mart.indodana_credit_credit_limit_accounts` cla\n",
    "LEFT JOIN athena-179008.vayu_data_mart.indodanamarketing_cli_application cli ON cla.id=cli.credit_limit_account_id\n",
    "LEFT JOIN athena-179008.vayu_data_mart.view_trx_contracts c ON c.credit_limit_account_id=cla.id AND c.status<>('CANCELLED') AND c.type not like '%RESTRUCTURE%'\n",
    "WHERE cla.dataDate BETWEEN '2020-12-01' AND '2021-05-31'\n",
    "AND cla.id IN (SELECT credit_limit_account_id FROM group_upgrade_cla WHERE description='2021-04-14 - data-analyst - UPGRADE_CREDIT_LIMIT_ACCOUNT')\n",
    "AND cla.fee_scheme IN (SELECT fee_scheme FROM group_upgrade_cla WHERE description='2021-04-14 - data-analyst - UPGRADE_CREDIT_LIMIT_ACCOUNT')\n",
    "GROUP by 1,2,3,4,5,6,7,8\n",
    "UNION ALL\n",
    "SELECT \n",
    "    cla.fee_scheme as partner\n",
    "    , cla.dataDate\n",
    "    , cla.id as credit_limit_account_id\n",
    "    , cli.orderId\n",
    "    , cla.limit\n",
    "    , cla.limit_balance\n",
    "    , cla.status\n",
    "    , '2021-02-09 - data-analyst - UPGRADE_CREDIT_LIMIT_ACCOUNT' as cla_group\n",
    "    , COUNT(c.entity_id) as contracts\n",
    "    , min(date(c.approved_date,\"Asia/Jakarta\")) first_trx\n",
    "    , max(date(c.approved_date,\"Asia/Jakarta\")) last_trx\n",
    "FROM `athena-179008.vayu_data_mart.indodana_credit_credit_limit_accounts` cla\n",
    "LEFT JOIN athena-179008.vayu_data_mart.indodanamarketing_cli_application cli ON cla.id=cli.credit_limit_account_id\n",
    "LEFT JOIN athena-179008.vayu_data_mart.view_trx_contracts c ON c.credit_limit_account_id=cla.id AND c.status<>('CANCELLED') AND c.type not like '%RESTRUCTURE%'\n",
    "WHERE cla.dataDate BETWEEN '2020-12-01' AND '2021-05-31'\n",
    "AND cla.id IN (SELECT credit_limit_account_id FROM group_upgrade_cla WHERE description='2021-02-09 - data-analyst - UPGRADE_CREDIT_LIMIT_ACCOUNT')\n",
    "AND cla.fee_scheme IN (SELECT fee_scheme FROM group_upgrade_cla WHERE description='2021-02-09 - data-analyst - UPGRADE_CREDIT_LIMIT_ACCOUNT')\n",
    "GROUP by 1,2,3,4,5,6,7,8"
   ]
  },
  {
   "cell_type": "code",
   "execution_count": null,
   "id": "temporal-supplier",
   "metadata": {},
   "outputs": [],
   "source": [
    "print(historical_data.head())\n",
    "print(historical_data.dtypes)"
   ]
  },
  {
   "cell_type": "code",
   "execution_count": null,
   "id": "boxed-driver",
   "metadata": {},
   "outputs": [],
   "source": [
    "print(historical_data.groupby('cla_group',dropna=False).agg({\n",
    "    'credit_limit_account_id' : ['count',pd.Series.nunique]\n",
    "}))"
   ]
  },
  {
   "cell_type": "code",
   "execution_count": null,
   "id": "virtual-tourist",
   "metadata": {},
   "outputs": [],
   "source": []
  }
 ],
 "metadata": {
  "kernelspec": {
   "display_name": "Python 3",
   "language": "python",
   "name": "python3"
  },
  "language_info": {
   "codemirror_mode": {
    "name": "ipython",
    "version": 3
   },
   "file_extension": ".py",
   "mimetype": "text/x-python",
   "name": "python",
   "nbconvert_exporter": "python",
   "pygments_lexer": "ipython3",
   "version": "3.7.3"
  }
 },
 "nbformat": 4,
 "nbformat_minor": 5
}
