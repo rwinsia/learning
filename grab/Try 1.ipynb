{
 "cells": [
  {
   "cell_type": "code",
   "execution_count": 11,
   "id": "approximate-holiday",
   "metadata": {},
   "outputs": [],
   "source": [
    "import numpy as np\n",
    "import pandas as pd"
   ]
  },
  {
   "cell_type": "code",
   "execution_count": 12,
   "id": "entire-relay",
   "metadata": {},
   "outputs": [],
   "source": [
    "data = pd.read_csv('./data/realest.csv') "
   ]
  },
  {
   "cell_type": "code",
   "execution_count": 13,
   "id": "cosmetic-width",
   "metadata": {},
   "outputs": [
    {
     "data": {
      "text/html": [
       "<div>\n",
       "<style scoped>\n",
       "    .dataframe tbody tr th:only-of-type {\n",
       "        vertical-align: middle;\n",
       "    }\n",
       "\n",
       "    .dataframe tbody tr th {\n",
       "        vertical-align: top;\n",
       "    }\n",
       "\n",
       "    .dataframe thead th {\n",
       "        text-align: right;\n",
       "    }\n",
       "</style>\n",
       "<table border=\"1\" class=\"dataframe\">\n",
       "  <thead>\n",
       "    <tr style=\"text-align: right;\">\n",
       "      <th></th>\n",
       "      <th>Price</th>\n",
       "      <th>Bedroom</th>\n",
       "      <th>Space</th>\n",
       "      <th>Room</th>\n",
       "      <th>Lot</th>\n",
       "      <th>Tax</th>\n",
       "      <th>Bathroom</th>\n",
       "      <th>Garage</th>\n",
       "      <th>Condition</th>\n",
       "    </tr>\n",
       "  </thead>\n",
       "  <tbody>\n",
       "    <tr>\n",
       "      <th>count</th>\n",
       "      <td>156.000000</td>\n",
       "      <td>156.000000</td>\n",
       "      <td>146.000000</td>\n",
       "      <td>156.000000</td>\n",
       "      <td>146.000000</td>\n",
       "      <td>147.000000</td>\n",
       "      <td>156.000000</td>\n",
       "      <td>156.000000</td>\n",
       "      <td>156.000000</td>\n",
       "    </tr>\n",
       "    <tr>\n",
       "      <th>mean</th>\n",
       "      <td>56.474359</td>\n",
       "      <td>3.166667</td>\n",
       "      <td>1097.246575</td>\n",
       "      <td>6.500000</td>\n",
       "      <td>32.808219</td>\n",
       "      <td>911.707483</td>\n",
       "      <td>1.480769</td>\n",
       "      <td>0.846154</td>\n",
       "      <td>0.230769</td>\n",
       "    </tr>\n",
       "    <tr>\n",
       "      <th>std</th>\n",
       "      <td>12.875307</td>\n",
       "      <td>1.348037</td>\n",
       "      <td>462.540698</td>\n",
       "      <td>1.675247</td>\n",
       "      <td>8.457859</td>\n",
       "      <td>443.263430</td>\n",
       "      <td>0.529408</td>\n",
       "      <td>0.808454</td>\n",
       "      <td>0.422682</td>\n",
       "    </tr>\n",
       "    <tr>\n",
       "      <th>min</th>\n",
       "      <td>32.000000</td>\n",
       "      <td>1.000000</td>\n",
       "      <td>539.000000</td>\n",
       "      <td>4.000000</td>\n",
       "      <td>24.000000</td>\n",
       "      <td>418.000000</td>\n",
       "      <td>1.000000</td>\n",
       "      <td>0.000000</td>\n",
       "      <td>0.000000</td>\n",
       "    </tr>\n",
       "    <tr>\n",
       "      <th>25%</th>\n",
       "      <td>46.000000</td>\n",
       "      <td>2.000000</td>\n",
       "      <td>805.250000</td>\n",
       "      <td>5.000000</td>\n",
       "      <td>25.000000</td>\n",
       "      <td>652.500000</td>\n",
       "      <td>1.000000</td>\n",
       "      <td>0.000000</td>\n",
       "      <td>0.000000</td>\n",
       "    </tr>\n",
       "    <tr>\n",
       "      <th>50%</th>\n",
       "      <td>55.000000</td>\n",
       "      <td>3.000000</td>\n",
       "      <td>965.500000</td>\n",
       "      <td>6.000000</td>\n",
       "      <td>30.000000</td>\n",
       "      <td>821.000000</td>\n",
       "      <td>1.500000</td>\n",
       "      <td>1.000000</td>\n",
       "      <td>0.000000</td>\n",
       "    </tr>\n",
       "    <tr>\n",
       "      <th>75%</th>\n",
       "      <td>65.000000</td>\n",
       "      <td>4.000000</td>\n",
       "      <td>1220.500000</td>\n",
       "      <td>7.000000</td>\n",
       "      <td>37.000000</td>\n",
       "      <td>1012.500000</td>\n",
       "      <td>2.000000</td>\n",
       "      <td>1.500000</td>\n",
       "      <td>0.000000</td>\n",
       "    </tr>\n",
       "    <tr>\n",
       "      <th>max</th>\n",
       "      <td>90.000000</td>\n",
       "      <td>8.000000</td>\n",
       "      <td>2295.000000</td>\n",
       "      <td>12.000000</td>\n",
       "      <td>50.000000</td>\n",
       "      <td>2752.000000</td>\n",
       "      <td>3.000000</td>\n",
       "      <td>2.000000</td>\n",
       "      <td>1.000000</td>\n",
       "    </tr>\n",
       "  </tbody>\n",
       "</table>\n",
       "</div>"
      ],
      "text/plain": [
       "            Price     Bedroom        Space        Room         Lot  \\\n",
       "count  156.000000  156.000000   146.000000  156.000000  146.000000   \n",
       "mean    56.474359    3.166667  1097.246575    6.500000   32.808219   \n",
       "std     12.875307    1.348037   462.540698    1.675247    8.457859   \n",
       "min     32.000000    1.000000   539.000000    4.000000   24.000000   \n",
       "25%     46.000000    2.000000   805.250000    5.000000   25.000000   \n",
       "50%     55.000000    3.000000   965.500000    6.000000   30.000000   \n",
       "75%     65.000000    4.000000  1220.500000    7.000000   37.000000   \n",
       "max     90.000000    8.000000  2295.000000   12.000000   50.000000   \n",
       "\n",
       "               Tax    Bathroom      Garage   Condition  \n",
       "count   147.000000  156.000000  156.000000  156.000000  \n",
       "mean    911.707483    1.480769    0.846154    0.230769  \n",
       "std     443.263430    0.529408    0.808454    0.422682  \n",
       "min     418.000000    1.000000    0.000000    0.000000  \n",
       "25%     652.500000    1.000000    0.000000    0.000000  \n",
       "50%     821.000000    1.500000    1.000000    0.000000  \n",
       "75%    1012.500000    2.000000    1.500000    0.000000  \n",
       "max    2752.000000    3.000000    2.000000    1.000000  "
      ]
     },
     "execution_count": 13,
     "metadata": {},
     "output_type": "execute_result"
    }
   ],
   "source": [
    "data.describe()"
   ]
  },
  {
   "cell_type": "code",
   "execution_count": 14,
   "id": "frank-simple",
   "metadata": {},
   "outputs": [
    {
     "data": {
      "text/plain": [
       "Price         1\n",
       "Bedroom       1\n",
       "Space        11\n",
       "Room          1\n",
       "Lot          11\n",
       "Tax          10\n",
       "Bathroom      1\n",
       "Garage        1\n",
       "Condition     1\n",
       "dtype: int64"
      ]
     },
     "execution_count": 14,
     "metadata": {},
     "output_type": "execute_result"
    }
   ],
   "source": [
    "data.isna().sum()"
   ]
  },
  {
   "cell_type": "code",
   "execution_count": 67,
   "id": "interracial-argument",
   "metadata": {},
   "outputs": [
    {
     "name": "stdout",
     "output_type": "stream",
     "text": [
      "   Price  Bedroom   Space  Room   Lot     Tax  Bathroom  Garage  Condition\n",
      "0   53.0      2.0   967.0   5.0  39.0   652.0       1.5     0.0        0.0\n",
      "1   55.0      2.0   815.0   5.0  33.0  1000.0       1.0     2.0        1.0\n",
      "2   56.0      3.0   900.0   5.0  35.0   897.0       1.5     1.0        0.0\n",
      "3   58.0      3.0  1007.0   6.0  24.0   964.0       1.5     2.0        0.0\n",
      "4   64.0      3.0  1100.0   7.0  50.0  1099.0       1.5     1.5        0.0\n",
      "<bound method DataFrame.corr of      Price  Bedroom   Space  Room   Lot     Tax  Bathroom  Garage  Condition\n",
      "0     53.0      2.0   967.0   5.0  39.0   652.0       1.5     0.0        0.0\n",
      "1     55.0      2.0   815.0   5.0  33.0  1000.0       1.0     2.0        1.0\n",
      "2     56.0      3.0   900.0   5.0  35.0   897.0       1.5     1.0        0.0\n",
      "3     58.0      3.0  1007.0   6.0  24.0   964.0       1.5     2.0        0.0\n",
      "4     64.0      3.0  1100.0   7.0  50.0  1099.0       1.5     1.5        0.0\n",
      "..     ...      ...     ...   ...   ...     ...       ...     ...        ...\n",
      "152   44.0      3.0   820.0   5.0  27.0     NaN       1.0     0.0        1.0\n",
      "153   43.0      2.0   593.0   4.0  30.0   465.0       2.0     1.0        0.0\n",
      "154   53.0      3.0   716.0   6.0  30.0   585.0       1.0     2.0        1.0\n",
      "155   62.0      4.0   951.0   7.0  30.0   895.0       2.0     1.0        0.0\n",
      "156    NaN      NaN     NaN   NaN   NaN     NaN       NaN     NaN        NaN\n",
      "\n",
      "[157 rows x 9 columns]>\n"
     ]
    }
   ],
   "source": [
    "print(data.head())\n",
    "print(data.corr)"
   ]
  },
  {
   "cell_type": "code",
   "execution_count": 76,
   "id": "informed-graph",
   "metadata": {},
   "outputs": [
    {
     "data": {
      "text/plain": [
       "dict"
      ]
     },
     "execution_count": 76,
     "metadata": {},
     "output_type": "execute_result"
    }
   ],
   "source": [
    "\n",
    "statistics = data[(data['Bedroom']==4) & (data['Bathroom']==2)].agg({\n",
    "    'Tax' : ['mean','std','median','min','max']\n",
    "}).values.tolist()\n",
    "data_frame = data[data['Space']>800].sort_values(by=['Price'], ascending=False)\n",
    "number_of_observations = data[data['Lot']>=data['Lot'].quantile(0.75)].corr()\n",
    "\n",
    "summary_dict = {\n",
    "    'statistics' : statistics,\n",
    "    'data_frame' : data_frame,\n",
    "    'number_of_observations' : number_of_observations\n",
    "}\n",
    "type(summary_dict)"
   ]
  },
  {
   "cell_type": "code",
   "execution_count": 80,
   "id": "according-january",
   "metadata": {},
   "outputs": [],
   "source": [
    "def __listwise_deletion(data: pd.DataFrame):\n",
    "        return data.dropna()"
   ]
  },
  {
   "cell_type": "code",
   "execution_count": 81,
   "id": "joint-thong",
   "metadata": {},
   "outputs": [],
   "source": [
    "# _data= data.apply(__listwise_deletion)\n",
    "_data = __listwise_deletion(data)"
   ]
  },
  {
   "cell_type": "code",
   "execution_count": 82,
   "id": "northern-wesley",
   "metadata": {},
   "outputs": [
    {
     "data": {
      "text/plain": [
       "Price        0\n",
       "Bedroom      0\n",
       "Space        0\n",
       "Room         0\n",
       "Lot          0\n",
       "Tax          0\n",
       "Bathroom     0\n",
       "Garage       0\n",
       "Condition    0\n",
       "dtype: int64"
      ]
     },
     "execution_count": 82,
     "metadata": {},
     "output_type": "execute_result"
    }
   ],
   "source": [
    "_data.isna().sum()"
   ]
  },
  {
   "cell_type": "code",
   "execution_count": 73,
   "id": "weird-length",
   "metadata": {},
   "outputs": [
    {
     "name": "stdout",
     "output_type": "stream",
     "text": [
      "     Price  Bedroom   Space  Room   Lot     Tax  Bathroom  Garage  Condition\n",
      "0     53.0      2.0   967.0   5.0  39.0   652.0       1.5     0.0        0.0\n",
      "4     64.0      3.0  1100.0   7.0  50.0  1099.0       1.5     1.5        0.0\n",
      "9     82.0      4.0  2104.0   9.0  40.0  1038.0       2.5     1.0        1.0\n",
      "10    85.0      8.0  2240.0  12.0  50.0  1200.0       3.0     2.0        0.0\n",
      "14    56.0      4.0  1325.0   8.0  50.0  1287.0       1.5     0.0        0.0\n",
      "17    64.0      4.0  1226.0   8.0  37.0     NaN       2.0     2.0        0.0\n",
      "21    43.0      3.0   596.0   5.0  50.0     NaN       1.0     0.0        0.0\n",
      "26    54.0      1.0   964.0   5.0  39.0   621.0       1.5     0.0        0.0\n",
      "30    62.0      3.0  1124.0   7.0  50.0  1129.0       1.5     1.5        0.0\n",
      "35    81.0      5.0  2173.0   9.0  40.0  1074.0       2.5     1.0        1.0\n",
      "36    88.0      8.0  2278.0  12.0  50.0  1183.0       3.0     2.0        0.0\n",
      "40    55.0      5.0  1255.0   8.0  50.0  1278.0       1.5     0.0        0.0\n",
      "43    65.0      4.0  1250.0   8.0  37.0   554.0       2.0     2.0        0.0\n",
      "47    42.0      2.0   539.0   5.0  50.0   721.0       1.0     0.0        0.0\n",
      "52    50.0      2.0     NaN   5.0  39.0   687.0       1.5     0.0        0.0\n",
      "56    65.0      2.0  1145.0   7.0  50.0     NaN       1.5     1.5        0.0\n",
      "61    84.0      3.0  2171.0   9.0  40.0  1075.0       2.5     1.0        1.0\n",
      "62    85.0      7.0  2295.0  12.0  50.0  1233.0       3.0     2.0        0.0\n",
      "66    55.0      3.0  1379.0   8.0  50.0  1309.0       1.5     0.0        0.0\n",
      "69    66.0      4.0  1243.0   8.0  37.0   591.0       2.0     2.0        0.0\n",
      "78    54.0      2.0   944.0   5.0  39.0   684.0       1.5     0.0        0.0\n",
      "82    66.0      3.0  1080.0   7.0  50.0  1127.0       1.5     1.5        0.0\n",
      "87    80.0      4.0  2045.0   9.0  40.0  1045.0       2.5     1.0        1.0\n",
      "88    88.0      8.0  2228.0  12.0  50.0  1208.0       3.0     2.0        0.0\n",
      "92    58.0      4.0  1382.0   8.0  50.0  1267.0       1.5     0.0        0.0\n",
      "95    61.0      4.0     NaN   8.0  37.0   581.0       2.0     2.0        0.0\n",
      "99    46.0      3.0   643.0   5.0  50.0   756.0       1.0     0.0        0.0\n",
      "104   55.0      1.0   978.0   5.0  39.0   653.0       1.5     0.0        0.0\n",
      "108   63.0      3.0  1178.0   7.0  50.0  1124.0       1.5     1.5        0.0\n",
      "113   81.0      5.0  2170.0   9.0  40.0  1065.0       2.5     1.0        1.0\n",
      "114   90.0      8.0  2293.0  12.0  50.0  1181.0       3.0     2.0        0.0\n",
      "118   57.0      5.0  1198.0   8.0  50.0  1244.0       1.5     0.0        0.0\n",
      "121   68.0      4.0  1274.0   8.0  37.0     NaN       2.0     2.0        0.0\n",
      "125   39.0      2.0   563.0   5.0  50.0   755.0       1.0     0.0        0.0\n",
      "139   85.0      3.0  2240.0   9.0  40.0  1101.0       2.5     1.0        1.0\n",
      "140   88.0      7.0  2277.0  12.0  50.0  1248.0       3.0     2.0        0.0\n",
      "144   55.0      3.0  1438.0   8.0  50.0  1294.0       1.5     0.0        0.0\n",
      "147   66.0      4.0     NaN   8.0  37.0   565.0       2.0     2.0        0.0\n",
      "151   42.0      3.0   585.0   5.0  50.0   713.0       1.0     0.0        0.0\n"
     ]
    }
   ],
   "source": [
    "print(data[data['Lot']>=data['Lot'].quantile(0.75)])"
   ]
  },
  {
   "cell_type": "code",
   "execution_count": 75,
   "id": "thermal-candle",
   "metadata": {},
   "outputs": [
    {
     "name": "stdout",
     "output_type": "stream",
     "text": [
      "              Price   Bedroom     Space      Room       Lot       Tax  \\\n",
      "Price      1.000000  0.726181  0.956511  0.891947 -0.106402  0.460821   \n",
      "Bedroom    0.726181  1.000000  0.740771  0.912425  0.279740  0.537157   \n",
      "Space      0.956511  0.740771  1.000000  0.913215 -0.098475  0.570349   \n",
      "Room       0.891947  0.912425  0.913215  1.000000  0.161101  0.621704   \n",
      "Lot       -0.106402  0.279740 -0.098475  0.161101  1.000000  0.662384   \n",
      "Tax        0.460821  0.537157  0.570349  0.621704  0.662384  1.000000   \n",
      "Bathroom   0.961318  0.797685  0.953760  0.916008 -0.156342  0.370737   \n",
      "Garage     0.712920  0.595226  0.568447  0.677677 -0.158385  0.102426   \n",
      "Condition  0.487804  0.017388  0.538067  0.214395 -0.378353  0.147694   \n",
      "\n",
      "           Bathroom    Garage  Condition  \n",
      "Price      0.961318  0.712920   0.487804  \n",
      "Bedroom    0.797685  0.595226   0.017388  \n",
      "Space      0.953760  0.568447   0.538067  \n",
      "Room       0.916008  0.677677   0.214395  \n",
      "Lot       -0.156342 -0.158385  -0.378353  \n",
      "Tax        0.370737  0.102426   0.147694  \n",
      "Bathroom   1.000000  0.696558   0.400018  \n",
      "Garage     0.696558  1.000000   0.018956  \n",
      "Condition  0.400018  0.018956   1.000000  \n"
     ]
    }
   ],
   "source": [
    "print(data[data['Lot']>=data['Lot'].quantile(0.75)].corr())"
   ]
  },
  {
   "cell_type": "code",
   "execution_count": 65,
   "id": "adverse-yukon",
   "metadata": {},
   "outputs": [
    {
     "name": "stdout",
     "output_type": "stream",
     "text": [
      "{'statistics': [[791.2], [190.37670258959966], [890.0], [554.0], [975.0]], 'data_frame':      Price  Bedroom   Space  Room   Lot     Tax  Bathroom  Garage  Condition\n",
      "114   90.0      8.0  2293.0  12.0  50.0  1181.0       3.0     2.0        0.0\n",
      "140   88.0      7.0  2277.0  12.0  50.0  1248.0       3.0     2.0        0.0\n",
      "36    88.0      8.0  2278.0  12.0  50.0  1183.0       3.0     2.0        0.0\n",
      "88    88.0      8.0  2228.0  12.0  50.0  1208.0       3.0     2.0        0.0\n",
      "62    85.0      7.0  2295.0  12.0  50.0  1233.0       3.0     2.0        0.0\n",
      "..     ...      ...     ...   ...   ...     ...       ...     ...        ...\n",
      "45    35.0      5.0  1142.0   7.0  25.0   543.0       1.5     0.0        0.0\n",
      "19    35.0      4.0  1137.0   7.0  25.0   561.0       1.5     0.0        0.0\n",
      "97    34.0      4.0  1087.0   7.0  25.0   584.0       1.5     0.0        0.0\n",
      "71    34.0      4.0  1095.0   7.0  25.0   530.0       1.5     0.0        0.0\n",
      "149   32.0      4.0  1065.0   7.0  25.0   492.0       1.5     0.0        0.0\n",
      "\n",
      "[110 rows x 9 columns]}\n"
     ]
    }
   ],
   "source": [
    "print(summary_dict)"
   ]
  },
  {
   "cell_type": "code",
   "execution_count": null,
   "id": "juvenile-macintosh",
   "metadata": {},
   "outputs": [],
   "source": []
  }
 ],
 "metadata": {
  "kernelspec": {
   "display_name": "Python 3",
   "language": "python",
   "name": "python3"
  },
  "language_info": {
   "codemirror_mode": {
    "name": "ipython",
    "version": 3
   },
   "file_extension": ".py",
   "mimetype": "text/x-python",
   "name": "python",
   "nbconvert_exporter": "python",
   "pygments_lexer": "ipython3",
   "version": "3.7.3"
  }
 },
 "nbformat": 4,
 "nbformat_minor": 5
}
