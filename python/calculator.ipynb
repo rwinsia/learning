{
 "cells": [
  {
   "cell_type": "code",
   "execution_count": 23,
   "id": "77a2445c",
   "metadata": {},
   "outputs": [],
   "source": [
    "import re "
   ]
  },
  {
   "cell_type": "markdown",
   "id": "ca26e20e",
   "metadata": {},
   "source": [
    "Input"
   ]
  },
  {
   "cell_type": "markdown",
   "id": "e5b9b79b",
   "metadata": {},
   "source": [
    "Input & Turn them into list\n",
    "1. normal way\n",
    "2. using regex : \n",
    "    1. any digits, that may or may not have decimals, that ends at a non-digit or the end of the string.\n",
    "    2. one of the operators +,-,/,*"
   ]
  },
  {
   "cell_type": "code",
   "execution_count": 49,
   "id": "e4ead266",
   "metadata": {},
   "outputs": [
    {
     "name": "stdout",
     "output_type": "stream",
     "text": [
      "['-', '13', '+', '71287', '+', '6']\n"
     ]
    }
   ],
   "source": [
    "# inp = input(\"Enter : \")\n",
    "inp = \"-13+71287+6\"\n",
    "\n",
    "# 1\n",
    "# listchar = list(inp)\n",
    "\n",
    "# 2\n",
    "listchar = re.findall(r'((?:(?:\\d+\\.?\\d*)(?=\\D|\\b))|(?:[+-\\/*]))', inp) # not checking negative number\n",
    "\n",
    "# listchar = re.findall(r'((?:(?:-?\\d+\\.?\\d*)(?=\\D|\\b))|(?:[+-\\/*]))', inp) # checking negative number\n",
    "\n",
    "print(listchar)"
   ]
  },
  {
   "cell_type": "markdown",
   "id": "6ac5460b",
   "metadata": {},
   "source": [
    "Create function to validate the number and arhitmatic operator in input"
   ]
  },
  {
   "cell_type": "code",
   "execution_count": 50,
   "id": "5ff2f4a0",
   "metadata": {},
   "outputs": [
    {
     "name": "stdout",
     "output_type": "stream",
     "text": [
      "6\n",
      "input valid\n"
     ]
    }
   ],
   "source": [
    "def validate_input(inp):\n",
    "    inp_len = len(inp)\n",
    "    \n",
    "    print(inp_len)\n",
    "    \n",
    "    for i in range(inp_len):\n",
    "        #check if char is numeric or arithmatic operation\n",
    "        if(not inp[i].isdigit() and not inp[i] in ['+', '-', '*', '/', '//', '%', '**']):\n",
    "            print(\"String input must be numeric or arithmatic operator\")\n",
    "            return False\n",
    "        #check if last char is digit\n",
    "        if i == inp_len-1 :\n",
    "            if (not inp[i].isdigit()) :\n",
    "                print(\"String input must end with number.\")\n",
    "                return False\n",
    "        else :\n",
    "            #check if there are two operator together\n",
    "            if (\n",
    "                not (inp[i].isdigit() and  inp[i+1] in ['+', '-', '*', '/', '//', '%', '**']) \n",
    "                and \n",
    "                not (inp[i+1].isdigit() and  inp[i] in ['+', '-', '*', '/', '//', '%', '**'])\n",
    "                ) :\n",
    "                print(\"String input can't have two operator together\")\n",
    "                return False\n",
    "    return True\n",
    "\n",
    "# call said function\n",
    "if (validate_input(listchar)):\n",
    "    print(\"input valid\")"
   ]
  },
  {
   "cell_type": "markdown",
   "id": "1334803b",
   "metadata": {},
   "source": [
    "Do the Calculation"
   ]
  },
  {
   "cell_type": "code",
   "execution_count": null,
   "id": "fe14c0b5",
   "metadata": {},
   "outputs": [],
   "source": []
  }
 ],
 "metadata": {
  "kernelspec": {
   "display_name": "base",
   "language": "python",
   "name": "python3"
  },
  "language_info": {
   "codemirror_mode": {
    "name": "ipython",
    "version": 3
   },
   "file_extension": ".py",
   "mimetype": "text/x-python",
   "name": "python",
   "nbconvert_exporter": "python",
   "pygments_lexer": "ipython3",
   "version": "3.12.7"
  }
 },
 "nbformat": 4,
 "nbformat_minor": 5
}
