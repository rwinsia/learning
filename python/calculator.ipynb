{
 "cells": [
  {
   "cell_type": "code",
   "execution_count": 146,
   "id": "77a2445c",
   "metadata": {},
   "outputs": [],
   "source": [
    "import re \n",
    "list_opt = ['+', '-', '*', '/']#, '//', '%', '**']\n",
    "prioritized_opt = ['*','/']"
   ]
  },
  {
   "cell_type": "markdown",
   "id": "ca26e20e",
   "metadata": {},
   "source": [
    "Input"
   ]
  },
  {
   "cell_type": "markdown",
   "id": "e5b9b79b",
   "metadata": {},
   "source": [
    "Input & Turn them into list\n",
    "1. normal way\n",
    "2. using regex : \n",
    "    1. any digits, that may or may not have decimals, that ends at a non-digit or the end of the string.\n",
    "    2. one of the operators +,-,/,*"
   ]
  },
  {
   "cell_type": "code",
   "execution_count": 127,
   "id": "e4ead266",
   "metadata": {},
   "outputs": [
    {
     "name": "stdout",
     "output_type": "stream",
     "text": [
      "['13', '+', '71287', '+', '300', '-', '86', '*', '65', '/', '34', '-', '7']\n"
     ]
    }
   ],
   "source": [
    "# inp = input(\"Enter : \")\n",
    "inp = \"13+71287+300-86*65/34-7\"\n",
    "\n",
    "# 1\n",
    "# listchar = list(inp)\n",
    "\n",
    "# 2\n",
    "listchar = re.findall(r'((?:(?:\\d+\\.?\\d*)(?=\\D|\\b))|(?:[+-\\/*]))', inp) # not checking negative number\n",
    "\n",
    "# listchar = re.findall(r'((?:(?:-?\\d+\\.?\\d*)(?=\\D|\\b))|(?:[+-\\/*]))', inp) # checking negative number\n",
    "\n",
    "print(listchar)"
   ]
  },
  {
   "cell_type": "markdown",
   "id": "6ac5460b",
   "metadata": {},
   "source": [
    "Create function to validate the number and arhitmatic operator in input"
   ]
  },
  {
   "cell_type": "code",
   "execution_count": 128,
   "id": "5ff2f4a0",
   "metadata": {},
   "outputs": [],
   "source": [
    "def validate_input(inp):\n",
    "    inp_len = len(inp)\n",
    "    \n",
    "    print(\"lenth list:\",inp_len)\n",
    "    \n",
    "    for i in range(inp_len):\n",
    "        #check if char is numeric or arithmatic operation\n",
    "        if(not inp[i].isdigit() and not inp[i] in list_opt):\n",
    "            print(\"String input must be numeric or arithmatic operator\")\n",
    "            return False\n",
    "        #check if last char is digit\n",
    "        if i == 0 : \n",
    "            if (not inp[i].isdigit()) :\n",
    "                print(\"String input must start with number.\")\n",
    "                return False\n",
    "        elif i == inp_len-1 :\n",
    "            if (not inp[i].isdigit()) :\n",
    "                print(\"String input must end with number.\")\n",
    "                return False\n",
    "        else :\n",
    "            #check if there are two operator together\n",
    "            if (\n",
    "                not (inp[i].isdigit() and  inp[i+1] in list_opt) \n",
    "                and \n",
    "                not (inp[i+1].isdigit() and  inp[i] in list_opt)\n",
    "                ) :\n",
    "                print(\"String input can't have two operator next to each other\")\n",
    "                return False\n",
    "    return True\n",
    "\n"
   ]
  },
  {
   "cell_type": "markdown",
   "id": "1334803b",
   "metadata": {},
   "source": [
    "Do the Calculation"
   ]
  },
  {
   "cell_type": "code",
   "execution_count": 155,
   "id": "fe14c0b5",
   "metadata": {},
   "outputs": [],
   "source": [
    "# function to operate two numbers\n",
    "def arth_opt(nbr1,nbr2,oprt):\n",
    "    match oprt:\n",
    "        case \"+\":\n",
    "            print(str(nbr1),\" + \",str(nbr2),\" : \",str(nbr1+nbr2))\n",
    "            return nbr1+nbr2\n",
    "        case \"/\":\n",
    "            print(str(nbr1),\" / \",str(nbr2),\" : \",str(nbr1/nbr2))\n",
    "            return nbr1/nbr2\n",
    "        case \"*\":\n",
    "            print(str(nbr1),\" * \",str(nbr2),\" : \",str(nbr1*nbr2))\n",
    "            return nbr1*nbr2\n",
    "        case \"-\":\n",
    "            print(str(nbr1),\" - \",str(nbr2),\" : \",str(nbr1-nbr2))\n",
    "            return nbr1-nbr2\n",
    "        \n",
    "\n",
    "def calc(inpt):\n",
    "    print(inpt)\n",
    "    if(len(inpt)<=3):\n",
    "        # print(\"Final 3 : \",inpt[0],\",\",inpt[2],\",\",inpt[1])\n",
    "        return arth_opt(int(inpt[0]),int(inpt[2]),inpt[1])\n",
    "    else :\n",
    "        first_cal = arth_opt(int(inpt[0]),int(inpt[2]),inpt[1])\n",
    "        new_list = inpt[3:]\n",
    "        new_list.insert(0,first_cal)\n",
    "        # print(\"current_list : \",new_list)\n",
    "        return calc(new_list)\n"
   ]
  },
  {
   "cell_type": "code",
   "execution_count": 156,
   "id": "3d27b3fb",
   "metadata": {},
   "outputs": [
    {
     "name": "stdout",
     "output_type": "stream",
     "text": [
      "lenth list: 13\n",
      "['13', '+', '71287', '+', '300', '-', '86', '*', '65', '/', '34', '-', '7']\n",
      "13  +  71287  :  71300\n",
      "[71300, '+', '300', '-', '86', '*', '65', '/', '34', '-', '7']\n",
      "71300  +  300  :  71600\n",
      "[71600, '-', '86', '*', '65', '/', '34', '-', '7']\n",
      "71600  -  86  :  71514\n",
      "[71514, '*', '65', '/', '34', '-', '7']\n",
      "71514  *  65  :  4648410\n",
      "[4648410, '/', '34', '-', '7']\n",
      "4648410  /  34  :  136717.9411764706\n",
      "[136717.9411764706, '-', '7']\n",
      "136717  -  7  :  136710\n",
      "136710\n"
     ]
    }
   ],
   "source": [
    "# call said function\n",
    "if (validate_input(listchar)):\n",
    "    print(str(calc(listchar)))"
   ]
  },
  {
   "cell_type": "markdown",
   "id": "b1115cd3",
   "metadata": {},
   "source": [
    "idea for prioritizing * and / <br />\n",
    "check which index they are at, do calc for the number involved.<br />\n",
    "after its done, do normal calculation <br />"
   ]
  },
  {
   "cell_type": "code",
   "execution_count": 158,
   "id": "cbd38606",
   "metadata": {},
   "outputs": [
    {
     "name": "stdout",
     "output_type": "stream",
     "text": [
      "['13', '+', '71287', '+', '300', '-', '86', '*', '65', '/', '34', '-', '7']\n",
      "86  *  65  :  5590\n",
      "['13', '+', '71287', '+', '300', '-', 5590, '/', '34', '-', '7']\n",
      "5590  /  34  :  164.41176470588235\n",
      "['13', '+', '71287', '+', '300', '-', 164.41176470588235, '-', '7']\n",
      "13  +  71287  :  71300\n",
      "[71300, '+', '300', '-', 164.41176470588235, '-', '7']\n",
      "71300  +  300  :  71600\n",
      "[71600, '-', 164.41176470588235, '-', '7']\n",
      "71600  -  164  :  71436\n",
      "[71436, '-', '7']\n",
      "71436  -  7  :  71429\n",
      "71429\n"
     ]
    }
   ],
   "source": [
    "def prioritized_calc(inpt):\n",
    "    \n",
    "    for i in range(len(inpt)):\n",
    "        if(inpt[i] in prioritized_opt):\n",
    "            print(inpt)\n",
    "            current_calc = arth_opt(int(inpt[i-1]),int(inpt[i+1]),inpt[i])\n",
    "            new_list1 = inpt[:i-1]\n",
    "            new_list1.insert(i,current_calc)\n",
    "            new_list2 = inpt[i+2:]\n",
    "            new_list = new_list1+new_list2\n",
    "            return prioritized_calc(new_list)\n",
    "        elif i==len(inpt)-1:\n",
    "            return calc(inpt)\n",
    "        \n",
    "print(prioritized_calc(listchar))"
   ]
  },
  {
   "cell_type": "code",
   "execution_count": null,
   "id": "37a41a4d",
   "metadata": {},
   "outputs": [],
   "source": []
  }
 ],
 "metadata": {
  "kernelspec": {
   "display_name": "base",
   "language": "python",
   "name": "python3"
  },
  "language_info": {
   "codemirror_mode": {
    "name": "ipython",
    "version": 3
   },
   "file_extension": ".py",
   "mimetype": "text/x-python",
   "name": "python",
   "nbconvert_exporter": "python",
   "pygments_lexer": "ipython3",
   "version": "3.12.7"
  }
 },
 "nbformat": 4,
 "nbformat_minor": 5
}
